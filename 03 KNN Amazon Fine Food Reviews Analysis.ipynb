{
 "cells": [
  {
   "cell_type": "markdown",
   "metadata": {},
   "source": [
    "# Amazon Fine Food Reviews Analysis\n",
    "\n",
    "\n",
    "Data Source: https://www.kaggle.com/snap/amazon-fine-food-reviews <br>\n",
    "\n",
    "EDA: https://nycdatascience.com/blog/student-works/amazon-fine-foods-visualization/\n",
    "\n",
    "\n",
    "The Amazon Fine Food Reviews dataset consists of reviews of fine foods from Amazon.<br>\n",
    "\n",
    "Number of reviews: 568,454<br>\n",
    "Number of users: 256,059<br>\n",
    "Number of products: 74,258<br>\n",
    "Timespan: Oct 1999 - Oct 2012<br>\n",
    "Number of Attributes/Columns in data: 10 \n",
    "\n",
    "Attribute Information:\n",
    "\n",
    "1. Id\n",
    "2. ProductId - unique identifier for the product\n",
    "3. UserId - unqiue identifier for the user\n",
    "4. ProfileName\n",
    "5. HelpfulnessNumerator - number of users who found the review helpful\n",
    "6. HelpfulnessDenominator - number of users who indicated whether they found the review helpful or not\n",
    "7. Score - rating between 1 and 5\n",
    "8. Time - timestamp for the review\n",
    "9. Summary - brief summary of the review\n",
    "10. Text - text of the review\n",
    "\n",
    "\n",
    "#### Objective:\n",
    "Given a review, determine whether the review is positive (rating of 4 or 5) or negative (rating of 1 or 2).\n",
    "\n",
    "<br>\n",
    "[Q] How to determine if a review is positive or negative?<br>\n",
    "<br> \n",
    "[Ans] We could use Score/Rating. A rating of 4 or 5 can be cosnidered as a positive review. A rating of 1 or 2 can be considered as negative one. A review of rating 3 is considered nuetral and such reviews are ignored from our analysis. This is an approximate and proxy way of determining the polarity (positivity/negativity) of a review.\n",
    "\n",
    "\n"
   ]
  },
  {
   "cell_type": "markdown",
   "metadata": {},
   "source": [
    "# [1]. Reading Data"
   ]
  },
  {
   "cell_type": "markdown",
   "metadata": {},
   "source": [
    "## [1.1] Loading the data\n",
    "\n",
    "The dataset is available in two forms\n",
    "1. .csv file\n",
    "2. SQLite Database\n",
    "\n",
    "In order to load the data, We have used the SQLITE dataset as it is easier to query the data and visualise the data efficiently.\n",
    "<br> \n",
    "\n",
    "Here as we only want to get the global sentiment of the recommendations (positive or negative), we will purposefully ignore all Scores equal to 3. If the score is above 3, then the recommendation wil be set to \"positive\". Otherwise, it will be set to \"negative\"."
   ]
  },
  {
   "cell_type": "code",
   "execution_count": 194,
   "metadata": {},
   "outputs": [],
   "source": [
    "%matplotlib inline\n",
    "import warnings\n",
    "warnings.filterwarnings(\"ignore\")\n",
    "\n",
    "\n",
    "import sqlite3\n",
    "import pandas as pd\n",
    "import numpy as np\n",
    "import nltk\n",
    "import string\n",
    "import matplotlib.pyplot as plt\n",
    "import seaborn as sns\n",
    "from sklearn.feature_extraction.text import TfidfTransformer\n",
    "from sklearn.feature_extraction.text import TfidfVectorizer\n",
    "\n",
    "from sklearn.feature_extraction.text import CountVectorizer\n",
    "from sklearn.metrics import confusion_matrix\n",
    "from sklearn import metrics\n",
    "from sklearn.metrics import roc_curve, auc\n",
    "from nltk.stem.porter import PorterStemmer\n",
    "\n",
    "import re\n",
    "# Tutorial about Python regular expressions: https://pymotw.com/2/re/\n",
    "import string\n",
    "from nltk.corpus import stopwords\n",
    "from nltk.stem import PorterStemmer\n",
    "from nltk.stem.wordnet import WordNetLemmatizer\n",
    "\n",
    "from gensim.models import Word2Vec\n",
    "from gensim.models import KeyedVectors\n",
    "import pickle\n",
    "\n",
    "from tqdm import tqdm\n",
    "import os\n",
    "\n",
    "# importing Cross validation libs\n",
    "from sklearn.model_selection import train_test_split\n",
    "from sklearn.model_selection import cross_val_score\n",
    "from sklearn import model_selection\n",
    "from sklearn.neighbors import KNeighborsClassifier\n",
    "from sklearn.metrics import accuracy_score\n",
    "from sklearn.utils import class_weight\n",
    "\n",
    "# Python script for confusion matrix creation. \n",
    "from sklearn.metrics import confusion_matrix \n",
    "from sklearn.metrics import accuracy_score \n",
    "from sklearn.metrics import classification_report \n",
    "# ROC , AUC curve\n",
    "# roc curve and auc\n",
    "from sklearn.datasets import make_classification\n",
    "from sklearn.metrics import roc_curve\n",
    "from sklearn.metrics import roc_auc_score\n",
    "from matplotlib import pyplot\n",
    "from sklearn.metrics import roc_curve, auc\n",
    "# kFold\n",
    "from sklearn.model_selection import KFold\n",
    "\n",
    "from sklearn.model_selection import GridSearchCV\n",
    "\n",
    "import seaborn as sns\n",
    "\n",
    "from sklearn.model_selection import TimeSeriesSplit\n",
    "from sklearn.model_selection import RandomizedSearchCV\n",
    "from sklearn.metrics import classification_report\n",
    "# https://scikit-learn.org/stable/modules/generated/sklearn.model_selection.train_test_split.html\n",
    "# https://scikit-learn.org/stable/modules/generated/sklearn.model_selection.KFold.html\n",
    "# https://scikit-learn.org/stable/modules/generated/sklearn.metrics.roc_curve.html\n",
    "from sklearn.metrics import f1_score,recall_score,precision_score\n",
    "\n",
    "import os\n",
    "from joblib import dump, load"
   ]
  },
  {
   "cell_type": "code",
   "execution_count": 195,
   "metadata": {},
   "outputs": [
    {
     "name": "stdout",
     "output_type": "stream",
     "text": [
      "Number of data points in our data (100000, 10)\n"
     ]
    },
    {
     "data": {
      "text/html": [
       "<div>\n",
       "<style scoped>\n",
       "    .dataframe tbody tr th:only-of-type {\n",
       "        vertical-align: middle;\n",
       "    }\n",
       "\n",
       "    .dataframe tbody tr th {\n",
       "        vertical-align: top;\n",
       "    }\n",
       "\n",
       "    .dataframe thead th {\n",
       "        text-align: right;\n",
       "    }\n",
       "</style>\n",
       "<table border=\"1\" class=\"dataframe\">\n",
       "  <thead>\n",
       "    <tr style=\"text-align: right;\">\n",
       "      <th></th>\n",
       "      <th>Id</th>\n",
       "      <th>ProductId</th>\n",
       "      <th>UserId</th>\n",
       "      <th>ProfileName</th>\n",
       "      <th>HelpfulnessNumerator</th>\n",
       "      <th>HelpfulnessDenominator</th>\n",
       "      <th>Score</th>\n",
       "      <th>Time</th>\n",
       "      <th>Summary</th>\n",
       "      <th>Text</th>\n",
       "    </tr>\n",
       "  </thead>\n",
       "  <tbody>\n",
       "    <tr>\n",
       "      <th>0</th>\n",
       "      <td>1</td>\n",
       "      <td>B001E4KFG0</td>\n",
       "      <td>A3SGXH7AUHU8GW</td>\n",
       "      <td>delmartian</td>\n",
       "      <td>1</td>\n",
       "      <td>1</td>\n",
       "      <td>1</td>\n",
       "      <td>1303862400</td>\n",
       "      <td>Good Quality Dog Food</td>\n",
       "      <td>I have bought several of the Vitality canned d...</td>\n",
       "    </tr>\n",
       "    <tr>\n",
       "      <th>1</th>\n",
       "      <td>2</td>\n",
       "      <td>B00813GRG4</td>\n",
       "      <td>A1D87F6ZCVE5NK</td>\n",
       "      <td>dll pa</td>\n",
       "      <td>0</td>\n",
       "      <td>0</td>\n",
       "      <td>0</td>\n",
       "      <td>1346976000</td>\n",
       "      <td>Not as Advertised</td>\n",
       "      <td>Product arrived labeled as Jumbo Salted Peanut...</td>\n",
       "    </tr>\n",
       "    <tr>\n",
       "      <th>2</th>\n",
       "      <td>3</td>\n",
       "      <td>B000LQOCH0</td>\n",
       "      <td>ABXLMWJIXXAIN</td>\n",
       "      <td>Natalia Corres \"Natalia Corres\"</td>\n",
       "      <td>1</td>\n",
       "      <td>1</td>\n",
       "      <td>1</td>\n",
       "      <td>1219017600</td>\n",
       "      <td>\"Delight\" says it all</td>\n",
       "      <td>This is a confection that has been around a fe...</td>\n",
       "    </tr>\n",
       "  </tbody>\n",
       "</table>\n",
       "</div>"
      ],
      "text/plain": [
       "   Id   ProductId          UserId                      ProfileName  \\\n",
       "0   1  B001E4KFG0  A3SGXH7AUHU8GW                       delmartian   \n",
       "1   2  B00813GRG4  A1D87F6ZCVE5NK                           dll pa   \n",
       "2   3  B000LQOCH0   ABXLMWJIXXAIN  Natalia Corres \"Natalia Corres\"   \n",
       "\n",
       "   HelpfulnessNumerator  HelpfulnessDenominator  Score        Time  \\\n",
       "0                     1                       1      1  1303862400   \n",
       "1                     0                       0      0  1346976000   \n",
       "2                     1                       1      1  1219017600   \n",
       "\n",
       "                 Summary                                               Text  \n",
       "0  Good Quality Dog Food  I have bought several of the Vitality canned d...  \n",
       "1      Not as Advertised  Product arrived labeled as Jumbo Salted Peanut...  \n",
       "2  \"Delight\" says it all  This is a confection that has been around a fe...  "
      ]
     },
     "execution_count": 195,
     "metadata": {},
     "output_type": "execute_result"
    }
   ],
   "source": [
    "# using SQLite Table to read data.\n",
    "con = sqlite3.connect(r'/home/pranay/ML datasource/amazon-fine-food-reviews/database.sqlite') \n",
    "\n",
    "# filtering only positive and negative reviews i.e. \n",
    "# not taking into consideration those reviews with Score=3\n",
    "# SELECT * FROM Reviews WHERE Score != 3 LIMIT 500000, will give top 500000 data points\n",
    "# you can change the number to any other number based on your computing power\n",
    "\n",
    "# filtered_data = pd.read_sql_query(\"\"\" SELECT * FROM Reviews WHERE Score != 3 LIMIT 500000\"\"\", con) \n",
    "# for tsne assignment you can take 5k data points\n",
    "\n",
    "filtered_data = pd.read_sql_query(\"\"\" SELECT * FROM Reviews WHERE Score != 3 LIMIT 100000\"\"\", con) \n",
    "\n",
    "# Give reviews with Score>3 a positive rating(1), and reviews with a score<3 a negative rating(0).\n",
    "def partition(x):\n",
    "    if x < 3:\n",
    "        return 0\n",
    "    return 1\n",
    "\n",
    "#changing reviews with score less than 3 to be positive and vice-versa\n",
    "actualScore = filtered_data['Score']\n",
    "positiveNegative = actualScore.map(partition) \n",
    "filtered_data['Score'] = positiveNegative\n",
    "print(\"Number of data points in our data\", filtered_data.shape)\n",
    "filtered_data.head(3)"
   ]
  },
  {
   "cell_type": "code",
   "execution_count": 196,
   "metadata": {},
   "outputs": [],
   "source": [
    "display = pd.read_sql_query(\"\"\"\n",
    "SELECT UserId, ProductId, ProfileName, Time, Score, Text, COUNT(*)\n",
    "FROM Reviews\n",
    "GROUP BY UserId\n",
    "HAVING COUNT(*)>1\n",
    "\"\"\", con)"
   ]
  },
  {
   "cell_type": "code",
   "execution_count": 197,
   "metadata": {
    "scrolled": true
   },
   "outputs": [
    {
     "name": "stdout",
     "output_type": "stream",
     "text": [
      "(80668, 7)\n"
     ]
    },
    {
     "data": {
      "text/html": [
       "<div>\n",
       "<style scoped>\n",
       "    .dataframe tbody tr th:only-of-type {\n",
       "        vertical-align: middle;\n",
       "    }\n",
       "\n",
       "    .dataframe tbody tr th {\n",
       "        vertical-align: top;\n",
       "    }\n",
       "\n",
       "    .dataframe thead th {\n",
       "        text-align: right;\n",
       "    }\n",
       "</style>\n",
       "<table border=\"1\" class=\"dataframe\">\n",
       "  <thead>\n",
       "    <tr style=\"text-align: right;\">\n",
       "      <th></th>\n",
       "      <th>UserId</th>\n",
       "      <th>ProductId</th>\n",
       "      <th>ProfileName</th>\n",
       "      <th>Time</th>\n",
       "      <th>Score</th>\n",
       "      <th>Text</th>\n",
       "      <th>COUNT(*)</th>\n",
       "    </tr>\n",
       "  </thead>\n",
       "  <tbody>\n",
       "    <tr>\n",
       "      <th>0</th>\n",
       "      <td>#oc-R115TNMSPFT9I7</td>\n",
       "      <td>B005ZBZLT4</td>\n",
       "      <td>Breyton</td>\n",
       "      <td>1331510400</td>\n",
       "      <td>2</td>\n",
       "      <td>Overall its just OK when considering the price...</td>\n",
       "      <td>2</td>\n",
       "    </tr>\n",
       "    <tr>\n",
       "      <th>1</th>\n",
       "      <td>#oc-R11D9D7SHXIJB9</td>\n",
       "      <td>B005HG9ESG</td>\n",
       "      <td>Louis E. Emory \"hoppy\"</td>\n",
       "      <td>1342396800</td>\n",
       "      <td>5</td>\n",
       "      <td>My wife has recurring extreme muscle spasms, u...</td>\n",
       "      <td>3</td>\n",
       "    </tr>\n",
       "    <tr>\n",
       "      <th>2</th>\n",
       "      <td>#oc-R11DNU2NBKQ23Z</td>\n",
       "      <td>B005ZBZLT4</td>\n",
       "      <td>Kim Cieszykowski</td>\n",
       "      <td>1348531200</td>\n",
       "      <td>1</td>\n",
       "      <td>This coffee is horrible and unfortunately not ...</td>\n",
       "      <td>2</td>\n",
       "    </tr>\n",
       "    <tr>\n",
       "      <th>3</th>\n",
       "      <td>#oc-R11O5J5ZVQE25C</td>\n",
       "      <td>B005HG9ESG</td>\n",
       "      <td>Penguin Chick</td>\n",
       "      <td>1346889600</td>\n",
       "      <td>5</td>\n",
       "      <td>This will be the bottle that you grab from the...</td>\n",
       "      <td>3</td>\n",
       "    </tr>\n",
       "    <tr>\n",
       "      <th>4</th>\n",
       "      <td>#oc-R12KPBODL2B5ZD</td>\n",
       "      <td>B007OSBEV0</td>\n",
       "      <td>Christopher P. Presta</td>\n",
       "      <td>1348617600</td>\n",
       "      <td>1</td>\n",
       "      <td>I didnt like this coffee. Instead of telling y...</td>\n",
       "      <td>2</td>\n",
       "    </tr>\n",
       "  </tbody>\n",
       "</table>\n",
       "</div>"
      ],
      "text/plain": [
       "               UserId   ProductId             ProfileName        Time  Score  \\\n",
       "0  #oc-R115TNMSPFT9I7  B005ZBZLT4                 Breyton  1331510400      2   \n",
       "1  #oc-R11D9D7SHXIJB9  B005HG9ESG  Louis E. Emory \"hoppy\"  1342396800      5   \n",
       "2  #oc-R11DNU2NBKQ23Z  B005ZBZLT4        Kim Cieszykowski  1348531200      1   \n",
       "3  #oc-R11O5J5ZVQE25C  B005HG9ESG           Penguin Chick  1346889600      5   \n",
       "4  #oc-R12KPBODL2B5ZD  B007OSBEV0   Christopher P. Presta  1348617600      1   \n",
       "\n",
       "                                                Text  COUNT(*)  \n",
       "0  Overall its just OK when considering the price...         2  \n",
       "1  My wife has recurring extreme muscle spasms, u...         3  \n",
       "2  This coffee is horrible and unfortunately not ...         2  \n",
       "3  This will be the bottle that you grab from the...         3  \n",
       "4  I didnt like this coffee. Instead of telling y...         2  "
      ]
     },
     "execution_count": 197,
     "metadata": {},
     "output_type": "execute_result"
    }
   ],
   "source": [
    "print(display.shape)\n",
    "display.head()"
   ]
  },
  {
   "cell_type": "code",
   "execution_count": 198,
   "metadata": {},
   "outputs": [
    {
     "data": {
      "text/html": [
       "<div>\n",
       "<style scoped>\n",
       "    .dataframe tbody tr th:only-of-type {\n",
       "        vertical-align: middle;\n",
       "    }\n",
       "\n",
       "    .dataframe tbody tr th {\n",
       "        vertical-align: top;\n",
       "    }\n",
       "\n",
       "    .dataframe thead th {\n",
       "        text-align: right;\n",
       "    }\n",
       "</style>\n",
       "<table border=\"1\" class=\"dataframe\">\n",
       "  <thead>\n",
       "    <tr style=\"text-align: right;\">\n",
       "      <th></th>\n",
       "      <th>UserId</th>\n",
       "      <th>ProductId</th>\n",
       "      <th>ProfileName</th>\n",
       "      <th>Time</th>\n",
       "      <th>Score</th>\n",
       "      <th>Text</th>\n",
       "      <th>COUNT(*)</th>\n",
       "    </tr>\n",
       "  </thead>\n",
       "  <tbody>\n",
       "    <tr>\n",
       "      <th>80638</th>\n",
       "      <td>AZY10LLTJ71NX</td>\n",
       "      <td>B001ATMQK2</td>\n",
       "      <td>undertheshrine \"undertheshrine\"</td>\n",
       "      <td>1296691200</td>\n",
       "      <td>5</td>\n",
       "      <td>I bought this 6 pack because for the price tha...</td>\n",
       "      <td>5</td>\n",
       "    </tr>\n",
       "  </tbody>\n",
       "</table>\n",
       "</div>"
      ],
      "text/plain": [
       "              UserId   ProductId                      ProfileName        Time  \\\n",
       "80638  AZY10LLTJ71NX  B001ATMQK2  undertheshrine \"undertheshrine\"  1296691200   \n",
       "\n",
       "       Score                                               Text  COUNT(*)  \n",
       "80638      5  I bought this 6 pack because for the price tha...         5  "
      ]
     },
     "execution_count": 198,
     "metadata": {},
     "output_type": "execute_result"
    }
   ],
   "source": [
    "display[display['UserId']=='AZY10LLTJ71NX']"
   ]
  },
  {
   "cell_type": "code",
   "execution_count": 199,
   "metadata": {},
   "outputs": [
    {
     "data": {
      "text/plain": [
       "393063"
      ]
     },
     "execution_count": 199,
     "metadata": {},
     "output_type": "execute_result"
    }
   ],
   "source": [
    "display['COUNT(*)'].sum()"
   ]
  },
  {
   "cell_type": "markdown",
   "metadata": {},
   "source": [
    "#  [2] Exploratory Data Analysis"
   ]
  },
  {
   "cell_type": "markdown",
   "metadata": {},
   "source": [
    "## [2.1] Data Cleaning: Deduplication\n",
    "\n",
    "It is observed (as shown in the table below) that the reviews data had many duplicate entries. Hence it was necessary to remove duplicates in order to get unbiased results for the analysis of the data.  Following is an example:"
   ]
  },
  {
   "cell_type": "code",
   "execution_count": 200,
   "metadata": {
    "scrolled": false
   },
   "outputs": [
    {
     "data": {
      "text/html": [
       "<div>\n",
       "<style scoped>\n",
       "    .dataframe tbody tr th:only-of-type {\n",
       "        vertical-align: middle;\n",
       "    }\n",
       "\n",
       "    .dataframe tbody tr th {\n",
       "        vertical-align: top;\n",
       "    }\n",
       "\n",
       "    .dataframe thead th {\n",
       "        text-align: right;\n",
       "    }\n",
       "</style>\n",
       "<table border=\"1\" class=\"dataframe\">\n",
       "  <thead>\n",
       "    <tr style=\"text-align: right;\">\n",
       "      <th></th>\n",
       "      <th>Id</th>\n",
       "      <th>ProductId</th>\n",
       "      <th>UserId</th>\n",
       "      <th>ProfileName</th>\n",
       "      <th>HelpfulnessNumerator</th>\n",
       "      <th>HelpfulnessDenominator</th>\n",
       "      <th>Score</th>\n",
       "      <th>Time</th>\n",
       "      <th>Summary</th>\n",
       "      <th>Text</th>\n",
       "    </tr>\n",
       "  </thead>\n",
       "  <tbody>\n",
       "    <tr>\n",
       "      <th>0</th>\n",
       "      <td>78445</td>\n",
       "      <td>B000HDL1RQ</td>\n",
       "      <td>AR5J8UI46CURR</td>\n",
       "      <td>Geetha Krishnan</td>\n",
       "      <td>2</td>\n",
       "      <td>2</td>\n",
       "      <td>5</td>\n",
       "      <td>1199577600</td>\n",
       "      <td>LOACKER QUADRATINI VANILLA WAFERS</td>\n",
       "      <td>DELICIOUS WAFERS. I FIND THAT EUROPEAN WAFERS ...</td>\n",
       "    </tr>\n",
       "    <tr>\n",
       "      <th>1</th>\n",
       "      <td>138317</td>\n",
       "      <td>B000HDOPYC</td>\n",
       "      <td>AR5J8UI46CURR</td>\n",
       "      <td>Geetha Krishnan</td>\n",
       "      <td>2</td>\n",
       "      <td>2</td>\n",
       "      <td>5</td>\n",
       "      <td>1199577600</td>\n",
       "      <td>LOACKER QUADRATINI VANILLA WAFERS</td>\n",
       "      <td>DELICIOUS WAFERS. I FIND THAT EUROPEAN WAFERS ...</td>\n",
       "    </tr>\n",
       "    <tr>\n",
       "      <th>2</th>\n",
       "      <td>138277</td>\n",
       "      <td>B000HDOPYM</td>\n",
       "      <td>AR5J8UI46CURR</td>\n",
       "      <td>Geetha Krishnan</td>\n",
       "      <td>2</td>\n",
       "      <td>2</td>\n",
       "      <td>5</td>\n",
       "      <td>1199577600</td>\n",
       "      <td>LOACKER QUADRATINI VANILLA WAFERS</td>\n",
       "      <td>DELICIOUS WAFERS. I FIND THAT EUROPEAN WAFERS ...</td>\n",
       "    </tr>\n",
       "    <tr>\n",
       "      <th>3</th>\n",
       "      <td>73791</td>\n",
       "      <td>B000HDOPZG</td>\n",
       "      <td>AR5J8UI46CURR</td>\n",
       "      <td>Geetha Krishnan</td>\n",
       "      <td>2</td>\n",
       "      <td>2</td>\n",
       "      <td>5</td>\n",
       "      <td>1199577600</td>\n",
       "      <td>LOACKER QUADRATINI VANILLA WAFERS</td>\n",
       "      <td>DELICIOUS WAFERS. I FIND THAT EUROPEAN WAFERS ...</td>\n",
       "    </tr>\n",
       "    <tr>\n",
       "      <th>4</th>\n",
       "      <td>155049</td>\n",
       "      <td>B000PAQ75C</td>\n",
       "      <td>AR5J8UI46CURR</td>\n",
       "      <td>Geetha Krishnan</td>\n",
       "      <td>2</td>\n",
       "      <td>2</td>\n",
       "      <td>5</td>\n",
       "      <td>1199577600</td>\n",
       "      <td>LOACKER QUADRATINI VANILLA WAFERS</td>\n",
       "      <td>DELICIOUS WAFERS. I FIND THAT EUROPEAN WAFERS ...</td>\n",
       "    </tr>\n",
       "  </tbody>\n",
       "</table>\n",
       "</div>"
      ],
      "text/plain": [
       "       Id   ProductId         UserId      ProfileName  HelpfulnessNumerator  \\\n",
       "0   78445  B000HDL1RQ  AR5J8UI46CURR  Geetha Krishnan                     2   \n",
       "1  138317  B000HDOPYC  AR5J8UI46CURR  Geetha Krishnan                     2   \n",
       "2  138277  B000HDOPYM  AR5J8UI46CURR  Geetha Krishnan                     2   \n",
       "3   73791  B000HDOPZG  AR5J8UI46CURR  Geetha Krishnan                     2   \n",
       "4  155049  B000PAQ75C  AR5J8UI46CURR  Geetha Krishnan                     2   \n",
       "\n",
       "   HelpfulnessDenominator  Score        Time  \\\n",
       "0                       2      5  1199577600   \n",
       "1                       2      5  1199577600   \n",
       "2                       2      5  1199577600   \n",
       "3                       2      5  1199577600   \n",
       "4                       2      5  1199577600   \n",
       "\n",
       "                             Summary  \\\n",
       "0  LOACKER QUADRATINI VANILLA WAFERS   \n",
       "1  LOACKER QUADRATINI VANILLA WAFERS   \n",
       "2  LOACKER QUADRATINI VANILLA WAFERS   \n",
       "3  LOACKER QUADRATINI VANILLA WAFERS   \n",
       "4  LOACKER QUADRATINI VANILLA WAFERS   \n",
       "\n",
       "                                                Text  \n",
       "0  DELICIOUS WAFERS. I FIND THAT EUROPEAN WAFERS ...  \n",
       "1  DELICIOUS WAFERS. I FIND THAT EUROPEAN WAFERS ...  \n",
       "2  DELICIOUS WAFERS. I FIND THAT EUROPEAN WAFERS ...  \n",
       "3  DELICIOUS WAFERS. I FIND THAT EUROPEAN WAFERS ...  \n",
       "4  DELICIOUS WAFERS. I FIND THAT EUROPEAN WAFERS ...  "
      ]
     },
     "execution_count": 200,
     "metadata": {},
     "output_type": "execute_result"
    }
   ],
   "source": [
    "display= pd.read_sql_query(\"\"\"\n",
    "SELECT *\n",
    "FROM Reviews\n",
    "WHERE Score != 3 AND UserId=\"AR5J8UI46CURR\"\n",
    "ORDER BY ProductID\n",
    "\"\"\", con)\n",
    "display.head()"
   ]
  },
  {
   "cell_type": "markdown",
   "metadata": {},
   "source": [
    "As it can be seen above that same user has multiple reviews with same values for HelpfulnessNumerator, HelpfulnessDenominator, Score, Time, Summary and Text and on doing analysis it was found that <br>\n",
    "<br> \n",
    "ProductId=B000HDOPZG was Loacker Quadratini Vanilla Wafer Cookies, 8.82-Ounce Packages (Pack of 8)<br>\n",
    "<br> \n",
    "ProductId=B000HDL1RQ was Loacker Quadratini Lemon Wafer Cookies, 8.82-Ounce Packages (Pack of 8) and so on<br>\n",
    "\n",
    "It was inferred after analysis that reviews with same parameters other than ProductId belonged to the same product just having different flavour or quantity. Hence in order to reduce redundancy it was decided to eliminate the rows having same parameters.<br>\n",
    "\n",
    "The method used for the same was that we first sort the data according to ProductId and then just keep the first similar product review and delelte the others. for eg. in the above just the review for ProductId=B000HDL1RQ remains. This method ensures that there is only one representative for each product and deduplication without sorting would lead to possibility of different representatives still existing for the same product."
   ]
  },
  {
   "cell_type": "code",
   "execution_count": 201,
   "metadata": {},
   "outputs": [],
   "source": [
    "#Sorting data according to ProductId in ascending order\n",
    "sorted_data=filtered_data.sort_values('ProductId', axis=0, ascending=True, inplace=False, kind='quicksort', na_position='last')"
   ]
  },
  {
   "cell_type": "code",
   "execution_count": 202,
   "metadata": {},
   "outputs": [
    {
     "data": {
      "text/plain": [
       "(87775, 10)"
      ]
     },
     "execution_count": 202,
     "metadata": {},
     "output_type": "execute_result"
    }
   ],
   "source": [
    "#Deduplication of entries\n",
    "final=sorted_data.drop_duplicates(subset={\"UserId\",\"ProfileName\",\"Time\",\"Text\"}, keep='first', inplace=False)\n",
    "final.shape"
   ]
  },
  {
   "cell_type": "code",
   "execution_count": 203,
   "metadata": {},
   "outputs": [
    {
     "data": {
      "text/plain": [
       "87.775"
      ]
     },
     "execution_count": 203,
     "metadata": {},
     "output_type": "execute_result"
    }
   ],
   "source": [
    "#Checking to see how much % of data still remains\n",
    "(final['Id'].size*1.0)/(filtered_data['Id'].size*1.0)*100"
   ]
  },
  {
   "cell_type": "markdown",
   "metadata": {},
   "source": [
    "<b>Observation:-</b> It was also seen that in two rows given below the value of HelpfulnessNumerator is greater than HelpfulnessDenominator which is not practically possible hence these two rows too are removed from calcualtions"
   ]
  },
  {
   "cell_type": "code",
   "execution_count": 204,
   "metadata": {},
   "outputs": [
    {
     "data": {
      "text/html": [
       "<div>\n",
       "<style scoped>\n",
       "    .dataframe tbody tr th:only-of-type {\n",
       "        vertical-align: middle;\n",
       "    }\n",
       "\n",
       "    .dataframe tbody tr th {\n",
       "        vertical-align: top;\n",
       "    }\n",
       "\n",
       "    .dataframe thead th {\n",
       "        text-align: right;\n",
       "    }\n",
       "</style>\n",
       "<table border=\"1\" class=\"dataframe\">\n",
       "  <thead>\n",
       "    <tr style=\"text-align: right;\">\n",
       "      <th></th>\n",
       "      <th>Id</th>\n",
       "      <th>ProductId</th>\n",
       "      <th>UserId</th>\n",
       "      <th>ProfileName</th>\n",
       "      <th>HelpfulnessNumerator</th>\n",
       "      <th>HelpfulnessDenominator</th>\n",
       "      <th>Score</th>\n",
       "      <th>Time</th>\n",
       "      <th>Summary</th>\n",
       "      <th>Text</th>\n",
       "    </tr>\n",
       "  </thead>\n",
       "  <tbody>\n",
       "    <tr>\n",
       "      <th>0</th>\n",
       "      <td>64422</td>\n",
       "      <td>B000MIDROQ</td>\n",
       "      <td>A161DK06JJMCYF</td>\n",
       "      <td>J. E. Stephens \"Jeanne\"</td>\n",
       "      <td>3</td>\n",
       "      <td>1</td>\n",
       "      <td>5</td>\n",
       "      <td>1224892800</td>\n",
       "      <td>Bought This for My Son at College</td>\n",
       "      <td>My son loves spaghetti so I didn't hesitate or...</td>\n",
       "    </tr>\n",
       "    <tr>\n",
       "      <th>1</th>\n",
       "      <td>44737</td>\n",
       "      <td>B001EQ55RW</td>\n",
       "      <td>A2V0I904FH7ABY</td>\n",
       "      <td>Ram</td>\n",
       "      <td>3</td>\n",
       "      <td>2</td>\n",
       "      <td>4</td>\n",
       "      <td>1212883200</td>\n",
       "      <td>Pure cocoa taste with crunchy almonds inside</td>\n",
       "      <td>It was almost a 'love at first bite' - the per...</td>\n",
       "    </tr>\n",
       "  </tbody>\n",
       "</table>\n",
       "</div>"
      ],
      "text/plain": [
       "      Id   ProductId          UserId              ProfileName  \\\n",
       "0  64422  B000MIDROQ  A161DK06JJMCYF  J. E. Stephens \"Jeanne\"   \n",
       "1  44737  B001EQ55RW  A2V0I904FH7ABY                      Ram   \n",
       "\n",
       "   HelpfulnessNumerator  HelpfulnessDenominator  Score        Time  \\\n",
       "0                     3                       1      5  1224892800   \n",
       "1                     3                       2      4  1212883200   \n",
       "\n",
       "                                        Summary  \\\n",
       "0             Bought This for My Son at College   \n",
       "1  Pure cocoa taste with crunchy almonds inside   \n",
       "\n",
       "                                                Text  \n",
       "0  My son loves spaghetti so I didn't hesitate or...  \n",
       "1  It was almost a 'love at first bite' - the per...  "
      ]
     },
     "execution_count": 204,
     "metadata": {},
     "output_type": "execute_result"
    }
   ],
   "source": [
    "display= pd.read_sql_query(\"\"\"\n",
    "SELECT *\n",
    "FROM Reviews\n",
    "WHERE Score != 3 AND Id=44737 OR Id=64422\n",
    "ORDER BY ProductID\n",
    "\"\"\", con)\n",
    "\n",
    "display.head()"
   ]
  },
  {
   "cell_type": "code",
   "execution_count": 205,
   "metadata": {},
   "outputs": [],
   "source": [
    "final=final[final.HelpfulnessNumerator<=final.HelpfulnessDenominator]"
   ]
  },
  {
   "cell_type": "code",
   "execution_count": 206,
   "metadata": {},
   "outputs": [
    {
     "name": "stdout",
     "output_type": "stream",
     "text": [
      "(87773, 10)\n"
     ]
    },
    {
     "data": {
      "text/plain": [
       "1    73592\n",
       "0    14181\n",
       "Name: Score, dtype: int64"
      ]
     },
     "execution_count": 206,
     "metadata": {},
     "output_type": "execute_result"
    }
   ],
   "source": [
    "#Before starting the next phase of preprocessing lets see the number of entries left\n",
    "print(final.shape)\n",
    "\n",
    "#How many positive and negative reviews are present in our dataset?\n",
    "final['Score'].value_counts()"
   ]
  },
  {
   "cell_type": "markdown",
   "metadata": {},
   "source": [
    "#  [3] Preprocessing"
   ]
  },
  {
   "cell_type": "markdown",
   "metadata": {},
   "source": [
    "## [3.1].  Preprocessing Review Text\n",
    "\n",
    "Now that we have finished deduplication our data requires some preprocessing before we go on further with analysis and making the prediction model.\n",
    "\n",
    "Hence in the Preprocessing phase we do the following in the order below:-\n",
    "\n",
    "1. Begin by removing the html tags\n",
    "2. Remove any punctuations or limited set of special characters like , or . or # etc.\n",
    "3. Check if the word is made up of english letters and is not alpha-numeric\n",
    "4. Check to see if the length of the word is greater than 2 (as it was researched that there is no adjective in 2-letters)\n",
    "5. Convert the word to lowercase\n",
    "6. Remove Stopwords\n",
    "7. Finally Snowball Stemming the word (it was obsereved to be better than Porter Stemming)<br>\n",
    "\n",
    "After which we collect the words used to describe positive and negative reviews"
   ]
  },
  {
   "cell_type": "code",
   "execution_count": 207,
   "metadata": {},
   "outputs": [
    {
     "name": "stdout",
     "output_type": "stream",
     "text": [
      "My dogs loves this chicken but its a product from China, so we wont be buying it anymore.  Its very hard to find any chicken products made in the USA but they are out there, but this one isnt.  Its too bad too because its a good product but I wont take any chances till they know what is going on with the china imports.\n",
      "==================================================\n",
      "The Candy Blocks were a nice visual for the Lego Birthday party but the candy has little taste to it.  Very little of the 2 lbs that I bought were eaten and I threw the rest away.  I would not buy the candy again.\n",
      "==================================================\n",
      "was way to hot for my blood, took a bite and did a jig  lol\n",
      "==================================================\n",
      "My dog LOVES these treats. They tend to have a very strong fish oil smell. So if you are afraid of the fishy smell, don't get it. But I think my dog likes it because of the smell. These treats are really small in size. They are great for training. You can give your dog several of these without worrying about him over eating. Amazon's price was much more reasonable than any other retailer. You can buy a 1 pound bag on Amazon for almost the same price as a 6 ounce bag at other retailers. It's definitely worth it to buy a big bag if your dog eats them a lot.\n",
      "==================================================\n"
     ]
    }
   ],
   "source": [
    "# printing some random reviews\n",
    "sent_0 = final['Text'].values[0]\n",
    "print(sent_0)\n",
    "print(\"=\"*50)\n",
    "\n",
    "sent_1000 = final['Text'].values[1000]\n",
    "print(sent_1000)\n",
    "print(\"=\"*50)\n",
    "\n",
    "sent_1500 = final['Text'].values[1500]\n",
    "print(sent_1500)\n",
    "print(\"=\"*50)\n",
    "\n",
    "sent_4900 = final['Text'].values[4900]\n",
    "print(sent_4900)\n",
    "print(\"=\"*50)"
   ]
  },
  {
   "cell_type": "code",
   "execution_count": 208,
   "metadata": {},
   "outputs": [
    {
     "name": "stdout",
     "output_type": "stream",
     "text": [
      "My dogs loves this chicken but its a product from China, so we wont be buying it anymore.  Its very hard to find any chicken products made in the USA but they are out there, but this one isnt.  Its too bad too because its a good product but I wont take any chances till they know what is going on with the china imports.\n"
     ]
    }
   ],
   "source": [
    "# remove urls from text python: https://stackoverflow.com/a/40823105/4084039\n",
    "sent_0 = re.sub(r\"http\\S+\", \"\", sent_0)\n",
    "sent_1000 = re.sub(r\"http\\S+\", \"\", sent_1000)\n",
    "sent_150 = re.sub(r\"http\\S+\", \"\", sent_1500)\n",
    "sent_4900 = re.sub(r\"http\\S+\", \"\", sent_4900)\n",
    "\n",
    "print(sent_0)"
   ]
  },
  {
   "cell_type": "code",
   "execution_count": 209,
   "metadata": {},
   "outputs": [
    {
     "name": "stdout",
     "output_type": "stream",
     "text": [
      "My dogs loves this chicken but its a product from China, so we wont be buying it anymore.  Its very hard to find any chicken products made in the USA but they are out there, but this one isnt.  Its too bad too because its a good product but I wont take any chances till they know what is going on with the china imports.\n",
      "==================================================\n",
      "The Candy Blocks were a nice visual for the Lego Birthday party but the candy has little taste to it.  Very little of the 2 lbs that I bought were eaten and I threw the rest away.  I would not buy the candy again.\n",
      "==================================================\n",
      "was way to hot for my blood, took a bite and did a jig  lol\n",
      "==================================================\n",
      "My dog LOVES these treats. They tend to have a very strong fish oil smell. So if you are afraid of the fishy smell, don't get it. But I think my dog likes it because of the smell. These treats are really small in size. They are great for training. You can give your dog several of these without worrying about him over eating. Amazon's price was much more reasonable than any other retailer. You can buy a 1 pound bag on Amazon for almost the same price as a 6 ounce bag at other retailers. It's definitely worth it to buy a big bag if your dog eats them a lot.\n"
     ]
    }
   ],
   "source": [
    "# https://stackoverflow.com/questions/16206380/python-beautifulsoup-how-to-remove-all-tags-from-an-element\n",
    "from bs4 import BeautifulSoup\n",
    "\n",
    "soup = BeautifulSoup(sent_0, 'lxml')\n",
    "text = soup.get_text()\n",
    "print(text)\n",
    "print(\"=\"*50)\n",
    "\n",
    "soup = BeautifulSoup(sent_1000, 'lxml')\n",
    "text = soup.get_text()\n",
    "print(text)\n",
    "print(\"=\"*50)\n",
    "\n",
    "soup = BeautifulSoup(sent_1500, 'lxml')\n",
    "text = soup.get_text()\n",
    "print(text)\n",
    "print(\"=\"*50)\n",
    "\n",
    "soup = BeautifulSoup(sent_4900, 'lxml')\n",
    "text = soup.get_text()\n",
    "print(text)"
   ]
  },
  {
   "cell_type": "code",
   "execution_count": 210,
   "metadata": {},
   "outputs": [],
   "source": [
    "# https://stackoverflow.com/a/47091490/4084039\n",
    "import re\n",
    "\n",
    "def decontracted(phrase):\n",
    "    # specific\n",
    "    phrase = re.sub(r\"won't\", \"will not\", phrase)\n",
    "    phrase = re.sub(r\"can\\'t\", \"can not\", phrase)\n",
    "\n",
    "    # general\n",
    "    phrase = re.sub(r\"n\\'t\", \" not\", phrase)\n",
    "    phrase = re.sub(r\"\\'re\", \" are\", phrase)\n",
    "    phrase = re.sub(r\"\\'s\", \" is\", phrase)\n",
    "    phrase = re.sub(r\"\\'d\", \" would\", phrase)\n",
    "    phrase = re.sub(r\"\\'ll\", \" will\", phrase)\n",
    "    phrase = re.sub(r\"\\'t\", \" not\", phrase)\n",
    "    phrase = re.sub(r\"\\'ve\", \" have\", phrase)\n",
    "    phrase = re.sub(r\"\\'m\", \" am\", phrase)\n",
    "    return phrase"
   ]
  },
  {
   "cell_type": "code",
   "execution_count": 211,
   "metadata": {},
   "outputs": [
    {
     "name": "stdout",
     "output_type": "stream",
     "text": [
      "was way to hot for my blood, took a bite and did a jig  lol\n",
      "==================================================\n"
     ]
    }
   ],
   "source": [
    "sent_1500 = decontracted(sent_1500)\n",
    "print(sent_1500)\n",
    "print(\"=\"*50)"
   ]
  },
  {
   "cell_type": "code",
   "execution_count": 212,
   "metadata": {},
   "outputs": [
    {
     "name": "stdout",
     "output_type": "stream",
     "text": [
      "My dogs loves this chicken but its a product from China, so we wont be buying it anymore.  Its very hard to find any chicken products made in the USA but they are out there, but this one isnt.  Its too bad too because its a good product but I wont take any chances till they know what is going on with the china imports.\n"
     ]
    }
   ],
   "source": [
    "#remove words with numbers python: https://stackoverflow.com/a/18082370/4084039\n",
    "sent_0 = re.sub(\"\\S*\\d\\S*\", \"\", sent_0).strip()\n",
    "print(sent_0)"
   ]
  },
  {
   "cell_type": "code",
   "execution_count": 213,
   "metadata": {},
   "outputs": [
    {
     "name": "stdout",
     "output_type": "stream",
     "text": [
      "was way to hot for my blood took a bite and did a jig lol\n"
     ]
    }
   ],
   "source": [
    "#remove spacial character: https://stackoverflow.com/a/5843547/4084039\n",
    "sent_1500 = re.sub('[^A-Za-z0-9]+', ' ', sent_1500)\n",
    "print(sent_1500)"
   ]
  },
  {
   "cell_type": "code",
   "execution_count": 214,
   "metadata": {},
   "outputs": [],
   "source": [
    "# https://gist.github.com/sebleier/554280\n",
    "# we are removing the words from the stop words list: 'no', 'nor', 'not'\n",
    "# <br /><br /> ==> after the above steps, we are getting \"br br\"\n",
    "# we are including them into stop words list\n",
    "# instead of <br /> if we have <br/> these tags would have revmoved in the 1st step\n",
    "\n",
    "stopwords= set(['br', 'the', 'i', 'me', 'my', 'myself', 'we', 'our', 'ours', 'ourselves', 'you', \"you're\", \"you've\",\\\n",
    "            \"you'll\", \"you'd\", 'your', 'yours', 'yourself', 'yourselves', 'he', 'him', 'his', 'himself', \\\n",
    "            'she', \"she's\", 'her', 'hers', 'herself', 'it', \"it's\", 'its', 'itself', 'they', 'them', 'their',\\\n",
    "            'theirs', 'themselves', 'what', 'which', 'who', 'whom', 'this', 'that', \"that'll\", 'these', 'those', \\\n",
    "            'am', 'is', 'are', 'was', 'were', 'be', 'been', 'being', 'have', 'has', 'had', 'having', 'do', 'does', \\\n",
    "            'did', 'doing', 'a', 'an', 'the', 'and', 'but', 'if', 'or', 'because', 'as', 'until', 'while', 'of', \\\n",
    "            'at', 'by', 'for', 'with', 'about', 'against', 'between', 'into', 'through', 'during', 'before', 'after',\\\n",
    "            'above', 'below', 'to', 'from', 'up', 'down', 'in', 'out', 'on', 'off', 'over', 'under', 'again', 'further',\\\n",
    "            'then', 'once', 'here', 'there', 'when', 'where', 'why', 'how', 'all', 'any', 'both', 'each', 'few', 'more',\\\n",
    "            'most', 'other', 'some', 'such', 'only', 'own', 'same', 'so', 'than', 'too', 'very', \\\n",
    "            's', 't', 'can', 'will', 'just', 'don', \"don't\", 'should', \"should've\", 'now', 'd', 'll', 'm', 'o', 're', \\\n",
    "            've', 'y', 'ain', 'aren', \"aren't\", 'couldn', \"couldn't\", 'didn', \"didn't\", 'doesn', \"doesn't\", 'hadn',\\\n",
    "            \"hadn't\", 'hasn', \"hasn't\", 'haven', \"haven't\", 'isn', \"isn't\", 'ma', 'mightn', \"mightn't\", 'mustn',\\\n",
    "            \"mustn't\", 'needn', \"needn't\", 'shan', \"shan't\", 'shouldn', \"shouldn't\", 'wasn', \"wasn't\", 'weren', \"weren't\", \\\n",
    "            'won', \"won't\", 'wouldn', \"wouldn't\"])"
   ]
  },
  {
   "cell_type": "code",
   "execution_count": 215,
   "metadata": {},
   "outputs": [],
   "source": [
    "#filtered out whole reviews\n",
    "\n",
    "from bs4 import BeautifulSoup\n",
    "# Combining all the above stundents \n",
    "from tqdm import tqdm\n",
    "# tqdm is for printing the status bar\n",
    "\n",
    "word_counter = []\n",
    "def filterised_text(text):\n",
    "    preprocessed_text = []\n",
    "    loop_size = 1\n",
    "    for sentance in tqdm(text):\n",
    "        sentance = re.sub(r\"http\\S+\", \"\", sentance)\n",
    "        sentance = BeautifulSoup(sentance, 'lxml').get_text()\n",
    "        sentance = decontracted(sentance)\n",
    "        sentance = re.sub(\"\\S*\\d\\S*\", \"\", sentance).strip()\n",
    "        sentance = re.sub('[^A-Za-z]+', ' ', sentance)\n",
    "        # https://gist.github.com/sebleier/554280\n",
    "        sentance = ' '.join(e.lower() for e in sentance.split() if e.lower() not in stopwords)\n",
    "        preprocessed_text.append(sentance.strip())\n",
    "        count = len(sentance.strip().split()) \n",
    "        word_counter.append(count)\n",
    "    return preprocessed_text"
   ]
  },
  {
   "cell_type": "code",
   "execution_count": 216,
   "metadata": {},
   "outputs": [
    {
     "name": "stderr",
     "output_type": "stream",
     "text": [
      "100%|██████████| 87773/87773 [00:27<00:00, 3175.59it/s]\n"
     ]
    },
    {
     "data": {
      "text/plain": [
       "'dogs love saw pet store tag attached regarding made china satisfied safe'"
      ]
     },
     "execution_count": 216,
     "metadata": {},
     "output_type": "execute_result"
    }
   ],
   "source": [
    "preprocessed_reviews = filterised_text(final['Text'].values)\n",
    "final['preprocessed_reviews']  = preprocessed_reviews\n",
    "preprocessed_reviews[1]"
   ]
  },
  {
   "cell_type": "code",
   "execution_count": 217,
   "metadata": {},
   "outputs": [
    {
     "data": {
      "text/plain": [
       "87773"
      ]
     },
     "execution_count": 217,
     "metadata": {},
     "output_type": "execute_result"
    }
   ],
   "source": [
    "final['numbers_of_words']  = word_counter\n",
    "len(word_counter)"
   ]
  },
  {
   "cell_type": "markdown",
   "metadata": {},
   "source": [
    "<h2><font color='red'>[3.2] Preprocessing Review Summary</font></h2>"
   ]
  },
  {
   "cell_type": "code",
   "execution_count": 218,
   "metadata": {},
   "outputs": [
    {
     "name": "stderr",
     "output_type": "stream",
     "text": [
      "100%|██████████| 87773/87773 [00:16<00:00, 5196.53it/s]\n"
     ]
    },
    {
     "data": {
      "text/plain": [
       "'pop corn'"
      ]
     },
     "execution_count": 218,
     "metadata": {},
     "output_type": "execute_result"
    }
   ],
   "source": [
    "preprocessed_summary = filterised_text(final['Summary'].values)\n",
    "final['preprocessed_summary']  = preprocessed_summary\n",
    "preprocessed_summary[1822]"
   ]
  },
  {
   "cell_type": "code",
   "execution_count": 219,
   "metadata": {},
   "outputs": [],
   "source": [
    "bow_trained_model_25000 ='/home/pranay/ML trained models/BoW/bow_trained_model_25000'\n",
    "bow_test_model_25000 ='/home/pranay/ML trained models/BoW/bow_test_model_25000'\n",
    "bow_trained_model_20000 ='/home/pranay/ML trained models/BoW/bow_trained_model_20000'\n",
    "bow_trained_model_100000 ='/home/pranay/ML trained models/BoW/bow_trained_model_100000'\n",
    "bow_test_model_100000 ='/home/pranay/ML trained models/BoW/bow_test_model_100000'\n",
    "bow_trained_count_vect ='/home/pranay/ML trained models/BoW/bow_trained_count_vect'\n",
    "\n",
    "tf_idf_trained_model_25000 = '/home/pranay/ML trained models/TFIDF/tf_idf_trained_model_25000'\n",
    "tf_idf_test_model_25000 = '/home/pranay/ML trained models/TFIDF/tf_idf_test_model_25000'\n",
    "tf_idf_trained_model_20000 = '/home/pranay/ML trained models/TFIDF/tf_idf_trained_model_20000'\n",
    "tf_idf_trained_model_100000 = '/home/pranay/ML trained models/TFIDF/tf_idf_trained_model_100000'\n",
    "tf_idf_test_model_100000 = '/home/pranay/ML trained models/TFIDF/tf_idf_test_model_100000'\n",
    "trained_tf_idf_vect_20000 = '/home/pranay/ML trained models/TFIDF/tf_idf_vect_20000'\n",
    "tfidf_vectorizer ='/home/pranay/ML trained models/BoW/tfidf_vectorizer'\n",
    "\n",
    "w2v_trained_model_20000 = '/home/pranay/ML trained models/W2V/w2v_trained_model_20000'\n",
    "avg_w2v_trained_model_25000 = '/home/pranay/ML trained models/W2V/avg_w2v_trained_model_25000'\n",
    "avg_w2v_test_model_25000 = '/home/pranay/ML trained models/W2V/avg_w2v_test_model_25000'\n",
    "avg_w2v_trained_model_20000 = '/home/pranay/ML trained models/W2V/avg_w2v_trained_model_20000'\n",
    "avg_w2v_trained_model_100000 = '/home/pranay/ML trained models/W2V/avg_w2v_trained_model_100000'\n",
    "avg_w2v_test_model_100000 = '/home/pranay/ML trained models/W2V/avg_w2v_test_model_100000'\n",
    "\n",
    "\n",
    "w2v_tf_idf_trained_model_25000 = '/home/pranay/ML trained models/W2V_TFIDF/w2v_tf_idf_trained_model_25000'\n",
    "w2v_tf_idf_test_model_25000 = '/home/pranay/ML trained models/W2V_TFIDF/w2v_tf_idf_test_model_25000'\n",
    "w2v_tf_idf_trained_model_20000 = '/home/pranay/ML trained models/W2V_TFIDF/w2v_tf_idf_trained_model_20000'\n",
    "w2v_tf_idf_trained_model_100000 = '/home/pranay/ML trained models/W2V_TFIDF/w2v_tf_idf_trained_model_100000'\n",
    "w2v_tf_idf_test_model_100000 = '/home/pranay/ML trained models/W2V_TFIDF/w2v_tf_idf_test_model_100000'\n",
    "w2v_tf_idf_model_20000 = '/home/pranay/ML trained modelsW2V_TFIDF/w2v_tf_idf_model_20000'\n",
    "\n",
    "knn_trained_bow = '/home/pranay/Amazon Assignments/KNN/BOW/bow_optimal'\n",
    "knn_trained_tfidf = '/home/pranay/Amazon Assignments/KNN/TFIDF/tfidf_optimal'\n",
    "knn_trained_w2v = '/home/pranay/Amazon Assignments/KNN/W2V/w2v_optimal'\n",
    "knn_trained_w2v_tfidf = '/home/pranay/Amazon Assignments/KNN/W2V TFIDF/w2v_tfidf_optimal'\n"
   ]
  },
  {
   "cell_type": "markdown",
   "metadata": {},
   "source": [
    "### Splitting data"
   ]
  },
  {
   "cell_type": "code",
   "execution_count": 220,
   "metadata": {},
   "outputs": [
    {
     "name": "stdout",
     "output_type": "stream",
     "text": [
      "(61441,) (26332,) (61441,) (26332,)\n"
     ]
    }
   ],
   "source": [
    "\n",
    "X = final['preprocessed_reviews']\n",
    "y = final['Score']\n",
    "\n",
    "# split the data set into train and test\n",
    "X_train, x_test, y_train, y_test = model_selection.train_test_split(X, y, test_size=0.3,random_state=0)\n",
    "\n",
    "print(X_train.shape, x_test.shape, y_train.shape, y_test.shape)"
   ]
  },
  {
   "cell_type": "markdown",
   "metadata": {},
   "source": [
    "# [4] Featurization"
   ]
  },
  {
   "cell_type": "markdown",
   "metadata": {},
   "source": [
    "## [4.1] BAG OF WORDS"
   ]
  },
  {
   "cell_type": "code",
   "execution_count": 221,
   "metadata": {},
   "outputs": [
    {
     "name": "stdout",
     "output_type": "stream",
     "text": [
      "yes exist\n",
      "the type of count vectorizer  <class 'scipy.sparse.csr.csr_matrix'>\n",
      "the shape of out text BOW vectorizer  (61441, 46446)\n",
      "the number of unique words  46446\n"
     ]
    }
   ],
   "source": [
    "#BoW\n",
    "\n",
    "# Train Vectorizor\n",
    "# store model to hard disk if exist then load model directly from memory\n",
    "exists = os.path.isfile(bow_trained_model_100000)\n",
    "\n",
    "if exists:\n",
    "    print(\"yes exist\")\n",
    "    final_bow_count_vect = load(bow_trained_model_100000) \n",
    "    bow_count_vect = load(bow_trained_count_vect)\n",
    "    print(\"the type of count vectorizer \",type(final_bow_count_vect))\n",
    "    print(\"the shape of out text BOW vectorizer \",final_bow_count_vect.get_shape())\n",
    "    print(\"the number of unique words \", final_bow_count_vect.get_shape()[1])\n",
    "else:\n",
    "    print(\"not exist\")\n",
    "    bow_count_vect = CountVectorizer() #in scikit-learn\n",
    "    bow_count_vect.fit(X_train)\n",
    "    print(\"some feature names \", bow_count_vect.get_feature_names()[:10])\n",
    "    print('='*50)\n",
    "    final_bow_count_vect = bow_count_vect.fit_transform(X_train)\n",
    "    print(\"the type of count vectorizer \",type(final_bow_count_vect))\n",
    "    print(\"the shape of out text BOW vectorizer \",final_bow_count_vect.get_shape())\n",
    "    print(\"the number of unique words \", final_bow_count_vect.get_shape()[1])\n",
    "    dump(final_bow_count_vect, bow_trained_model_100000) \n",
    "    dump(bow_count_vect, bow_trained_count_vect) \n",
    "\n",
    "    \n",
    "# Test Vectorizor\n",
    "exists = os.path.isfile(bow_test_model_100000)\n",
    "\n",
    "if exists:\n",
    "    final_bow_test = load(bow_test_model_100000)\n",
    "else:\n",
    "    final_bow_test = bow_count_vect.transform(x_test)\n",
    "    dump(final_bow_test,bow_test_model_100000 )\n",
    "    final_bow_test.shape"
   ]
  },
  {
   "cell_type": "markdown",
   "metadata": {},
   "source": [
    "## [4.2] TF-IDF"
   ]
  },
  {
   "cell_type": "code",
   "execution_count": 222,
   "metadata": {},
   "outputs": [
    {
     "name": "stdout",
     "output_type": "stream",
     "text": [
      "yes exist\n",
      "the type of count vectorizer  <class 'scipy.sparse.csr.csr_matrix'>\n",
      "the shape of out text TFIDF vectorizer  (61441, 36487)\n",
      "the number of unique words including both unigrams and bigrams  36487\n",
      "yes exist\n"
     ]
    }
   ],
   "source": [
    "# Train Vectorizor\n",
    "# store model to hard disk if exist then load model directly from memory\n",
    "exists = os.path.isfile(tf_idf_trained_model_100000)\n",
    "\n",
    "if exists:\n",
    "    print(\"yes exist\")\n",
    "    final_tf_idf = load(tf_idf_trained_model_100000)\n",
    "    tf_idf_vect = load(tfidf_vectorizer)\n",
    "    print(\"the type of count vectorizer \",type(final_tf_idf))\n",
    "    print(\"the shape of out text TFIDF vectorizer \",final_tf_idf.get_shape())\n",
    "    print(\"the number of unique words including both unigrams and bigrams \", final_tf_idf.get_shape()[1])\n",
    "    \n",
    "else:\n",
    "    print(\"not exist\")\n",
    "    tf_idf_vect = TfidfVectorizer(ngram_range=(1,2), min_df=10)\n",
    "    tf_idf_vect.fit(X_train)\n",
    "    print(\"some sample features(unique words in the corpus)\",tf_idf_vect.get_feature_names()[0:10])\n",
    "    print('='*50)\n",
    "\n",
    "    final_tf_idf = tf_idf_vect.transform(X_train)\n",
    "    print(\"the type of count vectorizer \",type(final_tf_idf))\n",
    "    print(\"the shape of out text TFIDF vectorizer \",final_tf_idf.get_shape())\n",
    "    print(\"the number of unique words including both unigrams and bigrams \", final_tf_idf.get_shape()[1])\n",
    "    dump(final_tf_idf, tf_idf_trained_model_100000) \n",
    "    dump(tf_idf_vect, tfidf_vectorizer) \n",
    "\n",
    "\n",
    "# # Test Vectorizor\n",
    "\n",
    "exists = os.path.isfile(tf_idf_test_model_100000)\n",
    "\n",
    "if exists:\n",
    "    print(\"yes exist\")\n",
    "    final_tfidf_test = load(tf_idf_test_model_100000)\n",
    "else:\n",
    "    print(\"not exist\")\n",
    "    final_tfidf_test = tf_idf_vect.transform(x_test)\n",
    "    dump(final_tfidf_test,tf_idf_test_model_100000 )\n",
    "    final_tfidf_test.shape\n"
   ]
  },
  {
   "cell_type": "markdown",
   "metadata": {},
   "source": [
    "## [4.4] Word2Vec"
   ]
  },
  {
   "cell_type": "code",
   "execution_count": 223,
   "metadata": {},
   "outputs": [],
   "source": [
    "# Train your own Word2Vec model using your own text corpus\n",
    "\n",
    "# Train data\n",
    "list_of_sentance=[]\n",
    "for sentance in X_train:\n",
    "    list_of_sentance.append(sentance.split())\n",
    "\n",
    "# Test data\n",
    "list_of_test_sentence = []\n",
    "for sentance in x_test:\n",
    "    list_of_test_sentence.append(sentance.split())"
   ]
  },
  {
   "cell_type": "code",
   "execution_count": 224,
   "metadata": {
    "scrolled": true
   },
   "outputs": [
    {
     "name": "stdout",
     "output_type": "stream",
     "text": [
      "[('fantastic', 0.8559020757675171), ('good', 0.8421187996864319), ('awesome', 0.8119984269142151), ('excellent', 0.8095209002494812), ('terrific', 0.778976559638977), ('wonderful', 0.770204484462738), ('perfect', 0.7354119420051575), ('amazing', 0.7154626250267029), ('decent', 0.7009771466255188), ('nice', 0.6992447376251221)]\n",
      "==================================================\n",
      "[('greatest', 0.8042837381362915), ('best', 0.7369340658187866), ('nastiest', 0.6875373125076294), ('tastiest', 0.677506685256958), ('disgusting', 0.639472484588623), ('experienced', 0.6387550830841064), ('superior', 0.6157760620117188), ('horrible', 0.6134024262428284), ('awful', 0.6102648973464966), ('closest', 0.6090489625930786)]\n"
     ]
    }
   ],
   "source": [
    "# Using Google News Word2Vectors\n",
    "\n",
    "# in this project we are using a pretrained model by google\n",
    "# its 3.3G file, once you load this into your memory \n",
    "# it occupies ~9Gb, so please do this step only if you have >12G of ram\n",
    "# we will provide a pickle file wich contains a dict , \n",
    "# and it contains all our courpus words as keys and  model[word] as values\n",
    "# To use this code-snippet, download \"GoogleNews-vectors-negative300.bin\" \n",
    "# from https://drive.google.com/file/d/0B7XkCwpI5KDYNlNUTTlSS21pQmM/edit\n",
    "# it's 1.9GB in size.\n",
    "\n",
    "\n",
    "# http://kavita-ganesan.com/gensim-word2vec-tutorial-starter-code/#.W17SRFAzZPY\n",
    "# you can comment this whole cell\n",
    "# or change these varible according to your need\n",
    "\n",
    "is_your_ram_gt_16g=False\n",
    "want_to_use_google_w2v = False\n",
    "want_to_train_w2v = True\n",
    "\n",
    "if want_to_train_w2v:\n",
    "    # min_count = 5 considers only words that occured atleast 5 times\n",
    "    # train data\n",
    "    w2v_model_tr=Word2Vec(list_of_sentance,min_count=5,size=50, workers=4)\n",
    "    # train model on test data\n",
    "    w2v_model_test = Word2Vec(list_of_test_sentence,min_count=5,size=50, workers=4)\n",
    "    print(w2v_model_tr.wv.most_similar('great'))\n",
    "    print('='*50)\n",
    "    print(w2v_model_tr.wv.most_similar('worst'))\n",
    "    \n",
    "elif want_to_use_google_w2v and is_your_ram_gt_16g:\n",
    "    if os.path.isfile('GoogleNews-vectors-negative300.bin'):\n",
    "        w2v_model=KeyedVectors.load_word2vec_format('GoogleNews-vectors-negative300.bin', binary=True)\n",
    "        print(w2v_model.wv.most_similar('great'))\n",
    "        print(w2v_model.wv.most_similar('worst'))\n",
    "    else:\n",
    "        print(\"you don't have gogole's word2vec file, keep want_to_train_w2v = True, to train your own w2v \")"
   ]
  },
  {
   "cell_type": "code",
   "execution_count": 225,
   "metadata": {},
   "outputs": [
    {
     "name": "stdout",
     "output_type": "stream",
     "text": [
      "number of words that occured minimum 5 times  14910\n",
      "sample words  ['aroma', 'flavor', 'seem', 'fine', 'weak', 'value', 'used', 'entire', 'bottle', 'quart', 'home', 'made', 'ice', 'cream', 'people', 'guessing', 'not', 'enough', 'licorice', 'spent', 'twice', 'price', 'really', 'concentrated', 'would', 'great', 'never', 'waste', 'money', 'item', 'like', 'shampoo', 'know', 'necessarily', 'hair', 'definitely', 'cleans', 'scalp', 'well', 'also', 'thickest', 'lather', 'ever', 'hellman', 'arguably', 'absolute', 'finest', 'mass', 'market', 'mayonnaise']\n"
     ]
    }
   ],
   "source": [
    "# train data operation\n",
    "w2v_train_words = list(w2v_model_tr.wv.vocab)\n",
    "print(\"number of words that occured minimum 5 times \",len(w2v_train_words))\n",
    "print(\"sample words \", w2v_train_words[0:50])"
   ]
  },
  {
   "cell_type": "code",
   "execution_count": 226,
   "metadata": {
    "scrolled": true
   },
   "outputs": [
    {
     "name": "stdout",
     "output_type": "stream",
     "text": [
      "number of words that occured minimum 5 times  9806\n",
      "sample words  ['used', 'use', 'cheaper', 'grocery', 'store', 'brands', 'two', 'cats', 'got', 'sick', 'no', 'idea', 'causing', 'changed', 'cat', 'food', 'anyway', 'love', 'healthy', 'made', 'good', 'cheese', 'corn', 'big', 'round', 'fresh', 'popcorn', 'evenly', 'seasoned', 'really', 'cheesy', 'flavor', 'not', 'salty', 'greasy', 'taste', 'sensational', 'ordering', 'disappointment', 'searching', 'awhile', 'find', 'flavored', 'water', 'artificial', 'sweetener', 'kind', 'saw', 'reviews', 'thought']\n"
     ]
    }
   ],
   "source": [
    "# test data operation\n",
    "w2v_test_words = list(w2v_model_test.wv.vocab)\n",
    "print(\"number of words that occured minimum 5 times \",len(w2v_test_words))\n",
    "print(\"sample words \", w2v_test_words[0:50])"
   ]
  },
  {
   "cell_type": "markdown",
   "metadata": {},
   "source": [
    "## [4.4.1] Converting text into vectors using Avg W2V, TFIDF-W2V"
   ]
  },
  {
   "cell_type": "markdown",
   "metadata": {},
   "source": [
    "#### [4.4.1.1] Avg W2v"
   ]
  },
  {
   "cell_type": "code",
   "execution_count": 227,
   "metadata": {},
   "outputs": [
    {
     "name": "stdout",
     "output_type": "stream",
     "text": [
      "yes exist\n",
      "yes exist\n"
     ]
    }
   ],
   "source": [
    "# average Word2Vec\n",
    "\n",
    "# train data operation\n",
    "exists = os.path.isfile(avg_w2v_trained_model_100000)\n",
    "\n",
    "\n",
    "if exists:\n",
    "    print(\"yes exist\")\n",
    "    final_w2v_train = load(avg_w2v_trained_model_100000)\n",
    "else:\n",
    "    print(\"not exist\")\n",
    "    # compute average word2vec for each review.\n",
    "    final_w2v_train = []; # the avg-w2v for each sentence/review is stored in this list\n",
    "    for sent in tqdm(list_of_sentance): # for each review/sentence\n",
    "        sent_vec = np.zeros(50) # as word vectors are of zero length 50, you might need to change this to 300 if you use google's w2v\n",
    "        cnt_words =0; # num of words with a valid vector in the sentence/review\n",
    "        for word in sent: # for each word in a review/sentence\n",
    "            if word in w2v_train_words:\n",
    "                vec = w2v_model_tr.wv[word]\n",
    "                sent_vec += vec\n",
    "                cnt_words += 1\n",
    "        if cnt_words != 0:\n",
    "            sent_vec /= cnt_words\n",
    "        final_w2v_train.append(sent_vec)\n",
    "    print(len(final_w2v_train))\n",
    "    print(len(final_w2v_train[0]))\n",
    "    dump(final_w2v_train,avg_w2v_trained_model_100000)\n",
    "\n",
    "\n",
    "# test data operation\n",
    "exists = os.path.isfile(avg_w2v_test_model_100000)\n",
    "\n",
    "if exists:\n",
    "    print(\"yes exist\")\n",
    "    final_w2v_test = load(avg_w2v_test_model_100000)\n",
    "else:\n",
    "    print(\"not exist\")\n",
    "    final_w2v_test = []; # the avg-w2v for each sentence/review is stored in this list\n",
    "    for sent in tqdm(list_of_test_sentence): # for each review/sentence\n",
    "        sent_vec = np.zeros(50) # as word vectors are of zero length 50, you might need to change this to 300 if you use google's w2v\n",
    "        cnt_words =0; # num of words with a valid vector in the sentence/review\n",
    "        for word in sent: # for each word in a review/sentence\n",
    "            if word in w2v_test_words:\n",
    "                vec = w2v_model_test.wv[word]\n",
    "                sent_vec += vec\n",
    "                cnt_words += 1\n",
    "        if cnt_words != 0:\n",
    "            sent_vec /= cnt_words\n",
    "        final_w2v_test.append(sent_vec)\n",
    "    print(len(final_w2v_test))\n",
    "    print(len(final_w2v_test[0]))\n",
    "    dump(final_w2v_test,avg_w2v_test_model_100000)"
   ]
  },
  {
   "cell_type": "markdown",
   "metadata": {},
   "source": [
    "#### [4.4.1.2] TFIDF weighted W2v"
   ]
  },
  {
   "cell_type": "code",
   "execution_count": 228,
   "metadata": {},
   "outputs": [],
   "source": [
    "# we are converting a dictionary with word as a key, and the idf as a value\n",
    "dictionary = dict(zip(tf_idf_vect.get_feature_names(), list(tf_idf_vect.idf_)))"
   ]
  },
  {
   "cell_type": "code",
   "execution_count": 229,
   "metadata": {
    "scrolled": true
   },
   "outputs": [
    {
     "name": "stdout",
     "output_type": "stream",
     "text": [
      "yes exist\n",
      "yes exist\n"
     ]
    }
   ],
   "source": [
    "# TF-IDF weighted Word2Vec\n",
    "\n",
    "# Train data operation\n",
    "\n",
    "# store model to hard disk if exist then load model directly from memory\n",
    "exists = os.path.isfile(w2v_tf_idf_trained_model_100000)\n",
    "\n",
    "if exists:\n",
    "    print(\"yes exist\")\n",
    "    final_tfidf_w2v_tr = load(w2v_tf_idf_trained_model_100000)\n",
    "else:   \n",
    "    print(\"not exist\")\n",
    "    tfidf_feat = tf_idf_vect.get_feature_names() # tfidf words/col-names\n",
    "    # final_tf_idf is the sparse matrix with row= sentence, col=word and cell_val = tfidf\n",
    "\n",
    "    final_tfidf_w2v_tr = []; # the tfidf-w2v for each sentence/review is stored in this list\n",
    "    row=0;\n",
    "    for sent in tqdm(list_of_sentance): # for each review/sentence \n",
    "        sent_vec = np.zeros(50) # as word vectors are of zero length\n",
    "        weight_sum =0; # num of words with a valid vector in the sentence/review\n",
    "        for word in sent: # for each word in a review/sentence\n",
    "            if word in w2v_train_words and word in tfidf_feat:\n",
    "                vec = w2v_model_tr.wv[word]\n",
    "    #             tf_idf = tf_idf_matrix[row, tfidf_feat.index(word)]\n",
    "                # to reduce the computation we are \n",
    "                # dictionary[word] = idf value of word in whole courpus\n",
    "                # sent.count(word) = tf valeus of word in this review\n",
    "                tf_idf = dictionary[word]*(sent.count(word)/len(sent))\n",
    "                sent_vec += (vec * tf_idf)\n",
    "                weight_sum += tf_idf\n",
    "        if weight_sum != 0:\n",
    "            sent_vec /= weight_sum\n",
    "        final_tfidf_w2v_tr.append(sent_vec)\n",
    "        row += 1\n",
    "    dump(final_tfidf_w2v_tr,w2v_tf_idf_trained_model_100000)\n",
    "    \n",
    "    \n",
    "# Test data operation ============\n",
    "\n",
    "# store model to hard disk if exist then load model directly from memory\n",
    "exists = os.path.isfile(w2v_tf_idf_test_model_100000)\n",
    "\n",
    "if exists:\n",
    "    print(\"yes exist\")\n",
    "    final_tfidf_w2v_test = load(w2v_tf_idf_test_model_100000) \n",
    "\n",
    "else:   \n",
    "    print(\"not exist\")\n",
    "    # final_tf_idf is the sparse matrix with row= sentence, col=word and cell_val = tfidf\n",
    "    final_tfidf_w2v_test = []; # the tfidf-w2v for each sentence/review is stored in this list\n",
    "    row=0;\n",
    "    for sent in tqdm(list_of_test_sentence): # for each review/sentence \n",
    "        sent_vec = np.zeros(50) # as word vectors are of zero length\n",
    "        weight_sum =0; # num of words with a valid vector in the sentence/review\n",
    "        for word in sent: # for each word in a review/sentence\n",
    "            if word in w2v_test_words and word in tfidf_feat:\n",
    "                vec = w2v_model_test.wv[word]\n",
    "    #             tf_idf = tf_idf_matrix[row, tfidf_feat.index(word)]\n",
    "                # to reduce the computation we are \n",
    "                # dictionary[word] = idf value of word in whole courpus\n",
    "                # sent.count(word) = tf valeus of word in this review\n",
    "                tf_idf = dictionary[word]*(sent.count(word)/len(sent))\n",
    "                sent_vec += (vec * tf_idf)\n",
    "                weight_sum += tf_idf\n",
    "        if weight_sum != 0:\n",
    "            sent_vec /= weight_sum\n",
    "        final_tfidf_w2v_test.append(sent_vec)\n",
    "        row += 1\n",
    "    dump(final_tfidf_w2v_test,w2v_tf_idf_test_model_100000)\n",
    "        "
   ]
  },
  {
   "cell_type": "markdown",
   "metadata": {},
   "source": [
    "# [5] Assignment 3: KNN"
   ]
  },
  {
   "cell_type": "code",
   "execution_count": 230,
   "metadata": {},
   "outputs": [],
   "source": [
    "# Common Methods\n",
    "\n",
    "# define the range, through which we are going to find K-hyperparameter\n",
    "k_range = list(range(7, 67,6))\n",
    "\n",
    "def finding_best_k(X_tr,y_tr ,algoName):\n",
    "\n",
    "    # instantiate learning model\n",
    "    knn = KNeighborsClassifier(algorithm = algoName)\n",
    "    \n",
    "    param_grid = dict(n_neighbors=k_range)\n",
    "    \n",
    "    #For time based splitting\n",
    "    tscv = TimeSeriesSplit(n_splits=12) \n",
    "    \n",
    "    # instantiate the training grid search model\n",
    "    train_grid = GridSearchCV(knn, param_grid, cv=tscv, scoring='roc_auc',n_jobs =-1,verbose=10 )\n",
    "    \n",
    "    # fit the training data to train model\n",
    "    train_grid.fit(X_tr, y_tr)\n",
    "\n",
    "    return train_grid\n",
    "\n",
    "def train_with_optimal_k(kvalue, algoName):\n",
    "    \n",
    "    # instantiate learning model\n",
    "    knn = KNeighborsClassifier(n_neighbors=kvalue , algorithm = algoName)\n",
    "    return knn\n",
    "\n",
    "\n",
    "def plotAccuracyGraph(training_grid):\n",
    "    neig = [i for i in k_range]\n",
    "    accuracy = [(i)*100 for i in training_grid.cv_results_['mean_train_score']]\n",
    "    accuracy_test = [(i)*100 for i in training_grid.cv_results_['mean_test_score']]\n",
    "    plt.plot(neig, accuracy,'r',label='train_accuracy')\n",
    "    plt.plot(neig, accuracy_test,'b',label='validation_accuracy')\n",
    "    plt.title('Accuracy plot')\n",
    "    plt.xlabel('Alpha') \n",
    "    plt.ylabel('Accuracy')\n",
    "    plt.grid('on')\n",
    "    plt.legend()\n",
    "    plt.show()\n",
    "        \n",
    "# https://www.geeksforgeeks.org/confusion-matrix-machine-learning/    \n",
    "def plotConfusionMatrix(y_test,pred):\n",
    "    conf_matrix =  confusion_matrix(y_test,pred)\n",
    "    class_label = ['negative', 'positive']\n",
    "    df_conf_matrix = pd.DataFrame(\n",
    "        conf_matrix, index=class_label, columns=class_label)\n",
    "    sns.heatmap(df_conf_matrix, annot=True, fmt='d')\n",
    "    plt.title(\"Confusion Matrix\")\n",
    "    plt.xlabel(\"Predicted\")\n",
    "    plt.ylabel(\"Actual\")\n",
    "    plt.show()\n",
    "    \n",
    "\n",
    "# https://machinelearningmastery.com/roc-curves-and-precision-recall-curves-for-classification-in-python/\n",
    "# plot AUC curve\n",
    "def plotAUC_ROC(nb_optimal,X_train, y_train, X_test, y_test):\n",
    "    # predict probabilities\n",
    "    test_probs = nb_optimal.predict_proba(X_test)\n",
    "    train_probs = nb_optimal.predict_proba(X_train)\n",
    "    \n",
    "    # keep probabilities for the positive outcome only\n",
    "    test_probs = test_probs[:, 1]\n",
    "    train_probs = train_probs[:, 1]\n",
    "    \n",
    "    # calculate AUC\n",
    "    test_auc = roc_auc_score(y_test, test_probs)\n",
    "    train_auc = roc_auc_score(y_train, train_probs)\n",
    "    \n",
    "    # calculate roc curve\n",
    "    train_fpr, train_tpr, thresholds = roc_curve(y_train, train_probs)\n",
    "    test_fpr, test_tpr, thresholds2 = roc_curve(y_test, test_probs)\n",
    "    \n",
    "    # plot no skill\n",
    "    pyplot.plot([0, 1], [0, 1], linestyle='--')\n",
    "    \n",
    "    # plot the roc curve for the model\n",
    "    pyplot.plot(train_fpr, train_tpr, 'r',marker='.', label=\"train AUC =\"+str(train_auc))\n",
    "    pyplot.plot(test_fpr, test_tpr, 'b',marker='.',label=\"test AUC =\"+str(test_auc))\n",
    "    \n",
    "    pyplot.legend()\n",
    "    pyplot.xlabel(\"K: hyperparameter\")\n",
    "    pyplot.ylabel(\"AUC\")\n",
    "    pyplot.title(\"ERROR PLOTS\")\n",
    "    # show the plot\n",
    "    pyplot.show()\n",
    "    \n",
    "    return train_auc, test_auc\n",
    "\n",
    "class color:\n",
    "   PURPLE = '\\033[95m'\n",
    "   CYAN = '\\033[96m'\n",
    "   DARKCYAN = '\\033[36m'\n",
    "   BLUE = '\\033[94m'\n",
    "   GREEN = '\\033[92m'\n",
    "   YELLOW = '\\033[93m'\n",
    "   RED = '\\033[91m'\n",
    "   BOLD = '\\033[1m'\n",
    "   UNDERLINE = '\\033[4m'\n",
    "   END = '\\033[0m'"
   ]
  },
  {
   "cell_type": "markdown",
   "metadata": {},
   "source": [
    "### Note : For Brute force algorithm, we have trained model on '100k' points"
   ]
  },
  {
   "cell_type": "markdown",
   "metadata": {},
   "source": [
    "## [5.1] Applying KNN brute force"
   ]
  },
  {
   "cell_type": "markdown",
   "metadata": {},
   "source": [
    "### [5.1.1] Applying KNN brute force on BOW using GridSearchCV"
   ]
  },
  {
   "cell_type": "code",
   "execution_count": 231,
   "metadata": {},
   "outputs": [],
   "source": [
    "# instantiate learning model\n",
    "knn = KNeighborsClassifier(algorithm = 'brute')"
   ]
  },
  {
   "cell_type": "code",
   "execution_count": 232,
   "metadata": {},
   "outputs": [
    {
     "name": "stdout",
     "output_type": "stream",
     "text": [
      "{'n_neighbors': [7, 13, 19, 25, 31, 37, 43, 49, 55, 61]}\n"
     ]
    }
   ],
   "source": [
    "# define the range, through which we are going to find K-hyperparameter\n",
    "k_range = list(range(7, 67,6))\n",
    "\n",
    "param_grid = dict(n_neighbors=k_range)\n",
    "print(param_grid)"
   ]
  },
  {
   "cell_type": "code",
   "execution_count": 233,
   "metadata": {},
   "outputs": [
    {
     "name": "stdout",
     "output_type": "stream",
     "text": [
      "(61441, 46446)\n",
      "(26332, 46446)\n"
     ]
    }
   ],
   "source": [
    "print(final_bow_count_vect.shape)\n",
    "print(final_bow_test.shape)"
   ]
  },
  {
   "cell_type": "code",
   "execution_count": 234,
   "metadata": {},
   "outputs": [
    {
     "name": "stdout",
     "output_type": "stream",
     "text": [
      "yes exist\n",
      "=======Training========\n",
      "0.7013419068399666\n",
      "{'n_neighbors': 61}\n",
      "KNeighborsClassifier(algorithm='brute', leaf_size=30, metric='minkowski',\n",
      "           metric_params=None, n_jobs=None, n_neighbors=61, p=2,\n",
      "           weights='uniform')\n"
     ]
    }
   ],
   "source": [
    "bow_brute_train = '/home/pranay/Amazon Assignments/KNN/BOW/bow_brute_train'\n",
    "\n",
    "exists = os.path.isfile(bow_brute_train)\n",
    "if exists:\n",
    "    print(\"yes exist\")\n",
    "    bow_train = load(bow_brute_train)\n",
    "else:\n",
    "    #For time based splitting\n",
    "    tscv = TimeSeriesSplit(n_splits=10)\n",
    "\n",
    "    # instantiate the grid\n",
    "    bow_train = GridSearchCV(knn, param_grid, cv=tscv, scoring='roc_auc',n_jobs =-1 )\n",
    "\n",
    "    # fit the grid with training data\n",
    "    bow_train.fit(final_bow_count_vect, y_train)\n",
    "    \n",
    "    dump(bow_train,bow_brute_train)\n",
    "\n",
    "# view the complete results (list of named tuples)\n",
    "print(\"=======Training========\")\n",
    "print (bow_train.best_score_)\n",
    "print (bow_train.best_params_)\n",
    "print (bow_train.best_estimator_)"
   ]
  },
  {
   "cell_type": "code",
   "execution_count": 235,
   "metadata": {},
   "outputs": [
    {
     "data": {
      "image/png": "[encoded data removed]",
      "text/plain": [
       "<Figure size 432x288 with 1 Axes>"
      ]
     },
     "metadata": {
      "needs_background": "light"
     },
     "output_type": "display_data"
    }
   ],
   "source": [
    "neig = [i for i in k_range]\n",
    "error = [(1-i)*100 for i in bow_train.cv_results_['mean_train_score']]\n",
    "error_test = [(1-i)*100 for i in bow_train.cv_results_['mean_test_score']]\n",
    "plt.plot(neig, error,'r',label='train_error')\n",
    "plt.plot(neig, error_test,'b',label='validation_error')\n",
    "plt.title('Error plot')\n",
    "plt.xlabel('No. of Neighbors')\n",
    "plt.ylabel('Test_Error')\n",
    "plt.grid('on')\n",
    "plt.legend()\n",
    "plt.show()"
   ]
  },
  {
   "cell_type": "code",
   "execution_count": 236,
   "metadata": {},
   "outputs": [
    {
     "name": "stdout",
     "output_type": "stream",
     "text": [
      "yes exist\n"
     ]
    }
   ],
   "source": [
    "# ============================== KNN with k = optimal_k ===============================================\n",
    "\n",
    "\n",
    "exists = os.path.isfile(knn_trained_bow)\n",
    "if exists:\n",
    "    print(\"yes exist\")\n",
    "    knn_optimal = load(knn_trained_bow)\n",
    "    bow_pred = knn_optimal.predict(final_bow_test)\n",
    "    bow_train_pred = knn_optimal.predict(final_bow_count_vect)\n",
    "else:\n",
    "    print(\"not exist\")\n",
    "    # instantiate learning model k = optimal_k\n",
    "    knn_optimal = KNeighborsClassifier(n_neighbors=optimal_k , algorithm = 'brute')\n",
    "\n",
    "    # fitting the model\n",
    "    knn_optimal.fit(final_bow_count_vect, y_train)\n",
    "\n",
    "    # predict the response\n",
    "    bow_pred = knn_optimal.predict(final_bow_test)\n",
    "    bow_train_pred = knn_optimal.predict(final_bow_count_vect)\n",
    "    dump(knn_optimal,knn_trained_bow)\n"
   ]
  },
  {
   "cell_type": "code",
   "execution_count": 237,
   "metadata": {},
   "outputs": [
    {
     "name": "stdout",
     "output_type": "stream",
     "text": [
      "\n",
      "\u001b[1mConfusion Matrix for Train data\u001b[0m\n"
     ]
    },
    {
     "data": {
      "image/png": "[encoded data removed]",
      "text/plain": [
       "<Figure size 432x288 with 2 Axes>"
      ]
     },
     "metadata": {
      "needs_background": "light"
     },
     "output_type": "display_data"
    },
    {
     "name": "stdout",
     "output_type": "stream",
     "text": [
      "\n",
      "\u001b[1mConfusion Matrix for Test data\u001b[0m\n"
     ]
    },
    {
     "data": {
      "image/png": "[encoded data removed]",
      "text/plain": [
       "<Figure size 432x288 with 2 Axes>"
      ]
     },
     "metadata": {
      "needs_background": "light"
     },
     "output_type": "display_data"
    },
    {
     "data": {
      "image/png": "[encoded data removed]",
      "text/plain": [
       "<Figure size 432x288 with 1 Axes>"
      ]
     },
     "metadata": {
      "needs_background": "light"
     },
     "output_type": "display_data"
    },
    {
     "name": "stdout",
     "output_type": "stream",
     "text": [
      "\n",
      "\u001b[91mAUC (Train): \u001b[0m\u001b[1m0.7745848923361176\u001b[0m\n",
      "\n",
      "\u001b[91mAUC (Test): \u001b[0m\u001b[1m0.6932294357780935\u001b[0m\n",
      "\n",
      "\u001b[91mF1 SCORE (Train) : \u001b[0m\u001b[1m0.9119984017870927\u001b[0m\n",
      "\n",
      "\u001b[91mF1 SCORE (Test) : \u001b[0m\u001b[1m0.910700669321359\u001b[0m\n",
      "\n",
      "\u001b[91mRECALL (Train): \u001b[0m\u001b[1m0.9752952144188938\u001b[0m\n",
      "\n",
      "\u001b[91mRECALL (Test): \u001b[0m\u001b[1m0.9725841476655809\u001b[0m\n",
      "\n",
      "\u001b[91mPRECISION  (Train) : \u001b[0m\u001b[1m0.8564168158949433\u001b[0m\n",
      "\n",
      "\u001b[91mPRECISION  (Test) : \u001b[0m\u001b[1m0.8562211247411183\u001b[0m\n"
     ]
    }
   ],
   "source": [
    "# plot confusion matrix\n",
    "\n",
    "print('\\n'+color.BOLD +'Confusion Matrix for Train data'+color.END)\n",
    "plotConfusionMatrix(y_train,bow_train_pred)\n",
    "\n",
    "print('\\n'+color.BOLD +'Confusion Matrix for Test data'+color.END)\n",
    "plotConfusionMatrix(y_test,bow_pred)\n",
    "\n",
    "# plot AUC\n",
    "train_auc, test_auc = plotAUC_ROC(knn_optimal,final_bow_count_vect, y_train ,final_bow_test, y_test)\n",
    "print('\\n'+color.RED+'AUC (Train): '+color.END+color.BOLD+str(train_auc)+color.END)\n",
    "\n",
    "print('\\n'+color.RED+'AUC (Test): '+color.END+color.BOLD+str(test_auc)+color.END)\n",
    "\n",
    "# f1 score\n",
    "score = f1_score(y_test,bow_pred)\n",
    "print('\\n'+color.RED+'F1 SCORE (Train) : '+color.END+color.BOLD+str(f1_score(y_train,bow_train_pred))+color.END)\n",
    "print('\\n'+color.RED+'F1 SCORE (Test) : '+color.END+color.BOLD+str(score)+color.END)\n",
    "\n",
    "# recall\n",
    "recall = metrics.recall_score(y_test, bow_pred)\n",
    "print('\\n'+color.RED+'RECALL (Train): '+color.END+color.BOLD+str(metrics.recall_score(y_train, bow_train_pred))+color.END)\n",
    "print('\\n'+color.RED+'RECALL (Test): '+color.END+color.BOLD+str(recall)+color.END)\n",
    "\n",
    "# precision\n",
    "precision = metrics.precision_score(y_test, bow_pred)\n",
    "print('\\n'+color.RED+'PRECISION  (Train) : '+color.END+color.BOLD+str(metrics.precision_score(y_train, bow_train_pred))+color.END)\n",
    "print('\\n'+color.RED+'PRECISION  (Test) : '+color.END+color.BOLD+str(precision)+color.END)"
   ]
  },
  {
   "cell_type": "markdown",
   "metadata": {},
   "source": [
    "### [5.1.2] Applying KNN brute force on TFIDF, using GridSearchCV"
   ]
  },
  {
   "cell_type": "code",
   "execution_count": 238,
   "metadata": {},
   "outputs": [
    {
     "name": "stdout",
     "output_type": "stream",
     "text": [
      "=======Training========\n",
      "0.6270425413945637\n",
      "{'n_neighbors': 61}\n",
      "KNeighborsClassifier(algorithm='brute', leaf_size=30, metric='minkowski',\n",
      "           metric_params=None, n_jobs=None, n_neighbors=61, p=2,\n",
      "           weights='uniform')\n"
     ]
    },
    {
     "data": {
      "image/png": "[encoded data removed]",
      "text/plain": [
       "<Figure size 432x288 with 1 Axes>"
      ]
     },
     "metadata": {
      "needs_background": "light"
     },
     "output_type": "display_data"
    }
   ],
   "source": [
    "path_tfidf_train = '/home/pranay/Amazon Assignments/KNN/TFIDF/tfidf_brute_train'\n",
    "\n",
    "exists = os.path.isfile(path_tfidf_train)\n",
    "if exists:\n",
    "    tfidf_train = load(path_tfidf_train)\n",
    "else:\n",
    "    print(\"not exist\")\n",
    "    tfidf_train = finding_best_k(final_tf_idf,y_train, 'brute')\n",
    "    dump(tfidf_train,path_tfidf_train)\n",
    "\n",
    "# view the complete results (list of named tuples)\n",
    "print(\"=======Training========\")\n",
    "print (tfidf_train.best_score_)\n",
    "print (tfidf_train.best_params_)\n",
    "print (tfidf_train.best_estimator_)\n",
    "\n",
    "plotAccuracyGraph(tfidf_train)"
   ]
  },
  {
   "cell_type": "code",
   "execution_count": 239,
   "metadata": {},
   "outputs": [
    {
     "name": "stdout",
     "output_type": "stream",
     "text": [
      "\n",
      "\u001b[1mConfusion Matrix for Train data\u001b[0m\n"
     ]
    },
    {
     "data": {
      "image/png": "[encoded data removed]",
      "text/plain": [
       "<Figure size 432x288 with 2 Axes>"
      ]
     },
     "metadata": {
      "needs_background": "light"
     },
     "output_type": "display_data"
    },
    {
     "name": "stdout",
     "output_type": "stream",
     "text": [
      "\n",
      "\u001b[1mConfusion Matrix for Test data\u001b[0m\n"
     ]
    },
    {
     "data": {
      "image/png": "[encoded data removed]",
      "text/plain": [
       "<Figure size 432x288 with 2 Axes>"
      ]
     },
     "metadata": {
      "needs_background": "light"
     },
     "output_type": "display_data"
    },
    {
     "data": {
      "image/png": "[encoded data removed]",
      "text/plain": [
       "<Figure size 432x288 with 1 Axes>"
      ]
     },
     "metadata": {
      "needs_background": "light"
     },
     "output_type": "display_data"
    },
    {
     "name": "stdout",
     "output_type": "stream",
     "text": [
      "\n",
      "\u001b[91mAUC (Train): \u001b[0m\u001b[1m0.7844039999183233\u001b[0m\n",
      "\n",
      "\u001b[91mAUC (Test): \u001b[0m\u001b[1m0.512459629005876\u001b[0m\n",
      "\n",
      "\u001b[91mF1 SCORE (Train) : \u001b[0m\u001b[1m0.9122424564668351\u001b[0m\n",
      "\n",
      "\u001b[91mF1 SCORE (Test) : \u001b[0m\u001b[1m0.9122531603734612\u001b[0m\n",
      "\n",
      "\u001b[91mRECALL (Train): \u001b[0m\u001b[1m0.9996698259788689\u001b[0m\n",
      "\n",
      "\u001b[91mRECALL (Test): \u001b[0m\u001b[1m0.9990047050307637\u001b[0m\n",
      "\n",
      "\u001b[91mPRECISION  (Train) : \u001b[0m\u001b[1m0.8388773897028864\u001b[0m\n",
      "\n",
      "\u001b[91mPRECISION  (Test) : \u001b[0m\u001b[1m0.8393644518777558\u001b[0m\n"
     ]
    }
   ],
   "source": [
    "path_tfidf_optimal = '/home/pranay/Amazon Assignments/KNN/TFIDF/tfidf_brute_optimal'\n",
    "\n",
    "exists = os.path.isfile(path_tfidf_optimal)\n",
    "\n",
    "if exists:\n",
    "    knn_optimal = load(path_tfidf_optimal)\n",
    "    # predict the response\n",
    "    tfidf_pred = knn_optimal.predict(final_tfidf_test)\n",
    "    tfidf_train_pred = knn_optimal.predict(final_tf_idf)\n",
    "else:\n",
    "    knn_optimal= train_with_optimal_k(9,'brute') # it will return trained model with best k\n",
    "\n",
    "    # fitting the model\n",
    "    knn_optimal.fit(final_tf_idf, y_train)\n",
    "\n",
    "    # predict the response\n",
    "    tfidf_pred = knn_optimal.predict(final_tfidf_test)\n",
    "    tfidf_train_pred = knn_optimal.predict(final_tf_idf)\n",
    "    dump(knn_optimal, path_tfidf_optimal)\n",
    "\n",
    "\n",
    "# plot confusion matrix\n",
    "\n",
    "print('\\n'+color.BOLD +'Confusion Matrix for Train data'+color.END)\n",
    "plotConfusionMatrix(y_train,tfidf_train_pred)\n",
    "\n",
    "print('\\n'+color.BOLD +'Confusion Matrix for Test data'+color.END)\n",
    "plotConfusionMatrix(y_test,tfidf_pred)\n",
    "\n",
    "# plot AUC\n",
    "train_auc,test_auc = plotAUC_ROC(knn_optimal,final_tf_idf, y_train,final_tfidf_test, y_test )\n",
    "print('\\n'+color.RED+'AUC (Train): '+color.END+color.BOLD+str(train_auc)+color.END)\n",
    "print('\\n'+color.RED+'AUC (Test): '+color.END+color.BOLD+str(test_auc)+color.END)\n",
    "\n",
    "# f1 score\n",
    "score = f1_score(y_test,tfidf_pred)\n",
    "print('\\n'+color.RED+'F1 SCORE (Train) : '+color.END+color.BOLD+str(f1_score(y_train,tfidf_train_pred))+color.END)\n",
    "print('\\n'+color.RED+'F1 SCORE (Test) : '+color.END+color.BOLD+str(score)+color.END)\n",
    "\n",
    "# recall\n",
    "recall = metrics.recall_score(y_test, tfidf_pred)\n",
    "print('\\n'+color.RED+'RECALL (Train): '+color.END+color.BOLD+str(metrics.recall_score(y_train, tfidf_train_pred))+color.END)\n",
    "print('\\n'+color.RED+'RECALL (Test): '+color.END+color.BOLD+str(recall)+color.END)\n",
    "\n",
    "# precision\n",
    "precision = metrics.precision_score(y_test, tfidf_pred)\n",
    "print('\\n'+color.RED+'PRECISION  (Train) : '+color.END+color.BOLD+str(metrics.precision_score(y_train, tfidf_train_pred))+color.END)\n",
    "print('\\n'+color.RED+'PRECISION  (Test) : '+color.END+color.BOLD+str(precision)+color.END)"
   ]
  },
  {
   "cell_type": "markdown",
   "metadata": {},
   "source": [
    "### [5.1.3] Applying KNN brute force on AVG W2V, using GridSearchCV"
   ]
  },
  {
   "cell_type": "code",
   "execution_count": 240,
   "metadata": {},
   "outputs": [
    {
     "name": "stdout",
     "output_type": "stream",
     "text": [
      "=======Training========\n",
      "0.8857065392653695\n",
      "{'n_neighbors': 61}\n",
      "KNeighborsClassifier(algorithm='brute', leaf_size=30, metric='minkowski',\n",
      "           metric_params=None, n_jobs=None, n_neighbors=61, p=2,\n",
      "           weights='uniform')\n"
     ]
    },
    {
     "data": {
      "image/png": "[encoded data removed]",
      "text/plain": [
       "<Figure size 432x288 with 1 Axes>"
      ]
     },
     "metadata": {
      "needs_background": "light"
     },
     "output_type": "display_data"
    }
   ],
   "source": [
    "path_w2v_train = '/home/pranay/Amazon Assignments/KNN/W2V/w2v_brute_train'\n",
    "\n",
    "exists = os.path.isfile(path_w2v_train)\n",
    "if exists:\n",
    "    w2v_train = load(path_w2v_train)\n",
    "\n",
    "else:\n",
    "    print(\"not exist\")\n",
    "    w2v_train = finding_best_k(final_w2v_train,y_train,'brute')\n",
    "    dump(w2v_train,path_w2v_train)\n",
    "\n",
    "# view the complete results (list of named tuples)\n",
    "print(\"=======Training========\")\n",
    "print (w2v_train.best_score_)\n",
    "print (w2v_train.best_params_)\n",
    "print (w2v_train.best_estimator_)\n",
    "\n",
    "plotAccuracyGraph(w2v_train)"
   ]
  },
  {
   "cell_type": "code",
   "execution_count": 241,
   "metadata": {},
   "outputs": [
    {
     "name": "stdout",
     "output_type": "stream",
     "text": [
      "yes exist\n",
      "\n",
      "\u001b[1mConfusion Matrix for Train data\u001b[0m\n"
     ]
    },
    {
     "data": {
      "image/png": "[encoded data removed]",
      "text/plain": [
       "<Figure size 432x288 with 2 Axes>"
      ]
     },
     "metadata": {
      "needs_background": "light"
     },
     "output_type": "display_data"
    },
    {
     "name": "stdout",
     "output_type": "stream",
     "text": [
      "\n",
      "\u001b[1mConfusion Matrix for Test data\u001b[0m\n"
     ]
    },
    {
     "data": {
      "image/png": "[encoded data removed]",
      "text/plain": [
       "<Figure size 432x288 with 2 Axes>"
      ]
     },
     "metadata": {
      "needs_background": "light"
     },
     "output_type": "display_data"
    },
    {
     "data": {
      "image/png": "[encoded data removed]",
      "text/plain": [
       "<Figure size 432x288 with 1 Axes>"
      ]
     },
     "metadata": {
      "needs_background": "light"
     },
     "output_type": "display_data"
    },
    {
     "name": "stdout",
     "output_type": "stream",
     "text": [
      "\n",
      "\u001b[91mAUC (Train): \u001b[0m\u001b[1m0.9117117348679877\u001b[0m\n",
      "\n",
      "\u001b[91mAUC (Test): \u001b[0m\u001b[1m0.7880632807120447\u001b[0m\n",
      "\n",
      "\u001b[91mF1 SCORE (Train) : \u001b[0m\u001b[1m0.931368768934178\u001b[0m\n",
      "\n",
      "\u001b[91mF1 SCORE (Test) : \u001b[0m\u001b[1m0.9172084775816939\u001b[0m\n",
      "\n",
      "\u001b[91mRECALL (Train): \u001b[0m\u001b[1m0.9852198570540709\u001b[0m\n",
      "\n",
      "\u001b[91mRECALL (Test): \u001b[0m\u001b[1m0.9828537821208831\u001b[0m\n",
      "\n",
      "\u001b[91mPRECISION  (Train) : \u001b[0m\u001b[1m0.8830994742522893\u001b[0m\n",
      "\n",
      "\u001b[91mPRECISION  (Test) : \u001b[0m\u001b[1m0.8597831249010607\u001b[0m\n"
     ]
    }
   ],
   "source": [
    "path_w2v_optimal = '/home/pranay/Amazon Assignments/KNN/W2V/w2v_brute_optimal'\n",
    "\n",
    "# best_k_value = w2v_train.best_params_.get('n_neighbors')\n",
    "\n",
    "exists = os.path.isfile(path_w2v_optimal)\n",
    "\n",
    "if exists:\n",
    "    print(\"yes exist\")\n",
    "    knn_optimal = load(path_w2v_optimal)\n",
    "    # predict the response\n",
    "    test_pred = knn_optimal.predict(final_w2v_test)\n",
    "    train_pred = knn_optimal.predict(final_w2v_train)\n",
    "\n",
    "else:   \n",
    "    print(\"not exist\")\n",
    "    knn_optimal= train_with_optimal_k(40,'brute') # it will return trained model with best k\n",
    "\n",
    "    # fitting the model\n",
    "    knn_optimal.fit(final_w2v_train, y_train)\n",
    "\n",
    "    # predict the response\n",
    "    test_pred = knn_optimal.predict(final_w2v_test)\n",
    "    train_pred = knn_optimal.predict(final_w2v_train)\n",
    "    dump(knn_optimal, path_w2v_optimal)\n",
    "\n",
    "# plot confusion matrix\n",
    "\n",
    "print('\\n'+color.BOLD +'Confusion Matrix for Train data'+color.END)\n",
    "plotConfusionMatrix(y_train,train_pred)\n",
    "\n",
    "print('\\n'+color.BOLD +'Confusion Matrix for Test data'+color.END)\n",
    "plotConfusionMatrix(y_test,test_pred)\n",
    "\n",
    "# plot AUC\n",
    "train_auc,test_auc = plotAUC_ROC(knn_optimal,final_w2v_train, y_train,final_w2v_test, y_test )\n",
    "print('\\n'+color.RED+'AUC (Train): '+color.END+color.BOLD+str(train_auc)+color.END)\n",
    "print('\\n'+color.RED+'AUC (Test): '+color.END+color.BOLD+str(test_auc)+color.END)\n",
    "\n",
    "# f1 score\n",
    "score = f1_score(y_test,test_pred)\n",
    "print('\\n'+color.RED+'F1 SCORE (Train) : '+color.END+color.BOLD+str(f1_score(y_train,train_pred))+color.END)\n",
    "print('\\n'+color.RED+'F1 SCORE (Test) : '+color.END+color.BOLD+str(score)+color.END)\n",
    "\n",
    "# recall\n",
    "recall = metrics.recall_score(y_test, test_pred)\n",
    "print('\\n'+color.RED+'RECALL (Train): '+color.END+color.BOLD+str(metrics.recall_score(y_train, train_pred))+color.END)\n",
    "print('\\n'+color.RED+'RECALL (Test): '+color.END+color.BOLD+str(recall)+color.END)\n",
    "\n",
    "# precision\n",
    "precision = metrics.precision_score(y_test, test_pred)\n",
    "print('\\n'+color.RED+'PRECISION  (Train) : '+color.END+color.BOLD+str(metrics.precision_score(y_train, train_pred))+color.END)\n",
    "print('\\n'+color.RED+'PRECISION  (Test) : '+color.END+color.BOLD+str(precision)+color.END)"
   ]
  },
  {
   "cell_type": "markdown",
   "metadata": {},
   "source": [
    "### [5.1.4] Applying KNN brute force on TFIDF W2V, using GridSearchCV"
   ]
  },
  {
   "cell_type": "code",
   "execution_count": 242,
   "metadata": {},
   "outputs": [
    {
     "name": "stdout",
     "output_type": "stream",
     "text": [
      "yes exist\n",
      "=======Training========\n",
      "0.8531849168462964\n",
      "{'n_neighbors': 61}\n",
      "KNeighborsClassifier(algorithm='brute', leaf_size=30, metric='minkowski',\n",
      "           metric_params=None, n_jobs=None, n_neighbors=61, p=2,\n",
      "           weights='uniform')\n"
     ]
    },
    {
     "data": {
      "image/png": "[encoded data removed]",
      "text/plain": [
       "<Figure size 432x288 with 1 Axes>"
      ]
     },
     "metadata": {
      "needs_background": "light"
     },
     "output_type": "display_data"
    }
   ],
   "source": [
    "path_w2v_tfidf_train = '/home/pranay/Amazon Assignments/KNN/W2V TFIDF/w2v_tfidf_brute_train'\n",
    "\n",
    "exists = os.path.isfile(path_w2v_tfidf_train)\n",
    "if exists:\n",
    "    print(\"yes exist\")\n",
    "    w2v_tfidf_train = load(path_w2v_tfidf_train)\n",
    "\n",
    "else:   \n",
    "    print(\"not exist\")\n",
    "    w2v_tfidf_train = finding_best_k(final_tfidf_w2v_tr,y_train,'brute')\n",
    "    dump(w2v_tfidf_train,path_w2v_tfidf_train )\n",
    "\n",
    "# view the complete results (list of named tuples)\n",
    "print(\"=======Training========\")\n",
    "print (w2v_tfidf_train.best_score_)\n",
    "print (w2v_tfidf_train.best_params_)\n",
    "print (w2v_tfidf_train.best_estimator_)\n",
    "\n",
    "plotAccuracyGraph(w2v_tfidf_train) "
   ]
  },
  {
   "cell_type": "code",
   "execution_count": 243,
   "metadata": {},
   "outputs": [
    {
     "name": "stdout",
     "output_type": "stream",
     "text": [
      "yes exist\n",
      "\n",
      "\u001b[1mConfusion Matrix for Train data\u001b[0m\n"
     ]
    },
    {
     "data": {
      "image/png": "[encoded data removed]",
      "text/plain": [
       "<Figure size 432x288 with 2 Axes>"
      ]
     },
     "metadata": {
      "needs_background": "light"
     },
     "output_type": "display_data"
    },
    {
     "name": "stdout",
     "output_type": "stream",
     "text": [
      "\n",
      "\u001b[1mConfusion Matrix for Test data\u001b[0m\n"
     ]
    },
    {
     "data": {
      "image/png": "[encoded data removed]",
      "text/plain": [
       "<Figure size 432x288 with 2 Axes>"
      ]
     },
     "metadata": {
      "needs_background": "light"
     },
     "output_type": "display_data"
    },
    {
     "data": {
      "image/png": "[encoded data removed]",
      "text/plain": [
       "<Figure size 432x288 with 1 Axes>"
      ]
     },
     "metadata": {
      "needs_background": "light"
     },
     "output_type": "display_data"
    },
    {
     "name": "stdout",
     "output_type": "stream",
     "text": [
      "\n",
      "\u001b[91mAUC (Train): \u001b[0m\u001b[1m0.8871391673947104\u001b[0m\n",
      "\n",
      "\u001b[91mAUC (Test): \u001b[0m\u001b[1m0.7693742090371107\u001b[0m\n",
      "\n",
      "\u001b[91mF1 SCORE (Train) : \u001b[0m\u001b[1m0.9269538877027791\u001b[0m\n",
      "\n",
      "\u001b[91mF1 SCORE (Test) : \u001b[0m\u001b[1m0.9166824584675637\u001b[0m\n",
      "\n",
      "\u001b[91mRECALL (Train): \u001b[0m\u001b[1m0.9865988191423244\u001b[0m\n",
      "\n",
      "\u001b[91mRECALL (Test): \u001b[0m\u001b[1m0.9847991313789359\u001b[0m\n",
      "\n",
      "\u001b[91mPRECISION  (Train) : \u001b[0m\u001b[1m0.8741095088963072\u001b[0m\n",
      "\n",
      "\u001b[91mPRECISION  (Test) : \u001b[0m\u001b[1m0.8573791799598252\u001b[0m\n"
     ]
    }
   ],
   "source": [
    "path_w2v_tfidf_optimal = '/home/pranay/Amazon Assignments/KNN/W2V TFIDF/w2v_tfidf_brute_optimal'\n",
    "\n",
    "# best_k_value = w2v_tfidf_train.best_params_.get('n_neighbors')\n",
    "\n",
    "exists = os.path.isfile(path_w2v_tfidf_optimal)\n",
    "if exists:\n",
    "    print(\"yes exist\")\n",
    "    knn_optimal = load(path_w2v_tfidf_optimal)\n",
    "    # predict the response\n",
    "    test_pred = knn_optimal.predict(final_tfidf_w2v_test)\n",
    "    train_pred = knn_optimal.predict(final_tfidf_w2v_tr)\n",
    "\n",
    "else:   \n",
    "    print(\"not exist\")\n",
    "    knn_optimal= train_with_optimal_k(40,'brute') # it will return trained model with best k\n",
    "\n",
    "    # fitting the model\n",
    "    knn_optimal.fit(final_tfidf_w2v_tr, y_train)\n",
    "\n",
    "    # predict the response\n",
    "    test_pred = knn_optimal.predict(final_tfidf_w2v_test)\n",
    "    train_pred = knn_optimal.predict(final_tfidf_w2v_tr)\n",
    "    dump(knn_optimal,path_w2v_tfidf_optimal)\n",
    "\n",
    "# plot confusion matrix\n",
    "\n",
    "print('\\n'+color.BOLD +'Confusion Matrix for Train data'+color.END)\n",
    "plotConfusionMatrix(y_train,train_pred)\n",
    "\n",
    "print('\\n'+color.BOLD +'Confusion Matrix for Test data'+color.END)\n",
    "plotConfusionMatrix(y_test,test_pred)\n",
    "\n",
    "# plot AUC\n",
    "train_auc,test_auc = plotAUC_ROC(knn_optimal,final_tfidf_w2v_tr, y_train,final_tfidf_w2v_test, y_test )\n",
    "print('\\n'+color.RED+'AUC (Train): '+color.END+color.BOLD+str(train_auc)+color.END)\n",
    "print('\\n'+color.RED+'AUC (Test): '+color.END+color.BOLD+str(test_auc)+color.END)\n",
    "\n",
    "# f1 score\n",
    "score = f1_score(y_test,test_pred)\n",
    "print('\\n'+color.RED+'F1 SCORE (Train) : '+color.END+color.BOLD+str(f1_score(y_train,train_pred))+color.END)\n",
    "print('\\n'+color.RED+'F1 SCORE (Test) : '+color.END+color.BOLD+str(score)+color.END)\n",
    "\n",
    "# recall\n",
    "recall = metrics.recall_score(y_test, test_pred)\n",
    "print('\\n'+color.RED+'RECALL (Train): '+color.END+color.BOLD+str(metrics.recall_score(y_train, train_pred))+color.END)\n",
    "print('\\n'+color.RED+'RECALL (Test): '+color.END+color.BOLD+str(recall)+color.END)\n",
    "\n",
    "# precision\n",
    "precision = metrics.precision_score(y_test, test_pred)\n",
    "print('\\n'+color.RED+'PRECISION  (Train) : '+color.END+color.BOLD+str(metrics.precision_score(y_train, train_pred))+color.END)\n",
    "print('\\n'+color.RED+'PRECISION  (Test) : '+color.END+color.BOLD+str(precision)+color.END)"
   ]
  },
  {
   "cell_type": "markdown",
   "metadata": {},
   "source": [
    "## [5.2] Applying KNN kd-tree"
   ]
  },
  {
   "cell_type": "markdown",
   "metadata": {},
   "source": [
    "### Note : For KD-Tree algorithm, we have trained model on '33k' points and top 5000 feautes only"
   ]
  },
  {
   "cell_type": "code",
   "execution_count": 244,
   "metadata": {},
   "outputs": [
    {
     "name": "stdout",
     "output_type": "stream",
     "text": [
      "(26400,) (6600,) (26400,) (6600,)\n"
     ]
    }
   ],
   "source": [
    "X = final['preprocessed_reviews'][:33000]\n",
    "y = final['Score'][:33000]\n",
    "\n",
    "# split the data set into train and test\n",
    "X_train, x_test, y_train, y_test = model_selection.train_test_split(X, y, test_size=0.2,random_state=0)\n",
    "\n",
    "print(X_train.shape, x_test.shape, y_train.shape, y_test.shape)"
   ]
  },
  {
   "cell_type": "markdown",
   "metadata": {},
   "source": [
    "### [5.2.1] Applying KNN kd-tree on BOW, using GridSearchCV"
   ]
  },
  {
   "cell_type": "code",
   "execution_count": 245,
   "metadata": {},
   "outputs": [
    {
     "name": "stdout",
     "output_type": "stream",
     "text": [
      "yes exist\n",
      "the type of count vectorizer  <class 'scipy.sparse.csr.csr_matrix'>\n",
      "the shape of out text BOW vectorizer  (26400, 5000)\n",
      "the number of unique words  5000\n"
     ]
    }
   ],
   "source": [
    "bow_trained_count_vect2='/home/pranay/ML trained models/BoW/bow_trained_count_vect2'\n",
    "\n",
    "#BoW\n",
    "\n",
    "# Train Vectorizor\n",
    "# store model to hard disk if exist then load model directly from memory\n",
    "exists = os.path.isfile(bow_trained_model_25000)\n",
    "\n",
    "if exists:\n",
    "    print(\"yes exist\")\n",
    "    final_bow_count_vect = load(bow_trained_model_25000) \n",
    "    bow_count_vect = load(bow_trained_count_vect)\n",
    "    print(\"the type of count vectorizer \",type(final_bow_count_vect))\n",
    "    print(\"the shape of out text BOW vectorizer \",final_bow_count_vect.get_shape())\n",
    "    print(\"the number of unique words \", final_bow_count_vect.get_shape()[1])\n",
    "else:\n",
    "    print(\"not exist\")\n",
    "    bow_count_vect = CountVectorizer(min_df=10, max_features=5000) #in scikit-learn\n",
    "    bow_count_vect.fit(X_train)\n",
    "    print(\"some feature names \", bow_count_vect.get_feature_names()[:10])\n",
    "    print('='*50)\n",
    "    final_bow_count_vect = bow_count_vect.fit_transform(X_train)\n",
    "    print(\"the type of count vectorizer \",type(final_bow_count_vect))\n",
    "    print(\"the shape of out text BOW vectorizer \",final_bow_count_vect.get_shape())\n",
    "    print(\"the number of unique words \", final_bow_count_vect.get_shape()[1])\n",
    "    dump(final_bow_count_vect, bow_trained_model_25000) \n",
    "    dump(bow_count_vect, bow_trained_count_vect2) \n",
    "\n",
    "    \n",
    "# Test Vectorizor\n",
    "exists = os.path.isfile(bow_test_model_25000)\n",
    "\n",
    "if exists:\n",
    "    final_bow_test = load(bow_test_model_25000)\n",
    "else:\n",
    "    final_bow_test = bow_count_vect.transform(x_test)\n",
    "    dump(final_bow_test,bow_test_model_25000 )\n",
    "    final_bow_test.shape"
   ]
  },
  {
   "cell_type": "code",
   "execution_count": 246,
   "metadata": {},
   "outputs": [
    {
     "name": "stdout",
     "output_type": "stream",
     "text": [
      "=======Training========\n",
      "0.7165645157303911\n",
      "{'n_neighbors': 61}\n",
      "KNeighborsClassifier(algorithm='kd_tree', leaf_size=30, metric='minkowski',\n",
      "           metric_params=None, n_jobs=None, n_neighbors=61, p=2,\n",
      "           weights='uniform')\n"
     ]
    },
    {
     "data": {
      "image/png": "[encoded data removed]",
      "text/plain": [
       "<Figure size 432x288 with 1 Axes>"
      ]
     },
     "metadata": {
      "needs_background": "light"
     },
     "output_type": "display_data"
    }
   ],
   "source": [
    "bow_kdtree_train = '/home/pranay/Amazon Assignments/KNN/BOW/bow_kdtree_train'\n",
    "\n",
    "exists = os.path.isfile(bow_kdtree_train)\n",
    "if exists:\n",
    "    bow_train = load(bow_kdtree_train)\n",
    "\n",
    "else:   \n",
    "    print(\"not exist\")\n",
    "    bow_train = finding_best_k(final_bow_count_vect,y_train, 'kd_tree')\n",
    "    dump(bow_train, bow_kdtree_train)\n",
    "\n",
    "# view the complete results (list of named tuples)\n",
    "print(\"=======Training========\")\n",
    "print (bow_train.best_score_)\n",
    "print (bow_train.best_params_)\n",
    "print (bow_train.best_estimator_)\n",
    "\n",
    "plotAccuracyGraph(bow_train) "
   ]
  },
  {
   "cell_type": "code",
   "execution_count": 247,
   "metadata": {},
   "outputs": [
    {
     "name": "stdout",
     "output_type": "stream",
     "text": [
      "yes exist\n",
      "\n",
      "\u001b[1mConfusion Matrix for Train data\u001b[0m\n"
     ]
    },
    {
     "data": {
      "image/png": "[encoded data removed]",
      "text/plain": [
       "<Figure size 432x288 with 2 Axes>"
      ]
     },
     "metadata": {
      "needs_background": "light"
     },
     "output_type": "display_data"
    },
    {
     "name": "stdout",
     "output_type": "stream",
     "text": [
      "\n",
      "\u001b[1mConfusion Matrix for Test data\u001b[0m\n"
     ]
    },
    {
     "data": {
      "image/png": "[encoded data removed]",
      "text/plain": [
       "<Figure size 432x288 with 2 Axes>"
      ]
     },
     "metadata": {
      "needs_background": "light"
     },
     "output_type": "display_data"
    },
    {
     "data": {
      "image/png": "[encoded data removed]",
      "text/plain": [
       "<Figure size 432x288 with 1 Axes>"
      ]
     },
     "metadata": {
      "needs_background": "light"
     },
     "output_type": "display_data"
    },
    {
     "name": "stdout",
     "output_type": "stream",
     "text": [
      "\n",
      "\u001b[91mAUC (Train): \u001b[0m\u001b[1m0.7652844352967175\u001b[0m\n",
      "\n",
      "\u001b[91mAUC (Test): \u001b[0m\u001b[1m0.6686951823740249\u001b[0m\n",
      "\n",
      "\u001b[91mF1 SCORE (Train) : \u001b[0m\u001b[1m0.9155056085893928\u001b[0m\n",
      "\n",
      "\u001b[91mF1 SCORE (Test) : \u001b[0m\u001b[1m0.9149432955303536\u001b[0m\n",
      "\n",
      "\u001b[91mRECALL (Train): \u001b[0m\u001b[1m0.9869837409359096\u001b[0m\n",
      "\n",
      "\u001b[91mRECALL (Test): \u001b[0m\u001b[1m0.9831541218637992\u001b[0m\n",
      "\n",
      "\u001b[91mPRECISION  (Train) : \u001b[0m\u001b[1m0.8536813400857032\u001b[0m\n",
      "\n",
      "\u001b[91mPRECISION  (Test) : \u001b[0m\u001b[1m0.8555832813474735\u001b[0m\n"
     ]
    }
   ],
   "source": [
    "path_bow_kdtree_optimal = '/home/pranay/Amazon Assignments/KNN/BOW/bow_kdtree_optimal'\n",
    "\n",
    "exists = os.path.isfile(path_bow_kdtree_optimal)\n",
    "if exists:\n",
    "    print(\"yes exist\")\n",
    "    knn_optimal = load(path_bow_kdtree_optimal)\n",
    "    # predict the response\n",
    "    bow_pred = knn_optimal.predict(final_bow_test)\n",
    "    bow_train_pred = knn_optimal.predict(final_bow_count_vect)\n",
    "\n",
    "else:   \n",
    "    print(\"not exist\")\n",
    "    knn_optimal= train_with_optimal_k(best_k_value,'kd_tree') # it will return trained model with best k\n",
    "\n",
    "    # fitting the model\n",
    "    knn_optimal.fit(final_bow_count_vect,y_train)\n",
    "\n",
    "    # predict the response\n",
    "    bow_pred = knn_optimal.predict(final_bow_test)\n",
    "    bow_train_pred = knn_optimal.predict(final_bow_count_vect)\n",
    "    dump(knn_optimal,path_bow_kdtree_optimal)\n",
    "\n",
    "# plot confusion matrix\n",
    "\n",
    "print('\\n'+color.BOLD +'Confusion Matrix for Train data'+color.END)\n",
    "plotConfusionMatrix(y_train,bow_train_pred)\n",
    "\n",
    "print('\\n'+color.BOLD +'Confusion Matrix for Test data'+color.END)\n",
    "plotConfusionMatrix(y_test,bow_pred)\n",
    "\n",
    "# plot AUC\n",
    "train_auc, test_auc = plotAUC_ROC(knn_optimal,final_bow_count_vect, y_train ,final_bow_test, y_test)\n",
    "print('\\n'+color.RED+'AUC (Train): '+color.END+color.BOLD+str(train_auc)+color.END)\n",
    "print('\\n'+color.RED+'AUC (Test): '+color.END+color.BOLD+str(test_auc)+color.END)\n",
    "\n",
    "# f1 score\n",
    "score = f1_score(y_test,bow_pred)\n",
    "print('\\n'+color.RED+'F1 SCORE (Train) : '+color.END+color.BOLD+str(f1_score(y_train,bow_train_pred))+color.END)\n",
    "print('\\n'+color.RED+'F1 SCORE (Test) : '+color.END+color.BOLD+str(score)+color.END)\n",
    "\n",
    "# recall\n",
    "recall = metrics.recall_score(y_test, bow_pred)\n",
    "print('\\n'+color.RED+'RECALL (Train): '+color.END+color.BOLD+str(metrics.recall_score(y_train, bow_train_pred))+color.END)\n",
    "print('\\n'+color.RED+'RECALL (Test): '+color.END+color.BOLD+str(recall)+color.END)\n",
    "\n",
    "# precision\n",
    "precision = metrics.precision_score(y_test, bow_pred)\n",
    "print('\\n'+color.RED+'PRECISION  (Train) : '+color.END+color.BOLD+str(metrics.precision_score(y_train, bow_train_pred))+color.END)\n",
    "print('\\n'+color.RED+'PRECISION  (Test) : '+color.END+color.BOLD+str(precision)+color.END)"
   ]
  },
  {
   "cell_type": "markdown",
   "metadata": {},
   "source": [
    "### [5.2.2] Applying KNN kd-tree on TFIDF, using GridSearchCV"
   ]
  },
  {
   "cell_type": "code",
   "execution_count": 248,
   "metadata": {},
   "outputs": [
    {
     "name": "stdout",
     "output_type": "stream",
     "text": [
      "yes exist\n",
      "the type of count vectorizer  <class 'scipy.sparse.csr.csr_matrix'>\n",
      "the shape of out text TFIDF vectorizer  (26400, 5000)\n",
      "the number of unique words including both unigrams and bigrams  5000\n",
      "yes exist\n"
     ]
    }
   ],
   "source": [
    "# Train Vectorizor\n",
    "# store model to hard disk if exist then load model directly from memory\n",
    "exists = os.path.isfile(tf_idf_trained_model_25000)\n",
    "if exists:\n",
    "    print(\"yes exist\")\n",
    "    final_tf_idf = load(tf_idf_trained_model_25000)\n",
    "    tf_idf_vect = load(tfidf_vectorizer)\n",
    "    print(\"the type of count vectorizer \",type(final_tf_idf))\n",
    "    print(\"the shape of out text TFIDF vectorizer \",final_tf_idf.get_shape())\n",
    "    print(\"the number of unique words including both unigrams and bigrams \", final_tf_idf.get_shape()[1])\n",
    "    \n",
    "else:\n",
    "    print(\"not exist\")\n",
    "    tf_idf_vect = TfidfVectorizer(ngram_range=(1,2), min_df=10,max_features=5000)\n",
    "    tf_idf_vect.fit(X_train)\n",
    "    print(\"some sample features(unique words in the corpus)\",tf_idf_vect.get_feature_names()[0:10])\n",
    "    print('='*50)\n",
    "\n",
    "    final_tf_idf = tf_idf_vect.transform(X_train)\n",
    "    print(\"the type of count vectorizer \",type(final_tf_idf))\n",
    "    print(\"the shape of out text TFIDF vectorizer \",final_tf_idf.get_shape())\n",
    "    print(\"the number of unique words including both unigrams and bigrams \", final_tf_idf.get_shape()[1])\n",
    "    dump(final_tf_idf, tf_idf_trained_model_25000) \n",
    "    dump(tf_idf_vect, tfidf_vectorizer) \n",
    "\n",
    "\n",
    "# Test Vectorizor\n",
    "\n",
    "exists = os.path.isfile(tf_idf_test_model_25000)\n",
    "\n",
    "if exists:\n",
    "    print(\"yes exist\")\n",
    "    final_tfidf_test = load(tf_idf_test_model_25000)\n",
    "else:\n",
    "    print(\"not exist\")\n",
    "    final_tfidf_test = tf_idf_vect.transform(x_test)\n",
    "    dump(final_tfidf_test,tf_idf_test_model_25000 )\n",
    "    final_tfidf_test.shape"
   ]
  },
  {
   "cell_type": "code",
   "execution_count": 249,
   "metadata": {},
   "outputs": [
    {
     "name": "stdout",
     "output_type": "stream",
     "text": [
      "=======Training========\n",
      "0.757998306854127\n",
      "{'n_neighbors': 61}\n",
      "KNeighborsClassifier(algorithm='kd_tree', leaf_size=30, metric='minkowski',\n",
      "           metric_params=None, n_jobs=None, n_neighbors=61, p=2,\n",
      "           weights='uniform')\n"
     ]
    },
    {
     "data": {
      "image/png": "[encoded data removed]",
      "text/plain": [
       "<Figure size 432x288 with 1 Axes>"
      ]
     },
     "metadata": {
      "needs_background": "light"
     },
     "output_type": "display_data"
    }
   ],
   "source": [
    "path_tfidf_train = '/home/pranay/Amazon Assignments/KNN/TFIDF/tfidf_kdtree_train'\n",
    "\n",
    "exists = os.path.isfile(path_tfidf_train)\n",
    "if exists:\n",
    "    tfidf_train = load(path_tfidf_train)\n",
    "else:\n",
    "    print(\"not exist\")\n",
    "    tfidf_train = finding_best_k(final_tf_idf,y_train, 'kd_tree')\n",
    "    dump(tfidf_train,path_tfidf_train)\n",
    "\n",
    "# view the complete results (list of named tuples)\n",
    "print(\"=======Training========\")\n",
    "print (tfidf_train.best_score_)\n",
    "print (tfidf_train.best_params_)\n",
    "print (tfidf_train.best_estimator_)\n",
    "\n",
    "plotAccuracyGraph(tfidf_train)"
   ]
  },
  {
   "cell_type": "code",
   "execution_count": 250,
   "metadata": {},
   "outputs": [
    {
     "data": {
      "text/plain": [
       "((26400, 5000), (26400,), (6600, 5000), (6600,))"
      ]
     },
     "execution_count": 250,
     "metadata": {},
     "output_type": "execute_result"
    }
   ],
   "source": [
    "final_tf_idf.shape, y_train.shape,final_tfidf_test.shape,y_test.shape"
   ]
  },
  {
   "cell_type": "code",
   "execution_count": 251,
   "metadata": {},
   "outputs": [
    {
     "name": "stdout",
     "output_type": "stream",
     "text": [
      "\n",
      "\u001b[1mConfusion Matrix for Train data\u001b[0m\n"
     ]
    },
    {
     "data": {
      "image/png": "[encoded data removed]",
      "text/plain": [
       "<Figure size 432x288 with 2 Axes>"
      ]
     },
     "metadata": {
      "needs_background": "light"
     },
     "output_type": "display_data"
    },
    {
     "name": "stdout",
     "output_type": "stream",
     "text": [
      "\n",
      "\u001b[1mConfusion Matrix for Test data\u001b[0m\n"
     ]
    },
    {
     "data": {
      "image/png": "[encoded data removed]",
      "text/plain": [
       "<Figure size 432x288 with 2 Axes>"
      ]
     },
     "metadata": {
      "needs_background": "light"
     },
     "output_type": "display_data"
    },
    {
     "data": {
      "image/png": "[encoded data removed]",
      "text/plain": [
       "<Figure size 432x288 with 1 Axes>"
      ]
     },
     "metadata": {
      "needs_background": "light"
     },
     "output_type": "display_data"
    },
    {
     "name": "stdout",
     "output_type": "stream",
     "text": [
      "\n",
      "\u001b[91mAUC (Train): \u001b[0m\u001b[1m0.6719464516935814\u001b[0m\n",
      "\n",
      "\u001b[91mAUC (Test): \u001b[0m\u001b[1m0.5105588938084193\u001b[0m\n",
      "\n",
      "\u001b[91mF1 SCORE (Train) : \u001b[0m\u001b[1m0.913647305721869\u001b[0m\n",
      "\n",
      "\u001b[91mF1 SCORE (Test) : \u001b[0m\u001b[1m0.916256157635468\u001b[0m\n",
      "\n",
      "\u001b[91mRECALL (Train): \u001b[0m\u001b[1m1.0\u001b[0m\n",
      "\n",
      "\u001b[91mRECALL (Test): \u001b[0m\u001b[1m1.0\u001b[0m\n",
      "\n",
      "\u001b[91mPRECISION  (Train) : \u001b[0m\u001b[1m0.8410227272727273\u001b[0m\n",
      "\n",
      "\u001b[91mPRECISION  (Test) : \u001b[0m\u001b[1m0.8454545454545455\u001b[0m\n"
     ]
    }
   ],
   "source": [
    "path_tfidf_kdtree_optimal = '/home/pranay/Amazon Assignments/KNN/TFIDF/tfidf_kdtree_optimal'\n",
    "\n",
    "exists = os.path.isfile(path_tfidf_kdtree_optimal)\n",
    "\n",
    "if exists:\n",
    "    knn_optimal = load(path_tfidf_kdtree_optimal)\n",
    "\n",
    "else:\n",
    "    knn_optimal= train_with_optimal_k(35,'kd_tree') # it will return trained model with best k\n",
    "\n",
    "    # fitting the model\n",
    "    knn_optimal.fit(final_tf_idf, y_train)\n",
    "\n",
    "    dump(knn_optimal, path_tfidf_kdtree_optimal)\n",
    "\n",
    "# # instantiate learning model k = optimal_k\n",
    "# knn_optimal = KNeighborsClassifier(n_neighbors=15 , algorithm = 'kd_tree')\n",
    "\n",
    "\n",
    "# # fitting the model\n",
    "# knn_optimal.fit(final_tf_idf, y_train)\n",
    "\n",
    "# predict the response\n",
    "tfidf_pred = knn_optimal.predict(final_tfidf_test)\n",
    "tfidf_train_pred = knn_optimal.predict(final_tf_idf)\n",
    "\n",
    "# dump(knn_optimal, path_tfidf_kdtree_optimal)\n",
    "\n",
    "# plot confusion matrix\n",
    "\n",
    "print('\\n'+color.BOLD +'Confusion Matrix for Train data'+color.END)\n",
    "plotConfusionMatrix(y_train,tfidf_train_pred)\n",
    "\n",
    "print('\\n'+color.BOLD +'Confusion Matrix for Test data'+color.END)\n",
    "plotConfusionMatrix(y_test,tfidf_pred)\n",
    "\n",
    "# plot AUC\n",
    "train_auc,test_auc = plotAUC_ROC(knn_optimal,final_tf_idf, y_train,final_tfidf_test, y_test )\n",
    "print('\\n'+color.RED+'AUC (Train): '+color.END+color.BOLD+str(train_auc)+color.END)\n",
    "print('\\n'+color.RED+'AUC (Test): '+color.END+color.BOLD+str(test_auc)+color.END)\n",
    "\n",
    "# f1 score\n",
    "score = f1_score(y_test,tfidf_pred)\n",
    "print('\\n'+color.RED+'F1 SCORE (Train) : '+color.END+color.BOLD+str(f1_score(y_train,tfidf_train_pred))+color.END)\n",
    "print('\\n'+color.RED+'F1 SCORE (Test) : '+color.END+color.BOLD+str(score)+color.END)\n",
    "\n",
    "# recall\n",
    "recall = metrics.recall_score(y_test, tfidf_pred)\n",
    "print('\\n'+color.RED+'RECALL (Train): '+color.END+color.BOLD+str(metrics.recall_score(y_train, tfidf_train_pred))+color.END)\n",
    "print('\\n'+color.RED+'RECALL (Test): '+color.END+color.BOLD+str(recall)+color.END)\n",
    "\n",
    "# precision\n",
    "precision = metrics.precision_score(y_test, tfidf_pred)\n",
    "print('\\n'+color.RED+'PRECISION  (Train) : '+color.END+color.BOLD+str(metrics.precision_score(y_train, tfidf_train_pred))+color.END)\n",
    "print('\\n'+color.RED+'PRECISION  (Test) : '+color.END+color.BOLD+str(precision)+color.END)"
   ]
  },
  {
   "cell_type": "markdown",
   "metadata": {},
   "source": [
    "### [5.2.3] Applying KNN kd-tree on AVG W2V, using GridSearchCV"
   ]
  },
  {
   "cell_type": "code",
   "execution_count": 252,
   "metadata": {},
   "outputs": [
    {
     "name": "stdout",
     "output_type": "stream",
     "text": [
      "number of words that occured minimum 5 times  9823\n",
      "sample words  ['cereal', 'rice', 'awesome', 'daughter', 'loves', 'good', 'buy', 'target', 'way', 'cheaper', 'drinking', 'kona', 'many', 'years', 'paying', 'oz', 'tullys', 'blend', 'coffee', 'best', 'drinker', 'order', 'via', 'subscribe', 'save', 'always', 'new', 'case', 'actual', 'ship', 'date', 'not', 'keep', 'house', 'seems', 'like', 'boxes', 'turn', 'around', 'last', 'one', 'kids', 'love', 'hits', 'sweet', 'tooth', 'right', 'step', 'away', 'healthiest']\n",
      "number of words that occured minimum 5 times  4834\n",
      "sample words  ['haribo', 'makes', 'wide', 'range', 'candies', 'including', 'world', 'class', 'goodies', 'not', 'one', 'frogs', 'made', 'hard', 'gummi', 'green', 'except', 'thin', 'white', 'layer', 'bellies', 'might', 'unless', 'told', 'no', 'taste', 'texture', 'difference', 'substances', 'case', 'flavor', 'good', 'definitely', 'lime', 'advertised', 'maybe', 'somebody', 'likes', 'stuff', 'set', 'bag', 'office', 'first', 'sample', 'like', 'vegan', 'cheetos', 'granted', 'actually', 'well']\n",
      "yes exist\n",
      "yes exist\n"
     ]
    }
   ],
   "source": [
    "# Train your own Word2Vec model using your own text corpus\n",
    "\n",
    "# Train data\n",
    "list_of_sentance=[]\n",
    "for sentance in X_train:\n",
    "    list_of_sentance.append(sentance.split())\n",
    "\n",
    "# Test data\n",
    "list_of_test_sentence = []\n",
    "for sentance in x_test:\n",
    "    list_of_test_sentence.append(sentance.split())\n",
    "\n",
    "# min_count = 5 considers only words that occured atleast 5 times\n",
    "# train data\n",
    "w2v_model_tr=Word2Vec(list_of_sentance,min_count=5,size=50, workers=4)\n",
    "# train model on test data\n",
    "w2v_model_test = Word2Vec(list_of_test_sentence,min_count=5,size=50, workers=4)\n",
    "\n",
    "\n",
    "# train data operation\n",
    "w2v_train_words = list(w2v_model_tr.wv.vocab)\n",
    "print(\"number of words that occured minimum 5 times \",len(w2v_train_words))\n",
    "print(\"sample words \", w2v_train_words[0:50])\n",
    "\n",
    "# test data operation\n",
    "w2v_test_words = list(w2v_model_test.wv.vocab)\n",
    "print(\"number of words that occured minimum 5 times \",len(w2v_test_words))\n",
    "print(\"sample words \", w2v_test_words[0:50])\n",
    "\n",
    "# average Word2Vec\n",
    "\n",
    "# train data operation\n",
    "exists = os.path.isfile(avg_w2v_trained_model_25000)\n",
    "\n",
    "if exists:\n",
    "    print(\"yes exist\")\n",
    "    final_w2v_train = load(avg_w2v_trained_model_25000)\n",
    "else:\n",
    "    print(\"not exist\")\n",
    "    # compute average word2vec for each review.\n",
    "    final_w2v_train = []; # the avg-w2v for each sentence/review is stored in this list\n",
    "    for sent in tqdm(list_of_sentance): # for each review/sentence\n",
    "        sent_vec = np.zeros(50) # as word vectors are of zero length 50, you might need to change this to 300 if you use google's w2v\n",
    "        cnt_words =0; # num of words with a valid vector in the sentence/review\n",
    "        for word in sent: # for each word in a review/sentence\n",
    "            if word in w2v_train_words:\n",
    "                vec = w2v_model_tr.wv[word]\n",
    "                sent_vec += vec\n",
    "                cnt_words += 1\n",
    "        if cnt_words != 0:\n",
    "            sent_vec /= cnt_words\n",
    "        final_w2v_train.append(sent_vec)\n",
    "    print(len(final_w2v_train))\n",
    "    print(len(final_w2v_train[0]))\n",
    "    dump(final_w2v_train,avg_w2v_trained_model_25000)\n",
    "\n",
    "\n",
    "# test data operation\n",
    "exists = os.path.isfile(avg_w2v_test_model_25000)\n",
    "\n",
    "if exists:\n",
    "    print(\"yes exist\")\n",
    "    final_w2v_test = load(avg_w2v_test_model_25000)\n",
    "else:\n",
    "    print(\"not exist\")\n",
    "    final_w2v_test = []; # the avg-w2v for each sentence/review is stored in this list\n",
    "    for sent in tqdm(list_of_test_sentence): # for each review/sentence\n",
    "        sent_vec = np.zeros(50) # as word vectors are of zero length 50, you might need to change this to 300 if you use google's w2v\n",
    "        cnt_words =0; # num of words with a valid vector in the sentence/review\n",
    "        for word in sent: # for each word in a review/sentence\n",
    "            if word in w2v_test_words:\n",
    "                vec = w2v_model_test.wv[word]\n",
    "                sent_vec += vec\n",
    "                cnt_words += 1\n",
    "        if cnt_words != 0:\n",
    "            sent_vec /= cnt_words\n",
    "        final_w2v_test.append(sent_vec)\n",
    "    print(len(final_w2v_test))\n",
    "    print(len(final_w2v_test[0]))\n",
    "    dump(final_w2v_test,avg_w2v_test_model_25000)"
   ]
  },
  {
   "cell_type": "code",
   "execution_count": 253,
   "metadata": {},
   "outputs": [
    {
     "name": "stdout",
     "output_type": "stream",
     "text": [
      "=======Training========\n",
      "0.8602306953513348\n",
      "{'n_neighbors': 61}\n",
      "KNeighborsClassifier(algorithm='kd_tree', leaf_size=30, metric='minkowski',\n",
      "           metric_params=None, n_jobs=None, n_neighbors=61, p=2,\n",
      "           weights='uniform')\n"
     ]
    },
    {
     "data": {
      "image/png": "[encoded data removed]",
      "text/plain": [
       "<Figure size 432x288 with 1 Axes>"
      ]
     },
     "metadata": {
      "needs_background": "light"
     },
     "output_type": "display_data"
    }
   ],
   "source": [
    "path_w2v_kdtree_train = '/home/pranay/Amazon Assignments/KNN/W2V/w2v_kdtree_train'\n",
    "\n",
    "exists = os.path.isfile(path_w2v_kdtree_train)\n",
    "if exists:\n",
    "    w2v_train = load(path_w2v_kdtree_train)\n",
    "\n",
    "else:\n",
    "    print(\"not exist\")\n",
    "    w2v_train = finding_best_k(final_w2v_train,y_train, 'kd_tree')\n",
    "    dump(w2v_train,path_w2v_kdtree_train)\n",
    "\n",
    "# view the complete results (list of named tuples)\n",
    "print(\"=======Training========\")\n",
    "print (w2v_train.best_score_)\n",
    "print (w2v_train.best_params_)\n",
    "print (w2v_train.best_estimator_)\n",
    "\n",
    "plotAccuracyGraph(w2v_train)"
   ]
  },
  {
   "cell_type": "code",
   "execution_count": 254,
   "metadata": {},
   "outputs": [
    {
     "name": "stdout",
     "output_type": "stream",
     "text": [
      "not exist\n",
      "\n",
      "\u001b[1mConfusion Matrix for Train data\u001b[0m\n"
     ]
    },
    {
     "data": {
      "image/png": "[encoded data removed]",
      "text/plain": [
       "<Figure size 432x288 with 2 Axes>"
      ]
     },
     "metadata": {
      "needs_background": "light"
     },
     "output_type": "display_data"
    },
    {
     "name": "stdout",
     "output_type": "stream",
     "text": [
      "\n",
      "\u001b[1mConfusion Matrix for Test data\u001b[0m\n"
     ]
    },
    {
     "data": {
      "image/png": "[encoded data removed]",
      "text/plain": [
       "<Figure size 432x288 with 2 Axes>"
      ]
     },
     "metadata": {
      "needs_background": "light"
     },
     "output_type": "display_data"
    },
    {
     "data": {
      "image/png": "[encoded data removed]",
      "text/plain": [
       "<Figure size 432x288 with 1 Axes>"
      ]
     },
     "metadata": {
      "needs_background": "light"
     },
     "output_type": "display_data"
    },
    {
     "name": "stdout",
     "output_type": "stream",
     "text": [
      "\n",
      "\u001b[91mAUC (Train): \u001b[0m\u001b[1m0.8919311648464414\u001b[0m\n",
      "\n",
      "\u001b[91mAUC (Test): \u001b[0m\u001b[1m0.5791866083350903\u001b[0m\n",
      "\n",
      "\u001b[91mF1 SCORE (Train) : \u001b[0m\u001b[1m0.9271388677329272\u001b[0m\n",
      "\n",
      "\u001b[91mF1 SCORE (Test) : \u001b[0m\u001b[1m0.9157834196039766\u001b[0m\n",
      "\n",
      "\u001b[91mRECALL (Train): \u001b[0m\u001b[1m0.986893663018511\u001b[0m\n",
      "\n",
      "\u001b[91mRECALL (Test): \u001b[0m\u001b[1m0.9987455197132616\u001b[0m\n",
      "\n",
      "\u001b[91mPRECISION  (Train) : \u001b[0m\u001b[1m0.8742070616397367\u001b[0m\n",
      "\n",
      "\u001b[91mPRECISION  (Test) : \u001b[0m\u001b[1m0.8455469579729935\u001b[0m\n"
     ]
    }
   ],
   "source": [
    "path_w2v_kdtree_optimal = '/home/pranay/Amazon Assignments/KNN/W2V/w2v_kdtree_optimal'\n",
    "\n",
    "exists = os.path.isfile(path_w2v_kdtree_optimal)\n",
    "if exists:\n",
    "    print(\"yes exist\")\n",
    "    knn_optimal = load(path_w2v_kdtree_optimal)\n",
    "\n",
    "else:   \n",
    "    print(\"not exist\")\n",
    "\n",
    "    knn_optimal= train_with_optimal_k(45,'kd_tree') # it will return trained model with best k\n",
    "\n",
    "    # fitting the model\n",
    "    knn_optimal.fit(final_w2v_train, y_train)\n",
    "\n",
    "# knn_optimal = KNeighborsClassifier(n_neighbors=30 , algorithm = 'kd_tree')\n",
    "\n",
    "# # fitting the model\n",
    "# knn_optimal.fit(final_w2v_train, y_train)\n",
    "\n",
    "# predict the response\n",
    "test_pred = knn_optimal.predict(final_w2v_test)\n",
    "train_pred = knn_optimal.predict(final_w2v_train)\n",
    "# dump(knn_optimal, path_w2v_kdtree_optimal)\n",
    "\n",
    "# plot confusion matrix\n",
    "\n",
    "print('\\n'+color.BOLD +'Confusion Matrix for Train data'+color.END)\n",
    "plotConfusionMatrix(y_train,train_pred)\n",
    "\n",
    "print('\\n'+color.BOLD +'Confusion Matrix for Test data'+color.END)\n",
    "plotConfusionMatrix(y_test,test_pred)\n",
    "\n",
    "# plot AUC\n",
    "train_auc,test_auc = plotAUC_ROC(knn_optimal,final_w2v_train, y_train,final_w2v_test, y_test )\n",
    "print('\\n'+color.RED+'AUC (Train): '+color.END+color.BOLD+str(train_auc)+color.END)\n",
    "print('\\n'+color.RED+'AUC (Test): '+color.END+color.BOLD+str(test_auc)+color.END)\n",
    "\n",
    "# f1 score\n",
    "score = f1_score(y_test,test_pred)\n",
    "print('\\n'+color.RED+'F1 SCORE (Train) : '+color.END+color.BOLD+str(f1_score(y_train,train_pred))+color.END)\n",
    "print('\\n'+color.RED+'F1 SCORE (Test) : '+color.END+color.BOLD+str(score)+color.END)\n",
    "\n",
    "# recall\n",
    "recall = metrics.recall_score(y_test, test_pred)\n",
    "print('\\n'+color.RED+'RECALL (Train): '+color.END+color.BOLD+str(metrics.recall_score(y_train, train_pred))+color.END)\n",
    "print('\\n'+color.RED+'RECALL (Test): '+color.END+color.BOLD+str(recall)+color.END)\n",
    "\n",
    "# precision\n",
    "precision = metrics.precision_score(y_test, test_pred)\n",
    "print('\\n'+color.RED+'PRECISION  (Train) : '+color.END+color.BOLD+str(metrics.precision_score(y_train, train_pred))+color.END)\n",
    "print('\\n'+color.RED+'PRECISION  (Test) : '+color.END+color.BOLD+str(precision)+color.END)"
   ]
  },
  {
   "cell_type": "markdown",
   "metadata": {},
   "source": [
    "### [5.2.4] Applying KNN kd-tree on TFIDF W2V, using GridSearchCV"
   ]
  },
  {
   "cell_type": "code",
   "execution_count": 255,
   "metadata": {},
   "outputs": [
    {
     "name": "stdout",
     "output_type": "stream",
     "text": [
      "yes exist\n",
      "yes exist\n"
     ]
    }
   ],
   "source": [
    "# we are converting a dictionary with word as a key, and the idf as a value\n",
    "dictionary = dict(zip(tf_idf_vect.get_feature_names(), list(tf_idf_vect.idf_)))\n",
    "\n",
    "# TF-IDF weighted Word2Vec\n",
    "\n",
    "# Train data operation\n",
    "# store model to hard disk if exist then load model directly from memory\n",
    "exists = os.path.isfile(w2v_tf_idf_trained_model_25000)\n",
    "\n",
    "if exists:\n",
    "    print(\"yes exist\")\n",
    "    final_tfidf_w2v_tr = load(w2v_tf_idf_trained_model_25000)\n",
    "else:   \n",
    "    print(\"not exist\")\n",
    "    tfidf_feat = tf_idf_vect.get_feature_names() # tfidf words/col-names\n",
    "    # final_tf_idf is the sparse matrix with row= sentence, col=word and cell_val = tfidf\n",
    "\n",
    "    final_tfidf_w2v_tr = []; # the tfidf-w2v for each sentence/review is stored in this list\n",
    "    row=0;\n",
    "    for sent in tqdm(list_of_sentance): # for each review/sentence \n",
    "        sent_vec = np.zeros(50) # as word vectors are of zero length\n",
    "        weight_sum =0; # num of words with a valid vector in the sentence/review\n",
    "        for word in sent: # for each word in a review/sentence\n",
    "            if word in w2v_train_words and word in tfidf_feat:\n",
    "                vec = w2v_model_tr.wv[word]\n",
    "    #             tf_idf = tf_idf_matrix[row, tfidf_feat.index(word)]\n",
    "                # to reduce the computation we are \n",
    "                # dictionary[word] = idf value of word in whole courpus\n",
    "                # sent.count(word) = tf valeus of word in this review\n",
    "                tf_idf = dictionary[word]*(sent.count(word)/len(sent))\n",
    "                sent_vec += (vec * tf_idf)\n",
    "                weight_sum += tf_idf\n",
    "        if weight_sum != 0:\n",
    "            sent_vec /= weight_sum\n",
    "        final_tfidf_w2v_tr.append(sent_vec)\n",
    "        row += 1\n",
    "    dump(final_tfidf_w2v_tr,w2v_tf_idf_trained_model_25000)\n",
    "    \n",
    "\n",
    "# Test data operation ============\n",
    "\n",
    "# store model to hard disk if exist then load model directly from memory\n",
    "exists = os.path.isfile(w2v_tf_idf_test_model_25000)\n",
    "\n",
    "if exists:\n",
    "    print(\"yes exist\")\n",
    "    final_tfidf_w2v_test = load(w2v_tf_idf_test_model_25000) \n",
    "\n",
    "else:   \n",
    "    print(\"not exist\")\n",
    "    # final_tf_idf is the sparse matrix with row= sentence, col=word and cell_val = tfidf\n",
    "    final_tfidf_w2v_test = []; # the tfidf-w2v for each sentence/review is stored in this list\n",
    "    row=0;\n",
    "    for sent in tqdm(list_of_test_sentence): # for each review/sentence \n",
    "        sent_vec = np.zeros(50) # as word vectors are of zero length\n",
    "        weight_sum =0; # num of words with a valid vector in the sentence/review\n",
    "        for word in sent: # for each word in a review/sentence\n",
    "            if word in w2v_test_words and word in tfidf_feat:\n",
    "                vec = w2v_model_test.wv[word]\n",
    "    #             tf_idf = tf_idf_matrix[row, tfidf_feat.index(word)]\n",
    "                # to reduce the computation we are \n",
    "                # dictionary[word] = idf value of word in whole courpus\n",
    "                # sent.count(word) = tf valeus of word in this review\n",
    "                tf_idf = dictionary[word]*(sent.count(word)/len(sent))\n",
    "                sent_vec += (vec * tf_idf)\n",
    "                weight_sum += tf_idf\n",
    "        if weight_sum != 0:\n",
    "            sent_vec /= weight_sum\n",
    "        final_tfidf_w2v_test.append(sent_vec)\n",
    "        row += 1\n",
    "    dump(final_tfidf_w2v_test,w2v_tf_idf_test_model_25000)\n",
    "        "
   ]
  },
  {
   "cell_type": "code",
   "execution_count": 256,
   "metadata": {},
   "outputs": [
    {
     "name": "stdout",
     "output_type": "stream",
     "text": [
      "yes exist\n",
      "=======Training========\n",
      "0.8276248326019916\n",
      "{'n_neighbors': 61}\n",
      "KNeighborsClassifier(algorithm='kd_tree', leaf_size=30, metric='minkowski',\n",
      "           metric_params=None, n_jobs=None, n_neighbors=61, p=2,\n",
      "           weights='uniform')\n"
     ]
    },
    {
     "data": {
      "image/png": "[encoded data removed]",
      "text/plain": [
       "<Figure size 432x288 with 1 Axes>"
      ]
     },
     "metadata": {
      "needs_background": "light"
     },
     "output_type": "display_data"
    }
   ],
   "source": [
    "path_w2v_tfidf_kdtree_train = '/home/pranay/Amazon Assignments/KNN/W2V TFIDF/w2v_tfidf_kdree_train'\n",
    "\n",
    "exists = os.path.isfile(path_w2v_tfidf_kdtree_train)\n",
    "if exists:\n",
    "    print(\"yes exist\")\n",
    "    w2v_tfidf_train = load(path_w2v_tfidf_kdtree_train)\n",
    "else:   \n",
    "    print(\"not exist\")\n",
    "    w2v_tfidf_train = finding_best_k(final_tfidf_w2v_tr,y_train, 'kd_tree')\n",
    "    dump(w2v_tfidf_train,path_w2v_tfidf_kdtree_train )\n",
    "    \n",
    "# view the complete results (list of named tuples)\n",
    "print(\"=======Training========\")\n",
    "print (w2v_tfidf_train.best_score_)\n",
    "print (w2v_tfidf_train.best_params_)\n",
    "print (w2v_tfidf_train.best_estimator_)\n",
    "\n",
    "plotAccuracyGraph(w2v_tfidf_train) "
   ]
  },
  {
   "cell_type": "code",
   "execution_count": 257,
   "metadata": {},
   "outputs": [
    {
     "name": "stdout",
     "output_type": "stream",
     "text": [
      "yes exist\n",
      "\n",
      "\u001b[1mConfusion Matrix for Train data\u001b[0m\n"
     ]
    },
    {
     "data": {
      "image/png": "[encoded data removed]",
      "text/plain": [
       "<Figure size 432x288 with 2 Axes>"
      ]
     },
     "metadata": {
      "needs_background": "light"
     },
     "output_type": "display_data"
    },
    {
     "name": "stdout",
     "output_type": "stream",
     "text": [
      "\n",
      "\u001b[1mConfusion Matrix for Test data\u001b[0m\n"
     ]
    },
    {
     "data": {
      "image/png": "[encoded data removed]",
      "text/plain": [
       "<Figure size 432x288 with 2 Axes>"
      ]
     },
     "metadata": {
      "needs_background": "light"
     },
     "output_type": "display_data"
    },
    {
     "data": {
      "image/png": "[encoded data removed]",
      "text/plain": [
       "<Figure size 432x288 with 1 Axes>"
      ]
     },
     "metadata": {
      "needs_background": "light"
     },
     "output_type": "display_data"
    },
    {
     "name": "stdout",
     "output_type": "stream",
     "text": [
      "\n",
      "\u001b[91mAUC (Train): \u001b[0m\u001b[1m0.8685374285497485\u001b[0m\n",
      "\n",
      "\u001b[91mAUC (Test): \u001b[0m\u001b[1m0.611398376554923\u001b[0m\n",
      "\n",
      "\u001b[91mF1 SCORE (Train) : \u001b[0m\u001b[1m0.9239367961001849\u001b[0m\n",
      "\n",
      "\u001b[91mF1 SCORE (Test) : \u001b[0m\u001b[1m0.916256157635468\u001b[0m\n",
      "\n",
      "\u001b[91mRECALL (Train): \u001b[0m\u001b[1m0.9902265459622573\u001b[0m\n",
      "\n",
      "\u001b[91mRECALL (Test): \u001b[0m\u001b[1m1.0\u001b[0m\n",
      "\n",
      "\u001b[91mPRECISION  (Train) : \u001b[0m\u001b[1m0.865965575642995\u001b[0m\n",
      "\n",
      "\u001b[91mPRECISION  (Test) : \u001b[0m\u001b[1m0.8454545454545455\u001b[0m\n"
     ]
    }
   ],
   "source": [
    "path_w2v_tfidf_kdtree_optimal = '/home/pranay/Amazon Assignments/KNN/W2V TFIDF/w2v_tfidf_kdtree_optimal'\n",
    "\n",
    "exists = os.path.isfile(path_w2v_tfidf_kdtree_optimal)\n",
    "if exists:\n",
    "    print(\"yes exist\")\n",
    "    knn_optimal = load(path_w2v_tfidf_kdtree_optimal)\n",
    "\n",
    "else:   \n",
    "    print(\"not exist\")\n",
    "\n",
    "    knn_optimal= train_with_optimal_k(43,'kd_tree') # it will return trained model with best k\n",
    "\n",
    "    # fitting the model\n",
    "    knn_optimal.fit(final_tfidf_w2v_tr, y_train)\n",
    "\n",
    "    # predict the response\n",
    "    dump(knn_optimal,path_w2v_tfidf_kdtree_optimal)\n",
    "\n",
    "\n",
    "# knn_optimal = KNeighborsClassifier(n_neighbors=49 , algorithm = 'kd_tree')\n",
    "\n",
    "# # fitting the model\n",
    "# knn_optimal.fit(final_tfidf_w2v_tr, y_train)\n",
    "\n",
    "# predict the response\n",
    "test_pred = knn_optimal.predict(final_tfidf_w2v_test)\n",
    "train_pred = knn_optimal.predict(final_tfidf_w2v_tr)\n",
    "\n",
    "# dump(knn_optimal,path_w2v_tfidf_kdtree_optimal)\n",
    "\n",
    "# plot confusion matrix\n",
    "\n",
    "print('\\n'+color.BOLD +'Confusion Matrix for Train data'+color.END)\n",
    "plotConfusionMatrix(y_train,train_pred)\n",
    "\n",
    "print('\\n'+color.BOLD +'Confusion Matrix for Test data'+color.END)\n",
    "plotConfusionMatrix(y_test,test_pred)\n",
    "\n",
    "# plot AUC\n",
    "train_auc,test_auc = plotAUC_ROC(knn_optimal,final_tfidf_w2v_tr, y_train,final_tfidf_w2v_test, y_test )\n",
    "print('\\n'+color.RED+'AUC (Train): '+color.END+color.BOLD+str(train_auc)+color.END)\n",
    "print('\\n'+color.RED+'AUC (Test): '+color.END+color.BOLD+str(test_auc)+color.END)\n",
    "\n",
    "# f1 score\n",
    "score = f1_score(y_test,test_pred)\n",
    "print('\\n'+color.RED+'F1 SCORE (Train) : '+color.END+color.BOLD+str(f1_score(y_train,train_pred))+color.END)\n",
    "print('\\n'+color.RED+'F1 SCORE (Test) : '+color.END+color.BOLD+str(score)+color.END)\n",
    "\n",
    "# recall\n",
    "recall = metrics.recall_score(y_test, test_pred)\n",
    "print('\\n'+color.RED+'RECALL (Train): '+color.END+color.BOLD+str(metrics.recall_score(y_train, train_pred))+color.END)\n",
    "print('\\n'+color.RED+'RECALL (Test): '+color.END+color.BOLD+str(recall)+color.END)\n",
    "\n",
    "# precision\n",
    "precision = metrics.precision_score(y_test, test_pred)\n",
    "print('\\n'+color.RED+'PRECISION  (Train) : '+color.END+color.BOLD+str(metrics.precision_score(y_train, train_pred))+color.END)\n",
    "print('\\n'+color.RED+'PRECISION  (Test) : '+color.END+color.BOLD+str(precision)+color.END)"
   ]
  },
  {
   "cell_type": "markdown",
   "metadata": {},
   "source": [
    "# [6] Conclusions"
   ]
  },
  {
   "cell_type": "code",
   "execution_count": 260,
   "metadata": {},
   "outputs": [
    {
     "name": "stdout",
     "output_type": "stream",
     "text": [
      "\u001b[1mKNN Brute Force, trained on 100k Points\n"
     ]
    },
    {
     "data": {
      "text/html": [
       "<div>\n",
       "<style scoped>\n",
       "    .dataframe tbody tr th:only-of-type {\n",
       "        vertical-align: middle;\n",
       "    }\n",
       "\n",
       "    .dataframe tbody tr th {\n",
       "        vertical-align: top;\n",
       "    }\n",
       "\n",
       "    .dataframe thead th {\n",
       "        text-align: right;\n",
       "    }\n",
       "</style>\n",
       "<table border=\"1\" class=\"dataframe\">\n",
       "  <thead>\n",
       "    <tr style=\"text-align: right;\">\n",
       "      <th></th>\n",
       "      <th>Model</th>\n",
       "      <th>K value</th>\n",
       "      <th>AUC</th>\n",
       "      <th>F1- Score</th>\n",
       "      <th>Recall</th>\n",
       "      <th>Precision</th>\n",
       "    </tr>\n",
       "  </thead>\n",
       "  <tbody>\n",
       "    <tr>\n",
       "      <th>0</th>\n",
       "      <td>BOW</td>\n",
       "      <td>30</td>\n",
       "      <td>0.6932</td>\n",
       "      <td>0.9104</td>\n",
       "      <td>0.97250</td>\n",
       "      <td>0.85620</td>\n",
       "    </tr>\n",
       "    <tr>\n",
       "      <th>1</th>\n",
       "      <td>TF-IDF</td>\n",
       "      <td>30</td>\n",
       "      <td>0.5124</td>\n",
       "      <td>0.9122</td>\n",
       "      <td>0.99900</td>\n",
       "      <td>0.83930</td>\n",
       "    </tr>\n",
       "    <tr>\n",
       "      <th>2</th>\n",
       "      <td>Avg W2V</td>\n",
       "      <td>35</td>\n",
       "      <td>0.7830</td>\n",
       "      <td>0.9172</td>\n",
       "      <td>0.98285</td>\n",
       "      <td>0.85978</td>\n",
       "    </tr>\n",
       "    <tr>\n",
       "      <th>3</th>\n",
       "      <td>AVG W2V-TFIDF</td>\n",
       "      <td>37</td>\n",
       "      <td>0.7693</td>\n",
       "      <td>0.9166</td>\n",
       "      <td>0.98647</td>\n",
       "      <td>0.85730</td>\n",
       "    </tr>\n",
       "  </tbody>\n",
       "</table>\n",
       "</div>"
      ],
      "text/plain": [
       "           Model  K value     AUC  F1- Score   Recall   Precision \n",
       "0            BOW       30  0.6932      0.9104  0.97250     0.85620\n",
       "1         TF-IDF       30  0.5124      0.9122  0.99900     0.83930\n",
       "2        Avg W2V       35  0.7830      0.9172  0.98285     0.85978\n",
       "3  AVG W2V-TFIDF       37  0.7693      0.9166  0.98647     0.85730"
      ]
     },
     "execution_count": 260,
     "metadata": {},
     "output_type": "execute_result"
    }
   ],
   "source": [
    "import pandas as pd\n",
    "print(color.BOLD+'KNN Brute Force, trained on 100k Points')\n",
    "dataframe = pd.DataFrame(\n",
    "{\n",
    "    \"Model\": ['BOW','TF-IDF','Avg W2V','AVG W2V-TFIDF'],\n",
    "    \"K value\": [30,30,35,37],\n",
    "    \"AUC\": [0.6932,0.5124,0.7830,0.7693],\n",
    "    \"F1- Score \": [0.9104,0.9122,0.9172,0.9166],\n",
    "    \"Recall \": [0.9725,0.999,0.98285,0.98647],\n",
    "    \"Precision \": [0.8562,0.8393,0.85978,0.8573],\n",
    "}\n",
    "\n",
    ")\n",
    "dataframe"
   ]
  },
  {
   "cell_type": "code",
   "execution_count": 261,
   "metadata": {},
   "outputs": [
    {
     "name": "stdout",
     "output_type": "stream",
     "text": [
      "\u001b[1mKNN KD-Tree, trained on 33k Points\n"
     ]
    },
    {
     "data": {
      "text/html": [
       "<div>\n",
       "<style scoped>\n",
       "    .dataframe tbody tr th:only-of-type {\n",
       "        vertical-align: middle;\n",
       "    }\n",
       "\n",
       "    .dataframe tbody tr th {\n",
       "        vertical-align: top;\n",
       "    }\n",
       "\n",
       "    .dataframe thead th {\n",
       "        text-align: right;\n",
       "    }\n",
       "</style>\n",
       "<table border=\"1\" class=\"dataframe\">\n",
       "  <thead>\n",
       "    <tr style=\"text-align: right;\">\n",
       "      <th></th>\n",
       "      <th>Model</th>\n",
       "      <th>K value</th>\n",
       "      <th>AUC</th>\n",
       "      <th>F1- Score</th>\n",
       "      <th>Recall</th>\n",
       "      <th>Precision</th>\n",
       "    </tr>\n",
       "  </thead>\n",
       "  <tbody>\n",
       "    <tr>\n",
       "      <th>0</th>\n",
       "      <td>BOW</td>\n",
       "      <td>30</td>\n",
       "      <td>0.6686</td>\n",
       "      <td>0.91490</td>\n",
       "      <td>0.9831</td>\n",
       "      <td>0.85580</td>\n",
       "    </tr>\n",
       "    <tr>\n",
       "      <th>1</th>\n",
       "      <td>TF-IDF</td>\n",
       "      <td>35</td>\n",
       "      <td>0.5105</td>\n",
       "      <td>0.91620</td>\n",
       "      <td>1.0000</td>\n",
       "      <td>0.84545</td>\n",
       "    </tr>\n",
       "    <tr>\n",
       "      <th>2</th>\n",
       "      <td>Avg W2V</td>\n",
       "      <td>45</td>\n",
       "      <td>0.5791</td>\n",
       "      <td>0.91570</td>\n",
       "      <td>0.9987</td>\n",
       "      <td>0.84550</td>\n",
       "    </tr>\n",
       "    <tr>\n",
       "      <th>3</th>\n",
       "      <td>AVG W2V-TFIDF</td>\n",
       "      <td>43</td>\n",
       "      <td>0.6113</td>\n",
       "      <td>0.91625</td>\n",
       "      <td>1.0000</td>\n",
       "      <td>0.84548</td>\n",
       "    </tr>\n",
       "  </tbody>\n",
       "</table>\n",
       "</div>"
      ],
      "text/plain": [
       "           Model  K value     AUC  F1- Score   Recall   Precision \n",
       "0            BOW       30  0.6686     0.91490   0.9831     0.85580\n",
       "1         TF-IDF       35  0.5105     0.91620   1.0000     0.84545\n",
       "2        Avg W2V       45  0.5791     0.91570   0.9987     0.84550\n",
       "3  AVG W2V-TFIDF       43  0.6113     0.91625   1.0000     0.84548"
      ]
     },
     "execution_count": 261,
     "metadata": {},
     "output_type": "execute_result"
    }
   ],
   "source": [
    "print(color.BOLD+'KNN KD-Tree, trained on 33k Points')\n",
    "dataframe = pd.DataFrame(\n",
    "{\n",
    "    \"Model\": ['BOW','TF-IDF','Avg W2V','AVG W2V-TFIDF'],\n",
    "    \"K value\": [30,35,45,43],\n",
    "    \"AUC\": [0.6686,0.5105,0.5791,0.6113],\n",
    "    \"F1- Score \": [0.9149,0.9162,0.9157,0.91625],\n",
    "    \"Recall \": [0.9831,1.0,0.9987,1.0],\n",
    "    \"Precision \": [0.8558,0.84545,0.8455,0.84548],\n",
    "}\n",
    ")\n",
    "dataframe"
   ]
  },
  {
   "cell_type": "code",
   "execution_count": null,
   "metadata": {},
   "outputs": [],
   "source": []
  }
 ],
 "metadata": {
  "kernelspec": {
   "display_name": "Python 3",
   "language": "python",
   "name": "python3"
  },
  "language_info": {
   "codemirror_mode": {
    "name": "ipython",
    "version": 3
   },
   "file_extension": ".py",
   "mimetype": "text/x-python",
   "name": "python",
   "nbconvert_exporter": "python",
   "pygments_lexer": "ipython3",
   "version": "3.7.1"
  }
 },
 "nbformat": 4,
 "nbformat_minor": 2
}
