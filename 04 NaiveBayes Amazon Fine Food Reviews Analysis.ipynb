{
 "cells": [
  {
   "cell_type": "markdown",
   "metadata": {
    "colab_type": "text",
    "id": "UIn1GsFNJkjH"
   },
   "source": [
    "# Amazon Fine Food Reviews Analysis\n",
    "\n",
    "\n",
    "Data Source: https://www.kaggle.com/snap/amazon-fine-food-reviews <br>\n",
    "\n",
    "EDA: https://nycdatascience.com/blog/student-works/amazon-fine-foods-visualization/\n",
    "\n",
    "\n",
    "The Amazon Fine Food Reviews dataset consists of reviews of fine foods from Amazon.<br>\n",
    "\n",
    "Number of reviews: 568,454<br>\n",
    "Number of users: 256,059<br>\n",
    "Number of products: 74,258<br>\n",
    "Timespan: Oct 1999 - Oct 2012<br>\n",
    "Number of Attributes/Columns in data: 10 \n",
    "\n",
    "Attribute Information:\n",
    "\n",
    "1. Id\n",
    "2. ProductId - unique identifier for the product\n",
    "3. UserId - unqiue identifier for the user\n",
    "4. ProfileName\n",
    "5. HelpfulnessNumerator - number of users who found the review helpful\n",
    "6. HelpfulnessDenominator - number of users who indicated whether they found the review helpful or not\n",
    "7. Score - rating between 1 and 5\n",
    "8. Time - timestamp for the review\n",
    "9. Summary - brief summary of the review\n",
    "10. Text - text of the review\n",
    "\n",
    "\n",
    "#### Objective:\n",
    "Given a review, determine whether the review is positive (rating of 4 or 5) or negative (rating of 1 or 2).\n",
    "\n",
    "<br>\n",
    "[Q] How to determine if a review is positive or negative?<br>\n",
    "<br> \n",
    "[Ans] We could use Score/Rating. A rating of 4 or 5 can be cosnidered as a positive review. A rating of 1 or 2 can be considered as negative one. A review of rating 3 is considered nuetral and such reviews are ignored from our analysis. This is an approximate and proxy way of determining the polarity (positivity/negativity) of a review.\n",
    "\n",
    "\n"
   ]
  },
  {
   "cell_type": "markdown",
   "metadata": {
    "colab_type": "text",
    "id": "5Uf26aoLJkjJ"
   },
   "source": [
    "# [1]. Reading Data"
   ]
  },
  {
   "cell_type": "markdown",
   "metadata": {
    "colab_type": "text",
    "id": "yo-LaJg3JkjK"
   },
   "source": [
    "## [1.1] Loading the data\n",
    "\n",
    "The dataset is available in two forms\n",
    "1. .csv file\n",
    "2. SQLite Database\n",
    "\n",
    "In order to load the data, We have used the SQLITE dataset as it is easier to query the data and visualise the data efficiently.\n",
    "<br> \n",
    "\n",
    "Here as we only want to get the global sentiment of the recommendations (positive or negative), we will purposefully ignore all Scores equal to 3. If the score is above 3, then the recommendation wil be set to \"positive\". Otherwise, it will be set to \"negative\"."
   ]
  },
  {
   "cell_type": "code",
   "execution_count": 1,
   "metadata": {
    "colab": {},
    "colab_type": "code",
    "id": "dLYq3BkfJkjL"
   },
   "outputs": [],
   "source": [
    "%matplotlib inline\n",
    "import warnings\n",
    "warnings.filterwarnings(\"ignore\")\n",
    "\n",
    "\n",
    "import sqlite3\n",
    "import pandas as pd\n",
    "import numpy as np\n",
    "import nltk\n",
    "import string\n",
    "import matplotlib.pyplot as plt\n",
    "import seaborn as sns\n",
    "from sklearn.feature_extraction.text import TfidfTransformer\n",
    "from sklearn.feature_extraction.text import TfidfVectorizer\n",
    "\n",
    "from sklearn.feature_extraction.text import CountVectorizer\n",
    "from sklearn.metrics import confusion_matrix\n",
    "from sklearn import metrics\n",
    "from sklearn.metrics import roc_curve, auc\n",
    "from nltk.stem.porter import PorterStemmer\n",
    "\n",
    "import re\n",
    "# Tutorial about Python regular expressions: https://pymotw.com/2/re/\n",
    "import string\n",
    "from nltk.corpus import stopwords\n",
    "from nltk.stem import PorterStemmer\n",
    "from nltk.stem.wordnet import WordNetLemmatizer\n",
    "\n",
    "from gensim.models import Word2Vec\n",
    "from gensim.models import KeyedVectors\n",
    "import pickle\n",
    "\n",
    "from tqdm import tqdm\n",
    "import os\n",
    "from joblib import dump, load\n",
    "from sklearn_pandas import DataFrameMapper\n",
    "from sklearn.metrics import f1_score,recall_score,precision_score\n",
    "\n",
    "from sklearn.naive_bayes import MultinomialNB\n",
    "# importing Cross validation libs\n",
    "from sklearn.model_selection import train_test_split\n",
    "from sklearn.model_selection import cross_val_score\n",
    "from sklearn import model_selection\n",
    "\n",
    "\n",
    "# Python script for confusion matrix creation. \n",
    "from sklearn.metrics import confusion_matrix \n",
    "from sklearn.metrics import accuracy_score \n",
    "from sklearn.metrics import classification_report \n",
    "# ROC , AUC curve\n",
    "# roc curve and auc\n",
    "from sklearn.datasets import make_classification\n",
    "from sklearn.metrics import roc_curve\n",
    "from sklearn.metrics import roc_auc_score\n",
    "from matplotlib import pyplot\n",
    "from sklearn.metrics import roc_curve, auc\n",
    "# kFold\n",
    "from sklearn.model_selection import KFold\n",
    "\n",
    "from sklearn.model_selection import GridSearchCV\n",
    "\n",
    "import seaborn as sns\n",
    "\n",
    "from sklearn.model_selection import TimeSeriesSplit\n",
    "from sklearn.model_selection import RandomizedSearchCV"
   ]
  },
  {
   "cell_type": "code",
   "execution_count": 2,
   "metadata": {
    "colab": {},
    "colab_type": "code",
    "id": "rXVxnx_NJkjO",
    "outputId": "98628980-4d6e-4c53-913f-2d207932d2d0"
   },
   "outputs": [
    {
     "name": "stdout",
     "output_type": "stream",
     "text": [
      "Number of data points in our data (100000, 10)\n"
     ]
    },
    {
     "data": {
      "text/html": [
       "<div>\n",
       "<style scoped>\n",
       "    .dataframe tbody tr th:only-of-type {\n",
       "        vertical-align: middle;\n",
       "    }\n",
       "\n",
       "    .dataframe tbody tr th {\n",
       "        vertical-align: top;\n",
       "    }\n",
       "\n",
       "    .dataframe thead th {\n",
       "        text-align: right;\n",
       "    }\n",
       "</style>\n",
       "<table border=\"1\" class=\"dataframe\">\n",
       "  <thead>\n",
       "    <tr style=\"text-align: right;\">\n",
       "      <th></th>\n",
       "      <th>Id</th>\n",
       "      <th>ProductId</th>\n",
       "      <th>UserId</th>\n",
       "      <th>ProfileName</th>\n",
       "      <th>HelpfulnessNumerator</th>\n",
       "      <th>HelpfulnessDenominator</th>\n",
       "      <th>Score</th>\n",
       "      <th>Time</th>\n",
       "      <th>Summary</th>\n",
       "      <th>Text</th>\n",
       "    </tr>\n",
       "  </thead>\n",
       "  <tbody>\n",
       "    <tr>\n",
       "      <th>0</th>\n",
       "      <td>1</td>\n",
       "      <td>B001E4KFG0</td>\n",
       "      <td>A3SGXH7AUHU8GW</td>\n",
       "      <td>delmartian</td>\n",
       "      <td>1</td>\n",
       "      <td>1</td>\n",
       "      <td>1</td>\n",
       "      <td>1303862400</td>\n",
       "      <td>Good Quality Dog Food</td>\n",
       "      <td>I have bought several of the Vitality canned d...</td>\n",
       "    </tr>\n",
       "    <tr>\n",
       "      <th>1</th>\n",
       "      <td>2</td>\n",
       "      <td>B00813GRG4</td>\n",
       "      <td>A1D87F6ZCVE5NK</td>\n",
       "      <td>dll pa</td>\n",
       "      <td>0</td>\n",
       "      <td>0</td>\n",
       "      <td>0</td>\n",
       "      <td>1346976000</td>\n",
       "      <td>Not as Advertised</td>\n",
       "      <td>Product arrived labeled as Jumbo Salted Peanut...</td>\n",
       "    </tr>\n",
       "    <tr>\n",
       "      <th>2</th>\n",
       "      <td>3</td>\n",
       "      <td>B000LQOCH0</td>\n",
       "      <td>ABXLMWJIXXAIN</td>\n",
       "      <td>Natalia Corres \"Natalia Corres\"</td>\n",
       "      <td>1</td>\n",
       "      <td>1</td>\n",
       "      <td>1</td>\n",
       "      <td>1219017600</td>\n",
       "      <td>\"Delight\" says it all</td>\n",
       "      <td>This is a confection that has been around a fe...</td>\n",
       "    </tr>\n",
       "  </tbody>\n",
       "</table>\n",
       "</div>"
      ],
      "text/plain": [
       "   Id   ProductId          UserId                      ProfileName  \\\n",
       "0   1  B001E4KFG0  A3SGXH7AUHU8GW                       delmartian   \n",
       "1   2  B00813GRG4  A1D87F6ZCVE5NK                           dll pa   \n",
       "2   3  B000LQOCH0   ABXLMWJIXXAIN  Natalia Corres \"Natalia Corres\"   \n",
       "\n",
       "   HelpfulnessNumerator  HelpfulnessDenominator  Score        Time  \\\n",
       "0                     1                       1      1  1303862400   \n",
       "1                     0                       0      0  1346976000   \n",
       "2                     1                       1      1  1219017600   \n",
       "\n",
       "                 Summary                                               Text  \n",
       "0  Good Quality Dog Food  I have bought several of the Vitality canned d...  \n",
       "1      Not as Advertised  Product arrived labeled as Jumbo Salted Peanut...  \n",
       "2  \"Delight\" says it all  This is a confection that has been around a fe...  "
      ]
     },
     "execution_count": 2,
     "metadata": {},
     "output_type": "execute_result"
    }
   ],
   "source": [
    "# using SQLite Table to read data.\n",
    "con = sqlite3.connect(r'/home/pranay/ML datasource/amazon-fine-food-reviews/database.sqlite') \n",
    "\n",
    "# filtering only positive and negative reviews i.e. \n",
    "# not taking into consideration those reviews with Score=3\n",
    "# SELECT * FROM Reviews WHERE Score != 3 LIMIT 500000, will give top 500000 data points\n",
    "# you can change the number to any other number based on your computing power\n",
    "\n",
    "# filtered_data = pd.read_sql_query(\"\"\" SELECT * FROM Reviews WHERE Score != 3 LIMIT 500000\"\"\", con) \n",
    "# for tsne assignment you can take 5k data points\n",
    "\n",
    "filtered_data = pd.read_sql_query(\"\"\" SELECT * FROM Reviews WHERE Score != 3 LIMIT 100000\"\"\", con) \n",
    "\n",
    "# Give reviews with Score>3 a positive rating(1), and reviews with a score<3 a negative rating(0).\n",
    "def partition(x):\n",
    "    if x < 3:\n",
    "        return 0\n",
    "    return 1\n",
    "\n",
    "#changing reviews with score less than 3 to be positive and vice-versa\n",
    "actualScore = filtered_data['Score']\n",
    "positiveNegative = actualScore.map(partition) \n",
    "filtered_data['Score'] = positiveNegative\n",
    "print(\"Number of data points in our data\", filtered_data.shape)\n",
    "filtered_data.head(3)"
   ]
  },
  {
   "cell_type": "code",
   "execution_count": 3,
   "metadata": {
    "colab": {},
    "colab_type": "code",
    "id": "ZLasp3QxJkjS"
   },
   "outputs": [],
   "source": [
    "display = pd.read_sql_query(\"\"\"\n",
    "SELECT UserId, ProductId, ProfileName, Time, Score, Text, COUNT(*)\n",
    "FROM Reviews\n",
    "GROUP BY UserId\n",
    "HAVING COUNT(*)>1\n",
    "\"\"\", con)"
   ]
  },
  {
   "cell_type": "code",
   "execution_count": 4,
   "metadata": {
    "colab": {},
    "colab_type": "code",
    "id": "pHzk_lUkJkjW",
    "outputId": "3461f626-dc72-4b0d-af37-c3625e7e81b2",
    "scrolled": true
   },
   "outputs": [
    {
     "name": "stdout",
     "output_type": "stream",
     "text": [
      "(80668, 7)\n"
     ]
    },
    {
     "data": {
      "text/html": [
       "<div>\n",
       "<style scoped>\n",
       "    .dataframe tbody tr th:only-of-type {\n",
       "        vertical-align: middle;\n",
       "    }\n",
       "\n",
       "    .dataframe tbody tr th {\n",
       "        vertical-align: top;\n",
       "    }\n",
       "\n",
       "    .dataframe thead th {\n",
       "        text-align: right;\n",
       "    }\n",
       "</style>\n",
       "<table border=\"1\" class=\"dataframe\">\n",
       "  <thead>\n",
       "    <tr style=\"text-align: right;\">\n",
       "      <th></th>\n",
       "      <th>UserId</th>\n",
       "      <th>ProductId</th>\n",
       "      <th>ProfileName</th>\n",
       "      <th>Time</th>\n",
       "      <th>Score</th>\n",
       "      <th>Text</th>\n",
       "      <th>COUNT(*)</th>\n",
       "    </tr>\n",
       "  </thead>\n",
       "  <tbody>\n",
       "    <tr>\n",
       "      <th>0</th>\n",
       "      <td>#oc-R115TNMSPFT9I7</td>\n",
       "      <td>B005ZBZLT4</td>\n",
       "      <td>Breyton</td>\n",
       "      <td>1331510400</td>\n",
       "      <td>2</td>\n",
       "      <td>Overall its just OK when considering the price...</td>\n",
       "      <td>2</td>\n",
       "    </tr>\n",
       "    <tr>\n",
       "      <th>1</th>\n",
       "      <td>#oc-R11D9D7SHXIJB9</td>\n",
       "      <td>B005HG9ESG</td>\n",
       "      <td>Louis E. Emory \"hoppy\"</td>\n",
       "      <td>1342396800</td>\n",
       "      <td>5</td>\n",
       "      <td>My wife has recurring extreme muscle spasms, u...</td>\n",
       "      <td>3</td>\n",
       "    </tr>\n",
       "    <tr>\n",
       "      <th>2</th>\n",
       "      <td>#oc-R11DNU2NBKQ23Z</td>\n",
       "      <td>B005ZBZLT4</td>\n",
       "      <td>Kim Cieszykowski</td>\n",
       "      <td>1348531200</td>\n",
       "      <td>1</td>\n",
       "      <td>This coffee is horrible and unfortunately not ...</td>\n",
       "      <td>2</td>\n",
       "    </tr>\n",
       "    <tr>\n",
       "      <th>3</th>\n",
       "      <td>#oc-R11O5J5ZVQE25C</td>\n",
       "      <td>B005HG9ESG</td>\n",
       "      <td>Penguin Chick</td>\n",
       "      <td>1346889600</td>\n",
       "      <td>5</td>\n",
       "      <td>This will be the bottle that you grab from the...</td>\n",
       "      <td>3</td>\n",
       "    </tr>\n",
       "    <tr>\n",
       "      <th>4</th>\n",
       "      <td>#oc-R12KPBODL2B5ZD</td>\n",
       "      <td>B007OSBEV0</td>\n",
       "      <td>Christopher P. Presta</td>\n",
       "      <td>1348617600</td>\n",
       "      <td>1</td>\n",
       "      <td>I didnt like this coffee. Instead of telling y...</td>\n",
       "      <td>2</td>\n",
       "    </tr>\n",
       "  </tbody>\n",
       "</table>\n",
       "</div>"
      ],
      "text/plain": [
       "               UserId   ProductId             ProfileName        Time  Score  \\\n",
       "0  #oc-R115TNMSPFT9I7  B005ZBZLT4                 Breyton  1331510400      2   \n",
       "1  #oc-R11D9D7SHXIJB9  B005HG9ESG  Louis E. Emory \"hoppy\"  1342396800      5   \n",
       "2  #oc-R11DNU2NBKQ23Z  B005ZBZLT4        Kim Cieszykowski  1348531200      1   \n",
       "3  #oc-R11O5J5ZVQE25C  B005HG9ESG           Penguin Chick  1346889600      5   \n",
       "4  #oc-R12KPBODL2B5ZD  B007OSBEV0   Christopher P. Presta  1348617600      1   \n",
       "\n",
       "                                                Text  COUNT(*)  \n",
       "0  Overall its just OK when considering the price...         2  \n",
       "1  My wife has recurring extreme muscle spasms, u...         3  \n",
       "2  This coffee is horrible and unfortunately not ...         2  \n",
       "3  This will be the bottle that you grab from the...         3  \n",
       "4  I didnt like this coffee. Instead of telling y...         2  "
      ]
     },
     "execution_count": 4,
     "metadata": {},
     "output_type": "execute_result"
    }
   ],
   "source": [
    "print(display.shape)\n",
    "display.head()"
   ]
  },
  {
   "cell_type": "code",
   "execution_count": 5,
   "metadata": {
    "colab": {},
    "colab_type": "code",
    "id": "HUsn2lg8Jkjb",
    "outputId": "76e2e98e-b728-46ba-d619-c2008134a3b7"
   },
   "outputs": [
    {
     "data": {
      "text/html": [
       "<div>\n",
       "<style scoped>\n",
       "    .dataframe tbody tr th:only-of-type {\n",
       "        vertical-align: middle;\n",
       "    }\n",
       "\n",
       "    .dataframe tbody tr th {\n",
       "        vertical-align: top;\n",
       "    }\n",
       "\n",
       "    .dataframe thead th {\n",
       "        text-align: right;\n",
       "    }\n",
       "</style>\n",
       "<table border=\"1\" class=\"dataframe\">\n",
       "  <thead>\n",
       "    <tr style=\"text-align: right;\">\n",
       "      <th></th>\n",
       "      <th>UserId</th>\n",
       "      <th>ProductId</th>\n",
       "      <th>ProfileName</th>\n",
       "      <th>Time</th>\n",
       "      <th>Score</th>\n",
       "      <th>Text</th>\n",
       "      <th>COUNT(*)</th>\n",
       "    </tr>\n",
       "  </thead>\n",
       "  <tbody>\n",
       "    <tr>\n",
       "      <th>80638</th>\n",
       "      <td>AZY10LLTJ71NX</td>\n",
       "      <td>B001ATMQK2</td>\n",
       "      <td>undertheshrine \"undertheshrine\"</td>\n",
       "      <td>1296691200</td>\n",
       "      <td>5</td>\n",
       "      <td>I bought this 6 pack because for the price tha...</td>\n",
       "      <td>5</td>\n",
       "    </tr>\n",
       "  </tbody>\n",
       "</table>\n",
       "</div>"
      ],
      "text/plain": [
       "              UserId   ProductId                      ProfileName        Time  \\\n",
       "80638  AZY10LLTJ71NX  B001ATMQK2  undertheshrine \"undertheshrine\"  1296691200   \n",
       "\n",
       "       Score                                               Text  COUNT(*)  \n",
       "80638      5  I bought this 6 pack because for the price tha...         5  "
      ]
     },
     "execution_count": 5,
     "metadata": {},
     "output_type": "execute_result"
    }
   ],
   "source": [
    "display[display['UserId']=='AZY10LLTJ71NX']"
   ]
  },
  {
   "cell_type": "code",
   "execution_count": 6,
   "metadata": {
    "colab": {},
    "colab_type": "code",
    "id": "CyPhzHZKJkjf",
    "outputId": "28b60f13-e2e6-4960-e5ba-3467e16dbd03"
   },
   "outputs": [
    {
     "data": {
      "text/plain": [
       "393063"
      ]
     },
     "execution_count": 6,
     "metadata": {},
     "output_type": "execute_result"
    }
   ],
   "source": [
    "display['COUNT(*)'].sum()"
   ]
  },
  {
   "cell_type": "markdown",
   "metadata": {
    "colab_type": "text",
    "id": "y22fy_WtJkji"
   },
   "source": [
    "#  [2] Exploratory Data Analysis"
   ]
  },
  {
   "cell_type": "markdown",
   "metadata": {
    "colab_type": "text",
    "id": "ZqpW3tWPJkjl"
   },
   "source": [
    "## [2.1] Data Cleaning: Deduplication\n",
    "\n",
    "It is observed (as shown in the table below) that the reviews data had many duplicate entries. Hence it was necessary to remove duplicates in order to get unbiased results for the analysis of the data.  Following is an example:"
   ]
  },
  {
   "cell_type": "code",
   "execution_count": 7,
   "metadata": {
    "colab": {},
    "colab_type": "code",
    "id": "fmlu_oooJkjl",
    "outputId": "9ae82f65-ed65-425a-ad4d-b96091e37940",
    "scrolled": false
   },
   "outputs": [
    {
     "data": {
      "text/html": [
       "<div>\n",
       "<style scoped>\n",
       "    .dataframe tbody tr th:only-of-type {\n",
       "        vertical-align: middle;\n",
       "    }\n",
       "\n",
       "    .dataframe tbody tr th {\n",
       "        vertical-align: top;\n",
       "    }\n",
       "\n",
       "    .dataframe thead th {\n",
       "        text-align: right;\n",
       "    }\n",
       "</style>\n",
       "<table border=\"1\" class=\"dataframe\">\n",
       "  <thead>\n",
       "    <tr style=\"text-align: right;\">\n",
       "      <th></th>\n",
       "      <th>Id</th>\n",
       "      <th>ProductId</th>\n",
       "      <th>UserId</th>\n",
       "      <th>ProfileName</th>\n",
       "      <th>HelpfulnessNumerator</th>\n",
       "      <th>HelpfulnessDenominator</th>\n",
       "      <th>Score</th>\n",
       "      <th>Time</th>\n",
       "      <th>Summary</th>\n",
       "      <th>Text</th>\n",
       "    </tr>\n",
       "  </thead>\n",
       "  <tbody>\n",
       "    <tr>\n",
       "      <th>0</th>\n",
       "      <td>78445</td>\n",
       "      <td>B000HDL1RQ</td>\n",
       "      <td>AR5J8UI46CURR</td>\n",
       "      <td>Geetha Krishnan</td>\n",
       "      <td>2</td>\n",
       "      <td>2</td>\n",
       "      <td>5</td>\n",
       "      <td>1199577600</td>\n",
       "      <td>LOACKER QUADRATINI VANILLA WAFERS</td>\n",
       "      <td>DELICIOUS WAFERS. I FIND THAT EUROPEAN WAFERS ...</td>\n",
       "    </tr>\n",
       "    <tr>\n",
       "      <th>1</th>\n",
       "      <td>138317</td>\n",
       "      <td>B000HDOPYC</td>\n",
       "      <td>AR5J8UI46CURR</td>\n",
       "      <td>Geetha Krishnan</td>\n",
       "      <td>2</td>\n",
       "      <td>2</td>\n",
       "      <td>5</td>\n",
       "      <td>1199577600</td>\n",
       "      <td>LOACKER QUADRATINI VANILLA WAFERS</td>\n",
       "      <td>DELICIOUS WAFERS. I FIND THAT EUROPEAN WAFERS ...</td>\n",
       "    </tr>\n",
       "    <tr>\n",
       "      <th>2</th>\n",
       "      <td>138277</td>\n",
       "      <td>B000HDOPYM</td>\n",
       "      <td>AR5J8UI46CURR</td>\n",
       "      <td>Geetha Krishnan</td>\n",
       "      <td>2</td>\n",
       "      <td>2</td>\n",
       "      <td>5</td>\n",
       "      <td>1199577600</td>\n",
       "      <td>LOACKER QUADRATINI VANILLA WAFERS</td>\n",
       "      <td>DELICIOUS WAFERS. I FIND THAT EUROPEAN WAFERS ...</td>\n",
       "    </tr>\n",
       "    <tr>\n",
       "      <th>3</th>\n",
       "      <td>73791</td>\n",
       "      <td>B000HDOPZG</td>\n",
       "      <td>AR5J8UI46CURR</td>\n",
       "      <td>Geetha Krishnan</td>\n",
       "      <td>2</td>\n",
       "      <td>2</td>\n",
       "      <td>5</td>\n",
       "      <td>1199577600</td>\n",
       "      <td>LOACKER QUADRATINI VANILLA WAFERS</td>\n",
       "      <td>DELICIOUS WAFERS. I FIND THAT EUROPEAN WAFERS ...</td>\n",
       "    </tr>\n",
       "    <tr>\n",
       "      <th>4</th>\n",
       "      <td>155049</td>\n",
       "      <td>B000PAQ75C</td>\n",
       "      <td>AR5J8UI46CURR</td>\n",
       "      <td>Geetha Krishnan</td>\n",
       "      <td>2</td>\n",
       "      <td>2</td>\n",
       "      <td>5</td>\n",
       "      <td>1199577600</td>\n",
       "      <td>LOACKER QUADRATINI VANILLA WAFERS</td>\n",
       "      <td>DELICIOUS WAFERS. I FIND THAT EUROPEAN WAFERS ...</td>\n",
       "    </tr>\n",
       "  </tbody>\n",
       "</table>\n",
       "</div>"
      ],
      "text/plain": [
       "       Id   ProductId         UserId      ProfileName  HelpfulnessNumerator  \\\n",
       "0   78445  B000HDL1RQ  AR5J8UI46CURR  Geetha Krishnan                     2   \n",
       "1  138317  B000HDOPYC  AR5J8UI46CURR  Geetha Krishnan                     2   \n",
       "2  138277  B000HDOPYM  AR5J8UI46CURR  Geetha Krishnan                     2   \n",
       "3   73791  B000HDOPZG  AR5J8UI46CURR  Geetha Krishnan                     2   \n",
       "4  155049  B000PAQ75C  AR5J8UI46CURR  Geetha Krishnan                     2   \n",
       "\n",
       "   HelpfulnessDenominator  Score        Time  \\\n",
       "0                       2      5  1199577600   \n",
       "1                       2      5  1199577600   \n",
       "2                       2      5  1199577600   \n",
       "3                       2      5  1199577600   \n",
       "4                       2      5  1199577600   \n",
       "\n",
       "                             Summary  \\\n",
       "0  LOACKER QUADRATINI VANILLA WAFERS   \n",
       "1  LOACKER QUADRATINI VANILLA WAFERS   \n",
       "2  LOACKER QUADRATINI VANILLA WAFERS   \n",
       "3  LOACKER QUADRATINI VANILLA WAFERS   \n",
       "4  LOACKER QUADRATINI VANILLA WAFERS   \n",
       "\n",
       "                                                Text  \n",
       "0  DELICIOUS WAFERS. I FIND THAT EUROPEAN WAFERS ...  \n",
       "1  DELICIOUS WAFERS. I FIND THAT EUROPEAN WAFERS ...  \n",
       "2  DELICIOUS WAFERS. I FIND THAT EUROPEAN WAFERS ...  \n",
       "3  DELICIOUS WAFERS. I FIND THAT EUROPEAN WAFERS ...  \n",
       "4  DELICIOUS WAFERS. I FIND THAT EUROPEAN WAFERS ...  "
      ]
     },
     "execution_count": 7,
     "metadata": {},
     "output_type": "execute_result"
    }
   ],
   "source": [
    "display= pd.read_sql_query(\"\"\"\n",
    "SELECT *\n",
    "FROM Reviews\n",
    "WHERE Score != 3 AND UserId=\"AR5J8UI46CURR\"\n",
    "ORDER BY ProductID\n",
    "\"\"\", con)\n",
    "display.head()"
   ]
  },
  {
   "cell_type": "markdown",
   "metadata": {
    "colab_type": "text",
    "id": "pvogJHEyJkjq"
   },
   "source": [
    "As it can be seen above that same user has multiple reviews with same values for HelpfulnessNumerator, HelpfulnessDenominator, Score, Time, Summary and Text and on doing analysis it was found that <br>\n",
    "<br> \n",
    "ProductId=B000HDOPZG was Loacker Quadratini Vanilla Wafer Cookies, 8.82-Ounce Packages (Pack of 8)<br>\n",
    "<br> \n",
    "ProductId=B000HDL1RQ was Loacker Quadratini Lemon Wafer Cookies, 8.82-Ounce Packages (Pack of 8) and so on<br>\n",
    "\n",
    "It was inferred after analysis that reviews with same parameters other than ProductId belonged to the same product just having different flavour or quantity. Hence in order to reduce redundancy it was decided to eliminate the rows having same parameters.<br>\n",
    "\n",
    "The method used for the same was that we first sort the data according to ProductId and then just keep the first similar product review and delelte the others. for eg. in the above just the review for ProductId=B000HDL1RQ remains. This method ensures that there is only one representative for each product and deduplication without sorting would lead to possibility of different representatives still existing for the same product."
   ]
  },
  {
   "cell_type": "code",
   "execution_count": 8,
   "metadata": {
    "colab": {},
    "colab_type": "code",
    "id": "LAWOrfBaJkjr"
   },
   "outputs": [],
   "source": [
    "#Sorting data according to ProductId in ascending order\n",
    "sorted_data=filtered_data.sort_values('ProductId', axis=0, ascending=True, inplace=False, kind='quicksort', na_position='last')"
   ]
  },
  {
   "cell_type": "code",
   "execution_count": 9,
   "metadata": {
    "colab": {},
    "colab_type": "code",
    "id": "dfaQob28Jkju",
    "outputId": "21104e4f-cd18-4353-a54a-5b4638fc552b"
   },
   "outputs": [
    {
     "data": {
      "text/plain": [
       "(87775, 10)"
      ]
     },
     "execution_count": 9,
     "metadata": {},
     "output_type": "execute_result"
    }
   ],
   "source": [
    "#Deduplication of entries\n",
    "final=sorted_data.drop_duplicates(subset={\"UserId\",\"ProfileName\",\"Time\",\"Text\"}, keep='first', inplace=False)\n",
    "final.shape"
   ]
  },
  {
   "cell_type": "code",
   "execution_count": 10,
   "metadata": {
    "colab": {},
    "colab_type": "code",
    "id": "9QVxT6oxJkjx",
    "outputId": "f292b9fe-6065-4979-830d-c79bc6785a3d"
   },
   "outputs": [
    {
     "data": {
      "text/plain": [
       "87.775"
      ]
     },
     "execution_count": 10,
     "metadata": {},
     "output_type": "execute_result"
    }
   ],
   "source": [
    "#Checking to see how much % of data still remains\n",
    "(final['Id'].size*1.0)/(filtered_data['Id'].size*1.0)*100"
   ]
  },
  {
   "cell_type": "markdown",
   "metadata": {
    "colab_type": "text",
    "id": "qVaxONHLJkj1"
   },
   "source": [
    "<b>Observation:-</b> It was also seen that in two rows given below the value of HelpfulnessNumerator is greater than HelpfulnessDenominator which is not practically possible hence these two rows too are removed from calcualtions"
   ]
  },
  {
   "cell_type": "code",
   "execution_count": 11,
   "metadata": {
    "colab": {},
    "colab_type": "code",
    "id": "vLoqfOjcJkj1",
    "outputId": "db3448f8-fbda-4205-a7cc-5048e0f1fd19"
   },
   "outputs": [
    {
     "data": {
      "text/html": [
       "<div>\n",
       "<style scoped>\n",
       "    .dataframe tbody tr th:only-of-type {\n",
       "        vertical-align: middle;\n",
       "    }\n",
       "\n",
       "    .dataframe tbody tr th {\n",
       "        vertical-align: top;\n",
       "    }\n",
       "\n",
       "    .dataframe thead th {\n",
       "        text-align: right;\n",
       "    }\n",
       "</style>\n",
       "<table border=\"1\" class=\"dataframe\">\n",
       "  <thead>\n",
       "    <tr style=\"text-align: right;\">\n",
       "      <th></th>\n",
       "      <th>Id</th>\n",
       "      <th>ProductId</th>\n",
       "      <th>UserId</th>\n",
       "      <th>ProfileName</th>\n",
       "      <th>HelpfulnessNumerator</th>\n",
       "      <th>HelpfulnessDenominator</th>\n",
       "      <th>Score</th>\n",
       "      <th>Time</th>\n",
       "      <th>Summary</th>\n",
       "      <th>Text</th>\n",
       "    </tr>\n",
       "  </thead>\n",
       "  <tbody>\n",
       "    <tr>\n",
       "      <th>0</th>\n",
       "      <td>64422</td>\n",
       "      <td>B000MIDROQ</td>\n",
       "      <td>A161DK06JJMCYF</td>\n",
       "      <td>J. E. Stephens \"Jeanne\"</td>\n",
       "      <td>3</td>\n",
       "      <td>1</td>\n",
       "      <td>5</td>\n",
       "      <td>1224892800</td>\n",
       "      <td>Bought This for My Son at College</td>\n",
       "      <td>My son loves spaghetti so I didn't hesitate or...</td>\n",
       "    </tr>\n",
       "    <tr>\n",
       "      <th>1</th>\n",
       "      <td>44737</td>\n",
       "      <td>B001EQ55RW</td>\n",
       "      <td>A2V0I904FH7ABY</td>\n",
       "      <td>Ram</td>\n",
       "      <td>3</td>\n",
       "      <td>2</td>\n",
       "      <td>4</td>\n",
       "      <td>1212883200</td>\n",
       "      <td>Pure cocoa taste with crunchy almonds inside</td>\n",
       "      <td>It was almost a 'love at first bite' - the per...</td>\n",
       "    </tr>\n",
       "  </tbody>\n",
       "</table>\n",
       "</div>"
      ],
      "text/plain": [
       "      Id   ProductId          UserId              ProfileName  \\\n",
       "0  64422  B000MIDROQ  A161DK06JJMCYF  J. E. Stephens \"Jeanne\"   \n",
       "1  44737  B001EQ55RW  A2V0I904FH7ABY                      Ram   \n",
       "\n",
       "   HelpfulnessNumerator  HelpfulnessDenominator  Score        Time  \\\n",
       "0                     3                       1      5  1224892800   \n",
       "1                     3                       2      4  1212883200   \n",
       "\n",
       "                                        Summary  \\\n",
       "0             Bought This for My Son at College   \n",
       "1  Pure cocoa taste with crunchy almonds inside   \n",
       "\n",
       "                                                Text  \n",
       "0  My son loves spaghetti so I didn't hesitate or...  \n",
       "1  It was almost a 'love at first bite' - the per...  "
      ]
     },
     "execution_count": 11,
     "metadata": {},
     "output_type": "execute_result"
    }
   ],
   "source": [
    "display= pd.read_sql_query(\"\"\"\n",
    "SELECT *\n",
    "FROM Reviews\n",
    "WHERE Score != 3 AND Id=44737 OR Id=64422\n",
    "ORDER BY ProductID\n",
    "\"\"\", con)\n",
    "\n",
    "display.head()"
   ]
  },
  {
   "cell_type": "code",
   "execution_count": 12,
   "metadata": {
    "colab": {},
    "colab_type": "code",
    "id": "f_185ozFJkj9"
   },
   "outputs": [],
   "source": [
    "final=final[final.HelpfulnessNumerator<=final.HelpfulnessDenominator]"
   ]
  },
  {
   "cell_type": "code",
   "execution_count": 13,
   "metadata": {
    "colab": {},
    "colab_type": "code",
    "id": "CofRySJyJkkC",
    "outputId": "a06c52f6-66a9-429b-8a5e-e20259f0bb21"
   },
   "outputs": [
    {
     "name": "stdout",
     "output_type": "stream",
     "text": [
      "(87773, 10)\n"
     ]
    },
    {
     "data": {
      "text/plain": [
       "1    73592\n",
       "0    14181\n",
       "Name: Score, dtype: int64"
      ]
     },
     "execution_count": 13,
     "metadata": {},
     "output_type": "execute_result"
    }
   ],
   "source": [
    "#Before starting the next phase of preprocessing lets see the number of entries left\n",
    "print(final.shape)\n",
    "\n",
    "#How many positive and negative reviews are present in our dataset?\n",
    "final['Score'].value_counts()"
   ]
  },
  {
   "cell_type": "markdown",
   "metadata": {
    "colab_type": "text",
    "id": "-fEWeywxJkkI"
   },
   "source": [
    "#  [3] Preprocessing"
   ]
  },
  {
   "cell_type": "markdown",
   "metadata": {
    "colab_type": "text",
    "id": "tzpbt9aOJkkJ"
   },
   "source": [
    "## [3.1].  Preprocessing Review Text\n",
    "\n",
    "Now that we have finished deduplication our data requires some preprocessing before we go on further with analysis and making the prediction model.\n",
    "\n",
    "Hence in the Preprocessing phase we do the following in the order below:-\n",
    "\n",
    "1. Begin by removing the html tags\n",
    "2. Remove any punctuations or limited set of special characters like , or . or # etc.\n",
    "3. Check if the word is made up of english letters and is not alpha-numeric\n",
    "4. Check to see if the length of the word is greater than 2 (as it was researched that there is no adjective in 2-letters)\n",
    "5. Convert the word to lowercase\n",
    "6. Remove Stopwords\n",
    "7. Finally Snowball Stemming the word (it was obsereved to be better than Porter Stemming)<br>\n",
    "\n",
    "After which we collect the words used to describe positive and negative reviews"
   ]
  },
  {
   "cell_type": "code",
   "execution_count": 14,
   "metadata": {
    "colab": {},
    "colab_type": "code",
    "id": "YqxBeLk8JkkL",
    "outputId": "1819632d-0129-4a13-d7ff-4e7bbf129dff"
   },
   "outputs": [
    {
     "name": "stdout",
     "output_type": "stream",
     "text": [
      "My dogs loves this chicken but its a product from China, so we wont be buying it anymore.  Its very hard to find any chicken products made in the USA but they are out there, but this one isnt.  Its too bad too because its a good product but I wont take any chances till they know what is going on with the china imports.\n",
      "==================================================\n",
      "The Candy Blocks were a nice visual for the Lego Birthday party but the candy has little taste to it.  Very little of the 2 lbs that I bought were eaten and I threw the rest away.  I would not buy the candy again.\n",
      "==================================================\n",
      "was way to hot for my blood, took a bite and did a jig  lol\n",
      "==================================================\n",
      "My dog LOVES these treats. They tend to have a very strong fish oil smell. So if you are afraid of the fishy smell, don't get it. But I think my dog likes it because of the smell. These treats are really small in size. They are great for training. You can give your dog several of these without worrying about him over eating. Amazon's price was much more reasonable than any other retailer. You can buy a 1 pound bag on Amazon for almost the same price as a 6 ounce bag at other retailers. It's definitely worth it to buy a big bag if your dog eats them a lot.\n",
      "==================================================\n"
     ]
    }
   ],
   "source": [
    "# printing some random reviews\n",
    "sent_0 = final['Text'].values[0]\n",
    "print(sent_0)\n",
    "print(\"=\"*50)\n",
    "\n",
    "sent_1000 = final['Text'].values[1000]\n",
    "print(sent_1000)\n",
    "print(\"=\"*50)\n",
    "\n",
    "sent_1500 = final['Text'].values[1500]\n",
    "print(sent_1500)\n",
    "print(\"=\"*50)\n",
    "\n",
    "sent_4900 = final['Text'].values[4900]\n",
    "print(sent_4900)\n",
    "print(\"=\"*50)"
   ]
  },
  {
   "cell_type": "code",
   "execution_count": 15,
   "metadata": {
    "colab": {},
    "colab_type": "code",
    "id": "lWiJ2_9gJkkP",
    "outputId": "08234806-3657-4d8f-c6d2-020dc9cda61c"
   },
   "outputs": [
    {
     "name": "stdout",
     "output_type": "stream",
     "text": [
      "My dogs loves this chicken but its a product from China, so we wont be buying it anymore.  Its very hard to find any chicken products made in the USA but they are out there, but this one isnt.  Its too bad too because its a good product but I wont take any chances till they know what is going on with the china imports.\n"
     ]
    }
   ],
   "source": [
    "# remove urls from text python: https://stackoverflow.com/a/40823105/4084039\n",
    "sent_0 = re.sub(r\"http\\S+\", \"\", sent_0)\n",
    "sent_1000 = re.sub(r\"http\\S+\", \"\", sent_1000)\n",
    "sent_150 = re.sub(r\"http\\S+\", \"\", sent_1500)\n",
    "sent_4900 = re.sub(r\"http\\S+\", \"\", sent_4900)\n",
    "\n",
    "print(sent_0)"
   ]
  },
  {
   "cell_type": "code",
   "execution_count": 16,
   "metadata": {
    "colab": {},
    "colab_type": "code",
    "id": "cpLtZ-lAJkkR",
    "outputId": "7e0bf159-4db4-4ffe-d72e-6d5952d453f1"
   },
   "outputs": [
    {
     "name": "stdout",
     "output_type": "stream",
     "text": [
      "My dogs loves this chicken but its a product from China, so we wont be buying it anymore.  Its very hard to find any chicken products made in the USA but they are out there, but this one isnt.  Its too bad too because its a good product but I wont take any chances till they know what is going on with the china imports.\n",
      "==================================================\n",
      "The Candy Blocks were a nice visual for the Lego Birthday party but the candy has little taste to it.  Very little of the 2 lbs that I bought were eaten and I threw the rest away.  I would not buy the candy again.\n",
      "==================================================\n",
      "was way to hot for my blood, took a bite and did a jig  lol\n",
      "==================================================\n",
      "My dog LOVES these treats. They tend to have a very strong fish oil smell. So if you are afraid of the fishy smell, don't get it. But I think my dog likes it because of the smell. These treats are really small in size. They are great for training. You can give your dog several of these without worrying about him over eating. Amazon's price was much more reasonable than any other retailer. You can buy a 1 pound bag on Amazon for almost the same price as a 6 ounce bag at other retailers. It's definitely worth it to buy a big bag if your dog eats them a lot.\n"
     ]
    }
   ],
   "source": [
    "# https://stackoverflow.com/questions/16206380/python-beautifulsoup-how-to-remove-all-tags-from-an-element\n",
    "from bs4 import BeautifulSoup\n",
    "\n",
    "soup = BeautifulSoup(sent_0, 'lxml')\n",
    "text = soup.get_text()\n",
    "print(text)\n",
    "print(\"=\"*50)\n",
    "\n",
    "soup = BeautifulSoup(sent_1000, 'lxml')\n",
    "text = soup.get_text()\n",
    "print(text)\n",
    "print(\"=\"*50)\n",
    "\n",
    "soup = BeautifulSoup(sent_1500, 'lxml')\n",
    "text = soup.get_text()\n",
    "print(text)\n",
    "print(\"=\"*50)\n",
    "\n",
    "soup = BeautifulSoup(sent_4900, 'lxml')\n",
    "text = soup.get_text()\n",
    "print(text)"
   ]
  },
  {
   "cell_type": "code",
   "execution_count": 17,
   "metadata": {
    "colab": {},
    "colab_type": "code",
    "id": "HYBbtiCMJkkW"
   },
   "outputs": [],
   "source": [
    "# https://stackoverflow.com/a/47091490/4084039\n",
    "import re\n",
    "\n",
    "def decontracted(phrase):\n",
    "    # specific\n",
    "    phrase = re.sub(r\"won't\", \"will not\", phrase)\n",
    "    phrase = re.sub(r\"can\\'t\", \"can not\", phrase)\n",
    "\n",
    "    # general\n",
    "    phrase = re.sub(r\"n\\'t\", \" not\", phrase)\n",
    "    phrase = re.sub(r\"\\'re\", \" are\", phrase)\n",
    "    phrase = re.sub(r\"\\'s\", \" is\", phrase)\n",
    "    phrase = re.sub(r\"\\'d\", \" would\", phrase)\n",
    "    phrase = re.sub(r\"\\'ll\", \" will\", phrase)\n",
    "    phrase = re.sub(r\"\\'t\", \" not\", phrase)\n",
    "    phrase = re.sub(r\"\\'ve\", \" have\", phrase)\n",
    "    phrase = re.sub(r\"\\'m\", \" am\", phrase)\n",
    "    return phrase"
   ]
  },
  {
   "cell_type": "code",
   "execution_count": 18,
   "metadata": {
    "colab": {},
    "colab_type": "code",
    "id": "WPQSZurTJkkY",
    "outputId": "6d91fc9f-8f77-497c-95bb-96bfc9781196",
    "scrolled": true
   },
   "outputs": [
    {
     "name": "stdout",
     "output_type": "stream",
     "text": [
      "was way to hot for my blood, took a bite and did a jig  lol\n",
      "==================================================\n"
     ]
    }
   ],
   "source": [
    "sent_1500 = decontracted(sent_1500)\n",
    "print(sent_1500)\n",
    "print(\"=\"*50)"
   ]
  },
  {
   "cell_type": "code",
   "execution_count": 19,
   "metadata": {
    "colab": {},
    "colab_type": "code",
    "id": "6bakeyaQJkkb",
    "outputId": "f7cf0096-0b7b-4ec1-84df-01e838621d62"
   },
   "outputs": [
    {
     "name": "stdout",
     "output_type": "stream",
     "text": [
      "My dogs loves this chicken but its a product from China, so we wont be buying it anymore.  Its very hard to find any chicken products made in the USA but they are out there, but this one isnt.  Its too bad too because its a good product but I wont take any chances till they know what is going on with the china imports.\n"
     ]
    }
   ],
   "source": [
    "#remove words with numbers python: https://stackoverflow.com/a/18082370/4084039\n",
    "sent_0 = re.sub(\"\\S*\\d\\S*\", \"\", sent_0).strip()\n",
    "print(sent_0)"
   ]
  },
  {
   "cell_type": "code",
   "execution_count": 20,
   "metadata": {
    "colab": {},
    "colab_type": "code",
    "id": "dMqqVqadJkkg",
    "outputId": "e4a6bd28-9d39-4dd2-9483-0406dd3dff50"
   },
   "outputs": [
    {
     "name": "stdout",
     "output_type": "stream",
     "text": [
      "was way to hot for my blood took a bite and did a jig lol\n"
     ]
    }
   ],
   "source": [
    "#remove spacial character: https://stackoverflow.com/a/5843547/4084039\n",
    "sent_1500 = re.sub('[^A-Za-z0-9]+', ' ', sent_1500)\n",
    "print(sent_1500)"
   ]
  },
  {
   "cell_type": "code",
   "execution_count": 21,
   "metadata": {
    "colab": {},
    "colab_type": "code",
    "id": "bvEoXB5NJkkk"
   },
   "outputs": [],
   "source": [
    "# https://gist.github.com/sebleier/554280\n",
    "# we are removing the words from the stop words list: 'no', 'nor', 'not'\n",
    "# <br /><br /> ==> after the above steps, we are getting \"br br\"\n",
    "# we are including them into stop words list\n",
    "# instead of <br /> if we have <br/> these tags would have revmoved in the 1st step\n",
    "\n",
    "stopwords= set(['br', 'the', 'i', 'me', 'my', 'myself', 'we', 'our', 'ours', 'ourselves', 'you', \"you're\", \"you've\",\\\n",
    "            \"you'll\", \"you'd\", 'your', 'yours', 'yourself', 'yourselves', 'he', 'him', 'his', 'himself', \\\n",
    "            'she', \"she's\", 'her', 'hers', 'herself', 'it', \"it's\", 'its', 'itself', 'they', 'them', 'their',\\\n",
    "            'theirs', 'themselves', 'what', 'which', 'who', 'whom', 'this', 'that', \"that'll\", 'these', 'those', \\\n",
    "            'am', 'is', 'are', 'was', 'were', 'be', 'been', 'being', 'have', 'has', 'had', 'having', 'do', 'does', \\\n",
    "            'did', 'doing', 'a', 'an', 'the', 'and', 'but', 'if', 'or', 'because', 'as', 'until', 'while', 'of', \\\n",
    "            'at', 'by', 'for', 'with', 'about', 'against', 'between', 'into', 'through', 'during', 'before', 'after',\\\n",
    "            'above', 'below', 'to', 'from', 'up', 'down', 'in', 'out', 'on', 'off', 'over', 'under', 'again', 'further',\\\n",
    "            'then', 'once', 'here', 'there', 'when', 'where', 'why', 'how', 'all', 'any', 'both', 'each', 'few', 'more',\\\n",
    "            'most', 'other', 'some', 'such', 'only', 'own', 'same', 'so', 'than', 'too', 'very', \\\n",
    "            's', 't', 'can', 'will', 'just', 'don', \"don't\", 'should', \"should've\", 'now', 'd', 'll', 'm', 'o', 're', \\\n",
    "            've', 'y', 'ain', 'aren', \"aren't\", 'couldn', \"couldn't\", 'didn', \"didn't\", 'doesn', \"doesn't\", 'hadn',\\\n",
    "            \"hadn't\", 'hasn', \"hasn't\", 'haven', \"haven't\", 'isn', \"isn't\", 'ma', 'mightn', \"mightn't\", 'mustn',\\\n",
    "            \"mustn't\", 'needn', \"needn't\", 'shan', \"shan't\", 'shouldn', \"shouldn't\", 'wasn', \"wasn't\", 'weren', \"weren't\", \\\n",
    "            'won', \"won't\", 'wouldn', \"wouldn't\"])"
   ]
  },
  {
   "cell_type": "code",
   "execution_count": 22,
   "metadata": {
    "colab": {},
    "colab_type": "code",
    "id": "0j3jfqWCJkko",
    "outputId": "c83c59c5-fe17-4ad2-d43f-0b0947a6e6ba"
   },
   "outputs": [],
   "source": [
    "#filtered out whole reviews\n",
    "\n",
    "from bs4 import BeautifulSoup\n",
    "# Combining all the above stundents \n",
    "from tqdm import tqdm\n",
    "# tqdm is for printing the status bar\n",
    "word_counter = []\n",
    "def filterised_text(text):\n",
    "    preprocessed_text = []\n",
    "    for sentance in tqdm(text):\n",
    "        sentance = re.sub(r\"http\\S+\", \"\", sentance)\n",
    "        sentance = BeautifulSoup(sentance, 'lxml').get_text()\n",
    "        sentance = decontracted(sentance)\n",
    "        sentance = re.sub(\"\\S*\\d\\S*\", \"\", sentance).strip()\n",
    "        sentance = re.sub('[^A-Za-z]+', ' ', sentance)\n",
    "        # https://gist.github.com/sebleier/554280\n",
    "        sentance = ' '.join(e.lower() for e in sentance.split() if e.lower() not in stopwords)\n",
    "        count = len(sentance.split())\n",
    "        word_counter.append(count)\n",
    "        preprocessed_text.append(sentance.strip())\n",
    "    return preprocessed_text"
   ]
  },
  {
   "cell_type": "code",
   "execution_count": 23,
   "metadata": {
    "colab": {},
    "colab_type": "code",
    "id": "nS_7EeV7Jkkr",
    "outputId": "4d4cd05e-0730-4e52-dc30-eb97014871dd"
   },
   "outputs": [
    {
     "name": "stderr",
     "output_type": "stream",
     "text": [
      "100%|██████████| 87773/87773 [00:29<00:00, 2956.18it/s]\n"
     ]
    },
    {
     "data": {
      "text/plain": [
       "'taste great using air popper not great little seeds fall popping'"
      ]
     },
     "execution_count": 23,
     "metadata": {},
     "output_type": "execute_result"
    }
   ],
   "source": [
    "preprocessed_reviews = filterised_text(final['Text'].values)\n",
    "final['preprocessed_reviews']  = preprocessed_reviews\n",
    "preprocessed_reviews[1822]"
   ]
  },
  {
   "cell_type": "code",
   "execution_count": 24,
   "metadata": {},
   "outputs": [
    {
     "data": {
      "text/plain": [
       "11"
      ]
     },
     "execution_count": 24,
     "metadata": {},
     "output_type": "execute_result"
    }
   ],
   "source": [
    "final['numbers_of_words']  = word_counter\n",
    "word_counter[1822]"
   ]
  },
  {
   "cell_type": "markdown",
   "metadata": {
    "colab_type": "text",
    "id": "zak5yP5zJkkt"
   },
   "source": [
    "## Preprocessing Review Summary"
   ]
  },
  {
   "cell_type": "code",
   "execution_count": 25,
   "metadata": {
    "colab": {},
    "colab_type": "code",
    "id": "wZ3Epk1wJkku",
    "scrolled": true
   },
   "outputs": [
    {
     "name": "stderr",
     "output_type": "stream",
     "text": [
      "100%|██████████| 87773/87773 [00:18<00:00, 4810.09it/s]\n"
     ]
    },
    {
     "data": {
      "text/plain": [
       "'pop corn'"
      ]
     },
     "execution_count": 25,
     "metadata": {},
     "output_type": "execute_result"
    }
   ],
   "source": [
    "preprocessed_summary = filterised_text(final['Summary'].values)\n",
    "final['preprocessed_summary']  = preprocessed_summary\n",
    "preprocessed_summary[1822]"
   ]
  },
  {
   "cell_type": "markdown",
   "metadata": {},
   "source": [
    "### Splitting data"
   ]
  },
  {
   "cell_type": "markdown",
   "metadata": {},
   "source": [
    "__We have considered 100 k points__"
   ]
  },
  {
   "cell_type": "code",
   "execution_count": 26,
   "metadata": {},
   "outputs": [
    {
     "name": "stdout",
     "output_type": "stream",
     "text": [
      "(61441,) (26332,) (61441,) (26332,)\n"
     ]
    }
   ],
   "source": [
    "X = final['preprocessed_reviews']\n",
    "y = final['Score']\n",
    "\n",
    "# split the data set into train and test\n",
    "X_train, x_test, y_train, y_test = model_selection.train_test_split(X, y, test_size=0.3,random_state=0)\n",
    "\n",
    "print(X_train.shape, x_test.shape, y_train.shape, y_test.shape)"
   ]
  },
  {
   "cell_type": "markdown",
   "metadata": {
    "colab_type": "text",
    "id": "ChHwtw1iJkky"
   },
   "source": [
    "# [4] Featurization"
   ]
  },
  {
   "cell_type": "markdown",
   "metadata": {
    "colab_type": "text",
    "id": "qyWESNvzJkky"
   },
   "source": [
    "## [4.1] BAG OF WORDS"
   ]
  },
  {
   "cell_type": "code",
   "execution_count": 27,
   "metadata": {
    "colab": {},
    "colab_type": "code",
    "id": "zS0niozAJkkz",
    "outputId": "e2a25e5d-2e1a-497a-f094-a7e249201001"
   },
   "outputs": [
    {
     "name": "stdout",
     "output_type": "stream",
     "text": [
      "X_train_bow (61441, 36487)\n",
      "==============================\n",
      "x_test_bow (26332, 36487)\n"
     ]
    }
   ],
   "source": [
    "##BoW\n",
    "\n",
    "count_vect = CountVectorizer(ngram_range=(1,2), min_df=10) #in scikit-learn\n",
    "\n",
    "# train data\n",
    "X_train_bow = count_vect.fit_transform(X_train)\n",
    "\n",
    "# test data\n",
    "x_test_bow = count_vect.transform(x_test)\n",
    "\n",
    "\n",
    "print('X_train_bow',X_train_bow.shape)\n",
    "print('==='*10)\n",
    "print('x_test_bow',x_test_bow.shape)"
   ]
  },
  {
   "cell_type": "markdown",
   "metadata": {
    "colab_type": "text",
    "id": "ZFN0k_hEJklb"
   },
   "source": [
    "# [5] Assignment 4: Apply Naive Bayes"
   ]
  },
  {
   "cell_type": "code",
   "execution_count": 28,
   "metadata": {},
   "outputs": [],
   "source": [
    "from sklearn.naive_bayes import MultinomialNB\n",
    "# importing Cross validation libs\n",
    "from sklearn.model_selection import train_test_split\n",
    "from sklearn.model_selection import cross_val_score\n",
    "from sklearn import model_selection\n",
    "\n",
    "\n",
    "# Python script for confusion matrix creation. \n",
    "from sklearn.metrics import confusion_matrix \n",
    "from sklearn.metrics import accuracy_score \n",
    "from sklearn.metrics import classification_report \n",
    "# ROC , AUC curve\n",
    "# roc curve and auc\n",
    "from sklearn.datasets import make_classification\n",
    "from sklearn.metrics import roc_curve\n",
    "from sklearn.metrics import roc_auc_score\n",
    "from matplotlib import pyplot\n",
    "from sklearn.metrics import roc_curve, auc\n",
    "# kFold\n",
    "from sklearn.model_selection import KFold\n",
    "\n",
    "from sklearn.model_selection import GridSearchCV\n",
    "\n",
    "import seaborn as sns\n",
    "\n",
    "from sklearn.model_selection import TimeSeriesSplit\n",
    "from sklearn.model_selection import RandomizedSearchCV"
   ]
  },
  {
   "cell_type": "code",
   "execution_count": 29,
   "metadata": {},
   "outputs": [],
   "source": [
    "# Common Methods\n",
    "\n",
    "# define the range, through which we are going to find alpha-hyperparameter\n",
    "# alpha_values = (1e-4, 1e-3,1e-2,1e-1, 1e0,1e1)\n",
    "# alpha_values =  np.geomspace(1e-3, 10)\n",
    "\n",
    "alpha_values = (1e-4, 1e-3,1e-2,0.05,1e-1,0.2,0.3,0.4,0.5,0.6,0.7,0.8,0.9, 1e0,3,5,7,9,1e1,1e2,1e3)\n",
    "\n",
    "def finding_best_alpha(X_tr,y_tr):\n",
    "    # instantiate a Multinomial Naive Bayes model\n",
    "    nb = MultinomialNB()\n",
    "    \n",
    "    param_grid = dict(alpha=alpha_values)\n",
    "    print(param_grid)\n",
    "    \n",
    "    #For time based splitting\n",
    "    tscv = TimeSeriesSplit(n_splits=15) \n",
    "    \n",
    "    # instantiate the training grid search model\n",
    "    train_grid = GridSearchCV(nb, param_grid, cv=tscv, scoring='roc_auc',n_jobs =-1,verbose=10 )\n",
    "    \n",
    "    # fit the training data to train model\n",
    "    train_grid.fit(X_tr, y_tr)\n",
    "\n",
    "    return train_grid\n",
    "\n",
    "    # plot a graph which show difference between validation error and training error\n",
    "    \n",
    "def plotAccuracyGraph(training_grid):\n",
    "    alpha_range = [i for i in alpha_values]\n",
    "    accuracy = [i for i in training_grid.cv_results_['mean_train_score']]\n",
    "    accuracy_test = [i for i in training_grid.cv_results_['mean_test_score']]\n",
    "    plt.semilogx(alpha_range, accuracy,'r',label='train_accuracy')\n",
    "    plt.semilogx(alpha_range, accuracy_test,'b',label='validation_accuracy')\n",
    "    plt.title('Accuracy plot')\n",
    "    plt.xlabel('Alpha') \n",
    "    plt.ylabel('Accuracy')\n",
    "    plt.grid('on')\n",
    "    plt.legend()\n",
    "    plt.show()\n",
    "    \n",
    "# https://www.geeksforgeeks.org/confusion-matrix-machine-learning/    \n",
    "def plotConfusionMatrix(y_test,pred):\n",
    "    # calculate confusion matrix\n",
    "    cm =  confusion_matrix(y_test,pred)\n",
    "    class_label = ['negative', 'positive']\n",
    "    df_conf_matrix = pd.DataFrame(cm, index=class_label, columns=class_label)\n",
    "    # heatmap --> Plot rectangular data as a color-encoded matrix. \n",
    "    sns.heatmap(df_conf_matrix, annot=True, fmt='d')\n",
    "    # give title to graph\n",
    "    plt.title(\"Confusion Matrix\")\n",
    "    # mention axis label\n",
    "    plt.xlabel(\"Predicted\")\n",
    "    plt.ylabel(\"Actual\")\n",
    "    # show the plot\n",
    "    plt.show()\n",
    "    \n",
    "    \n",
    "# https://machinelearningmastery.com/roc-curves-and-precision-recall-curves-for-classification-in-python/\n",
    "# plot AUC curve\n",
    "def plotAUC_ROC(nb_optimal,X_train, y_train, X_test, y_test):\n",
    "    # predict probabilities\n",
    "    test_probs = nb_optimal.predict_proba(X_test)\n",
    "    train_probs = nb_optimal.predict_proba(X_train)\n",
    "    \n",
    "    # keep probabilities for the positive outcome only\n",
    "    test_probs = test_probs[:, 1]\n",
    "    train_probs = train_probs[:, 1]\n",
    "    \n",
    "    # calculate AUC\n",
    "    test_auc = roc_auc_score(y_test, test_probs)\n",
    "    train_auc = roc_auc_score(y_train, train_probs)\n",
    "    \n",
    "    # calculate roc curve\n",
    "    train_fpr, train_tpr, thresholds = roc_curve(y_train, train_probs)\n",
    "    test_fpr, test_tpr, thresholds2 = roc_curve(y_test, test_probs)\n",
    "    \n",
    "    # plot no skill\n",
    "    pyplot.plot([0, 1], [0, 1], linestyle='--')\n",
    "    \n",
    "    # plot the roc curve for the model\n",
    "    pyplot.plot(train_fpr, train_tpr, 'r',marker='.', label=\"train AUC =\"+str(train_auc))\n",
    "    pyplot.plot(test_fpr, test_tpr, 'b',marker='.',label=\"test AUC =\"+str(test_auc))\n",
    "    \n",
    "    pyplot.legend()\n",
    "    pyplot.xlabel(\"K: hyperparameter\")\n",
    "    pyplot.ylabel(\"AUC\")\n",
    "    pyplot.title(\"ERROR PLOTS\")\n",
    "    # show the plot\n",
    "    pyplot.show()\n",
    "    \n",
    "    return train_auc, test_auc\n",
    "\n",
    "class color:\n",
    "   PURPLE = '\\033[95m'\n",
    "   CYAN = '\\033[96m'\n",
    "   DARKCYAN = '\\033[36m'\n",
    "   BLUE = '\\033[94m'\n",
    "   GREEN = '\\033[92m'\n",
    "   YELLOW = '\\033[93m'\n",
    "   RED = '\\033[91m'\n",
    "   BOLD = '\\033[1m'\n",
    "   UNDERLINE = '\\033[4m'\n",
    "   END = '\\033[0m'\n",
    "    \n",
    "    \n",
    "    \n",
    "# https://stackoverflow.com/questions/11116697/how-to-get-most-informative-features-for-scikit-learn-classifiers\n",
    "def important_features(feature_names,classifier,n=20):\n",
    "    class_labels = classifier.classes_\n",
    "    topn_class1 = sorted(zip(classifier.feature_count_[0], feature_names),reverse=True)[:n]\n",
    "    topn_class2 = sorted(zip(classifier.feature_count_[1], feature_names),reverse=True)[:n]\n",
    "    print(color.BOLD+\"Important words in negative reviews\"+color.END)\n",
    "    print('\\n'+color.BOLD+'\\t Class Label '+color.END,class_labels[0])\n",
    "    for coef, feat in topn_class1:\n",
    "        print('{:.3f}'.format(coef), '\\t'+feat)\n",
    "    print(\"-----------------------------------------\\n\")\n",
    "    print(color.BOLD+\"Important words in positive reviews\"+color.END)\n",
    "    print('\\n'+color.BOLD+'\\t Class Label '+color.END,class_labels[1])\n",
    "    for coef, feat in topn_class2:\n",
    "        print('{:.3f}'.format(coef), '\\t'+feat)\n",
    "\n"
   ]
  },
  {
   "cell_type": "markdown",
   "metadata": {
    "colab_type": "text",
    "id": "RGRFxjhgJklc"
   },
   "source": [
    "# Applying Multinomial Naive Bayes"
   ]
  },
  {
   "cell_type": "markdown",
   "metadata": {
    "colab_type": "text",
    "id": "FxGKHpZlJkle"
   },
   "source": [
    "## [5.1] Applying Naive Bayes on BOW"
   ]
  },
  {
   "cell_type": "code",
   "execution_count": 30,
   "metadata": {},
   "outputs": [
    {
     "name": "stdout",
     "output_type": "stream",
     "text": [
      "{'alpha': (0.0001, 0.001, 0.01, 0.05, 0.1, 0.2, 0.3, 0.4, 0.5, 0.6, 0.7, 0.8, 0.9, 1.0, 3, 5, 7, 9, 10.0, 100.0, 1000.0)}\n",
      "Fitting 15 folds for each of 21 candidates, totalling 315 fits\n"
     ]
    },
    {
     "name": "stderr",
     "output_type": "stream",
     "text": [
      "[Parallel(n_jobs=-1)]: Using backend LokyBackend with 4 concurrent workers.\n",
      "[Parallel(n_jobs=-1)]: Done   5 tasks      | elapsed:    1.5s\n",
      "[Parallel(n_jobs=-1)]: Done  10 tasks      | elapsed:    1.7s\n",
      "[Parallel(n_jobs=-1)]: Done  17 tasks      | elapsed:    1.9s\n",
      "[Parallel(n_jobs=-1)]: Done  24 tasks      | elapsed:    2.0s\n",
      "[Parallel(n_jobs=-1)]: Done  33 tasks      | elapsed:    2.3s\n",
      "[Parallel(n_jobs=-1)]: Done  42 tasks      | elapsed:    2.6s\n",
      "[Parallel(n_jobs=-1)]: Done  53 tasks      | elapsed:    2.8s\n",
      "[Parallel(n_jobs=-1)]: Batch computation too fast (0.1969s.) Setting batch_size=2.\n",
      "[Parallel(n_jobs=-1)]: Done  64 tasks      | elapsed:    3.1s\n",
      "[Parallel(n_jobs=-1)]: Done  86 tasks      | elapsed:    3.8s\n",
      "[Parallel(n_jobs=-1)]: Done 112 tasks      | elapsed:    4.5s\n",
      "[Parallel(n_jobs=-1)]: Done 142 tasks      | elapsed:    5.2s\n",
      "[Parallel(n_jobs=-1)]: Done 172 tasks      | elapsed:    5.9s\n",
      "[Parallel(n_jobs=-1)]: Done 206 tasks      | elapsed:    6.8s\n",
      "[Parallel(n_jobs=-1)]: Done 240 tasks      | elapsed:    7.6s\n",
      "[Parallel(n_jobs=-1)]: Done 278 tasks      | elapsed:    8.5s\n",
      "[Parallel(n_jobs=-1)]: Done 308 out of 315 | elapsed:    9.3s remaining:    0.2s\n",
      "[Parallel(n_jobs=-1)]: Done 315 out of 315 | elapsed:    9.5s finished\n"
     ]
    },
    {
     "name": "stdout",
     "output_type": "stream",
     "text": [
      "=======Training========\n",
      "0.9336869731761391\n",
      "{'alpha': 0.5}\n",
      "MultinomialNB(alpha=0.5, class_prior=None, fit_prior=True)\n"
     ]
    },
    {
     "name": "stderr",
     "output_type": "stream",
     "text": [
      "/home/pranay/anaconda3/lib/python3.7/site-packages/matplotlib/cbook/__init__.py:424: MatplotlibDeprecationWarning: \n",
      "Passing one of 'on', 'true', 'off', 'false' as a boolean is deprecated; use an actual boolean (True/False) instead.\n",
      "  warn_deprecated(\"2.2\", \"Passing one of 'on', 'true', 'off', 'false' as a \"\n"
     ]
    },
    {
     "data": {
      "image/png": "[encoded data removed]",
      "text/plain": [
       "<Figure size 432x288 with 1 Axes>"
      ]
     },
     "metadata": {
      "needs_background": "light"
     },
     "output_type": "display_data"
    }
   ],
   "source": [
    "bow_train = finding_best_alpha(X_train_bow,y_train)\n",
    "\n",
    "# view the complete results (list of named tuples)\n",
    "print(\"=======Training========\")\n",
    "print (bow_train.best_score_)\n",
    "print (bow_train.best_params_)\n",
    "print (bow_train.best_estimator_)\n",
    "\n",
    "plotAccuracyGraph(bow_train)"
   ]
  },
  {
   "cell_type": "code",
   "execution_count": 31,
   "metadata": {
    "colab": {},
    "colab_type": "code",
    "id": "UR0f8SfZJkle",
    "scrolled": true
   },
   "outputs": [
    {
     "name": "stdout",
     "output_type": "stream",
     "text": [
      "\n",
      "\u001b[91mOptimal best alpha is : \u001b[0m\u001b[1m0.5\u001b[0m\n",
      "\n",
      "\u001b[1mConfusion Matrix for Train data\u001b[0m\n"
     ]
    },
    {
     "data": {
      "image/png": "[encoded data removed]",
      "text/plain": [
       "<Figure size 432x288 with 2 Axes>"
      ]
     },
     "metadata": {
      "needs_background": "light"
     },
     "output_type": "display_data"
    },
    {
     "name": "stdout",
     "output_type": "stream",
     "text": [
      "\n",
      "\u001b[1mConfusion Matrix for Test data\u001b[0m\n"
     ]
    },
    {
     "data": {
      "image/png": "[encoded data removed]",
      "text/plain": [
       "<Figure size 432x288 with 2 Axes>"
      ]
     },
     "metadata": {
      "needs_background": "light"
     },
     "output_type": "display_data"
    },
    {
     "data": {
      "image/png": "[encoded data removed]",
      "text/plain": [
       "<Figure size 432x288 with 1 Axes>"
      ]
     },
     "metadata": {
      "needs_background": "light"
     },
     "output_type": "display_data"
    },
    {
     "name": "stdout",
     "output_type": "stream",
     "text": [
      "\n",
      "\u001b[91mAUC (Train): \u001b[0m\u001b[1m0.9744685792725499\u001b[0m\n",
      "\n",
      "\u001b[91mAUC (Test): \u001b[0m\u001b[1m0.9450283466889644\u001b[0m\n",
      "\n",
      "\u001b[91mF1 SCORE (Train) : \u001b[0m\u001b[1m0.9626646928201332\u001b[0m\n",
      "\n",
      "\u001b[91mF1 SCORE (Test) : \u001b[0m\u001b[1m0.9495393922727898\u001b[0m\n",
      "\n",
      "\u001b[91mRECALL (Train): \u001b[0m\u001b[1m0.947230422622747\u001b[0m\n",
      "\n",
      "\u001b[91mRECALL (Test): \u001b[0m\u001b[1m0.9372964169381107\u001b[0m\n",
      "\n",
      "\u001b[91mPRECISION  (Train) : \u001b[0m\u001b[1m0.9786102694784999\u001b[0m\n",
      "\n",
      "\u001b[91mPRECISION  (Test) : \u001b[0m\u001b[1m0.9621064363332404\u001b[0m\n"
     ]
    }
   ],
   "source": [
    "optimal_alpha = bow_train.best_params_.get('alpha')\n",
    "\n",
    "nb_optimal= MultinomialNB(alpha=optimal_alpha, class_prior=None, fit_prior=True)\n",
    "\n",
    "# fitting the model\n",
    "nb_optimal.fit(X_train_bow,y_train)\n",
    "\n",
    "# predict the response\n",
    "test_pred = nb_optimal.predict(x_test_bow)\n",
    "train_pred = nb_optimal.predict(X_train_bow)\n",
    "\n",
    "print('\\n'+color.RED+'Optimal best alpha is : '+color.END+color.BOLD+str(optimal_alpha)+color.END)\n",
    "\n",
    "# plot confusion matrix\n",
    "\n",
    "print('\\n'+color.BOLD +'Confusion Matrix for Train data'+color.END)\n",
    "plotConfusionMatrix(y_train,train_pred)\n",
    "\n",
    "print('\\n'+color.BOLD +'Confusion Matrix for Test data'+color.END)\n",
    "plotConfusionMatrix(y_test,test_pred)\n",
    "\n",
    "# plot AUC\n",
    "train_auc,test_auc = plotAUC_ROC(nb_optimal,X_train_bow, y_train,x_test_bow, y_test )\n",
    "print('\\n'+color.RED+'AUC (Train): '+color.END+color.BOLD+str(train_auc)+color.END)\n",
    "print('\\n'+color.RED+'AUC (Test): '+color.END+color.BOLD+str(test_auc)+color.END)\n",
    "\n",
    "# f1 score\n",
    "score = f1_score(y_test,test_pred)\n",
    "print('\\n'+color.RED+'F1 SCORE (Train) : '+color.END+color.BOLD+str(f1_score(y_train,train_pred))+color.END)\n",
    "print('\\n'+color.RED+'F1 SCORE (Test) : '+color.END+color.BOLD+str(score)+color.END)\n",
    "\n",
    "# recall\n",
    "recall = metrics.recall_score(y_test, test_pred)\n",
    "print('\\n'+color.RED+'RECALL (Train): '+color.END+color.BOLD+str(metrics.recall_score(y_train, train_pred))+color.END)\n",
    "print('\\n'+color.RED+'RECALL (Test): '+color.END+color.BOLD+str(recall)+color.END)\n",
    "\n",
    "# precision\n",
    "precision = metrics.precision_score(y_test, test_pred)\n",
    "print('\\n'+color.RED+'PRECISION  (Train) : '+color.END+color.BOLD+str(metrics.precision_score(y_train, train_pred))+color.END)\n",
    "print('\\n'+color.RED+'PRECISION  (Test) : '+color.END+color.BOLD+str(precision)+color.END)"
   ]
  },
  {
   "cell_type": "markdown",
   "metadata": {
    "colab_type": "text",
    "id": "u-ZSD3tlJklg"
   },
   "source": [
    "### [5.1.1] Top 10 important features of positive class"
   ]
  },
  {
   "cell_type": "markdown",
   "metadata": {
    "colab_type": "text",
    "id": "mquFtwF5Jklj"
   },
   "source": [
    "### [5.1.2] Top 10 important features of negative class"
   ]
  },
  {
   "cell_type": "code",
   "execution_count": 32,
   "metadata": {},
   "outputs": [
    {
     "name": "stdout",
     "output_type": "stream",
     "text": [
      "\u001b[1mImportant words in negative reviews\u001b[0m\n",
      "\n",
      "\u001b[1m\t Class Label \u001b[0m 0\n",
      "16486.000 \tnot\n",
      "5374.000 \tlike\n",
      "4246.000 \twould\n",
      "4098.000 \tproduct\n",
      "4052.000 \ttaste\n",
      "3322.000 \tone\n",
      "2651.000 \tcoffee\n",
      "2627.000 \tgood\n",
      "2498.000 \tflavor\n",
      "2489.000 \tno\n",
      "-----------------------------------------\n",
      "\n",
      "\u001b[1mImportant words in positive reviews\u001b[0m\n",
      "\n",
      "\u001b[1m\t Class Label \u001b[0m 1\n",
      "48321.000 \tnot\n",
      "21545.000 \tlike\n",
      "18904.000 \tgood\n",
      "17323.000 \tgreat\n",
      "15165.000 \tone\n",
      "13878.000 \ttaste\n",
      "13426.000 \tcoffee\n",
      "12529.000 \tflavor\n",
      "12454.000 \tlove\n",
      "12439.000 \twould\n"
     ]
    }
   ],
   "source": [
    "important_features(count_vect.get_feature_names(), nb_optimal, 10)"
   ]
  },
  {
   "cell_type": "markdown",
   "metadata": {},
   "source": [
    "### Feature Engineering"
   ]
  },
  {
   "cell_type": "markdown",
   "metadata": {},
   "source": [
    "Till now we only consider Text review as feature, we are adding some extra feature like __review summary__ and __number of words__ in review and test our model improves efficiency or not.\n",
    "\n",
    "We have considered on 50000 points due to memory issue."
   ]
  },
  {
   "cell_type": "code",
   "execution_count": 33,
   "metadata": {
    "scrolled": true
   },
   "outputs": [
    {
     "name": "stdout",
     "output_type": "stream",
     "text": [
      "(35000, 13) (15000, 13) (35000,) (15000,)\n",
      "\n",
      "\u001b[1mConfusion Matrix for Train data\u001b[0m\n"
     ]
    },
    {
     "data": {
      "image/png": "[encoded data removed]",
      "text/plain": [
       "<Figure size 432x288 with 2 Axes>"
      ]
     },
     "metadata": {
      "needs_background": "light"
     },
     "output_type": "display_data"
    },
    {
     "name": "stdout",
     "output_type": "stream",
     "text": [
      "\n",
      "\u001b[1mConfusion Matrix for Test data\u001b[0m\n"
     ]
    },
    {
     "data": {
      "image/png": "[encoded data removed]",
      "text/plain": [
       "<Figure size 432x288 with 2 Axes>"
      ]
     },
     "metadata": {
      "needs_background": "light"
     },
     "output_type": "display_data"
    },
    {
     "data": {
      "image/png": "[encoded data removed]",
      "text/plain": [
       "<Figure size 432x288 with 1 Axes>"
      ]
     },
     "metadata": {
      "needs_background": "light"
     },
     "output_type": "display_data"
    },
    {
     "name": "stdout",
     "output_type": "stream",
     "text": [
      "\n",
      "\u001b[91mAUC (Train): \u001b[0m\u001b[1m0.9816129910282342\u001b[0m\n",
      "\n",
      "\u001b[91mAUC (Test): \u001b[0m\u001b[1m0.9566592879401167\u001b[0m\n",
      "\n",
      "\u001b[91mF1 SCORE (Train) : \u001b[0m\u001b[1m0.9684253972621587\u001b[0m\n",
      "\n",
      "\u001b[91mF1 SCORE (Test) : \u001b[0m\u001b[1m0.9546202303093528\u001b[0m\n",
      "\n",
      "\u001b[91mRECALL (Train): \u001b[0m\u001b[1m0.9527612344342177\u001b[0m\n",
      "\n",
      "\u001b[91mRECALL (Test): \u001b[0m\u001b[1m0.9424813817144668\u001b[0m\n",
      "\n",
      "\u001b[91mPRECISION  (Train) : \u001b[0m\u001b[1m0.9846132326199468\u001b[0m\n",
      "\n",
      "\u001b[91mPRECISION  (Test) : \u001b[0m\u001b[1m0.9670758474920739\u001b[0m\n"
     ]
    }
   ],
   "source": [
    "# https://sondosatwi.wordpress.com/2017/08/01/using-text-data-and-dataframemapper-in-python/\n",
    "\n",
    "X = final[:50000]\n",
    "y = final['Score'][:50000]\n",
    "\n",
    "# split the data set into train and test\n",
    "X_train, x_test, y_train, y_test = model_selection.train_test_split(X, y, test_size=0.3,random_state=0)\n",
    "\n",
    "print(X_train.shape, x_test.shape, y_train.shape, y_test.shape)\n",
    "\n",
    "mapper = DataFrameMapper([\n",
    "     ('preprocessed_reviews', CountVectorizer(ngram_range=(1,3), min_df=10)),\n",
    "     ('preprocessed_summary', CountVectorizer(ngram_range=(1,3), min_df=10)),\n",
    "     ('numbers_of_words', None),\n",
    " ])\n",
    "\n",
    "train_features = mapper.fit_transform(X_train)\n",
    "test_features = mapper.transform(x_test)\n",
    "\n",
    "optimal_alpha = bow_train.best_params_.get('alpha')\n",
    "\n",
    "nb_optimal= MultinomialNB(alpha=optimal_alpha, class_prior=None, fit_prior=True)\n",
    "\n",
    "# fitting the model\n",
    "nb_optimal.fit(train_features,y_train)\n",
    "\n",
    "# predict the response\n",
    "test_pred = nb_optimal.predict(test_features)\n",
    "train_pred = nb_optimal.predict(train_features)\n",
    "\n",
    "# plot confusion matrix\n",
    "\n",
    "print('\\n'+color.BOLD +'Confusion Matrix for Train data'+color.END)\n",
    "plotConfusionMatrix(y_train,train_pred)\n",
    "\n",
    "print('\\n'+color.BOLD +'Confusion Matrix for Test data'+color.END)\n",
    "plotConfusionMatrix(y_test,test_pred)\n",
    "\n",
    "# plot AUC\n",
    "train_auc,test_auc = plotAUC_ROC(nb_optimal,train_features, y_train,test_features, y_test )\n",
    "print('\\n'+color.RED+'AUC (Train): '+color.END+color.BOLD+str(train_auc)+color.END)\n",
    "print('\\n'+color.RED+'AUC (Test): '+color.END+color.BOLD+str(test_auc)+color.END)\n",
    "\n",
    "# f1 score\n",
    "score = f1_score(y_test,test_pred)\n",
    "print('\\n'+color.RED+'F1 SCORE (Train) : '+color.END+color.BOLD+str(f1_score(y_train,train_pred))+color.END)\n",
    "print('\\n'+color.RED+'F1 SCORE (Test) : '+color.END+color.BOLD+str(score)+color.END)\n",
    "\n",
    "# recall\n",
    "recall = metrics.recall_score(y_test, test_pred)\n",
    "print('\\n'+color.RED+'RECALL (Train): '+color.END+color.BOLD+str(metrics.recall_score(y_train, train_pred))+color.END)\n",
    "print('\\n'+color.RED+'RECALL (Test): '+color.END+color.BOLD+str(recall)+color.END)\n",
    "\n",
    "# precision\n",
    "precision = metrics.precision_score(y_test, test_pred)\n",
    "print('\\n'+color.RED+'PRECISION  (Train) : '+color.END+color.BOLD+str(metrics.precision_score(y_train, train_pred))+color.END)\n",
    "print('\\n'+color.RED+'PRECISION  (Test) : '+color.END+color.BOLD+str(precision)+color.END)"
   ]
  },
  {
   "cell_type": "markdown",
   "metadata": {},
   "source": [
    "### [5.1.1] Top 10 important features of positive class"
   ]
  },
  {
   "cell_type": "markdown",
   "metadata": {},
   "source": [
    "### [5.1.2] Top 10 important features of negative class"
   ]
  },
  {
   "cell_type": "code",
   "execution_count": 34,
   "metadata": {},
   "outputs": [
    {
     "name": "stdout",
     "output_type": "stream",
     "text": [
      "\u001b[1mImportant words in negative reviews\u001b[0m\n",
      "\n",
      "\u001b[1m\t Class Label \u001b[0m 0\n",
      "8654.000 \tnot\n",
      "2765.000 \tlike\n",
      "2208.000 \tproduct\n",
      "2190.000 \twould\n",
      "2009.000 \ttaste\n",
      "1808.000 \tone\n",
      "1421.000 \tgood\n",
      "1379.000 \tno\n",
      "1379.000 \tfood\n",
      "1330.000 \tnot\n",
      "-----------------------------------------\n",
      "\n",
      "\u001b[1mImportant words in positive reviews\u001b[0m\n",
      "\n",
      "\u001b[1m\t Class Label \u001b[0m 1\n",
      "26431.000 \tnot\n",
      "11388.000 \tlike\n",
      "10595.000 \tgood\n",
      "9743.000 \tgreat\n",
      "8923.000 \ttea\n",
      "8144.000 \tone\n",
      "7372.000 \ttaste\n",
      "6762.000 \tlove\n",
      "6690.000 \tflavor\n",
      "6674.000 \tproduct\n"
     ]
    }
   ],
   "source": [
    "merged_features_vectorizer = mapper.features[0][1].get_feature_names() + mapper.features[1][1].get_feature_names()\n",
    "important_features(merged_features_vectorizer, nb_optimal, 10)"
   ]
  },
  {
   "cell_type": "markdown",
   "metadata": {},
   "source": [
    "As we can see that by consider 'review text', 'summary text' and 'number of words' in review text all together, __AUC value is changed from 0.94502 to 0.95665__"
   ]
  },
  {
   "cell_type": "markdown",
   "metadata": {
    "colab_type": "text",
    "id": "1fvAmu91Jkk6"
   },
   "source": [
    "## [4.2] TF-IDF"
   ]
  },
  {
   "cell_type": "code",
   "execution_count": 35,
   "metadata": {
    "colab": {},
    "colab_type": "code",
    "id": "ag5-WCR8Jkk7",
    "outputId": "94a8ddc3-4bb7-4c49-d4e7-ed98560633b6"
   },
   "outputs": [
    {
     "name": "stdout",
     "output_type": "stream",
     "text": [
      "(61441,) (26332,) (61441,) (26332,)\n",
      "X_train_tfidf (61441, 40217)\n",
      "==============================\n",
      "x_test_tfidf (26332, 40217)\n"
     ]
    }
   ],
   "source": [
    "X = final['preprocessed_reviews']\n",
    "y = final['Score']\n",
    "\n",
    "# split the data set into train and test\n",
    "X_train, x_test, y_train, y_test = model_selection.train_test_split(X, y, test_size=0.3,random_state=0)\n",
    "\n",
    "print(X_train.shape, x_test.shape, y_train.shape, y_test.shape)\n",
    "\n",
    "tf_idf_vect = TfidfVectorizer(ngram_range=(1,3), min_df=10) #in scikit-learn\n",
    "\n",
    "# train data\n",
    "X_train_tfidf = tf_idf_vect.fit_transform(X_train)\n",
    "\n",
    "# test data\n",
    "x_test_tfidf = tf_idf_vect.transform(x_test)\n",
    "\n",
    "print('X_train_tfidf', X_train_tfidf.shape)\n",
    "print('==='*10)\n",
    "print('x_test_tfidf', x_test_tfidf.shape)"
   ]
  },
  {
   "cell_type": "markdown",
   "metadata": {
    "colab_type": "text",
    "id": "6bp7BbwCJkll"
   },
   "source": [
    "## [5.2] Applying Naive Bayes on TFIDF"
   ]
  },
  {
   "cell_type": "code",
   "execution_count": 36,
   "metadata": {
    "colab": {},
    "colab_type": "code",
    "id": "oL29fzPFJkll",
    "scrolled": true
   },
   "outputs": [
    {
     "name": "stdout",
     "output_type": "stream",
     "text": [
      "{'alpha': (0.0001, 0.001, 0.01, 0.05, 0.1, 0.2, 0.3, 0.4, 0.5, 0.6, 0.7, 0.8, 0.9, 1.0, 3, 5, 7, 9, 10.0, 100.0, 1000.0)}\n",
      "Fitting 15 folds for each of 21 candidates, totalling 315 fits\n"
     ]
    },
    {
     "name": "stderr",
     "output_type": "stream",
     "text": [
      "[Parallel(n_jobs=-1)]: Using backend LokyBackend with 4 concurrent workers.\n",
      "[Parallel(n_jobs=-1)]: Batch computation too fast (0.0550s.) Setting batch_size=6.\n",
      "[Parallel(n_jobs=-1)]: Done   5 tasks      | elapsed:    0.1s\n",
      "[Parallel(n_jobs=-1)]: Done  20 tasks      | elapsed:    0.7s\n",
      "[Parallel(n_jobs=-1)]: Done  62 tasks      | elapsed:    1.9s\n",
      "[Parallel(n_jobs=-1)]: Done 104 tasks      | elapsed:    2.9s\n",
      "[Parallel(n_jobs=-1)]: Done 158 tasks      | elapsed:    4.1s\n",
      "[Parallel(n_jobs=-1)]: Done 212 tasks      | elapsed:    5.3s\n",
      "[Parallel(n_jobs=-1)]: Done 278 tasks      | elapsed:    7.0s\n",
      "[Parallel(n_jobs=-1)]: Done 315 out of 315 | elapsed:    7.9s finished\n",
      "/home/pranay/anaconda3/lib/python3.7/site-packages/matplotlib/cbook/__init__.py:424: MatplotlibDeprecationWarning: \n",
      "Passing one of 'on', 'true', 'off', 'false' as a boolean is deprecated; use an actual boolean (True/False) instead.\n",
      "  warn_deprecated(\"2.2\", \"Passing one of 'on', 'true', 'off', 'false' as a \"\n"
     ]
    },
    {
     "name": "stdout",
     "output_type": "stream",
     "text": [
      "=======Training========\n",
      "0.945188332274678\n",
      "{'alpha': 0.1}\n",
      "MultinomialNB(alpha=0.1, class_prior=None, fit_prior=True)\n"
     ]
    },
    {
     "data": {
      "image/png": "[encoded data removed]",
      "text/plain": [
       "<Figure size 432x288 with 1 Axes>"
      ]
     },
     "metadata": {
      "needs_background": "light"
     },
     "output_type": "display_data"
    }
   ],
   "source": [
    "tfidf_train = finding_best_alpha(X_train_tfidf,y_train)\n",
    "\n",
    "# view the complete results (list of named tuples)\n",
    "print(\"=======Training========\")\n",
    "print (tfidf_train.best_score_)\n",
    "print (tfidf_train.best_params_)\n",
    "print (tfidf_train.best_estimator_)\n",
    "\n",
    "plotAccuracyGraph(tfidf_train)"
   ]
  },
  {
   "cell_type": "code",
   "execution_count": 37,
   "metadata": {},
   "outputs": [
    {
     "name": "stdout",
     "output_type": "stream",
     "text": [
      "\n",
      "\u001b[91mOptimal best alpha is : \u001b[0m\u001b[1m0.1\u001b[0m\n",
      "\n",
      "\u001b[1mConfusion Matrix for Train data\u001b[0m\n"
     ]
    },
    {
     "data": {
      "image/png": "[encoded data removed]",
      "text/plain": [
       "<Figure size 432x288 with 2 Axes>"
      ]
     },
     "metadata": {
      "needs_background": "light"
     },
     "output_type": "display_data"
    },
    {
     "name": "stdout",
     "output_type": "stream",
     "text": [
      "\n",
      "\u001b[1mConfusion Matrix for Test data\u001b[0m\n"
     ]
    },
    {
     "data": {
      "image/png": "[encoded data removed]",
      "text/plain": [
       "<Figure size 432x288 with 2 Axes>"
      ]
     },
     "metadata": {
      "needs_background": "light"
     },
     "output_type": "display_data"
    },
    {
     "data": {
      "image/png": "[encoded data removed]",
      "text/plain": [
       "<Figure size 432x288 with 1 Axes>"
      ]
     },
     "metadata": {
      "needs_background": "light"
     },
     "output_type": "display_data"
    },
    {
     "name": "stdout",
     "output_type": "stream",
     "text": [
      "\n",
      "\u001b[91mAUC (Train): \u001b[0m\u001b[1m0.9846151250529447\u001b[0m\n",
      "\n",
      "\u001b[91mAUC (Test): \u001b[0m\u001b[1m0.9559963012212672\u001b[0m\n",
      "\n",
      "\u001b[91mF1 SCORE (Train) : \u001b[0m\u001b[1m0.9661914460285133\u001b[0m\n",
      "\n",
      "\u001b[91mF1 SCORE (Test) : \u001b[0m\u001b[1m0.9496387220336033\u001b[0m\n",
      "\n",
      "\u001b[91mRECALL (Train): \u001b[0m\u001b[1m0.9904832193909261\u001b[0m\n",
      "\n",
      "\u001b[91mRECALL (Test): \u001b[0m\u001b[1m0.9870159247195078\u001b[0m\n",
      "\n",
      "\u001b[91mPRECISION  (Train) : \u001b[0m\u001b[1m0.9430626698966289\u001b[0m\n",
      "\n",
      "\u001b[91mPRECISION  (Test) : \u001b[0m\u001b[1m0.9149890957892971\u001b[0m\n"
     ]
    }
   ],
   "source": [
    "optimal_alpha = tfidf_train.best_params_.get('alpha')\n",
    "\n",
    "print('\\n'+color.RED+'Optimal best alpha is : '+color.END+color.BOLD+str(optimal_alpha)+color.END)\n",
    "\n",
    "nb_optimal= MultinomialNB(alpha=optimal_alpha, class_prior=None, fit_prior=True)\n",
    "\n",
    "# fitting the model\n",
    "nb_optimal.fit(X_train_tfidf,y_train)\n",
    "\n",
    "# predict the response\n",
    "test_pred = nb_optimal.predict(x_test_tfidf)\n",
    "train_pred = nb_optimal.predict(X_train_tfidf)\n",
    "\n",
    "# plot confusion matrix\n",
    "\n",
    "print('\\n'+color.BOLD +'Confusion Matrix for Train data'+color.END)\n",
    "plotConfusionMatrix(y_train,train_pred)\n",
    "\n",
    "print('\\n'+color.BOLD +'Confusion Matrix for Test data'+color.END)\n",
    "plotConfusionMatrix(y_test,test_pred)\n",
    "\n",
    "# plot AUC\n",
    "train_auc,test_auc = plotAUC_ROC(nb_optimal,X_train_tfidf, y_train,x_test_tfidf, y_test )\n",
    "print('\\n'+color.RED+'AUC (Train): '+color.END+color.BOLD+str(train_auc)+color.END)\n",
    "print('\\n'+color.RED+'AUC (Test): '+color.END+color.BOLD+str(test_auc)+color.END)\n",
    "\n",
    "# f1 score\n",
    "score = f1_score(y_test,test_pred)\n",
    "print('\\n'+color.RED+'F1 SCORE (Train) : '+color.END+color.BOLD+str(f1_score(y_train,train_pred))+color.END)\n",
    "print('\\n'+color.RED+'F1 SCORE (Test) : '+color.END+color.BOLD+str(score)+color.END)\n",
    "\n",
    "# recall\n",
    "recall = metrics.recall_score(y_test, test_pred)\n",
    "print('\\n'+color.RED+'RECALL (Train): '+color.END+color.BOLD+str(metrics.recall_score(y_train, train_pred))+color.END)\n",
    "print('\\n'+color.RED+'RECALL (Test): '+color.END+color.BOLD+str(recall)+color.END)\n",
    "\n",
    "# precision\n",
    "precision = metrics.precision_score(y_test, test_pred)\n",
    "print('\\n'+color.RED+'PRECISION  (Train) : '+color.END+color.BOLD+str(metrics.precision_score(y_train, train_pred))+color.END)\n",
    "print('\\n'+color.RED+'PRECISION  (Test) : '+color.END+color.BOLD+str(precision)+color.END)"
   ]
  },
  {
   "cell_type": "markdown",
   "metadata": {
    "colab_type": "text",
    "id": "Dtpj7iMSJkln"
   },
   "source": [
    "### [5.2.1] Top 10 important features of positive class"
   ]
  },
  {
   "cell_type": "markdown",
   "metadata": {
    "colab_type": "text",
    "id": "UovIVRyEJklq"
   },
   "source": [
    "### [5.2.2] Top 10 important features of negative class "
   ]
  },
  {
   "cell_type": "code",
   "execution_count": 38,
   "metadata": {},
   "outputs": [
    {
     "name": "stdout",
     "output_type": "stream",
     "text": [
      "\u001b[1mImportant words in negative reviews\u001b[0m\n",
      "\n",
      "\u001b[1m\t Class Label \u001b[0m 0\n",
      "519.547 \tnot\n",
      "228.356 \tlike\n",
      "212.892 \tproduct\n",
      "203.388 \twould\n",
      "202.627 \ttaste\n",
      "162.527 \tcoffee\n",
      "150.752 \tone\n",
      "132.950 \tflavor\n",
      "130.494 \tno\n",
      "117.575 \tgood\n",
      "-----------------------------------------\n",
      "\n",
      "\u001b[1mImportant words in positive reviews\u001b[0m\n",
      "\n",
      "\u001b[1m\t Class Label \u001b[0m 1\n",
      "1456.513 \tnot\n",
      "1030.260 \tgreat\n",
      "972.931 \tgood\n",
      "923.692 \tlike\n",
      "882.647 \tcoffee\n",
      "817.438 \tlove\n",
      "808.220 \ttea\n",
      "729.114 \tone\n",
      "719.204 \ttaste\n",
      "712.064 \tproduct\n"
     ]
    }
   ],
   "source": [
    "important_features(tf_idf_vect.get_feature_names(), nb_optimal, 10)"
   ]
  },
  {
   "cell_type": "markdown",
   "metadata": {},
   "source": [
    "### Feature Engineering"
   ]
  },
  {
   "cell_type": "markdown",
   "metadata": {},
   "source": [
    "Till now we only consider Text review as feature, we are adding some extra feature like __review summary__ and __number of words__ in review and test our model improves efficiency or not.\n",
    "\n",
    "We have considered on 50000 points due to memory issue."
   ]
  },
  {
   "cell_type": "code",
   "execution_count": 41,
   "metadata": {
    "scrolled": true
   },
   "outputs": [
    {
     "name": "stdout",
     "output_type": "stream",
     "text": [
      "(35000, 13) (15000, 13) (35000,) (15000,)\n",
      "\n",
      "\u001b[1mConfusion Matrix for Train data\u001b[0m\n"
     ]
    },
    {
     "data": {
      "image/png": "[encoded data removed]",
      "text/plain": [
       "<Figure size 432x288 with 2 Axes>"
      ]
     },
     "metadata": {
      "needs_background": "light"
     },
     "output_type": "display_data"
    },
    {
     "name": "stdout",
     "output_type": "stream",
     "text": [
      "\n",
      "\u001b[1mConfusion Matrix for Test data\u001b[0m\n"
     ]
    },
    {
     "data": {
      "image/png": "[encoded data removed]",
      "text/plain": [
       "<Figure size 432x288 with 2 Axes>"
      ]
     },
     "metadata": {
      "needs_background": "light"
     },
     "output_type": "display_data"
    },
    {
     "data": {
      "image/png": "[encoded data removed]",
      "text/plain": [
       "<Figure size 432x288 with 1 Axes>"
      ]
     },
     "metadata": {
      "needs_background": "light"
     },
     "output_type": "display_data"
    },
    {
     "name": "stdout",
     "output_type": "stream",
     "text": [
      "\n",
      "\u001b[91mAUC (Train): \u001b[0m\u001b[1m0.9824382772456348\u001b[0m\n",
      "\n",
      "\u001b[91mAUC (Test): \u001b[0m\u001b[1m0.9679149166040206\u001b[0m\n",
      "\n",
      "\u001b[91mF1 SCORE (Train) : \u001b[0m\u001b[1m0.9711344670786349\u001b[0m\n",
      "\n",
      "\u001b[91mF1 SCORE (Test) : \u001b[0m\u001b[1m0.9600679694137637\u001b[0m\n",
      "\n",
      "\u001b[91mRECALL (Train): \u001b[0m\u001b[1m0.9864645370871684\u001b[0m\n",
      "\n",
      "\u001b[91mRECALL (Test): \u001b[0m\u001b[1m0.9847884645856441\u001b[0m\n",
      "\n",
      "\u001b[91mPRECISION  (Train) : \u001b[0m\u001b[1m0.9562735771690996\u001b[0m\n",
      "\n",
      "\u001b[91mPRECISION  (Test) : \u001b[0m\u001b[1m0.9365581675708258\u001b[0m\n"
     ]
    }
   ],
   "source": [
    "# https://sondosatwi.wordpress.com/2017/08/01/using-text-data-and-dataframemapper-in-python/\n",
    "\n",
    "X = final[:50000]\n",
    "y = final['Score'][:50000]\n",
    "\n",
    "# split the data set into train and test\n",
    "X_train, x_test, y_train, y_test = model_selection.train_test_split(X, y, test_size=0.3,random_state=0)\n",
    "\n",
    "print(X_train.shape, x_test.shape, y_train.shape, y_test.shape)\n",
    "\n",
    "mapper = DataFrameMapper([\n",
    "     ('preprocessed_reviews', TfidfVectorizer(ngram_range=(1,2), min_df=10)),\n",
    "     ('preprocessed_summary', TfidfVectorizer(ngram_range=(1,2), min_df=10)),\n",
    "     ('numbers_of_words', None),\n",
    " ])\n",
    "\n",
    "train_features = mapper.fit_transform(X_train)\n",
    "test_features = mapper.transform(x_test)\n",
    "\n",
    "optimal_alpha = bow_train.best_params_.get('alpha')\n",
    "\n",
    "optimal_alpha\n",
    "\n",
    "nb_optimal= MultinomialNB(alpha=optimal_alpha, class_prior=None, fit_prior=True)\n",
    "\n",
    "# fitting the model\n",
    "nb_optimal.fit(train_features,y_train)\n",
    "\n",
    "# predict the response\n",
    "test_pred = nb_optimal.predict(test_features)\n",
    "train_pred = nb_optimal.predict(train_features)\n",
    "\n",
    "# plot confusion matrix\n",
    "\n",
    "print('\\n'+color.BOLD +'Confusion Matrix for Train data'+color.END)\n",
    "plotConfusionMatrix(y_train,train_pred)\n",
    "\n",
    "print('\\n'+color.BOLD +'Confusion Matrix for Test data'+color.END)\n",
    "plotConfusionMatrix(y_test,test_pred)\n",
    "\n",
    "# plot AUC\n",
    "train_auc,test_auc = plotAUC_ROC(nb_optimal,train_features, y_train,test_features, y_test )\n",
    "print('\\n'+color.RED+'AUC (Train): '+color.END+color.BOLD+str(train_auc)+color.END)\n",
    "print('\\n'+color.RED+'AUC (Test): '+color.END+color.BOLD+str(test_auc)+color.END)\n",
    "\n",
    "# f1 score\n",
    "score = f1_score(y_test,test_pred)\n",
    "print('\\n'+color.RED+'F1 SCORE (Train) : '+color.END+color.BOLD+str(f1_score(y_train,train_pred))+color.END)\n",
    "print('\\n'+color.RED+'F1 SCORE (Test) : '+color.END+color.BOLD+str(score)+color.END)\n",
    "\n",
    "# recall\n",
    "recall = metrics.recall_score(y_test, test_pred)\n",
    "print('\\n'+color.RED+'RECALL (Train): '+color.END+color.BOLD+str(metrics.recall_score(y_train, train_pred))+color.END)\n",
    "print('\\n'+color.RED+'RECALL (Test): '+color.END+color.BOLD+str(recall)+color.END)\n",
    "\n",
    "# precision\n",
    "precision = metrics.precision_score(y_test, test_pred)\n",
    "print('\\n'+color.RED+'PRECISION  (Train) : '+color.END+color.BOLD+str(metrics.precision_score(y_train, train_pred))+color.END)\n",
    "print('\\n'+color.RED+'PRECISION  (Test) : '+color.END+color.BOLD+str(precision)+color.END)"
   ]
  },
  {
   "cell_type": "code",
   "execution_count": 42,
   "metadata": {},
   "outputs": [
    {
     "name": "stdout",
     "output_type": "stream",
     "text": [
      "\u001b[1mImportant words in negative reviews\u001b[0m\n",
      "\n",
      "\u001b[1m\t Class Label \u001b[0m 0\n",
      "466.440 \tnot\n",
      "306.290 \tnot\n",
      "134.836 \tlike\n",
      "126.875 \tproduct\n",
      "121.272 \twould\n",
      "115.669 \ttaste\n",
      "109.655 \ttaste\n",
      "94.308 \tdisappointed\n",
      "92.847 \tone\n",
      "86.631 \tlike\n",
      "-----------------------------------------\n",
      "\n",
      "\u001b[1mImportant words in positive reviews\u001b[0m\n",
      "\n",
      "\u001b[1m\t Class Label \u001b[0m 1\n",
      "1496.994 \tgreat\n",
      "1066.364 \tgood\n",
      "907.671 \tnot\n",
      "845.669 \tlove\n",
      "845.563 \tbest\n",
      "803.768 \tdelicious\n",
      "661.154 \ttea\n",
      "644.066 \tgreat\n",
      "621.736 \ttea\n",
      "614.086 \tgood\n"
     ]
    }
   ],
   "source": [
    "merged_features_vectorizer = mapper.features[0][1].get_feature_names() + mapper.features[1][1].get_feature_names()\n",
    "important_features(merged_features_vectorizer, nb_optimal, 10)"
   ]
  },
  {
   "cell_type": "markdown",
   "metadata": {},
   "source": [
    "As we can see that by consider 'review text', 'summary text' and 'number of words' in review text all together, __AUC value is changed from 0.9560 to 0.96933__"
   ]
  },
  {
   "cell_type": "markdown",
   "metadata": {
    "colab_type": "text",
    "id": "vst5Y7mmJklu"
   },
   "source": [
    "# [6] Conclusions"
   ]
  },
  {
   "cell_type": "code",
   "execution_count": 63,
   "metadata": {
    "colab": {},
    "colab_type": "code",
    "id": "De9HYtIGJklv"
   },
   "outputs": [
    {
     "name": "stdout",
     "output_type": "stream",
     "text": [
      "\u001b[1m\t\t\t\t Naive Bayes  \u001b[0m\n",
      "\n",
      "\n",
      "\u001b[1mFor BOW and TFIDF, We have considered 100k points\u001b[0m\n",
      "\u001b[1mFor BOW- Additional Feature and TFIDF- Additional Feature, We have considered 50k points\u001b[0m\n",
      "\n",
      "\n",
      "+------------------+---------+------------------------+----------+----------------------------+\n",
      "|      Metric      |   BOW   | BOW-Additional Feature |  TFIDF   | TFIDF- Additional Features |\n",
      "+------------------+---------+------------------------+----------+----------------------------+\n",
      "|   Alpha Value    |   0.5   |          0.5           |   0.1    |            0.1             |\n",
      "|    AUC Train     | 0.97446 |        0.98161         | 0.98461  |          0.98243           |\n",
      "|    AUC Test      | 0.94502 |        0.95665         |  0.956   |          0.96791           |\n",
      "| F1 SCORE Train   | 0.96266 |        0.96842         | 0.96619  |          0.97113           |\n",
      "|  F1 SCORE Test   | 0.94953 |        0.95462         | 0.949638 |          0.96006           |\n",
      "|  RECALL Train    | 0.94723 |        0.95276         | 0.99048  |           0.9864           |\n",
      "|   RECALL Test    | 0.97729 |        0.942481        |  0.987   |          0.98478           |\n",
      "| PRECISION Train  | 0.97861 |        0.98461         | 0.94306  |          0.95627           |\n",
      "| PRECISION Test   |  0.9621 |        0.96707         | 0.91498  |          0.93655           |\n",
      "+------------------+---------+------------------------+----------+----------------------------+\n"
     ]
    }
   ],
   "source": [
    "import pandas as pd\n",
    "from prettytable import PrettyTable\n",
    "\n",
    "print(color.BOLD+'\\t\\t\\t\\t Naive Bayes  '+color.END)\n",
    "print('\\n')\n",
    "\n",
    "print(color.BOLD+'For BOW and TFIDF, We have considered 100k points'+color.END)\n",
    "print(color.BOLD+'For BOW- Additional Feature and TFIDF- Additional Feature, We have considered 50k points'+color.END)\n",
    "\n",
    "\n",
    "x = PrettyTable()\n",
    "x.field_names =  ['Metric','BOW','BOW-Additional Feature', 'TFIDF', 'TFIDF- Additional Features']\n",
    "\n",
    "x.add_row([\"Alpha Value \", 0.5,0.5,0.1,0.1])\n",
    "\n",
    "x.add_row([\"AUC Train \", 0.97446,0.98161,0.98461,0.98243])\n",
    "x.add_row([\"AUC Test \", 0.94502,0.95665,0.9560,0.96791])\n",
    "\n",
    "x.add_row([\"F1 SCORE Train \", 0.96266,0.96842,0.96619,0.97113])\n",
    "x.add_row([\"F1 SCORE Test \", 0.94953,0.95462,0.949638,0.96006])\n",
    "\n",
    "x.add_row([\"RECALL Train \",0.94723,0.95276,0.99048,0.9864])\n",
    "x.add_row([\"RECALL Test \", 0.97729,0.942481,0.9870,0.98478])\n",
    "\n",
    "x.add_row([\"PRECISION Train \", 0.97861,0.98461,0.94306,0.95627])\n",
    "x.add_row([\"PRECISION Test \",0.96210,0.96707,0.91498,0.93655])\n",
    "\n",
    "\n",
    "print('\\n')\n",
    "print(x)\n"
   ]
  }
 ],
 "metadata": {
  "colab": {
   "name": "04 Amazon Fine Food Reviews Analysis_NaiveBayes.ipynb",
   "provenance": [],
   "version": "0.3.2"
  },
  "kernelspec": {
   "display_name": "Python 3",
   "language": "python",
   "name": "python3"
  },
  "language_info": {
   "codemirror_mode": {
    "name": "ipython",
    "version": 3
   },
   "file_extension": ".py",
   "mimetype": "text/x-python",
   "name": "python",
   "nbconvert_exporter": "python",
   "pygments_lexer": "ipython3",
   "version": "3.7.1"
  }
 },
 "nbformat": 4,
 "nbformat_minor": 1
}
