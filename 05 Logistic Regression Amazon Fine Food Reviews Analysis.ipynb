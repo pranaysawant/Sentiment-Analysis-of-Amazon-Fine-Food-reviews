{
 "cells": [
  {
   "cell_type": "markdown",
   "metadata": {
    "colab_type": "text",
    "id": "AM7jsfwALPlp"
   },
   "source": [
    "# Amazon Fine Food Reviews Analysis\n",
    "\n",
    "\n",
    "Data Source: https://www.kaggle.com/snap/amazon-fine-food-reviews <br>\n",
    "\n",
    "EDA: https://nycdatascience.com/blog/student-works/amazon-fine-foods-visualization/\n",
    "\n",
    "\n",
    "The Amazon Fine Food Reviews dataset consists of reviews of fine foods from Amazon.<br>\n",
    "\n",
    "Number of reviews: 568,454<br>\n",
    "Number of users: 256,059<br>\n",
    "Number of products: 74,258<br>\n",
    "Timespan: Oct 1999 - Oct 2012<br>\n",
    "Number of Attributes/Columns in data: 10 \n",
    "\n",
    "Attribute Information:\n",
    "\n",
    "1. Id\n",
    "2. ProductId - unique identifier for the product\n",
    "3. UserId - unqiue identifier for the user\n",
    "4. ProfileName\n",
    "5. HelpfulnessNumerator - number of users who found the review helpful\n",
    "6. HelpfulnessDenominator - number of users who indicated whether they found the review helpful or not\n",
    "7. Score - rating between 1 and 5\n",
    "8. Time - timestamp for the review\n",
    "9. Summary - brief summary of the review\n",
    "10. Text - text of the review\n",
    "\n",
    "\n",
    "#### Objective:\n",
    "Given a review, determine whether the review is positive (rating of 4 or 5) or negative (rating of 1 or 2).\n",
    "\n",
    "<br>\n",
    "[Q] How to determine if a review is positive or negative?<br>\n",
    "<br> \n",
    "[Ans] We could use Score/Rating. A rating of 4 or 5 can be cosnidered as a positive review. A rating of 1 or 2 can be considered as negative one. A review of rating 3 is considered nuetral and such reviews are ignored from our analysis. This is an approximate and proxy way of determining the polarity (positivity/negativity) of a review.\n",
    "\n",
    "\n"
   ]
  },
  {
   "cell_type": "markdown",
   "metadata": {
    "colab_type": "text",
    "id": "CaQ7XJ4OLPls"
   },
   "source": [
    "# [1]. Reading Data"
   ]
  },
  {
   "cell_type": "markdown",
   "metadata": {
    "colab_type": "text",
    "id": "5VnEBjKRLPlu"
   },
   "source": [
    "## [1.1] Loading the data\n",
    "\n",
    "The dataset is available in two forms\n",
    "1. .csv file\n",
    "2. SQLite Database\n",
    "\n",
    "In order to load the data, We have used the SQLITE dataset as it is easier to query the data and visualise the data efficiently.\n",
    "<br> \n",
    "\n",
    "Here as we only want to get the global sentiment of the recommendations (positive or negative), we will purposefully ignore all Scores equal to 3. If the score is above 3, then the recommendation wil be set to \"positive\". Otherwise, it will be set to \"negative\"."
   ]
  },
  {
   "cell_type": "code",
   "execution_count": 1,
   "metadata": {
    "colab": {},
    "colab_type": "code",
    "id": "x6YclOzXLPlv"
   },
   "outputs": [],
   "source": [
    "%matplotlib inline\n",
    "import warnings\n",
    "warnings.filterwarnings(\"ignore\")\n",
    "\n",
    "\n",
    "import sqlite3\n",
    "import pandas as pd\n",
    "import numpy as np\n",
    "import nltk\n",
    "import string\n",
    "import matplotlib.pyplot as plt\n",
    "import seaborn as sns\n",
    "from sklearn.feature_extraction.text import TfidfTransformer\n",
    "from sklearn.feature_extraction.text import TfidfVectorizer\n",
    "\n",
    "from sklearn.feature_extraction.text import CountVectorizer\n",
    "from sklearn.metrics import confusion_matrix\n",
    "from sklearn import metrics\n",
    "from sklearn.metrics import roc_curve, auc\n",
    "from nltk.stem.porter import PorterStemmer\n",
    "\n",
    "import re\n",
    "# Tutorial about Python regular expressions: https://pymotw.com/2/re/\n",
    "import string\n",
    "from nltk.corpus import stopwords\n",
    "from nltk.stem import PorterStemmer\n",
    "from nltk.stem.wordnet import WordNetLemmatizer\n",
    "\n",
    "from gensim.models import Word2Vec\n",
    "from gensim.models import KeyedVectors\n",
    "import pickle\n",
    "\n",
    "from tqdm import tqdm\n",
    "import os\n",
    "from joblib import dump, load\n",
    "from sklearn_pandas import DataFrameMapper\n",
    "from sklearn.metrics import f1_score,recall_score,precision_score"
   ]
  },
  {
   "cell_type": "code",
   "execution_count": 2,
   "metadata": {
    "colab": {},
    "colab_type": "code",
    "id": "NZ4OSpSiLPl0",
    "outputId": "241c4c64-6186-4351-e38f-fcd06c6896dd"
   },
   "outputs": [
    {
     "name": "stdout",
     "output_type": "stream",
     "text": [
      "Number of data points in our data (100000, 10)\n"
     ]
    },
    {
     "data": {
      "text/html": [
       "<div>\n",
       "<style scoped>\n",
       "    .dataframe tbody tr th:only-of-type {\n",
       "        vertical-align: middle;\n",
       "    }\n",
       "\n",
       "    .dataframe tbody tr th {\n",
       "        vertical-align: top;\n",
       "    }\n",
       "\n",
       "    .dataframe thead th {\n",
       "        text-align: right;\n",
       "    }\n",
       "</style>\n",
       "<table border=\"1\" class=\"dataframe\">\n",
       "  <thead>\n",
       "    <tr style=\"text-align: right;\">\n",
       "      <th></th>\n",
       "      <th>Id</th>\n",
       "      <th>ProductId</th>\n",
       "      <th>UserId</th>\n",
       "      <th>ProfileName</th>\n",
       "      <th>HelpfulnessNumerator</th>\n",
       "      <th>HelpfulnessDenominator</th>\n",
       "      <th>Score</th>\n",
       "      <th>Time</th>\n",
       "      <th>Summary</th>\n",
       "      <th>Text</th>\n",
       "    </tr>\n",
       "  </thead>\n",
       "  <tbody>\n",
       "    <tr>\n",
       "      <th>0</th>\n",
       "      <td>1</td>\n",
       "      <td>B001E4KFG0</td>\n",
       "      <td>A3SGXH7AUHU8GW</td>\n",
       "      <td>delmartian</td>\n",
       "      <td>1</td>\n",
       "      <td>1</td>\n",
       "      <td>1</td>\n",
       "      <td>1303862400</td>\n",
       "      <td>Good Quality Dog Food</td>\n",
       "      <td>I have bought several of the Vitality canned d...</td>\n",
       "    </tr>\n",
       "    <tr>\n",
       "      <th>1</th>\n",
       "      <td>2</td>\n",
       "      <td>B00813GRG4</td>\n",
       "      <td>A1D87F6ZCVE5NK</td>\n",
       "      <td>dll pa</td>\n",
       "      <td>0</td>\n",
       "      <td>0</td>\n",
       "      <td>0</td>\n",
       "      <td>1346976000</td>\n",
       "      <td>Not as Advertised</td>\n",
       "      <td>Product arrived labeled as Jumbo Salted Peanut...</td>\n",
       "    </tr>\n",
       "    <tr>\n",
       "      <th>2</th>\n",
       "      <td>3</td>\n",
       "      <td>B000LQOCH0</td>\n",
       "      <td>ABXLMWJIXXAIN</td>\n",
       "      <td>Natalia Corres \"Natalia Corres\"</td>\n",
       "      <td>1</td>\n",
       "      <td>1</td>\n",
       "      <td>1</td>\n",
       "      <td>1219017600</td>\n",
       "      <td>\"Delight\" says it all</td>\n",
       "      <td>This is a confection that has been around a fe...</td>\n",
       "    </tr>\n",
       "  </tbody>\n",
       "</table>\n",
       "</div>"
      ],
      "text/plain": [
       "   Id   ProductId          UserId                      ProfileName  \\\n",
       "0   1  B001E4KFG0  A3SGXH7AUHU8GW                       delmartian   \n",
       "1   2  B00813GRG4  A1D87F6ZCVE5NK                           dll pa   \n",
       "2   3  B000LQOCH0   ABXLMWJIXXAIN  Natalia Corres \"Natalia Corres\"   \n",
       "\n",
       "   HelpfulnessNumerator  HelpfulnessDenominator  Score        Time  \\\n",
       "0                     1                       1      1  1303862400   \n",
       "1                     0                       0      0  1346976000   \n",
       "2                     1                       1      1  1219017600   \n",
       "\n",
       "                 Summary                                               Text  \n",
       "0  Good Quality Dog Food  I have bought several of the Vitality canned d...  \n",
       "1      Not as Advertised  Product arrived labeled as Jumbo Salted Peanut...  \n",
       "2  \"Delight\" says it all  This is a confection that has been around a fe...  "
      ]
     },
     "execution_count": 2,
     "metadata": {},
     "output_type": "execute_result"
    }
   ],
   "source": [
    "# using SQLite Table to read data.\n",
    "con = sqlite3.connect(r'/home/pranay/ML datasource/amazon-fine-food-reviews/database.sqlite') \n",
    "\n",
    "# filtering only positive and negative reviews i.e. \n",
    "# not taking into consideration those reviews with Score=3\n",
    "# SELECT * FROM Reviews WHERE Score != 3 LIMIT 500000, will give top 500000 data points\n",
    "# you can change the number to any other number based on your computing power\n",
    "\n",
    "# filtered_data = pd.read_sql_query(\"\"\" SELECT * FROM Reviews WHERE Score != 3 LIMIT 500000\"\"\", con) \n",
    "# for tsne assignment you can take 5k data points\n",
    "\n",
    "filtered_data = pd.read_sql_query(\"\"\" SELECT * FROM Reviews WHERE Score != 3 LIMIT 100000\"\"\", con) \n",
    "\n",
    "# Give reviews with Score>3 a positive rating(1), and reviews with a score<3 a negative rating(0).\n",
    "def partition(x):\n",
    "    if x < 3:\n",
    "        return 0\n",
    "    return 1\n",
    "\n",
    "#changing reviews with score less than 3 to be positive and vice-versa\n",
    "actualScore = filtered_data['Score']\n",
    "positiveNegative = actualScore.map(partition) \n",
    "filtered_data['Score'] = positiveNegative\n",
    "print(\"Number of data points in our data\", filtered_data.shape)\n",
    "filtered_data.head(3)"
   ]
  },
  {
   "cell_type": "code",
   "execution_count": 3,
   "metadata": {
    "colab": {},
    "colab_type": "code",
    "id": "r44Y4VDjLPl7"
   },
   "outputs": [],
   "source": [
    "display = pd.read_sql_query(\"\"\"\n",
    "SELECT UserId, ProductId, ProfileName, Time, Score, Text, COUNT(*)\n",
    "FROM Reviews\n",
    "GROUP BY UserId\n",
    "HAVING COUNT(*)>1\n",
    "\"\"\", con)"
   ]
  },
  {
   "cell_type": "code",
   "execution_count": 4,
   "metadata": {
    "colab": {},
    "colab_type": "code",
    "id": "tTwINQv1LPl_",
    "outputId": "0385b9ca-0a35-4c2b-b656-8e8494414e6f",
    "scrolled": true
   },
   "outputs": [
    {
     "name": "stdout",
     "output_type": "stream",
     "text": [
      "(80668, 7)\n"
     ]
    },
    {
     "data": {
      "text/html": [
       "<div>\n",
       "<style scoped>\n",
       "    .dataframe tbody tr th:only-of-type {\n",
       "        vertical-align: middle;\n",
       "    }\n",
       "\n",
       "    .dataframe tbody tr th {\n",
       "        vertical-align: top;\n",
       "    }\n",
       "\n",
       "    .dataframe thead th {\n",
       "        text-align: right;\n",
       "    }\n",
       "</style>\n",
       "<table border=\"1\" class=\"dataframe\">\n",
       "  <thead>\n",
       "    <tr style=\"text-align: right;\">\n",
       "      <th></th>\n",
       "      <th>UserId</th>\n",
       "      <th>ProductId</th>\n",
       "      <th>ProfileName</th>\n",
       "      <th>Time</th>\n",
       "      <th>Score</th>\n",
       "      <th>Text</th>\n",
       "      <th>COUNT(*)</th>\n",
       "    </tr>\n",
       "  </thead>\n",
       "  <tbody>\n",
       "    <tr>\n",
       "      <th>0</th>\n",
       "      <td>#oc-R115TNMSPFT9I7</td>\n",
       "      <td>B005ZBZLT4</td>\n",
       "      <td>Breyton</td>\n",
       "      <td>1331510400</td>\n",
       "      <td>2</td>\n",
       "      <td>Overall its just OK when considering the price...</td>\n",
       "      <td>2</td>\n",
       "    </tr>\n",
       "    <tr>\n",
       "      <th>1</th>\n",
       "      <td>#oc-R11D9D7SHXIJB9</td>\n",
       "      <td>B005HG9ESG</td>\n",
       "      <td>Louis E. Emory \"hoppy\"</td>\n",
       "      <td>1342396800</td>\n",
       "      <td>5</td>\n",
       "      <td>My wife has recurring extreme muscle spasms, u...</td>\n",
       "      <td>3</td>\n",
       "    </tr>\n",
       "    <tr>\n",
       "      <th>2</th>\n",
       "      <td>#oc-R11DNU2NBKQ23Z</td>\n",
       "      <td>B005ZBZLT4</td>\n",
       "      <td>Kim Cieszykowski</td>\n",
       "      <td>1348531200</td>\n",
       "      <td>1</td>\n",
       "      <td>This coffee is horrible and unfortunately not ...</td>\n",
       "      <td>2</td>\n",
       "    </tr>\n",
       "    <tr>\n",
       "      <th>3</th>\n",
       "      <td>#oc-R11O5J5ZVQE25C</td>\n",
       "      <td>B005HG9ESG</td>\n",
       "      <td>Penguin Chick</td>\n",
       "      <td>1346889600</td>\n",
       "      <td>5</td>\n",
       "      <td>This will be the bottle that you grab from the...</td>\n",
       "      <td>3</td>\n",
       "    </tr>\n",
       "    <tr>\n",
       "      <th>4</th>\n",
       "      <td>#oc-R12KPBODL2B5ZD</td>\n",
       "      <td>B007OSBEV0</td>\n",
       "      <td>Christopher P. Presta</td>\n",
       "      <td>1348617600</td>\n",
       "      <td>1</td>\n",
       "      <td>I didnt like this coffee. Instead of telling y...</td>\n",
       "      <td>2</td>\n",
       "    </tr>\n",
       "  </tbody>\n",
       "</table>\n",
       "</div>"
      ],
      "text/plain": [
       "               UserId   ProductId             ProfileName        Time  Score  \\\n",
       "0  #oc-R115TNMSPFT9I7  B005ZBZLT4                 Breyton  1331510400      2   \n",
       "1  #oc-R11D9D7SHXIJB9  B005HG9ESG  Louis E. Emory \"hoppy\"  1342396800      5   \n",
       "2  #oc-R11DNU2NBKQ23Z  B005ZBZLT4        Kim Cieszykowski  1348531200      1   \n",
       "3  #oc-R11O5J5ZVQE25C  B005HG9ESG           Penguin Chick  1346889600      5   \n",
       "4  #oc-R12KPBODL2B5ZD  B007OSBEV0   Christopher P. Presta  1348617600      1   \n",
       "\n",
       "                                                Text  COUNT(*)  \n",
       "0  Overall its just OK when considering the price...         2  \n",
       "1  My wife has recurring extreme muscle spasms, u...         3  \n",
       "2  This coffee is horrible and unfortunately not ...         2  \n",
       "3  This will be the bottle that you grab from the...         3  \n",
       "4  I didnt like this coffee. Instead of telling y...         2  "
      ]
     },
     "execution_count": 4,
     "metadata": {},
     "output_type": "execute_result"
    }
   ],
   "source": [
    "print(display.shape)\n",
    "display.head()"
   ]
  },
  {
   "cell_type": "code",
   "execution_count": 5,
   "metadata": {
    "colab": {},
    "colab_type": "code",
    "id": "EOslHQgnLPmF",
    "outputId": "cb28598d-470a-42bb-e742-4763f953c8cb"
   },
   "outputs": [
    {
     "data": {
      "text/html": [
       "<div>\n",
       "<style scoped>\n",
       "    .dataframe tbody tr th:only-of-type {\n",
       "        vertical-align: middle;\n",
       "    }\n",
       "\n",
       "    .dataframe tbody tr th {\n",
       "        vertical-align: top;\n",
       "    }\n",
       "\n",
       "    .dataframe thead th {\n",
       "        text-align: right;\n",
       "    }\n",
       "</style>\n",
       "<table border=\"1\" class=\"dataframe\">\n",
       "  <thead>\n",
       "    <tr style=\"text-align: right;\">\n",
       "      <th></th>\n",
       "      <th>UserId</th>\n",
       "      <th>ProductId</th>\n",
       "      <th>ProfileName</th>\n",
       "      <th>Time</th>\n",
       "      <th>Score</th>\n",
       "      <th>Text</th>\n",
       "      <th>COUNT(*)</th>\n",
       "    </tr>\n",
       "  </thead>\n",
       "  <tbody>\n",
       "    <tr>\n",
       "      <th>80638</th>\n",
       "      <td>AZY10LLTJ71NX</td>\n",
       "      <td>B001ATMQK2</td>\n",
       "      <td>undertheshrine \"undertheshrine\"</td>\n",
       "      <td>1296691200</td>\n",
       "      <td>5</td>\n",
       "      <td>I bought this 6 pack because for the price tha...</td>\n",
       "      <td>5</td>\n",
       "    </tr>\n",
       "  </tbody>\n",
       "</table>\n",
       "</div>"
      ],
      "text/plain": [
       "              UserId   ProductId                      ProfileName        Time  \\\n",
       "80638  AZY10LLTJ71NX  B001ATMQK2  undertheshrine \"undertheshrine\"  1296691200   \n",
       "\n",
       "       Score                                               Text  COUNT(*)  \n",
       "80638      5  I bought this 6 pack because for the price tha...         5  "
      ]
     },
     "execution_count": 5,
     "metadata": {},
     "output_type": "execute_result"
    }
   ],
   "source": [
    "display[display['UserId']=='AZY10LLTJ71NX']"
   ]
  },
  {
   "cell_type": "code",
   "execution_count": 6,
   "metadata": {
    "colab": {},
    "colab_type": "code",
    "id": "pSwF4sdoLPmM",
    "outputId": "2f3bd7f2-0eea-45f7-eab6-bf08c630d9a3"
   },
   "outputs": [
    {
     "data": {
      "text/plain": [
       "393063"
      ]
     },
     "execution_count": 6,
     "metadata": {},
     "output_type": "execute_result"
    }
   ],
   "source": [
    "display['COUNT(*)'].sum()"
   ]
  },
  {
   "cell_type": "markdown",
   "metadata": {
    "colab_type": "text",
    "id": "PuNkhjz0LPmQ"
   },
   "source": [
    "#  [2] Exploratory Data Analysis"
   ]
  },
  {
   "cell_type": "markdown",
   "metadata": {
    "colab_type": "text",
    "id": "oCJaTWrTLPmS"
   },
   "source": [
    "## [2.1] Data Cleaning: Deduplication\n",
    "\n",
    "It is observed (as shown in the table below) that the reviews data had many duplicate entries. Hence it was necessary to remove duplicates in order to get unbiased results for the analysis of the data.  Following is an example:"
   ]
  },
  {
   "cell_type": "code",
   "execution_count": 7,
   "metadata": {
    "colab": {},
    "colab_type": "code",
    "id": "3lvzRwWVLPmT",
    "outputId": "96ba6f90-6c40-4972-ecd2-d2d208e48877",
    "scrolled": false
   },
   "outputs": [
    {
     "data": {
      "text/html": [
       "<div>\n",
       "<style scoped>\n",
       "    .dataframe tbody tr th:only-of-type {\n",
       "        vertical-align: middle;\n",
       "    }\n",
       "\n",
       "    .dataframe tbody tr th {\n",
       "        vertical-align: top;\n",
       "    }\n",
       "\n",
       "    .dataframe thead th {\n",
       "        text-align: right;\n",
       "    }\n",
       "</style>\n",
       "<table border=\"1\" class=\"dataframe\">\n",
       "  <thead>\n",
       "    <tr style=\"text-align: right;\">\n",
       "      <th></th>\n",
       "      <th>Id</th>\n",
       "      <th>ProductId</th>\n",
       "      <th>UserId</th>\n",
       "      <th>ProfileName</th>\n",
       "      <th>HelpfulnessNumerator</th>\n",
       "      <th>HelpfulnessDenominator</th>\n",
       "      <th>Score</th>\n",
       "      <th>Time</th>\n",
       "      <th>Summary</th>\n",
       "      <th>Text</th>\n",
       "    </tr>\n",
       "  </thead>\n",
       "  <tbody>\n",
       "    <tr>\n",
       "      <th>0</th>\n",
       "      <td>78445</td>\n",
       "      <td>B000HDL1RQ</td>\n",
       "      <td>AR5J8UI46CURR</td>\n",
       "      <td>Geetha Krishnan</td>\n",
       "      <td>2</td>\n",
       "      <td>2</td>\n",
       "      <td>5</td>\n",
       "      <td>1199577600</td>\n",
       "      <td>LOACKER QUADRATINI VANILLA WAFERS</td>\n",
       "      <td>DELICIOUS WAFERS. I FIND THAT EUROPEAN WAFERS ...</td>\n",
       "    </tr>\n",
       "    <tr>\n",
       "      <th>1</th>\n",
       "      <td>138317</td>\n",
       "      <td>B000HDOPYC</td>\n",
       "      <td>AR5J8UI46CURR</td>\n",
       "      <td>Geetha Krishnan</td>\n",
       "      <td>2</td>\n",
       "      <td>2</td>\n",
       "      <td>5</td>\n",
       "      <td>1199577600</td>\n",
       "      <td>LOACKER QUADRATINI VANILLA WAFERS</td>\n",
       "      <td>DELICIOUS WAFERS. I FIND THAT EUROPEAN WAFERS ...</td>\n",
       "    </tr>\n",
       "    <tr>\n",
       "      <th>2</th>\n",
       "      <td>138277</td>\n",
       "      <td>B000HDOPYM</td>\n",
       "      <td>AR5J8UI46CURR</td>\n",
       "      <td>Geetha Krishnan</td>\n",
       "      <td>2</td>\n",
       "      <td>2</td>\n",
       "      <td>5</td>\n",
       "      <td>1199577600</td>\n",
       "      <td>LOACKER QUADRATINI VANILLA WAFERS</td>\n",
       "      <td>DELICIOUS WAFERS. I FIND THAT EUROPEAN WAFERS ...</td>\n",
       "    </tr>\n",
       "    <tr>\n",
       "      <th>3</th>\n",
       "      <td>73791</td>\n",
       "      <td>B000HDOPZG</td>\n",
       "      <td>AR5J8UI46CURR</td>\n",
       "      <td>Geetha Krishnan</td>\n",
       "      <td>2</td>\n",
       "      <td>2</td>\n",
       "      <td>5</td>\n",
       "      <td>1199577600</td>\n",
       "      <td>LOACKER QUADRATINI VANILLA WAFERS</td>\n",
       "      <td>DELICIOUS WAFERS. I FIND THAT EUROPEAN WAFERS ...</td>\n",
       "    </tr>\n",
       "    <tr>\n",
       "      <th>4</th>\n",
       "      <td>155049</td>\n",
       "      <td>B000PAQ75C</td>\n",
       "      <td>AR5J8UI46CURR</td>\n",
       "      <td>Geetha Krishnan</td>\n",
       "      <td>2</td>\n",
       "      <td>2</td>\n",
       "      <td>5</td>\n",
       "      <td>1199577600</td>\n",
       "      <td>LOACKER QUADRATINI VANILLA WAFERS</td>\n",
       "      <td>DELICIOUS WAFERS. I FIND THAT EUROPEAN WAFERS ...</td>\n",
       "    </tr>\n",
       "  </tbody>\n",
       "</table>\n",
       "</div>"
      ],
      "text/plain": [
       "       Id   ProductId         UserId      ProfileName  HelpfulnessNumerator  \\\n",
       "0   78445  B000HDL1RQ  AR5J8UI46CURR  Geetha Krishnan                     2   \n",
       "1  138317  B000HDOPYC  AR5J8UI46CURR  Geetha Krishnan                     2   \n",
       "2  138277  B000HDOPYM  AR5J8UI46CURR  Geetha Krishnan                     2   \n",
       "3   73791  B000HDOPZG  AR5J8UI46CURR  Geetha Krishnan                     2   \n",
       "4  155049  B000PAQ75C  AR5J8UI46CURR  Geetha Krishnan                     2   \n",
       "\n",
       "   HelpfulnessDenominator  Score        Time  \\\n",
       "0                       2      5  1199577600   \n",
       "1                       2      5  1199577600   \n",
       "2                       2      5  1199577600   \n",
       "3                       2      5  1199577600   \n",
       "4                       2      5  1199577600   \n",
       "\n",
       "                             Summary  \\\n",
       "0  LOACKER QUADRATINI VANILLA WAFERS   \n",
       "1  LOACKER QUADRATINI VANILLA WAFERS   \n",
       "2  LOACKER QUADRATINI VANILLA WAFERS   \n",
       "3  LOACKER QUADRATINI VANILLA WAFERS   \n",
       "4  LOACKER QUADRATINI VANILLA WAFERS   \n",
       "\n",
       "                                                Text  \n",
       "0  DELICIOUS WAFERS. I FIND THAT EUROPEAN WAFERS ...  \n",
       "1  DELICIOUS WAFERS. I FIND THAT EUROPEAN WAFERS ...  \n",
       "2  DELICIOUS WAFERS. I FIND THAT EUROPEAN WAFERS ...  \n",
       "3  DELICIOUS WAFERS. I FIND THAT EUROPEAN WAFERS ...  \n",
       "4  DELICIOUS WAFERS. I FIND THAT EUROPEAN WAFERS ...  "
      ]
     },
     "execution_count": 7,
     "metadata": {},
     "output_type": "execute_result"
    }
   ],
   "source": [
    "display= pd.read_sql_query(\"\"\"\n",
    "SELECT *\n",
    "FROM Reviews\n",
    "WHERE Score != 3 AND UserId=\"AR5J8UI46CURR\"\n",
    "ORDER BY ProductID\n",
    "\"\"\", con)\n",
    "display.head()"
   ]
  },
  {
   "cell_type": "markdown",
   "metadata": {
    "colab_type": "text",
    "id": "uT7p9_deLPmb"
   },
   "source": [
    "As it can be seen above that same user has multiple reviews with same values for HelpfulnessNumerator, HelpfulnessDenominator, Score, Time, Summary and Text and on doing analysis it was found that <br>\n",
    "<br> \n",
    "ProductId=B000HDOPZG was Loacker Quadratini Vanilla Wafer Cookies, 8.82-Ounce Packages (Pack of 8)<br>\n",
    "<br> \n",
    "ProductId=B000HDL1RQ was Loacker Quadratini Lemon Wafer Cookies, 8.82-Ounce Packages (Pack of 8) and so on<br>\n",
    "\n",
    "It was inferred after analysis that reviews with same parameters other than ProductId belonged to the same product just having different flavour or quantity. Hence in order to reduce redundancy it was decided to eliminate the rows having same parameters.<br>\n",
    "\n",
    "The method used for the same was that we first sort the data according to ProductId and then just keep the first similar product review and delelte the others. for eg. in the above just the review for ProductId=B000HDL1RQ remains. This method ensures that there is only one representative for each product and deduplication without sorting would lead to possibility of different representatives still existing for the same product."
   ]
  },
  {
   "cell_type": "code",
   "execution_count": 8,
   "metadata": {
    "colab": {},
    "colab_type": "code",
    "id": "mdsKFc50LPme"
   },
   "outputs": [],
   "source": [
    "#Sorting data according to ProductId in ascending order\n",
    "sorted_data=filtered_data.sort_values('ProductId', axis=0, ascending=True, inplace=False, kind='quicksort', na_position='last')"
   ]
  },
  {
   "cell_type": "code",
   "execution_count": 9,
   "metadata": {
    "colab": {},
    "colab_type": "code",
    "id": "2itLgX-NLPmk",
    "outputId": "ac765625-dfdc-4e4e-f886-bd3b7ca3635a"
   },
   "outputs": [
    {
     "data": {
      "text/plain": [
       "(87775, 10)"
      ]
     },
     "execution_count": 9,
     "metadata": {},
     "output_type": "execute_result"
    }
   ],
   "source": [
    "#Deduplication of entries\n",
    "\n",
    "final=sorted_data.drop_duplicates(subset={\"UserId\",\"ProfileName\",\"Time\",\"Text\"}, keep='first', inplace=False)\n",
    "final.shape"
   ]
  },
  {
   "cell_type": "code",
   "execution_count": 10,
   "metadata": {
    "colab": {},
    "colab_type": "code",
    "id": "IBU4iZk4LPmt",
    "outputId": "ceeba223-fe3f-407a-b4e5-0d46c08f69dd"
   },
   "outputs": [
    {
     "data": {
      "text/plain": [
       "87.775"
      ]
     },
     "execution_count": 10,
     "metadata": {},
     "output_type": "execute_result"
    }
   ],
   "source": [
    "#Checking to see how much % of data still remains\n",
    "(final['Id'].size*1.0)/(filtered_data['Id'].size*1.0)*100"
   ]
  },
  {
   "cell_type": "markdown",
   "metadata": {
    "colab_type": "text",
    "id": "gFBOfSe4LPmy"
   },
   "source": [
    "<b>Observation:-</b> It was also seen that in two rows given below the value of HelpfulnessNumerator is greater than HelpfulnessDenominator which is not practically possible hence these two rows too are removed from calcualtions"
   ]
  },
  {
   "cell_type": "code",
   "execution_count": 11,
   "metadata": {
    "colab": {},
    "colab_type": "code",
    "id": "50flE40lLPmz",
    "outputId": "b6c7e38e-25c1-4a48-be1f-70fdf31aba13"
   },
   "outputs": [
    {
     "data": {
      "text/html": [
       "<div>\n",
       "<style scoped>\n",
       "    .dataframe tbody tr th:only-of-type {\n",
       "        vertical-align: middle;\n",
       "    }\n",
       "\n",
       "    .dataframe tbody tr th {\n",
       "        vertical-align: top;\n",
       "    }\n",
       "\n",
       "    .dataframe thead th {\n",
       "        text-align: right;\n",
       "    }\n",
       "</style>\n",
       "<table border=\"1\" class=\"dataframe\">\n",
       "  <thead>\n",
       "    <tr style=\"text-align: right;\">\n",
       "      <th></th>\n",
       "      <th>Id</th>\n",
       "      <th>ProductId</th>\n",
       "      <th>UserId</th>\n",
       "      <th>ProfileName</th>\n",
       "      <th>HelpfulnessNumerator</th>\n",
       "      <th>HelpfulnessDenominator</th>\n",
       "      <th>Score</th>\n",
       "      <th>Time</th>\n",
       "      <th>Summary</th>\n",
       "      <th>Text</th>\n",
       "    </tr>\n",
       "  </thead>\n",
       "  <tbody>\n",
       "    <tr>\n",
       "      <th>0</th>\n",
       "      <td>64422</td>\n",
       "      <td>B000MIDROQ</td>\n",
       "      <td>A161DK06JJMCYF</td>\n",
       "      <td>J. E. Stephens \"Jeanne\"</td>\n",
       "      <td>3</td>\n",
       "      <td>1</td>\n",
       "      <td>5</td>\n",
       "      <td>1224892800</td>\n",
       "      <td>Bought This for My Son at College</td>\n",
       "      <td>My son loves spaghetti so I didn't hesitate or...</td>\n",
       "    </tr>\n",
       "    <tr>\n",
       "      <th>1</th>\n",
       "      <td>44737</td>\n",
       "      <td>B001EQ55RW</td>\n",
       "      <td>A2V0I904FH7ABY</td>\n",
       "      <td>Ram</td>\n",
       "      <td>3</td>\n",
       "      <td>2</td>\n",
       "      <td>4</td>\n",
       "      <td>1212883200</td>\n",
       "      <td>Pure cocoa taste with crunchy almonds inside</td>\n",
       "      <td>It was almost a 'love at first bite' - the per...</td>\n",
       "    </tr>\n",
       "  </tbody>\n",
       "</table>\n",
       "</div>"
      ],
      "text/plain": [
       "      Id   ProductId          UserId              ProfileName  \\\n",
       "0  64422  B000MIDROQ  A161DK06JJMCYF  J. E. Stephens \"Jeanne\"   \n",
       "1  44737  B001EQ55RW  A2V0I904FH7ABY                      Ram   \n",
       "\n",
       "   HelpfulnessNumerator  HelpfulnessDenominator  Score        Time  \\\n",
       "0                     3                       1      5  1224892800   \n",
       "1                     3                       2      4  1212883200   \n",
       "\n",
       "                                        Summary  \\\n",
       "0             Bought This for My Son at College   \n",
       "1  Pure cocoa taste with crunchy almonds inside   \n",
       "\n",
       "                                                Text  \n",
       "0  My son loves spaghetti so I didn't hesitate or...  \n",
       "1  It was almost a 'love at first bite' - the per...  "
      ]
     },
     "execution_count": 11,
     "metadata": {},
     "output_type": "execute_result"
    }
   ],
   "source": [
    "display= pd.read_sql_query(\"\"\"\n",
    "SELECT *\n",
    "FROM Reviews\n",
    "WHERE Score != 3 AND Id=44737 OR Id=64422\n",
    "ORDER BY ProductID\n",
    "\"\"\", con)\n",
    "\n",
    "display.head()"
   ]
  },
  {
   "cell_type": "code",
   "execution_count": 12,
   "metadata": {
    "colab": {},
    "colab_type": "code",
    "id": "0YTPJMLTLPm7"
   },
   "outputs": [],
   "source": [
    "final=final[final.HelpfulnessNumerator<=final.HelpfulnessDenominator]"
   ]
  },
  {
   "cell_type": "code",
   "execution_count": 13,
   "metadata": {
    "colab": {},
    "colab_type": "code",
    "id": "LVJ_l-x2LPnC",
    "outputId": "d4a19c7a-16fe-4b5b-c3d1-aa1ef0f948a0"
   },
   "outputs": [
    {
     "name": "stdout",
     "output_type": "stream",
     "text": [
      "(87773, 10)\n"
     ]
    },
    {
     "data": {
      "text/plain": [
       "1    73592\n",
       "0    14181\n",
       "Name: Score, dtype: int64"
      ]
     },
     "execution_count": 13,
     "metadata": {},
     "output_type": "execute_result"
    }
   ],
   "source": [
    "#Before starting the next phase of preprocessing lets see the number of entries left\n",
    "print(final.shape)\n",
    "\n",
    "#How many positive and negative reviews are present in our dataset?\n",
    "final['Score'].value_counts()"
   ]
  },
  {
   "cell_type": "markdown",
   "metadata": {
    "colab_type": "text",
    "id": "GrTYWzYrLPnH"
   },
   "source": [
    "#  [3] Preprocessing"
   ]
  },
  {
   "cell_type": "markdown",
   "metadata": {
    "colab_type": "text",
    "id": "zbvLitZeLPnI"
   },
   "source": [
    "## [3.1].  Preprocessing Review Text\n",
    "\n",
    "Now that we have finished deduplication our data requires some preprocessing before we go on further with analysis and making the prediction model.\n",
    "\n",
    "Hence in the Preprocessing phase we do the following in the order below:-\n",
    "\n",
    "1. Begin by removing the html tags\n",
    "2. Remove any punctuations or limited set of special characters like , or . or # etc.\n",
    "3. Check if the word is made up of english letters and is not alpha-numeric\n",
    "4. Check to see if the length of the word is greater than 2 (as it was researched that there is no adjective in 2-letters)\n",
    "5. Convert the word to lowercase\n",
    "6. Remove Stopwords\n",
    "7. Finally Snowball Stemming the word (it was obsereved to be better than Porter Stemming)<br>\n",
    "\n",
    "After which we collect the words used to describe positive and negative reviews"
   ]
  },
  {
   "cell_type": "code",
   "execution_count": 14,
   "metadata": {
    "colab": {},
    "colab_type": "code",
    "id": "yYDc0ZXALPnK",
    "outputId": "5403fab9-796a-493d-f9d3-2a410d004f64"
   },
   "outputs": [
    {
     "name": "stdout",
     "output_type": "stream",
     "text": [
      "My dogs loves this chicken but its a product from China, so we wont be buying it anymore.  Its very hard to find any chicken products made in the USA but they are out there, but this one isnt.  Its too bad too because its a good product but I wont take any chances till they know what is going on with the china imports.\n",
      "==================================================\n",
      "The Candy Blocks were a nice visual for the Lego Birthday party but the candy has little taste to it.  Very little of the 2 lbs that I bought were eaten and I threw the rest away.  I would not buy the candy again.\n",
      "==================================================\n",
      "was way to hot for my blood, took a bite and did a jig  lol\n",
      "==================================================\n",
      "My dog LOVES these treats. They tend to have a very strong fish oil smell. So if you are afraid of the fishy smell, don't get it. But I think my dog likes it because of the smell. These treats are really small in size. They are great for training. You can give your dog several of these without worrying about him over eating. Amazon's price was much more reasonable than any other retailer. You can buy a 1 pound bag on Amazon for almost the same price as a 6 ounce bag at other retailers. It's definitely worth it to buy a big bag if your dog eats them a lot.\n",
      "==================================================\n"
     ]
    }
   ],
   "source": [
    "# printing some random reviews\n",
    "sent_0 = final['Text'].values[0]\n",
    "print(sent_0)\n",
    "print(\"=\"*50)\n",
    "\n",
    "sent_1000 = final['Text'].values[1000]\n",
    "print(sent_1000)\n",
    "print(\"=\"*50)\n",
    "\n",
    "sent_1500 = final['Text'].values[1500]\n",
    "print(sent_1500)\n",
    "print(\"=\"*50)\n",
    "\n",
    "sent_4900 = final['Text'].values[4900]\n",
    "print(sent_4900)\n",
    "print(\"=\"*50)"
   ]
  },
  {
   "cell_type": "code",
   "execution_count": 15,
   "metadata": {
    "colab": {},
    "colab_type": "code",
    "id": "AxYh-wPiLPnS",
    "outputId": "31bddcb2-6c52-4b16-f9fb-c03d5b3bb7c8"
   },
   "outputs": [
    {
     "name": "stdout",
     "output_type": "stream",
     "text": [
      "My dogs loves this chicken but its a product from China, so we wont be buying it anymore.  Its very hard to find any chicken products made in the USA but they are out there, but this one isnt.  Its too bad too because its a good product but I wont take any chances till they know what is going on with the china imports.\n"
     ]
    }
   ],
   "source": [
    "# remove urls from text python: https://stackoverflow.com/a/40823105/4084039\n",
    "sent_0 = re.sub(r\"http\\S+\", \"\", sent_0)\n",
    "sent_1000 = re.sub(r\"http\\S+\", \"\", sent_1000)\n",
    "sent_150 = re.sub(r\"http\\S+\", \"\", sent_1500)\n",
    "sent_4900 = re.sub(r\"http\\S+\", \"\", sent_4900)\n",
    "\n",
    "print(sent_0)"
   ]
  },
  {
   "cell_type": "code",
   "execution_count": 16,
   "metadata": {
    "colab": {},
    "colab_type": "code",
    "id": "JMSSWjZqLPne",
    "outputId": "eb1bae4e-6f37-45ee-84a3-ef3bebf4e30a"
   },
   "outputs": [
    {
     "name": "stdout",
     "output_type": "stream",
     "text": [
      "My dogs loves this chicken but its a product from China, so we wont be buying it anymore.  Its very hard to find any chicken products made in the USA but they are out there, but this one isnt.  Its too bad too because its a good product but I wont take any chances till they know what is going on with the china imports.\n",
      "==================================================\n",
      "The Candy Blocks were a nice visual for the Lego Birthday party but the candy has little taste to it.  Very little of the 2 lbs that I bought were eaten and I threw the rest away.  I would not buy the candy again.\n",
      "==================================================\n",
      "was way to hot for my blood, took a bite and did a jig  lol\n",
      "==================================================\n",
      "My dog LOVES these treats. They tend to have a very strong fish oil smell. So if you are afraid of the fishy smell, don't get it. But I think my dog likes it because of the smell. These treats are really small in size. They are great for training. You can give your dog several of these without worrying about him over eating. Amazon's price was much more reasonable than any other retailer. You can buy a 1 pound bag on Amazon for almost the same price as a 6 ounce bag at other retailers. It's definitely worth it to buy a big bag if your dog eats them a lot.\n"
     ]
    }
   ],
   "source": [
    "# https://stackoverflow.com/questions/16206380/python-beautifulsoup-how-to-remove-all-tags-from-an-element\n",
    "from bs4 import BeautifulSoup\n",
    "\n",
    "soup = BeautifulSoup(sent_0, 'lxml')\n",
    "text = soup.get_text()\n",
    "print(text)\n",
    "print(\"=\"*50)\n",
    "\n",
    "soup = BeautifulSoup(sent_1000, 'lxml')\n",
    "text = soup.get_text()\n",
    "print(text)\n",
    "print(\"=\"*50)\n",
    "\n",
    "soup = BeautifulSoup(sent_1500, 'lxml')\n",
    "text = soup.get_text()\n",
    "print(text)\n",
    "print(\"=\"*50)\n",
    "\n",
    "soup = BeautifulSoup(sent_4900, 'lxml')\n",
    "text = soup.get_text()\n",
    "print(text)"
   ]
  },
  {
   "cell_type": "code",
   "execution_count": 17,
   "metadata": {
    "colab": {},
    "colab_type": "code",
    "id": "BEtpMkhULPnt"
   },
   "outputs": [],
   "source": [
    "# https://stackoverflow.com/a/47091490/4084039\n",
    "import re\n",
    "\n",
    "def decontracted(phrase):\n",
    "    # specific\n",
    "    phrase = re.sub(r\"won't\", \"will not\", phrase)\n",
    "    phrase = re.sub(r\"can\\'t\", \"can not\", phrase)\n",
    "\n",
    "    # general\n",
    "    phrase = re.sub(r\"n\\'t\", \" not\", phrase)\n",
    "    phrase = re.sub(r\"\\'re\", \" are\", phrase)\n",
    "    phrase = re.sub(r\"\\'s\", \" is\", phrase)\n",
    "    phrase = re.sub(r\"\\'d\", \" would\", phrase)\n",
    "    phrase = re.sub(r\"\\'ll\", \" will\", phrase)\n",
    "    phrase = re.sub(r\"\\'t\", \" not\", phrase)\n",
    "    phrase = re.sub(r\"\\'ve\", \" have\", phrase)\n",
    "    phrase = re.sub(r\"\\'m\", \" am\", phrase)\n",
    "    return phrase"
   ]
  },
  {
   "cell_type": "code",
   "execution_count": 18,
   "metadata": {
    "colab": {},
    "colab_type": "code",
    "id": "GavAnzNjLPnx",
    "outputId": "517fca9a-b1b6-4c6c-ab33-4c5ac4a5bd62"
   },
   "outputs": [
    {
     "name": "stdout",
     "output_type": "stream",
     "text": [
      "was way to hot for my blood, took a bite and did a jig  lol\n",
      "==================================================\n"
     ]
    }
   ],
   "source": [
    "sent_1500 = decontracted(sent_1500)\n",
    "print(sent_1500)\n",
    "print(\"=\"*50)"
   ]
  },
  {
   "cell_type": "code",
   "execution_count": 19,
   "metadata": {
    "colab": {},
    "colab_type": "code",
    "id": "Kl8nOoL-LPn3",
    "outputId": "16742d57-2529-4fc0-9d28-e9332dbbca97"
   },
   "outputs": [
    {
     "name": "stdout",
     "output_type": "stream",
     "text": [
      "My dogs loves this chicken but its a product from China, so we wont be buying it anymore.  Its very hard to find any chicken products made in the USA but they are out there, but this one isnt.  Its too bad too because its a good product but I wont take any chances till they know what is going on with the china imports.\n"
     ]
    }
   ],
   "source": [
    "#remove words with numbers python: https://stackoverflow.com/a/18082370/4084039\n",
    "sent_0 = re.sub(\"\\S*\\d\\S*\", \"\", sent_0).strip()\n",
    "print(sent_0)"
   ]
  },
  {
   "cell_type": "code",
   "execution_count": 20,
   "metadata": {
    "colab": {},
    "colab_type": "code",
    "id": "EGB6X2uxLPn7",
    "outputId": "dbd754e5-eb73-4b3a-f3c3-7b1b40952851"
   },
   "outputs": [
    {
     "name": "stdout",
     "output_type": "stream",
     "text": [
      "was way to hot for my blood took a bite and did a jig lol\n"
     ]
    }
   ],
   "source": [
    "#remove spacial character: https://stackoverflow.com/a/5843547/4084039\n",
    "sent_1500 = re.sub('[^A-Za-z0-9]+', ' ', sent_1500)\n",
    "print(sent_1500)"
   ]
  },
  {
   "cell_type": "code",
   "execution_count": 21,
   "metadata": {
    "colab": {},
    "colab_type": "code",
    "id": "CCurSJJ2LPn_"
   },
   "outputs": [],
   "source": [
    "# https://gist.github.com/sebleier/554280\n",
    "# we are removing the words from the stop words list: 'no', 'nor', 'not'\n",
    "# <br /><br /> ==> after the above steps, we are getting \"br br\"\n",
    "# we are including them into stop words list\n",
    "# instead of <br /> if we have <br/> these tags would have revmoved in the 1st step\n",
    "\n",
    "stopwords= set(['br', 'the', 'i', 'me', 'my', 'myself', 'we', 'our', 'ours', 'ourselves', 'you', \"you're\", \"you've\",\\\n",
    "            \"you'll\", \"you'd\", 'your', 'yours', 'yourself', 'yourselves', 'he', 'him', 'his', 'himself', \\\n",
    "            'she', \"she's\", 'her', 'hers', 'herself', 'it', \"it's\", 'its', 'itself', 'they', 'them', 'their',\\\n",
    "            'theirs', 'themselves', 'what', 'which', 'who', 'whom', 'this', 'that', \"that'll\", 'these', 'those', \\\n",
    "            'am', 'is', 'are', 'was', 'were', 'be', 'been', 'being', 'have', 'has', 'had', 'having', 'do', 'does', \\\n",
    "            'did', 'doing', 'a', 'an', 'the', 'and', 'but', 'if', 'or', 'because', 'as', 'until', 'while', 'of', \\\n",
    "            'at', 'by', 'for', 'with', 'about', 'against', 'between', 'into', 'through', 'during', 'before', 'after',\\\n",
    "            'above', 'below', 'to', 'from', 'up', 'down', 'in', 'out', 'on', 'off', 'over', 'under', 'again', 'further',\\\n",
    "            'then', 'once', 'here', 'there', 'when', 'where', 'why', 'how', 'all', 'any', 'both', 'each', 'few', 'more',\\\n",
    "            'most', 'other', 'some', 'such', 'only', 'own', 'same', 'so', 'than', 'too', 'very', \\\n",
    "            's', 't', 'can', 'will', 'just', 'don', \"don't\", 'should', \"should've\", 'now', 'd', 'll', 'm', 'o', 're', \\\n",
    "            've', 'y', 'ain', 'aren', \"aren't\", 'couldn', \"couldn't\", 'didn', \"didn't\", 'doesn', \"doesn't\", 'hadn',\\\n",
    "            \"hadn't\", 'hasn', \"hasn't\", 'haven', \"haven't\", 'isn', \"isn't\", 'ma', 'mightn', \"mightn't\", 'mustn',\\\n",
    "            \"mustn't\", 'needn', \"needn't\", 'shan', \"shan't\", 'shouldn', \"shouldn't\", 'wasn', \"wasn't\", 'weren', \"weren't\", \\\n",
    "            'won', \"won't\", 'wouldn', \"wouldn't\"])"
   ]
  },
  {
   "cell_type": "code",
   "execution_count": 22,
   "metadata": {
    "colab": {},
    "colab_type": "code",
    "id": "mFHQEvfnLPoF",
    "outputId": "5cd6bcc3-54fe-4a8e-a39d-d6dabf3f37f9"
   },
   "outputs": [],
   "source": [
    "#filtered out whole reviews\n",
    "\n",
    "from bs4 import BeautifulSoup\n",
    "# Combining all the above stundents \n",
    "from tqdm import tqdm\n",
    "# tqdm is for printing the status bar\n",
    "word_counter = []\n",
    "def filterised_text(text):\n",
    "    preprocessed_text = []\n",
    "    for sentance in tqdm(text):\n",
    "        sentance = re.sub(r\"http\\S+\", \"\", sentance)\n",
    "        sentance = BeautifulSoup(sentance, 'lxml').get_text()\n",
    "        sentance = decontracted(sentance)\n",
    "        sentance = re.sub(\"\\S*\\d\\S*\", \"\", sentance).strip()\n",
    "        sentance = re.sub('[^A-Za-z]+', ' ', sentance)\n",
    "        # https://gist.github.com/sebleier/554280\n",
    "        sentance = ' '.join(e.lower() for e in sentance.split() if e.lower() not in stopwords)\n",
    "        count = len(sentance.split())\n",
    "        word_counter.append(count)\n",
    "        preprocessed_text.append(sentance.strip())\n",
    "    return preprocessed_text"
   ]
  },
  {
   "cell_type": "code",
   "execution_count": 23,
   "metadata": {
    "colab": {},
    "colab_type": "code",
    "id": "Tqx8QUeRLPoH",
    "outputId": "0182081c-6282-4113-b186-5b5bac596388"
   },
   "outputs": [
    {
     "name": "stderr",
     "output_type": "stream",
     "text": [
      "100%|██████████| 87773/87773 [00:27<00:00, 3187.13it/s]\n"
     ]
    },
    {
     "data": {
      "text/plain": [
       "'taste great using air popper not great little seeds fall popping'"
      ]
     },
     "execution_count": 23,
     "metadata": {},
     "output_type": "execute_result"
    }
   ],
   "source": [
    "preprocessed_reviews = filterised_text(final['Text'].values)\n",
    "final['preprocessed_reviews']  = preprocessed_reviews\n",
    "preprocessed_reviews[1822]"
   ]
  },
  {
   "cell_type": "code",
   "execution_count": 24,
   "metadata": {},
   "outputs": [
    {
     "data": {
      "text/plain": [
       "11"
      ]
     },
     "execution_count": 24,
     "metadata": {},
     "output_type": "execute_result"
    }
   ],
   "source": [
    "final['numbers_of_words']  = word_counter\n",
    "word_counter[1822]"
   ]
  },
  {
   "cell_type": "markdown",
   "metadata": {
    "colab_type": "text",
    "id": "9IuKp2HULPoL"
   },
   "source": [
    "## Preprocessing Review Summary"
   ]
  },
  {
   "cell_type": "code",
   "execution_count": 25,
   "metadata": {
    "colab": {},
    "colab_type": "code",
    "id": "Qk7gYOmKLPoM"
   },
   "outputs": [
    {
     "name": "stderr",
     "output_type": "stream",
     "text": [
      "100%|██████████| 87773/87773 [00:17<00:00, 5149.20it/s]\n"
     ]
    },
    {
     "data": {
      "text/plain": [
       "'pop corn'"
      ]
     },
     "execution_count": 25,
     "metadata": {},
     "output_type": "execute_result"
    }
   ],
   "source": [
    "preprocessed_summary = filterised_text(final['Summary'].values)\n",
    "final['preprocessed_summary']  = preprocessed_summary\n",
    "preprocessed_summary[1822]"
   ]
  },
  {
   "cell_type": "code",
   "execution_count": 26,
   "metadata": {},
   "outputs": [],
   "source": [
    "from sklearn.linear_model import LogisticRegression\n",
    "# importing Cross validation libs\n",
    "from sklearn.model_selection import train_test_split\n",
    "from sklearn.model_selection import cross_val_score\n",
    "from sklearn import model_selection\n",
    "\n",
    "# Python script for confusion matrix creation. \n",
    "from sklearn.metrics import confusion_matrix \n",
    "from sklearn.metrics import accuracy_score \n",
    "from sklearn.metrics import classification_report \n",
    "# roc curve and auc\n",
    "from sklearn.datasets import make_classification\n",
    "from sklearn.metrics import roc_curve\n",
    "from sklearn.metrics import roc_auc_score\n",
    "from matplotlib import pyplot\n",
    "from sklearn.metrics import roc_curve, auc\n",
    "from sklearn.model_selection import GridSearchCV\n",
    "\n",
    "import seaborn as sns\n",
    "\n",
    "from sklearn.model_selection import TimeSeriesSplit\n",
    "from sklearn.model_selection import RandomizedSearchCV\n",
    "import numpy as np"
   ]
  },
  {
   "cell_type": "code",
   "execution_count": 27,
   "metadata": {},
   "outputs": [],
   "source": [
    "avg_w2v_trained_model_100000 = '/home/pranay/ML trained models/W2V/avg_w2v_trained_model_100000'\n",
    "avg_w2v_test_model_100000 = '/home/pranay/ML trained models/W2V/avg_w2v_test_model_100000'\n",
    "\n",
    "w2v_tf_idf_trained_model_100000 = '/home/pranay/ML trained models/W2V_TFIDF/w2v_tf_idf_trained_model_100000'\n",
    "w2v_tf_idf_test_model_100000 = '/home/pranay/ML trained models/W2V_TFIDF/w2v_tf_idf_test_model_100000'"
   ]
  },
  {
   "cell_type": "code",
   "execution_count": 28,
   "metadata": {},
   "outputs": [],
   "source": [
    "# Common Methods\n",
    "\n",
    "lambda_values = (1e-4, 1e-3,1e-2,0.05,1e-1,0.2,0.3,0.4,0.5,0.6,0.7,0.8,0.9, 1e0,3,5,7,9,1e1,1e2,1e3)\n",
    "\n",
    "\n",
    "def finding_best_lambda(X_tr,y_tr):\n",
    "    # instantiate a Logistic Regression model\n",
    "    lr = LogisticRegression(class_weight='balanced',n_jobs=-1, penalty='l2', random_state=1)\n",
    "\n",
    "    param_grid=dict(C=lambda_values)\n",
    "    \n",
    "    #For time based splitting\n",
    "    tscv = TimeSeriesSplit(n_splits=10)\n",
    "\n",
    "    # instantiate the training grid search model\n",
    "    train_grid = GridSearchCV(lr, param_grid, cv=tscv, scoring='roc_auc',n_jobs =-1,verbose=10 )\n",
    "    \n",
    "    # fit the training data to train model\n",
    "    train_grid.fit(X_tr, y_tr)\n",
    "\n",
    "    return train_grid\n",
    "\n",
    "\n",
    "# plot a graph which show difference between validation error and training error\n",
    "def plotAccuracyGraph(training_grid):\n",
    "    alpha_range = [i for i in lambda_values]\n",
    "    accuracy = [i for i in training_grid.cv_results_['mean_train_score']]\n",
    "    accuracy_test = [i for i in training_grid.cv_results_['mean_test_score']]\n",
    "    plt.semilogx(alpha_range, accuracy,'r',label='train_accuracy')\n",
    "    plt.semilogx(alpha_range, accuracy_test,'b',label='validation_accuracy')\n",
    "    plt.title('Accuracy plot')\n",
    "    plt.xlabel('Alpha') \n",
    "    plt.ylabel('Accuracy')\n",
    "    plt.grid('on')\n",
    "    plt.legend()\n",
    "    plt.show()\n",
    "\n",
    "\n",
    "    \n",
    "def train_with_optimal_lambda(optimal_lambda, penalty):\n",
    "    if penalty == 'l1':\n",
    "        lr = LogisticRegression(C=optimal_lambda,class_weight='balanced',n_jobs=2, penalty='l1',random_state=1)\n",
    "        return lr\n",
    "    else : \n",
    "        lr = LogisticRegression(C=optimal_lambda,class_weight='balanced',n_jobs=2, penalty='l2',random_state=1)\n",
    "        return lr\n",
    "\n",
    "# https://www.geeksforgeeks.org/confusion-matrix-machine-learning/    \n",
    "def plotConfusionMatrix(y_test,pred):\n",
    "    # calculate confusion matrix\n",
    "    cm =  confusion_matrix(y_test,pred)\n",
    "    class_label = ['negative', 'positive']\n",
    "    df_conf_matrix = pd.DataFrame(cm, index=class_label, columns=class_label)\n",
    "    # heatmap --> Plot rectangular data as a color-encoded matrix. \n",
    "    sns.heatmap(df_conf_matrix, annot=True, fmt='d')\n",
    "    # give title to graph\n",
    "    plt.title(\"Confusion Matrix\")\n",
    "    # mention axis label\n",
    "    plt.xlabel(\"Predicted\")\n",
    "    plt.ylabel(\"Actual\")\n",
    "    # show the plot\n",
    "    plt.show()\n",
    "    \n",
    "\n",
    "# https://machinelearningmastery.com/roc-curves-and-precision-recall-curves-for-classification-in-python/\n",
    "# plot AUC curve\n",
    "def plotAUC_ROC(nb_optimal,X_train, y_train, X_test, y_test):\n",
    "    # predict probabilities\n",
    "    test_probs = nb_optimal.predict_proba(X_test)\n",
    "    train_probs = nb_optimal.predict_proba(X_train)\n",
    "    \n",
    "    # keep probabilities for the positive outcome only\n",
    "    test_probs = test_probs[:, 1]\n",
    "    train_probs = train_probs[:, 1]\n",
    "    \n",
    "    # calculate AUC\n",
    "    test_auc = roc_auc_score(y_test, test_probs)\n",
    "    train_auc = roc_auc_score(y_train, train_probs)\n",
    "    \n",
    "    # calculate roc curve\n",
    "    train_fpr, train_tpr, thresholds = roc_curve(y_train, train_probs)\n",
    "    test_fpr, test_tpr, thresholds2 = roc_curve(y_test, test_probs)\n",
    "    \n",
    "    # plot no skill\n",
    "    pyplot.plot([0, 1], [0, 1], linestyle='--')\n",
    "    \n",
    "    # plot the roc curve for the model\n",
    "    pyplot.plot(train_fpr, train_tpr, 'r',marker='.', label=\"train AUC =\"+str(train_auc))\n",
    "    pyplot.plot(test_fpr, test_tpr, 'b',marker='.',label=\"test AUC =\"+str(test_auc))\n",
    "    \n",
    "    pyplot.legend()\n",
    "    pyplot.xlabel(\"K: hyperparameter\")\n",
    "    pyplot.ylabel(\"AUC\")\n",
    "    pyplot.title(\"ERROR PLOTS\")\n",
    "    # show the plot\n",
    "    pyplot.show()\n",
    "    \n",
    "    return train_auc, test_auc\n",
    "\n",
    "class color:\n",
    "   PURPLE = '\\033[95m'\n",
    "   CYAN = '\\033[96m'\n",
    "   DARKCYAN = '\\033[36m'\n",
    "   BLUE = '\\033[94m'\n",
    "   GREEN = '\\033[92m'\n",
    "   YELLOW = '\\033[93m'\n",
    "   RED = '\\033[91m'\n",
    "   BOLD = '\\033[1m'\n",
    "   UNDERLINE = '\\033[4m'\n",
    "   END = '\\033[0m'\n",
    "    \n",
    "# https://stackoverflow.com/questions/11116697/how-to-get-most-informative-features-for-scikit-learn-classifiers\n",
    "\n",
    "def show_most_informative_features(feature_names, clf, n=10):\n",
    "    coefs_with_fns = sorted(zip(clf.coef_[0], feature_names))\n",
    "    top_1 = coefs_with_fns[:n]\n",
    "    top_2 = coefs_with_fns[:-(n + 1):-1]\n",
    "    print(color.BOLD+\"Important words in negative reviews\\n\"+color.END)\n",
    "    for coeffs,features in top_1:\n",
    "        print(coeffs,features)\n",
    "    print(\"-----------------------------------------\\n\")\n",
    "    print(color.BOLD+\"Important words in positive reviews\\n\"+color.END)\n",
    "\n",
    "    for coeffs,features in top_2:\n",
    "        print(coeffs,features)\n",
    "\n",
    "        \n",
    "        \n",
    "# https://stackoverflow.com/questions/11116697/how-to-get-most-informative-features-for-scikit-learn-classifiers\n",
    "def important_features(feature_names,classifier,n=20):\n",
    "    class_labels = classifier.classes_\n",
    "    topn_class1 = sorted(zip(classifier.feature_count_[0], feature_names),reverse=True)[:n]\n",
    "    topn_class2 = sorted(zip(classifier.feature_count_[1], feature_names),reverse=True)[:n]\n",
    "    print(color.BOLD+\"Important words in negative reviews\"+color.END)\n",
    "    print('\\n'+color.BOLD+'\\t Class Label '+color.END,class_labels[0])\n",
    "    for coef, feat in topn_class1:\n",
    "        print('{:.3f}'.format(coef), '\\t'+feat)\n",
    "    print(\"-----------------------------------------\\n\")\n",
    "    print(color.BOLD+\"Important words in positive reviews\"+color.END)\n",
    "    print('\\n'+color.BOLD+'\\t Class Label '+color.END,class_labels[1])\n",
    "    for coef, feat in topn_class2:\n",
    "        print('{:.3f}'.format(coef), '\\t'+feat)"
   ]
  },
  {
   "cell_type": "markdown",
   "metadata": {},
   "source": [
    "### Splitting data\n",
    "\n",
    "__We have considered 100 k points__"
   ]
  },
  {
   "cell_type": "code",
   "execution_count": 29,
   "metadata": {},
   "outputs": [
    {
     "name": "stdout",
     "output_type": "stream",
     "text": [
      "(61441,) (26332,) (61441,) (26332,)\n"
     ]
    }
   ],
   "source": [
    "X = final['preprocessed_reviews']\n",
    "y = final['Score']\n",
    "\n",
    "# split the data set into train and test\n",
    "X_train, x_test, y_train, y_test = model_selection.train_test_split(X, y, test_size=0.3,random_state=0)\n",
    "\n",
    "print(X_train.shape, x_test.shape, y_train.shape, y_test.shape)"
   ]
  },
  {
   "cell_type": "markdown",
   "metadata": {
    "colab_type": "text",
    "id": "B93jqKuhLPoQ"
   },
   "source": [
    "# [4] Featurization"
   ]
  },
  {
   "cell_type": "markdown",
   "metadata": {
    "colab_type": "text",
    "id": "Mr4j2QhgLPoQ"
   },
   "source": [
    "## [4.1] BAG OF WORDS"
   ]
  },
  {
   "cell_type": "code",
   "execution_count": 30,
   "metadata": {
    "colab": {},
    "colab_type": "code",
    "id": "dZVHt3mtLPoR",
    "outputId": "ea1629cd-7c92-400e-9acd-f7caeef0f389"
   },
   "outputs": [
    {
     "name": "stdout",
     "output_type": "stream",
     "text": [
      "X_train_bow (61441, 36487)\n",
      "==============================\n",
      "x_test_bow (26332, 36487)\n"
     ]
    }
   ],
   "source": [
    "##BoW\n",
    "\n",
    "count_vect = CountVectorizer(ngram_range=(1,2), min_df=10) #in scikit-learn\n",
    "\n",
    "# train data\n",
    "X_train_bow = count_vect.fit_transform(X_train)\n",
    "\n",
    "# test data\n",
    "x_test_bow = count_vect.transform(x_test)\n",
    "\n",
    "\n",
    "print('X_train_bow',X_train_bow.shape)\n",
    "print('==='*10)\n",
    "print('x_test_bow',x_test_bow.shape)"
   ]
  },
  {
   "cell_type": "code",
   "execution_count": 31,
   "metadata": {},
   "outputs": [
    {
     "name": "stdout",
     "output_type": "stream",
     "text": [
      "Fitting 10 folds for each of 21 candidates, totalling 210 fits\n"
     ]
    },
    {
     "name": "stderr",
     "output_type": "stream",
     "text": [
      "[Parallel(n_jobs=-1)]: Using backend LokyBackend with 4 concurrent workers.\n",
      "[Parallel(n_jobs=-1)]: Done   5 tasks      | elapsed:    1.9s\n",
      "[Parallel(n_jobs=-1)]: Done  10 tasks      | elapsed:    2.3s\n",
      "[Parallel(n_jobs=-1)]: Done  17 tasks      | elapsed:    3.4s\n",
      "[Parallel(n_jobs=-1)]: Done  24 tasks      | elapsed:    4.5s\n",
      "[Parallel(n_jobs=-1)]: Done  33 tasks      | elapsed:    6.9s\n",
      "[Parallel(n_jobs=-1)]: Done  42 tasks      | elapsed:   10.5s\n",
      "[Parallel(n_jobs=-1)]: Done  53 tasks      | elapsed:   15.7s\n",
      "/home/pranay/anaconda3/lib/python3.7/site-packages/sklearn/externals/joblib/externals/loky/process_executor.py:706: UserWarning: A worker stopped while some jobs were given to the executor. This can be caused by a too short worker timeout or by a memory leak.\n",
      "  \"timeout or by a memory leak.\", UserWarning\n",
      "[Parallel(n_jobs=-1)]: Done  64 tasks      | elapsed:   21.9s\n",
      "[Parallel(n_jobs=-1)]: Done  77 tasks      | elapsed:   31.5s\n",
      "[Parallel(n_jobs=-1)]: Done  90 tasks      | elapsed:   39.2s\n",
      "/home/pranay/anaconda3/lib/python3.7/site-packages/sklearn/externals/joblib/externals/loky/process_executor.py:706: UserWarning: A worker stopped while some jobs were given to the executor. This can be caused by a too short worker timeout or by a memory leak.\n",
      "  \"timeout or by a memory leak.\", UserWarning\n",
      "[Parallel(n_jobs=-1)]: Done 105 tasks      | elapsed:   51.4s\n",
      "/home/pranay/anaconda3/lib/python3.7/site-packages/sklearn/externals/joblib/externals/loky/process_executor.py:706: UserWarning: A worker stopped while some jobs were given to the executor. This can be caused by a too short worker timeout or by a memory leak.\n",
      "  \"timeout or by a memory leak.\", UserWarning\n",
      "[Parallel(n_jobs=-1)]: Done 120 tasks      | elapsed:  1.1min\n",
      "/home/pranay/anaconda3/lib/python3.7/site-packages/sklearn/externals/joblib/externals/loky/process_executor.py:706: UserWarning: A worker stopped while some jobs were given to the executor. This can be caused by a too short worker timeout or by a memory leak.\n",
      "  \"timeout or by a memory leak.\", UserWarning\n",
      "[Parallel(n_jobs=-1)]: Done 137 tasks      | elapsed:  1.4min\n",
      "[Parallel(n_jobs=-1)]: Done 154 tasks      | elapsed:  1.7min\n",
      "[Parallel(n_jobs=-1)]: Done 173 tasks      | elapsed:  2.1min\n",
      "[Parallel(n_jobs=-1)]: Done 192 tasks      | elapsed:  2.6min\n",
      "[Parallel(n_jobs=-1)]: Done 210 out of 210 | elapsed:  3.3min finished\n",
      "/home/pranay/anaconda3/lib/python3.7/site-packages/sklearn/linear_model/logistic.py:1297: UserWarning: 'n_jobs' > 1 does not have any effect when 'solver' is set to 'liblinear'. Got 'n_jobs' = 4.\n",
      "  \" = {}.\".format(effective_n_jobs(self.n_jobs)))\n"
     ]
    },
    {
     "name": "stdout",
     "output_type": "stream",
     "text": [
      "=======Training========\n",
      "0.9437437455796979\n",
      "{'C': 0.1}\n",
      "LogisticRegression(C=0.1, class_weight='balanced', dual=False,\n",
      "          fit_intercept=True, intercept_scaling=1, max_iter=100,\n",
      "          multi_class='warn', n_jobs=-1, penalty='l2', random_state=1,\n",
      "          solver='warn', tol=0.0001, verbose=0, warm_start=False)\n"
     ]
    },
    {
     "name": "stderr",
     "output_type": "stream",
     "text": [
      "/home/pranay/anaconda3/lib/python3.7/site-packages/matplotlib/cbook/__init__.py:424: MatplotlibDeprecationWarning: \n",
      "Passing one of 'on', 'true', 'off', 'false' as a boolean is deprecated; use an actual boolean (True/False) instead.\n",
      "  warn_deprecated(\"2.2\", \"Passing one of 'on', 'true', 'off', 'false' as a \"\n"
     ]
    },
    {
     "data": {
      "image/png": "[encoded data removed]",
      "text/plain": [
       "<Figure size 432x288 with 1 Axes>"
      ]
     },
     "metadata": {
      "needs_background": "light"
     },
     "output_type": "display_data"
    }
   ],
   "source": [
    "bow_train = finding_best_lambda(X_train_bow,y_train)\n",
    "\n",
    "# view the complete results (list of named tuples)\n",
    "print(\"=======Training========\")\n",
    "print (bow_train.best_score_)\n",
    "print (bow_train.best_params_)\n",
    "print (bow_train.best_estimator_)\n",
    "\n",
    "plotAccuracyGraph(bow_train)"
   ]
  },
  {
   "cell_type": "markdown",
   "metadata": {},
   "source": [
    "### Applying Logistic Regression with L1 regularization on BOW"
   ]
  },
  {
   "cell_type": "code",
   "execution_count": 32,
   "metadata": {
    "scrolled": true
   },
   "outputs": [
    {
     "name": "stderr",
     "output_type": "stream",
     "text": [
      "/home/pranay/anaconda3/lib/python3.7/site-packages/sklearn/linear_model/logistic.py:1297: UserWarning: 'n_jobs' > 1 does not have any effect when 'solver' is set to 'liblinear'. Got 'n_jobs' = 4.\n",
      "  \" = {}.\".format(effective_n_jobs(self.n_jobs)))\n"
     ]
    },
    {
     "name": "stdout",
     "output_type": "stream",
     "text": [
      "\n",
      "\u001b[91mOptimal best alpha is : \u001b[0m\u001b[1m0.1\u001b[0m\n",
      "\n",
      "\u001b[1mConfusion Matrix for Train data\u001b[0m\n"
     ]
    },
    {
     "data": {
      "image/png": "[encoded data removed]",
      "text/plain": [
       "<Figure size 432x288 with 2 Axes>"
      ]
     },
     "metadata": {
      "needs_background": "light"
     },
     "output_type": "display_data"
    },
    {
     "name": "stdout",
     "output_type": "stream",
     "text": [
      "\n",
      "\u001b[1mConfusion Matrix for Test data\u001b[0m\n"
     ]
    },
    {
     "data": {
      "image/png": "[encoded data removed]",
      "text/plain": [
       "<Figure size 432x288 with 2 Axes>"
      ]
     },
     "metadata": {
      "needs_background": "light"
     },
     "output_type": "display_data"
    },
    {
     "data": {
      "image/png": "[encoded data removed]",
      "text/plain": [
       "<Figure size 432x288 with 1 Axes>"
      ]
     },
     "metadata": {
      "needs_background": "light"
     },
     "output_type": "display_data"
    },
    {
     "name": "stdout",
     "output_type": "stream",
     "text": [
      "\n",
      "\u001b[91mAUC (Train): \u001b[0m\u001b[1m0.9671433060196472\u001b[0m\n",
      "\n",
      "\u001b[91mAUC (Test): \u001b[0m\u001b[1m0.9473679950135098\u001b[0m\n",
      "\n",
      "\u001b[91mF1 SCORE (Train) : \u001b[0m\u001b[1m0.9431142259879017\u001b[0m\n",
      "\n",
      "\u001b[91mF1 SCORE (Test) : \u001b[0m\u001b[1m0.9350990889452427\u001b[0m\n",
      "\n",
      "\u001b[91mRECALL (Train): \u001b[0m\u001b[1m0.9069103480422622\u001b[0m\n",
      "\n",
      "\u001b[91mRECALL (Test): \u001b[0m\u001b[1m0.9008324285197249\u001b[0m\n",
      "\n",
      "\u001b[91mPRECISION  (Train) : \u001b[0m\u001b[1m0.9823288103502682\u001b[0m\n",
      "\n",
      "\u001b[91mPRECISION  (Test) : \u001b[0m\u001b[1m0.9720757664518649\u001b[0m\n"
     ]
    }
   ],
   "source": [
    "optimal_alpha = bow_train.best_params_.get('C')\n",
    "\n",
    "optimal_lr_L1 = LogisticRegression(C=optimal_alpha, class_weight='balanced', dual=False,\n",
    "          fit_intercept=True, intercept_scaling=1, max_iter=100,\n",
    "          multi_class='warn', n_jobs=-1, penalty= 'l1', random_state=1,\n",
    "          solver='warn', tol=0.0001, verbose=0, warm_start=False)\n",
    "# fitting the model\n",
    "optimal_lr_L1.fit(X_train_bow,y_train)\n",
    "\n",
    "# predict the response\n",
    "test_pred = optimal_lr_L1.predict(x_test_bow)\n",
    "train_pred = optimal_lr_L1.predict(X_train_bow)\n",
    "\n",
    "print('\\n'+color.RED+'Optimal best alpha is : '+color.END+color.BOLD+str(optimal_alpha)+color.END)\n",
    "\n",
    "# plot confusion matrix\n",
    "\n",
    "print('\\n'+color.BOLD +'Confusion Matrix for Train data'+color.END)\n",
    "plotConfusionMatrix(y_train,train_pred)\n",
    "\n",
    "print('\\n'+color.BOLD +'Confusion Matrix for Test data'+color.END)\n",
    "plotConfusionMatrix(y_test,test_pred)\n",
    "\n",
    "# plot AUC\n",
    "train_auc,test_auc = plotAUC_ROC(optimal_lr_L1,X_train_bow, y_train,x_test_bow, y_test )\n",
    "print('\\n'+color.RED+'AUC (Train): '+color.END+color.BOLD+str(train_auc)+color.END)\n",
    "print('\\n'+color.RED+'AUC (Test): '+color.END+color.BOLD+str(test_auc)+color.END)\n",
    "\n",
    "# f1 score\n",
    "score = f1_score(y_test,test_pred)\n",
    "print('\\n'+color.RED+'F1 SCORE (Train) : '+color.END+color.BOLD+str(f1_score(y_train,train_pred))+color.END)\n",
    "print('\\n'+color.RED+'F1 SCORE (Test) : '+color.END+color.BOLD+str(score)+color.END)\n",
    "\n",
    "# recall\n",
    "recall = metrics.recall_score(y_test, test_pred)\n",
    "print('\\n'+color.RED+'RECALL (Train): '+color.END+color.BOLD+str(metrics.recall_score(y_train, train_pred))+color.END)\n",
    "print('\\n'+color.RED+'RECALL (Test): '+color.END+color.BOLD+str(recall)+color.END)\n",
    "\n",
    "# precision\n",
    "precision = metrics.precision_score(y_test, test_pred)\n",
    "print('\\n'+color.RED+'PRECISION  (Train) : '+color.END+color.BOLD+str(metrics.precision_score(y_train, train_pred))+color.END)\n",
    "print('\\n'+color.RED+'PRECISION  (Test) : '+color.END+color.BOLD+str(precision)+color.END)"
   ]
  },
  {
   "cell_type": "markdown",
   "metadata": {},
   "source": [
    "### Applying Logistic Regression with L2 regularization on BOW"
   ]
  },
  {
   "cell_type": "code",
   "execution_count": 33,
   "metadata": {},
   "outputs": [
    {
     "name": "stderr",
     "output_type": "stream",
     "text": [
      "/home/pranay/anaconda3/lib/python3.7/site-packages/sklearn/linear_model/logistic.py:1297: UserWarning: 'n_jobs' > 1 does not have any effect when 'solver' is set to 'liblinear'. Got 'n_jobs' = 4.\n",
      "  \" = {}.\".format(effective_n_jobs(self.n_jobs)))\n"
     ]
    },
    {
     "name": "stdout",
     "output_type": "stream",
     "text": [
      "\n",
      "\u001b[91mOptimal best alpha is : \u001b[0m\u001b[1m0.1\u001b[0m\n",
      "\n",
      "\u001b[1mConfusion Matrix for Train data\u001b[0m\n"
     ]
    },
    {
     "data": {
      "image/png": "[encoded data removed]",
      "text/plain": [
       "<Figure size 432x288 with 2 Axes>"
      ]
     },
     "metadata": {
      "needs_background": "light"
     },
     "output_type": "display_data"
    },
    {
     "name": "stdout",
     "output_type": "stream",
     "text": [
      "\n",
      "\u001b[1mConfusion Matrix for Test data\u001b[0m\n"
     ]
    },
    {
     "data": {
      "image/png": "[encoded data removed]",
      "text/plain": [
       "<Figure size 432x288 with 2 Axes>"
      ]
     },
     "metadata": {
      "needs_background": "light"
     },
     "output_type": "display_data"
    },
    {
     "data": {
      "image/png": "[encoded data removed]",
      "text/plain": [
       "<Figure size 432x288 with 1 Axes>"
      ]
     },
     "metadata": {
      "needs_background": "light"
     },
     "output_type": "display_data"
    },
    {
     "name": "stdout",
     "output_type": "stream",
     "text": [
      "\n",
      "\u001b[91mAUC (Train): \u001b[0m\u001b[1m0.9932260301946182\u001b[0m\n",
      "\n",
      "\u001b[91mAUC (Test): \u001b[0m\u001b[1m0.9543894973482199\u001b[0m\n",
      "\n",
      "\u001b[91mF1 SCORE (Train) : \u001b[0m\u001b[1m0.9733745146137269\u001b[0m\n",
      "\n",
      "\u001b[91mF1 SCORE (Test) : \u001b[0m\u001b[1m0.949346896312565\u001b[0m\n",
      "\n",
      "\u001b[91mRECALL (Train): \u001b[0m\u001b[1m0.9517945929148539\u001b[0m\n",
      "\n",
      "\u001b[91mRECALL (Test): \u001b[0m\u001b[1m0.9288816503800217\u001b[0m\n",
      "\n",
      "\u001b[91mPRECISION  (Train) : \u001b[0m\u001b[1m0.9959556955593943\u001b[0m\n",
      "\n",
      "\u001b[91mPRECISION  (Test) : \u001b[0m\u001b[1m0.970734244243771\u001b[0m\n"
     ]
    }
   ],
   "source": [
    "optimal_alpha = bow_train.best_params_.get('C')\n",
    "\n",
    "optimal_lr_L2 = LogisticRegression(C=optimal_alpha, class_weight='balanced', dual=False,\n",
    "          fit_intercept=True, intercept_scaling=1, max_iter=100,\n",
    "          multi_class='warn', n_jobs=-1, penalty='l2', random_state=0,\n",
    "          solver='warn', tol=0.0001, verbose=0, warm_start=False)\n",
    "\n",
    "# fitting the model\n",
    "optimal_lr_L2.fit(X_train_bow,y_train)\n",
    "\n",
    "# predict the response\n",
    "test_pred = optimal_lr_L2.predict(x_test_bow)\n",
    "train_pred = optimal_lr_L2.predict(X_train_bow)\n",
    "\n",
    "print('\\n'+color.RED+'Optimal best alpha is : '+color.END+color.BOLD+str(optimal_alpha)+color.END)\n",
    "\n",
    "# plot confusion matrix\n",
    "\n",
    "print('\\n'+color.BOLD +'Confusion Matrix for Train data'+color.END)\n",
    "plotConfusionMatrix(y_train,train_pred)\n",
    "\n",
    "print('\\n'+color.BOLD +'Confusion Matrix for Test data'+color.END)\n",
    "plotConfusionMatrix(y_test,test_pred)\n",
    "\n",
    "# plot AUC\n",
    "train_auc,test_auc = plotAUC_ROC(optimal_lr_L2,X_train_bow, y_train,x_test_bow, y_test )\n",
    "print('\\n'+color.RED+'AUC (Train): '+color.END+color.BOLD+str(train_auc)+color.END)\n",
    "print('\\n'+color.RED+'AUC (Test): '+color.END+color.BOLD+str(test_auc)+color.END)\n",
    "\n",
    "# f1 score\n",
    "score = f1_score(y_test,test_pred)\n",
    "print('\\n'+color.RED+'F1 SCORE (Train) : '+color.END+color.BOLD+str(f1_score(y_train,train_pred))+color.END)\n",
    "print('\\n'+color.RED+'F1 SCORE (Test) : '+color.END+color.BOLD+str(score)+color.END)\n",
    "\n",
    "# recall\n",
    "recall = metrics.recall_score(y_test, test_pred)\n",
    "print('\\n'+color.RED+'RECALL (Train): '+color.END+color.BOLD+str(metrics.recall_score(y_train, train_pred))+color.END)\n",
    "print('\\n'+color.RED+'RECALL (Test): '+color.END+color.BOLD+str(recall)+color.END)\n",
    "\n",
    "# precision\n",
    "precision = metrics.precision_score(y_test, test_pred)\n",
    "print('\\n'+color.RED+'PRECISION  (Train) : '+color.END+color.BOLD+str(metrics.precision_score(y_train, train_pred))+color.END)\n",
    "print('\\n'+color.RED+'PRECISION  (Test) : '+color.END+color.BOLD+str(precision)+color.END)"
   ]
  },
  {
   "cell_type": "markdown",
   "metadata": {},
   "source": [
    "### Top 10 important features of positive class\n",
    "### Top 10 important features of negative class"
   ]
  },
  {
   "cell_type": "code",
   "execution_count": 34,
   "metadata": {},
   "outputs": [
    {
     "name": "stdout",
     "output_type": "stream",
     "text": [
      "\u001b[1mImportant words in negative reviews\n",
      "\u001b[0m\n",
      "-2.400606018512812 not worth\n",
      "-2.284585213544531 worst\n",
      "-2.1598353014059155 not recommend\n",
      "-2.0737712926231207 disappointing\n",
      "-1.9845486432905277 rip\n",
      "-1.888282378277612 two stars\n",
      "-1.8589848847676638 disappointment\n",
      "-1.7885460261825736 disappointed\n",
      "-1.7721594831212173 not happy\n",
      "-1.6381050066270364 definitely not\n",
      "-----------------------------------------\n",
      "\n",
      "\u001b[1mImportant words in positive reviews\n",
      "\u001b[0m\n",
      "3.4147735830187753 not disappointed\n",
      "2.1566946899804167 pleasantly\n",
      "1.6845859816976225 not bitter\n",
      "1.6486653587542444 hooked\n",
      "1.541704086540122 yummy\n",
      "1.5311706680175912 delicious\n",
      "1.5278140542800749 perfect\n",
      "1.4398713231834108 excellent\n",
      "1.3604636271016937 awesome\n",
      "1.3481272069764434 right amount\n"
     ]
    }
   ],
   "source": [
    "show_most_informative_features(count_vect.get_feature_names(), optimal_lr_L1, 10)"
   ]
  },
  {
   "cell_type": "markdown",
   "metadata": {},
   "source": [
    "### Sparsitiy"
   ]
  },
  {
   "cell_type": "code",
   "execution_count": 35,
   "metadata": {},
   "outputs": [
    {
     "name": "stdout",
     "output_type": "stream",
     "text": [
      "\n",
      "\u001b[91mNON ZERO weights for L1 Regularizer: \u001b[0m\u001b[1m1363\u001b[0m\n",
      "\n",
      "\u001b[91mNON ZERO weights for L2 Regularizer : \u001b[0m\u001b[1m36487\u001b[0m\n"
     ]
    }
   ],
   "source": [
    "# non zero\n",
    "print(\"\\n\"+color.RED+\"NON ZERO weights for L1 Regularizer: \"+color.END+color.BOLD+ str(np.count_nonzero(optimal_lr_L1.coef_))+color.END)\n",
    "# non zero\n",
    "print(\"\\n\"+color.RED+\"NON ZERO weights for L2 Regularizer : \"+color.END+color.BOLD+ str(np.count_nonzero(optimal_lr_L2.coef_))+color.END)"
   ]
  },
  {
   "cell_type": "markdown",
   "metadata": {},
   "source": [
    "### Multicolinearity check using pertubation test"
   ]
  },
  {
   "cell_type": "code",
   "execution_count": 36,
   "metadata": {},
   "outputs": [
    {
     "name": "stderr",
     "output_type": "stream",
     "text": [
      "/home/pranay/anaconda3/lib/python3.7/site-packages/sklearn/linear_model/logistic.py:1297: UserWarning: 'n_jobs' > 1 does not have any effect when 'solver' is set to 'liblinear'. Got 'n_jobs' = 4.\n",
      "  \" = {}.\".format(effective_n_jobs(self.n_jobs)))\n"
     ]
    }
   ],
   "source": [
    "# https://docs.scipy.org/doc/scipy/reference/generated/scipy.sparse.find.html\n",
    "# https://docs.scipy.org/doc/scipy/reference/generated/scipy.sparse.csr_matrix.html\n",
    "\n",
    "from scipy.stats import uniform\n",
    "from scipy.sparse import find\n",
    "X_train_noise = X_train_bow\n",
    "\n",
    "#Random noise\n",
    "epsilon = np.random.uniform(low=-0.0001, high=0.0001, size=(find(X_train_noise)[0].size,))\n",
    "\n",
    "# find --> I,J, and V contain the row indices, column indices, and values of the nonzero matrix entries.\n",
    "I,J,V = find(X_train_noise)\n",
    "\n",
    "#Introducing random noise to non-zero datapoints\n",
    "X_train_noise[I,J] = epsilon + X_train_noise[I,J]\n",
    "\n",
    "optimal_lr_noise = LogisticRegression(C=0.1, class_weight='balanced', dual=False,\n",
    "          fit_intercept=True, intercept_scaling=1, max_iter=100,\n",
    "          multi_class='warn', n_jobs=-1, penalty='l1', random_state=0,\n",
    "          solver='warn', tol=0.0001, verbose=0, warm_start=False)\n",
    "\n",
    "# fit noisy data\n",
    "optimal_lr_noise.fit(X_train_noise,y_train)\n",
    "\n",
    "y_pred = optimal_lr_noise.predict(x_test_bow)\n",
    "\n",
    "# Vector WITHOUT noisy\n",
    "W_before_epsilon = optimal_lr_L1.coef_\n",
    "\n",
    "\n",
    "# Vector WITH noisy\n",
    "W_after_epsilon = optimal_lr_noise.coef_\n",
    "\n",
    "# adding small very eps to W_before_epsilon (to eliminate the divisible by zero error)\n",
    "W_before_epsilon += W_before_epsilon + 1e-6\n",
    "W_after_epsilon += W_after_epsilon + 1e-6\n",
    "\n",
    "percentage_change_vector = abs( (W_before_epsilon-W_after_epsilon) / (W_before_epsilon) )*100"
   ]
  },
  {
   "cell_type": "code",
   "execution_count": 37,
   "metadata": {},
   "outputs": [
    {
     "name": "stderr",
     "output_type": "stream",
     "text": [
      "/home/pranay/anaconda3/lib/python3.7/site-packages/matplotlib/cbook/__init__.py:424: MatplotlibDeprecationWarning: \n",
      "Passing one of 'on', 'true', 'off', 'false' as a boolean is deprecated; use an actual boolean (True/False) instead.\n",
      "  warn_deprecated(\"2.2\", \"Passing one of 'on', 'true', 'off', 'false' as a \"\n",
      "No handles with labels found to put in legend.\n"
     ]
    },
    {
     "name": "stdout",
     "output_type": "stream",
     "text": [
      "0 th percentile :  0.0\n",
      "10 th percentile :  0.0\n",
      "20 th percentile :  0.0\n",
      "30 th percentile :  0.0\n",
      "40 th percentile :  0.0\n",
      "50 th percentile :  0.0\n",
      "60 th percentile :  0.0\n",
      "70 th percentile :  0.0\n",
      "80 th percentile :  0.0\n",
      "90 th percentile :  0.0\n",
      "100 th percentile :  153251830.22843093\n"
     ]
    },
    {
     "data": {
      "image/png": "[encoded data removed]",
      "text/plain": [
       "<Figure size 432x288 with 1 Axes>"
      ]
     },
     "metadata": {
      "needs_background": "light"
     },
     "output_type": "display_data"
    }
   ],
   "source": [
    "feature_range = range(0,101,10)\n",
    "for i in feature_range:\n",
    "    print(i, \"th percentile : \",np.percentile(percentage_change_vector,i))\n",
    "\n",
    "# Change in vectors after adding epsilon\n",
    "# Sort this change_vector array after making all the elements positive in ascending order to visualize the change\n",
    "sorted_change_vector = np.sort(np.absolute(percentage_change_vector))[:,::-1]\n",
    "range_graph = sorted_change_vector.shape[1]\n",
    "weight_drop = sorted_change_vector[0,0:range_graph]\n",
    "ar = np.arange(range_graph) # just as an example array\n",
    "plt.semilogx(ar, np.zeros_like(ar) + weight_drop, 'x')\n",
    "plt.title('Multi-colinearity')\n",
    "plt.xlabel('Change Vector')\n",
    "plt.ylabel('Weight')\n",
    "plt.grid('on')\n",
    "plt.legend()\n",
    "plt.show()"
   ]
  },
  {
   "cell_type": "code",
   "execution_count": 38,
   "metadata": {},
   "outputs": [
    {
     "name": "stdout",
     "output_type": "stream",
     "text": [
      "90 th percentile :  0.0\n",
      "91 th percentile :  0.0\n",
      "92 th percentile :  0.0\n",
      "93 th percentile :  0.0\n",
      "94 th percentile :  0.0\n",
      "95 th percentile :  0.0\n",
      "96 th percentile :  18.747859460330154\n",
      "97 th percentile :  60.300373312143094\n",
      "98 th percentile :  100.00015900251142\n",
      "99 th percentile :  1847.587590853798\n",
      "100 th percentile :  153251830.22843093\n"
     ]
    }
   ],
   "source": [
    "feature_range = range(90,101,1)\n",
    "for i in feature_range:\n",
    "    print(i, \"th percentile : \",np.percentile(percentage_change_vector,i))"
   ]
  },
  {
   "cell_type": "code",
   "execution_count": 39,
   "metadata": {},
   "outputs": [
    {
     "name": "stdout",
     "output_type": "stream",
     "text": [
      "99.0 th percentile :  1847.587590853798\n",
      "99.11111111111111 th percentile :  2618928.839099335\n",
      "99.22222222222223 th percentile :  6220160.50884307\n",
      "99.33333333333333 th percentile :  10685960.462668365\n",
      "99.44444444444444 th percentile :  14706099.515865125\n",
      "99.55555555555556 th percentile :  22289521.513356917\n",
      "99.66666666666667 th percentile :  29555938.969730396\n",
      "99.77777777777777 th percentile :  42302776.875304565\n",
      "99.88888888888889 th percentile :  64076925.07764573\n",
      "100.0 th percentile :  153251830.22843093\n"
     ]
    }
   ],
   "source": [
    "feature_range = np.linspace(99,100,10)\n",
    "for i in feature_range:\n",
    "    print(i, \"th percentile : \",np.percentile(percentage_change_vector,i))"
   ]
  },
  {
   "cell_type": "code",
   "execution_count": 98,
   "metadata": {},
   "outputs": [
    {
     "name": "stdout",
     "output_type": "stream",
     "text": [
      "Features are not changing much after 95,skip those features and check the difference, which is (in %) : 98.30624606024062\n"
     ]
    }
   ],
   "source": [
    "diff = (abs(W_before_epsilon - W_after_epsilon)/W_before_epsilon) * 100\n",
    "q = diff[np.where(diff > 95)].size\n",
    "print(\"Features are not changing much after 95,skip those features and check the difference, which is (in %) :\",(W_before_epsilon.size - q)/W_before_epsilon.size*100)"
   ]
  },
  {
   "cell_type": "markdown",
   "metadata": {},
   "source": [
    "### Feature Engineering\n",
    "\n",
    "Till now we only consider Text review as feature, we are adding some extra feature like __review summary__ and __number of words__ in review and test our model improves efficiency or not.\n",
    "\n",
    "We have considered on 50000 points due to memory issue."
   ]
  },
  {
   "cell_type": "code",
   "execution_count": 41,
   "metadata": {},
   "outputs": [
    {
     "name": "stdout",
     "output_type": "stream",
     "text": [
      "(35000, 13) (15000, 13) (35000,) (15000,)\n"
     ]
    },
    {
     "name": "stderr",
     "output_type": "stream",
     "text": [
      "/home/pranay/anaconda3/lib/python3.7/site-packages/sklearn/linear_model/logistic.py:1297: UserWarning: 'n_jobs' > 1 does not have any effect when 'solver' is set to 'liblinear'. Got 'n_jobs' = 4.\n",
      "  \" = {}.\".format(effective_n_jobs(self.n_jobs)))\n"
     ]
    },
    {
     "name": "stdout",
     "output_type": "stream",
     "text": [
      "\n",
      "\u001b[1mConfusion Matrix for Train data\u001b[0m\n"
     ]
    },
    {
     "data": {
      "image/png": "[encoded data removed]",
      "text/plain": [
       "<Figure size 432x288 with 2 Axes>"
      ]
     },
     "metadata": {
      "needs_background": "light"
     },
     "output_type": "display_data"
    },
    {
     "name": "stdout",
     "output_type": "stream",
     "text": [
      "\n",
      "\u001b[1mConfusion Matrix for Test data\u001b[0m\n"
     ]
    },
    {
     "data": {
      "image/png": "[encoded data removed]",
      "text/plain": [
       "<Figure size 432x288 with 2 Axes>"
      ]
     },
     "metadata": {
      "needs_background": "light"
     },
     "output_type": "display_data"
    },
    {
     "data": {
      "image/png": "[encoded data removed]",
      "text/plain": [
       "<Figure size 432x288 with 1 Axes>"
      ]
     },
     "metadata": {
      "needs_background": "light"
     },
     "output_type": "display_data"
    },
    {
     "name": "stdout",
     "output_type": "stream",
     "text": [
      "\n",
      "\u001b[91mAUC (Train): \u001b[0m\u001b[1m0.9960767965097188\u001b[0m\n",
      "\n",
      "\u001b[91mAUC (Test): \u001b[0m\u001b[1m0.9662714446947331\u001b[0m\n",
      "\n",
      "\u001b[91mF1 SCORE (Train) : \u001b[0m\u001b[1m0.981389108672469\u001b[0m\n",
      "\n",
      "\u001b[91mF1 SCORE (Test) : \u001b[0m\u001b[1m0.9579859013091642\u001b[0m\n",
      "\n",
      "\u001b[91mRECALL (Train): \u001b[0m\u001b[1m0.9653492149431511\u001b[0m\n",
      "\n",
      "\u001b[91mRECALL (Test): \u001b[0m\u001b[1m0.9420852479797179\u001b[0m\n",
      "\n",
      "\u001b[91mPRECISION  (Train) : \u001b[0m\u001b[1m0.9979710347722661\u001b[0m\n",
      "\n",
      "\u001b[91mPRECISION  (Test) : \u001b[0m\u001b[1m0.9744325165942801\u001b[0m\n"
     ]
    }
   ],
   "source": [
    "# https://sondosatwi.wordpress.com/2017/08/01/using-text-data-and-dataframemapper-in-python/\n",
    "\n",
    "X = final[:50000]\n",
    "y = final['Score'][:50000]\n",
    "\n",
    "# split the data set into train and test\n",
    "X_train, x_test, y_train, y_test = model_selection.train_test_split(X, y, test_size=0.3,random_state=0)\n",
    "\n",
    "print(X_train.shape, x_test.shape, y_train.shape, y_test.shape)\n",
    "\n",
    "mapper = DataFrameMapper([\n",
    "     ('preprocessed_reviews', CountVectorizer(ngram_range=(1,3), min_df=10)),\n",
    "     ('preprocessed_summary', CountVectorizer(ngram_range=(1,3), min_df=10)),\n",
    "     ('numbers_of_words', None),\n",
    " ])\n",
    "\n",
    "train_features = mapper.fit_transform(X_train)\n",
    "test_features = mapper.transform(x_test)\n",
    "\n",
    "optimal_alpha = bow_train.best_params_.get('C')\n",
    "\n",
    "optimal_lr = LogisticRegression(C=optimal_alpha, class_weight='balanced', dual=False,\n",
    "          fit_intercept=True, intercept_scaling=1, max_iter=100,\n",
    "          multi_class='warn', n_jobs=-1, penalty='l2', random_state=0,\n",
    "          solver='warn', tol=0.0001, verbose=0, warm_start=False)\n",
    "\n",
    "# fitting the model\n",
    "optimal_lr.fit(train_features,y_train)\n",
    "\n",
    "# predict the response\n",
    "test_pred = optimal_lr.predict(test_features)\n",
    "train_pred = optimal_lr.predict(train_features)\n",
    "\n",
    "# plot confusion matrix\n",
    "\n",
    "print('\\n'+color.BOLD +'Confusion Matrix for Train data'+color.END)\n",
    "plotConfusionMatrix(y_train,train_pred)\n",
    "\n",
    "print('\\n'+color.BOLD +'Confusion Matrix for Test data'+color.END)\n",
    "plotConfusionMatrix(y_test,test_pred)\n",
    "\n",
    "# plot AUC\n",
    "train_auc,test_auc = plotAUC_ROC(optimal_lr,train_features, y_train,test_features, y_test )\n",
    "print('\\n'+color.RED+'AUC (Train): '+color.END+color.BOLD+str(train_auc)+color.END)\n",
    "print('\\n'+color.RED+'AUC (Test): '+color.END+color.BOLD+str(test_auc)+color.END)\n",
    "\n",
    "# f1 score\n",
    "score = f1_score(y_test,test_pred)\n",
    "print('\\n'+color.RED+'F1 SCORE (Train) : '+color.END+color.BOLD+str(f1_score(y_train,train_pred))+color.END)\n",
    "print('\\n'+color.RED+'F1 SCORE (Test) : '+color.END+color.BOLD+str(score)+color.END)\n",
    "\n",
    "# recall\n",
    "recall = metrics.recall_score(y_test, test_pred)\n",
    "print('\\n'+color.RED+'RECALL (Train): '+color.END+color.BOLD+str(metrics.recall_score(y_train, train_pred))+color.END)\n",
    "print('\\n'+color.RED+'RECALL (Test): '+color.END+color.BOLD+str(recall)+color.END)\n",
    "\n",
    "# precision\n",
    "precision = metrics.precision_score(y_test, test_pred)\n",
    "print('\\n'+color.RED+'PRECISION  (Train) : '+color.END+color.BOLD+str(metrics.precision_score(y_train, train_pred))+color.END)\n",
    "print('\\n'+color.RED+'PRECISION  (Test) : '+color.END+color.BOLD+str(precision)+color.END)"
   ]
  },
  {
   "cell_type": "markdown",
   "metadata": {},
   "source": [
    "It can be observed that using __review summary__ and __numbers of word__ in review text, AUC value has increase. Without feature engineering it was __0.947__ and with feature engineering its __0.96627__"
   ]
  },
  {
   "cell_type": "code",
   "execution_count": 42,
   "metadata": {},
   "outputs": [
    {
     "name": "stdout",
     "output_type": "stream",
     "text": [
      "\u001b[1mImportant words in negative reviews\n",
      "\u001b[0m\n",
      "-1.8544229030855808 not\n",
      "-1.541873509705295 not good\n",
      "-1.3909389284357616 disappointed\n",
      "-1.3744626023302036 worst\n",
      "-1.2720116076879624 disappointed\n",
      "-1.21383618399322 not worth\n",
      "-1.1961239087510251 disappointing\n",
      "-1.14327861492653 terrible\n",
      "-1.1103088219439883 horrible\n",
      "-1.0972134846411266 not recommend\n",
      "-----------------------------------------\n",
      "\n",
      "\u001b[1mImportant words in positive reviews\n",
      "\u001b[0m\n",
      "1.873319655948151 best\n",
      "1.7685304439378438 great\n",
      "1.7263636609204331 excellent\n",
      "1.6201664612153495 delicious\n",
      "1.4997014410948841 good\n",
      "1.4613373003414647 not bad\n",
      "1.442104914837869 yummy\n",
      "1.3870496978934115 delicious\n",
      "1.2613129890091792 love\n",
      "1.2400271944266943 tasty\n"
     ]
    }
   ],
   "source": [
    "merged_features_vectorizer = mapper.features[0][1].get_feature_names() + mapper.features[1][1].get_feature_names()\n",
    "show_most_informative_features(merged_features_vectorizer, optimal_lr, 10)"
   ]
  },
  {
   "cell_type": "markdown",
   "metadata": {
    "colab_type": "text",
    "id": "-cEEpDx0LPoZ"
   },
   "source": [
    "## [4.3] TF-IDF"
   ]
  },
  {
   "cell_type": "code",
   "execution_count": 43,
   "metadata": {
    "colab": {},
    "colab_type": "code",
    "id": "TgP61HqBLPoa",
    "outputId": "15f1c123-d93b-414d-914b-d4e3f32a6ac1"
   },
   "outputs": [
    {
     "name": "stdout",
     "output_type": "stream",
     "text": [
      "(61441,) (26332,) (61441,) (26332,)\n",
      "X_train_tfidf (61441, 40217)\n",
      "==============================\n",
      "x_test_tfidf (26332, 40217)\n"
     ]
    }
   ],
   "source": [
    "X = final['preprocessed_reviews']\n",
    "y = final['Score']\n",
    "\n",
    "# split the data set into train and test\n",
    "X_train, x_test, y_train, y_test = model_selection.train_test_split(X, y, test_size=0.3,random_state=0)\n",
    "\n",
    "print(X_train.shape, x_test.shape, y_train.shape, y_test.shape)\n",
    "\n",
    "tf_idf_vect = TfidfVectorizer(ngram_range=(1,3), min_df=10) #in scikit-learn\n",
    "\n",
    "# train data\n",
    "X_train_tfidf = tf_idf_vect.fit_transform(X_train)\n",
    "\n",
    "# test data\n",
    "x_test_tfidf = tf_idf_vect.transform(x_test)\n",
    "\n",
    "print('X_train_tfidf', X_train_tfidf.shape)\n",
    "print('==='*10)\n",
    "print('x_test_tfidf', x_test_tfidf.shape)"
   ]
  },
  {
   "cell_type": "markdown",
   "metadata": {},
   "source": [
    "##  Applying Logistic Regression on TFIDF"
   ]
  },
  {
   "cell_type": "code",
   "execution_count": 44,
   "metadata": {},
   "outputs": [
    {
     "name": "stdout",
     "output_type": "stream",
     "text": [
      "Fitting 10 folds for each of 21 candidates, totalling 210 fits\n"
     ]
    },
    {
     "name": "stderr",
     "output_type": "stream",
     "text": [
      "[Parallel(n_jobs=-1)]: Using backend LokyBackend with 4 concurrent workers.\n",
      "[Parallel(n_jobs=-1)]: Batch computation too fast (0.0852s.) Setting batch_size=4.\n",
      "[Parallel(n_jobs=-1)]: Done   5 tasks      | elapsed:    0.3s\n",
      "[Parallel(n_jobs=-1)]: Done  16 tasks      | elapsed:    1.0s\n",
      "[Parallel(n_jobs=-1)]: Done  44 tasks      | elapsed:    3.9s\n",
      "[Parallel(n_jobs=-1)]: Batch computation too slow (2.0862s.) Setting batch_size=2.\n",
      "[Parallel(n_jobs=-1)]: Done  72 tasks      | elapsed:    6.6s\n",
      "[Parallel(n_jobs=-1)]: Batch computation too slow (2.7629s.) Setting batch_size=1.\n",
      "[Parallel(n_jobs=-1)]: Done  90 tasks      | elapsed:    9.0s\n",
      "[Parallel(n_jobs=-1)]: Done 101 tasks      | elapsed:   10.6s\n",
      "[Parallel(n_jobs=-1)]: Done 112 tasks      | elapsed:   12.5s\n",
      "[Parallel(n_jobs=-1)]: Done 123 tasks      | elapsed:   14.6s\n",
      "[Parallel(n_jobs=-1)]: Done 136 tasks      | elapsed:   17.0s\n",
      "[Parallel(n_jobs=-1)]: Done 149 tasks      | elapsed:   20.0s\n",
      "[Parallel(n_jobs=-1)]: Done 164 tasks      | elapsed:   23.9s\n",
      "[Parallel(n_jobs=-1)]: Done 179 tasks      | elapsed:   28.6s\n",
      "[Parallel(n_jobs=-1)]: Done 196 tasks      | elapsed:   35.0s\n",
      "[Parallel(n_jobs=-1)]: Done 210 out of 210 | elapsed:   43.0s finished\n",
      "/home/pranay/anaconda3/lib/python3.7/site-packages/sklearn/linear_model/logistic.py:1297: UserWarning: 'n_jobs' > 1 does not have any effect when 'solver' is set to 'liblinear'. Got 'n_jobs' = 4.\n",
      "  \" = {}.\".format(effective_n_jobs(self.n_jobs)))\n"
     ]
    },
    {
     "name": "stdout",
     "output_type": "stream",
     "text": [
      "=======Training========\n",
      "0.9569158183079963\n",
      "{'C': 5}\n",
      "LogisticRegression(C=5, class_weight='balanced', dual=False,\n",
      "          fit_intercept=True, intercept_scaling=1, max_iter=100,\n",
      "          multi_class='warn', n_jobs=-1, penalty='l2', random_state=1,\n",
      "          solver='warn', tol=0.0001, verbose=0, warm_start=False)\n"
     ]
    },
    {
     "name": "stderr",
     "output_type": "stream",
     "text": [
      "/home/pranay/anaconda3/lib/python3.7/site-packages/matplotlib/cbook/__init__.py:424: MatplotlibDeprecationWarning: \n",
      "Passing one of 'on', 'true', 'off', 'false' as a boolean is deprecated; use an actual boolean (True/False) instead.\n",
      "  warn_deprecated(\"2.2\", \"Passing one of 'on', 'true', 'off', 'false' as a \"\n"
     ]
    },
    {
     "data": {
      "image/png": "[encoded data removed]",
      "text/plain": [
       "<Figure size 432x288 with 1 Axes>"
      ]
     },
     "metadata": {
      "needs_background": "light"
     },
     "output_type": "display_data"
    }
   ],
   "source": [
    "tfidf_train = finding_best_lambda(X_train_tfidf,y_train)\n",
    "\n",
    "# view the complete results (list of named tuples)\n",
    "print(\"=======Training========\")\n",
    "print (tfidf_train.best_score_)\n",
    "print (tfidf_train.best_params_)\n",
    "print (tfidf_train.best_estimator_)\n",
    "\n",
    "plotAccuracyGraph(tfidf_train)"
   ]
  },
  {
   "cell_type": "markdown",
   "metadata": {},
   "source": [
    "### Applying Logistic Regression with L1 regularization on TFIDF"
   ]
  },
  {
   "cell_type": "code",
   "execution_count": 78,
   "metadata": {},
   "outputs": [
    {
     "name": "stdout",
     "output_type": "stream",
     "text": [
      "\n",
      "\u001b[91mOptimal best alpha is : \u001b[0m\u001b[1m5\u001b[0m\n",
      "[LibLinear]"
     ]
    },
    {
     "name": "stderr",
     "output_type": "stream",
     "text": [
      "/home/pranay/anaconda3/lib/python3.7/site-packages/sklearn/linear_model/logistic.py:1297: UserWarning: 'n_jobs' > 1 does not have any effect when 'solver' is set to 'liblinear'. Got 'n_jobs' = 4.\n",
      "  \" = {}.\".format(effective_n_jobs(self.n_jobs)))\n"
     ]
    },
    {
     "name": "stdout",
     "output_type": "stream",
     "text": [
      "\n",
      "\u001b[1mConfusion Matrix for Train data\u001b[0m\n"
     ]
    },
    {
     "data": {
      "image/png": "[encoded data removed]",
      "text/plain": [
       "<Figure size 432x288 with 2 Axes>"
      ]
     },
     "metadata": {
      "needs_background": "light"
     },
     "output_type": "display_data"
    },
    {
     "name": "stdout",
     "output_type": "stream",
     "text": [
      "\n",
      "\u001b[1mConfusion Matrix for Test data\u001b[0m\n"
     ]
    },
    {
     "data": {
      "image/png": "[encoded data removed]",
      "text/plain": [
       "<Figure size 432x288 with 2 Axes>"
      ]
     },
     "metadata": {
      "needs_background": "light"
     },
     "output_type": "display_data"
    },
    {
     "data": {
      "image/png": "[encoded data removed]",
      "text/plain": [
       "<Figure size 432x288 with 1 Axes>"
      ]
     },
     "metadata": {
      "needs_background": "light"
     },
     "output_type": "display_data"
    },
    {
     "name": "stdout",
     "output_type": "stream",
     "text": [
      "\n",
      "\u001b[91mAUC (Train): \u001b[0m\u001b[1m0.9517942543518865\u001b[0m\n",
      "\n",
      "\u001b[91mAUC (Test): \u001b[0m\u001b[1m0.9432394512172781\u001b[0m\n",
      "\n",
      "\u001b[91mF1 SCORE (Train) : \u001b[0m\u001b[1m0.9225584396959702\u001b[0m\n",
      "\n",
      "\u001b[91mF1 SCORE (Test) : \u001b[0m\u001b[1m0.9189266479195464\u001b[0m\n",
      "\n",
      "\u001b[91mRECALL (Train): \u001b[0m\u001b[1m0.8745921379738968\u001b[0m\n",
      "\n",
      "\u001b[91mRECALL (Test): \u001b[0m\u001b[1m0.8722403184943902\u001b[0m\n",
      "\n",
      "\u001b[91mPRECISION  (Train) : \u001b[0m\u001b[1m0.9760913859626306\u001b[0m\n",
      "\n",
      "\u001b[91mPRECISION  (Test) : \u001b[0m\u001b[1m0.9708933427334072\u001b[0m\n"
     ]
    }
   ],
   "source": [
    "optimal_alpha = tfidf_train.best_params_.get('C')\n",
    "\n",
    "print('\\n'+color.RED+'Optimal best alpha is : '+color.END+color.BOLD+str(optimal_alpha)+color.END)\n",
    "\n",
    "optimal_lr_L1 = LogisticRegression(C=0.25, class_weight='balanced', dual=False,\n",
    "          fit_intercept=True, intercept_scaling=1, max_iter=100,\n",
    "          multi_class='warn', n_jobs=-1, penalty= 'l1', random_state=1,\n",
    "          solver='warn', tol=0.0001, verbose=1, warm_start=False)\n",
    "# fitting the model\n",
    "optimal_lr_L1.fit(X_train_tfidf,y_train)\n",
    "\n",
    "# predict the response\n",
    "test_pred = optimal_lr_L1.predict(x_test_tfidf)\n",
    "train_pred = optimal_lr_L1.predict(X_train_tfidf)\n",
    "\n",
    "# plot confusion matrix\n",
    "\n",
    "print('\\n'+color.BOLD +'Confusion Matrix for Train data'+color.END)\n",
    "plotConfusionMatrix(y_train,train_pred)\n",
    "\n",
    "print('\\n'+color.BOLD +'Confusion Matrix for Test data'+color.END)\n",
    "plotConfusionMatrix(y_test,test_pred)\n",
    "\n",
    "# plot AUC\n",
    "train_auc,test_auc = plotAUC_ROC(optimal_lr_L1,X_train_tfidf, y_train,x_test_tfidf, y_test )\n",
    "print('\\n'+color.RED+'AUC (Train): '+color.END+color.BOLD+str(train_auc)+color.END)\n",
    "print('\\n'+color.RED+'AUC (Test): '+color.END+color.BOLD+str(test_auc)+color.END)\n",
    "\n",
    "# f1 score\n",
    "score = f1_score(y_test,test_pred)\n",
    "print('\\n'+color.RED+'F1 SCORE (Train) : '+color.END+color.BOLD+str(f1_score(y_train,train_pred))+color.END)\n",
    "print('\\n'+color.RED+'F1 SCORE (Test) : '+color.END+color.BOLD+str(score)+color.END)\n",
    "\n",
    "# recall\n",
    "recall = metrics.recall_score(y_test, test_pred)\n",
    "print('\\n'+color.RED+'RECALL (Train): '+color.END+color.BOLD+str(metrics.recall_score(y_train, train_pred))+color.END)\n",
    "print('\\n'+color.RED+'RECALL (Test): '+color.END+color.BOLD+str(recall)+color.END)\n",
    "\n",
    "# precision\n",
    "precision = metrics.precision_score(y_test, test_pred)\n",
    "print('\\n'+color.RED+'PRECISION  (Train) : '+color.END+color.BOLD+str(metrics.precision_score(y_train, train_pred))+color.END)\n",
    "print('\\n'+color.RED+'PRECISION  (Test) : '+color.END+color.BOLD+str(precision)+color.END)"
   ]
  },
  {
   "cell_type": "markdown",
   "metadata": {},
   "source": [
    "### Applying Logistic Regression with L2 regularization on TFIDF"
   ]
  },
  {
   "cell_type": "code",
   "execution_count": 77,
   "metadata": {},
   "outputs": [
    {
     "name": "stdout",
     "output_type": "stream",
     "text": [
      "\n",
      "\u001b[91mOptimal best alpha is : \u001b[0m\u001b[1m5\u001b[0m\n",
      "[LibLinear]"
     ]
    },
    {
     "name": "stderr",
     "output_type": "stream",
     "text": [
      "/home/pranay/anaconda3/lib/python3.7/site-packages/sklearn/linear_model/logistic.py:1297: UserWarning: 'n_jobs' > 1 does not have any effect when 'solver' is set to 'liblinear'. Got 'n_jobs' = 4.\n",
      "  \" = {}.\".format(effective_n_jobs(self.n_jobs)))\n"
     ]
    },
    {
     "name": "stdout",
     "output_type": "stream",
     "text": [
      "\n",
      "\u001b[1mConfusion Matrix for Train data\u001b[0m\n"
     ]
    },
    {
     "data": {
      "image/png": "[encoded data removed]",
      "text/plain": [
       "<Figure size 432x288 with 2 Axes>"
      ]
     },
     "metadata": {
      "needs_background": "light"
     },
     "output_type": "display_data"
    },
    {
     "name": "stdout",
     "output_type": "stream",
     "text": [
      "\n",
      "\u001b[1mConfusion Matrix for Test data\u001b[0m\n"
     ]
    },
    {
     "data": {
      "image/png": "[encoded data removed]",
      "text/plain": [
       "<Figure size 432x288 with 2 Axes>"
      ]
     },
     "metadata": {
      "needs_background": "light"
     },
     "output_type": "display_data"
    },
    {
     "data": {
      "image/png": "[encoded data removed]",
      "text/plain": [
       "<Figure size 432x288 with 1 Axes>"
      ]
     },
     "metadata": {
      "needs_background": "light"
     },
     "output_type": "display_data"
    },
    {
     "name": "stdout",
     "output_type": "stream",
     "text": [
      "\n",
      "\u001b[91mAUC (Train): \u001b[0m\u001b[1m0.9732307120814002\u001b[0m\n",
      "\n",
      "\u001b[91mAUC (Test): \u001b[0m\u001b[1m0.9558588564388659\u001b[0m\n",
      "\n",
      "\u001b[91mF1 SCORE (Train) : \u001b[0m\u001b[1m0.9454677580516556\u001b[0m\n",
      "\n",
      "\u001b[91mF1 SCORE (Test) : \u001b[0m\u001b[1m0.9360392737180842\u001b[0m\n",
      "\n",
      "\u001b[91mRECALL (Train): \u001b[0m\u001b[1m0.9096876942200124\u001b[0m\n",
      "\n",
      "\u001b[91mRECALL (Test): \u001b[0m\u001b[1m0.9014205573651828\u001b[0m\n",
      "\n",
      "\u001b[91mPRECISION  (Train) : \u001b[0m\u001b[1m0.9841776806539051\u001b[0m\n",
      "\n",
      "\u001b[91mPRECISION  (Test) : \u001b[0m\u001b[1m0.9734232253651863\u001b[0m\n"
     ]
    }
   ],
   "source": [
    "optimal_alpha = tfidf_train.best_params_.get('C')\n",
    "\n",
    "print('\\n'+color.RED+'Optimal best alpha is : '+color.END+color.BOLD+str(optimal_alpha)+color.END)\n",
    "\n",
    "optimal_lr_L2 = LogisticRegression(C=0.25, class_weight='balanced', dual=False,\n",
    "          fit_intercept=True, intercept_scaling=1, max_iter=100,\n",
    "          multi_class='warn', n_jobs=-1, penalty= 'l2', random_state=1,\n",
    "          solver='warn', tol=0.0001, verbose=1, warm_start=False)\n",
    "# fitting the model\n",
    "optimal_lr_L2.fit(X_train_tfidf,y_train)\n",
    "\n",
    "# predict the response\n",
    "test_pred = optimal_lr_L2.predict(x_test_tfidf)\n",
    "train_pred = optimal_lr_L2.predict(X_train_tfidf)\n",
    "\n",
    "# plot confusion matrix\n",
    "\n",
    "print('\\n'+color.BOLD +'Confusion Matrix for Train data'+color.END)\n",
    "plotConfusionMatrix(y_train,train_pred)\n",
    "\n",
    "print('\\n'+color.BOLD +'Confusion Matrix for Test data'+color.END)\n",
    "plotConfusionMatrix(y_test,test_pred)\n",
    "\n",
    "# plot AUC\n",
    "train_auc,test_auc = plotAUC_ROC(optimal_lr_L2,X_train_tfidf, y_train,x_test_tfidf, y_test )\n",
    "print('\\n'+color.RED+'AUC (Train): '+color.END+color.BOLD+str(train_auc)+color.END)\n",
    "print('\\n'+color.RED+'AUC (Test): '+color.END+color.BOLD+str(test_auc)+color.END)\n",
    "\n",
    "# f1 score\n",
    "score = f1_score(y_test,test_pred)\n",
    "print('\\n'+color.RED+'F1 SCORE (Train) : '+color.END+color.BOLD+str(f1_score(y_train,train_pred))+color.END)\n",
    "print('\\n'+color.RED+'F1 SCORE (Test) : '+color.END+color.BOLD+str(score)+color.END)\n",
    "\n",
    "# recall\n",
    "recall = metrics.recall_score(y_test, test_pred)\n",
    "print('\\n'+color.RED+'RECALL (Train): '+color.END+color.BOLD+str(metrics.recall_score(y_train, train_pred))+color.END)\n",
    "print('\\n'+color.RED+'RECALL (Test): '+color.END+color.BOLD+str(recall)+color.END)\n",
    "\n",
    "# precision\n",
    "precision = metrics.precision_score(y_test, test_pred)\n",
    "print('\\n'+color.RED+'PRECISION  (Train) : '+color.END+color.BOLD+str(metrics.precision_score(y_train, train_pred))+color.END)\n",
    "print('\\n'+color.RED+'PRECISION  (Test) : '+color.END+color.BOLD+str(precision)+color.END)"
   ]
  },
  {
   "cell_type": "code",
   "execution_count": 79,
   "metadata": {},
   "outputs": [
    {
     "name": "stdout",
     "output_type": "stream",
     "text": [
      "\u001b[1mImportant words in negative reviews\n",
      "\u001b[0m\n",
      "-14.114648028322517 disappointed\n",
      "-13.349887987005994 worst\n",
      "-12.538581101588191 not worth\n",
      "-12.066794922704553 not recommend\n",
      "-10.918908138524769 disappointing\n",
      "-10.546870450505201 not good\n",
      "-10.266737830409385 disappointment\n",
      "-10.04600596547169 terrible\n",
      "-9.711163445381478 awful\n",
      "-9.65427103613546 unfortunately\n",
      "-----------------------------------------\n",
      "\n",
      "\u001b[1mImportant words in positive reviews\n",
      "\u001b[0m\n",
      "18.541721562618662 great\n",
      "16.39234175505932 not disappointed\n",
      "15.731065262295605 delicious\n",
      "14.392228464113455 perfect\n",
      "13.913293481992001 best\n",
      "11.64344612658123 good\n",
      "11.51605909605964 excellent\n",
      "11.196548458432302 loves\n",
      "10.982341333361717 wonderful\n",
      "10.063072934336851 nice\n"
     ]
    }
   ],
   "source": [
    "show_most_informative_features(tf_idf_vect.get_feature_names(), optimal_lr_L1, 10)"
   ]
  },
  {
   "cell_type": "markdown",
   "metadata": {},
   "source": [
    "### Feature Engineering\n",
    "\n",
    "Till now we only consider Text review as feature, we are adding some extra feature like __review summary__ and __number of words__ in review and test our model improves efficiency or not.\n",
    "\n",
    "We have considered on 50000 points due to memory issue."
   ]
  },
  {
   "cell_type": "code",
   "execution_count": 48,
   "metadata": {},
   "outputs": [
    {
     "name": "stdout",
     "output_type": "stream",
     "text": [
      "(35000, 13) (15000, 13) (35000,) (15000,)\n"
     ]
    },
    {
     "name": "stderr",
     "output_type": "stream",
     "text": [
      "/home/pranay/anaconda3/lib/python3.7/site-packages/sklearn/linear_model/logistic.py:1297: UserWarning: 'n_jobs' > 1 does not have any effect when 'solver' is set to 'liblinear'. Got 'n_jobs' = 4.\n",
      "  \" = {}.\".format(effective_n_jobs(self.n_jobs)))\n"
     ]
    },
    {
     "name": "stdout",
     "output_type": "stream",
     "text": [
      "\n",
      "\u001b[1mConfusion Matrix for Train data\u001b[0m\n"
     ]
    },
    {
     "data": {
      "image/png": "[encoded data removed]",
      "text/plain": [
       "<Figure size 432x288 with 2 Axes>"
      ]
     },
     "metadata": {
      "needs_background": "light"
     },
     "output_type": "display_data"
    },
    {
     "name": "stdout",
     "output_type": "stream",
     "text": [
      "\n",
      "\u001b[1mConfusion Matrix for Test data\u001b[0m\n"
     ]
    },
    {
     "data": {
      "image/png": "[encoded data removed]",
      "text/plain": [
       "<Figure size 432x288 with 2 Axes>"
      ]
     },
     "metadata": {
      "needs_background": "light"
     },
     "output_type": "display_data"
    },
    {
     "data": {
      "image/png": "[encoded data removed]",
      "text/plain": [
       "<Figure size 432x288 with 1 Axes>"
      ]
     },
     "metadata": {
      "needs_background": "light"
     },
     "output_type": "display_data"
    },
    {
     "name": "stdout",
     "output_type": "stream",
     "text": [
      "\n",
      "\u001b[91mAUC (Train): \u001b[0m\u001b[1m0.9987367025505502\u001b[0m\n",
      "\n",
      "\u001b[91mAUC (Test): \u001b[0m\u001b[1m0.9747590014311456\u001b[0m\n",
      "\n",
      "\u001b[91mF1 SCORE (Train) : \u001b[0m\u001b[1m0.9891939951441371\u001b[0m\n",
      "\n",
      "\u001b[91mF1 SCORE (Test) : \u001b[0m\u001b[1m0.9622891035146074\u001b[0m\n",
      "\n",
      "\u001b[91mRECALL (Train): \u001b[0m\u001b[1m0.9788508391987006\u001b[0m\n",
      "\n",
      "\u001b[91mRECALL (Test): \u001b[0m\u001b[1m0.9511963238789415\u001b[0m\n",
      "\n",
      "\u001b[91mPRECISION  (Train) : \u001b[0m\u001b[1m0.999758070090551\u001b[0m\n",
      "\n",
      "\u001b[91mPRECISION  (Test) : \u001b[0m\u001b[1m0.973643662314492\u001b[0m\n"
     ]
    }
   ],
   "source": [
    "# https://sondosatwi.wordpress.com/2017/08/01/using-text-data-and-dataframemapper-in-python/\n",
    "\n",
    "X = final[:50000]\n",
    "y = final['Score'][:50000]\n",
    "\n",
    "# split the data set into train and test\n",
    "X_train, x_test, y_train, y_test = model_selection.train_test_split(X, y, test_size=0.3,random_state=0)\n",
    "\n",
    "print(X_train.shape, x_test.shape, y_train.shape, y_test.shape)\n",
    "\n",
    "mapper = DataFrameMapper([\n",
    "     ('preprocessed_reviews', TfidfVectorizer(ngram_range=(1,2), min_df=10)),\n",
    "     ('preprocessed_summary', TfidfVectorizer(ngram_range=(1,2), min_df=10)),\n",
    "     ('numbers_of_words', None),\n",
    " ])\n",
    "\n",
    "train_features = mapper.fit_transform(X_train)\n",
    "test_features = mapper.transform(x_test)\n",
    "\n",
    "optimal_alpha = tfidf_train.best_params_.get('C')\n",
    "\n",
    "optimal_lr = LogisticRegression(C=optimal_alpha, class_weight='balanced', dual=False,\n",
    "          fit_intercept=True, intercept_scaling=1, max_iter=100,\n",
    "          multi_class='warn', n_jobs=-1, penalty='l2', random_state=0,\n",
    "          solver='warn', tol=0.0001, verbose=0, warm_start=False)\n",
    "\n",
    "# fitting the model\n",
    "optimal_lr.fit(train_features,y_train)\n",
    "\n",
    "# predict the response\n",
    "test_pred = optimal_lr.predict(test_features)\n",
    "train_pred = optimal_lr.predict(train_features)\n",
    "\n",
    "# plot confusion matrix\n",
    "\n",
    "print('\\n'+color.BOLD +'Confusion Matrix for Train data'+color.END)\n",
    "plotConfusionMatrix(y_train,train_pred)\n",
    "\n",
    "print('\\n'+color.BOLD +'Confusion Matrix for Test data'+color.END)\n",
    "plotConfusionMatrix(y_test,test_pred)\n",
    "\n",
    "# plot AUC\n",
    "train_auc,test_auc = plotAUC_ROC(optimal_lr,train_features, y_train,test_features, y_test )\n",
    "print('\\n'+color.RED+'AUC (Train): '+color.END+color.BOLD+str(train_auc)+color.END)\n",
    "print('\\n'+color.RED+'AUC (Test): '+color.END+color.BOLD+str(test_auc)+color.END)\n",
    "\n",
    "# f1 score\n",
    "score = f1_score(y_test,test_pred)\n",
    "print('\\n'+color.RED+'F1 SCORE (Train) : '+color.END+color.BOLD+str(f1_score(y_train,train_pred))+color.END)\n",
    "print('\\n'+color.RED+'F1 SCORE (Test) : '+color.END+color.BOLD+str(score)+color.END)\n",
    "\n",
    "# recall\n",
    "recall = metrics.recall_score(y_test, test_pred)\n",
    "print('\\n'+color.RED+'RECALL (Train): '+color.END+color.BOLD+str(metrics.recall_score(y_train, train_pred))+color.END)\n",
    "print('\\n'+color.RED+'RECALL (Test): '+color.END+color.BOLD+str(recall)+color.END)\n",
    "\n",
    "# precision\n",
    "precision = metrics.precision_score(y_test, test_pred)\n",
    "print('\\n'+color.RED+'PRECISION  (Train) : '+color.END+color.BOLD+str(metrics.precision_score(y_train, train_pred))+color.END)\n",
    "print('\\n'+color.RED+'PRECISION  (Test) : '+color.END+color.BOLD+str(precision)+color.END)"
   ]
  },
  {
   "cell_type": "markdown",
   "metadata": {},
   "source": [
    "It can be observed that using __review summary__ and __numbers of word__ in review text, AUC value has increase. Without feature engineering it was __0.94327__ and with feature engineering its __0.974759__"
   ]
  },
  {
   "cell_type": "code",
   "execution_count": 49,
   "metadata": {},
   "outputs": [
    {
     "name": "stdout",
     "output_type": "stream",
     "text": [
      "\u001b[1mImportant words in negative reviews\n",
      "\u001b[0m\n",
      "-9.857509030987528 disappointed\n",
      "-7.244593020001361 not\n",
      "-7.200016578121558 worst\n",
      "-6.903939712938978 disappointing\n",
      "-6.820379638917684 not worth\n",
      "-6.764746595058198 horrible\n",
      "-6.674548153793532 not recommend\n",
      "-6.391857740086196 not good\n",
      "-6.241702533771523 terrible\n",
      "-6.08989356023899 threw\n",
      "-----------------------------------------\n",
      "\n",
      "\u001b[1mImportant words in positive reviews\n",
      "\u001b[0m\n",
      "11.36860593542519 great\n",
      "9.98699691446001 delicious\n",
      "8.94103383916089 best\n",
      "8.450486514051818 good\n",
      "7.500938516056907 excellent\n",
      "7.14165100978573 loves\n",
      "7.096228695680909 wonderful\n",
      "6.95709813914174 not bad\n",
      "6.392061102694969 excellent\n",
      "6.303538999338141 love\n"
     ]
    }
   ],
   "source": [
    "merged_features_vectorizer = mapper.features[0][1].get_feature_names() + mapper.features[1][1].get_feature_names()\n",
    "show_most_informative_features(merged_features_vectorizer, optimal_lr, 10)"
   ]
  },
  {
   "cell_type": "markdown",
   "metadata": {
    "colab_type": "text",
    "id": "m3YEHTLPLPod"
   },
   "source": [
    "## [4.4] Word2Vec"
   ]
  },
  {
   "cell_type": "code",
   "execution_count": 50,
   "metadata": {},
   "outputs": [
    {
     "name": "stdout",
     "output_type": "stream",
     "text": [
      "(61441,) (26332,) (61441,) (26332,)\n"
     ]
    }
   ],
   "source": [
    "X = final['preprocessed_reviews']\n",
    "y = final['Score']\n",
    "\n",
    "# split the data set into train and test\n",
    "X_train, x_test, y_train, y_test = model_selection.train_test_split(X, y, test_size=0.3,random_state=0)\n",
    "\n",
    "print(X_train.shape, x_test.shape, y_train.shape, y_test.shape)"
   ]
  },
  {
   "cell_type": "code",
   "execution_count": 51,
   "metadata": {
    "colab": {},
    "colab_type": "code",
    "id": "zwPZCf8cLPoe"
   },
   "outputs": [],
   "source": [
    "# Train your own Word2Vec model using your own text corpus\n",
    "\n",
    "# Train data\n",
    "list_of_sentance=[]\n",
    "for sentance in X_train:\n",
    "    list_of_sentance.append(sentance.split())\n",
    "\n",
    "# Test data\n",
    "list_of_test_sentence = []\n",
    "for sentance in x_test:\n",
    "    list_of_test_sentence.append(sentance.split())"
   ]
  },
  {
   "cell_type": "code",
   "execution_count": 52,
   "metadata": {
    "colab": {},
    "colab_type": "code",
    "id": "8ddGZNUfLPog",
    "outputId": "390d4ccb-cda2-4391-83e9-0e502b578171",
    "scrolled": true
   },
   "outputs": [
    {
     "name": "stdout",
     "output_type": "stream",
     "text": [
      "[('awesome', 0.8481743931770325), ('fantastic', 0.8348914384841919), ('good', 0.8124116659164429), ('terrific', 0.7891563177108765), ('wonderful', 0.7837672829627991), ('excellent', 0.7761527299880981), ('perfect', 0.7479161024093628), ('amazing', 0.7405906915664673), ('nice', 0.6588971614837646), ('fabulous', 0.6407647132873535)]\n",
      "==================================================\n",
      "[('greatest', 0.7771077752113342), ('tastiest', 0.7046787142753601), ('best', 0.7011160850524902), ('nastiest', 0.6469311714172363), ('disgusting', 0.6378945708274841), ('experienced', 0.631453275680542), ('awful', 0.6187647581100464), ('closest', 0.6175501346588135), ('horrible', 0.595188319683075), ('hottest', 0.5755820274353027)]\n"
     ]
    }
   ],
   "source": [
    "# Using Google News Word2Vectors\n",
    "\n",
    "# in this project we are using a pretrained model by google\n",
    "# its 3.3G file, once you load this into your memory \n",
    "# it occupies ~9Gb, so please do this step only if you have >12G of ram\n",
    "# we will provide a pickle file wich contains a dict , \n",
    "# and it contains all our courpus words as keys and  model[word] as values\n",
    "# To use this code-snippet, download \"GoogleNews-vectors-negative300.bin\" \n",
    "# from https://drive.google.com/file/d/0B7XkCwpI5KDYNlNUTTlSS21pQmM/edit\n",
    "# it's 1.9GB in size.\n",
    "\n",
    "\n",
    "# http://kavita-ganesan.com/gensim-word2vec-tutorial-starter-code/#.W17SRFAzZPY\n",
    "# you can comment this whole cell\n",
    "# or change these varible according to your need\n",
    "\n",
    "is_your_ram_gt_16g=False\n",
    "want_to_use_google_w2v = False\n",
    "want_to_train_w2v = True\n",
    "\n",
    "if want_to_train_w2v:\n",
    "    # min_count = 5 considers only words that occured atleast 5 times\n",
    "    # train data\n",
    "    w2v_model_tr=Word2Vec(list_of_sentance,min_count=5,size=50, workers=4)\n",
    "    # train model on test data\n",
    "    w2v_model_test = Word2Vec(list_of_test_sentence,min_count=5,size=50, workers=4)\n",
    "    print(w2v_model_tr.wv.most_similar('great'))\n",
    "    print('='*50)\n",
    "    print(w2v_model_tr.wv.most_similar('worst'))\n",
    "    \n",
    "elif want_to_use_google_w2v and is_your_ram_gt_16g:\n",
    "    if os.path.isfile('GoogleNews-vectors-negative300.bin'):\n",
    "        w2v_model=KeyedVectors.load_word2vec_format('GoogleNews-vectors-negative300.bin', binary=True)\n",
    "        print(w2v_model.wv.most_similar('great'))\n",
    "        print(w2v_model.wv.most_similar('worst'))\n",
    "    else:\n",
    "        print(\"you don't have gogole's word2vec file, keep want_to_train_w2v = True, to train your own w2v \")"
   ]
  },
  {
   "cell_type": "code",
   "execution_count": 53,
   "metadata": {
    "colab": {},
    "colab_type": "code",
    "id": "bRWXmmnWLPoo",
    "outputId": "1cc345e7-d991-49b8-f1b7-a0d81f0b97e6"
   },
   "outputs": [
    {
     "name": "stdout",
     "output_type": "stream",
     "text": [
      "number of words that occured minimum 5 times  14910\n",
      "sample words  ['aroma', 'flavor', 'seem', 'fine', 'weak', 'value', 'used', 'entire', 'bottle', 'quart', 'home', 'made', 'ice', 'cream', 'people', 'guessing', 'not', 'enough', 'licorice', 'spent', 'twice', 'price', 'really', 'concentrated', 'would', 'great', 'never', 'waste', 'money', 'item', 'like', 'shampoo', 'know', 'necessarily', 'hair', 'definitely', 'cleans', 'scalp', 'well', 'also', 'thickest', 'lather', 'ever', 'hellman', 'arguably', 'absolute', 'finest', 'mass', 'market', 'mayonnaise']\n"
     ]
    }
   ],
   "source": [
    "# train data operation\n",
    "w2v_train_words = list(w2v_model_tr.wv.vocab)\n",
    "print(\"number of words that occured minimum 5 times \",len(w2v_train_words))\n",
    "print(\"sample words \", w2v_train_words[0:50])"
   ]
  },
  {
   "cell_type": "code",
   "execution_count": 54,
   "metadata": {},
   "outputs": [
    {
     "name": "stdout",
     "output_type": "stream",
     "text": [
      "number of words that occured minimum 5 times  9806\n",
      "sample words  ['used', 'use', 'cheaper', 'grocery', 'store', 'brands', 'two', 'cats', 'got', 'sick', 'no', 'idea', 'causing', 'changed', 'cat', 'food', 'anyway', 'love', 'healthy', 'made', 'good', 'cheese', 'corn', 'big', 'round', 'fresh', 'popcorn', 'evenly', 'seasoned', 'really', 'cheesy', 'flavor', 'not', 'salty', 'greasy', 'taste', 'sensational', 'ordering', 'disappointment', 'searching', 'awhile', 'find', 'flavored', 'water', 'artificial', 'sweetener', 'kind', 'saw', 'reviews', 'thought']\n"
     ]
    }
   ],
   "source": [
    "# test data operation\n",
    "w2v_test_words = list(w2v_model_test.wv.vocab)\n",
    "print(\"number of words that occured minimum 5 times \",len(w2v_test_words))\n",
    "print(\"sample words \", w2v_test_words[0:50])"
   ]
  },
  {
   "cell_type": "markdown",
   "metadata": {
    "colab_type": "text",
    "id": "TtWqibqfLPos"
   },
   "source": [
    "## [4.4.1] Converting text into vectors using Avg W2V, TFIDF-W2V"
   ]
  },
  {
   "cell_type": "markdown",
   "metadata": {
    "colab_type": "text",
    "id": "JriP5nZCLPot"
   },
   "source": [
    "#### [4.4.1.1] Avg W2v"
   ]
  },
  {
   "cell_type": "code",
   "execution_count": 57,
   "metadata": {
    "colab": {},
    "colab_type": "code",
    "id": "UnXI9NHTLPot",
    "outputId": "ecbe8256-9718-4bad-de33-e5ce1ee69038"
   },
   "outputs": [
    {
     "name": "stderr",
     "output_type": "stream",
     "text": [
      "  0%|          | 95/61441 [00:00<02:08, 476.02it/s]"
     ]
    },
    {
     "name": "stdout",
     "output_type": "stream",
     "text": [
      "not exist\n"
     ]
    },
    {
     "name": "stderr",
     "output_type": "stream",
     "text": [
      "100%|██████████| 61441/61441 [02:31<00:00, 405.92it/s]\n"
     ]
    },
    {
     "name": "stdout",
     "output_type": "stream",
     "text": [
      "61441\n",
      "50\n"
     ]
    },
    {
     "name": "stderr",
     "output_type": "stream",
     "text": [
      "  0%|          | 105/26332 [00:00<00:25, 1044.73it/s]"
     ]
    },
    {
     "name": "stdout",
     "output_type": "stream",
     "text": [
      "not exist\n"
     ]
    },
    {
     "name": "stderr",
     "output_type": "stream",
     "text": [
      "100%|██████████| 26332/26332 [00:37<00:00, 705.93it/s]\n"
     ]
    },
    {
     "name": "stdout",
     "output_type": "stream",
     "text": [
      "26332\n",
      "50\n"
     ]
    }
   ],
   "source": [
    "# average Word2Vec\n",
    "\n",
    "# train data operation\n",
    "exists = os.path.isfile(avg_w2v_trained_model_100000)\n",
    "if exists:\n",
    "    print(\"yes exist\")\n",
    "    final_w2v_train = load(avg_w2v_trained_model_100000)\n",
    "else:\n",
    "    print(\"not exist\")\n",
    "    # compute average word2vec for each review.\n",
    "    final_w2v_train = []; # the avg-w2v for each sentence/review is stored in this list\n",
    "    for sent in tqdm(list_of_sentance): # for each review/sentence\n",
    "        sent_vec = np.zeros(50) # as word vectors are of zero length 50, you might need to change this to 300 if you use google's w2v\n",
    "        cnt_words =0; # num of words with a valid vector in the sentence/review\n",
    "        for word in sent: # for each word in a review/sentence\n",
    "            if word in w2v_train_words:\n",
    "                vec = w2v_model_tr.wv[word]\n",
    "                sent_vec += vec\n",
    "                cnt_words += 1\n",
    "        if cnt_words != 0:\n",
    "            sent_vec /= cnt_words\n",
    "        final_w2v_train.append(sent_vec)\n",
    "    print(len(final_w2v_train))\n",
    "    print(len(final_w2v_train[0]))\n",
    "    dump(final_w2v_train,avg_w2v_trained_model_100000)\n",
    "\n",
    "\n",
    "# test data operation\n",
    "exists = os.path.isfile(avg_w2v_test_model_100000)\n",
    "if exists:\n",
    "    print(\"yes exist\")\n",
    "    final_w2v_test = load(avg_w2v_test_model_100000)\n",
    "else:\n",
    "    print(\"not exist\")\n",
    "    final_w2v_test = []; # the avg-w2v for each sentence/review is stored in this list\n",
    "    for sent in tqdm(list_of_test_sentence): # for each review/sentence\n",
    "        sent_vec = np.zeros(50) # as word vectors are of zero length 50, you might need to change this to 300 if you use google's w2v\n",
    "        cnt_words =0; # num of words with a valid vector in the sentence/review\n",
    "        for word in sent: # for each word in a review/sentence\n",
    "            if word in w2v_test_words:\n",
    "                vec = w2v_model_test.wv[word]\n",
    "                sent_vec += vec\n",
    "                cnt_words += 1\n",
    "        if cnt_words != 0:\n",
    "            sent_vec /= cnt_words\n",
    "        final_w2v_test.append(sent_vec)\n",
    "    print(len(final_w2v_test))\n",
    "    print(len(final_w2v_test[0]))\n",
    "    dump(final_w2v_test,avg_w2v_test_model_100000)"
   ]
  },
  {
   "cell_type": "code",
   "execution_count": 58,
   "metadata": {},
   "outputs": [
    {
     "name": "stdout",
     "output_type": "stream",
     "text": [
      "Fitting 10 folds for each of 21 candidates, totalling 210 fits\n"
     ]
    },
    {
     "name": "stderr",
     "output_type": "stream",
     "text": [
      "[Parallel(n_jobs=-1)]: Using backend LokyBackend with 4 concurrent workers.\n",
      "[Parallel(n_jobs=-1)]: Done   5 tasks      | elapsed:    8.1s\n",
      "[Parallel(n_jobs=-1)]: Done  10 tasks      | elapsed:   15.5s\n",
      "[Parallel(n_jobs=-1)]: Done  17 tasks      | elapsed:   25.8s\n",
      "[Parallel(n_jobs=-1)]: Done  24 tasks      | elapsed:   35.8s\n",
      "[Parallel(n_jobs=-1)]: Done  33 tasks      | elapsed:   48.8s\n",
      "[Parallel(n_jobs=-1)]: Done  42 tasks      | elapsed:  1.0min\n",
      "[Parallel(n_jobs=-1)]: Done  53 tasks      | elapsed:  1.3min\n",
      "[Parallel(n_jobs=-1)]: Done  64 tasks      | elapsed:  1.6min\n",
      "[Parallel(n_jobs=-1)]: Done  77 tasks      | elapsed:  1.9min\n",
      "[Parallel(n_jobs=-1)]: Done  90 tasks      | elapsed:  2.2min\n",
      "[Parallel(n_jobs=-1)]: Done 105 tasks      | elapsed:  2.6min\n",
      "[Parallel(n_jobs=-1)]: Done 120 tasks      | elapsed:  2.9min\n",
      "[Parallel(n_jobs=-1)]: Done 137 tasks      | elapsed:  3.3min\n",
      "[Parallel(n_jobs=-1)]: Done 154 tasks      | elapsed:  3.8min\n",
      "[Parallel(n_jobs=-1)]: Done 173 tasks      | elapsed:  4.2min\n",
      "[Parallel(n_jobs=-1)]: Done 192 tasks      | elapsed:  4.7min\n",
      "[Parallel(n_jobs=-1)]: Done 210 out of 210 | elapsed:  5.1min finished\n",
      "/home/pranay/anaconda3/lib/python3.7/site-packages/sklearn/linear_model/logistic.py:1297: UserWarning: 'n_jobs' > 1 does not have any effect when 'solver' is set to 'liblinear'. Got 'n_jobs' = 4.\n",
      "  \" = {}.\".format(effective_n_jobs(self.n_jobs)))\n"
     ]
    },
    {
     "name": "stdout",
     "output_type": "stream",
     "text": [
      "=======Training========\n",
      "0.9057955354920413\n",
      "{'C': 0.05}\n",
      "LogisticRegression(C=0.05, class_weight='balanced', dual=False,\n",
      "          fit_intercept=True, intercept_scaling=1, max_iter=100,\n",
      "          multi_class='warn', n_jobs=-1, penalty='l2', random_state=1,\n",
      "          solver='warn', tol=0.0001, verbose=0, warm_start=False)\n"
     ]
    },
    {
     "name": "stderr",
     "output_type": "stream",
     "text": [
      "/home/pranay/anaconda3/lib/python3.7/site-packages/matplotlib/cbook/__init__.py:424: MatplotlibDeprecationWarning: \n",
      "Passing one of 'on', 'true', 'off', 'false' as a boolean is deprecated; use an actual boolean (True/False) instead.\n",
      "  warn_deprecated(\"2.2\", \"Passing one of 'on', 'true', 'off', 'false' as a \"\n"
     ]
    },
    {
     "data": {
      "image/png": "[encoded data removed]",
      "text/plain": [
       "<Figure size 432x288 with 1 Axes>"
      ]
     },
     "metadata": {
      "needs_background": "light"
     },
     "output_type": "display_data"
    }
   ],
   "source": [
    "w2v_train = finding_best_lambda(final_w2v_train,y_train)\n",
    "\n",
    "# view the complete results (list of named tuples)\n",
    "print(\"=======Training========\")\n",
    "print (w2v_train.best_score_)\n",
    "print (w2v_train.best_params_)\n",
    "print (w2v_train.best_estimator_)\n",
    "\n",
    "plotAccuracyGraph(w2v_train)"
   ]
  },
  {
   "cell_type": "markdown",
   "metadata": {},
   "source": [
    "### Applying Logistic Regression with L1 regularization on W2V"
   ]
  },
  {
   "cell_type": "code",
   "execution_count": 59,
   "metadata": {},
   "outputs": [
    {
     "name": "stdout",
     "output_type": "stream",
     "text": [
      "\n",
      "\u001b[91mOptimal best alpha is : \u001b[0m\u001b[1m0.05\u001b[0m\n",
      "[LibLinear]"
     ]
    },
    {
     "name": "stderr",
     "output_type": "stream",
     "text": [
      "/home/pranay/anaconda3/lib/python3.7/site-packages/sklearn/linear_model/logistic.py:1297: UserWarning: 'n_jobs' > 1 does not have any effect when 'solver' is set to 'liblinear'. Got 'n_jobs' = 4.\n",
      "  \" = {}.\".format(effective_n_jobs(self.n_jobs)))\n"
     ]
    },
    {
     "name": "stdout",
     "output_type": "stream",
     "text": [
      "\n",
      "\u001b[1mConfusion Matrix for Train data\u001b[0m\n"
     ]
    },
    {
     "data": {
      "image/png": "[encoded data removed]",
      "text/plain": [
       "<Figure size 432x288 with 2 Axes>"
      ]
     },
     "metadata": {
      "needs_background": "light"
     },
     "output_type": "display_data"
    },
    {
     "name": "stdout",
     "output_type": "stream",
     "text": [
      "\n",
      "\u001b[1mConfusion Matrix for Test data\u001b[0m\n"
     ]
    },
    {
     "data": {
      "image/png": "[encoded data removed]",
      "text/plain": [
       "<Figure size 432x288 with 2 Axes>"
      ]
     },
     "metadata": {
      "needs_background": "light"
     },
     "output_type": "display_data"
    },
    {
     "data": {
      "image/png": "[encoded data removed]",
      "text/plain": [
       "<Figure size 432x288 with 1 Axes>"
      ]
     },
     "metadata": {
      "needs_background": "light"
     },
     "output_type": "display_data"
    },
    {
     "name": "stdout",
     "output_type": "stream",
     "text": [
      "\n",
      "\u001b[91mAUC (Train): \u001b[0m\u001b[1m0.9064558862873653\u001b[0m\n",
      "\n",
      "\u001b[91mAUC (Test): \u001b[0m\u001b[1m0.836190205260006\u001b[0m\n",
      "\n",
      "\u001b[91mF1 SCORE (Train) : \u001b[0m\u001b[1m0.8800726896216546\u001b[0m\n",
      "\n",
      "\u001b[91mF1 SCORE (Test) : \u001b[0m\u001b[1m0.7075071633237823\u001b[0m\n",
      "\n",
      "\u001b[91mRECALL (Train): \u001b[0m\u001b[1m0.8089069297700435\u001b[0m\n",
      "\n",
      "\u001b[91mRECALL (Test): \u001b[0m\u001b[1m0.5585414404632646\u001b[0m\n",
      "\n",
      "\u001b[91mPRECISION  (Train) : \u001b[0m\u001b[1m0.9649683742267324\u001b[0m\n",
      "\n",
      "\u001b[91mPRECISION  (Test) : \u001b[0m\u001b[1m0.9648327602375742\u001b[0m\n"
     ]
    }
   ],
   "source": [
    "optimal_alpha = w2v_train.best_params_.get('C')\n",
    "\n",
    "print('\\n'+color.RED+'Optimal best alpha is : '+color.END+color.BOLD+str(optimal_alpha)+color.END)\n",
    "\n",
    "optimal_lr_L1 = LogisticRegression(C=optimal_alpha, class_weight='balanced', dual=False,\n",
    "          fit_intercept=True, intercept_scaling=1, max_iter=100,\n",
    "          multi_class='warn', n_jobs=-1, penalty= 'l1', random_state=1,\n",
    "          solver='warn', tol=0.0001, verbose=1, warm_start=False)\n",
    "# fitting the model\n",
    "optimal_lr_L1.fit(final_w2v_train,y_train)\n",
    "\n",
    "# predict the response\n",
    "test_pred = optimal_lr_L1.predict(final_w2v_test)\n",
    "train_pred = optimal_lr_L1.predict(final_w2v_train)\n",
    "\n",
    "# plot confusion matrix\n",
    "\n",
    "print('\\n'+color.BOLD +'Confusion Matrix for Train data'+color.END)\n",
    "plotConfusionMatrix(y_train,train_pred)\n",
    "\n",
    "print('\\n'+color.BOLD +'Confusion Matrix for Test data'+color.END)\n",
    "plotConfusionMatrix(y_test,test_pred)\n",
    "\n",
    "# plot AUC\n",
    "train_auc,test_auc = plotAUC_ROC(optimal_lr_L1,final_w2v_train, y_train,final_w2v_test, y_test )\n",
    "print('\\n'+color.RED+'AUC (Train): '+color.END+color.BOLD+str(train_auc)+color.END)\n",
    "print('\\n'+color.RED+'AUC (Test): '+color.END+color.BOLD+str(test_auc)+color.END)\n",
    "\n",
    "# f1 score\n",
    "score = f1_score(y_test,test_pred)\n",
    "print('\\n'+color.RED+'F1 SCORE (Train) : '+color.END+color.BOLD+str(f1_score(y_train,train_pred))+color.END)\n",
    "print('\\n'+color.RED+'F1 SCORE (Test) : '+color.END+color.BOLD+str(score)+color.END)\n",
    "\n",
    "# recall\n",
    "recall = metrics.recall_score(y_test, test_pred)\n",
    "print('\\n'+color.RED+'RECALL (Train): '+color.END+color.BOLD+str(metrics.recall_score(y_train, train_pred))+color.END)\n",
    "print('\\n'+color.RED+'RECALL (Test): '+color.END+color.BOLD+str(recall)+color.END)\n",
    "\n",
    "# precision\n",
    "precision = metrics.precision_score(y_test, test_pred)\n",
    "print('\\n'+color.RED+'PRECISION  (Train) : '+color.END+color.BOLD+str(metrics.precision_score(y_train, train_pred))+color.END)\n",
    "print('\\n'+color.RED+'PRECISION  (Test) : '+color.END+color.BOLD+str(precision)+color.END)"
   ]
  },
  {
   "cell_type": "markdown",
   "metadata": {},
   "source": [
    "### Applying Logistic Regression with L2 regularization on W2V"
   ]
  },
  {
   "cell_type": "code",
   "execution_count": 60,
   "metadata": {},
   "outputs": [
    {
     "name": "stdout",
     "output_type": "stream",
     "text": [
      "\n",
      "\u001b[91mOptimal best alpha is : \u001b[0m\u001b[1m0.05\u001b[0m\n",
      "[LibLinear]"
     ]
    },
    {
     "name": "stderr",
     "output_type": "stream",
     "text": [
      "/home/pranay/anaconda3/lib/python3.7/site-packages/sklearn/linear_model/logistic.py:1297: UserWarning: 'n_jobs' > 1 does not have any effect when 'solver' is set to 'liblinear'. Got 'n_jobs' = 4.\n",
      "  \" = {}.\".format(effective_n_jobs(self.n_jobs)))\n"
     ]
    },
    {
     "name": "stdout",
     "output_type": "stream",
     "text": [
      "\n",
      "\u001b[1mConfusion Matrix for Train data\u001b[0m\n"
     ]
    },
    {
     "data": {
      "image/png": "[encoded data removed]",
      "text/plain": [
       "<Figure size 432x288 with 2 Axes>"
      ]
     },
     "metadata": {
      "needs_background": "light"
     },
     "output_type": "display_data"
    },
    {
     "name": "stdout",
     "output_type": "stream",
     "text": [
      "\n",
      "\u001b[1mConfusion Matrix for Test data\u001b[0m\n"
     ]
    },
    {
     "data": {
      "image/png": "[encoded data removed]",
      "text/plain": [
       "<Figure size 432x288 with 2 Axes>"
      ]
     },
     "metadata": {
      "needs_background": "light"
     },
     "output_type": "display_data"
    },
    {
     "data": {
      "image/png": "[encoded data removed]",
      "text/plain": [
       "<Figure size 432x288 with 1 Axes>"
      ]
     },
     "metadata": {
      "needs_background": "light"
     },
     "output_type": "display_data"
    },
    {
     "name": "stdout",
     "output_type": "stream",
     "text": [
      "\n",
      "\u001b[91mAUC (Train): \u001b[0m\u001b[1m0.9065979383322249\u001b[0m\n",
      "\n",
      "\u001b[91mAUC (Test): \u001b[0m\u001b[1m0.8351867459957931\u001b[0m\n",
      "\n",
      "\u001b[91mF1 SCORE (Train) : \u001b[0m\u001b[1m0.8800405782399188\u001b[0m\n",
      "\n",
      "\u001b[91mF1 SCORE (Test) : \u001b[0m\u001b[1m0.7333202786247798\u001b[0m\n",
      "\n",
      "\u001b[91mRECALL (Train): \u001b[0m\u001b[1m0.8087321317588564\u001b[0m\n",
      "\n",
      "\u001b[91mRECALL (Test): \u001b[0m\u001b[1m0.5929695982627579\u001b[0m\n",
      "\n",
      "\u001b[91mPRECISION  (Train) : \u001b[0m\u001b[1m0.9651399962914889\u001b[0m\n",
      "\n",
      "\u001b[91mPRECISION  (Test) : \u001b[0m\u001b[1m0.9607124532727406\u001b[0m\n"
     ]
    }
   ],
   "source": [
    "optimal_alpha = w2v_train.best_params_.get('C')\n",
    "\n",
    "print('\\n'+color.RED+'Optimal best alpha is : '+color.END+color.BOLD+str(optimal_alpha)+color.END)\n",
    "\n",
    "optimal_lr_L2 = LogisticRegression(C=optimal_alpha, class_weight='balanced', dual=False,\n",
    "          fit_intercept=True, intercept_scaling=1, max_iter=100,\n",
    "          multi_class='warn', n_jobs=-1, penalty= 'l2', random_state=1,\n",
    "          solver='warn', tol=0.0001, verbose=1, warm_start=False)\n",
    "# fitting the model\n",
    "optimal_lr_L2.fit(final_w2v_train,y_train)\n",
    "\n",
    "# predict the response\n",
    "test_pred = optimal_lr_L2.predict(final_w2v_test)\n",
    "train_pred = optimal_lr_L2.predict(final_w2v_train)\n",
    "\n",
    "# plot confusion matrix\n",
    "\n",
    "print('\\n'+color.BOLD +'Confusion Matrix for Train data'+color.END)\n",
    "plotConfusionMatrix(y_train,train_pred)\n",
    "\n",
    "print('\\n'+color.BOLD +'Confusion Matrix for Test data'+color.END)\n",
    "plotConfusionMatrix(y_test,test_pred)\n",
    "\n",
    "# plot AUC\n",
    "train_auc,test_auc = plotAUC_ROC(optimal_lr_L2,final_w2v_train, y_train,final_w2v_test, y_test )\n",
    "print('\\n'+color.RED+'AUC (Train): '+color.END+color.BOLD+str(train_auc)+color.END)\n",
    "print('\\n'+color.RED+'AUC (Test): '+color.END+color.BOLD+str(test_auc)+color.END)\n",
    "\n",
    "# f1 score\n",
    "score = f1_score(y_test,test_pred)\n",
    "print('\\n'+color.RED+'F1 SCORE (Train) : '+color.END+color.BOLD+str(f1_score(y_train,train_pred))+color.END)\n",
    "print('\\n'+color.RED+'F1 SCORE (Test) : '+color.END+color.BOLD+str(score)+color.END)\n",
    "\n",
    "# recall\n",
    "recall = metrics.recall_score(y_test, test_pred)\n",
    "print('\\n'+color.RED+'RECALL (Train): '+color.END+color.BOLD+str(metrics.recall_score(y_train, train_pred))+color.END)\n",
    "print('\\n'+color.RED+'RECALL (Test): '+color.END+color.BOLD+str(recall)+color.END)\n",
    "\n",
    "# precision\n",
    "precision = metrics.precision_score(y_test, test_pred)\n",
    "print('\\n'+color.RED+'PRECISION  (Train) : '+color.END+color.BOLD+str(metrics.precision_score(y_train, train_pred))+color.END)\n",
    "print('\\n'+color.RED+'PRECISION  (Test) : '+color.END+color.BOLD+str(precision)+color.END)"
   ]
  },
  {
   "cell_type": "markdown",
   "metadata": {
    "colab_type": "text",
    "id": "2sHfb529LPow"
   },
   "source": [
    "## [4.4.1.2] TFIDF weighted W2v"
   ]
  },
  {
   "cell_type": "code",
   "execution_count": 61,
   "metadata": {},
   "outputs": [
    {
     "name": "stdout",
     "output_type": "stream",
     "text": [
      "(61441,) (26332,) (61441,) (26332,)\n"
     ]
    }
   ],
   "source": [
    "X = final['preprocessed_reviews']\n",
    "y = final['Score']\n",
    "\n",
    "# split the data set into train and test\n",
    "X_train, x_test, y_train, y_test = model_selection.train_test_split(X, y, test_size=0.3,random_state=0)\n",
    "\n",
    "print(X_train.shape, x_test.shape, y_train.shape, y_test.shape)"
   ]
  },
  {
   "cell_type": "code",
   "execution_count": 62,
   "metadata": {
    "colab": {},
    "colab_type": "code",
    "id": "3VrUzqx7LPoy",
    "outputId": "8480d5da-7b1d-4bbe-a4c9-fe0a5800b5d0",
    "scrolled": false
   },
   "outputs": [
    {
     "name": "stderr",
     "output_type": "stream",
     "text": [
      "  0%|          | 7/61441 [00:00<38:21, 26.69it/s]"
     ]
    },
    {
     "name": "stdout",
     "output_type": "stream",
     "text": [
      "not exist\n"
     ]
    },
    {
     "name": "stderr",
     "output_type": "stream",
     "text": [
      "100%|██████████| 61441/61441 [58:01<00:00, 17.65it/s]  \n",
      "  0%|          | 8/26332 [00:00<12:17, 35.67it/s]"
     ]
    },
    {
     "name": "stdout",
     "output_type": "stream",
     "text": [
      "not exist\n"
     ]
    },
    {
     "name": "stderr",
     "output_type": "stream",
     "text": [
      "100%|██████████| 26332/26332 [21:50<00:00, 20.09it/s]\n"
     ]
    }
   ],
   "source": [
    "# we are converting a dictionary with word as a key, and the idf as a value\n",
    "dictionary = dict(zip(tf_idf_vect.get_feature_names(), list(tf_idf_vect.idf_)))\n",
    "\n",
    "# TF-IDF weighted Word2Vec\n",
    "\n",
    "# Train data operation\n",
    "\n",
    "# store model to hard disk if exist then load model directly from memory\n",
    "exists = os.path.isfile(w2v_tf_idf_trained_model_100000)\n",
    "if exists:\n",
    "    print(\"yes exist\")\n",
    "    final_tfidf_w2v_tr = load(w2v_tf_idf_trained_model_100000)\n",
    "else:   \n",
    "    print(\"not exist\")\n",
    "    tfidf_feat = tf_idf_vect.get_feature_names() # tfidf words/col-names\n",
    "    # final_tf_idf is the sparse matrix with row= sentence, col=word and cell_val = tfidf\n",
    "\n",
    "    final_tfidf_w2v_tr = []; # the tfidf-w2v for each sentence/review is stored in this list\n",
    "    row=0;\n",
    "    for sent in tqdm(list_of_sentance): # for each review/sentence \n",
    "        sent_vec = np.zeros(50) # as word vectors are of zero length\n",
    "        weight_sum =0; # num of words with a valid vector in the sentence/review\n",
    "        for word in sent: # for each word in a review/sentence\n",
    "            if word in w2v_train_words and word in tfidf_feat:\n",
    "                vec = w2v_model_tr.wv[word]\n",
    "    #             tf_idf = tf_idf_matrix[row, tfidf_feat.index(word)]\n",
    "                # to reduce the computation we are \n",
    "                # dictionary[word] = idf value of word in whole courpus\n",
    "                # sent.count(word) = tf valeus of word in this review\n",
    "                tf_idf = dictionary[word]*(sent.count(word)/len(sent))\n",
    "                sent_vec += (vec * tf_idf)\n",
    "                weight_sum += tf_idf\n",
    "        if weight_sum != 0:\n",
    "            sent_vec /= weight_sum\n",
    "        final_tfidf_w2v_tr.append(sent_vec)\n",
    "        row += 1\n",
    "    dump(final_tfidf_w2v_tr,w2v_tf_idf_trained_model_100000)\n",
    "    \n",
    "    \n",
    "# Test data operation ============\n",
    "\n",
    "# store model to hard disk if exist then load model directly from memory\n",
    "exists = os.path.isfile(w2v_tf_idf_test_model_100000)\n",
    "if exists:\n",
    "    print(\"yes exist\")\n",
    "    final_tfidf_w2v_test = load(w2v_tf_idf_test_model_100000) \n",
    "\n",
    "else:   \n",
    "    print(\"not exist\")\n",
    "    # final_tf_idf is the sparse matrix with row= sentence, col=word and cell_val = tfidf\n",
    "    final_tfidf_w2v_test = []; # the tfidf-w2v for each sentence/review is stored in this list\n",
    "    row=0;\n",
    "    for sent in tqdm(list_of_test_sentence): # for each review/sentence \n",
    "        sent_vec = np.zeros(50) # as word vectors are of zero length\n",
    "        weight_sum =0; # num of words with a valid vector in the sentence/review\n",
    "        for word in sent: # for each word in a review/sentence\n",
    "            if word in w2v_test_words and word in tfidf_feat:\n",
    "                vec = w2v_model_test.wv[word]\n",
    "    #             tf_idf = tf_idf_matrix[row, tfidf_feat.index(word)]\n",
    "                # to reduce the computation we are \n",
    "                # dictionary[word] = idf value of word in whole courpus\n",
    "                # sent.count(word) = tf valeus of word in this review\n",
    "                tf_idf = dictionary[word]*(sent.count(word)/len(sent))\n",
    "                sent_vec += (vec * tf_idf)\n",
    "                weight_sum += tf_idf\n",
    "        if weight_sum != 0:\n",
    "            sent_vec /= weight_sum\n",
    "        final_tfidf_w2v_test.append(sent_vec)\n",
    "        row += 1\n",
    "    dump(final_tfidf_w2v_test,w2v_tf_idf_test_model_100000)\n",
    "        "
   ]
  },
  {
   "cell_type": "code",
   "execution_count": 63,
   "metadata": {},
   "outputs": [
    {
     "name": "stdout",
     "output_type": "stream",
     "text": [
      "Fitting 10 folds for each of 21 candidates, totalling 210 fits\n"
     ]
    },
    {
     "name": "stderr",
     "output_type": "stream",
     "text": [
      "[Parallel(n_jobs=-1)]: Using backend LokyBackend with 4 concurrent workers.\n",
      "[Parallel(n_jobs=-1)]: Done   5 tasks      | elapsed:    8.3s\n",
      "[Parallel(n_jobs=-1)]: Done  10 tasks      | elapsed:   15.6s\n",
      "[Parallel(n_jobs=-1)]: Done  17 tasks      | elapsed:   25.9s\n",
      "[Parallel(n_jobs=-1)]: Done  24 tasks      | elapsed:   36.1s\n",
      "[Parallel(n_jobs=-1)]: Done  33 tasks      | elapsed:   49.0s\n",
      "[Parallel(n_jobs=-1)]: Done  42 tasks      | elapsed:  1.0min\n",
      "[Parallel(n_jobs=-1)]: Done  53 tasks      | elapsed:  1.3min\n",
      "[Parallel(n_jobs=-1)]: Done  64 tasks      | elapsed:  1.6min\n",
      "[Parallel(n_jobs=-1)]: Done  77 tasks      | elapsed:  1.9min\n",
      "[Parallel(n_jobs=-1)]: Done  90 tasks      | elapsed:  2.2min\n",
      "[Parallel(n_jobs=-1)]: Done 105 tasks      | elapsed:  2.6min\n",
      "[Parallel(n_jobs=-1)]: Done 120 tasks      | elapsed:  2.9min\n",
      "[Parallel(n_jobs=-1)]: Done 137 tasks      | elapsed:  3.3min\n",
      "[Parallel(n_jobs=-1)]: Done 154 tasks      | elapsed:  3.7min\n",
      "[Parallel(n_jobs=-1)]: Done 173 tasks      | elapsed:  4.2min\n",
      "[Parallel(n_jobs=-1)]: Done 192 tasks      | elapsed:  4.7min\n",
      "[Parallel(n_jobs=-1)]: Done 210 out of 210 | elapsed:  5.1min finished\n",
      "/home/pranay/anaconda3/lib/python3.7/site-packages/sklearn/linear_model/logistic.py:1297: UserWarning: 'n_jobs' > 1 does not have any effect when 'solver' is set to 'liblinear'. Got 'n_jobs' = 4.\n",
      "  \" = {}.\".format(effective_n_jobs(self.n_jobs)))\n"
     ]
    },
    {
     "name": "stdout",
     "output_type": "stream",
     "text": [
      "=======Training========\n",
      "0.882911072934292\n",
      "{'C': 0.1}\n",
      "LogisticRegression(C=0.1, class_weight='balanced', dual=False,\n",
      "          fit_intercept=True, intercept_scaling=1, max_iter=100,\n",
      "          multi_class='warn', n_jobs=-1, penalty='l2', random_state=1,\n",
      "          solver='warn', tol=0.0001, verbose=0, warm_start=False)\n"
     ]
    },
    {
     "name": "stderr",
     "output_type": "stream",
     "text": [
      "/home/pranay/anaconda3/lib/python3.7/site-packages/matplotlib/cbook/__init__.py:424: MatplotlibDeprecationWarning: \n",
      "Passing one of 'on', 'true', 'off', 'false' as a boolean is deprecated; use an actual boolean (True/False) instead.\n",
      "  warn_deprecated(\"2.2\", \"Passing one of 'on', 'true', 'off', 'false' as a \"\n"
     ]
    },
    {
     "data": {
      "image/png": "[encoded data removed]",
      "text/plain": [
       "<Figure size 432x288 with 1 Axes>"
      ]
     },
     "metadata": {
      "needs_background": "light"
     },
     "output_type": "display_data"
    }
   ],
   "source": [
    "w2v_tfidf_train = finding_best_lambda(final_tfidf_w2v_tr,y_train)\n",
    "\n",
    "# view the complete results (list of named tuples)\n",
    "print(\"=======Training========\")\n",
    "print (w2v_tfidf_train.best_score_)\n",
    "print (w2v_tfidf_train.best_params_)\n",
    "print (w2v_tfidf_train.best_estimator_)\n",
    "\n",
    "plotAccuracyGraph(w2v_tfidf_train) "
   ]
  },
  {
   "cell_type": "markdown",
   "metadata": {},
   "source": [
    "### Applying Logistic Regression with L1 regularization on TFIDF-W2V"
   ]
  },
  {
   "cell_type": "code",
   "execution_count": 64,
   "metadata": {},
   "outputs": [
    {
     "name": "stdout",
     "output_type": "stream",
     "text": [
      "\n",
      "\u001b[91mOptimal best alpha is : \u001b[0m\u001b[1m0.1\u001b[0m\n",
      "[LibLinear]"
     ]
    },
    {
     "name": "stderr",
     "output_type": "stream",
     "text": [
      "/home/pranay/anaconda3/lib/python3.7/site-packages/sklearn/linear_model/logistic.py:1297: UserWarning: 'n_jobs' > 1 does not have any effect when 'solver' is set to 'liblinear'. Got 'n_jobs' = 4.\n",
      "  \" = {}.\".format(effective_n_jobs(self.n_jobs)))\n"
     ]
    },
    {
     "name": "stdout",
     "output_type": "stream",
     "text": [
      "\n",
      "\u001b[1mConfusion Matrix for Train data\u001b[0m\n"
     ]
    },
    {
     "data": {
      "image/png": "[encoded data removed]",
      "text/plain": [
       "<Figure size 432x288 with 2 Axes>"
      ]
     },
     "metadata": {
      "needs_background": "light"
     },
     "output_type": "display_data"
    },
    {
     "name": "stdout",
     "output_type": "stream",
     "text": [
      "\n",
      "\u001b[1mConfusion Matrix for Test data\u001b[0m\n"
     ]
    },
    {
     "data": {
      "image/png": "[encoded data removed]",
      "text/plain": [
       "<Figure size 432x288 with 2 Axes>"
      ]
     },
     "metadata": {
      "needs_background": "light"
     },
     "output_type": "display_data"
    },
    {
     "data": {
      "image/png": "[encoded data removed]",
      "text/plain": [
       "<Figure size 432x288 with 1 Axes>"
      ]
     },
     "metadata": {
      "needs_background": "light"
     },
     "output_type": "display_data"
    },
    {
     "name": "stdout",
     "output_type": "stream",
     "text": [
      "\n",
      "\u001b[91mAUC (Train): \u001b[0m\u001b[1m0.8838412372363907\u001b[0m\n",
      "\n",
      "\u001b[91mAUC (Test): \u001b[0m\u001b[1m0.7980513379428322\u001b[0m\n",
      "\n",
      "\u001b[91mF1 SCORE (Train) : \u001b[0m\u001b[1m0.8639711760880919\u001b[0m\n",
      "\n",
      "\u001b[91mF1 SCORE (Test) : \u001b[0m\u001b[1m0.7377216446515732\u001b[0m\n",
      "\n",
      "\u001b[91mRECALL (Train): \u001b[0m\u001b[1m0.7870766003729024\u001b[0m\n",
      "\n",
      "\u001b[91mRECALL (Test): \u001b[0m\u001b[1m0.6051393412956931\u001b[0m\n",
      "\n",
      "\u001b[91mPRECISION  (Train) : \u001b[0m\u001b[1m0.9575171892351676\u001b[0m\n",
      "\n",
      "\u001b[91mPRECISION  (Test) : \u001b[0m\u001b[1m0.9446994844268664\u001b[0m\n"
     ]
    }
   ],
   "source": [
    "optimal_alpha = w2v_tfidf_train.best_params_.get('C')\n",
    "\n",
    "print('\\n'+color.RED+'Optimal best alpha is : '+color.END+color.BOLD+str(optimal_alpha)+color.END)\n",
    "\n",
    "optimal_lr_L1 = LogisticRegression(C=optimal_alpha, class_weight='balanced', dual=False,\n",
    "          fit_intercept=True, intercept_scaling=1, max_iter=100,\n",
    "          multi_class='warn', n_jobs=-1, penalty= 'l1', random_state=1,\n",
    "          solver='warn', tol=0.0001, verbose=1, warm_start=False)\n",
    "# fitting the model\n",
    "optimal_lr_L1.fit(final_tfidf_w2v_tr,y_train)\n",
    "\n",
    "# predict the response\n",
    "test_pred = optimal_lr_L1.predict(final_tfidf_w2v_test)\n",
    "train_pred = optimal_lr_L1.predict(final_tfidf_w2v_tr)\n",
    "\n",
    "# plot confusion matrix\n",
    "\n",
    "print('\\n'+color.BOLD +'Confusion Matrix for Train data'+color.END)\n",
    "plotConfusionMatrix(y_train,train_pred)\n",
    "\n",
    "print('\\n'+color.BOLD +'Confusion Matrix for Test data'+color.END)\n",
    "plotConfusionMatrix(y_test,test_pred)\n",
    "\n",
    "# plot AUC\n",
    "train_auc,test_auc = plotAUC_ROC(optimal_lr_L1,final_tfidf_w2v_tr, y_train,final_tfidf_w2v_test, y_test )\n",
    "print('\\n'+color.RED+'AUC (Train): '+color.END+color.BOLD+str(train_auc)+color.END)\n",
    "print('\\n'+color.RED+'AUC (Test): '+color.END+color.BOLD+str(test_auc)+color.END)\n",
    "\n",
    "# f1 score\n",
    "score = f1_score(y_test,test_pred)\n",
    "print('\\n'+color.RED+'F1 SCORE (Train) : '+color.END+color.BOLD+str(f1_score(y_train,train_pred))+color.END)\n",
    "print('\\n'+color.RED+'F1 SCORE (Test) : '+color.END+color.BOLD+str(score)+color.END)\n",
    "\n",
    "# recall\n",
    "recall = metrics.recall_score(y_test, test_pred)\n",
    "print('\\n'+color.RED+'RECALL (Train): '+color.END+color.BOLD+str(metrics.recall_score(y_train, train_pred))+color.END)\n",
    "print('\\n'+color.RED+'RECALL (Test): '+color.END+color.BOLD+str(recall)+color.END)\n",
    "\n",
    "# precision\n",
    "precision = metrics.precision_score(y_test, test_pred)\n",
    "print('\\n'+color.RED+'PRECISION  (Train) : '+color.END+color.BOLD+str(metrics.precision_score(y_train, train_pred))+color.END)\n",
    "print('\\n'+color.RED+'PRECISION  (Test) : '+color.END+color.BOLD+str(precision)+color.END)"
   ]
  },
  {
   "cell_type": "markdown",
   "metadata": {},
   "source": [
    "### Applying Logistic Regression with L2 regularization on TFIDF-W2V"
   ]
  },
  {
   "cell_type": "code",
   "execution_count": 65,
   "metadata": {},
   "outputs": [
    {
     "name": "stdout",
     "output_type": "stream",
     "text": [
      "\n",
      "\u001b[91mOptimal best alpha is : \u001b[0m\u001b[1m0.1\u001b[0m\n",
      "[LibLinear]"
     ]
    },
    {
     "name": "stderr",
     "output_type": "stream",
     "text": [
      "/home/pranay/anaconda3/lib/python3.7/site-packages/sklearn/linear_model/logistic.py:1297: UserWarning: 'n_jobs' > 1 does not have any effect when 'solver' is set to 'liblinear'. Got 'n_jobs' = 4.\n",
      "  \" = {}.\".format(effective_n_jobs(self.n_jobs)))\n"
     ]
    },
    {
     "name": "stdout",
     "output_type": "stream",
     "text": [
      "\n",
      "\u001b[1mConfusion Matrix for Train data\u001b[0m\n"
     ]
    },
    {
     "data": {
      "image/png": "[encoded data removed]",
      "text/plain": [
       "<Figure size 432x288 with 2 Axes>"
      ]
     },
     "metadata": {
      "needs_background": "light"
     },
     "output_type": "display_data"
    },
    {
     "name": "stdout",
     "output_type": "stream",
     "text": [
      "\n",
      "\u001b[1mConfusion Matrix for Test data\u001b[0m\n"
     ]
    },
    {
     "data": {
      "image/png": "[encoded data removed]",
      "text/plain": [
       "<Figure size 432x288 with 2 Axes>"
      ]
     },
     "metadata": {
      "needs_background": "light"
     },
     "output_type": "display_data"
    },
    {
     "data": {
      "image/png": "[encoded data removed]",
      "text/plain": [
       "<Figure size 432x288 with 1 Axes>"
      ]
     },
     "metadata": {
      "needs_background": "light"
     },
     "output_type": "display_data"
    },
    {
     "name": "stdout",
     "output_type": "stream",
     "text": [
      "\n",
      "\u001b[91mAUC (Train): \u001b[0m\u001b[1m0.8838639199795284\u001b[0m\n",
      "\n",
      "\u001b[91mAUC (Test): \u001b[0m\u001b[1m0.7974958769775358\u001b[0m\n",
      "\n",
      "\u001b[91mF1 SCORE (Train) : \u001b[0m\u001b[1m0.8637260233076375\u001b[0m\n",
      "\n",
      "\u001b[91mF1 SCORE (Test) : \u001b[0m\u001b[1m0.7428681149879306\u001b[0m\n",
      "\n",
      "\u001b[91mRECALL (Train): \u001b[0m\u001b[1m0.7866687383467993\u001b[0m\n",
      "\n",
      "\u001b[91mRECALL (Test): \u001b[0m\u001b[1m0.6126040535649656\u001b[0m\n",
      "\n",
      "\u001b[91mPRECISION  (Train) : \u001b[0m\u001b[1m0.9575187347816837\u001b[0m\n",
      "\n",
      "\u001b[91mPRECISION  (Test) : \u001b[0m\u001b[1m0.9434921962095875\u001b[0m\n"
     ]
    }
   ],
   "source": [
    "optimal_alpha = w2v_tfidf_train.best_params_.get('C')\n",
    "\n",
    "print('\\n'+color.RED+'Optimal best alpha is : '+color.END+color.BOLD+str(optimal_alpha)+color.END)\n",
    "\n",
    "optimal_lr_L2 = LogisticRegression(C=optimal_alpha, class_weight='balanced', dual=False,\n",
    "          fit_intercept=True, intercept_scaling=1, max_iter=100,\n",
    "          multi_class='warn', n_jobs=-1, penalty= 'l2', random_state=1,\n",
    "          solver='warn', tol=0.0001, verbose=1, warm_start=False)\n",
    "# fitting the model\n",
    "optimal_lr_L2.fit(final_tfidf_w2v_tr,y_train)\n",
    "\n",
    "# predict the response\n",
    "test_pred = optimal_lr_L2.predict(final_tfidf_w2v_test)\n",
    "train_pred = optimal_lr_L2.predict(final_tfidf_w2v_tr)\n",
    "\n",
    "# plot confusion matrix\n",
    "\n",
    "print('\\n'+color.BOLD +'Confusion Matrix for Train data'+color.END)\n",
    "plotConfusionMatrix(y_train,train_pred)\n",
    "\n",
    "print('\\n'+color.BOLD +'Confusion Matrix for Test data'+color.END)\n",
    "plotConfusionMatrix(y_test,test_pred)\n",
    "\n",
    "# plot AUC\n",
    "train_auc,test_auc = plotAUC_ROC(optimal_lr_L2,final_tfidf_w2v_tr, y_train,final_tfidf_w2v_test, y_test )\n",
    "print('\\n'+color.RED+'AUC (Train): '+color.END+color.BOLD+str(train_auc)+color.END)\n",
    "print('\\n'+color.RED+'AUC (Test): '+color.END+color.BOLD+str(test_auc)+color.END)\n",
    "\n",
    "# f1 score\n",
    "score = f1_score(y_test,test_pred)\n",
    "print('\\n'+color.RED+'F1 SCORE (Train) : '+color.END+color.BOLD+str(f1_score(y_train,train_pred))+color.END)\n",
    "print('\\n'+color.RED+'F1 SCORE (Test) : '+color.END+color.BOLD+str(score)+color.END)\n",
    "\n",
    "# recall\n",
    "recall = metrics.recall_score(y_test, test_pred)\n",
    "print('\\n'+color.RED+'RECALL (Train): '+color.END+color.BOLD+str(metrics.recall_score(y_train, train_pred))+color.END)\n",
    "print('\\n'+color.RED+'RECALL (Test): '+color.END+color.BOLD+str(recall)+color.END)\n",
    "\n",
    "# precision\n",
    "precision = metrics.precision_score(y_test, test_pred)\n",
    "print('\\n'+color.RED+'PRECISION  (Train) : '+color.END+color.BOLD+str(metrics.precision_score(y_train, train_pred))+color.END)\n",
    "print('\\n'+color.RED+'PRECISION  (Test) : '+color.END+color.BOLD+str(precision)+color.END)"
   ]
  },
  {
   "cell_type": "markdown",
   "metadata": {
    "colab_type": "text",
    "id": "nOvsBNf2LPpv"
   },
   "source": [
    "# [6] Conclusions"
   ]
  },
  {
   "cell_type": "code",
   "execution_count": 95,
   "metadata": {
    "colab": {},
    "colab_type": "code",
    "id": "T7VxD0q2LPpw"
   },
   "outputs": [
    {
     "name": "stdout",
     "output_type": "stream",
     "text": [
      "\u001b[1m\t\t\t\t Logisic Regression  \u001b[0m\n",
      "\n",
      "\n",
      "\u001b[1mFor BOW and TFIDF, We have considered 100k points\u001b[0m\n",
      "\u001b[1mFor BOW- Additional Feature and TFIDF- Additional Feature, We have considered 50k points\u001b[0m\n",
      "\n",
      "\n",
      "+------------------+----------+----------+-------------------+----------+----------+---------------------+\n",
      "|      Metric      |  BOW L1  |  BOW L2  | BOW-Extra-Feature | TFIDF L1 | TFIDF L2 | TFIDF-Extra-Feature |\n",
      "+------------------+----------+----------+-------------------+----------+----------+---------------------+\n",
      "|   Alpha Value    |   0.1    |   0.1    |        0.1        |   0.5    |   0.5    |         0.5         |\n",
      "|    AUC Train     | 0.967143 | 0.99322  |      0.996076     |  0.9482  | 0.99729  |       0.99873       |\n",
      "|    AUC Test      | 0.94736  | 0.954389 |      0.966271     | 0.95831  | 0.964598 |       0.97475       |\n",
      "| F1 SCORE Train   | 0.943114 | 0.973374 |      0.98138      | 0.98659  | 0.98299  |       0.986919      |\n",
      "|  F1 SCORE Test   | 0.935099 | 0.949346 |      0.957985     | 0.95099  | 0.954307 |       0.96228       |\n",
      "|  RECALL Train    | 0.90691  | 0.95179  |      0.96534      | 0.97393  | 0.967545 |       0.97885       |\n",
      "|   RECALL Test    | 0.900832 | 0.92888  |      0.942085     | 0.93612  | 0.938246 |       0.951196      |\n",
      "| PRECISION Train  | 0.989232 | 0.99595  |      0.99797      |  0.9945  | 0.998937 |       0.99975       |\n",
      "| PRECISION Test   | 0.972075 | 0.97073  |      0.974432     | 0.96625  | 0.970926 |       0.973643      |\n",
      "+------------------+----------+----------+-------------------+----------+----------+---------------------+\n",
      "\n",
      "\n",
      "+------------------+----------+-----------+--------------+--------------+\n",
      "|      Metric      |  W2V L1  |   W2V L2  | W2V TFIDF L1 | W2V TFIDF L2 |\n",
      "+------------------+----------+-----------+--------------+--------------+\n",
      "|   Alpha Value    |   0.25   |    0.25   |     0.05     |     0.05     |\n",
      "|    AUC Train     | 0.906455 |  0.90659  |   0.883841   |    0.8838    |\n",
      "|    AUC Test      | 0.83619  |  0.835186 |   0.798051   |   0.747495   |\n",
      "| F1 SCORE Train   | 0.880072 | 0.8800405 |   0.863971   |   0.863772   |\n",
      "|  F1 SCORE Test   | 0.707507 | 0.7333202 |   0.737721   |   0.742868   |\n",
      "|  RECALL Train    | 0.808406 | 0.8087321 |   0.78707    |   0.78666    |\n",
      "|   RECALL Test    | 0.558541 |  0.542969 |   0.605139   |    0.6126    |\n",
      "| PRECISION Train  | 0.96494  | 0.9651399 |   0.957517   |   0.957518   |\n",
      "| PRECISION Test   | 0.46483  | 0.9607124 |   0.944699   |   0.94349    |\n",
      "+------------------+----------+-----------+--------------+--------------+\n"
     ]
    }
   ],
   "source": [
    "import pandas as pd\n",
    "from prettytable import PrettyTable\n",
    "\n",
    "print(color.BOLD+'\\t\\t\\t\\t Logisic Regression  '+color.END)\n",
    "print('\\n')\n",
    "\n",
    "print(color.BOLD+'For BOW and TFIDF, We have considered 100k points'+color.END)\n",
    "print(color.BOLD+'For BOW- Additional Feature and TFIDF- Additional Feature, We have considered 50k points'+color.END)\n",
    "\n",
    "\n",
    "x = PrettyTable()\n",
    "x.field_names =  ['Metric','BOW L1','BOW L2','BOW-Extra-Feature','TFIDF L1', 'TFIDF L2', 'TFIDF-Extra-Feature']\n",
    "\n",
    "x.add_row([\"Alpha Value \", 0.1,0.1,0.1,0.5,0.5,0.5])\n",
    "\n",
    "x.add_row([\"AUC Train \", 0.967143,0.99322,0.996076,0.9482, 0.99729,0.99873])\n",
    "x.add_row([\"AUC Test \", 0.94736,0.954389,0.966271,0.95831,0.964598,0.97475])\n",
    "\n",
    "x.add_row([\"F1 SCORE Train \", 0.943114,0.973374,0.98138,0.98659,0.982990,0.986919])\n",
    "x.add_row([\"F1 SCORE Test \", 0.935099,0.949346,0.957985,0.95099,0.954307,0.96228])\n",
    "\n",
    "x.add_row([\"RECALL Train \",0.906910,0.95179,0.96534,0.97393,0.967545,0.978850])\n",
    "x.add_row([\"RECALL Test \", 0.900832,0.92888,0.942085,0.93612,0.938246,0.951196])\n",
    "\n",
    "x.add_row([\"PRECISION Train \", 0.989232,0.99595,0.99797,0.9945,0.998937,0.99975])\n",
    "x.add_row([\"PRECISION Test \",0.972075,0.97073,0.974432,0.96625,0.970926,0.973643])\n",
    "\n",
    "\n",
    "print('\\n')\n",
    "print(x)\n",
    "\n",
    "\n",
    "x1 = PrettyTable()\n",
    "x1.field_names =  ['Metric','W2V L1','W2V L2','W2V TFIDF L1', 'W2V TFIDF L2']\n",
    "\n",
    "x1.add_row([\"Alpha Value \", 0.25,0.25,0.05,0.05])\n",
    "\n",
    "x1.add_row([\"AUC Train \", 0.906455,0.90659,0.883841,0.8838])\n",
    "x1.add_row([\"AUC Test \", 0.836190,0.835186,0.798051,0.747495])\n",
    "\n",
    "x1.add_row([\"F1 SCORE Train \", 0.880072,0.8800405,0.863971,0.863772])\n",
    "x1.add_row([\"F1 SCORE Test \", 0.707507,0.7333202,0.737721,0.742868])\n",
    "\n",
    "x1.add_row([\"RECALL Train \",0.808406,0.8087321,0.78707,0.78666])\n",
    "x1.add_row([\"RECALL Test \", 0.558541,0.542969,0.605139,0.61260])\n",
    "\n",
    "x1.add_row([\"PRECISION Train \", 0.96494,0.9651399,0.957517,0.957518])\n",
    "x1.add_row([\"PRECISION Test \",0.46483,0.9607124,0.944699,0.94349])\n",
    "\n",
    "print('\\n')\n",
    "print(x1)"
   ]
  },
  {
   "cell_type": "code",
   "execution_count": null,
   "metadata": {},
   "outputs": [],
   "source": []
  }
 ],
 "metadata": {
  "colab": {
   "name": "05 Amazon Fine Food Reviews Analysis_Logistic Regression.ipynb",
   "provenance": [],
   "version": "0.3.2"
  },
  "kernelspec": {
   "display_name": "Python 3",
   "language": "python",
   "name": "python3"
  },
  "language_info": {
   "codemirror_mode": {
    "name": "ipython",
    "version": 3
   },
   "file_extension": ".py",
   "mimetype": "text/x-python",
   "name": "python",
   "nbconvert_exporter": "python",
   "pygments_lexer": "ipython3",
   "version": "3.7.1"
  }
 },
 "nbformat": 4,
 "nbformat_minor": 1
}
