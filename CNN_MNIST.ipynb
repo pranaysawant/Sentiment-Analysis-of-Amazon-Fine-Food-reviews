{
 "cells": [
  {
   "cell_type": "code",
   "execution_count": 2,
   "metadata": {
    "colab": {
     "base_uri": "https://localhost:8080/",
     "height": 68
    },
    "colab_type": "code",
    "id": "E_hWls_PxTII",
    "outputId": "2fba1e74-2b22-4758-a414-17470e947f22"
   },
   "outputs": [
    {
     "name": "stdout",
     "output_type": "stream",
     "text": [
      "x_train shape: (60000, 28, 28, 1)\n",
      "60000 train samples\n",
      "10000 test samples\n"
     ]
    }
   ],
   "source": [
    "# Credits: https://github.com/keras-team/keras/blob/master/examples/mnist_cnn.py\n",
    "\n",
    "\n",
    "from __future__ import print_function\n",
    "import keras\n",
    "from keras.datasets import mnist\n",
    "from keras.models import Sequential\n",
    "from keras.layers import Dense, Dropout, Flatten\n",
    "from keras.layers import Conv2D, MaxPooling2D\n",
    "from keras import backend as K\n",
    "from keras.layers.normalization import BatchNormalization\n",
    "from keras.layers.advanced_activations import LeakyReLU\n",
    "\n",
    "\n",
    "batch_size = 128\n",
    "num_classes = 10\n",
    "epochs = 12\n",
    "\n",
    "# input image dimensions\n",
    "img_rows, img_cols = 28, 28\n",
    "\n",
    "# the data, split between train and test sets\n",
    "(x_train, y_train), (x_test, y_test) = mnist.load_data()\n",
    "\n",
    "\n",
    "\n",
    "if K.image_data_format() == 'channels_first':\n",
    "    x_train = x_train.reshape(x_train.shape[0], 1, img_rows, img_cols)\n",
    "    x_test = x_test.reshape(x_test.shape[0], 1, img_rows, img_cols)\n",
    "    input_shape = (1, img_rows, img_cols)\n",
    "else:\n",
    "    x_train = x_train.reshape(x_train.shape[0], img_rows, img_cols, 1)\n",
    "    x_test = x_test.reshape(x_test.shape[0], img_rows, img_cols, 1)\n",
    "    input_shape = (img_rows, img_cols, 1)\n",
    "\n",
    "x_train = x_train.astype('float32')\n",
    "x_test = x_test.astype('float32')\n",
    "x_train /= 255\n",
    "x_test /= 255\n",
    "print('x_train shape:', x_train.shape)\n",
    "print(x_train.shape[0], 'train samples')\n",
    "print(x_test.shape[0], 'test samples')\n",
    "\n",
    "# convert class vectors to binary class matrices\n",
    "y_train = keras.utils.to_categorical(y_train, num_classes)\n",
    "y_test = keras.utils.to_categorical(y_test, num_classes)"
   ]
  },
  {
   "cell_type": "code",
   "execution_count": 0,
   "metadata": {
    "colab": {},
    "colab_type": "code",
    "id": "BqPoaUHDs4AL"
   },
   "outputs": [],
   "source": [
    "%matplotlib notebook\n",
    "%matplotlib inline\n",
    "\n",
    "import matplotlib.pyplot as plt\n",
    "import numpy as np\n",
    "import time\n",
    "# https://gist.github.com/greydanus/f6eee59eaf1d90fcb3b534a25362cea4\n",
    "# https://stackoverflow.com/a/14434334\n",
    "# this function is used to update the plots for each epoch and error\n",
    "def plt_dynamic(x, vy, ty, ax, colors=['b']):\n",
    "    ax.plot(x, vy, 'b', label=\"Validation Loss\")\n",
    "    ax.plot(x, ty, 'r', label=\"Train Loss\")\n",
    "    plt.legend()\n",
    "    plt.grid()\n",
    "    fig.canvas.draw()\n",
    "    plt.show()"
   ]
  },
  {
   "cell_type": "markdown",
   "metadata": {
    "colab_type": "text",
    "id": "RpvbrQRqGyZJ"
   },
   "source": [
    "# Reference\n",
    "https://towardsdatascience.com/a-guide-to-an-efficient-way-to-build-neural-network-architectures-part-ii-hyper-parameter-42efca01e5d7"
   ]
  },
  {
   "cell_type": "markdown",
   "metadata": {
    "colab_type": "text",
    "id": "hASj91SSo9IH"
   },
   "source": [
    "# Using 3*3 ConvNet, Optimizer 'AdaDelta'"
   ]
  },
  {
   "cell_type": "code",
   "execution_count": 10,
   "metadata": {
    "colab": {
     "base_uri": "https://localhost:8080/",
     "height": 306
    },
    "colab_type": "code",
    "id": "8VGLiqqHo8Da",
    "outputId": "6861de1c-3724-4cf9-e679-6a5e14cbf4ee"
   },
   "outputs": [
    {
     "name": "stdout",
     "output_type": "stream",
     "text": [
      "_________________________________________________________________\n",
      "Layer (type)                 Output Shape              Param #   \n",
      "=================================================================\n",
      "conv2d_13 (Conv2D)           (None, 26, 26, 512)       5120      \n",
      "_________________________________________________________________\n",
      "conv2d_14 (Conv2D)           (None, 26, 26, 256)       1179904   \n",
      "_________________________________________________________________\n",
      "flatten_4 (Flatten)          (None, 173056)            0         \n",
      "_________________________________________________________________\n",
      "dense_7 (Dense)              (None, 128)               22151296  \n",
      "_________________________________________________________________\n",
      "dense_8 (Dense)              (None, 10)                1290      \n",
      "=================================================================\n",
      "Total params: 23,337,610\n",
      "Trainable params: 23,337,610\n",
      "Non-trainable params: 0\n",
      "_________________________________________________________________\n"
     ]
    }
   ],
   "source": [
    "model = Sequential()\n",
    "model.add(Conv2D(512, kernel_size=(3, 3),activation='relu',input_shape=input_shape))\n",
    "model.add(Conv2D(256, kernel_size=(3, 3), activation='relu', padding='same'))\n",
    "\n",
    "model.add(Flatten())\n",
    "model.add(Dense(128, activation='relu'))\n",
    "model.add(Dense(num_classes, activation='softmax'))\n",
    "\n",
    "model.summary()"
   ]
  },
  {
   "cell_type": "code",
   "execution_count": 11,
   "metadata": {
    "colab": {
     "base_uri": "https://localhost:8080/",
     "height": 742
    },
    "colab_type": "code",
    "id": "gX1SWsw70ko-",
    "outputId": "beb5fcd7-40d0-4c8f-f3fd-2f3de6778ccb"
   },
   "outputs": [
    {
     "name": "stdout",
     "output_type": "stream",
     "text": [
      "Train on 60000 samples, validate on 10000 samples\n",
      "Epoch 1/12\n",
      "60000/60000 [==============================] - 50s 829us/step - loss: 0.1386 - acc: 0.9589 - val_loss: 0.0469 - val_acc: 0.9849\n",
      "Epoch 2/12\n",
      "60000/60000 [==============================] - 46s 765us/step - loss: 0.0376 - acc: 0.9880 - val_loss: 0.0432 - val_acc: 0.9853\n",
      "Epoch 3/12\n",
      "60000/60000 [==============================] - 46s 768us/step - loss: 0.0194 - acc: 0.9937 - val_loss: 0.0406 - val_acc: 0.9879\n",
      "Epoch 4/12\n",
      "60000/60000 [==============================] - 46s 761us/step - loss: 0.0129 - acc: 0.9960 - val_loss: 0.0464 - val_acc: 0.9873\n",
      "Epoch 5/12\n",
      "60000/60000 [==============================] - 46s 759us/step - loss: 0.0094 - acc: 0.9969 - val_loss: 0.0446 - val_acc: 0.9884\n",
      "Epoch 6/12\n",
      "60000/60000 [==============================] - 46s 758us/step - loss: 0.0090 - acc: 0.9970 - val_loss: 0.0469 - val_acc: 0.9876\n",
      "Epoch 7/12\n",
      "60000/60000 [==============================] - 45s 756us/step - loss: 0.0074 - acc: 0.9976 - val_loss: 0.0546 - val_acc: 0.9874\n",
      "Epoch 8/12\n",
      "60000/60000 [==============================] - 45s 754us/step - loss: 0.0054 - acc: 0.9982 - val_loss: 0.0638 - val_acc: 0.9880\n",
      "Epoch 9/12\n",
      "60000/60000 [==============================] - 45s 753us/step - loss: 0.0061 - acc: 0.9981 - val_loss: 0.0641 - val_acc: 0.9871\n",
      "Epoch 10/12\n",
      "60000/60000 [==============================] - 45s 753us/step - loss: 0.0072 - acc: 0.9978 - val_loss: 0.0615 - val_acc: 0.9878\n",
      "Epoch 11/12\n",
      "60000/60000 [==============================] - 45s 750us/step - loss: 0.0029 - acc: 0.9991 - val_loss: 0.0696 - val_acc: 0.9862\n",
      "Epoch 12/12\n",
      "60000/60000 [==============================] - 45s 750us/step - loss: 0.0044 - acc: 0.9986 - val_loss: 0.0672 - val_acc: 0.9870\n",
      "Test score: 0.06720557982521506\n",
      "Test accuracy: 0.987\n"
     ]
    },
    {
     "data": {
      "image/png": "[encoded data removed]",
      "text/plain": [
       "<Figure size 432x288 with 1 Axes>"
      ]
     },
     "metadata": {
      "tags": []
     },
     "output_type": "display_data"
    }
   ],
   "source": [
    "model.compile(loss=keras.losses.categorical_crossentropy,\n",
    "              optimizer=keras.optimizers.Adam(),\n",
    "              metrics=['accuracy'])\n",
    "\n",
    "history = model.fit(x_train, y_train,\n",
    "          batch_size=batch_size,\n",
    "          epochs=epochs,\n",
    "          verbose=1,\n",
    "          validation_data=(x_test, y_test))\n",
    "\n",
    "score = model.evaluate(x_test, y_test, verbose=0) \n",
    "print('Test score:', score[0]) \n",
    "print('Test accuracy:', score[1])\n",
    "\n",
    "fig,ax = plt.subplots(1,1)\n",
    "ax.set_xlabel('epoch') ; ax.set_ylabel('Categorical Crossentropy Loss')\n",
    "\n",
    "# list of epoch numbers\n",
    "x = list(range(1,epochs+1))\n",
    "\n",
    "# print(history.history.keys())\n",
    "# dict_keys(['val_loss', 'val_acc', 'loss', 'acc'])\n",
    "# history = model_drop.fit(X_train, Y_train, batch_size=batch_size, epochs=nb_epoch, verbose=1, validation_data=(X_test, Y_test))\n",
    "\n",
    "# we will get val_loss and val_acc only when you pass the paramter validation_data\n",
    "# val_loss : validation loss\n",
    "# val_acc : validation accuracy\n",
    "\n",
    "# loss : training loss\n",
    "# acc : train accuracy\n",
    "# for each key in histrory.histrory we will have a list of length equal to number of epochs\n",
    "\n",
    "vy = history.history['val_loss']\n",
    "ty = history.history['loss']\n",
    "plt_dynamic(x, vy, ty, ax)"
   ]
  },
  {
   "cell_type": "markdown",
   "metadata": {
    "colab_type": "text",
    "id": "R_-R873KlouA"
   },
   "source": [
    "## Evaluating Model\n",
    "\n",
    "We can clearly see that our model is **overfitting**. If we kept filter width large at initial stage then model tends to **Overfit**, \n",
    "\n",
    "Now we will try with less number of filter at initial stage and gradually increasing the same."
   ]
  },
  {
   "cell_type": "code",
   "execution_count": 0,
   "metadata": {
    "colab": {
     "base_uri": "https://localhost:8080/",
     "height": 612
    },
    "colab_type": "code",
    "id": "3JIK_5Eulpq6",
    "outputId": "dc4c84f9-a813-44e3-c68c-f870679b1a32"
   },
   "outputs": [
    {
     "name": "stdout",
     "output_type": "stream",
     "text": [
      "_________________________________________________________________\n",
      "Layer (type)                 Output Shape              Param #   \n",
      "=================================================================\n",
      "conv2d_15 (Conv2D)           (None, 26, 26, 16)        160       \n",
      "_________________________________________________________________\n",
      "conv2d_16 (Conv2D)           (None, 26, 26, 16)        2320      \n",
      "_________________________________________________________________\n",
      "max_pooling2d_10 (MaxPooling (None, 13, 13, 16)        0         \n",
      "_________________________________________________________________\n",
      "conv2d_17 (Conv2D)           (None, 11, 11, 16)        2320      \n",
      "_________________________________________________________________\n",
      "max_pooling2d_11 (MaxPooling (None, 5, 5, 16)          0         \n",
      "_________________________________________________________________\n",
      "batch_normalization_7 (Batch (None, 5, 5, 16)          64        \n",
      "_________________________________________________________________\n",
      "dropout_7 (Dropout)          (None, 5, 5, 16)          0         \n",
      "_________________________________________________________________\n",
      "conv2d_18 (Conv2D)           (None, 3, 3, 32)          4640      \n",
      "_________________________________________________________________\n",
      "max_pooling2d_12 (MaxPooling (None, 1, 1, 32)          0         \n",
      "_________________________________________________________________\n",
      "batch_normalization_8 (Batch (None, 1, 1, 32)          128       \n",
      "_________________________________________________________________\n",
      "dropout_8 (Dropout)          (None, 1, 1, 32)          0         \n",
      "_________________________________________________________________\n",
      "flatten_5 (Flatten)          (None, 32)                0         \n",
      "_________________________________________________________________\n",
      "dense_9 (Dense)              (None, 128)               4224      \n",
      "_________________________________________________________________\n",
      "dense_10 (Dense)             (None, 10)                1290      \n",
      "=================================================================\n",
      "Total params: 15,146\n",
      "Trainable params: 15,050\n",
      "Non-trainable params: 96\n",
      "_________________________________________________________________\n"
     ]
    }
   ],
   "source": [
    "model = Sequential()\n",
    "model.add(Conv2D(16, kernel_size=(3, 3),activation='relu',input_shape=input_shape))\n",
    "model.add(Conv2D(16, kernel_size=(3, 3), activation='relu', padding='same'))\n",
    "\n",
    "\n",
    "model.add(MaxPooling2D(pool_size=(2, 2)))\n",
    "model.add(Conv2D(16, (3, 3), activation='relu'))\n",
    "          \n",
    "model.add(MaxPooling2D(pool_size=(2, 2)))\n",
    "model.add(BatchNormalization())\n",
    "model.add(Dropout(0.15))\n",
    "\n",
    "model.add(Conv2D(32, (3, 3), activation='relu'))\n",
    "model.add(MaxPooling2D(pool_size=(2, 2)))\n",
    "model.add(BatchNormalization())\n",
    "model.add(Dropout(0.15))\n",
    "\n",
    "\n",
    "model.add(Flatten())\n",
    "model.add(Dense(128, activation='relu'))\n",
    "model.add(Dense(num_classes, activation='softmax'))\n",
    "\n",
    "model.summary()"
   ]
  },
  {
   "cell_type": "code",
   "execution_count": 0,
   "metadata": {
    "colab": {
     "base_uri": "https://localhost:8080/",
     "height": 742
    },
    "colab_type": "code",
    "id": "mkuT4yBrlt3H",
    "outputId": "c2fd7081-2647-49b5-ef1a-0519903c8f52"
   },
   "outputs": [
    {
     "name": "stdout",
     "output_type": "stream",
     "text": [
      "Train on 60000 samples, validate on 10000 samples\n",
      "Epoch 1/12\n",
      "60000/60000 [==============================] - 5s 88us/step - loss: 0.3755 - acc: 0.8907 - val_loss: 0.0954 - val_acc: 0.9699\n",
      "Epoch 2/12\n",
      "60000/60000 [==============================] - 4s 65us/step - loss: 0.1209 - acc: 0.9630 - val_loss: 0.0673 - val_acc: 0.9810\n",
      "Epoch 3/12\n",
      "60000/60000 [==============================] - 4s 65us/step - loss: 0.0898 - acc: 0.9718 - val_loss: 0.0647 - val_acc: 0.9788\n",
      "Epoch 4/12\n",
      "60000/60000 [==============================] - 4s 65us/step - loss: 0.0807 - acc: 0.9749 - val_loss: 0.0552 - val_acc: 0.9823\n",
      "Epoch 5/12\n",
      "60000/60000 [==============================] - 4s 63us/step - loss: 0.0706 - acc: 0.9776 - val_loss: 0.0474 - val_acc: 0.9854\n",
      "Epoch 6/12\n",
      "60000/60000 [==============================] - 4s 63us/step - loss: 0.0626 - acc: 0.9805 - val_loss: 0.0423 - val_acc: 0.9867\n",
      "Epoch 7/12\n",
      "60000/60000 [==============================] - 4s 63us/step - loss: 0.0594 - acc: 0.9811 - val_loss: 0.0455 - val_acc: 0.9856\n",
      "Epoch 8/12\n",
      "60000/60000 [==============================] - 4s 63us/step - loss: 0.0555 - acc: 0.9823 - val_loss: 0.0486 - val_acc: 0.9861\n",
      "Epoch 9/12\n",
      "60000/60000 [==============================] - 4s 65us/step - loss: 0.0522 - acc: 0.9832 - val_loss: 0.0396 - val_acc: 0.9882\n",
      "Epoch 10/12\n",
      "60000/60000 [==============================] - 4s 63us/step - loss: 0.0483 - acc: 0.9844 - val_loss: 0.0397 - val_acc: 0.9878\n",
      "Epoch 11/12\n",
      "60000/60000 [==============================] - 4s 63us/step - loss: 0.0495 - acc: 0.9841 - val_loss: 0.0398 - val_acc: 0.9880\n",
      "Epoch 12/12\n",
      "60000/60000 [==============================] - 4s 64us/step - loss: 0.0455 - acc: 0.9857 - val_loss: 0.0422 - val_acc: 0.9877\n",
      "Test score: 0.042175486064370486\n",
      "Test accuracy: 0.9877\n"
     ]
    },
    {
     "data": {
      "image/png": "[encoded data removed]",
      "text/plain": [
       "<Figure size 432x288 with 1 Axes>"
      ]
     },
     "metadata": {
      "tags": []
     },
     "output_type": "display_data"
    }
   ],
   "source": [
    "model.compile(loss=keras.losses.categorical_crossentropy,\n",
    "              optimizer=keras.optimizers.Adam(),\n",
    "              metrics=['accuracy'])\n",
    "\n",
    "history = model.fit(x_train, y_train,\n",
    "          batch_size=batch_size,\n",
    "          epochs=epochs,\n",
    "          verbose=1,\n",
    "          validation_data=(x_test, y_test))\n",
    "\n",
    "score = model.evaluate(x_test, y_test, verbose=0) \n",
    "print('Test score:', score[0]) \n",
    "print('Test accuracy:', score[1])\n",
    "\n",
    "fig,ax = plt.subplots(1,1)\n",
    "ax.set_xlabel('epoch') ; ax.set_ylabel('Categorical Crossentropy Loss')\n",
    "\n",
    "# list of epoch numbers\n",
    "x = list(range(1,epochs+1))\n",
    "\n",
    "# print(history.history.keys())\n",
    "# dict_keys(['val_loss', 'val_acc', 'loss', 'acc'])\n",
    "# history = model_drop.fit(X_train, Y_train, batch_size=batch_size, epochs=nb_epoch, verbose=1, validation_data=(X_test, Y_test))\n",
    "\n",
    "# we will get val_loss and val_acc only when you pass the paramter validation_data\n",
    "# val_loss : validation loss\n",
    "# val_acc : validation accuracy\n",
    "\n",
    "# loss : training loss\n",
    "# acc : train accuracy\n",
    "# for each key in histrory.histrory we will have a list of length equal to number of epochs\n",
    "\n",
    "vy = history.history['val_loss']\n",
    "ty = history.history['loss']\n",
    "plt_dynamic(x, vy, ty, ax)"
   ]
  },
  {
   "cell_type": "markdown",
   "metadata": {
    "colab_type": "text",
    "id": "lTaYzN2llv2r"
   },
   "source": [
    "## Evaluating Model\n",
    "\n",
    "We can clearly observe that we initially we kept filter size is less and gradually increasing gives our perfect model.\n",
    "\n",
    "Model is not overfitting."
   ]
  },
  {
   "cell_type": "markdown",
   "metadata": {
    "colab_type": "text",
    "id": "p_Fk4ununBOF"
   },
   "source": [
    "# 5*5 ConvNet, Optimizer 'ADAM'"
   ]
  },
  {
   "cell_type": "code",
   "execution_count": 20,
   "metadata": {
    "colab": {
     "base_uri": "https://localhost:8080/",
     "height": 476
    },
    "colab_type": "code",
    "id": "s_N8nuqPncx6",
    "outputId": "380ff71b-ad18-44e7-f389-c04cbd359ddc"
   },
   "outputs": [
    {
     "name": "stdout",
     "output_type": "stream",
     "text": [
      "_________________________________________________________________\n",
      "Layer (type)                 Output Shape              Param #   \n",
      "=================================================================\n",
      "conv2d_25 (Conv2D)           (None, 28, 28, 1)         26        \n",
      "_________________________________________________________________\n",
      "max_pooling2d_19 (MaxPooling (None, 14, 14, 1)         0         \n",
      "_________________________________________________________________\n",
      "dropout_15 (Dropout)         (None, 14, 14, 1)         0         \n",
      "_________________________________________________________________\n",
      "conv2d_26 (Conv2D)           (None, 10, 10, 2)         52        \n",
      "_________________________________________________________________\n",
      "max_pooling2d_20 (MaxPooling (None, 5, 5, 2)           0         \n",
      "_________________________________________________________________\n",
      "dropout_16 (Dropout)         (None, 5, 5, 2)           0         \n",
      "_________________________________________________________________\n",
      "flatten_9 (Flatten)          (None, 50)                0         \n",
      "_________________________________________________________________\n",
      "dense_20 (Dense)             (None, 4)                 204       \n",
      "_________________________________________________________________\n",
      "dense_21 (Dense)             (None, 8)                 40        \n",
      "_________________________________________________________________\n",
      "dense_22 (Dense)             (None, 10)                90        \n",
      "=================================================================\n",
      "Total params: 412\n",
      "Trainable params: 412\n",
      "Non-trainable params: 0\n",
      "_________________________________________________________________\n"
     ]
    }
   ],
   "source": [
    "model = Sequential()\n",
    "\n",
    "#1st laeyr\n",
    "model.add(Conv2D(1, kernel_size=(5, 5),activation='relu',padding='same', input_shape=input_shape))\n",
    "model.add(MaxPooling2D(pool_size=(2, 2),strides=2))\n",
    "model.add(Dropout(0.10))\n",
    "\n",
    "\n",
    "# 2nd layer\n",
    "model.add(Conv2D(2, kernel_size=(5, 5),activation='relu'))\n",
    "model.add(MaxPooling2D(pool_size=(2, 2),strides=2))\n",
    "model.add(Dropout(0.25))\n",
    "\n",
    "\n",
    "model.add(Flatten())\n",
    "model.add(Dense(4, activation='relu'))\n",
    "model.add(Dense(8, activation='relu'))\n",
    "\n",
    "model.add(Dense(num_classes, activation='softmax'))\n",
    "\n",
    "model.summary()"
   ]
  },
  {
   "cell_type": "code",
   "execution_count": 21,
   "metadata": {
    "colab": {
     "base_uri": "https://localhost:8080/",
     "height": 742
    },
    "colab_type": "code",
    "id": "wY6DIx--v0sW",
    "outputId": "97585a91-e3ab-48da-ed9f-378c1f9e8eb7"
   },
   "outputs": [
    {
     "name": "stdout",
     "output_type": "stream",
     "text": [
      "Train on 60000 samples, validate on 10000 samples\n",
      "Epoch 1/12\n",
      "60000/60000 [==============================] - 4s 70us/step - loss: 1.9163 - acc: 0.3024 - val_loss: 1.2200 - val_acc: 0.5752\n",
      "Epoch 2/12\n",
      "60000/60000 [==============================] - 3s 47us/step - loss: 1.2467 - acc: 0.5540 - val_loss: 0.8910 - val_acc: 0.7004\n",
      "Epoch 3/12\n",
      "60000/60000 [==============================] - 3s 45us/step - loss: 1.0484 - acc: 0.6328 - val_loss: 0.7254 - val_acc: 0.7819\n",
      "Epoch 4/12\n",
      "60000/60000 [==============================] - 3s 47us/step - loss: 0.9283 - acc: 0.6795 - val_loss: 0.6387 - val_acc: 0.8051\n",
      "Epoch 5/12\n",
      "60000/60000 [==============================] - 3s 46us/step - loss: 0.8530 - acc: 0.7091 - val_loss: 0.5656 - val_acc: 0.8296\n",
      "Epoch 6/12\n",
      "60000/60000 [==============================] - 3s 45us/step - loss: 0.8090 - acc: 0.7254 - val_loss: 0.5413 - val_acc: 0.8403\n",
      "Epoch 7/12\n",
      "60000/60000 [==============================] - 3s 45us/step - loss: 0.7784 - acc: 0.7375 - val_loss: 0.5165 - val_acc: 0.8480\n",
      "Epoch 8/12\n",
      "60000/60000 [==============================] - 3s 44us/step - loss: 0.7546 - acc: 0.7474 - val_loss: 0.4948 - val_acc: 0.8571\n",
      "Epoch 9/12\n",
      "60000/60000 [==============================] - 3s 44us/step - loss: 0.7296 - acc: 0.7583 - val_loss: 0.4650 - val_acc: 0.8669\n",
      "Epoch 10/12\n",
      "60000/60000 [==============================] - 3s 44us/step - loss: 0.7143 - acc: 0.7627 - val_loss: 0.4587 - val_acc: 0.8689\n",
      "Epoch 11/12\n",
      "60000/60000 [==============================] - 3s 45us/step - loss: 0.6974 - acc: 0.7701 - val_loss: 0.4491 - val_acc: 0.8705\n",
      "Epoch 12/12\n",
      "60000/60000 [==============================] - 3s 44us/step - loss: 0.6839 - acc: 0.7731 - val_loss: 0.4243 - val_acc: 0.8811\n",
      "Test score: 0.424343634724617\n",
      "Test accuracy: 0.8811\n"
     ]
    },
    {
     "data": {
      "image/png": "[encoded data removed]",
      "text/plain": [
       "<Figure size 432x288 with 1 Axes>"
      ]
     },
     "metadata": {
      "tags": []
     },
     "output_type": "display_data"
    }
   ],
   "source": [
    "model.compile(loss=keras.losses.categorical_crossentropy,\n",
    "              optimizer=keras.optimizers.Adam(),\n",
    "              metrics=['accuracy'])\n",
    "\n",
    "history = model.fit(x_train, y_train,\n",
    "          batch_size=batch_size,\n",
    "          epochs=epochs,\n",
    "          verbose=1,\n",
    "          validation_data=(x_test, y_test))\n",
    "\n",
    "score = model.evaluate(x_test, y_test, verbose=0) \n",
    "print('Test score:', score[0]) \n",
    "print('Test accuracy:', score[1])\n",
    "\n",
    "fig,ax = plt.subplots(1,1)\n",
    "ax.set_xlabel('epoch') ; ax.set_ylabel('Categorical Crossentropy Loss')\n",
    "\n",
    "# list of epoch numbers\n",
    "x = list(range(1,epochs+1))\n",
    "\n",
    "# print(history.history.keys())\n",
    "# dict_keys(['val_loss', 'val_acc', 'loss', 'acc'])\n",
    "# history = model_drop.fit(X_train, Y_train, batch_size=batch_size, epochs=nb_epoch, verbose=1, validation_data=(X_test, Y_test))\n",
    "\n",
    "# we will get val_loss and val_acc only when you pass the paramter validation_data\n",
    "# val_loss : validation loss\n",
    "# val_acc : validation accuracy\n",
    "\n",
    "# loss : training loss\n",
    "# acc : train accuracy\n",
    "# for each key in histrory.histrory we will have a list of length equal to number of epochs\n",
    "\n",
    "vy = history.history['val_loss']\n",
    "ty = history.history['loss']\n",
    "plt_dynamic(x, vy, ty, ax)"
   ]
  },
  {
   "cell_type": "markdown",
   "metadata": {
    "colab_type": "text",
    "id": "3GISWFugl2vK"
   },
   "source": [
    "## Evaluating Model\n",
    "\n",
    "As we observe training error is large and validation error is small way smaller then model is **underfit**. We have used extremely small number of filters, which cause model tends to underfit.\n",
    "\n",
    "How we will increase slightly number of filters ie increasing filter width"
   ]
  },
  {
   "cell_type": "code",
   "execution_count": 36,
   "metadata": {
    "colab": {
     "base_uri": "https://localhost:8080/",
     "height": 510
    },
    "colab_type": "code",
    "id": "kcvBTN6VnDHC",
    "outputId": "2fc46892-d678-4ca0-ba38-d29bd2622f5d"
   },
   "outputs": [
    {
     "name": "stdout",
     "output_type": "stream",
     "text": [
      "_________________________________________________________________\n",
      "Layer (type)                 Output Shape              Param #   \n",
      "=================================================================\n",
      "conv2d_41 (Conv2D)           (None, 28, 28, 8)         208       \n",
      "_________________________________________________________________\n",
      "max_pooling2d_35 (MaxPooling (None, 14, 14, 8)         0         \n",
      "_________________________________________________________________\n",
      "dropout_31 (Dropout)         (None, 14, 14, 8)         0         \n",
      "_________________________________________________________________\n",
      "conv2d_42 (Conv2D)           (None, 10, 10, 16)        3216      \n",
      "_________________________________________________________________\n",
      "max_pooling2d_36 (MaxPooling (None, 5, 5, 16)          0         \n",
      "_________________________________________________________________\n",
      "dropout_32 (Dropout)         (None, 5, 5, 16)          0         \n",
      "_________________________________________________________________\n",
      "flatten_17 (Flatten)         (None, 400)               0         \n",
      "_________________________________________________________________\n",
      "dense_51 (Dense)             (None, 200)               80200     \n",
      "_________________________________________________________________\n",
      "dense_52 (Dense)             (None, 128)               25728     \n",
      "_________________________________________________________________\n",
      "dense_53 (Dense)             (None, 64)                8256      \n",
      "_________________________________________________________________\n",
      "dense_54 (Dense)             (None, 10)                650       \n",
      "=================================================================\n",
      "Total params: 118,258\n",
      "Trainable params: 118,258\n",
      "Non-trainable params: 0\n",
      "_________________________________________________________________\n"
     ]
    }
   ],
   "source": [
    "model = Sequential()\n",
    "\n",
    "#1st laeyr\n",
    "model.add(Conv2D(8, kernel_size=(5, 5),activation='relu',padding='same', input_shape=input_shape))\n",
    "model.add(MaxPooling2D(pool_size=(2, 2),strides=2))\n",
    "model.add(Dropout(0.10))\n",
    "\n",
    "\n",
    "# 2nd layer\n",
    "model.add(Conv2D(16, kernel_size=(5, 5),activation='relu'))\n",
    "model.add(MaxPooling2D(pool_size=(2, 2),strides=2))\n",
    "model.add(Dropout(0.25))\n",
    "\n",
    "\n",
    "model.add(Flatten())\n",
    "model.add(Dense(200, activation='relu'))\n",
    "model.add(Dense(128, activation='relu'))\n",
    "model.add(Dense(64, activation='relu'))\n",
    "\n",
    "model.add(Dense(num_classes, activation='softmax'))\n",
    "\n",
    "model.summary()"
   ]
  },
  {
   "cell_type": "code",
   "execution_count": 37,
   "metadata": {
    "colab": {
     "base_uri": "https://localhost:8080/",
     "height": 742
    },
    "colab_type": "code",
    "id": "nagzy_jRnRi8",
    "outputId": "57120e43-a44d-4a45-f572-49a0d9091914"
   },
   "outputs": [
    {
     "name": "stdout",
     "output_type": "stream",
     "text": [
      "Train on 60000 samples, validate on 10000 samples\n",
      "Epoch 1/12\n",
      "60000/60000 [==============================] - 6s 102us/step - loss: 0.3559 - acc: 0.8856 - val_loss: 0.0775 - val_acc: 0.9745\n",
      "Epoch 2/12\n",
      "60000/60000 [==============================] - 3s 52us/step - loss: 0.1058 - acc: 0.9670 - val_loss: 0.0519 - val_acc: 0.9829\n",
      "Epoch 3/12\n",
      "60000/60000 [==============================] - 3s 52us/step - loss: 0.0779 - acc: 0.9755 - val_loss: 0.0447 - val_acc: 0.9859\n",
      "Epoch 4/12\n",
      "60000/60000 [==============================] - 3s 51us/step - loss: 0.0647 - acc: 0.9801 - val_loss: 0.0373 - val_acc: 0.9877\n",
      "Epoch 5/12\n",
      "60000/60000 [==============================] - 3s 52us/step - loss: 0.0568 - acc: 0.9820 - val_loss: 0.0366 - val_acc: 0.9882\n",
      "Epoch 6/12\n",
      "60000/60000 [==============================] - 3s 52us/step - loss: 0.0493 - acc: 0.9844 - val_loss: 0.0330 - val_acc: 0.9894\n",
      "Epoch 7/12\n",
      "60000/60000 [==============================] - 3s 53us/step - loss: 0.0456 - acc: 0.9851 - val_loss: 0.0295 - val_acc: 0.9899\n",
      "Epoch 8/12\n",
      "60000/60000 [==============================] - 3s 55us/step - loss: 0.0416 - acc: 0.9866 - val_loss: 0.0294 - val_acc: 0.9916\n",
      "Epoch 9/12\n",
      "60000/60000 [==============================] - 3s 55us/step - loss: 0.0378 - acc: 0.9876 - val_loss: 0.0260 - val_acc: 0.9916\n",
      "Epoch 10/12\n",
      "60000/60000 [==============================] - 3s 54us/step - loss: 0.0342 - acc: 0.9892 - val_loss: 0.0276 - val_acc: 0.9906\n",
      "Epoch 11/12\n",
      "60000/60000 [==============================] - 3s 53us/step - loss: 0.0328 - acc: 0.9894 - val_loss: 0.0264 - val_acc: 0.9912\n",
      "Epoch 12/12\n",
      "60000/60000 [==============================] - 3s 52us/step - loss: 0.0318 - acc: 0.9896 - val_loss: 0.0246 - val_acc: 0.9916\n",
      "Test score: 0.024570954338563024\n",
      "Test accuracy: 0.9916\n"
     ]
    },
    {
     "data": {
      "image/png": "[encoded data removed]",
      "text/plain": [
       "<Figure size 432x288 with 1 Axes>"
      ]
     },
     "metadata": {
      "tags": []
     },
     "output_type": "display_data"
    }
   ],
   "source": [
    "model.compile(loss=keras.losses.categorical_crossentropy,\n",
    "              optimizer=keras.optimizers.Adam(),\n",
    "              metrics=['accuracy'])\n",
    "\n",
    "history = model.fit(x_train, y_train,\n",
    "          batch_size=batch_size,\n",
    "          epochs=epochs,\n",
    "          verbose=1,\n",
    "          validation_data=(x_test, y_test))\n",
    "\n",
    "score = model.evaluate(x_test, y_test, verbose=0) \n",
    "print('Test score:', score[0]) \n",
    "print('Test accuracy:', score[1])\n",
    "\n",
    "fig,ax = plt.subplots(1,1)\n",
    "ax.set_xlabel('epoch') ; ax.set_ylabel('Categorical Crossentropy Loss')\n",
    "\n",
    "# list of epoch numbers\n",
    "x = list(range(1,epochs+1))\n",
    "\n",
    "# print(history.history.keys())\n",
    "# dict_keys(['val_loss', 'val_acc', 'loss', 'acc'])\n",
    "# history = model_drop.fit(X_train, Y_train, batch_size=batch_size, epochs=nb_epoch, verbose=1, validation_data=(X_test, Y_test))\n",
    "\n",
    "# we will get val_loss and val_acc only when you pass the paramter validation_data\n",
    "# val_loss : validation loss\n",
    "# val_acc : validation accuracy\n",
    "\n",
    "# loss : training loss\n",
    "# acc : train accuracy\n",
    "# for each key in histrory.histrory we will have a list of length equal to number of epochs\n",
    "\n",
    "vy = history.history['val_loss']\n",
    "ty = history.history['loss']\n",
    "plt_dynamic(x, vy, ty, ax)"
   ]
  },
  {
   "cell_type": "markdown",
   "metadata": {
    "colab_type": "text",
    "id": "YZ59qWqtA24T"
   },
   "source": [
    "# 7*7 ConvNet, Optimizer 'Adam'"
   ]
  },
  {
   "cell_type": "code",
   "execution_count": 38,
   "metadata": {
    "colab": {
     "base_uri": "https://localhost:8080/",
     "height": 578
    },
    "colab_type": "code",
    "id": "5zB8mCZUBKot",
    "outputId": "9ff62446-273a-49a2-a615-7012d92e81a5"
   },
   "outputs": [
    {
     "name": "stdout",
     "output_type": "stream",
     "text": [
      "_________________________________________________________________\n",
      "Layer (type)                 Output Shape              Param #   \n",
      "=================================================================\n",
      "conv2d_43 (Conv2D)           (None, 28, 28, 16)        800       \n",
      "_________________________________________________________________\n",
      "max_pooling2d_37 (MaxPooling (None, 26, 26, 16)        0         \n",
      "_________________________________________________________________\n",
      "batch_normalization_21 (Batc (None, 26, 26, 16)        64        \n",
      "_________________________________________________________________\n",
      "dropout_33 (Dropout)         (None, 26, 26, 16)        0         \n",
      "_________________________________________________________________\n",
      "conv2d_44 (Conv2D)           (None, 20, 20, 32)        25120     \n",
      "_________________________________________________________________\n",
      "max_pooling2d_38 (MaxPooling (None, 9, 9, 32)          0         \n",
      "_________________________________________________________________\n",
      "batch_normalization_22 (Batc (None, 9, 9, 32)          128       \n",
      "_________________________________________________________________\n",
      "dropout_34 (Dropout)         (None, 9, 9, 32)          0         \n",
      "_________________________________________________________________\n",
      "flatten_18 (Flatten)         (None, 2592)              0         \n",
      "_________________________________________________________________\n",
      "dense_55 (Dense)             (None, 3200)              8297600   \n",
      "_________________________________________________________________\n",
      "dense_56 (Dense)             (None, 800)               2560800   \n",
      "_________________________________________________________________\n",
      "dense_57 (Dense)             (None, 400)               320400    \n",
      "_________________________________________________________________\n",
      "dense_58 (Dense)             (None, 10)                4010      \n",
      "=================================================================\n",
      "Total params: 11,208,922\n",
      "Trainable params: 11,208,826\n",
      "Non-trainable params: 96\n",
      "_________________________________________________________________\n"
     ]
    }
   ],
   "source": [
    "model = Sequential()\n",
    "\n",
    "# 1st layer\n",
    "model.add(Conv2D(16, kernel_size=(7, 7),activation='relu',padding='same', input_shape=input_shape))\n",
    "model.add(MaxPooling2D(pool_size=(3, 3),strides=1))\n",
    "model.add(BatchNormalization())\n",
    "model.add(Dropout(0.15))\n",
    "\n",
    "\n",
    "# 2nd layer\n",
    "model.add(Conv2D(32, (7, 7), activation='relu'))\n",
    "model.add(MaxPooling2D(pool_size=(3,3 ),strides=2))\n",
    "model.add(BatchNormalization())\n",
    "model.add(Dropout(0.20))\n",
    "\n",
    "\n",
    "model.add(Flatten())\n",
    "model.add(Dense(3200, activation='relu'))\n",
    "model.add(Dense(800, activation='relu'))\n",
    "model.add(Dense(400, activation='relu'))\n",
    "\n",
    "model.add(Dense(num_classes, activation='softmax'))\n",
    "\n",
    "model.summary()"
   ]
  },
  {
   "cell_type": "code",
   "execution_count": 39,
   "metadata": {
    "colab": {
     "base_uri": "https://localhost:8080/",
     "height": 742
    },
    "colab_type": "code",
    "id": "Bq2bOirHDvb_",
    "outputId": "e89b4fe2-527a-4f52-9725-7f2f64e2f7e1"
   },
   "outputs": [
    {
     "name": "stdout",
     "output_type": "stream",
     "text": [
      "Train on 60000 samples, validate on 10000 samples\n",
      "Epoch 1/12\n",
      "60000/60000 [==============================] - 12s 208us/step - loss: 0.1354 - acc: 0.9626 - val_loss: 0.0759 - val_acc: 0.9770\n",
      "Epoch 2/12\n",
      "60000/60000 [==============================] - 9s 146us/step - loss: 0.0528 - acc: 0.9850 - val_loss: 0.0564 - val_acc: 0.9849\n",
      "Epoch 3/12\n",
      "60000/60000 [==============================] - 9s 147us/step - loss: 0.0405 - acc: 0.9891 - val_loss: 0.0361 - val_acc: 0.9904\n",
      "Epoch 4/12\n",
      "60000/60000 [==============================] - 9s 148us/step - loss: 0.0339 - acc: 0.9907 - val_loss: 0.0460 - val_acc: 0.9884\n",
      "Epoch 5/12\n",
      "60000/60000 [==============================] - 9s 147us/step - loss: 0.0301 - acc: 0.9917 - val_loss: 0.0358 - val_acc: 0.9906\n",
      "Epoch 6/12\n",
      "60000/60000 [==============================] - 9s 147us/step - loss: 0.0251 - acc: 0.9927 - val_loss: 0.0306 - val_acc: 0.9920\n",
      "Epoch 7/12\n",
      "60000/60000 [==============================] - 9s 148us/step - loss: 0.0235 - acc: 0.9933 - val_loss: 0.0399 - val_acc: 0.9909\n",
      "Epoch 8/12\n",
      "60000/60000 [==============================] - 9s 148us/step - loss: 0.0234 - acc: 0.9935 - val_loss: 0.0399 - val_acc: 0.9910\n",
      "Epoch 9/12\n",
      "60000/60000 [==============================] - 9s 149us/step - loss: 0.0198 - acc: 0.9947 - val_loss: 0.0543 - val_acc: 0.9867\n",
      "Epoch 10/12\n",
      "60000/60000 [==============================] - 9s 148us/step - loss: 0.0258 - acc: 0.9931 - val_loss: 0.0370 - val_acc: 0.9908\n",
      "Epoch 11/12\n",
      "60000/60000 [==============================] - 9s 148us/step - loss: 0.0178 - acc: 0.9951 - val_loss: 0.1011 - val_acc: 0.9800\n",
      "Epoch 12/12\n",
      "60000/60000 [==============================] - 9s 148us/step - loss: 0.0183 - acc: 0.9956 - val_loss: 0.0548 - val_acc: 0.9884\n",
      "Test score: 0.054796922633474424\n",
      "Test accuracy: 0.9884\n"
     ]
    },
    {
     "data": {
      "image/png": "[encoded data removed]",
      "text/plain": [
       "<Figure size 432x288 with 1 Axes>"
      ]
     },
     "metadata": {
      "tags": []
     },
     "output_type": "display_data"
    }
   ],
   "source": [
    "model.compile(loss=keras.losses.categorical_crossentropy,\n",
    "              optimizer=keras.optimizers.Adam(),\n",
    "              metrics=['accuracy'])\n",
    "\n",
    "history = model.fit(x_train, y_train,\n",
    "          batch_size=batch_size,\n",
    "          epochs=epochs,\n",
    "          verbose=1,\n",
    "          validation_data=(x_test, y_test))\n",
    "\n",
    "score = model.evaluate(x_test, y_test, verbose=0) \n",
    "print('Test score:', score[0]) \n",
    "print('Test accuracy:', score[1])\n",
    "\n",
    "fig,ax = plt.subplots(1,1)\n",
    "ax.set_xlabel('epoch') ; ax.set_ylabel('Categorical Crossentropy Loss')\n",
    "\n",
    "# list of epoch numbers\n",
    "x = list(range(1,epochs+1))\n",
    "\n",
    "# print(history.history.keys())\n",
    "# dict_keys(['val_loss', 'val_acc', 'loss', 'acc'])\n",
    "# history = model_drop.fit(X_train, Y_train, batch_size=batch_size, epochs=nb_epoch, verbose=1, validation_data=(X_test, Y_test))\n",
    "\n",
    "# we will get val_loss and val_acc only when you pass the paramter validation_data\n",
    "# val_loss : validation loss\n",
    "# val_acc : validation accuracy\n",
    "\n",
    "# loss : training loss\n",
    "# acc : train accuracy\n",
    "# for each key in histrory.histrory we will have a list of length equal to number of epochs\n",
    "\n",
    "vy = history.history['val_loss']\n",
    "ty = history.history['loss']\n",
    "plt_dynamic(x, vy, ty, ax)"
   ]
  },
  {
   "cell_type": "markdown",
   "metadata": {
    "colab_type": "text",
    "id": "qP06R235oUBZ"
   },
   "source": [
    "## Evaluating Model\n",
    "\n",
    "It can be observe that model is overfitting because we have used Max Pooling matrices (3,3) , for ConvNet ( 7,7 ).\n",
    "\n",
    "\n",
    "We have using 2*2 matrics for Max Pooling."
   ]
  },
  {
   "cell_type": "code",
   "execution_count": 40,
   "metadata": {
    "colab": {
     "base_uri": "https://localhost:8080/",
     "height": 578
    },
    "colab_type": "code",
    "id": "H2A6EEKKpcRT",
    "outputId": "7444e59e-3800-41cc-9f09-ed5541d14cbf"
   },
   "outputs": [
    {
     "name": "stdout",
     "output_type": "stream",
     "text": [
      "_________________________________________________________________\n",
      "Layer (type)                 Output Shape              Param #   \n",
      "=================================================================\n",
      "conv2d_45 (Conv2D)           (None, 28, 28, 16)        800       \n",
      "_________________________________________________________________\n",
      "max_pooling2d_39 (MaxPooling (None, 27, 27, 16)        0         \n",
      "_________________________________________________________________\n",
      "batch_normalization_23 (Batc (None, 27, 27, 16)        64        \n",
      "_________________________________________________________________\n",
      "dropout_35 (Dropout)         (None, 27, 27, 16)        0         \n",
      "_________________________________________________________________\n",
      "conv2d_46 (Conv2D)           (None, 21, 21, 32)        25120     \n",
      "_________________________________________________________________\n",
      "max_pooling2d_40 (MaxPooling (None, 10, 10, 32)        0         \n",
      "_________________________________________________________________\n",
      "batch_normalization_24 (Batc (None, 10, 10, 32)        128       \n",
      "_________________________________________________________________\n",
      "dropout_36 (Dropout)         (None, 10, 10, 32)        0         \n",
      "_________________________________________________________________\n",
      "flatten_19 (Flatten)         (None, 3200)              0         \n",
      "_________________________________________________________________\n",
      "dense_59 (Dense)             (None, 3200)              10243200  \n",
      "_________________________________________________________________\n",
      "dense_60 (Dense)             (None, 800)               2560800   \n",
      "_________________________________________________________________\n",
      "dense_61 (Dense)             (None, 400)               320400    \n",
      "_________________________________________________________________\n",
      "dense_62 (Dense)             (None, 10)                4010      \n",
      "=================================================================\n",
      "Total params: 13,154,522\n",
      "Trainable params: 13,154,426\n",
      "Non-trainable params: 96\n",
      "_________________________________________________________________\n"
     ]
    }
   ],
   "source": [
    "model = Sequential()\n",
    "\n",
    "# 1st layer\n",
    "model.add(Conv2D(16, kernel_size=(7, 7),activation='relu',padding='same', input_shape=input_shape))\n",
    "model.add(MaxPooling2D(pool_size=(2, 2),strides=1))\n",
    "model.add(BatchNormalization())\n",
    "model.add(Dropout(0.15))\n",
    "\n",
    "\n",
    "# 2nd layer\n",
    "model.add(Conv2D(32, (7, 7), activation='relu'))\n",
    "model.add(MaxPooling2D(pool_size=(2,2 ),strides=2))\n",
    "model.add(BatchNormalization())\n",
    "model.add(Dropout(0.20))\n",
    "\n",
    "\n",
    "model.add(Flatten())\n",
    "model.add(Dense(3200, activation='relu'))\n",
    "model.add(Dense(800, activation='relu'))\n",
    "model.add(Dense(400, activation='relu'))\n",
    "\n",
    "model.add(Dense(num_classes, activation='softmax'))\n",
    "\n",
    "model.summary()"
   ]
  },
  {
   "cell_type": "code",
   "execution_count": 41,
   "metadata": {
    "colab": {
     "base_uri": "https://localhost:8080/",
     "height": 742
    },
    "colab_type": "code",
    "id": "0qFyxMgRpuNo",
    "outputId": "2552a742-bb67-4f5e-c8f1-6124a9fc8842"
   },
   "outputs": [
    {
     "name": "stdout",
     "output_type": "stream",
     "text": [
      "Train on 60000 samples, validate on 10000 samples\n",
      "Epoch 1/12\n",
      "60000/60000 [==============================] - 14s 231us/step - loss: 0.1416 - acc: 0.9612 - val_loss: 0.0499 - val_acc: 0.9842\n",
      "Epoch 2/12\n",
      "60000/60000 [==============================] - 11s 177us/step - loss: 0.0563 - acc: 0.9841 - val_loss: 0.0440 - val_acc: 0.9883\n",
      "Epoch 3/12\n",
      "60000/60000 [==============================] - 10s 173us/step - loss: 0.0409 - acc: 0.9884 - val_loss: 0.0557 - val_acc: 0.9846\n",
      "Epoch 4/12\n",
      "60000/60000 [==============================] - 10s 172us/step - loss: 0.0289 - acc: 0.9917 - val_loss: 0.0445 - val_acc: 0.9881\n",
      "Epoch 5/12\n",
      "60000/60000 [==============================] - 10s 173us/step - loss: 0.0273 - acc: 0.9925 - val_loss: 0.0384 - val_acc: 0.9907\n",
      "Epoch 6/12\n",
      "60000/60000 [==============================] - 10s 174us/step - loss: 0.0279 - acc: 0.9924 - val_loss: 0.0515 - val_acc: 0.9883\n",
      "Epoch 7/12\n",
      "60000/60000 [==============================] - 10s 173us/step - loss: 0.0280 - acc: 0.9923 - val_loss: 0.0358 - val_acc: 0.9913\n",
      "Epoch 8/12\n",
      "60000/60000 [==============================] - 10s 173us/step - loss: 0.0191 - acc: 0.9948 - val_loss: 0.0492 - val_acc: 0.9865\n",
      "Epoch 9/12\n",
      "60000/60000 [==============================] - 10s 173us/step - loss: 0.0221 - acc: 0.9939 - val_loss: 0.0399 - val_acc: 0.9915\n",
      "Epoch 10/12\n",
      "60000/60000 [==============================] - 10s 174us/step - loss: 0.0196 - acc: 0.9948 - val_loss: 0.0308 - val_acc: 0.9923\n",
      "Epoch 11/12\n",
      "60000/60000 [==============================] - 10s 174us/step - loss: 0.0173 - acc: 0.9955 - val_loss: 0.0477 - val_acc: 0.9908\n",
      "Epoch 12/12\n",
      "60000/60000 [==============================] - 10s 174us/step - loss: 0.0205 - acc: 0.9951 - val_loss: 0.0458 - val_acc: 0.9914\n",
      "Test score: 0.04580583838448993\n",
      "Test accuracy: 0.9914\n"
     ]
    },
    {
     "data": {
      "image/png": "[encoded data removed]",
      "text/plain": [
       "<Figure size 432x288 with 1 Axes>"
      ]
     },
     "metadata": {
      "tags": []
     },
     "output_type": "display_data"
    }
   ],
   "source": [
    "model.compile(loss=keras.losses.categorical_crossentropy,\n",
    "              optimizer=keras.optimizers.Adam(),\n",
    "              metrics=['accuracy'])\n",
    "\n",
    "history = model.fit(x_train, y_train,\n",
    "          batch_size=batch_size,\n",
    "          epochs=epochs,\n",
    "          verbose=1,\n",
    "          validation_data=(x_test, y_test))\n",
    "\n",
    "score = model.evaluate(x_test, y_test, verbose=0) \n",
    "print('Test score:', score[0]) \n",
    "print('Test accuracy:', score[1])\n",
    "\n",
    "fig,ax = plt.subplots(1,1)\n",
    "ax.set_xlabel('epoch') ; ax.set_ylabel('Categorical Crossentropy Loss')\n",
    "\n",
    "# list of epoch numbers\n",
    "x = list(range(1,epochs+1))\n",
    "\n",
    "# print(history.history.keys())\n",
    "# dict_keys(['val_loss', 'val_acc', 'loss', 'acc'])\n",
    "# history = model_drop.fit(X_train, Y_train, batch_size=batch_size, epochs=nb_epoch, verbose=1, validation_data=(X_test, Y_test))\n",
    "\n",
    "# we will get val_loss and val_acc only when you pass the paramter validation_data\n",
    "# val_loss : validation loss\n",
    "# val_acc : validation accuracy\n",
    "\n",
    "# loss : training loss\n",
    "# acc : train accuracy\n",
    "# for each key in histrory.histrory we will have a list of length equal to number of epochs\n",
    "\n",
    "vy = history.history['val_loss']\n",
    "ty = history.history['loss']\n",
    "plt_dynamic(x, vy, ty, ax)"
   ]
  },
  {
   "cell_type": "markdown",
   "metadata": {
    "colab_type": "text",
    "id": "fQhqPIQo4sUB"
   },
   "source": [
    "## Evaluating model\n",
    "\n",
    "It can be observe that, it is better than previous one, But can we experiment on dense layer?"
   ]
  },
  {
   "cell_type": "code",
   "execution_count": 42,
   "metadata": {
    "colab": {
     "base_uri": "https://localhost:8080/",
     "height": 510
    },
    "colab_type": "code",
    "id": "lbtANPCoqaDX",
    "outputId": "4260f2dd-1254-4fb0-845f-2e1b507c8cfe"
   },
   "outputs": [
    {
     "name": "stdout",
     "output_type": "stream",
     "text": [
      "_________________________________________________________________\n",
      "Layer (type)                 Output Shape              Param #   \n",
      "=================================================================\n",
      "conv2d_47 (Conv2D)           (None, 28, 28, 16)        800       \n",
      "_________________________________________________________________\n",
      "max_pooling2d_41 (MaxPooling (None, 27, 27, 16)        0         \n",
      "_________________________________________________________________\n",
      "batch_normalization_25 (Batc (None, 27, 27, 16)        64        \n",
      "_________________________________________________________________\n",
      "dropout_37 (Dropout)         (None, 27, 27, 16)        0         \n",
      "_________________________________________________________________\n",
      "conv2d_48 (Conv2D)           (None, 21, 21, 32)        25120     \n",
      "_________________________________________________________________\n",
      "max_pooling2d_42 (MaxPooling (None, 10, 10, 32)        0         \n",
      "_________________________________________________________________\n",
      "batch_normalization_26 (Batc (None, 10, 10, 32)        128       \n",
      "_________________________________________________________________\n",
      "dropout_38 (Dropout)         (None, 10, 10, 32)        0         \n",
      "_________________________________________________________________\n",
      "flatten_20 (Flatten)         (None, 3200)              0         \n",
      "_________________________________________________________________\n",
      "dense_63 (Dense)             (None, 400)               1280400   \n",
      "_________________________________________________________________\n",
      "dense_64 (Dense)             (None, 10)                4010      \n",
      "=================================================================\n",
      "Total params: 1,310,522\n",
      "Trainable params: 1,310,426\n",
      "Non-trainable params: 96\n",
      "_________________________________________________________________\n"
     ]
    }
   ],
   "source": [
    "model = Sequential()\n",
    "\n",
    "# 1st layer\n",
    "model.add(Conv2D(16, kernel_size=(7, 7),activation='relu',padding='same', input_shape=input_shape))\n",
    "model.add(MaxPooling2D(pool_size=(2, 2),strides=1))\n",
    "model.add(BatchNormalization())\n",
    "model.add(Dropout(0.15))\n",
    "\n",
    "\n",
    "# 2nd layer\n",
    "model.add(Conv2D(32, (7, 7), activation='relu'))\n",
    "model.add(MaxPooling2D(pool_size=(2,2 ),strides=2))\n",
    "model.add(BatchNormalization())\n",
    "model.add(Dropout(0.20))\n",
    "\n",
    "\n",
    "model.add(Flatten())\n",
    "model.add(Dense(400, activation='relu'))\n",
    "\n",
    "model.add(Dense(num_classes, activation='softmax'))\n",
    "\n",
    "model.summary()"
   ]
  },
  {
   "cell_type": "code",
   "execution_count": 43,
   "metadata": {
    "colab": {
     "base_uri": "https://localhost:8080/",
     "height": 742
    },
    "colab_type": "code",
    "id": "XSLdIcroqpUR",
    "outputId": "e4ce4096-63ba-4722-ef71-8bc6cd955519"
   },
   "outputs": [
    {
     "name": "stdout",
     "output_type": "stream",
     "text": [
      "Train on 60000 samples, validate on 10000 samples\n",
      "Epoch 1/12\n",
      "60000/60000 [==============================] - 9s 156us/step - loss: 0.1133 - acc: 0.9667 - val_loss: 0.0389 - val_acc: 0.9879\n",
      "Epoch 2/12\n",
      "60000/60000 [==============================] - 6s 94us/step - loss: 0.0427 - acc: 0.9869 - val_loss: 0.0346 - val_acc: 0.9893\n",
      "Epoch 3/12\n",
      "60000/60000 [==============================] - 6s 94us/step - loss: 0.0297 - acc: 0.9913 - val_loss: 0.0292 - val_acc: 0.9909\n",
      "Epoch 4/12\n",
      "60000/60000 [==============================] - 6s 95us/step - loss: 0.0226 - acc: 0.9928 - val_loss: 0.0284 - val_acc: 0.9911\n",
      "Epoch 5/12\n",
      "60000/60000 [==============================] - 6s 94us/step - loss: 0.0220 - acc: 0.9932 - val_loss: 0.0382 - val_acc: 0.9906\n",
      "Epoch 6/12\n",
      "60000/60000 [==============================] - 6s 95us/step - loss: 0.0190 - acc: 0.9939 - val_loss: 0.0443 - val_acc: 0.9888\n",
      "Epoch 7/12\n",
      "60000/60000 [==============================] - 6s 95us/step - loss: 0.0179 - acc: 0.9947 - val_loss: 0.0473 - val_acc: 0.9889\n",
      "Epoch 8/12\n",
      "60000/60000 [==============================] - 6s 95us/step - loss: 0.0126 - acc: 0.9960 - val_loss: 0.0314 - val_acc: 0.9916\n",
      "Epoch 9/12\n",
      "60000/60000 [==============================] - 6s 95us/step - loss: 0.0129 - acc: 0.9960 - val_loss: 0.0636 - val_acc: 0.9869\n",
      "Epoch 10/12\n",
      "60000/60000 [==============================] - 6s 95us/step - loss: 0.0129 - acc: 0.9959 - val_loss: 0.0368 - val_acc: 0.9915\n",
      "Epoch 11/12\n",
      "60000/60000 [==============================] - 6s 95us/step - loss: 0.0133 - acc: 0.9959 - val_loss: 0.0379 - val_acc: 0.9910\n",
      "Epoch 12/12\n",
      "60000/60000 [==============================] - 6s 97us/step - loss: 0.0101 - acc: 0.9970 - val_loss: 0.0460 - val_acc: 0.9900\n",
      "Test score: 0.045987277704650886\n",
      "Test accuracy: 0.99\n"
     ]
    },
    {
     "data": {
      "image/png": "[encoded data removed]",
      "text/plain": [
       "<Figure size 432x288 with 1 Axes>"
      ]
     },
     "metadata": {
      "tags": []
     },
     "output_type": "display_data"
    }
   ],
   "source": [
    "model.compile(loss=keras.losses.categorical_crossentropy,\n",
    "              optimizer=keras.optimizers.Adam(),\n",
    "              metrics=['accuracy'])\n",
    "\n",
    "history = model.fit(x_train, y_train,\n",
    "          batch_size=batch_size,\n",
    "          epochs=epochs,\n",
    "          verbose=1,\n",
    "          validation_data=(x_test, y_test))\n",
    "\n",
    "score = model.evaluate(x_test, y_test, verbose=0) \n",
    "print('Test score:', score[0]) \n",
    "print('Test accuracy:', score[1])\n",
    "\n",
    "fig,ax = plt.subplots(1,1)\n",
    "ax.set_xlabel('epoch') ; ax.set_ylabel('Categorical Crossentropy Loss')\n",
    "\n",
    "# list of epoch numbers\n",
    "x = list(range(1,epochs+1))\n",
    "\n",
    "# print(history.history.keys())\n",
    "# dict_keys(['val_loss', 'val_acc', 'loss', 'acc'])\n",
    "# history = model_drop.fit(X_train, Y_train, batch_size=batch_size, epochs=nb_epoch, verbose=1, validation_data=(X_test, Y_test))\n",
    "\n",
    "# we will get val_loss and val_acc only when you pass the paramter validation_data\n",
    "# val_loss : validation loss\n",
    "# val_acc : validation accuracy\n",
    "\n",
    "# loss : training loss\n",
    "# acc : train accuracy\n",
    "# for each key in histrory.histrory we will have a list of length equal to number of epochs\n",
    "\n",
    "vy = history.history['val_loss']\n",
    "ty = history.history['loss']\n",
    "plt_dynamic(x, vy, ty, ax)"
   ]
  },
  {
   "cell_type": "markdown",
   "metadata": {
    "colab_type": "text",
    "id": "wrYPpwIf5Qp-"
   },
   "source": [
    "## Evaluating Model\n",
    "\n",
    "It can be observe that if kept single dense layer after flatten operation model start overfitting."
   ]
  },
  {
   "cell_type": "markdown",
   "metadata": {
    "colab_type": "text",
    "id": "zXCFCdSk5v9e"
   },
   "source": [
    "Adding more Dense layer after flatten layer."
   ]
  },
  {
   "cell_type": "code",
   "execution_count": 44,
   "metadata": {
    "colab": {
     "base_uri": "https://localhost:8080/",
     "height": 612
    },
    "colab_type": "code",
    "id": "k-E4GcA_rFRP",
    "outputId": "b676b423-9f69-4900-b799-e94987d143e5"
   },
   "outputs": [
    {
     "name": "stdout",
     "output_type": "stream",
     "text": [
      "_________________________________________________________________\n",
      "Layer (type)                 Output Shape              Param #   \n",
      "=================================================================\n",
      "conv2d_49 (Conv2D)           (None, 28, 28, 16)        800       \n",
      "_________________________________________________________________\n",
      "max_pooling2d_43 (MaxPooling (None, 27, 27, 16)        0         \n",
      "_________________________________________________________________\n",
      "batch_normalization_27 (Batc (None, 27, 27, 16)        64        \n",
      "_________________________________________________________________\n",
      "dropout_39 (Dropout)         (None, 27, 27, 16)        0         \n",
      "_________________________________________________________________\n",
      "conv2d_50 (Conv2D)           (None, 21, 21, 32)        25120     \n",
      "_________________________________________________________________\n",
      "max_pooling2d_44 (MaxPooling (None, 10, 10, 32)        0         \n",
      "_________________________________________________________________\n",
      "batch_normalization_28 (Batc (None, 10, 10, 32)        128       \n",
      "_________________________________________________________________\n",
      "dropout_40 (Dropout)         (None, 10, 10, 32)        0         \n",
      "_________________________________________________________________\n",
      "flatten_21 (Flatten)         (None, 3200)              0         \n",
      "_________________________________________________________________\n",
      "dense_65 (Dense)             (None, 3200)              10243200  \n",
      "_________________________________________________________________\n",
      "dense_66 (Dense)             (None, 1600)              5121600   \n",
      "_________________________________________________________________\n",
      "dense_67 (Dense)             (None, 800)               1280800   \n",
      "_________________________________________________________________\n",
      "dense_68 (Dense)             (None, 400)               320400    \n",
      "_________________________________________________________________\n",
      "dense_69 (Dense)             (None, 10)                4010      \n",
      "=================================================================\n",
      "Total params: 16,996,122\n",
      "Trainable params: 16,996,026\n",
      "Non-trainable params: 96\n",
      "_________________________________________________________________\n"
     ]
    }
   ],
   "source": [
    "model = Sequential()\n",
    "\n",
    "# 1st layer\n",
    "model.add(Conv2D(16, kernel_size=(7, 7),activation='relu',padding='same', input_shape=input_shape))\n",
    "model.add(MaxPooling2D(pool_size=(2, 2),strides=1))\n",
    "model.add(BatchNormalization())\n",
    "\n",
    "\n",
    "# 2nd layer\n",
    "model.add(Conv2D(32, (7, 7), activation='relu'))\n",
    "model.add(MaxPooling2D(pool_size=(2,2 ),strides=2))\n",
    "model.add(BatchNormalization())\n",
    "\n",
    "\n",
    "model.add(Flatten())\n",
    "model.add(Dense(3200, activation='relu'))\n",
    "model.add(Dense(1600, activation='relu'))\n",
    "model.add(Dense(800, activation='relu'))\n",
    "model.add(Dense(400, activation='relu'))\n",
    "\n",
    "model.add(Dense(num_classes, activation='softmax'))\n",
    "\n",
    "model.summary()"
   ]
  },
  {
   "cell_type": "code",
   "execution_count": 45,
   "metadata": {
    "colab": {
     "base_uri": "https://localhost:8080/",
     "height": 742
    },
    "colab_type": "code",
    "id": "RCK3UsjHrLBS",
    "outputId": "da9e25ba-d1ef-4651-e387-6f4199c287fc"
   },
   "outputs": [
    {
     "name": "stdout",
     "output_type": "stream",
     "text": [
      "Train on 60000 samples, validate on 10000 samples\n",
      "Epoch 1/12\n",
      "60000/60000 [==============================] - 16s 271us/step - loss: 0.1666 - acc: 0.9560 - val_loss: 0.0574 - val_acc: 0.9840\n",
      "Epoch 2/12\n",
      "60000/60000 [==============================] - 12s 202us/step - loss: 0.0565 - acc: 0.9846 - val_loss: 0.0385 - val_acc: 0.9901\n",
      "Epoch 3/12\n",
      "60000/60000 [==============================] - 12s 202us/step - loss: 0.0418 - acc: 0.9886 - val_loss: 0.0391 - val_acc: 0.9903\n",
      "Epoch 4/12\n",
      "60000/60000 [==============================] - 12s 204us/step - loss: 0.0353 - acc: 0.9909 - val_loss: 0.0543 - val_acc: 0.9857\n",
      "Epoch 5/12\n",
      "60000/60000 [==============================] - 12s 203us/step - loss: 0.0351 - acc: 0.9910 - val_loss: 0.0398 - val_acc: 0.9901\n",
      "Epoch 6/12\n",
      "60000/60000 [==============================] - 12s 202us/step - loss: 0.0311 - acc: 0.9924 - val_loss: 0.0411 - val_acc: 0.9899\n",
      "Epoch 7/12\n",
      "60000/60000 [==============================] - 12s 202us/step - loss: 0.0270 - acc: 0.9930 - val_loss: 0.0648 - val_acc: 0.9857\n",
      "Epoch 8/12\n",
      "60000/60000 [==============================] - 12s 204us/step - loss: 0.0295 - acc: 0.9929 - val_loss: 0.1599 - val_acc: 0.9571\n",
      "Epoch 9/12\n",
      "60000/60000 [==============================] - 12s 204us/step - loss: 0.0299 - acc: 0.9931 - val_loss: 0.0708 - val_acc: 0.9846\n",
      "Epoch 10/12\n",
      "60000/60000 [==============================] - 12s 203us/step - loss: 0.0188 - acc: 0.9954 - val_loss: 0.0425 - val_acc: 0.9927\n",
      "Epoch 11/12\n",
      "60000/60000 [==============================] - 12s 204us/step - loss: 0.0205 - acc: 0.9950 - val_loss: 0.0408 - val_acc: 0.9922\n",
      "Epoch 12/12\n",
      "60000/60000 [==============================] - 12s 206us/step - loss: 0.0227 - acc: 0.9949 - val_loss: 0.0495 - val_acc: 0.9918\n",
      "Test score: 0.04952140008617812\n",
      "Test accuracy: 0.9918\n"
     ]
    },
    {
     "data": {
      "image/png": "[encoded data removed]",
      "text/plain": [
       "<Figure size 432x288 with 1 Axes>"
      ]
     },
     "metadata": {
      "tags": []
     },
     "output_type": "display_data"
    }
   ],
   "source": [
    "model.compile(loss=keras.losses.categorical_crossentropy,\n",
    "              optimizer=keras.optimizers.Adam(),\n",
    "              metrics=['accuracy'])\n",
    "\n",
    "history = model.fit(x_train, y_train,\n",
    "          batch_size=batch_size,\n",
    "          epochs=epochs,\n",
    "          verbose=1,\n",
    "          validation_data=(x_test, y_test))\n",
    "\n",
    "score = model.evaluate(x_test, y_test, verbose=0) \n",
    "print('Test score:', score[0]) \n",
    "print('Test accuracy:', score[1])\n",
    "\n",
    "fig,ax = plt.subplots(1,1)\n",
    "ax.set_xlabel('epoch') ; ax.set_ylabel('Categorical Crossentropy Loss')\n",
    "\n",
    "# list of epoch numbers\n",
    "x = list(range(1,epochs+1))\n",
    "\n",
    "# print(history.history.keys())\n",
    "# dict_keys(['val_loss', 'val_acc', 'loss', 'acc'])\n",
    "# history = model_drop.fit(X_train, Y_train, batch_size=batch_size, epochs=nb_epoch, verbose=1, validation_data=(X_test, Y_test))\n",
    "\n",
    "# we will get val_loss and val_acc only when you pass the paramter validation_data\n",
    "# val_loss : validation loss\n",
    "# val_acc : validation accuracy\n",
    "\n",
    "# loss : training loss\n",
    "# acc : train accuracy\n",
    "# for each key in histrory.histrory we will have a list of length equal to number of epochs\n",
    "\n",
    "vy = history.history['val_loss']\n",
    "ty = history.history['loss']\n",
    "plt_dynamic(x, vy, ty, ax)"
   ]
  },
  {
   "cell_type": "markdown",
   "metadata": {
    "colab_type": "text",
    "id": "e5heyEvX6dWV"
   },
   "source": [
    "## Evaluating Model\n",
    "\n",
    "Its highly Overfitting we can introduce drop out layer to reduce the overfit"
   ]
  },
  {
   "cell_type": "code",
   "execution_count": 66,
   "metadata": {
    "colab": {
     "base_uri": "https://localhost:8080/",
     "height": 510
    },
    "colab_type": "code",
    "id": "FJ8ZOvYZsQO1",
    "outputId": "30864c13-4632-44d3-fcec-06406e980c47"
   },
   "outputs": [
    {
     "name": "stdout",
     "output_type": "stream",
     "text": [
      "_________________________________________________________________\n",
      "Layer (type)                 Output Shape              Param #   \n",
      "=================================================================\n",
      "conv2d_74 (Conv2D)           (None, 28, 28, 16)        800       \n",
      "_________________________________________________________________\n",
      "max_pooling2d_68 (MaxPooling (None, 27, 27, 16)        0         \n",
      "_________________________________________________________________\n",
      "dropout_64 (Dropout)         (None, 27, 27, 16)        0         \n",
      "_________________________________________________________________\n",
      "conv2d_75 (Conv2D)           (None, 21, 21, 32)        25120     \n",
      "_________________________________________________________________\n",
      "max_pooling2d_69 (MaxPooling (None, 10, 10, 32)        0         \n",
      "_________________________________________________________________\n",
      "dropout_65 (Dropout)         (None, 10, 10, 32)        0         \n",
      "_________________________________________________________________\n",
      "flatten_32 (Flatten)         (None, 3200)              0         \n",
      "_________________________________________________________________\n",
      "dense_104 (Dense)            (None, 1600)              5121600   \n",
      "_________________________________________________________________\n",
      "dense_105 (Dense)            (None, 800)               1280800   \n",
      "_________________________________________________________________\n",
      "dense_106 (Dense)            (None, 400)               320400    \n",
      "_________________________________________________________________\n",
      "dense_107 (Dense)            (None, 10)                4010      \n",
      "=================================================================\n",
      "Total params: 6,752,730\n",
      "Trainable params: 6,752,730\n",
      "Non-trainable params: 0\n",
      "_________________________________________________________________\n"
     ]
    }
   ],
   "source": [
    "model = Sequential()\n",
    "\n",
    "# 1st layer\n",
    "model.add(Conv2D(16, kernel_size=(7, 7),activation='relu',padding='same', input_shape=input_shape))\n",
    "model.add(MaxPooling2D(pool_size=(2, 2),strides=1))\n",
    "model.add(Dropout(0.50))\n",
    "\n",
    "\n",
    "# 2nd layer\n",
    "model.add(Conv2D(32, (7, 7), activation='relu'))\n",
    "model.add(MaxPooling2D(pool_size=(2, 2),strides=2))\n",
    "model.add(Dropout(0.33))\n",
    "\n",
    "\n",
    "model.add(Flatten())\n",
    "model.add(Dense(1600, activation='relu'))\n",
    "model.add(Dense(800, activation='relu'))\n",
    "model.add(Dense(400, activation='relu'))\n",
    "\n",
    "model.add(Dense(num_classes, activation='softmax'))\n",
    "\n",
    "model.summary()"
   ]
  },
  {
   "cell_type": "code",
   "execution_count": 67,
   "metadata": {
    "colab": {
     "base_uri": "https://localhost:8080/",
     "height": 742
    },
    "colab_type": "code",
    "id": "QUbpbAiFspSr",
    "outputId": "4a3983a8-20fe-4b65-ed8d-820e475caece"
   },
   "outputs": [
    {
     "name": "stdout",
     "output_type": "stream",
     "text": [
      "Train on 60000 samples, validate on 10000 samples\n",
      "Epoch 1/12\n",
      "60000/60000 [==============================] - 13s 217us/step - loss: 0.1971 - acc: 0.9373 - val_loss: 0.0556 - val_acc: 0.9839\n",
      "Epoch 2/12\n",
      "60000/60000 [==============================] - 8s 128us/step - loss: 0.0603 - acc: 0.9821 - val_loss: 0.0403 - val_acc: 0.9889\n",
      "Epoch 3/12\n",
      "60000/60000 [==============================] - 8s 127us/step - loss: 0.0436 - acc: 0.9867 - val_loss: 0.0342 - val_acc: 0.9899\n",
      "Epoch 4/12\n",
      "60000/60000 [==============================] - 8s 125us/step - loss: 0.0379 - acc: 0.9883 - val_loss: 0.0358 - val_acc: 0.9895\n",
      "Epoch 5/12\n",
      "60000/60000 [==============================] - 7s 125us/step - loss: 0.0322 - acc: 0.9907 - val_loss: 0.0278 - val_acc: 0.9921\n",
      "Epoch 6/12\n",
      "60000/60000 [==============================] - 8s 125us/step - loss: 0.0287 - acc: 0.9914 - val_loss: 0.0293 - val_acc: 0.9918\n",
      "Epoch 7/12\n",
      "60000/60000 [==============================] - 7s 125us/step - loss: 0.0245 - acc: 0.9928 - val_loss: 0.0245 - val_acc: 0.9922\n",
      "Epoch 8/12\n",
      "60000/60000 [==============================] - 8s 125us/step - loss: 0.0256 - acc: 0.9923 - val_loss: 0.0314 - val_acc: 0.9915\n",
      "Epoch 9/12\n",
      "60000/60000 [==============================] - 8s 126us/step - loss: 0.0222 - acc: 0.9939 - val_loss: 0.0364 - val_acc: 0.9901\n",
      "Epoch 10/12\n",
      "60000/60000 [==============================] - 8s 125us/step - loss: 0.0221 - acc: 0.9940 - val_loss: 0.0242 - val_acc: 0.9929\n",
      "Epoch 11/12\n",
      "60000/60000 [==============================] - 8s 126us/step - loss: 0.0184 - acc: 0.9943 - val_loss: 0.0248 - val_acc: 0.9932\n",
      "Epoch 12/12\n",
      "60000/60000 [==============================] - 8s 125us/step - loss: 0.0174 - acc: 0.9952 - val_loss: 0.0304 - val_acc: 0.9919\n",
      "Test score: 0.030353180483853794\n",
      "Test accuracy: 0.9919\n"
     ]
    },
    {
     "data": {
      "image/png": "[encoded data removed]",
      "text/plain": [
       "<Figure size 432x288 with 1 Axes>"
      ]
     },
     "metadata": {
      "tags": []
     },
     "output_type": "display_data"
    }
   ],
   "source": [
    "model.compile(loss=keras.losses.categorical_crossentropy,\n",
    "              optimizer=keras.optimizers.Adam(),\n",
    "              metrics=['accuracy'])\n",
    "\n",
    "history = model.fit(x_train, y_train,\n",
    "          batch_size=batch_size,\n",
    "          epochs=epochs,\n",
    "          verbose=1,\n",
    "          validation_data=(x_test, y_test))\n",
    "\n",
    "score = model.evaluate(x_test, y_test, verbose=0) \n",
    "print('Test score:', score[0]) \n",
    "print('Test accuracy:', score[1])\n",
    "\n",
    "fig,ax = plt.subplots(1,1)\n",
    "ax.set_xlabel('epoch') ; ax.set_ylabel('Categorical Crossentropy Loss')\n",
    "\n",
    "# list of epoch numbers\n",
    "x = list(range(1,epochs+1))\n",
    "\n",
    "# print(history.history.keys())\n",
    "# dict_keys(['val_loss', 'val_acc', 'loss', 'acc'])\n",
    "# history = model_drop.fit(X_train, Y_train, batch_size=batch_size, epochs=nb_epoch, verbose=1, validation_data=(X_test, Y_test))\n",
    "\n",
    "# we will get val_loss and val_acc only when you pass the paramter validation_data\n",
    "# val_loss : validation loss\n",
    "# val_acc : validation accuracy\n",
    "\n",
    "# loss : training loss\n",
    "# acc : train accuracy\n",
    "# for each key in histrory.histrory we will have a list of length equal to number of epochs\n",
    "\n",
    "vy = history.history['val_loss']\n",
    "ty = history.history['loss']\n",
    "plt_dynamic(x, vy, ty, ax)"
   ]
  },
  {
   "cell_type": "markdown",
   "metadata": {
    "colab_type": "text",
    "id": "N13eOFH-_QQJ"
   },
   "source": [
    "# Conclusion"
   ]
  },
  {
   "cell_type": "code",
   "execution_count": 68,
   "metadata": {
    "colab": {
     "base_uri": "https://localhost:8080/",
     "height": 221
    },
    "colab_type": "code",
    "id": "fZhOCin20ne9",
    "outputId": "fdf34ffa-fad8-4beb-f0d3-675ec75a1355"
   },
   "outputs": [
    {
     "name": "stdout",
     "output_type": "stream",
     "text": [
      "\u001b[1m\t\t\t Convolutional Neural Network  \u001b[0m\n",
      "\n",
      "\n",
      "+-----------------+-------------+-------------+-------------+\n",
      "|      Metric     | 3*3 ConvNet | 5*5 ConvNet | 7*7 Convnet |\n",
      "+-----------------+-------------+-------------+-------------+\n",
      "|    Optimizer    |   AdaDelta  |     ADAM    |     ADAM    |\n",
      "| Train Accuracy  |    0.9857   |    0.9896   |    0.9952   |\n",
      "|   Train Loss    |    0.0455   |    0.0318   |    0.0174   |\n",
      "|  Test Accuracy  |    0.9877   |    0.9916   |    0.9919   |\n",
      "|    Test Loss    |    0.0422   |    0.0246   |    0.0304   |\n",
      "+-----------------+-------------+-------------+-------------+\n"
     ]
    }
   ],
   "source": [
    "import pandas as pd\n",
    "from prettytable import PrettyTable\n",
    "\n",
    "bold = '\\033[1m'\n",
    "end = '\\033[0m'\n",
    "\n",
    "\n",
    "print(bold+'\\t\\t\\t Convolutional Neural Network  '+end)\n",
    "\n",
    "\n",
    "x = PrettyTable()\n",
    "x.field_names =  ['Metric','3*3 ConvNet','5*5 ConvNet', '7*7 Convnet']\n",
    "x.add_row([\"Optimizer \", 'AdaDelta','ADAM','ADAM'])\n",
    "\n",
    "        \n",
    "x.add_row([\"Train Accuracy \", 0.9857,0.9896,0.9952])\n",
    "x.add_row([\"Train Loss \", 0.0455,0.0318,0.0174])\n",
    "x.add_row([\"Test Accuracy \",0.9877,0.9916,0.9919])\n",
    "x.add_row([\"Test Loss \", 0.0422,0.0246,0.0304])\n",
    "\n",
    "\n",
    "print('\\n')\n",
    "print(x)\n"
   ]
  },
  {
   "cell_type": "markdown",
   "metadata": {
    "colab_type": "text",
    "id": "KsUOue-k_URf"
   },
   "source": [
    "# Summary \n",
    "\n",
    "\n",
    "1.Always start by using smaller filters is to collect as much local information as possible, and      then gradually increase the filter width to reduce the generated feature space width to represent more global, high-level and representative information\n",
    "\n",
    "\n",
    "2. Large filter size at begining cause OVERFIT a model.\n",
    "\n",
    "3. Smaller filter size causee UNDERFIT a model.\n",
    "\n",
    "4. Additing Drop out layer can reduce overfitting of model.\n",
    "\n",
    "5. using Sigmoid activation layer was worst output for above specific architecture.\n",
    "\n",
    "6. Adding dense layer after flatten layer is important, It will change out dramatically\n",
    "\n",
    "7. Larger and Complex Model take more time to train the model.\n"
   ]
  }
 ],
 "metadata": {
  "accelerator": "GPU",
  "colab": {
   "collapsed_sections": [],
   "name": "CNN_MNIST.ipynb",
   "provenance": [],
   "version": "0.3.2"
  },
  "kernelspec": {
   "display_name": "Python 3",
   "language": "python",
   "name": "python3"
  },
  "language_info": {
   "codemirror_mode": {
    "name": "ipython",
    "version": 3
   },
   "file_extension": ".py",
   "mimetype": "text/x-python",
   "name": "python",
   "nbconvert_exporter": "python",
   "pygments_lexer": "ipython3",
   "version": "3.7.1"
  }
 },
 "nbformat": 4,
 "nbformat_minor": 1
}
