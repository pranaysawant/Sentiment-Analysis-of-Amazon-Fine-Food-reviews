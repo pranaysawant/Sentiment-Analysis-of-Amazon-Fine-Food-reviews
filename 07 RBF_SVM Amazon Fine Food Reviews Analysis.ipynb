{
 "cells": [
  {
   "cell_type": "markdown",
   "metadata": {},
   "source": [
    "# Amazon Fine Food Reviews Analysis\n",
    "\n",
    "\n",
    "Data Source: https://www.kaggle.com/snap/amazon-fine-food-reviews <br>\n",
    "\n",
    "EDA: https://nycdatascience.com/blog/student-works/amazon-fine-foods-visualization/\n",
    "\n",
    "\n",
    "The Amazon Fine Food Reviews dataset consists of reviews of fine foods from Amazon.<br>\n",
    "\n",
    "Number of reviews: 568,454<br>\n",
    "Number of users: 256,059<br>\n",
    "Number of products: 74,258<br>\n",
    "Timespan: Oct 1999 - Oct 2012<br>\n",
    "Number of Attributes/Columns in data: 10 \n",
    "\n",
    "Attribute Information:\n",
    "\n",
    "1. Id\n",
    "2. ProductId - unique identifier for the product\n",
    "3. UserId - unqiue identifier for the user\n",
    "4. ProfileName\n",
    "5. HelpfulnessNumerator - number of users who found the review helpful\n",
    "6. HelpfulnessDenominator - number of users who indicated whether they found the review helpful or not\n",
    "7. Score - rating between 1 and 5\n",
    "8. Time - timestamp for the review\n",
    "9. Summary - brief summary of the review\n",
    "10. Text - text of the review\n",
    "\n",
    "\n",
    "#### Objective:\n",
    "Given a review, determine whether the review is positive (rating of 4 or 5) or negative (rating of 1 or 2).\n",
    "\n",
    "<br>\n",
    "[Q] How to determine if a review is positive or negative?<br>\n",
    "<br> \n",
    "[Ans] We could use Score/Rating. A rating of 4 or 5 can be cosnidered as a positive review. A rating of 1 or 2 can be considered as negative one. A review of rating 3 is considered nuetral and such reviews are ignored from our analysis. This is an approximate and proxy way of determining the polarity (positivity/negativity) of a review.\n",
    "\n",
    "\n"
   ]
  },
  {
   "cell_type": "markdown",
   "metadata": {},
   "source": [
    "# [1]. Reading Data"
   ]
  },
  {
   "cell_type": "markdown",
   "metadata": {},
   "source": [
    "## [1.1] Loading the data\n",
    "\n",
    "The dataset is available in two forms\n",
    "1. .csv file\n",
    "2. SQLite Database\n",
    "\n",
    "In order to load the data, We have used the SQLITE dataset as it is easier to query the data and visualise the data efficiently.\n",
    "<br> \n",
    "\n",
    "Here as we only want to get the global sentiment of the recommendations (positive or negative), we will purposefully ignore all Scores equal to 3. If the score is above 3, then the recommendation wil be set to \"positive\". Otherwise, it will be set to \"negative\"."
   ]
  },
  {
   "cell_type": "code",
   "execution_count": 119,
   "metadata": {},
   "outputs": [],
   "source": [
    "%matplotlib inline\n",
    "import warnings\n",
    "warnings.filterwarnings(\"ignore\")\n",
    "\n",
    "\n",
    "import sqlite3\n",
    "import pandas as pd\n",
    "import numpy as np\n",
    "import nltk\n",
    "import string\n",
    "import matplotlib.pyplot as plt\n",
    "import seaborn as sns\n",
    "from sklearn.feature_extraction.text import TfidfTransformer\n",
    "from sklearn.feature_extraction.text import TfidfVectorizer\n",
    "\n",
    "from sklearn.feature_extraction.text import CountVectorizer\n",
    "from sklearn.metrics import confusion_matrix\n",
    "from sklearn import metrics\n",
    "from sklearn.metrics import roc_curve, auc\n",
    "from nltk.stem.porter import PorterStemmer\n",
    "\n",
    "import re\n",
    "# Tutorial about Python regular expressions: https://pymotw.com/2/re/\n",
    "import string\n",
    "from nltk.corpus import stopwords\n",
    "from nltk.stem import PorterStemmer\n",
    "from nltk.stem.wordnet import WordNetLemmatizer\n",
    "\n",
    "from gensim.models import Word2Vec\n",
    "from gensim.models import KeyedVectors\n",
    "import pickle\n",
    "\n",
    "from tqdm import tqdm\n",
    "import os\n",
    "\n",
    "# importing Cross validation libs\n",
    "from sklearn.model_selection import train_test_split\n",
    "from sklearn.model_selection import cross_val_score\n",
    "from sklearn import model_selection\n",
    "\n",
    "# Python script for confusion matrix creation. \n",
    "from sklearn.metrics import confusion_matrix \n",
    "from sklearn.metrics import accuracy_score \n",
    "from sklearn.metrics import classification_report \n",
    "# roc curve and auc\n",
    "from sklearn.datasets import make_classification\n",
    "from sklearn.metrics import roc_curve\n",
    "from sklearn.metrics import roc_auc_score\n",
    "from matplotlib import pyplot\n",
    "from sklearn.metrics import roc_curve, auc\n",
    "from sklearn.model_selection import GridSearchCV\n",
    "\n",
    "import seaborn as sns\n",
    "\n",
    "from sklearn.model_selection import TimeSeriesSplit\n",
    "from sklearn.model_selection import RandomizedSearchCV\n",
    "import numpy as np\n",
    "from sklearn.metrics import f1_score,recall_score,precision_score\n",
    "\n",
    "from sklearn.linear_model import SGDClassifier\n",
    "from sklearn.calibration import CalibratedClassifierCV\n",
    "from sklearn.svm import SVC\n",
    "from sklearn_pandas import DataFrameMapper\n",
    "from joblib import dump, load\n"
   ]
  },
  {
   "cell_type": "code",
   "execution_count": 120,
   "metadata": {},
   "outputs": [
    {
     "name": "stdout",
     "output_type": "stream",
     "text": [
      "Number of data points in our data (40000, 10)\n"
     ]
    },
    {
     "data": {
      "text/html": [
       "<div>\n",
       "<style scoped>\n",
       "    .dataframe tbody tr th:only-of-type {\n",
       "        vertical-align: middle;\n",
       "    }\n",
       "\n",
       "    .dataframe tbody tr th {\n",
       "        vertical-align: top;\n",
       "    }\n",
       "\n",
       "    .dataframe thead th {\n",
       "        text-align: right;\n",
       "    }\n",
       "</style>\n",
       "<table border=\"1\" class=\"dataframe\">\n",
       "  <thead>\n",
       "    <tr style=\"text-align: right;\">\n",
       "      <th></th>\n",
       "      <th>Id</th>\n",
       "      <th>ProductId</th>\n",
       "      <th>UserId</th>\n",
       "      <th>ProfileName</th>\n",
       "      <th>HelpfulnessNumerator</th>\n",
       "      <th>HelpfulnessDenominator</th>\n",
       "      <th>Score</th>\n",
       "      <th>Time</th>\n",
       "      <th>Summary</th>\n",
       "      <th>Text</th>\n",
       "    </tr>\n",
       "  </thead>\n",
       "  <tbody>\n",
       "    <tr>\n",
       "      <th>0</th>\n",
       "      <td>1</td>\n",
       "      <td>B001E4KFG0</td>\n",
       "      <td>A3SGXH7AUHU8GW</td>\n",
       "      <td>delmartian</td>\n",
       "      <td>1</td>\n",
       "      <td>1</td>\n",
       "      <td>1</td>\n",
       "      <td>1303862400</td>\n",
       "      <td>Good Quality Dog Food</td>\n",
       "      <td>I have bought several of the Vitality canned d...</td>\n",
       "    </tr>\n",
       "    <tr>\n",
       "      <th>1</th>\n",
       "      <td>2</td>\n",
       "      <td>B00813GRG4</td>\n",
       "      <td>A1D87F6ZCVE5NK</td>\n",
       "      <td>dll pa</td>\n",
       "      <td>0</td>\n",
       "      <td>0</td>\n",
       "      <td>0</td>\n",
       "      <td>1346976000</td>\n",
       "      <td>Not as Advertised</td>\n",
       "      <td>Product arrived labeled as Jumbo Salted Peanut...</td>\n",
       "    </tr>\n",
       "    <tr>\n",
       "      <th>2</th>\n",
       "      <td>3</td>\n",
       "      <td>B000LQOCH0</td>\n",
       "      <td>ABXLMWJIXXAIN</td>\n",
       "      <td>Natalia Corres \"Natalia Corres\"</td>\n",
       "      <td>1</td>\n",
       "      <td>1</td>\n",
       "      <td>1</td>\n",
       "      <td>1219017600</td>\n",
       "      <td>\"Delight\" says it all</td>\n",
       "      <td>This is a confection that has been around a fe...</td>\n",
       "    </tr>\n",
       "  </tbody>\n",
       "</table>\n",
       "</div>"
      ],
      "text/plain": [
       "   Id   ProductId          UserId                      ProfileName  \\\n",
       "0   1  B001E4KFG0  A3SGXH7AUHU8GW                       delmartian   \n",
       "1   2  B00813GRG4  A1D87F6ZCVE5NK                           dll pa   \n",
       "2   3  B000LQOCH0   ABXLMWJIXXAIN  Natalia Corres \"Natalia Corres\"   \n",
       "\n",
       "   HelpfulnessNumerator  HelpfulnessDenominator  Score        Time  \\\n",
       "0                     1                       1      1  1303862400   \n",
       "1                     0                       0      0  1346976000   \n",
       "2                     1                       1      1  1219017600   \n",
       "\n",
       "                 Summary                                               Text  \n",
       "0  Good Quality Dog Food  I have bought several of the Vitality canned d...  \n",
       "1      Not as Advertised  Product arrived labeled as Jumbo Salted Peanut...  \n",
       "2  \"Delight\" says it all  This is a confection that has been around a fe...  "
      ]
     },
     "execution_count": 120,
     "metadata": {},
     "output_type": "execute_result"
    }
   ],
   "source": [
    "# using SQLite Table to read data.\n",
    "con = sqlite3.connect(r'/home/pranay/ML datasource/amazon-fine-food-reviews/database.sqlite') \n",
    "\n",
    "# filtering only positive and negative reviews i.e. \n",
    "# not taking into consideration those reviews with Score=3\n",
    "# SELECT * FROM Reviews WHERE Score != 3 LIMIT 500000, will give top 500000 data points\n",
    "# you can change the number to any other number based on your computing power\n",
    "\n",
    "# filtered_data = pd.read_sql_query(\"\"\" SELECT * FROM Reviews WHERE Score != 3 LIMIT 500000\"\"\", con) \n",
    "# for tsne assignment you can take 5k data points\n",
    "\n",
    "filtered_data = pd.read_sql_query(\"\"\" SELECT * FROM Reviews WHERE Score != 3 LIMIT 40000\"\"\", con) \n",
    "\n",
    "# Give reviews with Score>3 a positive rating(1), and reviews with a score<3 a negative rating(0).\n",
    "def partition(x):\n",
    "    if x < 3:\n",
    "        return 0\n",
    "    return 1\n",
    "\n",
    "#changing reviews with score less than 3 to be positive and vice-versa\n",
    "actualScore = filtered_data['Score']\n",
    "positiveNegative = actualScore.map(partition) \n",
    "filtered_data['Score'] = positiveNegative\n",
    "print(\"Number of data points in our data\", filtered_data.shape)\n",
    "filtered_data.head(3)"
   ]
  },
  {
   "cell_type": "code",
   "execution_count": 121,
   "metadata": {},
   "outputs": [],
   "source": [
    "display = pd.read_sql_query(\"\"\"\n",
    "SELECT UserId, ProductId, ProfileName, Time, Score, Text, COUNT(*)\n",
    "FROM Reviews\n",
    "GROUP BY UserId\n",
    "HAVING COUNT(*)>1\n",
    "\"\"\", con)"
   ]
  },
  {
   "cell_type": "code",
   "execution_count": 122,
   "metadata": {
    "scrolled": true
   },
   "outputs": [
    {
     "name": "stdout",
     "output_type": "stream",
     "text": [
      "(80668, 7)\n"
     ]
    },
    {
     "data": {
      "text/html": [
       "<div>\n",
       "<style scoped>\n",
       "    .dataframe tbody tr th:only-of-type {\n",
       "        vertical-align: middle;\n",
       "    }\n",
       "\n",
       "    .dataframe tbody tr th {\n",
       "        vertical-align: top;\n",
       "    }\n",
       "\n",
       "    .dataframe thead th {\n",
       "        text-align: right;\n",
       "    }\n",
       "</style>\n",
       "<table border=\"1\" class=\"dataframe\">\n",
       "  <thead>\n",
       "    <tr style=\"text-align: right;\">\n",
       "      <th></th>\n",
       "      <th>UserId</th>\n",
       "      <th>ProductId</th>\n",
       "      <th>ProfileName</th>\n",
       "      <th>Time</th>\n",
       "      <th>Score</th>\n",
       "      <th>Text</th>\n",
       "      <th>COUNT(*)</th>\n",
       "    </tr>\n",
       "  </thead>\n",
       "  <tbody>\n",
       "    <tr>\n",
       "      <th>0</th>\n",
       "      <td>#oc-R115TNMSPFT9I7</td>\n",
       "      <td>B005ZBZLT4</td>\n",
       "      <td>Breyton</td>\n",
       "      <td>1331510400</td>\n",
       "      <td>2</td>\n",
       "      <td>Overall its just OK when considering the price...</td>\n",
       "      <td>2</td>\n",
       "    </tr>\n",
       "    <tr>\n",
       "      <th>1</th>\n",
       "      <td>#oc-R11D9D7SHXIJB9</td>\n",
       "      <td>B005HG9ESG</td>\n",
       "      <td>Louis E. Emory \"hoppy\"</td>\n",
       "      <td>1342396800</td>\n",
       "      <td>5</td>\n",
       "      <td>My wife has recurring extreme muscle spasms, u...</td>\n",
       "      <td>3</td>\n",
       "    </tr>\n",
       "    <tr>\n",
       "      <th>2</th>\n",
       "      <td>#oc-R11DNU2NBKQ23Z</td>\n",
       "      <td>B005ZBZLT4</td>\n",
       "      <td>Kim Cieszykowski</td>\n",
       "      <td>1348531200</td>\n",
       "      <td>1</td>\n",
       "      <td>This coffee is horrible and unfortunately not ...</td>\n",
       "      <td>2</td>\n",
       "    </tr>\n",
       "    <tr>\n",
       "      <th>3</th>\n",
       "      <td>#oc-R11O5J5ZVQE25C</td>\n",
       "      <td>B005HG9ESG</td>\n",
       "      <td>Penguin Chick</td>\n",
       "      <td>1346889600</td>\n",
       "      <td>5</td>\n",
       "      <td>This will be the bottle that you grab from the...</td>\n",
       "      <td>3</td>\n",
       "    </tr>\n",
       "    <tr>\n",
       "      <th>4</th>\n",
       "      <td>#oc-R12KPBODL2B5ZD</td>\n",
       "      <td>B007OSBEV0</td>\n",
       "      <td>Christopher P. Presta</td>\n",
       "      <td>1348617600</td>\n",
       "      <td>1</td>\n",
       "      <td>I didnt like this coffee. Instead of telling y...</td>\n",
       "      <td>2</td>\n",
       "    </tr>\n",
       "  </tbody>\n",
       "</table>\n",
       "</div>"
      ],
      "text/plain": [
       "               UserId   ProductId             ProfileName        Time  Score  \\\n",
       "0  #oc-R115TNMSPFT9I7  B005ZBZLT4                 Breyton  1331510400      2   \n",
       "1  #oc-R11D9D7SHXIJB9  B005HG9ESG  Louis E. Emory \"hoppy\"  1342396800      5   \n",
       "2  #oc-R11DNU2NBKQ23Z  B005ZBZLT4        Kim Cieszykowski  1348531200      1   \n",
       "3  #oc-R11O5J5ZVQE25C  B005HG9ESG           Penguin Chick  1346889600      5   \n",
       "4  #oc-R12KPBODL2B5ZD  B007OSBEV0   Christopher P. Presta  1348617600      1   \n",
       "\n",
       "                                                Text  COUNT(*)  \n",
       "0  Overall its just OK when considering the price...         2  \n",
       "1  My wife has recurring extreme muscle spasms, u...         3  \n",
       "2  This coffee is horrible and unfortunately not ...         2  \n",
       "3  This will be the bottle that you grab from the...         3  \n",
       "4  I didnt like this coffee. Instead of telling y...         2  "
      ]
     },
     "execution_count": 122,
     "metadata": {},
     "output_type": "execute_result"
    }
   ],
   "source": [
    "print(display.shape)\n",
    "display.head()"
   ]
  },
  {
   "cell_type": "code",
   "execution_count": 123,
   "metadata": {},
   "outputs": [
    {
     "data": {
      "text/html": [
       "<div>\n",
       "<style scoped>\n",
       "    .dataframe tbody tr th:only-of-type {\n",
       "        vertical-align: middle;\n",
       "    }\n",
       "\n",
       "    .dataframe tbody tr th {\n",
       "        vertical-align: top;\n",
       "    }\n",
       "\n",
       "    .dataframe thead th {\n",
       "        text-align: right;\n",
       "    }\n",
       "</style>\n",
       "<table border=\"1\" class=\"dataframe\">\n",
       "  <thead>\n",
       "    <tr style=\"text-align: right;\">\n",
       "      <th></th>\n",
       "      <th>UserId</th>\n",
       "      <th>ProductId</th>\n",
       "      <th>ProfileName</th>\n",
       "      <th>Time</th>\n",
       "      <th>Score</th>\n",
       "      <th>Text</th>\n",
       "      <th>COUNT(*)</th>\n",
       "    </tr>\n",
       "  </thead>\n",
       "  <tbody>\n",
       "    <tr>\n",
       "      <th>80638</th>\n",
       "      <td>AZY10LLTJ71NX</td>\n",
       "      <td>B001ATMQK2</td>\n",
       "      <td>undertheshrine \"undertheshrine\"</td>\n",
       "      <td>1296691200</td>\n",
       "      <td>5</td>\n",
       "      <td>I bought this 6 pack because for the price tha...</td>\n",
       "      <td>5</td>\n",
       "    </tr>\n",
       "  </tbody>\n",
       "</table>\n",
       "</div>"
      ],
      "text/plain": [
       "              UserId   ProductId                      ProfileName        Time  \\\n",
       "80638  AZY10LLTJ71NX  B001ATMQK2  undertheshrine \"undertheshrine\"  1296691200   \n",
       "\n",
       "       Score                                               Text  COUNT(*)  \n",
       "80638      5  I bought this 6 pack because for the price tha...         5  "
      ]
     },
     "execution_count": 123,
     "metadata": {},
     "output_type": "execute_result"
    }
   ],
   "source": [
    "display[display['UserId']=='AZY10LLTJ71NX']"
   ]
  },
  {
   "cell_type": "code",
   "execution_count": 124,
   "metadata": {},
   "outputs": [
    {
     "data": {
      "text/plain": [
       "393063"
      ]
     },
     "execution_count": 124,
     "metadata": {},
     "output_type": "execute_result"
    }
   ],
   "source": [
    "display['COUNT(*)'].sum()"
   ]
  },
  {
   "cell_type": "markdown",
   "metadata": {},
   "source": [
    "#  [2] Exploratory Data Analysis"
   ]
  },
  {
   "cell_type": "markdown",
   "metadata": {},
   "source": [
    "## [2.1] Data Cleaning: Deduplication\n",
    "\n",
    "It is observed (as shown in the table below) that the reviews data had many duplicate entries. Hence it was necessary to remove duplicates in order to get unbiased results for the analysis of the data.  Following is an example:"
   ]
  },
  {
   "cell_type": "code",
   "execution_count": 125,
   "metadata": {
    "scrolled": false
   },
   "outputs": [
    {
     "data": {
      "text/html": [
       "<div>\n",
       "<style scoped>\n",
       "    .dataframe tbody tr th:only-of-type {\n",
       "        vertical-align: middle;\n",
       "    }\n",
       "\n",
       "    .dataframe tbody tr th {\n",
       "        vertical-align: top;\n",
       "    }\n",
       "\n",
       "    .dataframe thead th {\n",
       "        text-align: right;\n",
       "    }\n",
       "</style>\n",
       "<table border=\"1\" class=\"dataframe\">\n",
       "  <thead>\n",
       "    <tr style=\"text-align: right;\">\n",
       "      <th></th>\n",
       "      <th>Id</th>\n",
       "      <th>ProductId</th>\n",
       "      <th>UserId</th>\n",
       "      <th>ProfileName</th>\n",
       "      <th>HelpfulnessNumerator</th>\n",
       "      <th>HelpfulnessDenominator</th>\n",
       "      <th>Score</th>\n",
       "      <th>Time</th>\n",
       "      <th>Summary</th>\n",
       "      <th>Text</th>\n",
       "    </tr>\n",
       "  </thead>\n",
       "  <tbody>\n",
       "    <tr>\n",
       "      <th>0</th>\n",
       "      <td>78445</td>\n",
       "      <td>B000HDL1RQ</td>\n",
       "      <td>AR5J8UI46CURR</td>\n",
       "      <td>Geetha Krishnan</td>\n",
       "      <td>2</td>\n",
       "      <td>2</td>\n",
       "      <td>5</td>\n",
       "      <td>1199577600</td>\n",
       "      <td>LOACKER QUADRATINI VANILLA WAFERS</td>\n",
       "      <td>DELICIOUS WAFERS. I FIND THAT EUROPEAN WAFERS ...</td>\n",
       "    </tr>\n",
       "    <tr>\n",
       "      <th>1</th>\n",
       "      <td>138317</td>\n",
       "      <td>B000HDOPYC</td>\n",
       "      <td>AR5J8UI46CURR</td>\n",
       "      <td>Geetha Krishnan</td>\n",
       "      <td>2</td>\n",
       "      <td>2</td>\n",
       "      <td>5</td>\n",
       "      <td>1199577600</td>\n",
       "      <td>LOACKER QUADRATINI VANILLA WAFERS</td>\n",
       "      <td>DELICIOUS WAFERS. I FIND THAT EUROPEAN WAFERS ...</td>\n",
       "    </tr>\n",
       "    <tr>\n",
       "      <th>2</th>\n",
       "      <td>138277</td>\n",
       "      <td>B000HDOPYM</td>\n",
       "      <td>AR5J8UI46CURR</td>\n",
       "      <td>Geetha Krishnan</td>\n",
       "      <td>2</td>\n",
       "      <td>2</td>\n",
       "      <td>5</td>\n",
       "      <td>1199577600</td>\n",
       "      <td>LOACKER QUADRATINI VANILLA WAFERS</td>\n",
       "      <td>DELICIOUS WAFERS. I FIND THAT EUROPEAN WAFERS ...</td>\n",
       "    </tr>\n",
       "    <tr>\n",
       "      <th>3</th>\n",
       "      <td>73791</td>\n",
       "      <td>B000HDOPZG</td>\n",
       "      <td>AR5J8UI46CURR</td>\n",
       "      <td>Geetha Krishnan</td>\n",
       "      <td>2</td>\n",
       "      <td>2</td>\n",
       "      <td>5</td>\n",
       "      <td>1199577600</td>\n",
       "      <td>LOACKER QUADRATINI VANILLA WAFERS</td>\n",
       "      <td>DELICIOUS WAFERS. I FIND THAT EUROPEAN WAFERS ...</td>\n",
       "    </tr>\n",
       "    <tr>\n",
       "      <th>4</th>\n",
       "      <td>155049</td>\n",
       "      <td>B000PAQ75C</td>\n",
       "      <td>AR5J8UI46CURR</td>\n",
       "      <td>Geetha Krishnan</td>\n",
       "      <td>2</td>\n",
       "      <td>2</td>\n",
       "      <td>5</td>\n",
       "      <td>1199577600</td>\n",
       "      <td>LOACKER QUADRATINI VANILLA WAFERS</td>\n",
       "      <td>DELICIOUS WAFERS. I FIND THAT EUROPEAN WAFERS ...</td>\n",
       "    </tr>\n",
       "  </tbody>\n",
       "</table>\n",
       "</div>"
      ],
      "text/plain": [
       "       Id   ProductId         UserId      ProfileName  HelpfulnessNumerator  \\\n",
       "0   78445  B000HDL1RQ  AR5J8UI46CURR  Geetha Krishnan                     2   \n",
       "1  138317  B000HDOPYC  AR5J8UI46CURR  Geetha Krishnan                     2   \n",
       "2  138277  B000HDOPYM  AR5J8UI46CURR  Geetha Krishnan                     2   \n",
       "3   73791  B000HDOPZG  AR5J8UI46CURR  Geetha Krishnan                     2   \n",
       "4  155049  B000PAQ75C  AR5J8UI46CURR  Geetha Krishnan                     2   \n",
       "\n",
       "   HelpfulnessDenominator  Score        Time  \\\n",
       "0                       2      5  1199577600   \n",
       "1                       2      5  1199577600   \n",
       "2                       2      5  1199577600   \n",
       "3                       2      5  1199577600   \n",
       "4                       2      5  1199577600   \n",
       "\n",
       "                             Summary  \\\n",
       "0  LOACKER QUADRATINI VANILLA WAFERS   \n",
       "1  LOACKER QUADRATINI VANILLA WAFERS   \n",
       "2  LOACKER QUADRATINI VANILLA WAFERS   \n",
       "3  LOACKER QUADRATINI VANILLA WAFERS   \n",
       "4  LOACKER QUADRATINI VANILLA WAFERS   \n",
       "\n",
       "                                                Text  \n",
       "0  DELICIOUS WAFERS. I FIND THAT EUROPEAN WAFERS ...  \n",
       "1  DELICIOUS WAFERS. I FIND THAT EUROPEAN WAFERS ...  \n",
       "2  DELICIOUS WAFERS. I FIND THAT EUROPEAN WAFERS ...  \n",
       "3  DELICIOUS WAFERS. I FIND THAT EUROPEAN WAFERS ...  \n",
       "4  DELICIOUS WAFERS. I FIND THAT EUROPEAN WAFERS ...  "
      ]
     },
     "execution_count": 125,
     "metadata": {},
     "output_type": "execute_result"
    }
   ],
   "source": [
    "display= pd.read_sql_query(\"\"\"\n",
    "SELECT *\n",
    "FROM Reviews\n",
    "WHERE Score != 3 AND UserId=\"AR5J8UI46CURR\"\n",
    "ORDER BY ProductID\n",
    "\"\"\", con)\n",
    "display.head()"
   ]
  },
  {
   "cell_type": "markdown",
   "metadata": {},
   "source": [
    "As it can be seen above that same user has multiple reviews with same values for HelpfulnessNumerator, HelpfulnessDenominator, Score, Time, Summary and Text and on doing analysis it was found that <br>\n",
    "<br> \n",
    "ProductId=B000HDOPZG was Loacker Quadratini Vanilla Wafer Cookies, 8.82-Ounce Packages (Pack of 8)<br>\n",
    "<br> \n",
    "ProductId=B000HDL1RQ was Loacker Quadratini Lemon Wafer Cookies, 8.82-Ounce Packages (Pack of 8) and so on<br>\n",
    "\n",
    "It was inferred after analysis that reviews with same parameters other than ProductId belonged to the same product just having different flavour or quantity. Hence in order to reduce redundancy it was decided to eliminate the rows having same parameters.<br>\n",
    "\n",
    "The method used for the same was that we first sort the data according to ProductId and then just keep the first similar product review and delelte the others. for eg. in the above just the review for ProductId=B000HDL1RQ remains. This method ensures that there is only one representative for each product and deduplication without sorting would lead to possibility of different representatives still existing for the same product."
   ]
  },
  {
   "cell_type": "code",
   "execution_count": 126,
   "metadata": {},
   "outputs": [],
   "source": [
    "#Sorting data according to ProductId in ascending order\n",
    "sorted_data=filtered_data.sort_values('ProductId', axis=0, ascending=True, inplace=False, kind='quicksort', na_position='last')"
   ]
  },
  {
   "cell_type": "code",
   "execution_count": 127,
   "metadata": {},
   "outputs": [
    {
     "data": {
      "text/plain": [
       "(37415, 10)"
      ]
     },
     "execution_count": 127,
     "metadata": {},
     "output_type": "execute_result"
    }
   ],
   "source": [
    "#Deduplication of entries\n",
    "final=sorted_data.drop_duplicates(subset={\"UserId\",\"ProfileName\",\"Time\",\"Text\"}, keep='first', inplace=False)\n",
    "final.shape"
   ]
  },
  {
   "cell_type": "code",
   "execution_count": 128,
   "metadata": {},
   "outputs": [
    {
     "data": {
      "text/plain": [
       "93.5375"
      ]
     },
     "execution_count": 128,
     "metadata": {},
     "output_type": "execute_result"
    }
   ],
   "source": [
    "#Checking to see how much % of data still remains\n",
    "(final['Id'].size*1.0)/(filtered_data['Id'].size*1.0)*100"
   ]
  },
  {
   "cell_type": "markdown",
   "metadata": {},
   "source": [
    "<b>Observation:-</b> It was also seen that in two rows given below the value of HelpfulnessNumerator is greater than HelpfulnessDenominator which is not practically possible hence these two rows too are removed from calcualtions"
   ]
  },
  {
   "cell_type": "code",
   "execution_count": 129,
   "metadata": {},
   "outputs": [
    {
     "data": {
      "text/html": [
       "<div>\n",
       "<style scoped>\n",
       "    .dataframe tbody tr th:only-of-type {\n",
       "        vertical-align: middle;\n",
       "    }\n",
       "\n",
       "    .dataframe tbody tr th {\n",
       "        vertical-align: top;\n",
       "    }\n",
       "\n",
       "    .dataframe thead th {\n",
       "        text-align: right;\n",
       "    }\n",
       "</style>\n",
       "<table border=\"1\" class=\"dataframe\">\n",
       "  <thead>\n",
       "    <tr style=\"text-align: right;\">\n",
       "      <th></th>\n",
       "      <th>Id</th>\n",
       "      <th>ProductId</th>\n",
       "      <th>UserId</th>\n",
       "      <th>ProfileName</th>\n",
       "      <th>HelpfulnessNumerator</th>\n",
       "      <th>HelpfulnessDenominator</th>\n",
       "      <th>Score</th>\n",
       "      <th>Time</th>\n",
       "      <th>Summary</th>\n",
       "      <th>Text</th>\n",
       "    </tr>\n",
       "  </thead>\n",
       "  <tbody>\n",
       "    <tr>\n",
       "      <th>0</th>\n",
       "      <td>64422</td>\n",
       "      <td>B000MIDROQ</td>\n",
       "      <td>A161DK06JJMCYF</td>\n",
       "      <td>J. E. Stephens \"Jeanne\"</td>\n",
       "      <td>3</td>\n",
       "      <td>1</td>\n",
       "      <td>5</td>\n",
       "      <td>1224892800</td>\n",
       "      <td>Bought This for My Son at College</td>\n",
       "      <td>My son loves spaghetti so I didn't hesitate or...</td>\n",
       "    </tr>\n",
       "    <tr>\n",
       "      <th>1</th>\n",
       "      <td>44737</td>\n",
       "      <td>B001EQ55RW</td>\n",
       "      <td>A2V0I904FH7ABY</td>\n",
       "      <td>Ram</td>\n",
       "      <td>3</td>\n",
       "      <td>2</td>\n",
       "      <td>4</td>\n",
       "      <td>1212883200</td>\n",
       "      <td>Pure cocoa taste with crunchy almonds inside</td>\n",
       "      <td>It was almost a 'love at first bite' - the per...</td>\n",
       "    </tr>\n",
       "  </tbody>\n",
       "</table>\n",
       "</div>"
      ],
      "text/plain": [
       "      Id   ProductId          UserId              ProfileName  \\\n",
       "0  64422  B000MIDROQ  A161DK06JJMCYF  J. E. Stephens \"Jeanne\"   \n",
       "1  44737  B001EQ55RW  A2V0I904FH7ABY                      Ram   \n",
       "\n",
       "   HelpfulnessNumerator  HelpfulnessDenominator  Score        Time  \\\n",
       "0                     3                       1      5  1224892800   \n",
       "1                     3                       2      4  1212883200   \n",
       "\n",
       "                                        Summary  \\\n",
       "0             Bought This for My Son at College   \n",
       "1  Pure cocoa taste with crunchy almonds inside   \n",
       "\n",
       "                                                Text  \n",
       "0  My son loves spaghetti so I didn't hesitate or...  \n",
       "1  It was almost a 'love at first bite' - the per...  "
      ]
     },
     "execution_count": 129,
     "metadata": {},
     "output_type": "execute_result"
    }
   ],
   "source": [
    "display= pd.read_sql_query(\"\"\"\n",
    "SELECT *\n",
    "FROM Reviews\n",
    "WHERE Score != 3 AND Id=44737 OR Id=64422\n",
    "ORDER BY ProductID\n",
    "\"\"\", con)\n",
    "\n",
    "display.head()"
   ]
  },
  {
   "cell_type": "code",
   "execution_count": 130,
   "metadata": {},
   "outputs": [],
   "source": [
    "final=final[final.HelpfulnessNumerator<=final.HelpfulnessDenominator]"
   ]
  },
  {
   "cell_type": "code",
   "execution_count": 131,
   "metadata": {},
   "outputs": [
    {
     "name": "stdout",
     "output_type": "stream",
     "text": [
      "(37415, 10)\n"
     ]
    },
    {
     "data": {
      "text/plain": [
       "1    31324\n",
       "0     6091\n",
       "Name: Score, dtype: int64"
      ]
     },
     "execution_count": 131,
     "metadata": {},
     "output_type": "execute_result"
    }
   ],
   "source": [
    "#Before starting the next phase of preprocessing lets see the number of entries left\n",
    "print(final.shape)\n",
    "\n",
    "#How many positive and negative reviews are present in our dataset?\n",
    "final['Score'].value_counts()"
   ]
  },
  {
   "cell_type": "markdown",
   "metadata": {},
   "source": [
    "#  [3] Preprocessing"
   ]
  },
  {
   "cell_type": "markdown",
   "metadata": {},
   "source": [
    "## [3.1].  Preprocessing Review Text\n",
    "\n",
    "Now that we have finished deduplication our data requires some preprocessing before we go on further with analysis and making the prediction model.\n",
    "\n",
    "Hence in the Preprocessing phase we do the following in the order below:-\n",
    "\n",
    "1. Begin by removing the html tags\n",
    "2. Remove any punctuations or limited set of special characters like , or . or # etc.\n",
    "3. Check if the word is made up of english letters and is not alpha-numeric\n",
    "4. Check to see if the length of the word is greater than 2 (as it was researched that there is no adjective in 2-letters)\n",
    "5. Convert the word to lowercase\n",
    "6. Remove Stopwords\n",
    "7. Finally Snowball Stemming the word (it was obsereved to be better than Porter Stemming)<br>\n",
    "\n",
    "After which we collect the words used to describe positive and negative reviews"
   ]
  },
  {
   "cell_type": "code",
   "execution_count": 132,
   "metadata": {},
   "outputs": [
    {
     "name": "stdout",
     "output_type": "stream",
     "text": [
      "Our dogs just love them.  I saw them in a pet store and a tag was attached regarding them being made in China and it satisfied me that they were safe.\n",
      "==================================================\n",
      "It's Branston pickle, what is there to say. If you've never tried it you most likely wont like it. If you grew up in the UK its a staple on cheese of cold meat sandwiches. It's on my lunch sandwich today! :)\n",
      "==================================================\n",
      "First Impression: The friendly folks over at \"Exclusively Dog\" heard about my website and sent me 5 of their products to test.<br />Let me just start off by saying that I Love how sweet all of these treats taste. Dad was/is considering trying one because they look and smell so much like human cookies. Plus the ingredients are very straight forward, they are probably healthier than most the stuff Mom eats... But there in lies the problem. Dad thinks that they are too sweet for a puppy of any age. The second ingredient in almost all of them is sugar. As we all know puppies have a hard time processing sugar, and just like humans can develop diabetes.<br /><br />Conclusion: Your puppy is nearly guaranteed to LOVE the taste. However these should only be used as an occasional treat! If you were to feed your puppies these sugary sweet morsels every day, they would soon plump up. If you puppy is already overweight or does not exercise regularly, you may want to think twice. On the PRO side they are all natural, with no animal bi-products! 3 out of 4 paws, because Dad made me! If we were judging on taste alone they would be a 4.\n",
      "==================================================\n",
      "It is hard to find candy that is overly sweet. My wife and Granddaughter both love Pink Grapefruit anyway and Pink Grapefruit candy has some of the tang of real grapefruit which cuts down on the sweetness a bit.<br />I did take away one star because I think they have a bit too much of sugar coating on the pieces but you can scrape some of it off to make it less sweet.<br />My wife uses the pieces when she has a low sugar spell since she is diabetic and sometimes when she has her insulin injections and doesn't eat quickly enough after that her blood sugar drops too low. Since I bought this she hasn't had that problem, but has to guard her supply from my Granddaughter though.<br />I have bought a pack for myself as well since I don't eat candy that often since I don't like overly sweet candy. This candy tastes good to me. I want to try the fruit salad next time just to have some change in taste. It has lime, grapefruit, lemon, orange, cherry and passion fruit and I like all of those flavors except cherry. But my wife likes cherry flavor so I can give those to her. Wish they had watermelon instead of cherry in that mix but its no big deal.\n",
      "==================================================\n"
     ]
    }
   ],
   "source": [
    "# printing some random reviews\n",
    "sent_0 = final['Text'].values[0]\n",
    "print(sent_0)\n",
    "print(\"=\"*50)\n",
    "\n",
    "sent_1000 = final['Text'].values[1000]\n",
    "print(sent_1000)\n",
    "print(\"=\"*50)\n",
    "\n",
    "sent_1500 = final['Text'].values[1500]\n",
    "print(sent_1500)\n",
    "print(\"=\"*50)\n",
    "\n",
    "sent_4900 = final['Text'].values[4900]\n",
    "print(sent_4900)\n",
    "print(\"=\"*50)"
   ]
  },
  {
   "cell_type": "code",
   "execution_count": 133,
   "metadata": {},
   "outputs": [
    {
     "name": "stdout",
     "output_type": "stream",
     "text": [
      "Our dogs just love them.  I saw them in a pet store and a tag was attached regarding them being made in China and it satisfied me that they were safe.\n"
     ]
    }
   ],
   "source": [
    "# remove urls from text python: https://stackoverflow.com/a/40823105/4084039\n",
    "sent_0 = re.sub(r\"http\\S+\", \"\", sent_0)\n",
    "sent_1000 = re.sub(r\"http\\S+\", \"\", sent_1000)\n",
    "sent_150 = re.sub(r\"http\\S+\", \"\", sent_1500)\n",
    "sent_4900 = re.sub(r\"http\\S+\", \"\", sent_4900)\n",
    "\n",
    "print(sent_0)"
   ]
  },
  {
   "cell_type": "code",
   "execution_count": 134,
   "metadata": {},
   "outputs": [
    {
     "name": "stdout",
     "output_type": "stream",
     "text": [
      "Our dogs just love them.  I saw them in a pet store and a tag was attached regarding them being made in China and it satisfied me that they were safe.\n",
      "==================================================\n",
      "It's Branston pickle, what is there to say. If you've never tried it you most likely wont like it. If you grew up in the UK its a staple on cheese of cold meat sandwiches. It's on my lunch sandwich today! :)\n",
      "==================================================\n",
      "First Impression: The friendly folks over at \"Exclusively Dog\" heard about my website and sent me 5 of their products to test.Let me just start off by saying that I Love how sweet all of these treats taste. Dad was/is considering trying one because they look and smell so much like human cookies. Plus the ingredients are very straight forward, they are probably healthier than most the stuff Mom eats... But there in lies the problem. Dad thinks that they are too sweet for a puppy of any age. The second ingredient in almost all of them is sugar. As we all know puppies have a hard time processing sugar, and just like humans can develop diabetes.Conclusion: Your puppy is nearly guaranteed to LOVE the taste. However these should only be used as an occasional treat! If you were to feed your puppies these sugary sweet morsels every day, they would soon plump up. If you puppy is already overweight or does not exercise regularly, you may want to think twice. On the PRO side they are all natural, with no animal bi-products! 3 out of 4 paws, because Dad made me! If we were judging on taste alone they would be a 4.\n",
      "==================================================\n",
      "It is hard to find candy that is overly sweet. My wife and Granddaughter both love Pink Grapefruit anyway and Pink Grapefruit candy has some of the tang of real grapefruit which cuts down on the sweetness a bit.I did take away one star because I think they have a bit too much of sugar coating on the pieces but you can scrape some of it off to make it less sweet.My wife uses the pieces when she has a low sugar spell since she is diabetic and sometimes when she has her insulin injections and doesn't eat quickly enough after that her blood sugar drops too low. Since I bought this she hasn't had that problem, but has to guard her supply from my Granddaughter though.I have bought a pack for myself as well since I don't eat candy that often since I don't like overly sweet candy. This candy tastes good to me. I want to try the fruit salad next time just to have some change in taste. It has lime, grapefruit, lemon, orange, cherry and passion fruit and I like all of those flavors except cherry. But my wife likes cherry flavor so I can give those to her. Wish they had watermelon instead of cherry in that mix but its no big deal.\n"
     ]
    }
   ],
   "source": [
    "# https://stackoverflow.com/questions/16206380/python-beautifulsoup-how-to-remove-all-tags-from-an-element\n",
    "from bs4 import BeautifulSoup\n",
    "\n",
    "soup = BeautifulSoup(sent_0, 'lxml')\n",
    "text = soup.get_text()\n",
    "print(text)\n",
    "print(\"=\"*50)\n",
    "\n",
    "soup = BeautifulSoup(sent_1000, 'lxml')\n",
    "text = soup.get_text()\n",
    "print(text)\n",
    "print(\"=\"*50)\n",
    "\n",
    "soup = BeautifulSoup(sent_1500, 'lxml')\n",
    "text = soup.get_text()\n",
    "print(text)\n",
    "print(\"=\"*50)\n",
    "\n",
    "soup = BeautifulSoup(sent_4900, 'lxml')\n",
    "text = soup.get_text()\n",
    "print(text)"
   ]
  },
  {
   "cell_type": "code",
   "execution_count": 135,
   "metadata": {},
   "outputs": [],
   "source": [
    "# https://stackoverflow.com/a/47091490/4084039\n",
    "import re\n",
    "\n",
    "def decontracted(phrase):\n",
    "    # specific\n",
    "    phrase = re.sub(r\"won't\", \"will not\", phrase)\n",
    "    phrase = re.sub(r\"can\\'t\", \"can not\", phrase)\n",
    "\n",
    "    # general\n",
    "    phrase = re.sub(r\"n\\'t\", \" not\", phrase)\n",
    "    phrase = re.sub(r\"\\'re\", \" are\", phrase)\n",
    "    phrase = re.sub(r\"\\'s\", \" is\", phrase)\n",
    "    phrase = re.sub(r\"\\'d\", \" would\", phrase)\n",
    "    phrase = re.sub(r\"\\'ll\", \" will\", phrase)\n",
    "    phrase = re.sub(r\"\\'t\", \" not\", phrase)\n",
    "    phrase = re.sub(r\"\\'ve\", \" have\", phrase)\n",
    "    phrase = re.sub(r\"\\'m\", \" am\", phrase)\n",
    "    return phrase"
   ]
  },
  {
   "cell_type": "code",
   "execution_count": 136,
   "metadata": {},
   "outputs": [
    {
     "name": "stdout",
     "output_type": "stream",
     "text": [
      "First Impression: The friendly folks over at \"Exclusively Dog\" heard about my website and sent me 5 of their products to test.<br />Let me just start off by saying that I Love how sweet all of these treats taste. Dad was/is considering trying one because they look and smell so much like human cookies. Plus the ingredients are very straight forward, they are probably healthier than most the stuff Mom eats... But there in lies the problem. Dad thinks that they are too sweet for a puppy of any age. The second ingredient in almost all of them is sugar. As we all know puppies have a hard time processing sugar, and just like humans can develop diabetes.<br /><br />Conclusion: Your puppy is nearly guaranteed to LOVE the taste. However these should only be used as an occasional treat! If you were to feed your puppies these sugary sweet morsels every day, they would soon plump up. If you puppy is already overweight or does not exercise regularly, you may want to think twice. On the PRO side they are all natural, with no animal bi-products! 3 out of 4 paws, because Dad made me! If we were judging on taste alone they would be a 4.\n",
      "==================================================\n"
     ]
    }
   ],
   "source": [
    "sent_1500 = decontracted(sent_1500)\n",
    "print(sent_1500)\n",
    "print(\"=\"*50)"
   ]
  },
  {
   "cell_type": "code",
   "execution_count": 137,
   "metadata": {},
   "outputs": [
    {
     "name": "stdout",
     "output_type": "stream",
     "text": [
      "Our dogs just love them.  I saw them in a pet store and a tag was attached regarding them being made in China and it satisfied me that they were safe.\n"
     ]
    }
   ],
   "source": [
    "#remove words with numbers python: https://stackoverflow.com/a/18082370/4084039\n",
    "sent_0 = re.sub(\"\\S*\\d\\S*\", \"\", sent_0).strip()\n",
    "print(sent_0)"
   ]
  },
  {
   "cell_type": "code",
   "execution_count": 138,
   "metadata": {},
   "outputs": [
    {
     "name": "stdout",
     "output_type": "stream",
     "text": [
      "First Impression The friendly folks over at Exclusively Dog heard about my website and sent me 5 of their products to test br Let me just start off by saying that I Love how sweet all of these treats taste Dad was is considering trying one because they look and smell so much like human cookies Plus the ingredients are very straight forward they are probably healthier than most the stuff Mom eats But there in lies the problem Dad thinks that they are too sweet for a puppy of any age The second ingredient in almost all of them is sugar As we all know puppies have a hard time processing sugar and just like humans can develop diabetes br br Conclusion Your puppy is nearly guaranteed to LOVE the taste However these should only be used as an occasional treat If you were to feed your puppies these sugary sweet morsels every day they would soon plump up If you puppy is already overweight or does not exercise regularly you may want to think twice On the PRO side they are all natural with no animal bi products 3 out of 4 paws because Dad made me If we were judging on taste alone they would be a 4 \n"
     ]
    }
   ],
   "source": [
    "#remove spacial character: https://stackoverflow.com/a/5843547/4084039\n",
    "sent_1500 = re.sub('[^A-Za-z0-9]+', ' ', sent_1500)\n",
    "print(sent_1500)"
   ]
  },
  {
   "cell_type": "code",
   "execution_count": 139,
   "metadata": {},
   "outputs": [],
   "source": [
    "# https://gist.github.com/sebleier/554280\n",
    "# we are removing the words from the stop words list: 'no', 'nor', 'not'\n",
    "# <br /><br /> ==> after the above steps, we are getting \"br br\"\n",
    "# we are including them into stop words list\n",
    "# instead of <br /> if we have <br/> these tags would have revmoved in the 1st step\n",
    "\n",
    "stopwords= set(['br', 'the', 'i', 'me', 'my', 'myself', 'we', 'our', 'ours', 'ourselves', 'you', \"you're\", \"you've\",\\\n",
    "            \"you'll\", \"you'd\", 'your', 'yours', 'yourself', 'yourselves', 'he', 'him', 'his', 'himself', \\\n",
    "            'she', \"she's\", 'her', 'hers', 'herself', 'it', \"it's\", 'its', 'itself', 'they', 'them', 'their',\\\n",
    "            'theirs', 'themselves', 'what', 'which', 'who', 'whom', 'this', 'that', \"that'll\", 'these', 'those', \\\n",
    "            'am', 'is', 'are', 'was', 'were', 'be', 'been', 'being', 'have', 'has', 'had', 'having', 'do', 'does', \\\n",
    "            'did', 'doing', 'a', 'an', 'the', 'and', 'but', 'if', 'or', 'because', 'as', 'until', 'while', 'of', \\\n",
    "            'at', 'by', 'for', 'with', 'about', 'against', 'between', 'into', 'through', 'during', 'before', 'after',\\\n",
    "            'above', 'below', 'to', 'from', 'up', 'down', 'in', 'out', 'on', 'off', 'over', 'under', 'again', 'further',\\\n",
    "            'then', 'once', 'here', 'there', 'when', 'where', 'why', 'how', 'all', 'any', 'both', 'each', 'few', 'more',\\\n",
    "            'most', 'other', 'some', 'such', 'only', 'own', 'same', 'so', 'than', 'too', 'very', \\\n",
    "            's', 't', 'can', 'will', 'just', 'don', \"don't\", 'should', \"should've\", 'now', 'd', 'll', 'm', 'o', 're', \\\n",
    "            've', 'y', 'ain', 'aren', \"aren't\", 'couldn', \"couldn't\", 'didn', \"didn't\", 'doesn', \"doesn't\", 'hadn',\\\n",
    "            \"hadn't\", 'hasn', \"hasn't\", 'haven', \"haven't\", 'isn', \"isn't\", 'ma', 'mightn', \"mightn't\", 'mustn',\\\n",
    "            \"mustn't\", 'needn', \"needn't\", 'shan', \"shan't\", 'shouldn', \"shouldn't\", 'wasn', \"wasn't\", 'weren', \"weren't\", \\\n",
    "            'won', \"won't\", 'wouldn', \"wouldn't\"])"
   ]
  },
  {
   "cell_type": "code",
   "execution_count": 140,
   "metadata": {},
   "outputs": [],
   "source": [
    "#filtered out whole reviews\n",
    "\n",
    "from bs4 import BeautifulSoup\n",
    "# Combining all the above stundents \n",
    "from tqdm import tqdm\n",
    "# tqdm is for printing the status bar\n",
    "word_counter = []\n",
    "def filterised_text(text):\n",
    "    preprocessed_text = []\n",
    "    for sentance in tqdm(text):\n",
    "        sentance = re.sub(r\"http\\S+\", \"\", sentance)\n",
    "        sentance = BeautifulSoup(sentance, 'lxml').get_text()\n",
    "        sentance = decontracted(sentance)\n",
    "        sentance = re.sub(\"\\S*\\d\\S*\", \"\", sentance).strip()\n",
    "        sentance = re.sub('[^A-Za-z]+', ' ', sentance)\n",
    "        # https://gist.github.com/sebleier/554280\n",
    "        sentance = ' '.join(e.lower() for e in sentance.split() if e.lower() not in stopwords)\n",
    "        count = len(sentance.split())\n",
    "        word_counter.append(count)\n",
    "        preprocessed_text.append(sentance.strip())\n",
    "    return preprocessed_text"
   ]
  },
  {
   "cell_type": "code",
   "execution_count": 141,
   "metadata": {},
   "outputs": [
    {
     "name": "stderr",
     "output_type": "stream",
     "text": [
      "100%|██████████| 37415/37415 [00:11<00:00, 3149.19it/s]\n"
     ]
    },
    {
     "data": {
      "text/plain": [
       "'wasabi lovers want not like cheap version peanut little bit green horse radish flavor sprinkled top lots wasabi'"
      ]
     },
     "execution_count": 141,
     "metadata": {},
     "output_type": "execute_result"
    }
   ],
   "source": [
    "preprocessed_reviews = filterised_text(final['Text'].values)\n",
    "final['preprocessed_reviews']  = preprocessed_reviews\n",
    "preprocessed_reviews[1822]"
   ]
  },
  {
   "cell_type": "code",
   "execution_count": 142,
   "metadata": {},
   "outputs": [
    {
     "data": {
      "text/plain": [
       "18"
      ]
     },
     "execution_count": 142,
     "metadata": {},
     "output_type": "execute_result"
    }
   ],
   "source": [
    "final['numbers_of_words']  = word_counter\n",
    "word_counter[1822]"
   ]
  },
  {
   "cell_type": "markdown",
   "metadata": {},
   "source": [
    "## [3.2] Preprocessing Review Summary"
   ]
  },
  {
   "cell_type": "code",
   "execution_count": 143,
   "metadata": {},
   "outputs": [
    {
     "name": "stderr",
     "output_type": "stream",
     "text": [
      "100%|██████████| 37415/37415 [00:07<00:00, 5053.69it/s]\n"
     ]
    },
    {
     "data": {
      "text/plain": [
       "'perfect'"
      ]
     },
     "execution_count": 143,
     "metadata": {},
     "output_type": "execute_result"
    }
   ],
   "source": [
    "preprocessed_summary = filterised_text(final['Summary'].values)\n",
    "final['preprocessed_summary']  = preprocessed_summary\n",
    "preprocessed_summary[1822]"
   ]
  },
  {
   "cell_type": "code",
   "execution_count": 144,
   "metadata": {},
   "outputs": [
    {
     "name": "stdout",
     "output_type": "stream",
     "text": [
      "(26190,) (11225,) (26190,) (11225,)\n"
     ]
    }
   ],
   "source": [
    "X = final['preprocessed_reviews']\n",
    "y = final['Score']\n",
    "\n",
    "# split the data set into train and test\n",
    "X_train, x_test, y_train, y_test = model_selection.train_test_split(X, y, test_size=0.3,random_state=0)\n",
    "\n",
    "print(X_train.shape, x_test.shape, y_train.shape, y_test.shape)"
   ]
  },
  {
   "cell_type": "code",
   "execution_count": 145,
   "metadata": {},
   "outputs": [],
   "source": [
    "avg_w2v_trained_model_100000 = '/home/pranay/ML trained models/W2V/avg_w2v_trained_model_100000'\n",
    "avg_w2v_test_model_100000 = '/home/pranay/ML trained models/W2V/avg_w2v_test_model_100000'\n",
    "\n",
    "w2v_tf_idf_trained_model_100000 = '/home/pranay/ML trained models/W2V_TFIDF/w2v_tf_idf_trained_model_100000'\n",
    "w2v_tf_idf_test_model_100000 = '/home/pranay/ML trained models/W2V_TFIDF/w2v_tf_idf_test_model_100000'"
   ]
  },
  {
   "cell_type": "code",
   "execution_count": 146,
   "metadata": {},
   "outputs": [],
   "source": [
    "# Common Methods\n",
    "\n",
    "alpha_values = (1e-4, 1e-3,1e-2,0.05,1e-1,0.5, 1e0,1e1,1e2,1e3)\n",
    "gamma_values = [0.0001, 0.001, 0.01, 0.1, 0.5, 1]\n",
    "\n",
    "def finding_best_alpha(X_tr,y_tr,which_method,whichAlgo, penalty):\n",
    "\n",
    "    if whichAlgo == 'SGDClassifier' :\n",
    "        # instantiate a SGDClassifier\n",
    "        if penalty == 'l1':\n",
    "            clf = SGDClassifier(loss='hinge', class_weight='balanced',n_jobs=-1, penalty='l1', random_state=1)\n",
    "        else:\n",
    "            clf = SGDClassifier(loss='hinge', class_weight='balanced',n_jobs=-1, penalty='l2', random_state=1)\n",
    "        param_grid=dict(alpha=alpha_values)\n",
    "    else:\n",
    "        # instantiate a SVC\n",
    "        clf = SVC(kernel='rbf', class_weight='balanced')\n",
    "        param_grid=dict(gamma=gamma_values, C=gamma_values)\n",
    "        \n",
    "    #For time based splitting\n",
    "    tscv = TimeSeriesSplit(n_splits=10)\n",
    "    \n",
    "    if which_method == 'gridsearch':\n",
    "    \n",
    "        # instantiate the grid for training data\n",
    "        trained = GridSearchCV(clf, param_grid, cv=tscv, scoring='roc_auc',n_jobs =-1,verbose=10 )\n",
    "    else:\n",
    "        # instantiate the grid for training data\n",
    "        trained = RandomizedSearchCV(clf, param_grid, cv=tscv, scoring='roc_auc',n_jobs =-1,verbose=10, n_iter = 15)\n",
    "        \n",
    "    # fit with traing data\n",
    "    trained.fit(X_tr, y_tr)\n",
    "    \n",
    "    return trained\n",
    "\n",
    "\n",
    "# plot a graph which show difference between validation error and training error\n",
    "def plotAccuracyGraph(training_grid):\n",
    "    alpha_range = [i for i in alpha_values]\n",
    "    accuracy = [i for i in training_grid.cv_results_['mean_train_score']]\n",
    "    accuracy_test = [i for i in training_grid.cv_results_['mean_test_score']]\n",
    "    plt.semilogx(alpha_range, accuracy,'r',label='train_accuracy')\n",
    "    plt.semilogx(alpha_range, accuracy_test,'b',label='validation_accuracy')\n",
    "    plt.title('Accuracy plot')\n",
    "    plt.xlabel('Alpha') \n",
    "    plt.ylabel('Accuracy')\n",
    "    plt.grid('on')\n",
    "    plt.legend()\n",
    "    plt.show()\n",
    "\n",
    "# https://www.geeksforgeeks.org/confusion-matrix-machine-learning/    \n",
    "def plotConfusionMatrix(y_test,pred):\n",
    "    # calculate confusion matrix\n",
    "    cm =  confusion_matrix(y_test,pred)\n",
    "    class_label = ['negative', 'positive']\n",
    "    df_conf_matrix = pd.DataFrame(cm, index=class_label, columns=class_label)\n",
    "    # heatmap --> Plot rectangular data as a color-encoded matrix. \n",
    "    sns.heatmap(df_conf_matrix, annot=True, fmt='d')\n",
    "    # give title to graph\n",
    "    plt.title(\"Confusion Matrix\")\n",
    "    # mention axis label\n",
    "    plt.xlabel(\"Predicted\")\n",
    "    plt.ylabel(\"Actual\")\n",
    "    # show the plot\n",
    "    plt.show()\n",
    "    \n",
    "\n",
    "# https://machinelearningmastery.com/roc-curves-and-precision-recall-curves-for-classification-in-python/\n",
    "# plot AUC curve\n",
    "def plotAUC_ROC(nb_optimal,X_train, y_train, X_test, y_test):\n",
    "    # predict probabilities\n",
    "    test_probs = nb_optimal.predict_proba(X_test)\n",
    "    train_probs = nb_optimal.predict_proba(X_train)\n",
    "    \n",
    "    # keep probabilities for the positive outcome only\n",
    "    test_probs = test_probs[:, 1]\n",
    "    train_probs = train_probs[:, 1]\n",
    "    \n",
    "    # calculate AUC\n",
    "    test_auc = roc_auc_score(y_test, test_probs)\n",
    "    train_auc = roc_auc_score(y_train, train_probs)\n",
    "    \n",
    "    # calculate roc curve\n",
    "    train_fpr, train_tpr, thresholds = roc_curve(y_train, train_probs)\n",
    "    test_fpr, test_tpr, thresholds2 = roc_curve(y_test, test_probs)\n",
    "    \n",
    "    # plot no skill\n",
    "    pyplot.plot([0, 1], [0, 1], linestyle='--')\n",
    "    \n",
    "    # plot the roc curve for the model\n",
    "    pyplot.plot(train_fpr, train_tpr, 'r',marker='.', label=\"train AUC =\"+str(train_auc))\n",
    "    pyplot.plot(test_fpr, test_tpr, 'b',marker='.',label=\"test AUC =\"+str(test_auc))\n",
    "    \n",
    "    pyplot.legend()\n",
    "    pyplot.xlabel(\"K: hyperparameter\")\n",
    "    pyplot.ylabel(\"AUC\")\n",
    "    pyplot.title(\"ERROR PLOTS\")\n",
    "    # show the plot\n",
    "    pyplot.show()\n",
    "    \n",
    "    return train_auc, test_auc\n",
    "\n",
    "class color:\n",
    "   PURPLE = '\\033[95m'\n",
    "   CYAN = '\\033[96m'\n",
    "   DARKCYAN = '\\033[36m'\n",
    "   BLUE = '\\033[94m'\n",
    "   GREEN = '\\033[92m'\n",
    "   YELLOW = '\\033[93m'\n",
    "   RED = '\\033[91m'\n",
    "   BOLD = '\\033[1m'\n",
    "   UNDERLINE = '\\033[4m'\n",
    "   END = '\\033[0m'\n"
   ]
  },
  {
   "cell_type": "markdown",
   "metadata": {},
   "source": [
    "# [4] Featurization"
   ]
  },
  {
   "cell_type": "markdown",
   "metadata": {},
   "source": [
    "## [4.1] BAG OF WORDS"
   ]
  },
  {
   "cell_type": "code",
   "execution_count": 147,
   "metadata": {},
   "outputs": [
    {
     "name": "stdout",
     "output_type": "stream",
     "text": [
      "X_train_bow (26190, 500)\n",
      "==============================\n",
      "x_test_bow (11225, 500)\n"
     ]
    }
   ],
   "source": [
    "##BoW\n",
    "\n",
    "count_vect = CountVectorizer(ngram_range=(1,2), min_df=10, max_features = 500) #in scikit-learn\n",
    "\n",
    "# train data\n",
    "X_train_bow = count_vect.fit_transform(X_train)\n",
    "\n",
    "# test data\n",
    "x_test_bow = count_vect.transform(x_test)\n",
    "\n",
    "\n",
    "print('X_train_bow',X_train_bow.shape)\n",
    "print('==='*10)\n",
    "print('x_test_bow',x_test_bow.shape)"
   ]
  },
  {
   "cell_type": "markdown",
   "metadata": {},
   "source": [
    "### Hyper parameter tuning using GridSearch"
   ]
  },
  {
   "cell_type": "code",
   "execution_count": 148,
   "metadata": {},
   "outputs": [
    {
     "name": "stdout",
     "output_type": "stream",
     "text": [
      "yes exists\n",
      "=======Training========\n",
      "0.8943955313168906\n",
      "{'C': 1, 'gamma': 0.01}\n",
      "SVC(C=1, cache_size=200, class_weight='balanced', coef0=0.0,\n",
      "  decision_function_shape='ovr', degree=3, gamma=0.01, kernel='rbf',\n",
      "  max_iter=-1, probability=False, random_state=None, shrinking=True,\n",
      "  tol=0.001, verbose=False)\n"
     ]
    }
   ],
   "source": [
    "bow_hyperparam = '/home/pranay/Amazon Assignments/SVM RBF/bow_hyperparam_tune'\n",
    "exists = os.path.isfile(bow_hyperparam)\n",
    "\n",
    "if exists:\n",
    "    print('yes exists')\n",
    "    bow_train = load(bow_hyperparam)\n",
    "else:\n",
    "    print('not exists')\n",
    "    bow_train =finding_best_alpha (X_train_bow,y_train, 'gridsearch','RBF','l2')\n",
    "    dump(bow_train,bow_hyperparam)\n",
    "\n",
    "# view the complete results (list of named tuples)\n",
    "print(\"=======Training========\")\n",
    "print (bow_train.best_score_)\n",
    "print (bow_train.best_params_)\n",
    "print (bow_train.best_estimator_)\n"
   ]
  },
  {
   "cell_type": "code",
   "execution_count": 149,
   "metadata": {},
   "outputs": [
    {
     "name": "stdout",
     "output_type": "stream",
     "text": [
      "\n",
      "\u001b[91mOptimal best gamma is : \u001b[0m\u001b[1m0.01\u001b[0m\n",
      "\n",
      "\u001b[91mOptimal best C value is : \u001b[0m\u001b[1m1\u001b[0m\n"
     ]
    }
   ],
   "source": [
    "gamma_val = bow_train.best_params_.get(\"gamma\", \"\")\n",
    "C_val = bow_train.best_params_.get(\"C\", \"\")\n",
    "print('\\n'+color.RED+'Optimal best gamma is : '+color.END+color.BOLD+str(gamma_val)+color.END)\n",
    "print('\\n'+color.RED+'Optimal best C value is : '+color.END+color.BOLD+str(C_val)+color.END)"
   ]
  },
  {
   "cell_type": "markdown",
   "metadata": {},
   "source": [
    "## RBF SVM on BoW"
   ]
  },
  {
   "cell_type": "code",
   "execution_count": 150,
   "metadata": {},
   "outputs": [
    {
     "name": "stdout",
     "output_type": "stream",
     "text": [
      "\n",
      "\u001b[1mConfusion Matrix for Train data\u001b[0m\n"
     ]
    },
    {
     "data": {
      "image/png": "[encoded data removed]",
      "text/plain": [
       "<Figure size 432x288 with 2 Axes>"
      ]
     },
     "metadata": {
      "needs_background": "light"
     },
     "output_type": "display_data"
    },
    {
     "name": "stdout",
     "output_type": "stream",
     "text": [
      "\n",
      "\u001b[1mConfusion Matrix for Test data\u001b[0m\n"
     ]
    },
    {
     "data": {
      "image/png": "[encoded data removed]",
      "text/plain": [
       "<Figure size 432x288 with 2 Axes>"
      ]
     },
     "metadata": {
      "needs_background": "light"
     },
     "output_type": "display_data"
    },
    {
     "data": {
      "image/png": "[encoded data removed]",
      "text/plain": [
       "<Figure size 432x288 with 1 Axes>"
      ]
     },
     "metadata": {
      "needs_background": "light"
     },
     "output_type": "display_data"
    },
    {
     "name": "stdout",
     "output_type": "stream",
     "text": [
      "\n",
      "\u001b[91mAUC (Train): \u001b[0m\u001b[1m0.9496290821973948\u001b[0m\n",
      "\n",
      "\u001b[91mAUC (Test): \u001b[0m\u001b[1m0.9022783612222725\u001b[0m\n",
      "\n",
      "\u001b[91mF1 SCORE (Train) : \u001b[0m\u001b[1m0.9548887436030391\u001b[0m\n",
      "\n",
      "\u001b[91mF1 SCORE (Test) : \u001b[0m\u001b[1m0.9353588590916138\u001b[0m\n",
      "\n",
      "\u001b[91mRECALL (Train): \u001b[0m\u001b[1m0.9676063416640015\u001b[0m\n",
      "\n",
      "\u001b[91mRECALL (Test): \u001b[0m\u001b[1m0.9590971707110311\u001b[0m\n",
      "\n",
      "\u001b[91mPRECISION  (Train) : \u001b[0m\u001b[1m0.9425011125945706\u001b[0m\n",
      "\n",
      "\u001b[91mPRECISION  (Test) : \u001b[0m\u001b[1m0.912767244856797\u001b[0m\n"
     ]
    }
   ],
   "source": [
    "optimal_model = SVC(C=C_val, cache_size=200, class_weight='balanced', coef0=0.0,\n",
    "  decision_function_shape='ovr', degree=3, gamma=gamma_val,\n",
    "  kernel='rbf', max_iter=-1, probability=False, random_state=None,\n",
    "  shrinking=True, tol=0.001, verbose=False)\n",
    "\n",
    "# https://www.kaggle.com/mpearmain/calibrated-sgdclassifier\n",
    "\n",
    "model_calib = CalibratedClassifierCV(base_estimator=optimal_model, cv=5, method='isotonic')\n",
    "\n",
    "# fitting the model\n",
    "model_calib.fit(X_train_bow, y_train)\n",
    "\n",
    "# predict the response\n",
    "test_pred = model_calib.predict(x_test_bow)\n",
    "train_pred = model_calib.predict(X_train_bow)\n",
    "\n",
    "# plot confusion matrix\n",
    "\n",
    "print('\\n'+color.BOLD +'Confusion Matrix for Train data'+color.END)\n",
    "plotConfusionMatrix(y_train,train_pred)\n",
    "\n",
    "print('\\n'+color.BOLD +'Confusion Matrix for Test data'+color.END)\n",
    "plotConfusionMatrix(y_test,test_pred)\n",
    "\n",
    "# plot AUC\n",
    "train_auc,test_auc = plotAUC_ROC(model_calib,X_train_bow, y_train,x_test_bow, y_test )\n",
    "print('\\n'+color.RED+'AUC (Train): '+color.END+color.BOLD+str(train_auc)+color.END)\n",
    "print('\\n'+color.RED+'AUC (Test): '+color.END+color.BOLD+str(test_auc)+color.END)\n",
    "\n",
    "# f1 score\n",
    "score = f1_score(y_test,test_pred)\n",
    "print('\\n'+color.RED+'F1 SCORE (Train) : '+color.END+color.BOLD+str(f1_score(y_train,train_pred))+color.END)\n",
    "print('\\n'+color.RED+'F1 SCORE (Test) : '+color.END+color.BOLD+str(score)+color.END)\n",
    "\n",
    "# recall\n",
    "recall = metrics.recall_score(y_test, test_pred)\n",
    "print('\\n'+color.RED+'RECALL (Train): '+color.END+color.BOLD+str(metrics.recall_score(y_train, train_pred))+color.END)\n",
    "print('\\n'+color.RED+'RECALL (Test): '+color.END+color.BOLD+str(recall)+color.END)\n",
    "\n",
    "# precision\n",
    "precision = metrics.precision_score(y_test, test_pred)\n",
    "print('\\n'+color.RED+'PRECISION  (Train) : '+color.END+color.BOLD+str(metrics.precision_score(y_train, train_pred))+color.END)\n",
    "print('\\n'+color.RED+'PRECISION  (Test) : '+color.END+color.BOLD+str(precision)+color.END)"
   ]
  },
  {
   "cell_type": "markdown",
   "metadata": {},
   "source": [
    "## [4.3] TF-IDF"
   ]
  },
  {
   "cell_type": "code",
   "execution_count": 151,
   "metadata": {},
   "outputs": [
    {
     "name": "stdout",
     "output_type": "stream",
     "text": [
      "(26190,) (11225,) (26190,) (11225,)\n",
      "X_train_tfidf (26190, 500)\n",
      "==============================\n",
      "x_test_tfidf (11225, 500)\n"
     ]
    }
   ],
   "source": [
    "X = final['preprocessed_reviews']\n",
    "y = final['Score']\n",
    "\n",
    "# split the data set into train and test\n",
    "X_train, x_test, y_train, y_test = model_selection.train_test_split(X, y, test_size=0.3,random_state=0)\n",
    "\n",
    "print(X_train.shape, x_test.shape, y_train.shape, y_test.shape)\n",
    "\n",
    "tf_idf_vect = TfidfVectorizer(ngram_range=(1,3), min_df=10,  max_features = 500) #in scikit-learn\n",
    "\n",
    "# train data\n",
    "X_train_tfidf = tf_idf_vect.fit_transform(X_train)\n",
    "\n",
    "# test data\n",
    "x_test_tfidf = tf_idf_vect.transform(x_test)\n",
    "\n",
    "print('X_train_tfidf', X_train_tfidf.shape)\n",
    "print('==='*10)\n",
    "print('x_test_tfidf', x_test_tfidf.shape)"
   ]
  },
  {
   "cell_type": "markdown",
   "metadata": {},
   "source": [
    "### Hyper parameter tunign using GridSearch"
   ]
  },
  {
   "cell_type": "code",
   "execution_count": 177,
   "metadata": {},
   "outputs": [
    {
     "name": "stdout",
     "output_type": "stream",
     "text": [
      "yes exists\n",
      "=======Training========\n",
      "0.9021741347522226\n",
      "{'C': 1, 'gamma': 1}\n",
      "SVC(C=1, cache_size=200, class_weight='balanced', coef0=0.0,\n",
      "  decision_function_shape='ovr', degree=3, gamma=1, kernel='rbf',\n",
      "  max_iter=-1, probability=False, random_state=None, shrinking=True,\n",
      "  tol=0.001, verbose=False)\n",
      "\n",
      "\u001b[91mOptimal best gamma is : \u001b[0m\u001b[1m1\u001b[0m\n",
      "\n",
      "\u001b[91mOptimal best C value is : \u001b[0m\u001b[1m1\u001b[0m\n"
     ]
    }
   ],
   "source": [
    "tfidf_hyperparam_path = '/home/pranay/Amazon Assignments/SVM RBF/tfidf_hyperparam_tune'\n",
    "exists = os.path.isfile(tfidf_hyperparam_path)\n",
    "\n",
    "if exists:\n",
    "    print('yes exists')\n",
    "    tfidf_train = load(tfidf_hyperparam_path)\n",
    "else:\n",
    "    print('not exists')\n",
    "    tfidf_train = finding_best_alpha (X_train_tfidf,y_train, 'gridsearch','RBF','l2')\n",
    "    dump(tfidf_train,tfidf_hyperparam_path)\n",
    "\n",
    "\n",
    "# view the complete results (list of named tuples)\n",
    "print(\"=======Training========\")\n",
    "print (tfidf_train.best_score_)\n",
    "print (tfidf_train.best_params_)\n",
    "print (tfidf_train.best_estimator_)\n",
    "\n",
    "gamma_val = tfidf_train.best_params_.get(\"gamma\", \"\")\n",
    "C_val = tfidf_train.best_params_.get(\"C\", \"\")\n",
    "print('\\n'+color.RED+'Optimal best gamma is : '+color.END+color.BOLD+str(gamma_val)+color.END)\n",
    "print('\\n'+color.RED+'Optimal best C value is : '+color.END+color.BOLD+str(C_val)+color.END)"
   ]
  },
  {
   "cell_type": "markdown",
   "metadata": {},
   "source": [
    "## Apply RBF SVM on TFIDF"
   ]
  },
  {
   "cell_type": "code",
   "execution_count": 153,
   "metadata": {},
   "outputs": [
    {
     "name": "stdout",
     "output_type": "stream",
     "text": [
      "\n",
      "\u001b[91mOptimal best gamma is : \u001b[0m\u001b[1m0.01\u001b[0m\n",
      "\n",
      "\u001b[91mOptimal best C value is : \u001b[0m\u001b[1m1\u001b[0m\n",
      "\n",
      "\u001b[1mConfusion Matrix for Train data\u001b[0m\n"
     ]
    },
    {
     "data": {
      "image/png": "[encoded data removed]",
      "text/plain": [
       "<Figure size 432x288 with 2 Axes>"
      ]
     },
     "metadata": {
      "needs_background": "light"
     },
     "output_type": "display_data"
    },
    {
     "name": "stdout",
     "output_type": "stream",
     "text": [
      "\n",
      "\u001b[1mConfusion Matrix for Test data\u001b[0m\n"
     ]
    },
    {
     "data": {
      "image/png": "[encoded data removed]",
      "text/plain": [
       "<Figure size 432x288 with 2 Axes>"
      ]
     },
     "metadata": {
      "needs_background": "light"
     },
     "output_type": "display_data"
    },
    {
     "data": {
      "image/png": "[encoded data removed]",
      "text/plain": [
       "<Figure size 432x288 with 1 Axes>"
      ]
     },
     "metadata": {
      "needs_background": "light"
     },
     "output_type": "display_data"
    },
    {
     "name": "stdout",
     "output_type": "stream",
     "text": [
      "\n",
      "\u001b[91mAUC (Train): \u001b[0m\u001b[1m0.8885206875816982\u001b[0m\n",
      "\n",
      "\u001b[91mAUC (Test): \u001b[0m\u001b[1m0.8782246697100446\u001b[0m\n",
      "\n",
      "\u001b[91mF1 SCORE (Train) : \u001b[0m\u001b[1m0.9271449786111665\u001b[0m\n",
      "\n",
      "\u001b[91mF1 SCORE (Test) : \u001b[0m\u001b[1m0.9242174629324547\u001b[0m\n",
      "\n",
      "\u001b[91mRECALL (Train): \u001b[0m\u001b[1m0.9555900763010006\u001b[0m\n",
      "\n",
      "\u001b[91mRECALL (Test): \u001b[0m\u001b[1m0.9511497297870086\u001b[0m\n",
      "\n",
      "\u001b[91mPRECISION  (Train) : \u001b[0m\u001b[1m0.9003443822643133\u001b[0m\n",
      "\n",
      "\u001b[91mPRECISION  (Test) : \u001b[0m\u001b[1m0.8987683989185942\u001b[0m\n"
     ]
    }
   ],
   "source": [
    "optimal_model = SVC(C=0.5, cache_size=200, class_weight='balanced', coef0=0.0,\n",
    "  decision_function_shape='ovr', degree=3, gamma=gamma_val,\n",
    "  kernel='rbf', max_iter=-1, probability=False, random_state=None,\n",
    "  shrinking=True, tol=0.001, verbose=False)\n",
    "\n",
    "# https://www.kaggle.com/mpearmain/calibrated-sgdclassifier\n",
    "\n",
    "model_calib = CalibratedClassifierCV(base_estimator=optimal_model, cv=5, method='isotonic')\n",
    "\n",
    "# fitting the model\n",
    "model_calib.fit(X_train_tfidf,y_train)\n",
    "\n",
    "# predict the response\n",
    "test_pred = model_calib.predict(x_test_tfidf)\n",
    "train_pred = model_calib.predict(X_train_tfidf)\n",
    "\n",
    "# plot confusion matrix\n",
    "\n",
    "print('\\n'+color.BOLD +'Confusion Matrix for Train data'+color.END)\n",
    "plotConfusionMatrix(y_train,train_pred)\n",
    "\n",
    "print('\\n'+color.BOLD +'Confusion Matrix for Test data'+color.END)\n",
    "plotConfusionMatrix(y_test,test_pred)\n",
    "\n",
    "# plot AUC\n",
    "train_auc,test_auc = plotAUC_ROC(model_calib,X_train_tfidf, y_train,x_test_tfidf, y_test )\n",
    "print('\\n'+color.RED+'AUC (Train): '+color.END+color.BOLD+str(train_auc)+color.END)\n",
    "print('\\n'+color.RED+'AUC (Test): '+color.END+color.BOLD+str(test_auc)+color.END)\n",
    "\n",
    "# f1 score\n",
    "score = f1_score(y_test,test_pred)\n",
    "print('\\n'+color.RED+'F1 SCORE (Train) : '+color.END+color.BOLD+str(f1_score(y_train,train_pred))+color.END)\n",
    "print('\\n'+color.RED+'F1 SCORE (Test) : '+color.END+color.BOLD+str(score)+color.END)\n",
    "\n",
    "# recall\n",
    "recall = metrics.recall_score(y_test, test_pred)\n",
    "print('\\n'+color.RED+'RECALL (Train): '+color.END+color.BOLD+str(metrics.recall_score(y_train, train_pred))+color.END)\n",
    "print('\\n'+color.RED+'RECALL (Test): '+color.END+color.BOLD+str(recall)+color.END)\n",
    "\n",
    "# precision\n",
    "precision = metrics.precision_score(y_test, test_pred)\n",
    "print('\\n'+color.RED+'PRECISION  (Train) : '+color.END+color.BOLD+str(metrics.precision_score(y_train, train_pred))+color.END)\n",
    "print('\\n'+color.RED+'PRECISION  (Test) : '+color.END+color.BOLD+str(precision)+color.END)"
   ]
  },
  {
   "cell_type": "markdown",
   "metadata": {},
   "source": [
    "## [4.4] Word2Vec"
   ]
  },
  {
   "cell_type": "code",
   "execution_count": 154,
   "metadata": {},
   "outputs": [
    {
     "name": "stdout",
     "output_type": "stream",
     "text": [
      "(26190,) (11225,) (26190,) (11225,)\n"
     ]
    }
   ],
   "source": [
    "X = final['preprocessed_reviews']\n",
    "y = final['Score']\n",
    "\n",
    "# split the data set into train and test\n",
    "X_train, x_test, y_train, y_test = model_selection.train_test_split(X, y, test_size=0.3,random_state=0)\n",
    "\n",
    "print(X_train.shape, x_test.shape, y_train.shape, y_test.shape)"
   ]
  },
  {
   "cell_type": "code",
   "execution_count": 155,
   "metadata": {},
   "outputs": [],
   "source": [
    "# Train your own Word2Vec model using your own text corpus\n",
    "\n",
    "# Train data\n",
    "list_of_sentance=[]\n",
    "for sentance in X_train:\n",
    "    list_of_sentance.append(sentance.split())\n",
    "\n",
    "# Test data\n",
    "list_of_test_sentence = []\n",
    "for sentance in x_test:\n",
    "    list_of_test_sentence.append(sentance.split())"
   ]
  },
  {
   "cell_type": "code",
   "execution_count": 156,
   "metadata": {
    "scrolled": true
   },
   "outputs": [
    {
     "name": "stdout",
     "output_type": "stream",
     "text": [
      "[('awesome', 0.8309053182601929), ('fantastic', 0.8299707174301147), ('amazing', 0.8037704229354858), ('good', 0.8006312847137451), ('wonderful', 0.7893585562705994), ('excellent', 0.7783764004707336), ('decent', 0.7407470345497131), ('terrific', 0.7362556457519531), ('perfect', 0.7358242273330688), ('outstanding', 0.6736037135124207)]\n",
      "==================================================\n",
      "[('greatest', 0.7583379745483398), ('best', 0.7561699151992798), ('ive', 0.7102117538452148), ('closest', 0.7022247314453125), ('experienced', 0.7005014419555664), ('hottest', 0.6946560144424438), ('ever', 0.6806468963623047), ('nicest', 0.6774216890335083), ('tastiest', 0.675605058670044), ('tasted', 0.6648785471916199)]\n"
     ]
    }
   ],
   "source": [
    "# Using Google News Word2Vectors\n",
    "\n",
    "# in this project we are using a pretrained model by google\n",
    "# its 3.3G file, once you load this into your memory \n",
    "# it occupies ~9Gb, so please do this step only if you have >12G of ram\n",
    "# we will provide a pickle file wich contains a dict , \n",
    "# and it contains all our courpus words as keys and  model[word] as values\n",
    "# To use this code-snippet, download \"GoogleNews-vectors-negative300.bin\" \n",
    "# from https://drive.google.com/file/d/0B7XkCwpI5KDYNlNUTTlSS21pQmM/edit\n",
    "# it's 1.9GB in size.\n",
    "\n",
    "\n",
    "# http://kavita-ganesan.com/gensim-word2vec-tutorial-starter-code/#.W17SRFAzZPY\n",
    "# you can comment this whole cell\n",
    "# or change these varible according to your need\n",
    "\n",
    "is_your_ram_gt_16g=False\n",
    "want_to_use_google_w2v = False\n",
    "want_to_train_w2v = True\n",
    "\n",
    "if want_to_train_w2v:\n",
    "    # min_count = 5 considers only words that occured atleast 5 times\n",
    "    # train data\n",
    "    w2v_model_tr=Word2Vec(list_of_sentance,min_count=5,size=50, workers=4)\n",
    "    # train model on test data\n",
    "    w2v_model_test = Word2Vec(list_of_test_sentence,min_count=5,size=50, workers=4)\n",
    "    print(w2v_model_tr.wv.most_similar('great'))\n",
    "    print('='*50)\n",
    "    print(w2v_model_tr.wv.most_similar('worst'))\n",
    "    \n",
    "elif want_to_use_google_w2v and is_your_ram_gt_16g:\n",
    "    if os.path.isfile('GoogleNews-vectors-negative300.bin'):\n",
    "        w2v_model=KeyedVectors.load_word2vec_format('GoogleNews-vectors-negative300.bin', binary=True)\n",
    "        print(w2v_model.wv.most_similar('great'))\n",
    "        print(w2v_model.wv.most_similar('worst'))\n",
    "    else:\n",
    "        print(\"you don't have gogole's word2vec file, keep want_to_train_w2v = True, to train your own w2v \")"
   ]
  },
  {
   "cell_type": "code",
   "execution_count": 157,
   "metadata": {},
   "outputs": [
    {
     "name": "stdout",
     "output_type": "stream",
     "text": [
      "number of words that occured minimum 5 times  9799\n",
      "sample words  ['cats', 'really', 'seem', 'like', 'food', 'look', 'people', 'tuna', 'shrimp', 'variety', 'even', 'little', 'quite', 'bit', 'expensive', 'usual', 'brand', 'canned', 'cat', 'fancy', 'feast', 'obviously', 'contains', 'whole', 'seafood', 'not', 'one', 'star', 'watery', 'otherwise', 'no', 'complaints', 'unlike', 'foods', 'petite', 'cuisine', 'smell', 'bad', 'long', 'mind', 'fishy', 'would', 'buy', 'saw', 'sale', 'probably', 'pay', 'full', 'price', 'bye']\n"
     ]
    }
   ],
   "source": [
    "# train data operation\n",
    "w2v_train_words = list(w2v_model_tr.wv.vocab)\n",
    "print(\"number of words that occured minimum 5 times \",len(w2v_train_words))\n",
    "print(\"sample words \", w2v_train_words[0:50])"
   ]
  },
  {
   "cell_type": "code",
   "execution_count": 158,
   "metadata": {},
   "outputs": [
    {
     "name": "stdout",
     "output_type": "stream",
     "text": [
      "number of words that occured minimum 5 times  6345\n",
      "sample words  ['texture', 'flavor', 'popcorn', 'unlike', 'really', 'delicious', 'find', 'best', 'use', 'air', 'popper', 'stovetop', 'method', 'many', 'kernals', 'refuse', 'pop', 'need', 'double', 'amount', 'pour', 'full', 'cup', 'spend', 'good', 'half', 'hour', 'cleaning', 'house', 'small', 'come', 'like', 'even', 'finding', 'crunching', 'week', 'great', 'tasting', 'though', 'real', 'treat', 'home', 'roasting', 'neat', 'little', 'adventure', 'wife', 'got', 'months', 'ago']\n"
     ]
    }
   ],
   "source": [
    "# test data operation\n",
    "w2v_test_words = list(w2v_model_test.wv.vocab)\n",
    "print(\"number of words that occured minimum 5 times \",len(w2v_test_words))\n",
    "print(\"sample words \", w2v_test_words[0:50])"
   ]
  },
  {
   "cell_type": "code",
   "execution_count": 159,
   "metadata": {},
   "outputs": [
    {
     "name": "stdout",
     "output_type": "stream",
     "text": [
      "not exist\n"
     ]
    },
    {
     "name": "stderr",
     "output_type": "stream",
     "text": [
      "100%|██████████| 26190/26190 [00:42<00:00, 617.43it/s]\n",
      "  2%|▏         | 222/11225 [00:00<00:09, 1123.37it/s]"
     ]
    },
    {
     "name": "stdout",
     "output_type": "stream",
     "text": [
      "26190\n",
      "50\n",
      "not exist\n"
     ]
    },
    {
     "name": "stderr",
     "output_type": "stream",
     "text": [
      "100%|██████████| 11225/11225 [00:14<00:00, 748.57it/s]"
     ]
    },
    {
     "name": "stdout",
     "output_type": "stream",
     "text": [
      "11225\n",
      "50\n"
     ]
    },
    {
     "name": "stderr",
     "output_type": "stream",
     "text": [
      "\n"
     ]
    }
   ],
   "source": [
    "# average Word2Vec\n",
    "\n",
    "# train data operation\n",
    "exists = os.path.isfile(avg_w2v_trained_model_100000)\n",
    "exists = False\n",
    "if exists:\n",
    "    print(\"yes exist\")\n",
    "    final_w2v_train = load(avg_w2v_trained_model_100000)\n",
    "else:\n",
    "    print(\"not exist\")\n",
    "    # compute average word2vec for each review.\n",
    "    final_w2v_train = []; # the avg-w2v for each sentence/review is stored in this list\n",
    "    for sent in tqdm(list_of_sentance): # for each review/sentence\n",
    "        sent_vec = np.zeros(50) # as word vectors are of zero length 50, you might need to change this to 300 if you use google's w2v\n",
    "        cnt_words =0; # num of words with a valid vector in the sentence/review\n",
    "        for word in sent: # for each word in a review/sentence\n",
    "            if word in w2v_train_words:\n",
    "                vec = w2v_model_tr.wv[word]\n",
    "                sent_vec += vec\n",
    "                cnt_words += 1\n",
    "        if cnt_words != 0:\n",
    "            sent_vec /= cnt_words\n",
    "        final_w2v_train.append(sent_vec)\n",
    "    print(len(final_w2v_train))\n",
    "    print(len(final_w2v_train[0]))\n",
    "#     dump(final_w2v_train,avg_w2v_trained_model_100000)\n",
    "\n",
    "\n",
    "# test data operation\n",
    "exists = os.path.isfile(avg_w2v_test_model_100000)\n",
    "exists = False\n",
    "\n",
    "if exists:\n",
    "    print(\"yes exist\")\n",
    "    final_w2v_test = load(avg_w2v_test_model_100000)\n",
    "else:\n",
    "    print(\"not exist\")\n",
    "    final_w2v_test = []; # the avg-w2v for each sentence/review is stored in this list\n",
    "    for sent in tqdm(list_of_test_sentence): # for each review/sentence\n",
    "        sent_vec = np.zeros(50) # as word vectors are of zero length 50, you might need to change this to 300 if you use google's w2v\n",
    "        cnt_words =0; # num of words with a valid vector in the sentence/review\n",
    "        for word in sent: # for each word in a review/sentence\n",
    "            if word in w2v_test_words:\n",
    "                vec = w2v_model_test.wv[word]\n",
    "                sent_vec += vec\n",
    "                cnt_words += 1\n",
    "        if cnt_words != 0:\n",
    "            sent_vec /= cnt_words\n",
    "        final_w2v_test.append(sent_vec)\n",
    "    print(len(final_w2v_test))\n",
    "    print(len(final_w2v_test[0]))\n",
    "#     dump(final_w2v_test,avg_w2v_test_model_100000)"
   ]
  },
  {
   "cell_type": "markdown",
   "metadata": {},
   "source": [
    "### Hyper parameter tunig using GridSearch"
   ]
  },
  {
   "cell_type": "code",
   "execution_count": 160,
   "metadata": {},
   "outputs": [
    {
     "name": "stdout",
     "output_type": "stream",
     "text": [
      "yes exists\n",
      "=======Training========\n",
      "0.8967242712122014\n",
      "{'C': 1, 'gamma': 0.1}\n",
      "SVC(C=1, cache_size=200, class_weight='balanced', coef0=0.0,\n",
      "  decision_function_shape='ovr', degree=3, gamma=0.1, kernel='rbf',\n",
      "  max_iter=-1, probability=False, random_state=None, shrinking=True,\n",
      "  tol=0.001, verbose=False)\n"
     ]
    }
   ],
   "source": [
    "w2v_hyperparam_path = '/home/pranay/Amazon Assignments/SVM RBF/w2v_hyperparam_tune'\n",
    "exists = os.path.isfile(w2v_hyperparam_path)\n",
    "\n",
    "if exists:\n",
    "    print('yes exists')\n",
    "    w2v_train= load(w2v_hyperparam_path)\n",
    "else:\n",
    "    w2v_train = finding_best_alpha (final_w2v_train,y_train, 'gridsearch','RBF','l2')\n",
    "    dump(w2v_train,w2v_hyperparam_path)\n",
    "\n",
    "\n",
    "# view the complete results (list of named tuples)\n",
    "print(\"=======Training========\")\n",
    "print (w2v_train.best_score_)\n",
    "print (w2v_train.best_params_)\n",
    "print (w2v_train.best_estimator_)"
   ]
  },
  {
   "cell_type": "markdown",
   "metadata": {},
   "source": [
    "## Apply RBF SVM on W2V"
   ]
  },
  {
   "cell_type": "code",
   "execution_count": 161,
   "metadata": {},
   "outputs": [
    {
     "name": "stdout",
     "output_type": "stream",
     "text": [
      "\n",
      "\u001b[91mOptimal best gamma is : \u001b[0m\u001b[1m0.1\u001b[0m\n",
      "\n",
      "\u001b[91mOptimal best C value is : \u001b[0m\u001b[1m1\u001b[0m\n"
     ]
    }
   ],
   "source": [
    "gamma_val = w2v_train.best_params_.get(\"gamma\", \"\")\n",
    "C_val = w2v_train.best_params_.get(\"C\", \"\")\n",
    "\n",
    "print('\\n'+color.RED+'Optimal best gamma is : '+color.END+color.BOLD+str(gamma_val)+color.END)\n",
    "print('\\n'+color.RED+'Optimal best C value is : '+color.END+color.BOLD+str(C_val)+color.END)"
   ]
  },
  {
   "cell_type": "code",
   "execution_count": 162,
   "metadata": {},
   "outputs": [
    {
     "name": "stdout",
     "output_type": "stream",
     "text": [
      "\n",
      "\u001b[1mConfusion Matrix for Train data\u001b[0m\n"
     ]
    },
    {
     "data": {
      "image/png": "[encoded data removed]",
      "text/plain": [
       "<Figure size 432x288 with 2 Axes>"
      ]
     },
     "metadata": {
      "needs_background": "light"
     },
     "output_type": "display_data"
    },
    {
     "name": "stdout",
     "output_type": "stream",
     "text": [
      "\n",
      "\u001b[1mConfusion Matrix for Test data\u001b[0m\n"
     ]
    },
    {
     "data": {
      "image/png": "[encoded data removed]",
      "text/plain": [
       "<Figure size 432x288 with 2 Axes>"
      ]
     },
     "metadata": {
      "needs_background": "light"
     },
     "output_type": "display_data"
    },
    {
     "data": {
      "image/png": "[encoded data removed]",
      "text/plain": [
       "<Figure size 432x288 with 1 Axes>"
      ]
     },
     "metadata": {
      "needs_background": "light"
     },
     "output_type": "display_data"
    },
    {
     "name": "stdout",
     "output_type": "stream",
     "text": [
      "\n",
      "\u001b[91mAUC (Train): \u001b[0m\u001b[1m0.9209465980700462\u001b[0m\n",
      "\n",
      "\u001b[91mAUC (Test): \u001b[0m\u001b[1m0.7696374094163604\u001b[0m\n",
      "\n",
      "\u001b[91mF1 SCORE (Train) : \u001b[0m\u001b[1m0.9350666726129421\u001b[0m\n",
      "\n",
      "\u001b[91mF1 SCORE (Test) : \u001b[0m\u001b[1m0.9134643306553092\u001b[0m\n",
      "\n",
      "\u001b[91mRECALL (Train): \u001b[0m\u001b[1m0.9579659158404532\u001b[0m\n",
      "\n",
      "\u001b[91mRECALL (Test): \u001b[0m\u001b[1m1.0\u001b[0m\n",
      "\n",
      "\u001b[91mPRECISION  (Train) : \u001b[0m\u001b[1m0.9132366392264472\u001b[0m\n",
      "\n",
      "\u001b[91mPRECISION  (Test) : \u001b[0m\u001b[1m0.8407126948775056\u001b[0m\n"
     ]
    }
   ],
   "source": [
    "optimal_model = SVC(C=C_val, cache_size=200, class_weight='balanced', coef0=0.0,\n",
    "  decision_function_shape='ovr', degree=3, gamma=gamma_val,\n",
    "  kernel='rbf', max_iter=-1, probability=False, random_state=None,\n",
    "  shrinking=True, tol=0.001, verbose=False)\n",
    "\n",
    "# https://www.kaggle.com/mpearmain/calibrated-sgdclassifier\n",
    "\n",
    "model_calib = CalibratedClassifierCV(base_estimator=optimal_model, cv=5, method='isotonic')\n",
    "\n",
    "# fitting the model\n",
    "model_calib.fit(final_w2v_train,y_train)\n",
    "\n",
    "# predict the response\n",
    "test_pred = model_calib.predict(final_w2v_test)\n",
    "train_pred = model_calib.predict(final_w2v_train)\n",
    "\n",
    "# plot confusion matrix\n",
    "\n",
    "print('\\n'+color.BOLD +'Confusion Matrix for Train data'+color.END)\n",
    "plotConfusionMatrix(y_train,train_pred)\n",
    "\n",
    "print('\\n'+color.BOLD +'Confusion Matrix for Test data'+color.END)\n",
    "plotConfusionMatrix(y_test,test_pred)\n",
    "\n",
    "# plot AUC\n",
    "train_auc,test_auc = plotAUC_ROC(model_calib,final_w2v_train, y_train,final_w2v_test, y_test )\n",
    "print('\\n'+color.RED+'AUC (Train): '+color.END+color.BOLD+str(train_auc)+color.END)\n",
    "print('\\n'+color.RED+'AUC (Test): '+color.END+color.BOLD+str(test_auc)+color.END)\n",
    "\n",
    "# f1 score\n",
    "score = f1_score(y_test,test_pred)\n",
    "print('\\n'+color.RED+'F1 SCORE (Train) : '+color.END+color.BOLD+str(f1_score(y_train,train_pred))+color.END)\n",
    "print('\\n'+color.RED+'F1 SCORE (Test) : '+color.END+color.BOLD+str(score)+color.END)\n",
    "\n",
    "# recall\n",
    "recall = metrics.recall_score(y_test, test_pred)\n",
    "print('\\n'+color.RED+'RECALL (Train): '+color.END+color.BOLD+str(metrics.recall_score(y_train, train_pred))+color.END)\n",
    "print('\\n'+color.RED+'RECALL (Test): '+color.END+color.BOLD+str(recall)+color.END)\n",
    "\n",
    "# precision\n",
    "precision = metrics.precision_score(y_test, test_pred)\n",
    "print('\\n'+color.RED+'PRECISION  (Train) : '+color.END+color.BOLD+str(metrics.precision_score(y_train, train_pred))+color.END)\n",
    "print('\\n'+color.RED+'PRECISION  (Test) : '+color.END+color.BOLD+str(precision)+color.END)"
   ]
  },
  {
   "cell_type": "markdown",
   "metadata": {},
   "source": [
    "## [4.4.1] Converting text into vectors using Avg W2V, TFIDF-W2V"
   ]
  },
  {
   "cell_type": "code",
   "execution_count": 163,
   "metadata": {},
   "outputs": [
    {
     "name": "stdout",
     "output_type": "stream",
     "text": [
      "(26190,) (11225,) (26190,) (11225,)\n"
     ]
    }
   ],
   "source": [
    "X = final['preprocessed_reviews']\n",
    "y = final['Score']\n",
    "\n",
    "# split the data set into train and test\n",
    "X_train, x_test, y_train, y_test = model_selection.train_test_split(X, y, test_size=0.3,random_state=0)\n",
    "\n",
    "print(X_train.shape, x_test.shape, y_train.shape, y_test.shape)"
   ]
  },
  {
   "cell_type": "markdown",
   "metadata": {},
   "source": [
    "#### [4.4.1.2] TFIDF weighted W2v"
   ]
  },
  {
   "cell_type": "code",
   "execution_count": 164,
   "metadata": {
    "scrolled": true
   },
   "outputs": [
    {
     "name": "stdout",
     "output_type": "stream",
     "text": [
      "not exist\n"
     ]
    },
    {
     "name": "stderr",
     "output_type": "stream",
     "text": [
      "100%|██████████| 26190/26190 [00:44<00:00, 586.49it/s]\n",
      "  3%|▎         | 357/11225 [00:00<00:16, 675.77it/s]"
     ]
    },
    {
     "name": "stdout",
     "output_type": "stream",
     "text": [
      "not exist\n"
     ]
    },
    {
     "name": "stderr",
     "output_type": "stream",
     "text": [
      "100%|██████████| 11225/11225 [00:16<00:00, 697.80it/s]\n"
     ]
    }
   ],
   "source": [
    "# we are converting a dictionary with word as a key, and the idf as a value\n",
    "dictionary = dict(zip(tf_idf_vect.get_feature_names(), list(tf_idf_vect.idf_)))\n",
    "\n",
    "# TF-IDF weighted Word2Vec\n",
    "\n",
    "# Train data operation\n",
    "\n",
    "# store model to hard disk if exist then load model directly from memory\n",
    "exists = os.path.isfile(w2v_tf_idf_trained_model_100000)\n",
    "exists = False\n",
    "if exists:\n",
    "    print(\"yes exist\")\n",
    "    final_tfidf_w2v_tr = load(w2v_tf_idf_trained_model_100000)\n",
    "else:   \n",
    "    print(\"not exist\")\n",
    "    tfidf_feat = tf_idf_vect.get_feature_names() # tfidf words/col-names\n",
    "    # final_tf_idf is the sparse matrix with row= sentence, col=word and cell_val = tfidf\n",
    "\n",
    "    final_tfidf_w2v_tr = []; # the tfidf-w2v for each sentence/review is stored in this list\n",
    "    row=0;\n",
    "    for sent in tqdm(list_of_sentance): # for each review/sentence \n",
    "        sent_vec = np.zeros(50) # as word vectors are of zero length\n",
    "        weight_sum =0; # num of words with a valid vector in the sentence/review\n",
    "        for word in sent: # for each word in a review/sentence\n",
    "            if word in w2v_train_words and word in tfidf_feat:\n",
    "                vec = w2v_model_tr.wv[word]\n",
    "    #             tf_idf = tf_idf_matrix[row, tfidf_feat.index(word)]\n",
    "                # to reduce the computation we are \n",
    "                # dictionary[word] = idf value of word in whole courpus\n",
    "                # sent.count(word) = tf valeus of word in this review\n",
    "                tf_idf = dictionary[word]*(sent.count(word)/len(sent))\n",
    "                sent_vec += (vec * tf_idf)\n",
    "                weight_sum += tf_idf\n",
    "        if weight_sum != 0:\n",
    "            sent_vec /= weight_sum\n",
    "        final_tfidf_w2v_tr.append(sent_vec)\n",
    "        row += 1\n",
    "#     dump(final_tfidf_w2v_tr,w2v_tf_idf_trained_model_100000)\n",
    "    \n",
    "    \n",
    "# Test data operation ============\n",
    "\n",
    "# store model to hard disk if exist then load model directly from memory\n",
    "exists = os.path.isfile(w2v_tf_idf_test_model_100000)\n",
    "exists = False\n",
    "if exists:\n",
    "    print(\"yes exist\")\n",
    "    final_tfidf_w2v_test = load(w2v_tf_idf_test_model_100000) \n",
    "\n",
    "else:   \n",
    "    print(\"not exist\")\n",
    "    # final_tf_idf is the sparse matrix with row= sentence, col=word and cell_val = tfidf\n",
    "    final_tfidf_w2v_test = []; # the tfidf-w2v for each sentence/review is stored in this list\n",
    "    row=0;\n",
    "    for sent in tqdm(list_of_test_sentence): # for each review/sentence \n",
    "        sent_vec = np.zeros(50) # as word vectors are of zero length\n",
    "        weight_sum =0; # num of words with a valid vector in the sentence/review\n",
    "        for word in sent: # for each word in a review/sentence\n",
    "            if word in w2v_test_words and word in tfidf_feat:\n",
    "                vec = w2v_model_test.wv[word]\n",
    "    #             tf_idf = tf_idf_matrix[row, tfidf_feat.index(word)]\n",
    "                # to reduce the computation we are \n",
    "                # dictionary[word] = idf value of word in whole courpus\n",
    "                # sent.count(word) = tf valeus of word in this review\n",
    "                tf_idf = dictionary[word]*(sent.count(word)/len(sent))\n",
    "                sent_vec += (vec * tf_idf)\n",
    "                weight_sum += tf_idf\n",
    "        if weight_sum != 0:\n",
    "            sent_vec /= weight_sum\n",
    "        final_tfidf_w2v_test.append(sent_vec)\n",
    "        row += 1\n",
    "#     dump(final_tfidf_w2v_test,w2v_tf_idf_test_model_100000)\n",
    "        "
   ]
  },
  {
   "cell_type": "markdown",
   "metadata": {},
   "source": [
    "### Hyper paramter tuning using Gridsearch"
   ]
  },
  {
   "cell_type": "code",
   "execution_count": 165,
   "metadata": {},
   "outputs": [
    {
     "name": "stdout",
     "output_type": "stream",
     "text": [
      "yes exists\n",
      "=======Training========\n",
      "0.8498412444277511\n",
      "{'C': 0.5, 'gamma': 0.1}\n",
      "SVC(C=0.5, cache_size=200, class_weight='balanced', coef0=0.0,\n",
      "  decision_function_shape='ovr', degree=3, gamma=0.1, kernel='rbf',\n",
      "  max_iter=-1, probability=False, random_state=None, shrinking=True,\n",
      "  tol=0.001, verbose=False)\n"
     ]
    }
   ],
   "source": [
    "w2v_tfidf_hyperparam_path = '/home/pranay/Amazon Assignments/SVM RBF/w2v_tfidf_hyperparam_tune'\n",
    "\n",
    "exists = os.path.isfile(w2v_tfidf_hyperparam_path)\n",
    "\n",
    "if exists:\n",
    "    print('yes exists')\n",
    "    w2v_tfidf_train = load(w2v_tfidf_hyperparam_path)\n",
    "else:\n",
    "    print('not exists')\n",
    "    w2v_tfidf_train = finding_best_alpha (final_tfidf_w2v_tr,y_train, 'gridsearch','RBF','l2')\n",
    "    dump(w2v_tfidf_train,w2v_tfidf_hyperparam_path)\n",
    "\n",
    "\n",
    "# view the complete results (list of named tuples)\n",
    "print(\"=======Training========\")\n",
    "print (w2v_tfidf_train.best_score_)\n",
    "print (w2v_tfidf_train.best_params_)\n",
    "print (w2v_tfidf_train.best_estimator_)"
   ]
  },
  {
   "cell_type": "markdown",
   "metadata": {},
   "source": [
    "## RBF SVM TFIDF weighted W2V "
   ]
  },
  {
   "cell_type": "code",
   "execution_count": 166,
   "metadata": {},
   "outputs": [
    {
     "name": "stdout",
     "output_type": "stream",
     "text": [
      "\n",
      "\u001b[91mOptimal best gamma is : \u001b[0m\u001b[1m0.1\u001b[0m\n",
      "\n",
      "\u001b[91mOptimal best C value is : \u001b[0m\u001b[1m0.5\u001b[0m\n"
     ]
    }
   ],
   "source": [
    "gamma_val = w2v_tfidf_train.best_params_.get(\"gamma\", \"\")\n",
    "C_val = w2v_tfidf_train.best_params_.get(\"C\", \"\")\n",
    "print('\\n'+color.RED+'Optimal best gamma is : '+color.END+color.BOLD+str(gamma_val)+color.END)\n",
    "print('\\n'+color.RED+'Optimal best C value is : '+color.END+color.BOLD+str(C_val)+color.END)"
   ]
  },
  {
   "cell_type": "code",
   "execution_count": 167,
   "metadata": {},
   "outputs": [
    {
     "name": "stdout",
     "output_type": "stream",
     "text": [
      "\n",
      "\u001b[1mConfusion Matrix for Train data\u001b[0m\n"
     ]
    },
    {
     "data": {
      "image/png": "[encoded data removed]",
      "text/plain": [
       "<Figure size 432x288 with 2 Axes>"
      ]
     },
     "metadata": {
      "needs_background": "light"
     },
     "output_type": "display_data"
    },
    {
     "name": "stdout",
     "output_type": "stream",
     "text": [
      "\n",
      "\u001b[1mConfusion Matrix for Test data\u001b[0m\n"
     ]
    },
    {
     "data": {
      "image/png": "[encoded data removed]",
      "text/plain": [
       "<Figure size 432x288 with 2 Axes>"
      ]
     },
     "metadata": {
      "needs_background": "light"
     },
     "output_type": "display_data"
    },
    {
     "data": {
      "image/png": "[encoded data removed]",
      "text/plain": [
       "<Figure size 432x288 with 1 Axes>"
      ]
     },
     "metadata": {
      "needs_background": "light"
     },
     "output_type": "display_data"
    },
    {
     "name": "stdout",
     "output_type": "stream",
     "text": [
      "\n",
      "\u001b[91mAUC (Train): \u001b[0m\u001b[1m0.90822753308962\u001b[0m\n",
      "\n",
      "\u001b[91mAUC (Test): \u001b[0m\u001b[1m0.7593736835754548\u001b[0m\n",
      "\n",
      "\u001b[91mF1 SCORE (Train) : \u001b[0m\u001b[1m0.9275990369884001\u001b[0m\n",
      "\n",
      "\u001b[91mF1 SCORE (Test) : \u001b[0m\u001b[1m0.9138457068138892\u001b[0m\n",
      "\n",
      "\u001b[91mRECALL (Train): \u001b[0m\u001b[1m0.9682003015488646\u001b[0m\n",
      "\n",
      "\u001b[91mRECALL (Test): \u001b[0m\u001b[1m0.999788068242026\u001b[0m\n",
      "\n",
      "\u001b[91mPRECISION  (Train) : \u001b[0m\u001b[1m0.8902659328656052\u001b[0m\n",
      "\n",
      "\u001b[91mPRECISION  (Test) : \u001b[0m\u001b[1m0.8415090973956475\u001b[0m\n"
     ]
    }
   ],
   "source": [
    "optimal_model = SVC(C=C_val, cache_size=200, class_weight='balanced', coef0=0.0,\n",
    "  decision_function_shape='ovr', degree=3, gamma=gamma_val,\n",
    "  kernel='rbf', max_iter=-1, probability=False, random_state=None,\n",
    "  shrinking=True, tol=0.001, verbose=False)\n",
    "\n",
    "# https://www.kaggle.com/mpearmain/calibrated-sgdclassifier\n",
    "\n",
    "model_calib = CalibratedClassifierCV(base_estimator=optimal_model, cv=5, method='isotonic')\n",
    "\n",
    "# fitting the model\n",
    "model_calib.fit(final_tfidf_w2v_tr,y_train)\n",
    "\n",
    "# predict the response\n",
    "test_pred = model_calib.predict(final_tfidf_w2v_test)\n",
    "train_pred = model_calib.predict(final_tfidf_w2v_tr)\n",
    "\n",
    "# plot confusion matrix\n",
    "\n",
    "print('\\n'+color.BOLD +'Confusion Matrix for Train data'+color.END)\n",
    "plotConfusionMatrix(y_train,train_pred)\n",
    "\n",
    "print('\\n'+color.BOLD +'Confusion Matrix for Test data'+color.END)\n",
    "plotConfusionMatrix(y_test,test_pred)\n",
    "\n",
    "# plot AUC\n",
    "train_auc,test_auc = plotAUC_ROC(model_calib,final_tfidf_w2v_tr, y_train,final_tfidf_w2v_test, y_test )\n",
    "print('\\n'+color.RED+'AUC (Train): '+color.END+color.BOLD+str(train_auc)+color.END)\n",
    "print('\\n'+color.RED+'AUC (Test): '+color.END+color.BOLD+str(test_auc)+color.END)\n",
    "\n",
    "# f1 score\n",
    "score = f1_score(y_test,test_pred)\n",
    "print('\\n'+color.RED+'F1 SCORE (Train) : '+color.END+color.BOLD+str(f1_score(y_train,train_pred))+color.END)\n",
    "print('\\n'+color.RED+'F1 SCORE (Test) : '+color.END+color.BOLD+str(score)+color.END)\n",
    "\n",
    "# recall\n",
    "recall = metrics.recall_score(y_test, test_pred)\n",
    "print('\\n'+color.RED+'RECALL (Train): '+color.END+color.BOLD+str(metrics.recall_score(y_train, train_pred))+color.END)\n",
    "print('\\n'+color.RED+'RECALL (Test): '+color.END+color.BOLD+str(recall)+color.END)\n",
    "\n",
    "# precision\n",
    "precision = metrics.precision_score(y_test, test_pred)\n",
    "print('\\n'+color.RED+'PRECISION  (Train) : '+color.END+color.BOLD+str(metrics.precision_score(y_train, train_pred))+color.END)\n",
    "print('\\n'+color.RED+'PRECISION  (Test) : '+color.END+color.BOLD+str(precision)+color.END)"
   ]
  },
  {
   "cell_type": "markdown",
   "metadata": {},
   "source": [
    "# [6] Conclusions"
   ]
  },
  {
   "cell_type": "code",
   "execution_count": 183,
   "metadata": {},
   "outputs": [
    {
     "name": "stdout",
     "output_type": "stream",
     "text": [
      "\u001b[1m\t\t\t\t RBF SVM  \u001b[0m\n",
      "\n",
      "\n",
      "\u001b[1mFor BOW and TFIDF, We have considered 40k points\u001b[0m\n",
      "\n",
      "\n",
      "+------------------+----------+----------+----------+-----------+\n",
      "|      Metric      |   BOW    |  TFIDF   |   W2V    | TFIDF-W2V |\n",
      "+------------------+----------+----------+----------+-----------+\n",
      "|     C Value      |    1     |   0.5    |    1     |    0.5    |\n",
      "|   gamma Value    |   0.01   |    1     |   0.1    |    0.1    |\n",
      "|    AUC Train     |  0.9496  | 0.88852  |  0.9209  |   0.9082  |\n",
      "|    AUC Test      | 0.90227  | 0.87822  |  0.7696  |  0.75937  |\n",
      "| F1 SCORE Train   | 0.95488  | 0.92714  | 0.935066 |  0.92759  |\n",
      "|  F1 SCORE Test   | 0.93535  | 0.92421  | 0.913464 |   0.9138  |\n",
      "|  RECALL Train    |  0.9676  |  0.9555  | 0.95796  |   0.9682  |\n",
      "|   RECALL Test    | 0.959097 | 0.95114  |   1.0    |   0.9997  |\n",
      "| PRECISION Train  |  0.9425  | 0.900344 |  0.9132  |   0.8902  |\n",
      "| PRECISION Test   | 0.91276  | 0.89876  | 0.84071  |   0.8415  |\n",
      "+------------------+----------+----------+----------+-----------+\n"
     ]
    }
   ],
   "source": [
    "import pandas as pd\n",
    "from prettytable import PrettyTable\n",
    "\n",
    "print(color.BOLD+'\\t\\t\\t\\t RBF SVM  '+color.END)\n",
    "print('\\n')\n",
    "\n",
    "print(color.BOLD+'For BOW and TFIDF, We have considered 40k points'+color.END)\n",
    "\n",
    "\n",
    "x = PrettyTable()\n",
    "x.field_names =  ['Metric','BOW','TFIDF', 'W2V', 'TFIDF-W2V']\n",
    "\n",
    "x.add_row([\"C Value \", 1,0.5,1,0.5])\n",
    "x.add_row([\"gamma Value \", 0.01,1,0.1,0.1])\n",
    "\n",
    "\n",
    "x.add_row([\"AUC Train \", 0.9496,0.88852,0.9209,0.9082])\n",
    "x.add_row([\"AUC Test \", 0.90227,0.87822,0.7696,0.75937])\n",
    "\n",
    "x.add_row([\"F1 SCORE Train \", 0.95488,0.92714,0.935066,0.92759])\n",
    "x.add_row([\"F1 SCORE Test \", 0.93535,0.92421,0.913464,0.9138])\n",
    "\n",
    "x.add_row([\"RECALL Train \",0.9676,0.9555,0.95796,0.9682])\n",
    "x.add_row([\"RECALL Test \", 0.959097,0.95114,1.0,0.9997])\n",
    "\n",
    "x.add_row([\"PRECISION Train \", 0.94250,0.900344,0.9132,0.8902])\n",
    "x.add_row([\"PRECISION Test \",0.91276,0.89876,0.84071,0.84150])\n",
    "\n",
    "\n",
    "print('\\n')\n",
    "print(x)"
   ]
  },
  {
   "cell_type": "code",
   "execution_count": null,
   "metadata": {},
   "outputs": [],
   "source": []
  }
 ],
 "metadata": {
  "kernelspec": {
   "display_name": "Python 3",
   "language": "python",
   "name": "python3"
  },
  "language_info": {
   "codemirror_mode": {
    "name": "ipython",
    "version": 3
   },
   "file_extension": ".py",
   "mimetype": "text/x-python",
   "name": "python",
   "nbconvert_exporter": "python",
   "pygments_lexer": "ipython3",
   "version": "3.7.1"
  }
 },
 "nbformat": 4,
 "nbformat_minor": 2
}
