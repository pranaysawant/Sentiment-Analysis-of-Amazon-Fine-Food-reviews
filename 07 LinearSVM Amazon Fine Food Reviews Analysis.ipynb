{
 "cells": [
  {
   "cell_type": "markdown",
   "metadata": {},
   "source": [
    "# Amazon Fine Food Reviews Analysis\n",
    "\n",
    "\n",
    "Data Source: https://www.kaggle.com/snap/amazon-fine-food-reviews <br>\n",
    "\n",
    "EDA: https://nycdatascience.com/blog/student-works/amazon-fine-foods-visualization/\n",
    "\n",
    "\n",
    "The Amazon Fine Food Reviews dataset consists of reviews of fine foods from Amazon.<br>\n",
    "\n",
    "Number of reviews: 568,454<br>\n",
    "Number of users: 256,059<br>\n",
    "Number of products: 74,258<br>\n",
    "Timespan: Oct 1999 - Oct 2012<br>\n",
    "Number of Attributes/Columns in data: 10 \n",
    "\n",
    "Attribute Information:\n",
    "\n",
    "1. Id\n",
    "2. ProductId - unique identifier for the product\n",
    "3. UserId - unqiue identifier for the user\n",
    "4. ProfileName\n",
    "5. HelpfulnessNumerator - number of users who found the review helpful\n",
    "6. HelpfulnessDenominator - number of users who indicated whether they found the review helpful or not\n",
    "7. Score - rating between 1 and 5\n",
    "8. Time - timestamp for the review\n",
    "9. Summary - brief summary of the review\n",
    "10. Text - text of the review\n",
    "\n",
    "\n",
    "#### Objective:\n",
    "Given a review, determine whether the review is positive (rating of 4 or 5) or negative (rating of 1 or 2).\n",
    "\n",
    "<br>\n",
    "[Q] How to determine if a review is positive or negative?<br>\n",
    "<br> \n",
    "[Ans] We could use Score/Rating. A rating of 4 or 5 can be cosnidered as a positive review. A rating of 1 or 2 can be considered as negative one. A review of rating 3 is considered nuetral and such reviews are ignored from our analysis. This is an approximate and proxy way of determining the polarity (positivity/negativity) of a review.\n",
    "\n",
    "\n"
   ]
  },
  {
   "cell_type": "markdown",
   "metadata": {},
   "source": [
    "# [1]. Reading Data"
   ]
  },
  {
   "cell_type": "markdown",
   "metadata": {},
   "source": [
    "## [1.1] Loading the data\n",
    "\n",
    "The dataset is available in two forms\n",
    "1. .csv file\n",
    "2. SQLite Database\n",
    "\n",
    "In order to load the data, We have used the SQLITE dataset as it is easier to query the data and visualise the data efficiently.\n",
    "<br> \n",
    "\n",
    "Here as we only want to get the global sentiment of the recommendations (positive or negative), we will purposefully ignore all Scores equal to 3. If the score is above 3, then the recommendation wil be set to \"positive\". Otherwise, it will be set to \"negative\"."
   ]
  },
  {
   "cell_type": "code",
   "execution_count": 1,
   "metadata": {},
   "outputs": [],
   "source": [
    "%matplotlib inline\n",
    "import warnings\n",
    "warnings.filterwarnings(\"ignore\")\n",
    "\n",
    "\n",
    "import sqlite3\n",
    "import pandas as pd\n",
    "import numpy as np\n",
    "import nltk\n",
    "import string\n",
    "import matplotlib.pyplot as plt\n",
    "import seaborn as sns\n",
    "from sklearn.feature_extraction.text import TfidfTransformer\n",
    "from sklearn.feature_extraction.text import TfidfVectorizer\n",
    "\n",
    "from sklearn.feature_extraction.text import CountVectorizer\n",
    "from sklearn.metrics import confusion_matrix\n",
    "from sklearn import metrics\n",
    "from sklearn.metrics import roc_curve, auc\n",
    "from nltk.stem.porter import PorterStemmer\n",
    "\n",
    "import re\n",
    "# Tutorial about Python regular expressions: https://pymotw.com/2/re/\n",
    "import string\n",
    "from nltk.corpus import stopwords\n",
    "from nltk.stem import PorterStemmer\n",
    "from nltk.stem.wordnet import WordNetLemmatizer\n",
    "\n",
    "from gensim.models import Word2Vec\n",
    "from gensim.models import KeyedVectors\n",
    "import pickle\n",
    "\n",
    "from tqdm import tqdm\n",
    "import os\n",
    "\n",
    "# importing Cross validation libs\n",
    "from sklearn.model_selection import train_test_split\n",
    "from sklearn.model_selection import cross_val_score\n",
    "from sklearn import model_selection\n",
    "\n",
    "# Python script for confusion matrix creation. \n",
    "from sklearn.metrics import confusion_matrix \n",
    "from sklearn.metrics import accuracy_score \n",
    "from sklearn.metrics import classification_report \n",
    "# roc curve and auc\n",
    "from sklearn.datasets import make_classification\n",
    "from sklearn.metrics import roc_curve\n",
    "from sklearn.metrics import roc_auc_score\n",
    "from matplotlib import pyplot\n",
    "from sklearn.metrics import roc_curve, auc\n",
    "from sklearn.model_selection import GridSearchCV\n",
    "\n",
    "import seaborn as sns\n",
    "\n",
    "from sklearn.model_selection import TimeSeriesSplit\n",
    "from sklearn.model_selection import RandomizedSearchCV\n",
    "import numpy as np\n",
    "from sklearn.metrics import f1_score,recall_score,precision_score\n",
    "\n",
    "from sklearn.linear_model import SGDClassifier\n",
    "from sklearn.calibration import CalibratedClassifierCV\n",
    "from sklearn.svm import SVC\n",
    "from sklearn_pandas import DataFrameMapper\n",
    "from joblib import dump, load\n"
   ]
  },
  {
   "cell_type": "code",
   "execution_count": 2,
   "metadata": {},
   "outputs": [
    {
     "name": "stdout",
     "output_type": "stream",
     "text": [
      "Number of data points in our data (100000, 10)\n"
     ]
    },
    {
     "data": {
      "text/html": [
       "<div>\n",
       "<style scoped>\n",
       "    .dataframe tbody tr th:only-of-type {\n",
       "        vertical-align: middle;\n",
       "    }\n",
       "\n",
       "    .dataframe tbody tr th {\n",
       "        vertical-align: top;\n",
       "    }\n",
       "\n",
       "    .dataframe thead th {\n",
       "        text-align: right;\n",
       "    }\n",
       "</style>\n",
       "<table border=\"1\" class=\"dataframe\">\n",
       "  <thead>\n",
       "    <tr style=\"text-align: right;\">\n",
       "      <th></th>\n",
       "      <th>Id</th>\n",
       "      <th>ProductId</th>\n",
       "      <th>UserId</th>\n",
       "      <th>ProfileName</th>\n",
       "      <th>HelpfulnessNumerator</th>\n",
       "      <th>HelpfulnessDenominator</th>\n",
       "      <th>Score</th>\n",
       "      <th>Time</th>\n",
       "      <th>Summary</th>\n",
       "      <th>Text</th>\n",
       "    </tr>\n",
       "  </thead>\n",
       "  <tbody>\n",
       "    <tr>\n",
       "      <th>0</th>\n",
       "      <td>1</td>\n",
       "      <td>B001E4KFG0</td>\n",
       "      <td>A3SGXH7AUHU8GW</td>\n",
       "      <td>delmartian</td>\n",
       "      <td>1</td>\n",
       "      <td>1</td>\n",
       "      <td>1</td>\n",
       "      <td>1303862400</td>\n",
       "      <td>Good Quality Dog Food</td>\n",
       "      <td>I have bought several of the Vitality canned d...</td>\n",
       "    </tr>\n",
       "    <tr>\n",
       "      <th>1</th>\n",
       "      <td>2</td>\n",
       "      <td>B00813GRG4</td>\n",
       "      <td>A1D87F6ZCVE5NK</td>\n",
       "      <td>dll pa</td>\n",
       "      <td>0</td>\n",
       "      <td>0</td>\n",
       "      <td>0</td>\n",
       "      <td>1346976000</td>\n",
       "      <td>Not as Advertised</td>\n",
       "      <td>Product arrived labeled as Jumbo Salted Peanut...</td>\n",
       "    </tr>\n",
       "    <tr>\n",
       "      <th>2</th>\n",
       "      <td>3</td>\n",
       "      <td>B000LQOCH0</td>\n",
       "      <td>ABXLMWJIXXAIN</td>\n",
       "      <td>Natalia Corres \"Natalia Corres\"</td>\n",
       "      <td>1</td>\n",
       "      <td>1</td>\n",
       "      <td>1</td>\n",
       "      <td>1219017600</td>\n",
       "      <td>\"Delight\" says it all</td>\n",
       "      <td>This is a confection that has been around a fe...</td>\n",
       "    </tr>\n",
       "  </tbody>\n",
       "</table>\n",
       "</div>"
      ],
      "text/plain": [
       "   Id   ProductId          UserId                      ProfileName  \\\n",
       "0   1  B001E4KFG0  A3SGXH7AUHU8GW                       delmartian   \n",
       "1   2  B00813GRG4  A1D87F6ZCVE5NK                           dll pa   \n",
       "2   3  B000LQOCH0   ABXLMWJIXXAIN  Natalia Corres \"Natalia Corres\"   \n",
       "\n",
       "   HelpfulnessNumerator  HelpfulnessDenominator  Score        Time  \\\n",
       "0                     1                       1      1  1303862400   \n",
       "1                     0                       0      0  1346976000   \n",
       "2                     1                       1      1  1219017600   \n",
       "\n",
       "                 Summary                                               Text  \n",
       "0  Good Quality Dog Food  I have bought several of the Vitality canned d...  \n",
       "1      Not as Advertised  Product arrived labeled as Jumbo Salted Peanut...  \n",
       "2  \"Delight\" says it all  This is a confection that has been around a fe...  "
      ]
     },
     "execution_count": 2,
     "metadata": {},
     "output_type": "execute_result"
    }
   ],
   "source": [
    "# using SQLite Table to read data.\n",
    "con = sqlite3.connect(r'/home/pranay/ML datasource/amazon-fine-food-reviews/database.sqlite') \n",
    "\n",
    "# filtering only positive and negative reviews i.e. \n",
    "# not taking into consideration those reviews with Score=3\n",
    "# SELECT * FROM Reviews WHERE Score != 3 LIMIT 500000, will give top 500000 data points\n",
    "# you can change the number to any other number based on your computing power\n",
    "\n",
    "# filtered_data = pd.read_sql_query(\"\"\" SELECT * FROM Reviews WHERE Score != 3 LIMIT 500000\"\"\", con) \n",
    "# for tsne assignment you can take 5k data points\n",
    "\n",
    "filtered_data = pd.read_sql_query(\"\"\" SELECT * FROM Reviews WHERE Score != 3 LIMIT 100000\"\"\", con) \n",
    "\n",
    "# Give reviews with Score>3 a positive rating(1), and reviews with a score<3 a negative rating(0).\n",
    "def partition(x):\n",
    "    if x < 3:\n",
    "        return 0\n",
    "    return 1\n",
    "\n",
    "#changing reviews with score less than 3 to be positive and vice-versa\n",
    "actualScore = filtered_data['Score']\n",
    "positiveNegative = actualScore.map(partition) \n",
    "filtered_data['Score'] = positiveNegative\n",
    "print(\"Number of data points in our data\", filtered_data.shape)\n",
    "filtered_data.head(3)"
   ]
  },
  {
   "cell_type": "code",
   "execution_count": 3,
   "metadata": {},
   "outputs": [],
   "source": [
    "display = pd.read_sql_query(\"\"\"\n",
    "SELECT UserId, ProductId, ProfileName, Time, Score, Text, COUNT(*)\n",
    "FROM Reviews\n",
    "GROUP BY UserId\n",
    "HAVING COUNT(*)>1\n",
    "\"\"\", con)"
   ]
  },
  {
   "cell_type": "code",
   "execution_count": 4,
   "metadata": {
    "scrolled": true
   },
   "outputs": [
    {
     "name": "stdout",
     "output_type": "stream",
     "text": [
      "(80668, 7)\n"
     ]
    },
    {
     "data": {
      "text/html": [
       "<div>\n",
       "<style scoped>\n",
       "    .dataframe tbody tr th:only-of-type {\n",
       "        vertical-align: middle;\n",
       "    }\n",
       "\n",
       "    .dataframe tbody tr th {\n",
       "        vertical-align: top;\n",
       "    }\n",
       "\n",
       "    .dataframe thead th {\n",
       "        text-align: right;\n",
       "    }\n",
       "</style>\n",
       "<table border=\"1\" class=\"dataframe\">\n",
       "  <thead>\n",
       "    <tr style=\"text-align: right;\">\n",
       "      <th></th>\n",
       "      <th>UserId</th>\n",
       "      <th>ProductId</th>\n",
       "      <th>ProfileName</th>\n",
       "      <th>Time</th>\n",
       "      <th>Score</th>\n",
       "      <th>Text</th>\n",
       "      <th>COUNT(*)</th>\n",
       "    </tr>\n",
       "  </thead>\n",
       "  <tbody>\n",
       "    <tr>\n",
       "      <th>0</th>\n",
       "      <td>#oc-R115TNMSPFT9I7</td>\n",
       "      <td>B005ZBZLT4</td>\n",
       "      <td>Breyton</td>\n",
       "      <td>1331510400</td>\n",
       "      <td>2</td>\n",
       "      <td>Overall its just OK when considering the price...</td>\n",
       "      <td>2</td>\n",
       "    </tr>\n",
       "    <tr>\n",
       "      <th>1</th>\n",
       "      <td>#oc-R11D9D7SHXIJB9</td>\n",
       "      <td>B005HG9ESG</td>\n",
       "      <td>Louis E. Emory \"hoppy\"</td>\n",
       "      <td>1342396800</td>\n",
       "      <td>5</td>\n",
       "      <td>My wife has recurring extreme muscle spasms, u...</td>\n",
       "      <td>3</td>\n",
       "    </tr>\n",
       "    <tr>\n",
       "      <th>2</th>\n",
       "      <td>#oc-R11DNU2NBKQ23Z</td>\n",
       "      <td>B005ZBZLT4</td>\n",
       "      <td>Kim Cieszykowski</td>\n",
       "      <td>1348531200</td>\n",
       "      <td>1</td>\n",
       "      <td>This coffee is horrible and unfortunately not ...</td>\n",
       "      <td>2</td>\n",
       "    </tr>\n",
       "    <tr>\n",
       "      <th>3</th>\n",
       "      <td>#oc-R11O5J5ZVQE25C</td>\n",
       "      <td>B005HG9ESG</td>\n",
       "      <td>Penguin Chick</td>\n",
       "      <td>1346889600</td>\n",
       "      <td>5</td>\n",
       "      <td>This will be the bottle that you grab from the...</td>\n",
       "      <td>3</td>\n",
       "    </tr>\n",
       "    <tr>\n",
       "      <th>4</th>\n",
       "      <td>#oc-R12KPBODL2B5ZD</td>\n",
       "      <td>B007OSBEV0</td>\n",
       "      <td>Christopher P. Presta</td>\n",
       "      <td>1348617600</td>\n",
       "      <td>1</td>\n",
       "      <td>I didnt like this coffee. Instead of telling y...</td>\n",
       "      <td>2</td>\n",
       "    </tr>\n",
       "  </tbody>\n",
       "</table>\n",
       "</div>"
      ],
      "text/plain": [
       "               UserId   ProductId             ProfileName        Time  Score  \\\n",
       "0  #oc-R115TNMSPFT9I7  B005ZBZLT4                 Breyton  1331510400      2   \n",
       "1  #oc-R11D9D7SHXIJB9  B005HG9ESG  Louis E. Emory \"hoppy\"  1342396800      5   \n",
       "2  #oc-R11DNU2NBKQ23Z  B005ZBZLT4        Kim Cieszykowski  1348531200      1   \n",
       "3  #oc-R11O5J5ZVQE25C  B005HG9ESG           Penguin Chick  1346889600      5   \n",
       "4  #oc-R12KPBODL2B5ZD  B007OSBEV0   Christopher P. Presta  1348617600      1   \n",
       "\n",
       "                                                Text  COUNT(*)  \n",
       "0  Overall its just OK when considering the price...         2  \n",
       "1  My wife has recurring extreme muscle spasms, u...         3  \n",
       "2  This coffee is horrible and unfortunately not ...         2  \n",
       "3  This will be the bottle that you grab from the...         3  \n",
       "4  I didnt like this coffee. Instead of telling y...         2  "
      ]
     },
     "execution_count": 4,
     "metadata": {},
     "output_type": "execute_result"
    }
   ],
   "source": [
    "print(display.shape)\n",
    "display.head()"
   ]
  },
  {
   "cell_type": "code",
   "execution_count": 5,
   "metadata": {},
   "outputs": [
    {
     "data": {
      "text/html": [
       "<div>\n",
       "<style scoped>\n",
       "    .dataframe tbody tr th:only-of-type {\n",
       "        vertical-align: middle;\n",
       "    }\n",
       "\n",
       "    .dataframe tbody tr th {\n",
       "        vertical-align: top;\n",
       "    }\n",
       "\n",
       "    .dataframe thead th {\n",
       "        text-align: right;\n",
       "    }\n",
       "</style>\n",
       "<table border=\"1\" class=\"dataframe\">\n",
       "  <thead>\n",
       "    <tr style=\"text-align: right;\">\n",
       "      <th></th>\n",
       "      <th>UserId</th>\n",
       "      <th>ProductId</th>\n",
       "      <th>ProfileName</th>\n",
       "      <th>Time</th>\n",
       "      <th>Score</th>\n",
       "      <th>Text</th>\n",
       "      <th>COUNT(*)</th>\n",
       "    </tr>\n",
       "  </thead>\n",
       "  <tbody>\n",
       "    <tr>\n",
       "      <th>80638</th>\n",
       "      <td>AZY10LLTJ71NX</td>\n",
       "      <td>B001ATMQK2</td>\n",
       "      <td>undertheshrine \"undertheshrine\"</td>\n",
       "      <td>1296691200</td>\n",
       "      <td>5</td>\n",
       "      <td>I bought this 6 pack because for the price tha...</td>\n",
       "      <td>5</td>\n",
       "    </tr>\n",
       "  </tbody>\n",
       "</table>\n",
       "</div>"
      ],
      "text/plain": [
       "              UserId   ProductId                      ProfileName        Time  \\\n",
       "80638  AZY10LLTJ71NX  B001ATMQK2  undertheshrine \"undertheshrine\"  1296691200   \n",
       "\n",
       "       Score                                               Text  COUNT(*)  \n",
       "80638      5  I bought this 6 pack because for the price tha...         5  "
      ]
     },
     "execution_count": 5,
     "metadata": {},
     "output_type": "execute_result"
    }
   ],
   "source": [
    "display[display['UserId']=='AZY10LLTJ71NX']"
   ]
  },
  {
   "cell_type": "code",
   "execution_count": 6,
   "metadata": {},
   "outputs": [
    {
     "data": {
      "text/plain": [
       "393063"
      ]
     },
     "execution_count": 6,
     "metadata": {},
     "output_type": "execute_result"
    }
   ],
   "source": [
    "display['COUNT(*)'].sum()"
   ]
  },
  {
   "cell_type": "markdown",
   "metadata": {},
   "source": [
    "#  [2] Exploratory Data Analysis"
   ]
  },
  {
   "cell_type": "markdown",
   "metadata": {},
   "source": [
    "## [2.1] Data Cleaning: Deduplication\n",
    "\n",
    "It is observed (as shown in the table below) that the reviews data had many duplicate entries. Hence it was necessary to remove duplicates in order to get unbiased results for the analysis of the data.  Following is an example:"
   ]
  },
  {
   "cell_type": "code",
   "execution_count": 7,
   "metadata": {
    "scrolled": false
   },
   "outputs": [
    {
     "data": {
      "text/html": [
       "<div>\n",
       "<style scoped>\n",
       "    .dataframe tbody tr th:only-of-type {\n",
       "        vertical-align: middle;\n",
       "    }\n",
       "\n",
       "    .dataframe tbody tr th {\n",
       "        vertical-align: top;\n",
       "    }\n",
       "\n",
       "    .dataframe thead th {\n",
       "        text-align: right;\n",
       "    }\n",
       "</style>\n",
       "<table border=\"1\" class=\"dataframe\">\n",
       "  <thead>\n",
       "    <tr style=\"text-align: right;\">\n",
       "      <th></th>\n",
       "      <th>Id</th>\n",
       "      <th>ProductId</th>\n",
       "      <th>UserId</th>\n",
       "      <th>ProfileName</th>\n",
       "      <th>HelpfulnessNumerator</th>\n",
       "      <th>HelpfulnessDenominator</th>\n",
       "      <th>Score</th>\n",
       "      <th>Time</th>\n",
       "      <th>Summary</th>\n",
       "      <th>Text</th>\n",
       "    </tr>\n",
       "  </thead>\n",
       "  <tbody>\n",
       "    <tr>\n",
       "      <th>0</th>\n",
       "      <td>78445</td>\n",
       "      <td>B000HDL1RQ</td>\n",
       "      <td>AR5J8UI46CURR</td>\n",
       "      <td>Geetha Krishnan</td>\n",
       "      <td>2</td>\n",
       "      <td>2</td>\n",
       "      <td>5</td>\n",
       "      <td>1199577600</td>\n",
       "      <td>LOACKER QUADRATINI VANILLA WAFERS</td>\n",
       "      <td>DELICIOUS WAFERS. I FIND THAT EUROPEAN WAFERS ...</td>\n",
       "    </tr>\n",
       "    <tr>\n",
       "      <th>1</th>\n",
       "      <td>138317</td>\n",
       "      <td>B000HDOPYC</td>\n",
       "      <td>AR5J8UI46CURR</td>\n",
       "      <td>Geetha Krishnan</td>\n",
       "      <td>2</td>\n",
       "      <td>2</td>\n",
       "      <td>5</td>\n",
       "      <td>1199577600</td>\n",
       "      <td>LOACKER QUADRATINI VANILLA WAFERS</td>\n",
       "      <td>DELICIOUS WAFERS. I FIND THAT EUROPEAN WAFERS ...</td>\n",
       "    </tr>\n",
       "    <tr>\n",
       "      <th>2</th>\n",
       "      <td>138277</td>\n",
       "      <td>B000HDOPYM</td>\n",
       "      <td>AR5J8UI46CURR</td>\n",
       "      <td>Geetha Krishnan</td>\n",
       "      <td>2</td>\n",
       "      <td>2</td>\n",
       "      <td>5</td>\n",
       "      <td>1199577600</td>\n",
       "      <td>LOACKER QUADRATINI VANILLA WAFERS</td>\n",
       "      <td>DELICIOUS WAFERS. I FIND THAT EUROPEAN WAFERS ...</td>\n",
       "    </tr>\n",
       "    <tr>\n",
       "      <th>3</th>\n",
       "      <td>73791</td>\n",
       "      <td>B000HDOPZG</td>\n",
       "      <td>AR5J8UI46CURR</td>\n",
       "      <td>Geetha Krishnan</td>\n",
       "      <td>2</td>\n",
       "      <td>2</td>\n",
       "      <td>5</td>\n",
       "      <td>1199577600</td>\n",
       "      <td>LOACKER QUADRATINI VANILLA WAFERS</td>\n",
       "      <td>DELICIOUS WAFERS. I FIND THAT EUROPEAN WAFERS ...</td>\n",
       "    </tr>\n",
       "    <tr>\n",
       "      <th>4</th>\n",
       "      <td>155049</td>\n",
       "      <td>B000PAQ75C</td>\n",
       "      <td>AR5J8UI46CURR</td>\n",
       "      <td>Geetha Krishnan</td>\n",
       "      <td>2</td>\n",
       "      <td>2</td>\n",
       "      <td>5</td>\n",
       "      <td>1199577600</td>\n",
       "      <td>LOACKER QUADRATINI VANILLA WAFERS</td>\n",
       "      <td>DELICIOUS WAFERS. I FIND THAT EUROPEAN WAFERS ...</td>\n",
       "    </tr>\n",
       "  </tbody>\n",
       "</table>\n",
       "</div>"
      ],
      "text/plain": [
       "       Id   ProductId         UserId      ProfileName  HelpfulnessNumerator  \\\n",
       "0   78445  B000HDL1RQ  AR5J8UI46CURR  Geetha Krishnan                     2   \n",
       "1  138317  B000HDOPYC  AR5J8UI46CURR  Geetha Krishnan                     2   \n",
       "2  138277  B000HDOPYM  AR5J8UI46CURR  Geetha Krishnan                     2   \n",
       "3   73791  B000HDOPZG  AR5J8UI46CURR  Geetha Krishnan                     2   \n",
       "4  155049  B000PAQ75C  AR5J8UI46CURR  Geetha Krishnan                     2   \n",
       "\n",
       "   HelpfulnessDenominator  Score        Time  \\\n",
       "0                       2      5  1199577600   \n",
       "1                       2      5  1199577600   \n",
       "2                       2      5  1199577600   \n",
       "3                       2      5  1199577600   \n",
       "4                       2      5  1199577600   \n",
       "\n",
       "                             Summary  \\\n",
       "0  LOACKER QUADRATINI VANILLA WAFERS   \n",
       "1  LOACKER QUADRATINI VANILLA WAFERS   \n",
       "2  LOACKER QUADRATINI VANILLA WAFERS   \n",
       "3  LOACKER QUADRATINI VANILLA WAFERS   \n",
       "4  LOACKER QUADRATINI VANILLA WAFERS   \n",
       "\n",
       "                                                Text  \n",
       "0  DELICIOUS WAFERS. I FIND THAT EUROPEAN WAFERS ...  \n",
       "1  DELICIOUS WAFERS. I FIND THAT EUROPEAN WAFERS ...  \n",
       "2  DELICIOUS WAFERS. I FIND THAT EUROPEAN WAFERS ...  \n",
       "3  DELICIOUS WAFERS. I FIND THAT EUROPEAN WAFERS ...  \n",
       "4  DELICIOUS WAFERS. I FIND THAT EUROPEAN WAFERS ...  "
      ]
     },
     "execution_count": 7,
     "metadata": {},
     "output_type": "execute_result"
    }
   ],
   "source": [
    "display= pd.read_sql_query(\"\"\"\n",
    "SELECT *\n",
    "FROM Reviews\n",
    "WHERE Score != 3 AND UserId=\"AR5J8UI46CURR\"\n",
    "ORDER BY ProductID\n",
    "\"\"\", con)\n",
    "display.head()"
   ]
  },
  {
   "cell_type": "markdown",
   "metadata": {},
   "source": [
    "As it can be seen above that same user has multiple reviews with same values for HelpfulnessNumerator, HelpfulnessDenominator, Score, Time, Summary and Text and on doing analysis it was found that <br>\n",
    "<br> \n",
    "ProductId=B000HDOPZG was Loacker Quadratini Vanilla Wafer Cookies, 8.82-Ounce Packages (Pack of 8)<br>\n",
    "<br> \n",
    "ProductId=B000HDL1RQ was Loacker Quadratini Lemon Wafer Cookies, 8.82-Ounce Packages (Pack of 8) and so on<br>\n",
    "\n",
    "It was inferred after analysis that reviews with same parameters other than ProductId belonged to the same product just having different flavour or quantity. Hence in order to reduce redundancy it was decided to eliminate the rows having same parameters.<br>\n",
    "\n",
    "The method used for the same was that we first sort the data according to ProductId and then just keep the first similar product review and delelte the others. for eg. in the above just the review for ProductId=B000HDL1RQ remains. This method ensures that there is only one representative for each product and deduplication without sorting would lead to possibility of different representatives still existing for the same product."
   ]
  },
  {
   "cell_type": "code",
   "execution_count": 8,
   "metadata": {},
   "outputs": [],
   "source": [
    "#Sorting data according to ProductId in ascending order\n",
    "sorted_data=filtered_data.sort_values('ProductId', axis=0, ascending=True, inplace=False, kind='quicksort', na_position='last')"
   ]
  },
  {
   "cell_type": "code",
   "execution_count": 9,
   "metadata": {},
   "outputs": [
    {
     "data": {
      "text/plain": [
       "(87775, 10)"
      ]
     },
     "execution_count": 9,
     "metadata": {},
     "output_type": "execute_result"
    }
   ],
   "source": [
    "#Deduplication of entries\n",
    "final=sorted_data.drop_duplicates(subset={\"UserId\",\"ProfileName\",\"Time\",\"Text\"}, keep='first', inplace=False)\n",
    "final.shape"
   ]
  },
  {
   "cell_type": "code",
   "execution_count": 10,
   "metadata": {},
   "outputs": [
    {
     "data": {
      "text/plain": [
       "87.775"
      ]
     },
     "execution_count": 10,
     "metadata": {},
     "output_type": "execute_result"
    }
   ],
   "source": [
    "#Checking to see how much % of data still remains\n",
    "(final['Id'].size*1.0)/(filtered_data['Id'].size*1.0)*100"
   ]
  },
  {
   "cell_type": "markdown",
   "metadata": {},
   "source": [
    "<b>Observation:-</b> It was also seen that in two rows given below the value of HelpfulnessNumerator is greater than HelpfulnessDenominator which is not practically possible hence these two rows too are removed from calcualtions"
   ]
  },
  {
   "cell_type": "code",
   "execution_count": 11,
   "metadata": {},
   "outputs": [
    {
     "data": {
      "text/html": [
       "<div>\n",
       "<style scoped>\n",
       "    .dataframe tbody tr th:only-of-type {\n",
       "        vertical-align: middle;\n",
       "    }\n",
       "\n",
       "    .dataframe tbody tr th {\n",
       "        vertical-align: top;\n",
       "    }\n",
       "\n",
       "    .dataframe thead th {\n",
       "        text-align: right;\n",
       "    }\n",
       "</style>\n",
       "<table border=\"1\" class=\"dataframe\">\n",
       "  <thead>\n",
       "    <tr style=\"text-align: right;\">\n",
       "      <th></th>\n",
       "      <th>Id</th>\n",
       "      <th>ProductId</th>\n",
       "      <th>UserId</th>\n",
       "      <th>ProfileName</th>\n",
       "      <th>HelpfulnessNumerator</th>\n",
       "      <th>HelpfulnessDenominator</th>\n",
       "      <th>Score</th>\n",
       "      <th>Time</th>\n",
       "      <th>Summary</th>\n",
       "      <th>Text</th>\n",
       "    </tr>\n",
       "  </thead>\n",
       "  <tbody>\n",
       "    <tr>\n",
       "      <th>0</th>\n",
       "      <td>64422</td>\n",
       "      <td>B000MIDROQ</td>\n",
       "      <td>A161DK06JJMCYF</td>\n",
       "      <td>J. E. Stephens \"Jeanne\"</td>\n",
       "      <td>3</td>\n",
       "      <td>1</td>\n",
       "      <td>5</td>\n",
       "      <td>1224892800</td>\n",
       "      <td>Bought This for My Son at College</td>\n",
       "      <td>My son loves spaghetti so I didn't hesitate or...</td>\n",
       "    </tr>\n",
       "    <tr>\n",
       "      <th>1</th>\n",
       "      <td>44737</td>\n",
       "      <td>B001EQ55RW</td>\n",
       "      <td>A2V0I904FH7ABY</td>\n",
       "      <td>Ram</td>\n",
       "      <td>3</td>\n",
       "      <td>2</td>\n",
       "      <td>4</td>\n",
       "      <td>1212883200</td>\n",
       "      <td>Pure cocoa taste with crunchy almonds inside</td>\n",
       "      <td>It was almost a 'love at first bite' - the per...</td>\n",
       "    </tr>\n",
       "  </tbody>\n",
       "</table>\n",
       "</div>"
      ],
      "text/plain": [
       "      Id   ProductId          UserId              ProfileName  \\\n",
       "0  64422  B000MIDROQ  A161DK06JJMCYF  J. E. Stephens \"Jeanne\"   \n",
       "1  44737  B001EQ55RW  A2V0I904FH7ABY                      Ram   \n",
       "\n",
       "   HelpfulnessNumerator  HelpfulnessDenominator  Score        Time  \\\n",
       "0                     3                       1      5  1224892800   \n",
       "1                     3                       2      4  1212883200   \n",
       "\n",
       "                                        Summary  \\\n",
       "0             Bought This for My Son at College   \n",
       "1  Pure cocoa taste with crunchy almonds inside   \n",
       "\n",
       "                                                Text  \n",
       "0  My son loves spaghetti so I didn't hesitate or...  \n",
       "1  It was almost a 'love at first bite' - the per...  "
      ]
     },
     "execution_count": 11,
     "metadata": {},
     "output_type": "execute_result"
    }
   ],
   "source": [
    "display= pd.read_sql_query(\"\"\"\n",
    "SELECT *\n",
    "FROM Reviews\n",
    "WHERE Score != 3 AND Id=44737 OR Id=64422\n",
    "ORDER BY ProductID\n",
    "\"\"\", con)\n",
    "\n",
    "display.head()"
   ]
  },
  {
   "cell_type": "code",
   "execution_count": 12,
   "metadata": {},
   "outputs": [],
   "source": [
    "final=final[final.HelpfulnessNumerator<=final.HelpfulnessDenominator]"
   ]
  },
  {
   "cell_type": "code",
   "execution_count": 13,
   "metadata": {},
   "outputs": [
    {
     "name": "stdout",
     "output_type": "stream",
     "text": [
      "(87773, 10)\n"
     ]
    },
    {
     "data": {
      "text/plain": [
       "1    73592\n",
       "0    14181\n",
       "Name: Score, dtype: int64"
      ]
     },
     "execution_count": 13,
     "metadata": {},
     "output_type": "execute_result"
    }
   ],
   "source": [
    "#Before starting the next phase of preprocessing lets see the number of entries left\n",
    "print(final.shape)\n",
    "\n",
    "#How many positive and negative reviews are present in our dataset?\n",
    "final['Score'].value_counts()"
   ]
  },
  {
   "cell_type": "markdown",
   "metadata": {},
   "source": [
    "#  [3] Preprocessing"
   ]
  },
  {
   "cell_type": "markdown",
   "metadata": {},
   "source": [
    "## [3.1].  Preprocessing Review Text\n",
    "\n",
    "Now that we have finished deduplication our data requires some preprocessing before we go on further with analysis and making the prediction model.\n",
    "\n",
    "Hence in the Preprocessing phase we do the following in the order below:-\n",
    "\n",
    "1. Begin by removing the html tags\n",
    "2. Remove any punctuations or limited set of special characters like , or . or # etc.\n",
    "3. Check if the word is made up of english letters and is not alpha-numeric\n",
    "4. Check to see if the length of the word is greater than 2 (as it was researched that there is no adjective in 2-letters)\n",
    "5. Convert the word to lowercase\n",
    "6. Remove Stopwords\n",
    "7. Finally Snowball Stemming the word (it was obsereved to be better than Porter Stemming)<br>\n",
    "\n",
    "After which we collect the words used to describe positive and negative reviews"
   ]
  },
  {
   "cell_type": "code",
   "execution_count": 14,
   "metadata": {},
   "outputs": [
    {
     "name": "stdout",
     "output_type": "stream",
     "text": [
      "My dogs loves this chicken but its a product from China, so we wont be buying it anymore.  Its very hard to find any chicken products made in the USA but they are out there, but this one isnt.  Its too bad too because its a good product but I wont take any chances till they know what is going on with the china imports.\n",
      "==================================================\n",
      "The Candy Blocks were a nice visual for the Lego Birthday party but the candy has little taste to it.  Very little of the 2 lbs that I bought were eaten and I threw the rest away.  I would not buy the candy again.\n",
      "==================================================\n",
      "was way to hot for my blood, took a bite and did a jig  lol\n",
      "==================================================\n",
      "My dog LOVES these treats. They tend to have a very strong fish oil smell. So if you are afraid of the fishy smell, don't get it. But I think my dog likes it because of the smell. These treats are really small in size. They are great for training. You can give your dog several of these without worrying about him over eating. Amazon's price was much more reasonable than any other retailer. You can buy a 1 pound bag on Amazon for almost the same price as a 6 ounce bag at other retailers. It's definitely worth it to buy a big bag if your dog eats them a lot.\n",
      "==================================================\n"
     ]
    }
   ],
   "source": [
    "# printing some random reviews\n",
    "sent_0 = final['Text'].values[0]\n",
    "print(sent_0)\n",
    "print(\"=\"*50)\n",
    "\n",
    "sent_1000 = final['Text'].values[1000]\n",
    "print(sent_1000)\n",
    "print(\"=\"*50)\n",
    "\n",
    "sent_1500 = final['Text'].values[1500]\n",
    "print(sent_1500)\n",
    "print(\"=\"*50)\n",
    "\n",
    "sent_4900 = final['Text'].values[4900]\n",
    "print(sent_4900)\n",
    "print(\"=\"*50)"
   ]
  },
  {
   "cell_type": "code",
   "execution_count": 15,
   "metadata": {},
   "outputs": [
    {
     "name": "stdout",
     "output_type": "stream",
     "text": [
      "My dogs loves this chicken but its a product from China, so we wont be buying it anymore.  Its very hard to find any chicken products made in the USA but they are out there, but this one isnt.  Its too bad too because its a good product but I wont take any chances till they know what is going on with the china imports.\n"
     ]
    }
   ],
   "source": [
    "# remove urls from text python: https://stackoverflow.com/a/40823105/4084039\n",
    "sent_0 = re.sub(r\"http\\S+\", \"\", sent_0)\n",
    "sent_1000 = re.sub(r\"http\\S+\", \"\", sent_1000)\n",
    "sent_150 = re.sub(r\"http\\S+\", \"\", sent_1500)\n",
    "sent_4900 = re.sub(r\"http\\S+\", \"\", sent_4900)\n",
    "\n",
    "print(sent_0)"
   ]
  },
  {
   "cell_type": "code",
   "execution_count": 16,
   "metadata": {},
   "outputs": [
    {
     "name": "stdout",
     "output_type": "stream",
     "text": [
      "My dogs loves this chicken but its a product from China, so we wont be buying it anymore.  Its very hard to find any chicken products made in the USA but they are out there, but this one isnt.  Its too bad too because its a good product but I wont take any chances till they know what is going on with the china imports.\n",
      "==================================================\n",
      "The Candy Blocks were a nice visual for the Lego Birthday party but the candy has little taste to it.  Very little of the 2 lbs that I bought were eaten and I threw the rest away.  I would not buy the candy again.\n",
      "==================================================\n",
      "was way to hot for my blood, took a bite and did a jig  lol\n",
      "==================================================\n",
      "My dog LOVES these treats. They tend to have a very strong fish oil smell. So if you are afraid of the fishy smell, don't get it. But I think my dog likes it because of the smell. These treats are really small in size. They are great for training. You can give your dog several of these without worrying about him over eating. Amazon's price was much more reasonable than any other retailer. You can buy a 1 pound bag on Amazon for almost the same price as a 6 ounce bag at other retailers. It's definitely worth it to buy a big bag if your dog eats them a lot.\n"
     ]
    }
   ],
   "source": [
    "# https://stackoverflow.com/questions/16206380/python-beautifulsoup-how-to-remove-all-tags-from-an-element\n",
    "from bs4 import BeautifulSoup\n",
    "\n",
    "soup = BeautifulSoup(sent_0, 'lxml')\n",
    "text = soup.get_text()\n",
    "print(text)\n",
    "print(\"=\"*50)\n",
    "\n",
    "soup = BeautifulSoup(sent_1000, 'lxml')\n",
    "text = soup.get_text()\n",
    "print(text)\n",
    "print(\"=\"*50)\n",
    "\n",
    "soup = BeautifulSoup(sent_1500, 'lxml')\n",
    "text = soup.get_text()\n",
    "print(text)\n",
    "print(\"=\"*50)\n",
    "\n",
    "soup = BeautifulSoup(sent_4900, 'lxml')\n",
    "text = soup.get_text()\n",
    "print(text)"
   ]
  },
  {
   "cell_type": "code",
   "execution_count": 17,
   "metadata": {},
   "outputs": [],
   "source": [
    "# https://stackoverflow.com/a/47091490/4084039\n",
    "import re\n",
    "\n",
    "def decontracted(phrase):\n",
    "    # specific\n",
    "    phrase = re.sub(r\"won't\", \"will not\", phrase)\n",
    "    phrase = re.sub(r\"can\\'t\", \"can not\", phrase)\n",
    "\n",
    "    # general\n",
    "    phrase = re.sub(r\"n\\'t\", \" not\", phrase)\n",
    "    phrase = re.sub(r\"\\'re\", \" are\", phrase)\n",
    "    phrase = re.sub(r\"\\'s\", \" is\", phrase)\n",
    "    phrase = re.sub(r\"\\'d\", \" would\", phrase)\n",
    "    phrase = re.sub(r\"\\'ll\", \" will\", phrase)\n",
    "    phrase = re.sub(r\"\\'t\", \" not\", phrase)\n",
    "    phrase = re.sub(r\"\\'ve\", \" have\", phrase)\n",
    "    phrase = re.sub(r\"\\'m\", \" am\", phrase)\n",
    "    return phrase"
   ]
  },
  {
   "cell_type": "code",
   "execution_count": 18,
   "metadata": {},
   "outputs": [
    {
     "name": "stdout",
     "output_type": "stream",
     "text": [
      "was way to hot for my blood, took a bite and did a jig  lol\n",
      "==================================================\n"
     ]
    }
   ],
   "source": [
    "sent_1500 = decontracted(sent_1500)\n",
    "print(sent_1500)\n",
    "print(\"=\"*50)"
   ]
  },
  {
   "cell_type": "code",
   "execution_count": 19,
   "metadata": {},
   "outputs": [
    {
     "name": "stdout",
     "output_type": "stream",
     "text": [
      "My dogs loves this chicken but its a product from China, so we wont be buying it anymore.  Its very hard to find any chicken products made in the USA but they are out there, but this one isnt.  Its too bad too because its a good product but I wont take any chances till they know what is going on with the china imports.\n"
     ]
    }
   ],
   "source": [
    "#remove words with numbers python: https://stackoverflow.com/a/18082370/4084039\n",
    "sent_0 = re.sub(\"\\S*\\d\\S*\", \"\", sent_0).strip()\n",
    "print(sent_0)"
   ]
  },
  {
   "cell_type": "code",
   "execution_count": 20,
   "metadata": {},
   "outputs": [
    {
     "name": "stdout",
     "output_type": "stream",
     "text": [
      "was way to hot for my blood took a bite and did a jig lol\n"
     ]
    }
   ],
   "source": [
    "#remove spacial character: https://stackoverflow.com/a/5843547/4084039\n",
    "sent_1500 = re.sub('[^A-Za-z0-9]+', ' ', sent_1500)\n",
    "print(sent_1500)"
   ]
  },
  {
   "cell_type": "code",
   "execution_count": 21,
   "metadata": {},
   "outputs": [],
   "source": [
    "# https://gist.github.com/sebleier/554280\n",
    "# we are removing the words from the stop words list: 'no', 'nor', 'not'\n",
    "# <br /><br /> ==> after the above steps, we are getting \"br br\"\n",
    "# we are including them into stop words list\n",
    "# instead of <br /> if we have <br/> these tags would have revmoved in the 1st step\n",
    "\n",
    "stopwords= set(['br', 'the', 'i', 'me', 'my', 'myself', 'we', 'our', 'ours', 'ourselves', 'you', \"you're\", \"you've\",\\\n",
    "            \"you'll\", \"you'd\", 'your', 'yours', 'yourself', 'yourselves', 'he', 'him', 'his', 'himself', \\\n",
    "            'she', \"she's\", 'her', 'hers', 'herself', 'it', \"it's\", 'its', 'itself', 'they', 'them', 'their',\\\n",
    "            'theirs', 'themselves', 'what', 'which', 'who', 'whom', 'this', 'that', \"that'll\", 'these', 'those', \\\n",
    "            'am', 'is', 'are', 'was', 'were', 'be', 'been', 'being', 'have', 'has', 'had', 'having', 'do', 'does', \\\n",
    "            'did', 'doing', 'a', 'an', 'the', 'and', 'but', 'if', 'or', 'because', 'as', 'until', 'while', 'of', \\\n",
    "            'at', 'by', 'for', 'with', 'about', 'against', 'between', 'into', 'through', 'during', 'before', 'after',\\\n",
    "            'above', 'below', 'to', 'from', 'up', 'down', 'in', 'out', 'on', 'off', 'over', 'under', 'again', 'further',\\\n",
    "            'then', 'once', 'here', 'there', 'when', 'where', 'why', 'how', 'all', 'any', 'both', 'each', 'few', 'more',\\\n",
    "            'most', 'other', 'some', 'such', 'only', 'own', 'same', 'so', 'than', 'too', 'very', \\\n",
    "            's', 't', 'can', 'will', 'just', 'don', \"don't\", 'should', \"should've\", 'now', 'd', 'll', 'm', 'o', 're', \\\n",
    "            've', 'y', 'ain', 'aren', \"aren't\", 'couldn', \"couldn't\", 'didn', \"didn't\", 'doesn', \"doesn't\", 'hadn',\\\n",
    "            \"hadn't\", 'hasn', \"hasn't\", 'haven', \"haven't\", 'isn', \"isn't\", 'ma', 'mightn', \"mightn't\", 'mustn',\\\n",
    "            \"mustn't\", 'needn', \"needn't\", 'shan', \"shan't\", 'shouldn', \"shouldn't\", 'wasn', \"wasn't\", 'weren', \"weren't\", \\\n",
    "            'won', \"won't\", 'wouldn', \"wouldn't\"])"
   ]
  },
  {
   "cell_type": "code",
   "execution_count": 22,
   "metadata": {},
   "outputs": [],
   "source": [
    "#filtered out whole reviews\n",
    "\n",
    "from bs4 import BeautifulSoup\n",
    "# Combining all the above stundents \n",
    "from tqdm import tqdm\n",
    "# tqdm is for printing the status bar\n",
    "word_counter = []\n",
    "def filterised_text(text):\n",
    "    preprocessed_text = []\n",
    "    for sentance in tqdm(text):\n",
    "        sentance = re.sub(r\"http\\S+\", \"\", sentance)\n",
    "        sentance = BeautifulSoup(sentance, 'lxml').get_text()\n",
    "        sentance = decontracted(sentance)\n",
    "        sentance = re.sub(\"\\S*\\d\\S*\", \"\", sentance).strip()\n",
    "        sentance = re.sub('[^A-Za-z]+', ' ', sentance)\n",
    "        # https://gist.github.com/sebleier/554280\n",
    "        sentance = ' '.join(e.lower() for e in sentance.split() if e.lower() not in stopwords)\n",
    "        count = len(sentance.split())\n",
    "        word_counter.append(count)\n",
    "        preprocessed_text.append(sentance.strip())\n",
    "    return preprocessed_text"
   ]
  },
  {
   "cell_type": "code",
   "execution_count": 23,
   "metadata": {},
   "outputs": [
    {
     "name": "stderr",
     "output_type": "stream",
     "text": [
      "100%|██████████| 87773/87773 [00:27<00:00, 3176.08it/s]\n"
     ]
    },
    {
     "data": {
      "text/plain": [
       "'taste great using air popper not great little seeds fall popping'"
      ]
     },
     "execution_count": 23,
     "metadata": {},
     "output_type": "execute_result"
    }
   ],
   "source": [
    "preprocessed_reviews = filterised_text(final['Text'].values)\n",
    "final['preprocessed_reviews']  = preprocessed_reviews\n",
    "preprocessed_reviews[1822]"
   ]
  },
  {
   "cell_type": "code",
   "execution_count": 24,
   "metadata": {},
   "outputs": [
    {
     "data": {
      "text/plain": [
       "11"
      ]
     },
     "execution_count": 24,
     "metadata": {},
     "output_type": "execute_result"
    }
   ],
   "source": [
    "final['numbers_of_words']  = word_counter\n",
    "word_counter[1822]"
   ]
  },
  {
   "cell_type": "markdown",
   "metadata": {},
   "source": [
    "### [3.2] Preprocessing Review Summary"
   ]
  },
  {
   "cell_type": "code",
   "execution_count": 25,
   "metadata": {},
   "outputs": [
    {
     "name": "stderr",
     "output_type": "stream",
     "text": [
      "100%|██████████| 87773/87773 [00:17<00:00, 5126.58it/s]\n"
     ]
    },
    {
     "data": {
      "text/plain": [
       "'pop corn'"
      ]
     },
     "execution_count": 25,
     "metadata": {},
     "output_type": "execute_result"
    }
   ],
   "source": [
    "preprocessed_summary = filterised_text(final['Summary'].values)\n",
    "final['preprocessed_summary']  = preprocessed_summary\n",
    "preprocessed_summary[1822]"
   ]
  },
  {
   "cell_type": "code",
   "execution_count": 26,
   "metadata": {},
   "outputs": [],
   "source": [
    "avg_w2v_trained_model_100000 = '/home/pranay/ML trained models/W2V/avg_w2v_trained_model_100000'\n",
    "avg_w2v_test_model_100000 = '/home/pranay/ML trained models/W2V/avg_w2v_test_model_100000'\n",
    "\n",
    "w2v_tf_idf_trained_model_100000 = '/home/pranay/ML trained models/W2V_TFIDF/w2v_tf_idf_trained_model_100000'\n",
    "w2v_tf_idf_test_model_100000 = '/home/pranay/ML trained models/W2V_TFIDF/w2v_tf_idf_test_model_100000'"
   ]
  },
  {
   "cell_type": "code",
   "execution_count": 27,
   "metadata": {},
   "outputs": [],
   "source": [
    "# Common Methods\n",
    "\n",
    "alpha_values = (1e-4, 1e-3,1e-2,0.05,1e-1,0.2,0.3,0.4,0.5,0.6,0.7,0.8,0.9, 1e0,3,5,7,9,1e1,1e2,1e3)\n",
    "gamma_values = [0.0001, 0.001, 0.01, 0.1, 0.5, 1]\n",
    "\n",
    "def finding_best_alpha(X_tr,y_tr,which_method,whichAlgo, penalty):\n",
    "\n",
    "    if whichAlgo == 'SGDClassifier' :\n",
    "        # instantiate a SGDClassifier\n",
    "        if penalty == 'l1':\n",
    "            clf = SGDClassifier(loss='hinge', class_weight='balanced',n_jobs=-1, penalty='l1', random_state=1)\n",
    "        else:\n",
    "            clf = SGDClassifier(loss='hinge', class_weight='balanced',n_jobs=-1, penalty='l2', random_state=1)\n",
    "        param_grid=dict(alpha=alpha_values)\n",
    "    else:\n",
    "        # instantiate a SVC\n",
    "        clf = SVC(kernel='rbf', class_weight='balanced')\n",
    "        param_grid=dict(gamma=gamma_values, C=gamma_values)\n",
    "        \n",
    "    #For time based splitting\n",
    "    tscv = TimeSeriesSplit(n_splits=10)\n",
    "    \n",
    "    if which_method == 'gridsearch':\n",
    "    \n",
    "        # instantiate the grid for training data\n",
    "        trained = GridSearchCV(clf, param_grid, cv=tscv, scoring='roc_auc',n_jobs =-1,verbose=10 )\n",
    "    else:\n",
    "        # instantiate the grid for training data\n",
    "        trained = RandomizedSearchCV(clf, param_grid, cv=tscv, scoring='roc_auc',n_jobs =-1,verbose=10, n_iter = 15)\n",
    "        \n",
    "    # fit with traing data\n",
    "    trained.fit(X_tr, y_tr)\n",
    "    \n",
    "    return trained\n",
    "\n",
    "\n",
    "# plot a graph which show difference between validation error and training error\n",
    "def plotAccuracyGraph(training_grid):\n",
    "    alpha_range = [i for i in alpha_values]\n",
    "    accuracy = [i for i in training_grid.cv_results_['mean_train_score']]\n",
    "    accuracy_test = [i for i in training_grid.cv_results_['mean_test_score']]\n",
    "    plt.semilogx(alpha_range, accuracy,'r',label='train_accuracy')\n",
    "    plt.semilogx(alpha_range, accuracy_test,'b',label='validation_accuracy')\n",
    "    plt.title('Accuracy plot')\n",
    "    plt.xlabel('Alpha') \n",
    "    plt.ylabel('Accuracy')\n",
    "    plt.grid('on')\n",
    "    plt.legend()\n",
    "    plt.show()\n",
    "\n",
    "# https://www.geeksforgeeks.org/confusion-matrix-machine-learning/    \n",
    "def plotConfusionMatrix(y_test,pred):\n",
    "    # calculate confusion matrix\n",
    "    cm =  confusion_matrix(y_test,pred)\n",
    "    class_label = ['negative', 'positive']\n",
    "    df_conf_matrix = pd.DataFrame(cm, index=class_label, columns=class_label)\n",
    "    # heatmap --> Plot rectangular data as a color-encoded matrix. \n",
    "    sns.heatmap(df_conf_matrix, annot=True, fmt='d')\n",
    "    # give title to graph\n",
    "    plt.title(\"Confusion Matrix\")\n",
    "    # mention axis label\n",
    "    plt.xlabel(\"Predicted\")\n",
    "    plt.ylabel(\"Actual\")\n",
    "    # show the plot\n",
    "    plt.show()\n",
    "    \n",
    "\n",
    "# https://machinelearningmastery.com/roc-curves-and-precision-recall-curves-for-classification-in-python/\n",
    "# plot AUC curve\n",
    "def plotAUC_ROC(nb_optimal,X_train, y_train, X_test, y_test):\n",
    "    # predict probabilities\n",
    "    test_probs = nb_optimal.predict_proba(X_test)\n",
    "    train_probs = nb_optimal.predict_proba(X_train)\n",
    "    \n",
    "    # keep probabilities for the positive outcome only\n",
    "    test_probs = test_probs[:, 1]\n",
    "    train_probs = train_probs[:, 1]\n",
    "    \n",
    "    # calculate AUC\n",
    "    test_auc = roc_auc_score(y_test, test_probs)\n",
    "    train_auc = roc_auc_score(y_train, train_probs)\n",
    "    \n",
    "    # calculate roc curve\n",
    "    train_fpr, train_tpr, thresholds = roc_curve(y_train, train_probs)\n",
    "    test_fpr, test_tpr, thresholds2 = roc_curve(y_test, test_probs)\n",
    "    \n",
    "    # plot no skill\n",
    "    pyplot.plot([0, 1], [0, 1], linestyle='--')\n",
    "    \n",
    "    # plot the roc curve for the model\n",
    "    pyplot.plot(train_fpr, train_tpr, 'r',marker='.', label=\"train AUC =\"+str(train_auc))\n",
    "    pyplot.plot(test_fpr, test_tpr, 'b',marker='.',label=\"test AUC =\"+str(test_auc))\n",
    "    \n",
    "    pyplot.legend()\n",
    "    pyplot.xlabel(\"K: hyperparameter\")\n",
    "    pyplot.ylabel(\"AUC\")\n",
    "    pyplot.title(\"ERROR PLOTS\")\n",
    "    # show the plot\n",
    "    pyplot.show()\n",
    "    \n",
    "    return train_auc, test_auc\n",
    "\n",
    "class color:\n",
    "   PURPLE = '\\033[95m'\n",
    "   CYAN = '\\033[96m'\n",
    "   DARKCYAN = '\\033[36m'\n",
    "   BLUE = '\\033[94m'\n",
    "   GREEN = '\\033[92m'\n",
    "   YELLOW = '\\033[93m'\n",
    "   RED = '\\033[91m'\n",
    "   BOLD = '\\033[1m'\n",
    "   UNDERLINE = '\\033[4m'\n",
    "   END = '\\033[0m'\n",
    "    \n",
    "# https://stackoverflow.com/questions/11116697/how-to-get-most-informative-features-for-scikit-learn-classifiers\n",
    "\n",
    "def show_most_informative_features(feature_names, clf, n=10):\n",
    "    coefs_with_fns = sorted(zip(clf.coef_[0], feature_names))\n",
    "    top_1 = coefs_with_fns[:n]\n",
    "    top_2 = coefs_with_fns[:-(n + 1):-1]\n",
    "    print(color.BOLD+\"Important words in negative reviews\\n\"+color.END)\n",
    "    for coeffs,features in top_1:\n",
    "        print(coeffs,features)\n",
    "    print(\"-----------------------------------------\\n\")\n",
    "    print(color.BOLD+\"Important words in positive reviews\\n\"+color.END)\n",
    "\n",
    "    for coeffs,features in top_2:\n",
    "        print(coeffs,features)\n",
    "        "
   ]
  },
  {
   "cell_type": "markdown",
   "metadata": {},
   "source": [
    "### Splitting data\n",
    "\n",
    "__We have considered 100 k points__"
   ]
  },
  {
   "cell_type": "code",
   "execution_count": 28,
   "metadata": {},
   "outputs": [
    {
     "name": "stdout",
     "output_type": "stream",
     "text": [
      "(61441,) (26332,) (61441,) (26332,)\n"
     ]
    }
   ],
   "source": [
    "X = final['preprocessed_reviews']\n",
    "y = final['Score']\n",
    "\n",
    "# split the data set into train and test\n",
    "X_train, x_test, y_train, y_test = model_selection.train_test_split(X, y, test_size=0.3,random_state=0)\n",
    "\n",
    "print(X_train.shape, x_test.shape, y_train.shape, y_test.shape)"
   ]
  },
  {
   "cell_type": "markdown",
   "metadata": {},
   "source": [
    "# [4] Featurization"
   ]
  },
  {
   "cell_type": "markdown",
   "metadata": {},
   "source": [
    "## [4.1] BAG OF WORDS"
   ]
  },
  {
   "cell_type": "code",
   "execution_count": 29,
   "metadata": {},
   "outputs": [
    {
     "name": "stdout",
     "output_type": "stream",
     "text": [
      "X_train_bow (61441, 36487)\n",
      "==============================\n",
      "x_test_bow (26332, 36487)\n"
     ]
    }
   ],
   "source": [
    "##BoW\n",
    "\n",
    "count_vect = CountVectorizer(ngram_range=(1,2), min_df=10) #in scikit-learn\n",
    "\n",
    "# train data\n",
    "X_train_bow = count_vect.fit_transform(X_train)\n",
    "\n",
    "# test data\n",
    "x_test_bow = count_vect.transform(x_test)\n",
    "\n",
    "\n",
    "print('X_train_bow',X_train_bow.shape)\n",
    "print('==='*10)\n",
    "print('x_test_bow',x_test_bow.shape)"
   ]
  },
  {
   "cell_type": "markdown",
   "metadata": {},
   "source": [
    "### Hyper parameter tunig using GridSearch"
   ]
  },
  {
   "cell_type": "code",
   "execution_count": 30,
   "metadata": {},
   "outputs": [
    {
     "name": "stdout",
     "output_type": "stream",
     "text": [
      "Fitting 10 folds for each of 21 candidates, totalling 210 fits\n"
     ]
    },
    {
     "name": "stderr",
     "output_type": "stream",
     "text": [
      "[Parallel(n_jobs=-1)]: Using backend LokyBackend with 4 concurrent workers.\n",
      "[Parallel(n_jobs=-1)]: Done   5 tasks      | elapsed:    1.6s\n",
      "[Parallel(n_jobs=-1)]: Done  10 tasks      | elapsed:    1.9s\n",
      "[Parallel(n_jobs=-1)]: Done  17 tasks      | elapsed:    2.3s\n",
      "[Parallel(n_jobs=-1)]: Done  24 tasks      | elapsed:    2.7s\n",
      "[Parallel(n_jobs=-1)]: Done  33 tasks      | elapsed:    3.3s\n",
      "[Parallel(n_jobs=-1)]: Done  42 tasks      | elapsed:    3.7s\n",
      "[Parallel(n_jobs=-1)]: Done  53 tasks      | elapsed:    4.4s\n",
      "[Parallel(n_jobs=-1)]: Done  64 tasks      | elapsed:    5.0s\n",
      "[Parallel(n_jobs=-1)]: Done  77 tasks      | elapsed:    5.8s\n",
      "[Parallel(n_jobs=-1)]: Done  90 tasks      | elapsed:    6.6s\n",
      "[Parallel(n_jobs=-1)]: Done 105 tasks      | elapsed:    7.4s\n",
      "[Parallel(n_jobs=-1)]: Done 120 tasks      | elapsed:    8.4s\n",
      "[Parallel(n_jobs=-1)]: Done 137 tasks      | elapsed:    9.3s\n",
      "[Parallel(n_jobs=-1)]: Done 154 tasks      | elapsed:   10.2s\n",
      "[Parallel(n_jobs=-1)]: Done 173 tasks      | elapsed:   11.3s\n",
      "[Parallel(n_jobs=-1)]: Done 192 tasks      | elapsed:   12.4s\n",
      "[Parallel(n_jobs=-1)]: Done 210 out of 210 | elapsed:   13.5s finished\n"
     ]
    },
    {
     "name": "stdout",
     "output_type": "stream",
     "text": [
      "=======Training========\n",
      "0.9369642557075345\n",
      "{'alpha': 0.001}\n",
      "SGDClassifier(alpha=0.001, average=False, class_weight='balanced',\n",
      "       early_stopping=False, epsilon=0.1, eta0=0.0, fit_intercept=True,\n",
      "       l1_ratio=0.15, learning_rate='optimal', loss='hinge', max_iter=None,\n",
      "       n_iter=None, n_iter_no_change=5, n_jobs=-1, penalty='l2',\n",
      "       power_t=0.5, random_state=1, shuffle=True, tol=None,\n",
      "       validation_fraction=0.1, verbose=0, warm_start=False)\n"
     ]
    },
    {
     "name": "stderr",
     "output_type": "stream",
     "text": [
      "/home/pranay/anaconda3/lib/python3.7/site-packages/matplotlib/cbook/__init__.py:424: MatplotlibDeprecationWarning: \n",
      "Passing one of 'on', 'true', 'off', 'false' as a boolean is deprecated; use an actual boolean (True/False) instead.\n",
      "  warn_deprecated(\"2.2\", \"Passing one of 'on', 'true', 'off', 'false' as a \"\n"
     ]
    },
    {
     "data": {
      "image/png": "[encoded data removed]",
      "text/plain": [
       "<Figure size 432x288 with 1 Axes>"
      ]
     },
     "metadata": {
      "needs_background": "light"
     },
     "output_type": "display_data"
    }
   ],
   "source": [
    "bow_train =finding_best_alpha (X_train_bow,y_train, 'gridsearch','SGDClassifier','l2')\n",
    "\n",
    "# view the complete results (list of named tuples)\n",
    "print(\"=======Training========\")\n",
    "print (bow_train.best_score_)\n",
    "print (bow_train.best_params_)\n",
    "print (bow_train.best_estimator_)\n",
    "\n",
    "plotAccuracyGraph(bow_train)"
   ]
  },
  {
   "cell_type": "markdown",
   "metadata": {},
   "source": [
    "## Linear SVM     L1 Regularization "
   ]
  },
  {
   "cell_type": "code",
   "execution_count": 31,
   "metadata": {},
   "outputs": [
    {
     "name": "stdout",
     "output_type": "stream",
     "text": [
      "\n",
      "\u001b[91mOptimal best alpha is : \u001b[0m\u001b[1m0.001\u001b[0m\n",
      "\n",
      "\u001b[1mConfusion Matrix for Train data\u001b[0m\n"
     ]
    },
    {
     "data": {
      "image/png": "[encoded data removed]",
      "text/plain": [
       "<Figure size 432x288 with 2 Axes>"
      ]
     },
     "metadata": {
      "needs_background": "light"
     },
     "output_type": "display_data"
    },
    {
     "name": "stdout",
     "output_type": "stream",
     "text": [
      "\n",
      "\u001b[1mConfusion Matrix for Test data\u001b[0m\n"
     ]
    },
    {
     "data": {
      "image/png": "[encoded data removed]",
      "text/plain": [
       "<Figure size 432x288 with 2 Axes>"
      ]
     },
     "metadata": {
      "needs_background": "light"
     },
     "output_type": "display_data"
    },
    {
     "data": {
      "image/png": "[encoded data removed]",
      "text/plain": [
       "<Figure size 432x288 with 1 Axes>"
      ]
     },
     "metadata": {
      "needs_background": "light"
     },
     "output_type": "display_data"
    },
    {
     "name": "stdout",
     "output_type": "stream",
     "text": [
      "\n",
      "\u001b[91mAUC (Train): \u001b[0m\u001b[1m0.9304855002320727\u001b[0m\n",
      "\n",
      "\u001b[91mAUC (Test): \u001b[0m\u001b[1m0.9205625441064534\u001b[0m\n",
      "\n",
      "\u001b[91mF1 SCORE (Train) : \u001b[0m\u001b[1m0.9416241524356691\u001b[0m\n",
      "\n",
      "\u001b[91mF1 SCORE (Test) : \u001b[0m\u001b[1m0.9408359988685076\u001b[0m\n",
      "\n",
      "\u001b[91mRECALL (Train): \u001b[0m\u001b[1m0.9804226227470478\u001b[0m\n",
      "\n",
      "\u001b[91mRECALL (Test): \u001b[0m\u001b[1m0.9780582699963808\u001b[0m\n",
      "\n",
      "\u001b[91mPRECISION  (Train) : \u001b[0m\u001b[1m0.905779548186826\u001b[0m\n",
      "\n",
      "\u001b[91mPRECISION  (Test) : \u001b[0m\u001b[1m0.9063430176497715\u001b[0m\n"
     ]
    }
   ],
   "source": [
    "optimal_alpha = bow_train.best_params_.get('alpha')\n",
    "\n",
    "print('\\n'+color.RED+'Optimal best alpha is : '+color.END+color.BOLD+str(optimal_alpha)+color.END)\n",
    "\n",
    "optimal_model = SGDClassifier(alpha=optimal_alpha,  average=False,\n",
    "       class_weight='balanced', early_stopping=False, epsilon=0.1,\n",
    "       eta0=0.0, fit_intercept=True, l1_ratio=0.15,\n",
    "       learning_rate='optimal', loss='hinge', max_iter=None, n_iter=None,\n",
    "       n_iter_no_change=5, n_jobs=-1, penalty='l1', power_t=0.5,\n",
    "       random_state=1, shuffle=True, tol=None, validation_fraction=0.1,\n",
    "       verbose=0, warm_start=False)\n",
    "\n",
    "# https://www.kaggle.com/mpearmain/calibrated-sgdclassifier\n",
    "\n",
    "model_calib_L1 = CalibratedClassifierCV(base_estimator=optimal_model, cv=5, method='isotonic')\n",
    "\n",
    "# fitting the model\n",
    "model_calib_L1.fit(X_train_bow,y_train)\n",
    "\n",
    "# predict the response\n",
    "test_pred = model_calib_L1.predict(x_test_bow)\n",
    "train_pred = model_calib_L1.predict(X_train_bow)\n",
    "\n",
    "# plot confusion matrix\n",
    "\n",
    "print('\\n'+color.BOLD +'Confusion Matrix for Train data'+color.END)\n",
    "plotConfusionMatrix(y_train,train_pred)\n",
    "\n",
    "print('\\n'+color.BOLD +'Confusion Matrix for Test data'+color.END)\n",
    "plotConfusionMatrix(y_test,test_pred)\n",
    "\n",
    "# plot AUC\n",
    "train_auc,test_auc = plotAUC_ROC(model_calib_L1,X_train_bow, y_train,x_test_bow, y_test )\n",
    "print('\\n'+color.RED+'AUC (Train): '+color.END+color.BOLD+str(train_auc)+color.END)\n",
    "print('\\n'+color.RED+'AUC (Test): '+color.END+color.BOLD+str(test_auc)+color.END)\n",
    "\n",
    "# f1 score\n",
    "score = f1_score(y_test,test_pred)\n",
    "print('\\n'+color.RED+'F1 SCORE (Train) : '+color.END+color.BOLD+str(f1_score(y_train,train_pred))+color.END)\n",
    "print('\\n'+color.RED+'F1 SCORE (Test) : '+color.END+color.BOLD+str(score)+color.END)\n",
    "\n",
    "# recall\n",
    "recall = metrics.recall_score(y_test, test_pred)\n",
    "print('\\n'+color.RED+'RECALL (Train): '+color.END+color.BOLD+str(metrics.recall_score(y_train, train_pred))+color.END)\n",
    "print('\\n'+color.RED+'RECALL (Test): '+color.END+color.BOLD+str(recall)+color.END)\n",
    "\n",
    "# precision\n",
    "precision = metrics.precision_score(y_test, test_pred)\n",
    "print('\\n'+color.RED+'PRECISION  (Train) : '+color.END+color.BOLD+str(metrics.precision_score(y_train, train_pred))+color.END)\n",
    "print('\\n'+color.RED+'PRECISION  (Test) : '+color.END+color.BOLD+str(precision)+color.END)"
   ]
  },
  {
   "cell_type": "markdown",
   "metadata": {},
   "source": [
    "## Linear SVM L2 Regularization"
   ]
  },
  {
   "cell_type": "code",
   "execution_count": 32,
   "metadata": {},
   "outputs": [
    {
     "name": "stdout",
     "output_type": "stream",
     "text": [
      "\n",
      "\u001b[91mOptimal best alpha is : \u001b[0m\u001b[1m0.001\u001b[0m\n",
      "\n",
      "\u001b[1mConfusion Matrix for Train data\u001b[0m\n"
     ]
    },
    {
     "data": {
      "image/png": "[encoded data removed]",
      "text/plain": [
       "<Figure size 432x288 with 2 Axes>"
      ]
     },
     "metadata": {
      "needs_background": "light"
     },
     "output_type": "display_data"
    },
    {
     "name": "stdout",
     "output_type": "stream",
     "text": [
      "\n",
      "\u001b[1mConfusion Matrix for Test data\u001b[0m\n"
     ]
    },
    {
     "data": {
      "image/png": "[encoded data removed]",
      "text/plain": [
       "<Figure size 432x288 with 2 Axes>"
      ]
     },
     "metadata": {
      "needs_background": "light"
     },
     "output_type": "display_data"
    },
    {
     "data": {
      "image/png": "[encoded data removed]",
      "text/plain": [
       "<Figure size 432x288 with 1 Axes>"
      ]
     },
     "metadata": {
      "needs_background": "light"
     },
     "output_type": "display_data"
    },
    {
     "name": "stdout",
     "output_type": "stream",
     "text": [
      "\n",
      "\u001b[91mAUC (Train): \u001b[0m\u001b[1m0.985918486128121\u001b[0m\n",
      "\n",
      "\u001b[91mAUC (Test): \u001b[0m\u001b[1m0.9552691600059717\u001b[0m\n",
      "\n",
      "\u001b[91mF1 SCORE (Train) : \u001b[0m\u001b[1m0.9751543149967\u001b[0m\n",
      "\n",
      "\u001b[91mF1 SCORE (Test) : \u001b[0m\u001b[1m0.9555814788226847\u001b[0m\n",
      "\n",
      "\u001b[91mRECALL (Train): \u001b[0m\u001b[1m0.9757224984462399\u001b[0m\n",
      "\n",
      "\u001b[91mRECALL (Test): \u001b[0m\u001b[1m0.9635360115816142\u001b[0m\n",
      "\n",
      "\u001b[91mPRECISION  (Train) : \u001b[0m\u001b[1m0.9745867928920617\u001b[0m\n",
      "\n",
      "\u001b[91mPRECISION  (Test) : \u001b[0m\u001b[1m0.9477572089711641\u001b[0m\n"
     ]
    }
   ],
   "source": [
    "optimal_alpha = bow_train.best_params_.get('alpha')\n",
    "\n",
    "print('\\n'+color.RED+'Optimal best alpha is : '+color.END+color.BOLD+str(optimal_alpha)+color.END)\n",
    "\n",
    "optimal_model = SGDClassifier(alpha=optimal_alpha,  average=False,\n",
    "       class_weight='balanced', early_stopping=False, epsilon=0.1,\n",
    "       eta0=0.0, fit_intercept=True, l1_ratio=0.15,\n",
    "       learning_rate='optimal', loss='hinge', max_iter=None, n_iter=None,\n",
    "       n_iter_no_change=5, n_jobs=-1, penalty='l2', power_t=0.5,\n",
    "       random_state=1, shuffle=True, tol=None, validation_fraction=0.1,\n",
    "       verbose=0, warm_start=False)\n",
    "\n",
    "# https://www.kaggle.com/mpearmain/calibrated-sgdclassifier\n",
    "\n",
    "model_calib_L2 = CalibratedClassifierCV(base_estimator=optimal_model, cv=5, method='isotonic')\n",
    "\n",
    "# fitting the model\n",
    "model_calib_L2.fit(X_train_bow,y_train)\n",
    "\n",
    "# predict the response\n",
    "test_pred = model_calib_L2.predict(x_test_bow)\n",
    "train_pred = model_calib_L2.predict(X_train_bow)\n",
    "\n",
    "# plot confusion matrix\n",
    "\n",
    "print('\\n'+color.BOLD +'Confusion Matrix for Train data'+color.END)\n",
    "plotConfusionMatrix(y_train,train_pred)\n",
    "\n",
    "print('\\n'+color.BOLD +'Confusion Matrix for Test data'+color.END)\n",
    "plotConfusionMatrix(y_test,test_pred)\n",
    "\n",
    "# plot AUC\n",
    "train_auc,test_auc = plotAUC_ROC(model_calib_L2,X_train_bow, y_train,x_test_bow, y_test )\n",
    "print('\\n'+color.RED+'AUC (Train): '+color.END+color.BOLD+str(train_auc)+color.END)\n",
    "print('\\n'+color.RED+'AUC (Test): '+color.END+color.BOLD+str(test_auc)+color.END)\n",
    "\n",
    "# f1 score\n",
    "score = f1_score(y_test,test_pred)\n",
    "print('\\n'+color.RED+'F1 SCORE (Train) : '+color.END+color.BOLD+str(f1_score(y_train,train_pred))+color.END)\n",
    "print('\\n'+color.RED+'F1 SCORE (Test) : '+color.END+color.BOLD+str(score)+color.END)\n",
    "\n",
    "# recall\n",
    "recall = metrics.recall_score(y_test, test_pred)\n",
    "print('\\n'+color.RED+'RECALL (Train): '+color.END+color.BOLD+str(metrics.recall_score(y_train, train_pred))+color.END)\n",
    "print('\\n'+color.RED+'RECALL (Test): '+color.END+color.BOLD+str(recall)+color.END)\n",
    "\n",
    "# precision\n",
    "precision = metrics.precision_score(y_test, test_pred)\n",
    "print('\\n'+color.RED+'PRECISION  (Train) : '+color.END+color.BOLD+str(metrics.precision_score(y_train, train_pred))+color.END)\n",
    "print('\\n'+color.RED+'PRECISION  (Test) : '+color.END+color.BOLD+str(precision)+color.END)"
   ]
  },
  {
   "cell_type": "code",
   "execution_count": 33,
   "metadata": {},
   "outputs": [
    {
     "name": "stdout",
     "output_type": "stream",
     "text": [
      "\u001b[1mImportant words in negative reviews\n",
      "\u001b[0m\n",
      "-0.9265402882161373 not worth\n",
      "-0.868904774466011 worst\n",
      "-0.8606185565035934 disappointing\n",
      "-0.8535091187893692 disappointed\n",
      "-0.8086315489398109 not good\n",
      "-0.785924409752272 not recommend\n",
      "-0.7606546433752635 terrible\n",
      "-0.7402320258694154 disappointment\n",
      "-0.7194057068200203 awful\n",
      "-0.6846237959575312 unfortunately\n",
      "-----------------------------------------\n",
      "\n",
      "\u001b[1mImportant words in positive reviews\n",
      "\u001b[0m\n",
      "0.9730794702159413 not disappointed\n",
      "0.8535643108361439 delicious\n",
      "0.8056453276669694 perfect\n",
      "0.7351336849267136 wonderful\n",
      "0.7216568792437671 excellent\n",
      "0.7180157643558492 best\n",
      "0.6905318802861331 amazing\n",
      "0.6880332212639495 awesome\n",
      "0.6852439751403764 loves\n",
      "0.6798971724747347 yummy\n"
     ]
    }
   ],
   "source": [
    "optimal_model = SGDClassifier(alpha=optimal_alpha,  average=False,\n",
    "       class_weight='balanced', early_stopping=False, epsilon=0.1,\n",
    "       eta0=0.0, fit_intercept=True, l1_ratio=0.15,\n",
    "       learning_rate='optimal', loss='hinge', max_iter=None, n_iter=None,\n",
    "       n_iter_no_change=5, n_jobs=-1, penalty='l2', power_t=0.5,\n",
    "       random_state=1, shuffle=True, tol=None, validation_fraction=0.1,\n",
    "       verbose=0, warm_start=False)\n",
    "\n",
    "# fitting the model\n",
    "optimal_model.fit(X_train_bow, y_train)\n",
    "\n",
    "show_most_informative_features(count_vect.get_feature_names(), optimal_model)"
   ]
  },
  {
   "cell_type": "markdown",
   "metadata": {},
   "source": [
    "### Feature Engineering\n",
    "\n",
    "Till now we only consider Text review as feature, we are adding some extra feature like __review summary__ and __number of words__ in review and test our model improves efficiency or not.\n",
    "\n",
    "We have considered on 50000 points due to memory issue."
   ]
  },
  {
   "cell_type": "code",
   "execution_count": 34,
   "metadata": {},
   "outputs": [
    {
     "name": "stdout",
     "output_type": "stream",
     "text": [
      "(28000, 13) (12000, 13) (28000,) (12000,)\n",
      "\n",
      "\u001b[1mConfusion Matrix for Train data\u001b[0m\n"
     ]
    },
    {
     "data": {
      "image/png": "[encoded data removed]",
      "text/plain": [
       "<Figure size 432x288 with 2 Axes>"
      ]
     },
     "metadata": {
      "needs_background": "light"
     },
     "output_type": "display_data"
    },
    {
     "name": "stdout",
     "output_type": "stream",
     "text": [
      "\n",
      "\u001b[1mConfusion Matrix for Test data\u001b[0m\n"
     ]
    },
    {
     "data": {
      "image/png": "[encoded data removed]",
      "text/plain": [
       "<Figure size 432x288 with 2 Axes>"
      ]
     },
     "metadata": {
      "needs_background": "light"
     },
     "output_type": "display_data"
    },
    {
     "data": {
      "image/png": "[encoded data removed]",
      "text/plain": [
       "<Figure size 432x288 with 1 Axes>"
      ]
     },
     "metadata": {
      "needs_background": "light"
     },
     "output_type": "display_data"
    },
    {
     "name": "stdout",
     "output_type": "stream",
     "text": [
      "\n",
      "\u001b[91mAUC (Train): \u001b[0m\u001b[1m0.9571810283839979\u001b[0m\n",
      "\n",
      "\u001b[91mAUC (Test): \u001b[0m\u001b[1m0.9381523325197444\u001b[0m\n",
      "\n",
      "\u001b[91mF1 SCORE (Train) : \u001b[0m\u001b[1m0.9574397477910981\u001b[0m\n",
      "\n",
      "\u001b[91mF1 SCORE (Test) : \u001b[0m\u001b[1m0.9518484600183159\u001b[0m\n",
      "\n",
      "\u001b[91mRECALL (Train): \u001b[0m\u001b[1m0.9781328134932407\u001b[0m\n",
      "\n",
      "\u001b[91mRECALL (Test): \u001b[0m\u001b[1m0.9729996058336619\u001b[0m\n",
      "\n",
      "\u001b[91mPRECISION  (Train) : \u001b[0m\u001b[1m0.9376040947312833\u001b[0m\n",
      "\n",
      "\u001b[91mPRECISION  (Test) : \u001b[0m\u001b[1m0.9315973205019341\u001b[0m\n"
     ]
    }
   ],
   "source": [
    "# https://sondosatwi.wordpress.com/2017/08/01/using-text-data-and-dataframemapper-in-python/\n",
    "\n",
    "X = final[:40000]\n",
    "y = final['Score'][:40000]\n",
    "\n",
    "# split the data set into train and test\n",
    "X_train, x_test, y_train, y_test = model_selection.train_test_split(X, y, test_size=0.3,random_state=0)\n",
    "\n",
    "print(X_train.shape, x_test.shape, y_train.shape, y_test.shape)\n",
    "\n",
    "mapper = DataFrameMapper([\n",
    "     ('preprocessed_reviews', CountVectorizer(ngram_range=(1,3), min_df=10)),\n",
    "     ('preprocessed_summary', CountVectorizer(ngram_range=(1,3), min_df=10)),\n",
    "     ('numbers_of_words', None),\n",
    " ])\n",
    "\n",
    "train_features = mapper.fit_transform(X_train)\n",
    "test_features = mapper.transform(x_test)\n",
    "\n",
    "optimal_alpha = bow_train.best_params_.get('alpha')\n",
    "\n",
    "optimal_model =SGDClassifier(alpha=optimal_alpha,  average=False,\n",
    "       class_weight='balanced', early_stopping=False, epsilon=0.1,\n",
    "       eta0=0.0, fit_intercept=True, l1_ratio=0.15,\n",
    "       learning_rate='optimal', loss='hinge', max_iter=None, n_iter=None,\n",
    "       n_iter_no_change=5, n_jobs=-1, penalty='l2', power_t=0.5,\n",
    "       random_state=1, shuffle=True, tol=None, validation_fraction=0.1,\n",
    "       verbose=0, warm_start=False)\n",
    "\n",
    "# https://www.kaggle.com/mpearmain/calibrated-sgdclassifier\n",
    "\n",
    "model_calib = CalibratedClassifierCV(base_estimator=optimal_model, cv=5, method='isotonic')\n",
    "\n",
    "# fitting the model\n",
    "model_calib.fit(train_features,y_train)\n",
    "\n",
    "# predict the response\n",
    "test_pred = model_calib.predict(test_features)\n",
    "train_pred = model_calib.predict(train_features)\n",
    "\n",
    "# plot confusion matrix\n",
    "\n",
    "print('\\n'+color.BOLD +'Confusion Matrix for Train data'+color.END)\n",
    "plotConfusionMatrix(y_train,train_pred)\n",
    "\n",
    "print('\\n'+color.BOLD +'Confusion Matrix for Test data'+color.END)\n",
    "plotConfusionMatrix(y_test,test_pred)\n",
    "\n",
    "# plot AUC\n",
    "train_auc,test_auc = plotAUC_ROC(model_calib,train_features, y_train,test_features, y_test )\n",
    "print('\\n'+color.RED+'AUC (Train): '+color.END+color.BOLD+str(train_auc)+color.END)\n",
    "print('\\n'+color.RED+'AUC (Test): '+color.END+color.BOLD+str(test_auc)+color.END)\n",
    "\n",
    "# f1 score\n",
    "score = f1_score(y_test,test_pred)\n",
    "print('\\n'+color.RED+'F1 SCORE (Train) : '+color.END+color.BOLD+str(f1_score(y_train,train_pred))+color.END)\n",
    "print('\\n'+color.RED+'F1 SCORE (Test) : '+color.END+color.BOLD+str(score)+color.END)\n",
    "\n",
    "# recall\n",
    "recall = metrics.recall_score(y_test, test_pred)\n",
    "print('\\n'+color.RED+'RECALL (Train): '+color.END+color.BOLD+str(metrics.recall_score(y_train, train_pred))+color.END)\n",
    "print('\\n'+color.RED+'RECALL (Test): '+color.END+color.BOLD+str(recall)+color.END)\n",
    "\n",
    "# precision\n",
    "precision = metrics.precision_score(y_test, test_pred)\n",
    "print('\\n'+color.RED+'PRECISION  (Train) : '+color.END+color.BOLD+str(metrics.precision_score(y_train, train_pred))+color.END)\n",
    "print('\\n'+color.RED+'PRECISION  (Test) : '+color.END+color.BOLD+str(precision)+color.END)"
   ]
  },
  {
   "cell_type": "markdown",
   "metadata": {},
   "source": [
    "## [4.3] TF-IDF"
   ]
  },
  {
   "cell_type": "code",
   "execution_count": 35,
   "metadata": {},
   "outputs": [
    {
     "name": "stdout",
     "output_type": "stream",
     "text": [
      "(61441,) (26332,) (61441,) (26332,)\n",
      "X_train_tfidf (61441, 40217)\n",
      "==============================\n",
      "x_test_tfidf (26332, 40217)\n"
     ]
    }
   ],
   "source": [
    "X = final['preprocessed_reviews']\n",
    "y = final['Score']\n",
    "\n",
    "# split the data set into train and test\n",
    "X_train, x_test, y_train, y_test = model_selection.train_test_split(X, y, test_size=0.3,random_state=0)\n",
    "\n",
    "print(X_train.shape, x_test.shape, y_train.shape, y_test.shape)\n",
    "\n",
    "tf_idf_vect = TfidfVectorizer(ngram_range=(1,3), min_df=10) #in scikit-learn\n",
    "\n",
    "# train data\n",
    "X_train_tfidf = tf_idf_vect.fit_transform(X_train)\n",
    "\n",
    "# test data\n",
    "x_test_tfidf = tf_idf_vect.transform(x_test)\n",
    "\n",
    "print('X_train_tfidf', X_train_tfidf.shape)\n",
    "print('==='*10)\n",
    "print('x_test_tfidf', x_test_tfidf.shape)"
   ]
  },
  {
   "cell_type": "markdown",
   "metadata": {},
   "source": [
    "### Hyper parameter tunig using GridSearch"
   ]
  },
  {
   "cell_type": "code",
   "execution_count": 36,
   "metadata": {},
   "outputs": [
    {
     "name": "stdout",
     "output_type": "stream",
     "text": [
      "Fitting 10 folds for each of 21 candidates, totalling 210 fits\n"
     ]
    },
    {
     "name": "stderr",
     "output_type": "stream",
     "text": [
      "[Parallel(n_jobs=-1)]: Using backend LokyBackend with 4 concurrent workers.\n",
      "[Parallel(n_jobs=-1)]: Batch computation too fast (0.0822s.) Setting batch_size=4.\n",
      "[Parallel(n_jobs=-1)]: Done   5 tasks      | elapsed:    0.4s\n",
      "[Parallel(n_jobs=-1)]: Done  16 tasks      | elapsed:    1.2s\n",
      "[Parallel(n_jobs=-1)]: Done  44 tasks      | elapsed:    3.1s\n",
      "[Parallel(n_jobs=-1)]: Done  72 tasks      | elapsed:    4.4s\n",
      "[Parallel(n_jobs=-1)]: Done 108 tasks      | elapsed:    6.7s\n",
      "[Parallel(n_jobs=-1)]: Done 144 tasks      | elapsed:    8.9s\n",
      "[Parallel(n_jobs=-1)]: Done 210 out of 210 | elapsed:   12.2s finished\n"
     ]
    },
    {
     "name": "stdout",
     "output_type": "stream",
     "text": [
      "=======Training========\n",
      "0.9406750568415551\n",
      "{'alpha': 0.0001}\n",
      "SGDClassifier(alpha=0.0001, average=False, class_weight='balanced',\n",
      "       early_stopping=False, epsilon=0.1, eta0=0.0, fit_intercept=True,\n",
      "       l1_ratio=0.15, learning_rate='optimal', loss='hinge', max_iter=None,\n",
      "       n_iter=None, n_iter_no_change=5, n_jobs=-1, penalty='l1',\n",
      "       power_t=0.5, random_state=1, shuffle=True, tol=None,\n",
      "       validation_fraction=0.1, verbose=0, warm_start=False)\n"
     ]
    },
    {
     "name": "stderr",
     "output_type": "stream",
     "text": [
      "/home/pranay/anaconda3/lib/python3.7/site-packages/matplotlib/cbook/__init__.py:424: MatplotlibDeprecationWarning: \n",
      "Passing one of 'on', 'true', 'off', 'false' as a boolean is deprecated; use an actual boolean (True/False) instead.\n",
      "  warn_deprecated(\"2.2\", \"Passing one of 'on', 'true', 'off', 'false' as a \"\n"
     ]
    },
    {
     "data": {
      "image/png": "[encoded data removed]",
      "text/plain": [
       "<Figure size 432x288 with 1 Axes>"
      ]
     },
     "metadata": {
      "needs_background": "light"
     },
     "output_type": "display_data"
    }
   ],
   "source": [
    "tfidf_train = finding_best_alpha (X_train_tfidf,y_train, 'gridsearch','SGDClassifier','l1')\n",
    "\n",
    "# view the complete results (list of named tuples)\n",
    "print(\"=======Training========\")\n",
    "print (tfidf_train.best_score_)\n",
    "print (tfidf_train.best_params_)\n",
    "print (tfidf_train.best_estimator_)\n",
    "\n",
    "plotAccuracyGraph(tfidf_train)"
   ]
  },
  {
   "cell_type": "markdown",
   "metadata": {},
   "source": [
    "# Linear SVM  L1 Regularization"
   ]
  },
  {
   "cell_type": "code",
   "execution_count": 37,
   "metadata": {},
   "outputs": [
    {
     "name": "stdout",
     "output_type": "stream",
     "text": [
      "\n",
      "\u001b[91mOptimal best alpha is : \u001b[0m\u001b[1m0.0001\u001b[0m\n",
      "\n",
      "\u001b[1mConfusion Matrix for Train data\u001b[0m\n"
     ]
    },
    {
     "data": {
      "image/png": "[encoded data removed]",
      "text/plain": [
       "<Figure size 432x288 with 2 Axes>"
      ]
     },
     "metadata": {
      "needs_background": "light"
     },
     "output_type": "display_data"
    },
    {
     "name": "stdout",
     "output_type": "stream",
     "text": [
      "\n",
      "\u001b[1mConfusion Matrix for Test data\u001b[0m\n"
     ]
    },
    {
     "data": {
      "image/png": "[encoded data removed]",
      "text/plain": [
       "<Figure size 432x288 with 2 Axes>"
      ]
     },
     "metadata": {
      "needs_background": "light"
     },
     "output_type": "display_data"
    },
    {
     "data": {
      "image/png": "[encoded data removed]",
      "text/plain": [
       "<Figure size 432x288 with 1 Axes>"
      ]
     },
     "metadata": {
      "needs_background": "light"
     },
     "output_type": "display_data"
    },
    {
     "name": "stdout",
     "output_type": "stream",
     "text": [
      "\n",
      "\u001b[91mAUC (Train): \u001b[0m\u001b[1m0.9572756170908178\u001b[0m\n",
      "\n",
      "\u001b[91mAUC (Test): \u001b[0m\u001b[1m0.9469415898302718\u001b[0m\n",
      "\n",
      "\u001b[91mF1 SCORE (Train) : \u001b[0m\u001b[1m0.9560130218307161\u001b[0m\n",
      "\n",
      "\u001b[91mF1 SCORE (Test) : \u001b[0m\u001b[1m0.9515381185911725\u001b[0m\n",
      "\n",
      "\u001b[91mRECALL (Train): \u001b[0m\u001b[1m0.9696045680546923\u001b[0m\n",
      "\n",
      "\u001b[91mRECALL (Test): \u001b[0m\u001b[1m0.9655718422005067\u001b[0m\n",
      "\n",
      "\u001b[91mPRECISION  (Train) : \u001b[0m\u001b[1m0.9427972503399304\u001b[0m\n",
      "\n",
      "\u001b[91mPRECISION  (Test) : \u001b[0m\u001b[1m0.9379064862014413\u001b[0m\n"
     ]
    }
   ],
   "source": [
    "optimal_alpha = tfidf_train.best_params_.get('alpha')\n",
    "\n",
    "print('\\n'+color.RED+'Optimal best alpha is : '+color.END+color.BOLD+str(optimal_alpha)+color.END)\n",
    "\n",
    "optimal_model = SGDClassifier(alpha=optimal_alpha,  average=False,\n",
    "       class_weight='balanced', early_stopping=False, epsilon=0.1,\n",
    "       eta0=0.0, fit_intercept=True, l1_ratio=0.15,\n",
    "       learning_rate='optimal', loss='hinge', max_iter=None, n_iter=None,\n",
    "       n_iter_no_change=5, n_jobs=-1, penalty='l1', power_t=0.5,\n",
    "       random_state=1, shuffle=True, tol=None, validation_fraction=0.1,\n",
    "       verbose=0, warm_start=False)\n",
    "\n",
    "# https://www.kaggle.com/mpearmain/calibrated-sgdclassifier\n",
    "\n",
    "model_calib_L1 = CalibratedClassifierCV(base_estimator=optimal_model, cv=5, method='isotonic')\n",
    "\n",
    "# fitting the model\n",
    "model_calib_L1.fit(X_train_tfidf,y_train)\n",
    "\n",
    "# predict the response\n",
    "test_pred = model_calib_L1.predict(x_test_tfidf)\n",
    "train_pred = model_calib_L1.predict(X_train_tfidf)\n",
    "\n",
    "# plot confusion matrix\n",
    "\n",
    "print('\\n'+color.BOLD +'Confusion Matrix for Train data'+color.END)\n",
    "plotConfusionMatrix(y_train,train_pred)\n",
    "\n",
    "print('\\n'+color.BOLD +'Confusion Matrix for Test data'+color.END)\n",
    "plotConfusionMatrix(y_test,test_pred)\n",
    "\n",
    "# plot AUC\n",
    "train_auc,test_auc = plotAUC_ROC(model_calib_L1,X_train_tfidf, y_train,x_test_tfidf, y_test )\n",
    "print('\\n'+color.RED+'AUC (Train): '+color.END+color.BOLD+str(train_auc)+color.END)\n",
    "print('\\n'+color.RED+'AUC (Test): '+color.END+color.BOLD+str(test_auc)+color.END)\n",
    "\n",
    "# f1 score\n",
    "score = f1_score(y_test,test_pred)\n",
    "print('\\n'+color.RED+'F1 SCORE (Train) : '+color.END+color.BOLD+str(f1_score(y_train,train_pred))+color.END)\n",
    "print('\\n'+color.RED+'F1 SCORE (Test) : '+color.END+color.BOLD+str(score)+color.END)\n",
    "\n",
    "# recall\n",
    "recall = metrics.recall_score(y_test, test_pred)\n",
    "print('\\n'+color.RED+'RECALL (Train): '+color.END+color.BOLD+str(metrics.recall_score(y_train, train_pred))+color.END)\n",
    "print('\\n'+color.RED+'RECALL (Test): '+color.END+color.BOLD+str(recall)+color.END)\n",
    "\n",
    "# precision\n",
    "precision = metrics.precision_score(y_test, test_pred)\n",
    "print('\\n'+color.RED+'PRECISION  (Train) : '+color.END+color.BOLD+str(metrics.precision_score(y_train, train_pred))+color.END)\n",
    "print('\\n'+color.RED+'PRECISION  (Test) : '+color.END+color.BOLD+str(precision)+color.END)"
   ]
  },
  {
   "cell_type": "markdown",
   "metadata": {},
   "source": [
    "# Linear SVM L2 Regularization"
   ]
  },
  {
   "cell_type": "code",
   "execution_count": 38,
   "metadata": {},
   "outputs": [
    {
     "name": "stdout",
     "output_type": "stream",
     "text": [
      "\n",
      "\u001b[91mOptimal best alpha is : \u001b[0m\u001b[1m0.0001\u001b[0m\n",
      "\n",
      "\u001b[1mConfusion Matrix for Train data\u001b[0m\n"
     ]
    },
    {
     "data": {
      "image/png": "[encoded data removed]",
      "text/plain": [
       "<Figure size 432x288 with 2 Axes>"
      ]
     },
     "metadata": {
      "needs_background": "light"
     },
     "output_type": "display_data"
    },
    {
     "name": "stdout",
     "output_type": "stream",
     "text": [
      "\n",
      "\u001b[1mConfusion Matrix for Test data\u001b[0m\n"
     ]
    },
    {
     "data": {
      "image/png": "[encoded data removed]",
      "text/plain": [
       "<Figure size 432x288 with 2 Axes>"
      ]
     },
     "metadata": {
      "needs_background": "light"
     },
     "output_type": "display_data"
    },
    {
     "data": {
      "image/png": "[encoded data removed]",
      "text/plain": [
       "<Figure size 432x288 with 1 Axes>"
      ]
     },
     "metadata": {
      "needs_background": "light"
     },
     "output_type": "display_data"
    },
    {
     "name": "stdout",
     "output_type": "stream",
     "text": [
      "\n",
      "\u001b[91mAUC (Train): \u001b[0m\u001b[1m0.9823497777965386\u001b[0m\n",
      "\n",
      "\u001b[91mAUC (Test): \u001b[0m\u001b[1m0.9618209853240433\u001b[0m\n",
      "\n",
      "\u001b[91mF1 SCORE (Train) : \u001b[0m\u001b[1m0.9719048729307531\u001b[0m\n",
      "\n",
      "\u001b[91mF1 SCORE (Test) : \u001b[0m\u001b[1m0.9573985492600328\u001b[0m\n",
      "\n",
      "\u001b[91mRECALL (Train): \u001b[0m\u001b[1m0.9715273461777502\u001b[0m\n",
      "\n",
      "\u001b[91mRECALL (Test): \u001b[0m\u001b[1m0.9643503438291712\u001b[0m\n",
      "\n",
      "\u001b[91mPRECISION  (Train) : \u001b[0m\u001b[1m0.9722826932047893\u001b[0m\n",
      "\n",
      "\u001b[91mPRECISION  (Test) : \u001b[0m\u001b[1m0.950546265328874\u001b[0m\n"
     ]
    }
   ],
   "source": [
    "optimal_alpha = tfidf_train.best_params_.get('alpha')\n",
    "\n",
    "print('\\n'+color.RED+'Optimal best alpha is : '+color.END+color.BOLD+str(optimal_alpha)+color.END)\n",
    "\n",
    "optimal_model = SGDClassifier(alpha=optimal_alpha,  average=False,\n",
    "       class_weight='balanced', early_stopping=False, epsilon=0.1,\n",
    "       eta0=0.0, fit_intercept=True, l1_ratio=0.15,\n",
    "       learning_rate='optimal', loss='hinge', max_iter=None, n_iter=None,\n",
    "       n_iter_no_change=5, n_jobs=-1, penalty='l2', power_t=0.5,\n",
    "       random_state=1, shuffle=True, tol=None, validation_fraction=0.1,\n",
    "       verbose=0, warm_start=False)\n",
    "\n",
    "# https://www.kaggle.com/mpearmain/calibrated-sgdclassifier\n",
    "\n",
    "model_calib_L2 = CalibratedClassifierCV(base_estimator=optimal_model, cv=5, method='isotonic')\n",
    "\n",
    "# fitting the model\n",
    "model_calib_L2.fit(X_train_tfidf,y_train)\n",
    "\n",
    "# predict the response\n",
    "test_pred = model_calib_L2.predict(x_test_tfidf)\n",
    "train_pred = model_calib_L2.predict(X_train_tfidf)\n",
    "\n",
    "# plot confusion matrix\n",
    "\n",
    "print('\\n'+color.BOLD +'Confusion Matrix for Train data'+color.END)\n",
    "plotConfusionMatrix(y_train,train_pred)\n",
    "\n",
    "print('\\n'+color.BOLD +'Confusion Matrix for Test data'+color.END)\n",
    "plotConfusionMatrix(y_test,test_pred)\n",
    "\n",
    "# plot AUC\n",
    "train_auc,test_auc = plotAUC_ROC(model_calib_L2,X_train_tfidf, y_train,x_test_tfidf, y_test )\n",
    "print('\\n'+color.RED+'AUC (Train): '+color.END+color.BOLD+str(train_auc)+color.END)\n",
    "print('\\n'+color.RED+'AUC (Test): '+color.END+color.BOLD+str(test_auc)+color.END)\n",
    "\n",
    "# f1 score\n",
    "score = f1_score(y_test,test_pred)\n",
    "print('\\n'+color.RED+'F1 SCORE (Train) : '+color.END+color.BOLD+str(f1_score(y_train,train_pred))+color.END)\n",
    "print('\\n'+color.RED+'F1 SCORE (Test) : '+color.END+color.BOLD+str(score)+color.END)\n",
    "\n",
    "# recall\n",
    "recall = metrics.recall_score(y_test, test_pred)\n",
    "print('\\n'+color.RED+'RECALL (Train): '+color.END+color.BOLD+str(metrics.recall_score(y_train, train_pred))+color.END)\n",
    "print('\\n'+color.RED+'RECALL (Test): '+color.END+color.BOLD+str(recall)+color.END)\n",
    "\n",
    "# precision\n",
    "precision = metrics.precision_score(y_test, test_pred)\n",
    "print('\\n'+color.RED+'PRECISION  (Train) : '+color.END+color.BOLD+str(metrics.precision_score(y_train, train_pred))+color.END)\n",
    "print('\\n'+color.RED+'PRECISION  (Test) : '+color.END+color.BOLD+str(precision)+color.END)"
   ]
  },
  {
   "cell_type": "code",
   "execution_count": 39,
   "metadata": {},
   "outputs": [
    {
     "name": "stdout",
     "output_type": "stream",
     "text": [
      "\u001b[1mImportant words in negative reviews\n",
      "\u001b[0m\n",
      "-4.646603655781997 not\n",
      "-4.233447213348982 disappointed\n",
      "-3.463384663808446 not good\n",
      "-3.353331441552122 worst\n",
      "-3.2563477896380255 not worth\n",
      "-3.2371812267728304 disappointing\n",
      "-3.0255028819207466 terrible\n",
      "-2.9587028268208897 unfortunately\n",
      "-2.9089081042682063 horrible\n",
      "-2.809973544027651 disappointment\n",
      "-----------------------------------------\n",
      "\n",
      "\u001b[1mImportant words in positive reviews\n",
      "\u001b[0m\n",
      "6.267910237709861 great\n",
      "4.686732783445354 best\n",
      "4.517835844230264 delicious\n",
      "4.296794112630621 good\n",
      "3.9719583367670865 perfect\n",
      "3.647112275490669 love\n",
      "3.6218445456988073 loves\n",
      "3.545871908753643 nice\n",
      "3.4436128844949345 excellent\n",
      "3.247869501741278 wonderful\n"
     ]
    }
   ],
   "source": [
    "optimal_model = SGDClassifier(alpha=optimal_alpha,  average=False,\n",
    "       class_weight='balanced', early_stopping=False, epsilon=0.1,\n",
    "       eta0=0.0, fit_intercept=True, l1_ratio=0.15,\n",
    "       learning_rate='optimal', loss='hinge', max_iter=None, n_iter=None,\n",
    "       n_iter_no_change=5, n_jobs=-1, penalty='l2', power_t=0.5,\n",
    "       random_state=1, shuffle=True, tol=None, validation_fraction=0.1,\n",
    "       verbose=0, warm_start=False)\n",
    "\n",
    "# fitting the model\n",
    "optimal_model.fit(X_train_tfidf, y_train)\n",
    "\n",
    "show_most_informative_features(tf_idf_vect.get_feature_names(), optimal_model)"
   ]
  },
  {
   "cell_type": "markdown",
   "metadata": {},
   "source": [
    "### Feature Engineering\n",
    "\n",
    "Till now we only consider Text review as feature, we are adding some extra feature like __review summary__ and __number of words__ in review and test our model improves efficiency or not.\n",
    "\n",
    "We have considered on 50000 points due to memory issue."
   ]
  },
  {
   "cell_type": "code",
   "execution_count": 40,
   "metadata": {},
   "outputs": [
    {
     "name": "stdout",
     "output_type": "stream",
     "text": [
      "(28000, 13) (12000, 13) (28000,) (12000,)\n",
      "\n",
      "\u001b[1mConfusion Matrix for Train data\u001b[0m\n"
     ]
    },
    {
     "data": {
      "image/png": "[encoded data removed]",
      "text/plain": [
       "<Figure size 432x288 with 2 Axes>"
      ]
     },
     "metadata": {
      "needs_background": "light"
     },
     "output_type": "display_data"
    },
    {
     "name": "stdout",
     "output_type": "stream",
     "text": [
      "\n",
      "\u001b[1mConfusion Matrix for Test data\u001b[0m\n"
     ]
    },
    {
     "data": {
      "image/png": "[encoded data removed]",
      "text/plain": [
       "<Figure size 432x288 with 2 Axes>"
      ]
     },
     "metadata": {
      "needs_background": "light"
     },
     "output_type": "display_data"
    },
    {
     "data": {
      "image/png": "[encoded data removed]",
      "text/plain": [
       "<Figure size 432x288 with 1 Axes>"
      ]
     },
     "metadata": {
      "needs_background": "light"
     },
     "output_type": "display_data"
    },
    {
     "name": "stdout",
     "output_type": "stream",
     "text": [
      "\n",
      "\u001b[91mAUC (Train): \u001b[0m\u001b[1m0.765575974711483\u001b[0m\n",
      "\n",
      "\u001b[91mAUC (Test): \u001b[0m\u001b[1m0.7644148460239854\u001b[0m\n",
      "\n",
      "\u001b[91mF1 SCORE (Train) : \u001b[0m\u001b[1m0.9185092094411498\u001b[0m\n",
      "\n",
      "\u001b[91mF1 SCORE (Test) : \u001b[0m\u001b[1m0.9208817341992133\u001b[0m\n",
      "\n",
      "\u001b[91mRECALL (Train): \u001b[0m\u001b[1m0.991142941899394\u001b[0m\n",
      "\n",
      "\u001b[91mRECALL (Test): \u001b[0m\u001b[1m0.9921166732361056\u001b[0m\n",
      "\n",
      "\u001b[91mPRECISION  (Train) : \u001b[0m\u001b[1m0.8557942112773976\u001b[0m\n",
      "\n",
      "\u001b[91mPRECISION  (Test) : \u001b[0m\u001b[1m0.8591909882232462\u001b[0m\n"
     ]
    }
   ],
   "source": [
    "# https://sondosatwi.wordpress.com/2017/08/01/using-text-data-and-dataframemapper-in-python/\n",
    "\n",
    "X = final[:40000]\n",
    "y = final['Score'][:40000]\n",
    "\n",
    "# split the data set into train and test\n",
    "X_train, x_test, y_train, y_test = model_selection.train_test_split(X, y, test_size=0.3,random_state=0)\n",
    "\n",
    "print(X_train.shape, x_test.shape, y_train.shape, y_test.shape)\n",
    "\n",
    "mapper = DataFrameMapper([\n",
    "     ('preprocessed_reviews', TfidfVectorizer(ngram_range=(1,3), min_df=10)),\n",
    "     ('preprocessed_summary', TfidfVectorizer(ngram_range=(1,3), min_df=10)),\n",
    "     ('numbers_of_words', None),\n",
    " ])\n",
    "\n",
    "train_features = mapper.fit_transform(X_train)\n",
    "test_features = mapper.transform(x_test)\n",
    "\n",
    "optimal_alpha = tfidf_train.best_params_.get('alpha')\n",
    "\n",
    "optimal_model =SGDClassifier(alpha=optimal_alpha,  average=False,\n",
    "       class_weight='balanced', early_stopping=False, epsilon=0.1,\n",
    "       eta0=0.0, fit_intercept=True, l1_ratio=0.15,\n",
    "       learning_rate='optimal', loss='hinge', max_iter=None, n_iter=None,\n",
    "       n_iter_no_change=5, n_jobs=-1, penalty='l2', power_t=0.5,\n",
    "       random_state=1, shuffle=True, tol=None, validation_fraction=0.1,\n",
    "       verbose=0, warm_start=False)\n",
    "\n",
    "# https://www.kaggle.com/mpearmain/calibrated-sgdclassifier\n",
    "\n",
    "model_calib = CalibratedClassifierCV(base_estimator=optimal_model, cv=5, method='isotonic')\n",
    "\n",
    "# fitting the model\n",
    "model_calib.fit(train_features,y_train)\n",
    "\n",
    "# predict the response\n",
    "test_pred = model_calib.predict(test_features)\n",
    "train_pred = model_calib.predict(train_features)\n",
    "\n",
    "# plot confusion matrix\n",
    "\n",
    "print('\\n'+color.BOLD +'Confusion Matrix for Train data'+color.END)\n",
    "plotConfusionMatrix(y_train,train_pred)\n",
    "\n",
    "print('\\n'+color.BOLD +'Confusion Matrix for Test data'+color.END)\n",
    "plotConfusionMatrix(y_test,test_pred)\n",
    "\n",
    "# plot AUC\n",
    "train_auc,test_auc = plotAUC_ROC(model_calib,train_features, y_train,test_features, y_test )\n",
    "print('\\n'+color.RED+'AUC (Train): '+color.END+color.BOLD+str(train_auc)+color.END)\n",
    "print('\\n'+color.RED+'AUC (Test): '+color.END+color.BOLD+str(test_auc)+color.END)\n",
    "\n",
    "# f1 score\n",
    "score = f1_score(y_test,test_pred)\n",
    "print('\\n'+color.RED+'F1 SCORE (Train) : '+color.END+color.BOLD+str(f1_score(y_train,train_pred))+color.END)\n",
    "print('\\n'+color.RED+'F1 SCORE (Test) : '+color.END+color.BOLD+str(score)+color.END)\n",
    "\n",
    "# recall\n",
    "recall = metrics.recall_score(y_test, test_pred)\n",
    "print('\\n'+color.RED+'RECALL (Train): '+color.END+color.BOLD+str(metrics.recall_score(y_train, train_pred))+color.END)\n",
    "print('\\n'+color.RED+'RECALL (Test): '+color.END+color.BOLD+str(recall)+color.END)\n",
    "\n",
    "# precision\n",
    "precision = metrics.precision_score(y_test, test_pred)\n",
    "print('\\n'+color.RED+'PRECISION  (Train) : '+color.END+color.BOLD+str(metrics.precision_score(y_train, train_pred))+color.END)\n",
    "print('\\n'+color.RED+'PRECISION  (Test) : '+color.END+color.BOLD+str(precision)+color.END)"
   ]
  },
  {
   "cell_type": "markdown",
   "metadata": {},
   "source": [
    "## [4.4] Word2Vec"
   ]
  },
  {
   "cell_type": "code",
   "execution_count": 41,
   "metadata": {},
   "outputs": [
    {
     "name": "stdout",
     "output_type": "stream",
     "text": [
      "(61441,) (26332,) (61441,) (26332,)\n"
     ]
    }
   ],
   "source": [
    "X = final['preprocessed_reviews']\n",
    "y = final['Score']\n",
    "\n",
    "# split the data set into train and test\n",
    "X_train, x_test, y_train, y_test = model_selection.train_test_split(X, y, test_size=0.3,random_state=0)\n",
    "\n",
    "print(X_train.shape, x_test.shape, y_train.shape, y_test.shape)"
   ]
  },
  {
   "cell_type": "code",
   "execution_count": 42,
   "metadata": {},
   "outputs": [],
   "source": [
    "# Train your own Word2Vec model using your own text corpus\n",
    "\n",
    "# Train data\n",
    "list_of_sentance=[]\n",
    "for sentance in X_train:\n",
    "    list_of_sentance.append(sentance.split())\n",
    "\n",
    "# Test data\n",
    "list_of_test_sentence = []\n",
    "for sentance in x_test:\n",
    "    list_of_test_sentence.append(sentance.split())"
   ]
  },
  {
   "cell_type": "code",
   "execution_count": 43,
   "metadata": {
    "scrolled": true
   },
   "outputs": [
    {
     "name": "stdout",
     "output_type": "stream",
     "text": [
      "[('good', 0.8266610503196716), ('awesome', 0.8200668096542358), ('fantastic', 0.8135119080543518), ('excellent', 0.7982574701309204), ('perfect', 0.7907010316848755), ('wonderful', 0.7888938784599304), ('terrific', 0.7881108522415161), ('amazing', 0.7353063225746155), ('nice', 0.6848068833351135), ('decent', 0.6833682060241699)]\n",
      "==================================================\n",
      "[('greatest', 0.8013015985488892), ('best', 0.7241092324256897), ('tastiest', 0.6930979490280151), ('nastiest', 0.6824731826782227), ('disgusting', 0.6481608152389526), ('awful', 0.6412649154663086), ('horrible', 0.6180609464645386), ('experienced', 0.6013039350509644), ('closest', 0.5976827144622803), ('superior', 0.5890876650810242)]\n"
     ]
    }
   ],
   "source": [
    "# Using Google News Word2Vectors\n",
    "\n",
    "# in this project we are using a pretrained model by google\n",
    "# its 3.3G file, once you load this into your memory \n",
    "# it occupies ~9Gb, so please do this step only if you have >12G of ram\n",
    "# we will provide a pickle file wich contains a dict , \n",
    "# and it contains all our courpus words as keys and  model[word] as values\n",
    "# To use this code-snippet, download \"GoogleNews-vectors-negative300.bin\" \n",
    "# from https://drive.google.com/file/d/0B7XkCwpI5KDYNlNUTTlSS21pQmM/edit\n",
    "# it's 1.9GB in size.\n",
    "\n",
    "\n",
    "# http://kavita-ganesan.com/gensim-word2vec-tutorial-starter-code/#.W17SRFAzZPY\n",
    "# you can comment this whole cell\n",
    "# or change these varible according to your need\n",
    "\n",
    "is_your_ram_gt_16g=False\n",
    "want_to_use_google_w2v = False\n",
    "want_to_train_w2v = True\n",
    "\n",
    "if want_to_train_w2v:\n",
    "    # min_count = 5 considers only words that occured atleast 5 times\n",
    "    # train data\n",
    "    w2v_model_tr=Word2Vec(list_of_sentance,min_count=5,size=50, workers=4)\n",
    "    # train model on test data\n",
    "    w2v_model_test = Word2Vec(list_of_test_sentence,min_count=5,size=50, workers=4)\n",
    "    print(w2v_model_tr.wv.most_similar('great'))\n",
    "    print('='*50)\n",
    "    print(w2v_model_tr.wv.most_similar('worst'))\n",
    "    \n",
    "elif want_to_use_google_w2v and is_your_ram_gt_16g:\n",
    "    if os.path.isfile('GoogleNews-vectors-negative300.bin'):\n",
    "        w2v_model=KeyedVectors.load_word2vec_format('GoogleNews-vectors-negative300.bin', binary=True)\n",
    "        print(w2v_model.wv.most_similar('great'))\n",
    "        print(w2v_model.wv.most_similar('worst'))\n",
    "    else:\n",
    "        print(\"you don't have gogole's word2vec file, keep want_to_train_w2v = True, to train your own w2v \")"
   ]
  },
  {
   "cell_type": "code",
   "execution_count": 44,
   "metadata": {},
   "outputs": [
    {
     "name": "stdout",
     "output_type": "stream",
     "text": [
      "number of words that occured minimum 5 times  14910\n",
      "sample words  ['aroma', 'flavor', 'seem', 'fine', 'weak', 'value', 'used', 'entire', 'bottle', 'quart', 'home', 'made', 'ice', 'cream', 'people', 'guessing', 'not', 'enough', 'licorice', 'spent', 'twice', 'price', 'really', 'concentrated', 'would', 'great', 'never', 'waste', 'money', 'item', 'like', 'shampoo', 'know', 'necessarily', 'hair', 'definitely', 'cleans', 'scalp', 'well', 'also', 'thickest', 'lather', 'ever', 'hellman', 'arguably', 'absolute', 'finest', 'mass', 'market', 'mayonnaise']\n"
     ]
    }
   ],
   "source": [
    "# train data operation\n",
    "w2v_train_words = list(w2v_model_tr.wv.vocab)\n",
    "print(\"number of words that occured minimum 5 times \",len(w2v_train_words))\n",
    "print(\"sample words \", w2v_train_words[0:50])"
   ]
  },
  {
   "cell_type": "code",
   "execution_count": 45,
   "metadata": {},
   "outputs": [
    {
     "name": "stdout",
     "output_type": "stream",
     "text": [
      "number of words that occured minimum 5 times  9806\n",
      "sample words  ['used', 'use', 'cheaper', 'grocery', 'store', 'brands', 'two', 'cats', 'got', 'sick', 'no', 'idea', 'causing', 'changed', 'cat', 'food', 'anyway', 'love', 'healthy', 'made', 'good', 'cheese', 'corn', 'big', 'round', 'fresh', 'popcorn', 'evenly', 'seasoned', 'really', 'cheesy', 'flavor', 'not', 'salty', 'greasy', 'taste', 'sensational', 'ordering', 'disappointment', 'searching', 'awhile', 'find', 'flavored', 'water', 'artificial', 'sweetener', 'kind', 'saw', 'reviews', 'thought']\n"
     ]
    }
   ],
   "source": [
    "# test data operation\n",
    "w2v_test_words = list(w2v_model_test.wv.vocab)\n",
    "print(\"number of words that occured minimum 5 times \",len(w2v_test_words))\n",
    "print(\"sample words \", w2v_test_words[0:50])"
   ]
  },
  {
   "cell_type": "markdown",
   "metadata": {},
   "source": [
    "## [4.4.1] Converting text into vectors using Avg W2V"
   ]
  },
  {
   "cell_type": "markdown",
   "metadata": {},
   "source": [
    "#### [4.4.1.1] Avg W2v"
   ]
  },
  {
   "cell_type": "code",
   "execution_count": 46,
   "metadata": {},
   "outputs": [
    {
     "name": "stdout",
     "output_type": "stream",
     "text": [
      "yes exist\n",
      "yes exist\n"
     ]
    }
   ],
   "source": [
    "# average Word2Vec\n",
    "\n",
    "# train data operation\n",
    "exists = os.path.isfile(avg_w2v_trained_model_100000)\n",
    "if exists:\n",
    "    print(\"yes exist\")\n",
    "    final_w2v_train = load(avg_w2v_trained_model_100000)\n",
    "else:\n",
    "    print(\"not exist\")\n",
    "    # compute average word2vec for each review.\n",
    "    final_w2v_train = []; # the avg-w2v for each sentence/review is stored in this list\n",
    "    for sent in tqdm(list_of_sentance): # for each review/sentence\n",
    "        sent_vec = np.zeros(50) # as word vectors are of zero length 50, you might need to change this to 300 if you use google's w2v\n",
    "        cnt_words =0; # num of words with a valid vector in the sentence/review\n",
    "        for word in sent: # for each word in a review/sentence\n",
    "            if word in w2v_train_words:\n",
    "                vec = w2v_model_tr.wv[word]\n",
    "                sent_vec += vec\n",
    "                cnt_words += 1\n",
    "        if cnt_words != 0:\n",
    "            sent_vec /= cnt_words\n",
    "        final_w2v_train.append(sent_vec)\n",
    "    print(len(final_w2v_train))\n",
    "    print(len(final_w2v_train[0]))\n",
    "    dump(final_w2v_train,avg_w2v_trained_model_100000)\n",
    "\n",
    "\n",
    "# test data operation\n",
    "exists = os.path.isfile(avg_w2v_test_model_100000)\n",
    "if exists:\n",
    "    print(\"yes exist\")\n",
    "    final_w2v_test = load(avg_w2v_test_model_100000)\n",
    "else:\n",
    "    print(\"not exist\")\n",
    "    final_w2v_test = []; # the avg-w2v for each sentence/review is stored in this list\n",
    "    for sent in tqdm(list_of_test_sentence): # for each review/sentence\n",
    "        sent_vec = np.zeros(50) # as word vectors are of zero length 50, you might need to change this to 300 if you use google's w2v\n",
    "        cnt_words =0; # num of words with a valid vector in the sentence/review\n",
    "        for word in sent: # for each word in a review/sentence\n",
    "            if word in w2v_test_words:\n",
    "                vec = w2v_model_test.wv[word]\n",
    "                sent_vec += vec\n",
    "                cnt_words += 1\n",
    "        if cnt_words != 0:\n",
    "            sent_vec /= cnt_words\n",
    "        final_w2v_test.append(sent_vec)\n",
    "    print(len(final_w2v_test))\n",
    "    print(len(final_w2v_test[0]))\n",
    "    dump(final_w2v_test,avg_w2v_test_model_100000)"
   ]
  },
  {
   "cell_type": "markdown",
   "metadata": {},
   "source": [
    "### Hyper parameter tunig using GridSearch"
   ]
  },
  {
   "cell_type": "code",
   "execution_count": 47,
   "metadata": {},
   "outputs": [
    {
     "name": "stdout",
     "output_type": "stream",
     "text": [
      "Fitting 10 folds for each of 21 candidates, totalling 210 fits\n"
     ]
    },
    {
     "name": "stderr",
     "output_type": "stream",
     "text": [
      "[Parallel(n_jobs=-1)]: Using backend LokyBackend with 4 concurrent workers.\n",
      "[Parallel(n_jobs=-1)]: Done   5 tasks      | elapsed:    7.7s\n",
      "/home/pranay/anaconda3/lib/python3.7/site-packages/sklearn/externals/joblib/externals/loky/process_executor.py:706: UserWarning: A worker stopped while some jobs were given to the executor. This can be caused by a too short worker timeout or by a memory leak.\n",
      "  \"timeout or by a memory leak.\", UserWarning\n",
      "/home/pranay/anaconda3/lib/python3.7/site-packages/sklearn/externals/joblib/externals/loky/process_executor.py:706: UserWarning: A worker stopped while some jobs were given to the executor. This can be caused by a too short worker timeout or by a memory leak.\n",
      "  \"timeout or by a memory leak.\", UserWarning\n",
      "/home/pranay/anaconda3/lib/python3.7/site-packages/sklearn/externals/joblib/externals/loky/process_executor.py:706: UserWarning: A worker stopped while some jobs were given to the executor. This can be caused by a too short worker timeout or by a memory leak.\n",
      "  \"timeout or by a memory leak.\", UserWarning\n",
      "[Parallel(n_jobs=-1)]: Done  10 tasks      | elapsed:   15.4s\n",
      "/home/pranay/anaconda3/lib/python3.7/site-packages/sklearn/externals/joblib/externals/loky/process_executor.py:706: UserWarning: A worker stopped while some jobs were given to the executor. This can be caused by a too short worker timeout or by a memory leak.\n",
      "  \"timeout or by a memory leak.\", UserWarning\n",
      "[Parallel(n_jobs=-1)]: Done  17 tasks      | elapsed:   26.5s\n",
      "[Parallel(n_jobs=-1)]: Done  24 tasks      | elapsed:   36.9s\n",
      "[Parallel(n_jobs=-1)]: Done  33 tasks      | elapsed:   50.5s\n",
      "[Parallel(n_jobs=-1)]: Done  42 tasks      | elapsed:  1.1min\n",
      "[Parallel(n_jobs=-1)]: Done  53 tasks      | elapsed:  1.3min\n",
      "[Parallel(n_jobs=-1)]: Done  64 tasks      | elapsed:  1.6min\n",
      "[Parallel(n_jobs=-1)]: Done  77 tasks      | elapsed:  1.9min\n",
      "[Parallel(n_jobs=-1)]: Done  90 tasks      | elapsed:  2.3min\n",
      "[Parallel(n_jobs=-1)]: Done 105 tasks      | elapsed:  2.6min\n",
      "[Parallel(n_jobs=-1)]: Done 120 tasks      | elapsed:  3.0min\n",
      "[Parallel(n_jobs=-1)]: Done 137 tasks      | elapsed:  3.4min\n",
      "[Parallel(n_jobs=-1)]: Done 154 tasks      | elapsed:  3.9min\n",
      "[Parallel(n_jobs=-1)]: Done 173 tasks      | elapsed:  4.3min\n",
      "[Parallel(n_jobs=-1)]: Done 192 tasks      | elapsed:  4.8min\n",
      "[Parallel(n_jobs=-1)]: Done 210 out of 210 | elapsed:  5.3min finished\n",
      "/home/pranay/anaconda3/lib/python3.7/site-packages/matplotlib/cbook/__init__.py:424: MatplotlibDeprecationWarning: \n",
      "Passing one of 'on', 'true', 'off', 'false' as a boolean is deprecated; use an actual boolean (True/False) instead.\n",
      "  warn_deprecated(\"2.2\", \"Passing one of 'on', 'true', 'off', 'false' as a \"\n"
     ]
    },
    {
     "name": "stdout",
     "output_type": "stream",
     "text": [
      "=======Training========\n",
      "0.9046980072495765\n",
      "{'alpha': 0.01}\n",
      "SGDClassifier(alpha=0.01, average=False, class_weight='balanced',\n",
      "       early_stopping=False, epsilon=0.1, eta0=0.0, fit_intercept=True,\n",
      "       l1_ratio=0.15, learning_rate='optimal', loss='hinge', max_iter=None,\n",
      "       n_iter=None, n_iter_no_change=5, n_jobs=-1, penalty='l2',\n",
      "       power_t=0.5, random_state=1, shuffle=True, tol=None,\n",
      "       validation_fraction=0.1, verbose=0, warm_start=False)\n"
     ]
    },
    {
     "data": {
      "image/png": "[encoded data removed]",
      "text/plain": [
       "<Figure size 432x288 with 1 Axes>"
      ]
     },
     "metadata": {
      "needs_background": "light"
     },
     "output_type": "display_data"
    }
   ],
   "source": [
    "w2v_train = finding_best_alpha (final_w2v_train,y_train, 'gridsearch','SGDClassifier','l2')\n",
    "\n",
    "# view the complete results (list of named tuples)\n",
    "print(\"=======Training========\")\n",
    "print (w2v_train.best_score_)\n",
    "print (w2v_train.best_params_)\n",
    "print (w2v_train.best_estimator_)\n",
    "\n",
    "plotAccuracyGraph(w2v_train)"
   ]
  },
  {
   "cell_type": "markdown",
   "metadata": {},
   "source": [
    "# Linear SVM L1 Regularization"
   ]
  },
  {
   "cell_type": "code",
   "execution_count": 48,
   "metadata": {},
   "outputs": [
    {
     "name": "stdout",
     "output_type": "stream",
     "text": [
      "\n",
      "\u001b[91mOptimal best alpha is : \u001b[0m\u001b[1m0.01\u001b[0m\n",
      "\n",
      "\u001b[1mConfusion Matrix for Train data\u001b[0m\n"
     ]
    },
    {
     "data": {
      "image/png": "[encoded data removed]",
      "text/plain": [
       "<Figure size 432x288 with 2 Axes>"
      ]
     },
     "metadata": {
      "needs_background": "light"
     },
     "output_type": "display_data"
    },
    {
     "name": "stdout",
     "output_type": "stream",
     "text": [
      "\n",
      "\u001b[1mConfusion Matrix for Test data\u001b[0m\n"
     ]
    },
    {
     "data": {
      "image/png": "[encoded data removed]",
      "text/plain": [
       "<Figure size 432x288 with 2 Axes>"
      ]
     },
     "metadata": {
      "needs_background": "light"
     },
     "output_type": "display_data"
    },
    {
     "data": {
      "image/png": "[encoded data removed]",
      "text/plain": [
       "<Figure size 432x288 with 1 Axes>"
      ]
     },
     "metadata": {
      "needs_background": "light"
     },
     "output_type": "display_data"
    },
    {
     "name": "stdout",
     "output_type": "stream",
     "text": [
      "\n",
      "\u001b[91mAUC (Train): \u001b[0m\u001b[1m0.8993507121366633\u001b[0m\n",
      "\n",
      "\u001b[91mAUC (Test): \u001b[0m\u001b[1m0.8242543858635415\u001b[0m\n",
      "\n",
      "\u001b[91mF1 SCORE (Train) : \u001b[0m\u001b[1m0.9305379955843224\u001b[0m\n",
      "\n",
      "\u001b[91mF1 SCORE (Test) : \u001b[0m\u001b[1m0.8942696835908757\u001b[0m\n",
      "\n",
      "\u001b[91mRECALL (Train): \u001b[0m\u001b[1m0.9577377252952144\u001b[0m\n",
      "\n",
      "\u001b[91mRECALL (Test): \u001b[0m\u001b[1m0.8797050307636627\u001b[0m\n",
      "\n",
      "\u001b[91mPRECISION  (Train) : \u001b[0m\u001b[1m0.9048405446071416\u001b[0m\n",
      "\n",
      "\u001b[91mPRECISION  (Test) : \u001b[0m\u001b[1m0.9093247287691733\u001b[0m\n"
     ]
    }
   ],
   "source": [
    "optimal_alpha = w2v_train.best_params_.get('alpha')\n",
    "\n",
    "print('\\n'+color.RED+'Optimal best alpha is : '+color.END+color.BOLD+str(optimal_alpha)+color.END)\n",
    "\n",
    "optimal_model = SGDClassifier(alpha=optimal_alpha,  average=False,\n",
    "       class_weight='balanced', early_stopping=False, epsilon=0.1,\n",
    "       eta0=0.0, fit_intercept=True, l1_ratio=0.15,\n",
    "       learning_rate='optimal', loss='hinge', max_iter=None, n_iter=None,\n",
    "       n_iter_no_change=5, n_jobs=-1, penalty='l1', power_t=0.5,\n",
    "       random_state=1, shuffle=True, tol=None, validation_fraction=0.1,\n",
    "       verbose=0, warm_start=False)\n",
    "\n",
    "# https://www.kaggle.com/mpearmain/calibrated-sgdclassifier\n",
    "\n",
    "model_calib_L1 = CalibratedClassifierCV(base_estimator=optimal_model, cv=5, method='isotonic')\n",
    "\n",
    "# fitting the model\n",
    "model_calib_L1.fit(final_w2v_train,y_train)\n",
    "\n",
    "# predict the response\n",
    "test_pred = model_calib_L1.predict(final_w2v_test)\n",
    "train_pred = model_calib_L1.predict(final_w2v_train)\n",
    "\n",
    "# plot confusion matrix\n",
    "\n",
    "print('\\n'+color.BOLD +'Confusion Matrix for Train data'+color.END)\n",
    "plotConfusionMatrix(y_train,train_pred)\n",
    "\n",
    "print('\\n'+color.BOLD +'Confusion Matrix for Test data'+color.END)\n",
    "plotConfusionMatrix(y_test,test_pred)\n",
    "\n",
    "# plot AUC\n",
    "train_auc,test_auc = plotAUC_ROC(model_calib_L1,final_w2v_train, y_train,final_w2v_test, y_test )\n",
    "print('\\n'+color.RED+'AUC (Train): '+color.END+color.BOLD+str(train_auc)+color.END)\n",
    "print('\\n'+color.RED+'AUC (Test): '+color.END+color.BOLD+str(test_auc)+color.END)\n",
    "\n",
    "# f1 score\n",
    "score = f1_score(y_test,test_pred)\n",
    "print('\\n'+color.RED+'F1 SCORE (Train) : '+color.END+color.BOLD+str(f1_score(y_train,train_pred))+color.END)\n",
    "print('\\n'+color.RED+'F1 SCORE (Test) : '+color.END+color.BOLD+str(score)+color.END)\n",
    "\n",
    "# recall\n",
    "recall = metrics.recall_score(y_test, test_pred)\n",
    "print('\\n'+color.RED+'RECALL (Train): '+color.END+color.BOLD+str(metrics.recall_score(y_train, train_pred))+color.END)\n",
    "print('\\n'+color.RED+'RECALL (Test): '+color.END+color.BOLD+str(recall)+color.END)\n",
    "\n",
    "# precision\n",
    "precision = metrics.precision_score(y_test, test_pred)\n",
    "print('\\n'+color.RED+'PRECISION  (Train) : '+color.END+color.BOLD+str(metrics.precision_score(y_train, train_pred))+color.END)\n",
    "print('\\n'+color.RED+'PRECISION  (Test) : '+color.END+color.BOLD+str(precision)+color.END)"
   ]
  },
  {
   "cell_type": "markdown",
   "metadata": {},
   "source": [
    "# Linear SVM L2 Regularization "
   ]
  },
  {
   "cell_type": "code",
   "execution_count": 49,
   "metadata": {},
   "outputs": [
    {
     "name": "stdout",
     "output_type": "stream",
     "text": [
      "\n",
      "\u001b[91mOptimal best alpha is : \u001b[0m\u001b[1m0.01\u001b[0m\n",
      "\n",
      "\u001b[1mConfusion Matrix for Train data\u001b[0m\n"
     ]
    },
    {
     "data": {
      "image/png": "[encoded data removed]",
      "text/plain": [
       "<Figure size 432x288 with 2 Axes>"
      ]
     },
     "metadata": {
      "needs_background": "light"
     },
     "output_type": "display_data"
    },
    {
     "name": "stdout",
     "output_type": "stream",
     "text": [
      "\n",
      "\u001b[1mConfusion Matrix for Test data\u001b[0m\n"
     ]
    },
    {
     "data": {
      "image/png": "[encoded data removed]",
      "text/plain": [
       "<Figure size 432x288 with 2 Axes>"
      ]
     },
     "metadata": {
      "needs_background": "light"
     },
     "output_type": "display_data"
    },
    {
     "data": {
      "image/png": "[encoded data removed]",
      "text/plain": [
       "<Figure size 432x288 with 1 Axes>"
      ]
     },
     "metadata": {
      "needs_background": "light"
     },
     "output_type": "display_data"
    },
    {
     "name": "stdout",
     "output_type": "stream",
     "text": [
      "\n",
      "\u001b[91mAUC (Train): \u001b[0m\u001b[1m0.905622039847382\u001b[0m\n",
      "\n",
      "\u001b[91mAUC (Test): \u001b[0m\u001b[1m0.8359704273613581\u001b[0m\n",
      "\n",
      "\u001b[91mF1 SCORE (Train) : \u001b[0m\u001b[1m0.9327075921580501\u001b[0m\n",
      "\n",
      "\u001b[91mF1 SCORE (Test) : \u001b[0m\u001b[1m0.8916478028517422\u001b[0m\n",
      "\n",
      "\u001b[91mRECALL (Train): \u001b[0m\u001b[1m0.9572715972653822\u001b[0m\n",
      "\n",
      "\u001b[91mRECALL (Test): \u001b[0m\u001b[1m0.8642779587404995\u001b[0m\n",
      "\n",
      "\u001b[91mPRECISION  (Train) : \u001b[0m\u001b[1m0.9093726937269373\u001b[0m\n",
      "\n",
      "\u001b[91mPRECISION  (Test) : \u001b[0m\u001b[1m0.9208078276377307\u001b[0m\n"
     ]
    }
   ],
   "source": [
    "optimal_alpha = w2v_train.best_params_.get('alpha')\n",
    "\n",
    "print('\\n'+color.RED+'Optimal best alpha is : '+color.END+color.BOLD+str(optimal_alpha)+color.END)\n",
    "\n",
    "optimal_model = SGDClassifier(alpha=optimal_alpha,  average=False,\n",
    "       class_weight='balanced', early_stopping=False, epsilon=0.1,\n",
    "       eta0=0.0, fit_intercept=True, l1_ratio=0.15,\n",
    "       learning_rate='optimal', loss='hinge', max_iter=None, n_iter=None,\n",
    "       n_iter_no_change=5, n_jobs=-1, penalty='l2', power_t=0.5,\n",
    "       random_state=1, shuffle=True, tol=None, validation_fraction=0.1,\n",
    "       verbose=0, warm_start=False)\n",
    "\n",
    "# https://www.kaggle.com/mpearmain/calibrated-sgdclassifier\n",
    "\n",
    "model_calib_L2 = CalibratedClassifierCV(base_estimator=optimal_model, cv=5, method='isotonic')\n",
    "\n",
    "# fitting the model\n",
    "model_calib_L2.fit(final_w2v_train,y_train)\n",
    "\n",
    "# predict the response\n",
    "test_pred = model_calib_L2.predict(final_w2v_test)\n",
    "train_pred = model_calib_L2.predict(final_w2v_train)\n",
    "\n",
    "# plot confusion matrix\n",
    "\n",
    "print('\\n'+color.BOLD +'Confusion Matrix for Train data'+color.END)\n",
    "plotConfusionMatrix(y_train,train_pred)\n",
    "\n",
    "print('\\n'+color.BOLD +'Confusion Matrix for Test data'+color.END)\n",
    "plotConfusionMatrix(y_test,test_pred)\n",
    "\n",
    "# plot AUC\n",
    "train_auc,test_auc = plotAUC_ROC(model_calib_L2,final_w2v_train, y_train,final_w2v_test, y_test )\n",
    "print('\\n'+color.RED+'AUC (Train): '+color.END+color.BOLD+str(train_auc)+color.END)\n",
    "print('\\n'+color.RED+'AUC (Test): '+color.END+color.BOLD+str(test_auc)+color.END)\n",
    "\n",
    "# f1 score\n",
    "score = f1_score(y_test,test_pred)\n",
    "print('\\n'+color.RED+'F1 SCORE (Train) : '+color.END+color.BOLD+str(f1_score(y_train,train_pred))+color.END)\n",
    "print('\\n'+color.RED+'F1 SCORE (Test) : '+color.END+color.BOLD+str(score)+color.END)\n",
    "\n",
    "# recall\n",
    "recall = metrics.recall_score(y_test, test_pred)\n",
    "print('\\n'+color.RED+'RECALL (Train): '+color.END+color.BOLD+str(metrics.recall_score(y_train, train_pred))+color.END)\n",
    "print('\\n'+color.RED+'RECALL (Test): '+color.END+color.BOLD+str(recall)+color.END)\n",
    "\n",
    "# precision\n",
    "precision = metrics.precision_score(y_test, test_pred)\n",
    "print('\\n'+color.RED+'PRECISION  (Train) : '+color.END+color.BOLD+str(metrics.precision_score(y_train, train_pred))+color.END)\n",
    "print('\\n'+color.RED+'PRECISION  (Test) : '+color.END+color.BOLD+str(precision)+color.END)"
   ]
  },
  {
   "cell_type": "markdown",
   "metadata": {},
   "source": [
    "## [4.4.1.2] TFIDF weighted W2v"
   ]
  },
  {
   "cell_type": "code",
   "execution_count": 50,
   "metadata": {},
   "outputs": [
    {
     "name": "stdout",
     "output_type": "stream",
     "text": [
      "(61441,) (26332,) (61441,) (26332,)\n"
     ]
    }
   ],
   "source": [
    "X = final['preprocessed_reviews']\n",
    "y = final['Score']\n",
    "\n",
    "# split the data set into train and test\n",
    "X_train, x_test, y_train, y_test = model_selection.train_test_split(X, y, test_size=0.3,random_state=0)\n",
    "\n",
    "print(X_train.shape, x_test.shape, y_train.shape, y_test.shape)"
   ]
  },
  {
   "cell_type": "code",
   "execution_count": 51,
   "metadata": {
    "scrolled": true
   },
   "outputs": [
    {
     "name": "stderr",
     "output_type": "stream",
     "text": [
      "  0%|          | 8/61441 [00:00<36:35, 27.99it/s]"
     ]
    },
    {
     "name": "stdout",
     "output_type": "stream",
     "text": [
      "not exist\n"
     ]
    },
    {
     "name": "stderr",
     "output_type": "stream",
     "text": [
      "100%|██████████| 61441/61441 [51:00<00:00, 20.07it/s]  \n",
      "  0%|          | 8/26332 [00:00<11:45, 37.34it/s]"
     ]
    },
    {
     "name": "stdout",
     "output_type": "stream",
     "text": [
      "not exist\n"
     ]
    },
    {
     "name": "stderr",
     "output_type": "stream",
     "text": [
      "100%|██████████| 26332/26332 [20:32<00:00, 22.96it/s]\n"
     ]
    }
   ],
   "source": [
    "# we are converting a dictionary with word as a key, and the idf as a value\n",
    "dictionary = dict(zip(tf_idf_vect.get_feature_names(), list(tf_idf_vect.idf_)))\n",
    "\n",
    "# TF-IDF weighted Word2Vec\n",
    "\n",
    "# Train data operation\n",
    "\n",
    "# store model to hard disk if exist then load model directly from memory\n",
    "exists = os.path.isfile(w2v_tf_idf_trained_model_100000)\n",
    "exists = False\n",
    "if exists:\n",
    "    print(\"yes exist\")\n",
    "    final_tfidf_w2v_tr = load(w2v_tf_idf_trained_model_100000)\n",
    "else:   \n",
    "    print(\"not exist\")\n",
    "    tfidf_feat = tf_idf_vect.get_feature_names() # tfidf words/col-names\n",
    "    # final_tf_idf is the sparse matrix with row= sentence, col=word and cell_val = tfidf\n",
    "\n",
    "    final_tfidf_w2v_tr = []; # the tfidf-w2v for each sentence/review is stored in this list\n",
    "    row=0;\n",
    "    for sent in tqdm(list_of_sentance): # for each review/sentence \n",
    "        sent_vec = np.zeros(50) # as word vectors are of zero length\n",
    "        weight_sum =0; # num of words with a valid vector in the sentence/review\n",
    "        for word in sent: # for each word in a review/sentence\n",
    "            if word in w2v_train_words and word in tfidf_feat:\n",
    "                vec = w2v_model_tr.wv[word]\n",
    "    #             tf_idf = tf_idf_matrix[row, tfidf_feat.index(word)]\n",
    "                # to reduce the computation we are \n",
    "                # dictionary[word] = idf value of word in whole courpus\n",
    "                # sent.count(word) = tf valeus of word in this review\n",
    "                tf_idf = dictionary[word]*(sent.count(word)/len(sent))\n",
    "                sent_vec += (vec * tf_idf)\n",
    "                weight_sum += tf_idf\n",
    "        if weight_sum != 0:\n",
    "            sent_vec /= weight_sum\n",
    "        final_tfidf_w2v_tr.append(sent_vec)\n",
    "        row += 1\n",
    "    dump(final_tfidf_w2v_tr,w2v_tf_idf_trained_model_100000)\n",
    "    \n",
    "    \n",
    "# Test data operation ============\n",
    "\n",
    "# store model to hard disk if exist then load model directly from memory\n",
    "exists = os.path.isfile(w2v_tf_idf_test_model_100000)\n",
    "exists = False\n",
    "if exists:\n",
    "    print(\"yes exist\")\n",
    "    final_tfidf_w2v_test = load(w2v_tf_idf_test_model_100000) \n",
    "\n",
    "else:   \n",
    "    print(\"not exist\")\n",
    "    # final_tf_idf is the sparse matrix with row= sentence, col=word and cell_val = tfidf\n",
    "    final_tfidf_w2v_test = []; # the tfidf-w2v for each sentence/review is stored in this list\n",
    "    row=0;\n",
    "    for sent in tqdm(list_of_test_sentence): # for each review/sentence \n",
    "        sent_vec = np.zeros(50) # as word vectors are of zero length\n",
    "        weight_sum =0; # num of words with a valid vector in the sentence/review\n",
    "        for word in sent: # for each word in a review/sentence\n",
    "            if word in w2v_test_words and word in tfidf_feat:\n",
    "                vec = w2v_model_test.wv[word]\n",
    "    #             tf_idf = tf_idf_matrix[row, tfidf_feat.index(word)]\n",
    "                # to reduce the computation we are \n",
    "                # dictionary[word] = idf value of word in whole courpus\n",
    "                # sent.count(word) = tf valeus of word in this review\n",
    "                tf_idf = dictionary[word]*(sent.count(word)/len(sent))\n",
    "                sent_vec += (vec * tf_idf)\n",
    "                weight_sum += tf_idf\n",
    "        if weight_sum != 0:\n",
    "            sent_vec /= weight_sum\n",
    "        final_tfidf_w2v_test.append(sent_vec)\n",
    "        row += 1\n",
    "    dump(final_tfidf_w2v_test,w2v_tf_idf_test_model_100000)\n",
    "        "
   ]
  },
  {
   "cell_type": "markdown",
   "metadata": {},
   "source": [
    "### Hyper parameter tunig using GridSearch"
   ]
  },
  {
   "cell_type": "code",
   "execution_count": 52,
   "metadata": {},
   "outputs": [
    {
     "name": "stdout",
     "output_type": "stream",
     "text": [
      "Fitting 10 folds for each of 21 candidates, totalling 210 fits\n"
     ]
    },
    {
     "name": "stderr",
     "output_type": "stream",
     "text": [
      "[Parallel(n_jobs=-1)]: Using backend LokyBackend with 4 concurrent workers.\n",
      "[Parallel(n_jobs=-1)]: Done   5 tasks      | elapsed:    8.7s\n",
      "[Parallel(n_jobs=-1)]: Done  10 tasks      | elapsed:   16.2s\n",
      "[Parallel(n_jobs=-1)]: Done  17 tasks      | elapsed:   26.9s\n",
      "[Parallel(n_jobs=-1)]: Done  24 tasks      | elapsed:   37.2s\n",
      "[Parallel(n_jobs=-1)]: Done  33 tasks      | elapsed:   50.9s\n",
      "[Parallel(n_jobs=-1)]: Done  42 tasks      | elapsed:  1.1min\n",
      "[Parallel(n_jobs=-1)]: Done  53 tasks      | elapsed:  1.3min\n",
      "[Parallel(n_jobs=-1)]: Done  64 tasks      | elapsed:  1.6min\n",
      "[Parallel(n_jobs=-1)]: Done  77 tasks      | elapsed:  2.0min\n",
      "[Parallel(n_jobs=-1)]: Done  90 tasks      | elapsed:  2.3min\n",
      "[Parallel(n_jobs=-1)]: Done 105 tasks      | elapsed:  2.7min\n",
      "[Parallel(n_jobs=-1)]: Done 120 tasks      | elapsed:  3.0min\n",
      "[Parallel(n_jobs=-1)]: Done 137 tasks      | elapsed:  3.5min\n",
      "[Parallel(n_jobs=-1)]: Done 154 tasks      | elapsed:  3.9min\n",
      "[Parallel(n_jobs=-1)]: Done 173 tasks      | elapsed:  4.4min\n",
      "[Parallel(n_jobs=-1)]: Done 192 tasks      | elapsed:  4.8min\n",
      "[Parallel(n_jobs=-1)]: Done 210 out of 210 | elapsed:  5.3min finished\n",
      "/home/pranay/anaconda3/lib/python3.7/site-packages/matplotlib/cbook/__init__.py:424: MatplotlibDeprecationWarning: \n",
      "Passing one of 'on', 'true', 'off', 'false' as a boolean is deprecated; use an actual boolean (True/False) instead.\n",
      "  warn_deprecated(\"2.2\", \"Passing one of 'on', 'true', 'off', 'false' as a \"\n"
     ]
    },
    {
     "name": "stdout",
     "output_type": "stream",
     "text": [
      "=======Training========\n",
      "0.878357148358366\n",
      "{'alpha': 0.01}\n",
      "SGDClassifier(alpha=0.01, average=False, class_weight='balanced',\n",
      "       early_stopping=False, epsilon=0.1, eta0=0.0, fit_intercept=True,\n",
      "       l1_ratio=0.15, learning_rate='optimal', loss='hinge', max_iter=None,\n",
      "       n_iter=None, n_iter_no_change=5, n_jobs=-1, penalty='l2',\n",
      "       power_t=0.5, random_state=1, shuffle=True, tol=None,\n",
      "       validation_fraction=0.1, verbose=0, warm_start=False)\n"
     ]
    },
    {
     "data": {
      "image/png": "[encoded data removed]",
      "text/plain": [
       "<Figure size 432x288 with 1 Axes>"
      ]
     },
     "metadata": {
      "needs_background": "light"
     },
     "output_type": "display_data"
    }
   ],
   "source": [
    "w2v_tfidf_train = finding_best_alpha (final_tfidf_w2v_tr,y_train, 'gridsearch','SGDClassifier','l2')\n",
    "\n",
    "# view the complete results (list of named tuples)\n",
    "print(\"=======Training========\")\n",
    "print (w2v_tfidf_train.best_score_)\n",
    "print (w2v_tfidf_train.best_params_)\n",
    "print (w2v_tfidf_train.best_estimator_)\n",
    "\n",
    "plotAccuracyGraph(w2v_tfidf_train) "
   ]
  },
  {
   "cell_type": "markdown",
   "metadata": {},
   "source": [
    "# Linear SVM L1 Regularization"
   ]
  },
  {
   "cell_type": "code",
   "execution_count": 53,
   "metadata": {},
   "outputs": [
    {
     "name": "stdout",
     "output_type": "stream",
     "text": [
      "\n",
      "\u001b[91mOptimal best alpha is : \u001b[0m\u001b[1m0.01\u001b[0m\n",
      "\n",
      "\u001b[1mConfusion Matrix for Train data\u001b[0m\n"
     ]
    },
    {
     "data": {
      "image/png": "[encoded data removed]",
      "text/plain": [
       "<Figure size 432x288 with 2 Axes>"
      ]
     },
     "metadata": {
      "needs_background": "light"
     },
     "output_type": "display_data"
    },
    {
     "name": "stdout",
     "output_type": "stream",
     "text": [
      "\n",
      "\u001b[1mConfusion Matrix for Test data\u001b[0m\n"
     ]
    },
    {
     "data": {
      "image/png": "[encoded data removed]",
      "text/plain": [
       "<Figure size 432x288 with 2 Axes>"
      ]
     },
     "metadata": {
      "needs_background": "light"
     },
     "output_type": "display_data"
    },
    {
     "data": {
      "image/png": "[encoded data removed]",
      "text/plain": [
       "<Figure size 432x288 with 1 Axes>"
      ]
     },
     "metadata": {
      "needs_background": "light"
     },
     "output_type": "display_data"
    },
    {
     "name": "stdout",
     "output_type": "stream",
     "text": [
      "\n",
      "\u001b[91mAUC (Train): \u001b[0m\u001b[1m0.8701016563507279\u001b[0m\n",
      "\n",
      "\u001b[91mAUC (Test): \u001b[0m\u001b[1m0.8147653564503365\u001b[0m\n",
      "\n",
      "\u001b[91mF1 SCORE (Train) : \u001b[0m\u001b[1m0.9247042553589115\u001b[0m\n",
      "\n",
      "\u001b[91mF1 SCORE (Test) : \u001b[0m\u001b[1m0.9017170452512968\u001b[0m\n",
      "\n",
      "\u001b[91mRECALL (Train): \u001b[0m\u001b[1m0.9610006215040398\u001b[0m\n",
      "\n",
      "\u001b[91mRECALL (Test): \u001b[0m\u001b[1m0.9123235613463626\u001b[0m\n",
      "\n",
      "\u001b[91mPRECISION  (Train) : \u001b[0m\u001b[1m0.8910498829461553\u001b[0m\n",
      "\n",
      "\u001b[91mPRECISION  (Test) : \u001b[0m\u001b[1m0.8913543140028288\u001b[0m\n"
     ]
    }
   ],
   "source": [
    "optimal_alpha = w2v_train.best_params_.get('alpha')\n",
    "\n",
    "print('\\n'+color.RED+'Optimal best alpha is : '+color.END+color.BOLD+str(optimal_alpha)+color.END)\n",
    "\n",
    "optimal_model = SGDClassifier(alpha=optimal_alpha,  average=False,\n",
    "       class_weight='balanced', early_stopping=False, epsilon=0.1,\n",
    "       eta0=0.0, fit_intercept=True, l1_ratio=0.15,\n",
    "       learning_rate='optimal', loss='hinge', max_iter=None, n_iter=None,\n",
    "       n_iter_no_change=5, n_jobs=-1, penalty='l1', power_t=0.5,\n",
    "       random_state=1, shuffle=True, tol=None, validation_fraction=0.1,\n",
    "       verbose=0, warm_start=False)\n",
    "\n",
    "# https://www.kaggle.com/mpearmain/calibrated-sgdclassifier\n",
    "\n",
    "model_calib_L1 = CalibratedClassifierCV(base_estimator=optimal_model, cv=5, method='isotonic')\n",
    "\n",
    "# fitting the model\n",
    "model_calib_L1.fit(final_tfidf_w2v_tr,y_train)\n",
    "\n",
    "# predict the response\n",
    "test_pred = model_calib_L1.predict(final_tfidf_w2v_test)\n",
    "train_pred = model_calib_L1.predict(final_tfidf_w2v_tr)\n",
    "\n",
    "# plot confusion matrix\n",
    "\n",
    "print('\\n'+color.BOLD +'Confusion Matrix for Train data'+color.END)\n",
    "plotConfusionMatrix(y_train,train_pred)\n",
    "\n",
    "print('\\n'+color.BOLD +'Confusion Matrix for Test data'+color.END)\n",
    "plotConfusionMatrix(y_test,test_pred)\n",
    "\n",
    "# plot AUC\n",
    "train_auc,test_auc = plotAUC_ROC(model_calib_L1,final_tfidf_w2v_tr, y_train,final_tfidf_w2v_test, y_test )\n",
    "print('\\n'+color.RED+'AUC (Train): '+color.END+color.BOLD+str(train_auc)+color.END)\n",
    "print('\\n'+color.RED+'AUC (Test): '+color.END+color.BOLD+str(test_auc)+color.END)\n",
    "\n",
    "# f1 score\n",
    "score = f1_score(y_test,test_pred)\n",
    "print('\\n'+color.RED+'F1 SCORE (Train) : '+color.END+color.BOLD+str(f1_score(y_train,train_pred))+color.END)\n",
    "print('\\n'+color.RED+'F1 SCORE (Test) : '+color.END+color.BOLD+str(score)+color.END)\n",
    "\n",
    "# recall\n",
    "recall = metrics.recall_score(y_test, test_pred)\n",
    "print('\\n'+color.RED+'RECALL (Train): '+color.END+color.BOLD+str(metrics.recall_score(y_train, train_pred))+color.END)\n",
    "print('\\n'+color.RED+'RECALL (Test): '+color.END+color.BOLD+str(recall)+color.END)\n",
    "\n",
    "# precision\n",
    "precision = metrics.precision_score(y_test, test_pred)\n",
    "print('\\n'+color.RED+'PRECISION  (Train) : '+color.END+color.BOLD+str(metrics.precision_score(y_train, train_pred))+color.END)\n",
    "print('\\n'+color.RED+'PRECISION  (Test) : '+color.END+color.BOLD+str(precision)+color.END)"
   ]
  },
  {
   "cell_type": "markdown",
   "metadata": {},
   "source": [
    "# Linear SVM L2 Regularization"
   ]
  },
  {
   "cell_type": "code",
   "execution_count": 54,
   "metadata": {},
   "outputs": [
    {
     "name": "stdout",
     "output_type": "stream",
     "text": [
      "\n",
      "\u001b[91mOptimal best alpha is : \u001b[0m\u001b[1m0.01\u001b[0m\n",
      "\n",
      "\u001b[1mConfusion Matrix for Train data\u001b[0m\n"
     ]
    },
    {
     "data": {
      "image/png": "[encoded data removed]",
      "text/plain": [
       "<Figure size 432x288 with 2 Axes>"
      ]
     },
     "metadata": {
      "needs_background": "light"
     },
     "output_type": "display_data"
    },
    {
     "name": "stdout",
     "output_type": "stream",
     "text": [
      "\n",
      "\u001b[1mConfusion Matrix for Test data\u001b[0m\n"
     ]
    },
    {
     "data": {
      "image/png": "[encoded data removed]",
      "text/plain": [
       "<Figure size 432x288 with 2 Axes>"
      ]
     },
     "metadata": {
      "needs_background": "light"
     },
     "output_type": "display_data"
    },
    {
     "data": {
      "image/png": "[encoded data removed]",
      "text/plain": [
       "<Figure size 432x288 with 1 Axes>"
      ]
     },
     "metadata": {
      "needs_background": "light"
     },
     "output_type": "display_data"
    },
    {
     "name": "stdout",
     "output_type": "stream",
     "text": [
      "\n",
      "\u001b[91mAUC (Train): \u001b[0m\u001b[1m0.8802931997838566\u001b[0m\n",
      "\n",
      "\u001b[91mAUC (Test): \u001b[0m\u001b[1m0.8122125750858332\u001b[0m\n",
      "\n",
      "\u001b[91mF1 SCORE (Train) : \u001b[0m\u001b[1m0.9269590560804776\u001b[0m\n",
      "\n",
      "\u001b[91mF1 SCORE (Test) : \u001b[0m\u001b[1m0.8823215322112595\u001b[0m\n",
      "\n",
      "\u001b[91mRECALL (Train): \u001b[0m\u001b[1m0.9574658172778123\u001b[0m\n",
      "\n",
      "\u001b[91mRECALL (Test): \u001b[0m\u001b[1m0.8597086500180963\u001b[0m\n",
      "\n",
      "\u001b[91mPRECISION  (Train) : \u001b[0m\u001b[1m0.8983362793155603\u001b[0m\n",
      "\n",
      "\u001b[91mPRECISION  (Test) : \u001b[0m\u001b[1m0.906156120356683\u001b[0m\n"
     ]
    }
   ],
   "source": [
    "optimal_alpha = w2v_train.best_params_.get('alpha')\n",
    "\n",
    "print('\\n'+color.RED+'Optimal best alpha is : '+color.END+color.BOLD+str(optimal_alpha)+color.END)\n",
    "\n",
    "optimal_model = SGDClassifier(alpha=optimal_alpha,  average=False,\n",
    "       class_weight='balanced', early_stopping=False, epsilon=0.1,\n",
    "       eta0=0.0, fit_intercept=True, l1_ratio=0.15,\n",
    "       learning_rate='optimal', loss='hinge', max_iter=None, n_iter=None,\n",
    "       n_iter_no_change=5, n_jobs=-1, penalty='l2', power_t=0.5,\n",
    "       random_state=1, shuffle=True, tol=None, validation_fraction=0.1,\n",
    "       verbose=0, warm_start=False)\n",
    "\n",
    "# https://www.kaggle.com/mpearmain/calibrated-sgdclassifier\n",
    "\n",
    "model_calib_L2 = CalibratedClassifierCV(base_estimator=optimal_model, cv=5, method='isotonic')\n",
    "\n",
    "# fitting the model\n",
    "model_calib_L2.fit(final_tfidf_w2v_tr,y_train)\n",
    "\n",
    "# predict the response\n",
    "test_pred = model_calib_L2.predict(final_tfidf_w2v_test)\n",
    "train_pred = model_calib_L2.predict(final_tfidf_w2v_tr)\n",
    "\n",
    "# plot confusion matrix\n",
    "\n",
    "print('\\n'+color.BOLD +'Confusion Matrix for Train data'+color.END)\n",
    "plotConfusionMatrix(y_train,train_pred)\n",
    "\n",
    "print('\\n'+color.BOLD +'Confusion Matrix for Test data'+color.END)\n",
    "plotConfusionMatrix(y_test,test_pred)\n",
    "\n",
    "# plot AUC\n",
    "train_auc,test_auc = plotAUC_ROC(model_calib_L2,final_tfidf_w2v_tr, y_train,final_tfidf_w2v_test, y_test )\n",
    "print('\\n'+color.RED+'AUC (Train): '+color.END+color.BOLD+str(train_auc)+color.END)\n",
    "print('\\n'+color.RED+'AUC (Test): '+color.END+color.BOLD+str(test_auc)+color.END)\n",
    "\n",
    "# f1 score\n",
    "score = f1_score(y_test,test_pred)\n",
    "print('\\n'+color.RED+'F1 SCORE (Train) : '+color.END+color.BOLD+str(f1_score(y_train,train_pred))+color.END)\n",
    "print('\\n'+color.RED+'F1 SCORE (Test) : '+color.END+color.BOLD+str(score)+color.END)\n",
    "\n",
    "# recall\n",
    "recall = metrics.recall_score(y_test, test_pred)\n",
    "print('\\n'+color.RED+'RECALL (Train): '+color.END+color.BOLD+str(metrics.recall_score(y_train, train_pred))+color.END)\n",
    "print('\\n'+color.RED+'RECALL (Test): '+color.END+color.BOLD+str(recall)+color.END)\n",
    "\n",
    "# precision\n",
    "precision = metrics.precision_score(y_test, test_pred)\n",
    "print('\\n'+color.RED+'PRECISION  (Train) : '+color.END+color.BOLD+str(metrics.precision_score(y_train, train_pred))+color.END)\n",
    "print('\\n'+color.RED+'PRECISION  (Test) : '+color.END+color.BOLD+str(precision)+color.END)"
   ]
  },
  {
   "cell_type": "markdown",
   "metadata": {},
   "source": [
    "# [6] Conclusions"
   ]
  },
  {
   "cell_type": "code",
   "execution_count": 58,
   "metadata": {},
   "outputs": [
    {
     "name": "stdout",
     "output_type": "stream",
     "text": [
      "\u001b[1m\t\t\t\t Linear SVM  \u001b[0m\n",
      "\n",
      "\n",
      "\u001b[1mFor BOW and TFIDF, We have considered 100k points\u001b[0m\n",
      "\u001b[1mFor BOW- Additional Feature and TFIDF- Additional Feature, We have considered 50k points\u001b[0m\n",
      "\n",
      "\n",
      "+------------------+---------+---------+-------------------+----------+----------+---------------------+\n",
      "|      Metric      |  BOW L1 |  BOW L2 | BOW-Extra-Feature | TFIDF L1 | TFIDF L2 | TFIDF-Extra-Feature |\n",
      "+------------------+---------+---------+-------------------+----------+----------+---------------------+\n",
      "|   Alpha Value    |  0.001  |  0.001  |       0.001       |  0.0001  |  0.0001  |        0.0001       |\n",
      "|    AUC Train     | 0.93048 | 0.98541 |      0.95718      | 0.95727  |  0.9823  |       0.76557       |\n",
      "|    AUC Test      | 0.92056 | 0.95526 |      0.93812      | 0.94694  |  0.9618  |       0.764418      |\n",
      "| F1 SCORE Train   | 0.94162 | 0.97515 |      0.95743      |  0.956   |  0.9719  |        0.9185       |\n",
      "|  F1 SCORE Test   | 0.94083 |  0.9555 |      0.95184      |  0.9515  |  0.9573  |       0.92088       |\n",
      "|  RECALL Train    | 0.98042 | 0.97572 |      0.97813      |  0.9696  | 0.97152  |        0.9185       |\n",
      "|   RECALL Test    |  0.978  | 0.96353 |      0.97299      | 0.96557  | 0.96435  |        0.9911       |\n",
      "| PRECISION Train  | 0.90577 |  0.9745 |       0.9376      | 0.94279  | 0.97228  |        0.8557       |\n",
      "| PRECISION Test   | 0.90633 |  0.9477 |      0.93159      |  0.9379  |  0.9505  |        0.8591       |\n",
      "+------------------+---------+---------+-------------------+----------+----------+---------------------+\n",
      "\n",
      "\n",
      "+------------------+---------+----------+--------------+--------------+\n",
      "|      Metric      |  W2V L1 |  W2V L2  | W2V TFIDF L1 | W2V TFIDF L2 |\n",
      "+------------------+---------+----------+--------------+--------------+\n",
      "|   Alpha Value    |   0.01  |   0.25   |     0.01     |     0.01     |\n",
      "|    AUC Train     | 0.89935 | 0.905622 |    0.8701    |    0.8802    |\n",
      "|    AUC Test      | 0.82425 |  0.8359  |    0.8147    |   0.81221    |\n",
      "| F1 SCORE Train   |  0.9305 |  0.9327  |    0.9247    |    0.9269    |\n",
      "|  F1 SCORE Test   |  0.8942 | 0.89164  |   0.90131    |   0.88232    |\n",
      "|  RECALL Train    |  0.9577 | 0.95727  |    0.961     |   0.95746    |\n",
      "|   RECALL Test    |  0.8797 |  0.8642  |    0.9123    |    0.8597    |\n",
      "| PRECISION Train  | 0.90484 |  0.9093  |   0.89104    |    0.8983    |\n",
      "| PRECISION Test   |  0.9093 |  0.9208  |    0.8913    |   0.90615    |\n",
      "+------------------+---------+----------+--------------+--------------+\n"
     ]
    }
   ],
   "source": [
    "import pandas as pd\n",
    "from prettytable import PrettyTable\n",
    "\n",
    "print(color.BOLD+'\\t\\t\\t\\t Linear SVM  '+color.END)\n",
    "print('\\n')\n",
    "\n",
    "print(color.BOLD+'For BOW and TFIDF, We have considered 100k points'+color.END)\n",
    "print(color.BOLD+'For BOW- Additional Feature and TFIDF- Additional Feature, We have considered 50k points'+color.END)\n",
    "\n",
    "\n",
    "x = PrettyTable()\n",
    "x.field_names =  ['Metric','BOW L1','BOW L2','BOW-Extra-Feature','TFIDF L1', 'TFIDF L2', 'TFIDF-Extra-Feature']\n",
    "\n",
    "x.add_row([\"Alpha Value \", 0.001,0.001,0.001,0.0001,0.0001,0.0001])\n",
    "\n",
    "x.add_row([\"AUC Train \", 0.93048,0.98541,0.95718,0.95727, 0.9823,0.76557])\n",
    "x.add_row([\"AUC Test \", 0.92056,0.95526,0.93812,0.94694,0.9618,0.764418])\n",
    "\n",
    "x.add_row([\"F1 SCORE Train \", 0.94162,0.97515,0.95743,0.9560,0.9719,0.91850])\n",
    "x.add_row([\"F1 SCORE Test \", 0.94083,0.9555,0.95184,0.9515,0.9573,0.92088])\n",
    "\n",
    "x.add_row([\"RECALL Train \",0.98042,0.97572,0.97813,0.96960,0.97152,0.91850])\n",
    "x.add_row([\"RECALL Test \", 0.9780,0.96353,0.97299,0.96557,0.96435,0.9911])\n",
    "\n",
    "x.add_row([\"PRECISION Train \", 0.90577,0.9745,0.9376,0.94279,0.97228,0.8557])\n",
    "x.add_row([\"PRECISION Test \",0.90633,0.9477,0.93159,0.9379,0.9505,0.8591])\n",
    "\n",
    "\n",
    "print('\\n')\n",
    "print(x)\n",
    "\n",
    "\n",
    "x1 = PrettyTable()\n",
    "x1.field_names =  ['Metric','W2V L1','W2V L2','W2V TFIDF L1', 'W2V TFIDF L2']\n",
    "\n",
    "x1.add_row([\"Alpha Value \", 0.01,0.25,0.01,0.01])\n",
    "\n",
    "x1.add_row([\"AUC Train \", 0.89935,0.905622,0.87010,0.8802])\n",
    "x1.add_row([\"AUC Test \", 0.82425,0.8359,0.8147,0.81221])\n",
    "\n",
    "x1.add_row([\"F1 SCORE Train \", 0.9305,0.9327,0.9247,0.9269])\n",
    "x1.add_row([\"F1 SCORE Test \", 0.8942,0.89164,0.90131,0.88232])\n",
    "\n",
    "x1.add_row([\"RECALL Train \",0.9577,0.95727,0.96100,0.95746])\n",
    "x1.add_row([\"RECALL Test \", 0.8797,0.8642,0.9123,0.8597])\n",
    "\n",
    "x1.add_row([\"PRECISION Train \", 0.90484,0.9093,0.89104,0.8983])\n",
    "x1.add_row([\"PRECISION Test \",0.9093,0.9208,0.8913,0.90615])\n",
    "\n",
    "print('\\n')\n",
    "print(x1)"
   ]
  },
  {
   "cell_type": "code",
   "execution_count": null,
   "metadata": {},
   "outputs": [],
   "source": []
  }
 ],
 "metadata": {
  "kernelspec": {
   "display_name": "Python 3",
   "language": "python",
   "name": "python3"
  },
  "language_info": {
   "codemirror_mode": {
    "name": "ipython",
    "version": 3
   },
   "file_extension": ".py",
   "mimetype": "text/x-python",
   "name": "python",
   "nbconvert_exporter": "python",
   "pygments_lexer": "ipython3",
   "version": "3.7.1"
  }
 },
 "nbformat": 4,
 "nbformat_minor": 2
}
